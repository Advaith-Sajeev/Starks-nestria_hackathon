{
 "cells": [
  {
   "cell_type": "code",
   "execution_count": 8,
   "metadata": {},
   "outputs": [
    {
     "name": "stderr",
     "output_type": "stream",
     "text": [
      "Processing 500 videos:   0%|          | 0/500 [00:00<?, ?it/s]"
     ]
    },
    {
     "name": "stdout",
     "output_type": "stream",
     "text": [
      "C:\\Users\\mahes\\ML\\dataset\\data unziped\\dfdc_train_part_0\\wynotylpnm.mp4\n",
      "C:\\Users\\mahes\\ML\\dataset\\data unziped\\dfdc_train_part_0\\wynotylpnm.mp4\n",
      "C:\\Users\\mahes\\ML\\dataset\\data unziped\\dfdc_train_part_0\\wynotylpnm.mp4\n",
      "C:\\Users\\mahes\\ML\\dataset\\data unziped\\dfdc_train_part_0\\wynotylpnm.mp4\n",
      "C:\\Users\\mahes\\ML\\dataset\\data unziped\\dfdc_train_part_0\\wynotylpnm.mp4\n",
      "C:\\Users\\mahes\\ML\\dataset\\data unziped\\dfdc_train_part_0\\wynotylpnm.mp4\n",
      "C:\\Users\\mahes\\ML\\dataset\\data unziped\\dfdc_train_part_0\\wynotylpnm.mp4\n",
      "C:\\Users\\mahes\\ML\\dataset\\data unziped\\dfdc_train_part_0\\wynotylpnm.mp4\n",
      "C:\\Users\\mahes\\ML\\dataset\\data unziped\\dfdc_train_part_0\\wynotylpnm.mp4\n",
      "C:\\Users\\mahes\\ML\\dataset\\data unziped\\dfdc_train_part_0\\wynotylpnm.mp4\n"
     ]
    },
    {
     "name": "stderr",
     "output_type": "stream",
     "text": [
      "Processing 500 videos:   0%|          | 1/500 [00:50<6:57:23, 50.19s/it]"
     ]
    },
    {
     "name": "stdout",
     "output_type": "stream",
     "text": [
      "C:\\Users\\mahes\\ML\\dataset\\data unziped\\dfdc_train_part_0\\REAL\n",
      "C:\\Users\\mahes\\ML\\dataset\\data unziped\\dfdc_train_part_0\\REAL\n",
      "C:\\Users\\mahes\\ML\\dataset\\data unziped\\dfdc_train_part_0\\REAL\n",
      "C:\\Users\\mahes\\ML\\dataset\\data unziped\\dfdc_train_part_0\\REAL\n",
      "C:\\Users\\mahes\\ML\\dataset\\data unziped\\dfdc_train_part_0\\REAL\n",
      "C:\\Users\\mahes\\ML\\dataset\\data unziped\\dfdc_train_part_0\\REAL\n",
      "C:\\Users\\mahes\\ML\\dataset\\data unziped\\dfdc_train_part_0\\REAL\n",
      "C:\\Users\\mahes\\ML\\dataset\\data unziped\\dfdc_train_part_0\\REAL\n",
      "C:\\Users\\mahes\\ML\\dataset\\data unziped\\dfdc_train_part_0\\REAL\n"
     ]
    },
    {
     "name": "stderr",
     "output_type": "stream",
     "text": [
      "Processing 500 videos:   0%|          | 2/500 [00:56<3:23:51, 24.56s/it]"
     ]
    },
    {
     "name": "stdout",
     "output_type": "stream",
     "text": [
      "C:\\Users\\mahes\\ML\\dataset\\data unziped\\dfdc_train_part_0\\REAL\n",
      "C:\\Users\\mahes\\ML\\dataset\\data unziped\\dfdc_train_part_0\\REAL\n",
      "C:\\Users\\mahes\\ML\\dataset\\data unziped\\dfdc_train_part_0\\REAL\n",
      "C:\\Users\\mahes\\ML\\dataset\\data unziped\\dfdc_train_part_0\\REAL\n",
      "C:\\Users\\mahes\\ML\\dataset\\data unziped\\dfdc_train_part_0\\REAL\n",
      "C:\\Users\\mahes\\ML\\dataset\\data unziped\\dfdc_train_part_0\\REAL\n",
      "C:\\Users\\mahes\\ML\\dataset\\data unziped\\dfdc_train_part_0\\REAL\n",
      "C:\\Users\\mahes\\ML\\dataset\\data unziped\\dfdc_train_part_0\\REAL\n",
      "C:\\Users\\mahes\\ML\\dataset\\data unziped\\dfdc_train_part_0\\REAL\n",
      "C:\\Users\\mahes\\ML\\dataset\\data unziped\\dfdc_train_part_0\\REAL\n"
     ]
    },
    {
     "name": "stderr",
     "output_type": "stream",
     "text": [
      "Processing 500 videos:   1%|          | 3/500 [01:03<2:16:24, 16.47s/it]"
     ]
    },
    {
     "name": "stdout",
     "output_type": "stream",
     "text": [
      "C:\\Users\\mahes\\ML\\dataset\\data unziped\\dfdc_train_part_0\\REAL\n",
      "C:\\Users\\mahes\\ML\\dataset\\data unziped\\dfdc_train_part_0\\wclvkepakb.mp4\n",
      "C:\\Users\\mahes\\ML\\dataset\\data unziped\\dfdc_train_part_0\\wclvkepakb.mp4\n",
      "C:\\Users\\mahes\\ML\\dataset\\data unziped\\dfdc_train_part_0\\wclvkepakb.mp4\n",
      "C:\\Users\\mahes\\ML\\dataset\\data unziped\\dfdc_train_part_0\\wclvkepakb.mp4\n",
      "C:\\Users\\mahes\\ML\\dataset\\data unziped\\dfdc_train_part_0\\wclvkepakb.mp4\n",
      "C:\\Users\\mahes\\ML\\dataset\\data unziped\\dfdc_train_part_0\\wclvkepakb.mp4\n",
      "C:\\Users\\mahes\\ML\\dataset\\data unziped\\dfdc_train_part_0\\wclvkepakb.mp4\n",
      "C:\\Users\\mahes\\ML\\dataset\\data unziped\\dfdc_train_part_0\\wclvkepakb.mp4\n",
      "C:\\Users\\mahes\\ML\\dataset\\data unziped\\dfdc_train_part_0\\wclvkepakb.mp4\n",
      "C:\\Users\\mahes\\ML\\dataset\\data unziped\\dfdc_train_part_0\\wclvkepakb.mp4\n"
     ]
    },
    {
     "name": "stderr",
     "output_type": "stream",
     "text": [
      "Processing 500 videos:   1%|          | 4/500 [01:45<3:37:47, 26.35s/it]"
     ]
    },
    {
     "name": "stdout",
     "output_type": "stream",
     "text": [
      "C:\\Users\\mahes\\ML\\dataset\\data unziped\\dfdc_train_part_0\\vpmyeepbep.mp4\n",
      "C:\\Users\\mahes\\ML\\dataset\\data unziped\\dfdc_train_part_0\\vpmyeepbep.mp4\n",
      "C:\\Users\\mahes\\ML\\dataset\\data unziped\\dfdc_train_part_0\\vpmyeepbep.mp4\n",
      "C:\\Users\\mahes\\ML\\dataset\\data unziped\\dfdc_train_part_0\\vpmyeepbep.mp4\n",
      "C:\\Users\\mahes\\ML\\dataset\\data unziped\\dfdc_train_part_0\\vpmyeepbep.mp4\n",
      "C:\\Users\\mahes\\ML\\dataset\\data unziped\\dfdc_train_part_0\\vpmyeepbep.mp4\n",
      "C:\\Users\\mahes\\ML\\dataset\\data unziped\\dfdc_train_part_0\\vpmyeepbep.mp4\n",
      "C:\\Users\\mahes\\ML\\dataset\\data unziped\\dfdc_train_part_0\\vpmyeepbep.mp4\n",
      "C:\\Users\\mahes\\ML\\dataset\\data unziped\\dfdc_train_part_0\\vpmyeepbep.mp4\n",
      "C:\\Users\\mahes\\ML\\dataset\\data unziped\\dfdc_train_part_0\\vpmyeepbep.mp4\n"
     ]
    },
    {
     "name": "stderr",
     "output_type": "stream",
     "text": [
      "Processing 500 videos:   1%|          | 5/500 [02:28<4:27:55, 32.48s/it]"
     ]
    },
    {
     "name": "stdout",
     "output_type": "stream",
     "text": [
      "C:\\Users\\mahes\\ML\\dataset\\data unziped\\dfdc_train_part_0\\jawgcggquk.mp4\n",
      "C:\\Users\\mahes\\ML\\dataset\\data unziped\\dfdc_train_part_0\\jawgcggquk.mp4\n",
      "C:\\Users\\mahes\\ML\\dataset\\data unziped\\dfdc_train_part_0\\jawgcggquk.mp4\n",
      "C:\\Users\\mahes\\ML\\dataset\\data unziped\\dfdc_train_part_0\\jawgcggquk.mp4\n",
      "C:\\Users\\mahes\\ML\\dataset\\data unziped\\dfdc_train_part_0\\jawgcggquk.mp4\n",
      "C:\\Users\\mahes\\ML\\dataset\\data unziped\\dfdc_train_part_0\\jawgcggquk.mp4\n",
      "C:\\Users\\mahes\\ML\\dataset\\data unziped\\dfdc_train_part_0\\jawgcggquk.mp4\n",
      "C:\\Users\\mahes\\ML\\dataset\\data unziped\\dfdc_train_part_0\\jawgcggquk.mp4\n",
      "C:\\Users\\mahes\\ML\\dataset\\data unziped\\dfdc_train_part_0\\jawgcggquk.mp4\n",
      "C:\\Users\\mahes\\ML\\dataset\\data unziped\\dfdc_train_part_0\\jawgcggquk.mp4\n"
     ]
    },
    {
     "name": "stderr",
     "output_type": "stream",
     "text": [
      "Processing 500 videos:   1%|          | 6/500 [03:09<4:51:26, 35.40s/it]"
     ]
    },
    {
     "name": "stdout",
     "output_type": "stream",
     "text": [
      "C:\\Users\\mahes\\ML\\dataset\\data unziped\\dfdc_train_part_0\\qarqtkvgby.mp4\n",
      "C:\\Users\\mahes\\ML\\dataset\\data unziped\\dfdc_train_part_0\\qarqtkvgby.mp4\n",
      "C:\\Users\\mahes\\ML\\dataset\\data unziped\\dfdc_train_part_0\\qarqtkvgby.mp4\n",
      "C:\\Users\\mahes\\ML\\dataset\\data unziped\\dfdc_train_part_0\\qarqtkvgby.mp4\n",
      "C:\\Users\\mahes\\ML\\dataset\\data unziped\\dfdc_train_part_0\\qarqtkvgby.mp4\n",
      "C:\\Users\\mahes\\ML\\dataset\\data unziped\\dfdc_train_part_0\\qarqtkvgby.mp4\n",
      "C:\\Users\\mahes\\ML\\dataset\\data unziped\\dfdc_train_part_0\\qarqtkvgby.mp4\n",
      "C:\\Users\\mahes\\ML\\dataset\\data unziped\\dfdc_train_part_0\\qarqtkvgby.mp4\n",
      "C:\\Users\\mahes\\ML\\dataset\\data unziped\\dfdc_train_part_0\\qarqtkvgby.mp4\n",
      "C:\\Users\\mahes\\ML\\dataset\\data unziped\\dfdc_train_part_0\\qarqtkvgby.mp4\n"
     ]
    },
    {
     "name": "stderr",
     "output_type": "stream",
     "text": [
      "Processing 500 videos:   1%|▏         | 7/500 [03:52<5:11:30, 37.91s/it]"
     ]
    },
    {
     "name": "stdout",
     "output_type": "stream",
     "text": [
      "C:\\Users\\mahes\\ML\\dataset\\data unziped\\dfdc_train_part_0\\sttnfyptum.mp4\n",
      "C:\\Users\\mahes\\ML\\dataset\\data unziped\\dfdc_train_part_0\\sttnfyptum.mp4\n",
      "C:\\Users\\mahes\\ML\\dataset\\data unziped\\dfdc_train_part_0\\sttnfyptum.mp4\n",
      "C:\\Users\\mahes\\ML\\dataset\\data unziped\\dfdc_train_part_0\\sttnfyptum.mp4\n",
      "C:\\Users\\mahes\\ML\\dataset\\data unziped\\dfdc_train_part_0\\sttnfyptum.mp4\n",
      "C:\\Users\\mahes\\ML\\dataset\\data unziped\\dfdc_train_part_0\\sttnfyptum.mp4\n",
      "C:\\Users\\mahes\\ML\\dataset\\data unziped\\dfdc_train_part_0\\sttnfyptum.mp4\n",
      "C:\\Users\\mahes\\ML\\dataset\\data unziped\\dfdc_train_part_0\\sttnfyptum.mp4\n",
      "C:\\Users\\mahes\\ML\\dataset\\data unziped\\dfdc_train_part_0\\sttnfyptum.mp4\n",
      "C:\\Users\\mahes\\ML\\dataset\\data unziped\\dfdc_train_part_0\\sttnfyptum.mp4\n"
     ]
    },
    {
     "name": "stderr",
     "output_type": "stream",
     "text": [
      "Processing 500 videos:   2%|▏         | 8/500 [04:40<5:37:28, 41.16s/it]"
     ]
    },
    {
     "name": "stdout",
     "output_type": "stream",
     "text": [
      "C:\\Users\\mahes\\ML\\dataset\\data unziped\\dfdc_train_part_0\\kqlvggiqee.mp4\n",
      "C:\\Users\\mahes\\ML\\dataset\\data unziped\\dfdc_train_part_0\\kqlvggiqee.mp4\n",
      "C:\\Users\\mahes\\ML\\dataset\\data unziped\\dfdc_train_part_0\\kqlvggiqee.mp4\n",
      "C:\\Users\\mahes\\ML\\dataset\\data unziped\\dfdc_train_part_0\\kqlvggiqee.mp4\n",
      "C:\\Users\\mahes\\ML\\dataset\\data unziped\\dfdc_train_part_0\\kqlvggiqee.mp4\n",
      "C:\\Users\\mahes\\ML\\dataset\\data unziped\\dfdc_train_part_0\\kqlvggiqee.mp4\n",
      "C:\\Users\\mahes\\ML\\dataset\\data unziped\\dfdc_train_part_0\\kqlvggiqee.mp4\n",
      "C:\\Users\\mahes\\ML\\dataset\\data unziped\\dfdc_train_part_0\\kqlvggiqee.mp4\n",
      "C:\\Users\\mahes\\ML\\dataset\\data unziped\\dfdc_train_part_0\\kqlvggiqee.mp4\n",
      "C:\\Users\\mahes\\ML\\dataset\\data unziped\\dfdc_train_part_0\\kqlvggiqee.mp4\n"
     ]
    },
    {
     "name": "stderr",
     "output_type": "stream",
     "text": [
      "Processing 500 videos:   2%|▏         | 9/500 [05:22<5:37:27, 41.24s/it]"
     ]
    },
    {
     "name": "stdout",
     "output_type": "stream",
     "text": [
      "C:\\Users\\mahes\\ML\\dataset\\data unziped\\dfdc_train_part_0\\lzbmwwejxb.mp4\n",
      "C:\\Users\\mahes\\ML\\dataset\\data unziped\\dfdc_train_part_0\\lzbmwwejxb.mp4\n",
      "C:\\Users\\mahes\\ML\\dataset\\data unziped\\dfdc_train_part_0\\lzbmwwejxb.mp4\n",
      "C:\\Users\\mahes\\ML\\dataset\\data unziped\\dfdc_train_part_0\\lzbmwwejxb.mp4\n",
      "C:\\Users\\mahes\\ML\\dataset\\data unziped\\dfdc_train_part_0\\lzbmwwejxb.mp4\n",
      "C:\\Users\\mahes\\ML\\dataset\\data unziped\\dfdc_train_part_0\\lzbmwwejxb.mp4\n",
      "C:\\Users\\mahes\\ML\\dataset\\data unziped\\dfdc_train_part_0\\lzbmwwejxb.mp4\n",
      "C:\\Users\\mahes\\ML\\dataset\\data unziped\\dfdc_train_part_0\\lzbmwwejxb.mp4\n",
      "C:\\Users\\mahes\\ML\\dataset\\data unziped\\dfdc_train_part_0\\lzbmwwejxb.mp4\n",
      "C:\\Users\\mahes\\ML\\dataset\\data unziped\\dfdc_train_part_0\\lzbmwwejxb.mp4\n"
     ]
    },
    {
     "name": "stderr",
     "output_type": "stream",
     "text": [
      "Processing 500 videos:   2%|▏         | 10/500 [06:09<5:51:19, 43.02s/it]"
     ]
    },
    {
     "name": "stdout",
     "output_type": "stream",
     "text": [
      "C:\\Users\\mahes\\ML\\dataset\\data unziped\\dfdc_train_part_0\\jytrvwlewz.mp4\n",
      "C:\\Users\\mahes\\ML\\dataset\\data unziped\\dfdc_train_part_0\\jytrvwlewz.mp4\n",
      "C:\\Users\\mahes\\ML\\dataset\\data unziped\\dfdc_train_part_0\\jytrvwlewz.mp4\n",
      "C:\\Users\\mahes\\ML\\dataset\\data unziped\\dfdc_train_part_0\\jytrvwlewz.mp4\n",
      "C:\\Users\\mahes\\ML\\dataset\\data unziped\\dfdc_train_part_0\\jytrvwlewz.mp4\n",
      "C:\\Users\\mahes\\ML\\dataset\\data unziped\\dfdc_train_part_0\\jytrvwlewz.mp4\n",
      "C:\\Users\\mahes\\ML\\dataset\\data unziped\\dfdc_train_part_0\\jytrvwlewz.mp4\n",
      "C:\\Users\\mahes\\ML\\dataset\\data unziped\\dfdc_train_part_0\\jytrvwlewz.mp4\n",
      "C:\\Users\\mahes\\ML\\dataset\\data unziped\\dfdc_train_part_0\\jytrvwlewz.mp4\n",
      "C:\\Users\\mahes\\ML\\dataset\\data unziped\\dfdc_train_part_0\\jytrvwlewz.mp4\n"
     ]
    },
    {
     "name": "stderr",
     "output_type": "stream",
     "text": [
      "Processing 500 videos:   2%|▏         | 11/500 [06:50<5:47:29, 42.64s/it]"
     ]
    },
    {
     "name": "stdout",
     "output_type": "stream",
     "text": [
      "C:\\Users\\mahes\\ML\\dataset\\data unziped\\dfdc_train_part_0\\REAL\n",
      "C:\\Users\\mahes\\ML\\dataset\\data unziped\\dfdc_train_part_0\\REAL\n",
      "C:\\Users\\mahes\\ML\\dataset\\data unziped\\dfdc_train_part_0\\REAL\n",
      "C:\\Users\\mahes\\ML\\dataset\\data unziped\\dfdc_train_part_0\\REAL\n",
      "C:\\Users\\mahes\\ML\\dataset\\data unziped\\dfdc_train_part_0\\REAL\n",
      "C:\\Users\\mahes\\ML\\dataset\\data unziped\\dfdc_train_part_0\\REAL\n",
      "C:\\Users\\mahes\\ML\\dataset\\data unziped\\dfdc_train_part_0\\REAL\n",
      "C:\\Users\\mahes\\ML\\dataset\\data unziped\\dfdc_train_part_0\\REAL\n",
      "C:\\Users\\mahes\\ML\\dataset\\data unziped\\dfdc_train_part_0\\REAL\n"
     ]
    },
    {
     "name": "stderr",
     "output_type": "stream",
     "text": [
      "Processing 500 videos:   2%|▏         | 12/500 [06:57<4:17:44, 31.69s/it]"
     ]
    },
    {
     "name": "stdout",
     "output_type": "stream",
     "text": [
      "C:\\Users\\mahes\\ML\\dataset\\data unziped\\dfdc_train_part_0\\REAL\n",
      "C:\\Users\\mahes\\ML\\dataset\\data unziped\\dfdc_train_part_0\\wcqvzujamg.mp4\n",
      "C:\\Users\\mahes\\ML\\dataset\\data unziped\\dfdc_train_part_0\\wcqvzujamg.mp4\n",
      "C:\\Users\\mahes\\ML\\dataset\\data unziped\\dfdc_train_part_0\\wcqvzujamg.mp4\n",
      "C:\\Users\\mahes\\ML\\dataset\\data unziped\\dfdc_train_part_0\\wcqvzujamg.mp4\n",
      "C:\\Users\\mahes\\ML\\dataset\\data unziped\\dfdc_train_part_0\\wcqvzujamg.mp4\n",
      "C:\\Users\\mahes\\ML\\dataset\\data unziped\\dfdc_train_part_0\\wcqvzujamg.mp4\n",
      "C:\\Users\\mahes\\ML\\dataset\\data unziped\\dfdc_train_part_0\\wcqvzujamg.mp4\n",
      "C:\\Users\\mahes\\ML\\dataset\\data unziped\\dfdc_train_part_0\\wcqvzujamg.mp4\n",
      "C:\\Users\\mahes\\ML\\dataset\\data unziped\\dfdc_train_part_0\\wcqvzujamg.mp4\n",
      "C:\\Users\\mahes\\ML\\dataset\\data unziped\\dfdc_train_part_0\\wcqvzujamg.mp4\n"
     ]
    },
    {
     "name": "stderr",
     "output_type": "stream",
     "text": [
      "Processing 500 videos:   3%|▎         | 13/500 [07:38<4:40:00, 34.50s/it]"
     ]
    },
    {
     "name": "stdout",
     "output_type": "stream",
     "text": [
      "C:\\Users\\mahes\\ML\\dataset\\data unziped\\dfdc_train_part_0\\exxqlfpnbz.mp4\n",
      "C:\\Users\\mahes\\ML\\dataset\\data unziped\\dfdc_train_part_0\\exxqlfpnbz.mp4\n",
      "C:\\Users\\mahes\\ML\\dataset\\data unziped\\dfdc_train_part_0\\exxqlfpnbz.mp4\n",
      "C:\\Users\\mahes\\ML\\dataset\\data unziped\\dfdc_train_part_0\\exxqlfpnbz.mp4\n",
      "C:\\Users\\mahes\\ML\\dataset\\data unziped\\dfdc_train_part_0\\exxqlfpnbz.mp4\n",
      "C:\\Users\\mahes\\ML\\dataset\\data unziped\\dfdc_train_part_0\\exxqlfpnbz.mp4\n",
      "C:\\Users\\mahes\\ML\\dataset\\data unziped\\dfdc_train_part_0\\exxqlfpnbz.mp4\n",
      "C:\\Users\\mahes\\ML\\dataset\\data unziped\\dfdc_train_part_0\\exxqlfpnbz.mp4\n",
      "C:\\Users\\mahes\\ML\\dataset\\data unziped\\dfdc_train_part_0\\exxqlfpnbz.mp4\n",
      "C:\\Users\\mahes\\ML\\dataset\\data unziped\\dfdc_train_part_0\\exxqlfpnbz.mp4\n"
     ]
    },
    {
     "name": "stderr",
     "output_type": "stream",
     "text": [
      "Processing 500 videos:   3%|▎         | 14/500 [08:21<4:59:57, 37.03s/it]"
     ]
    },
    {
     "name": "stdout",
     "output_type": "stream",
     "text": [
      "C:\\Users\\mahes\\ML\\dataset\\data unziped\\dfdc_train_part_0\\vpmyeepbep.mp4\n",
      "C:\\Users\\mahes\\ML\\dataset\\data unziped\\dfdc_train_part_0\\vpmyeepbep.mp4\n",
      "C:\\Users\\mahes\\ML\\dataset\\data unziped\\dfdc_train_part_0\\vpmyeepbep.mp4\n",
      "C:\\Users\\mahes\\ML\\dataset\\data unziped\\dfdc_train_part_0\\vpmyeepbep.mp4\n",
      "C:\\Users\\mahes\\ML\\dataset\\data unziped\\dfdc_train_part_0\\vpmyeepbep.mp4\n",
      "C:\\Users\\mahes\\ML\\dataset\\data unziped\\dfdc_train_part_0\\vpmyeepbep.mp4\n",
      "C:\\Users\\mahes\\ML\\dataset\\data unziped\\dfdc_train_part_0\\vpmyeepbep.mp4\n",
      "C:\\Users\\mahes\\ML\\dataset\\data unziped\\dfdc_train_part_0\\vpmyeepbep.mp4\n",
      "C:\\Users\\mahes\\ML\\dataset\\data unziped\\dfdc_train_part_0\\vpmyeepbep.mp4\n",
      "C:\\Users\\mahes\\ML\\dataset\\data unziped\\dfdc_train_part_0\\vpmyeepbep.mp4\n"
     ]
    },
    {
     "name": "stderr",
     "output_type": "stream",
     "text": [
      "Processing 500 videos:   3%|▎         | 15/500 [09:03<5:10:46, 38.45s/it]"
     ]
    },
    {
     "name": "stdout",
     "output_type": "stream",
     "text": [
      "C:\\Users\\mahes\\ML\\dataset\\data unziped\\dfdc_train_part_0\\nweufafotd.mp4\n",
      "C:\\Users\\mahes\\ML\\dataset\\data unziped\\dfdc_train_part_0\\nweufafotd.mp4\n",
      "C:\\Users\\mahes\\ML\\dataset\\data unziped\\dfdc_train_part_0\\nweufafotd.mp4\n",
      "C:\\Users\\mahes\\ML\\dataset\\data unziped\\dfdc_train_part_0\\nweufafotd.mp4\n",
      "C:\\Users\\mahes\\ML\\dataset\\data unziped\\dfdc_train_part_0\\nweufafotd.mp4\n",
      "C:\\Users\\mahes\\ML\\dataset\\data unziped\\dfdc_train_part_0\\nweufafotd.mp4\n",
      "C:\\Users\\mahes\\ML\\dataset\\data unziped\\dfdc_train_part_0\\nweufafotd.mp4\n",
      "C:\\Users\\mahes\\ML\\dataset\\data unziped\\dfdc_train_part_0\\nweufafotd.mp4\n",
      "C:\\Users\\mahes\\ML\\dataset\\data unziped\\dfdc_train_part_0\\nweufafotd.mp4\n",
      "C:\\Users\\mahes\\ML\\dataset\\data unziped\\dfdc_train_part_0\\nweufafotd.mp4\n"
     ]
    },
    {
     "name": "stderr",
     "output_type": "stream",
     "text": [
      "Processing 500 videos:   3%|▎         | 16/500 [09:51<5:33:32, 41.35s/it]"
     ]
    },
    {
     "name": "stdout",
     "output_type": "stream",
     "text": [
      "C:\\Users\\mahes\\ML\\dataset\\data unziped\\dfdc_train_part_0\\jvtjxreizj.mp4\n",
      "C:\\Users\\mahes\\ML\\dataset\\data unziped\\dfdc_train_part_0\\jvtjxreizj.mp4\n",
      "C:\\Users\\mahes\\ML\\dataset\\data unziped\\dfdc_train_part_0\\jvtjxreizj.mp4\n",
      "C:\\Users\\mahes\\ML\\dataset\\data unziped\\dfdc_train_part_0\\jvtjxreizj.mp4\n",
      "C:\\Users\\mahes\\ML\\dataset\\data unziped\\dfdc_train_part_0\\jvtjxreizj.mp4\n",
      "C:\\Users\\mahes\\ML\\dataset\\data unziped\\dfdc_train_part_0\\jvtjxreizj.mp4\n",
      "C:\\Users\\mahes\\ML\\dataset\\data unziped\\dfdc_train_part_0\\jvtjxreizj.mp4\n",
      "C:\\Users\\mahes\\ML\\dataset\\data unziped\\dfdc_train_part_0\\jvtjxreizj.mp4\n",
      "C:\\Users\\mahes\\ML\\dataset\\data unziped\\dfdc_train_part_0\\jvtjxreizj.mp4\n",
      "C:\\Users\\mahes\\ML\\dataset\\data unziped\\dfdc_train_part_0\\jvtjxreizj.mp4\n"
     ]
    },
    {
     "name": "stderr",
     "output_type": "stream",
     "text": [
      "Processing 500 videos:   3%|▎         | 17/500 [10:36<5:42:00, 42.49s/it]"
     ]
    },
    {
     "name": "stdout",
     "output_type": "stream",
     "text": [
      "C:\\Users\\mahes\\ML\\dataset\\data unziped\\dfdc_train_part_0\\gvasarkpfh.mp4\n",
      "C:\\Users\\mahes\\ML\\dataset\\data unziped\\dfdc_train_part_0\\gvasarkpfh.mp4\n",
      "C:\\Users\\mahes\\ML\\dataset\\data unziped\\dfdc_train_part_0\\gvasarkpfh.mp4\n",
      "C:\\Users\\mahes\\ML\\dataset\\data unziped\\dfdc_train_part_0\\gvasarkpfh.mp4\n",
      "C:\\Users\\mahes\\ML\\dataset\\data unziped\\dfdc_train_part_0\\gvasarkpfh.mp4\n",
      "C:\\Users\\mahes\\ML\\dataset\\data unziped\\dfdc_train_part_0\\gvasarkpfh.mp4\n",
      "C:\\Users\\mahes\\ML\\dataset\\data unziped\\dfdc_train_part_0\\gvasarkpfh.mp4\n",
      "C:\\Users\\mahes\\ML\\dataset\\data unziped\\dfdc_train_part_0\\gvasarkpfh.mp4\n",
      "C:\\Users\\mahes\\ML\\dataset\\data unziped\\dfdc_train_part_0\\gvasarkpfh.mp4\n",
      "C:\\Users\\mahes\\ML\\dataset\\data unziped\\dfdc_train_part_0\\gvasarkpfh.mp4\n"
     ]
    },
    {
     "name": "stderr",
     "output_type": "stream",
     "text": [
      "Processing 500 videos:   4%|▎         | 18/500 [11:19<5:42:19, 42.61s/it]"
     ]
    },
    {
     "name": "stdout",
     "output_type": "stream",
     "text": [
      "C:\\Users\\mahes\\ML\\dataset\\data unziped\\dfdc_train_part_0\\wclvkepakb.mp4\n",
      "C:\\Users\\mahes\\ML\\dataset\\data unziped\\dfdc_train_part_0\\wclvkepakb.mp4\n",
      "C:\\Users\\mahes\\ML\\dataset\\data unziped\\dfdc_train_part_0\\wclvkepakb.mp4\n",
      "C:\\Users\\mahes\\ML\\dataset\\data unziped\\dfdc_train_part_0\\wclvkepakb.mp4\n",
      "C:\\Users\\mahes\\ML\\dataset\\data unziped\\dfdc_train_part_0\\wclvkepakb.mp4\n",
      "C:\\Users\\mahes\\ML\\dataset\\data unziped\\dfdc_train_part_0\\wclvkepakb.mp4\n",
      "C:\\Users\\mahes\\ML\\dataset\\data unziped\\dfdc_train_part_0\\wclvkepakb.mp4\n",
      "C:\\Users\\mahes\\ML\\dataset\\data unziped\\dfdc_train_part_0\\wclvkepakb.mp4\n",
      "C:\\Users\\mahes\\ML\\dataset\\data unziped\\dfdc_train_part_0\\wclvkepakb.mp4\n",
      "C:\\Users\\mahes\\ML\\dataset\\data unziped\\dfdc_train_part_0\\wclvkepakb.mp4\n"
     ]
    },
    {
     "name": "stderr",
     "output_type": "stream",
     "text": [
      "Processing 500 videos:   4%|▍         | 19/500 [12:00<5:38:22, 42.21s/it]"
     ]
    },
    {
     "name": "stdout",
     "output_type": "stream",
     "text": [
      "C:\\Users\\mahes\\ML\\dataset\\data unziped\\dfdc_train_part_0\\prmwoaeeng.mp4\n",
      "C:\\Users\\mahes\\ML\\dataset\\data unziped\\dfdc_train_part_0\\prmwoaeeng.mp4\n",
      "C:\\Users\\mahes\\ML\\dataset\\data unziped\\dfdc_train_part_0\\prmwoaeeng.mp4\n",
      "C:\\Users\\mahes\\ML\\dataset\\data unziped\\dfdc_train_part_0\\prmwoaeeng.mp4\n",
      "C:\\Users\\mahes\\ML\\dataset\\data unziped\\dfdc_train_part_0\\prmwoaeeng.mp4\n",
      "C:\\Users\\mahes\\ML\\dataset\\data unziped\\dfdc_train_part_0\\prmwoaeeng.mp4\n",
      "C:\\Users\\mahes\\ML\\dataset\\data unziped\\dfdc_train_part_0\\prmwoaeeng.mp4\n",
      "C:\\Users\\mahes\\ML\\dataset\\data unziped\\dfdc_train_part_0\\prmwoaeeng.mp4\n",
      "C:\\Users\\mahes\\ML\\dataset\\data unziped\\dfdc_train_part_0\\prmwoaeeng.mp4\n",
      "C:\\Users\\mahes\\ML\\dataset\\data unziped\\dfdc_train_part_0\\prmwoaeeng.mp4\n"
     ]
    },
    {
     "name": "stderr",
     "output_type": "stream",
     "text": [
      "Processing 500 videos:   4%|▍         | 20/500 [12:42<5:37:21, 42.17s/it]"
     ]
    },
    {
     "name": "stdout",
     "output_type": "stream",
     "text": [
      "C:\\Users\\mahes\\ML\\dataset\\data unziped\\dfdc_train_part_0\\gnmmhlbzge.mp4\n",
      "C:\\Users\\mahes\\ML\\dataset\\data unziped\\dfdc_train_part_0\\gnmmhlbzge.mp4\n",
      "C:\\Users\\mahes\\ML\\dataset\\data unziped\\dfdc_train_part_0\\gnmmhlbzge.mp4\n",
      "C:\\Users\\mahes\\ML\\dataset\\data unziped\\dfdc_train_part_0\\gnmmhlbzge.mp4\n",
      "C:\\Users\\mahes\\ML\\dataset\\data unziped\\dfdc_train_part_0\\gnmmhlbzge.mp4\n",
      "C:\\Users\\mahes\\ML\\dataset\\data unziped\\dfdc_train_part_0\\gnmmhlbzge.mp4\n",
      "C:\\Users\\mahes\\ML\\dataset\\data unziped\\dfdc_train_part_0\\gnmmhlbzge.mp4\n",
      "C:\\Users\\mahes\\ML\\dataset\\data unziped\\dfdc_train_part_0\\gnmmhlbzge.mp4\n",
      "C:\\Users\\mahes\\ML\\dataset\\data unziped\\dfdc_train_part_0\\gnmmhlbzge.mp4\n",
      "C:\\Users\\mahes\\ML\\dataset\\data unziped\\dfdc_train_part_0\\gnmmhlbzge.mp4\n"
     ]
    },
    {
     "name": "stderr",
     "output_type": "stream",
     "text": [
      "Processing 500 videos:   4%|▍         | 21/500 [13:22<5:32:16, 41.62s/it]"
     ]
    },
    {
     "name": "stdout",
     "output_type": "stream",
     "text": [
      "C:\\Users\\mahes\\ML\\dataset\\data unziped\\dfdc_train_part_0\\nweufafotd.mp4\n",
      "C:\\Users\\mahes\\ML\\dataset\\data unziped\\dfdc_train_part_0\\nweufafotd.mp4\n",
      "C:\\Users\\mahes\\ML\\dataset\\data unziped\\dfdc_train_part_0\\nweufafotd.mp4\n",
      "C:\\Users\\mahes\\ML\\dataset\\data unziped\\dfdc_train_part_0\\nweufafotd.mp4\n",
      "C:\\Users\\mahes\\ML\\dataset\\data unziped\\dfdc_train_part_0\\nweufafotd.mp4\n",
      "C:\\Users\\mahes\\ML\\dataset\\data unziped\\dfdc_train_part_0\\nweufafotd.mp4\n",
      "C:\\Users\\mahes\\ML\\dataset\\data unziped\\dfdc_train_part_0\\nweufafotd.mp4\n",
      "C:\\Users\\mahes\\ML\\dataset\\data unziped\\dfdc_train_part_0\\nweufafotd.mp4\n",
      "C:\\Users\\mahes\\ML\\dataset\\data unziped\\dfdc_train_part_0\\nweufafotd.mp4\n",
      "C:\\Users\\mahes\\ML\\dataset\\data unziped\\dfdc_train_part_0\\nweufafotd.mp4\n"
     ]
    },
    {
     "name": "stderr",
     "output_type": "stream",
     "text": [
      "Processing 500 videos:   4%|▍         | 22/500 [14:10<5:46:37, 43.51s/it]"
     ]
    },
    {
     "name": "stdout",
     "output_type": "stream",
     "text": [
      "C:\\Users\\mahes\\ML\\dataset\\data unziped\\dfdc_train_part_0\\fopjiyxiqd.mp4\n",
      "C:\\Users\\mahes\\ML\\dataset\\data unziped\\dfdc_train_part_0\\fopjiyxiqd.mp4\n",
      "C:\\Users\\mahes\\ML\\dataset\\data unziped\\dfdc_train_part_0\\fopjiyxiqd.mp4\n",
      "C:\\Users\\mahes\\ML\\dataset\\data unziped\\dfdc_train_part_0\\fopjiyxiqd.mp4\n",
      "C:\\Users\\mahes\\ML\\dataset\\data unziped\\dfdc_train_part_0\\fopjiyxiqd.mp4\n",
      "C:\\Users\\mahes\\ML\\dataset\\data unziped\\dfdc_train_part_0\\fopjiyxiqd.mp4\n",
      "C:\\Users\\mahes\\ML\\dataset\\data unziped\\dfdc_train_part_0\\fopjiyxiqd.mp4\n",
      "C:\\Users\\mahes\\ML\\dataset\\data unziped\\dfdc_train_part_0\\fopjiyxiqd.mp4\n",
      "C:\\Users\\mahes\\ML\\dataset\\data unziped\\dfdc_train_part_0\\fopjiyxiqd.mp4\n",
      "C:\\Users\\mahes\\ML\\dataset\\data unziped\\dfdc_train_part_0\\fopjiyxiqd.mp4\n"
     ]
    },
    {
     "name": "stderr",
     "output_type": "stream",
     "text": [
      "Processing 500 videos:   5%|▍         | 23/500 [14:59<5:58:16, 45.07s/it]"
     ]
    },
    {
     "name": "stdout",
     "output_type": "stream",
     "text": [
      "C:\\Users\\mahes\\ML\\dataset\\data unziped\\dfdc_train_part_0\\kqlvggiqee.mp4\n",
      "C:\\Users\\mahes\\ML\\dataset\\data unziped\\dfdc_train_part_0\\kqlvggiqee.mp4\n",
      "C:\\Users\\mahes\\ML\\dataset\\data unziped\\dfdc_train_part_0\\kqlvggiqee.mp4\n",
      "C:\\Users\\mahes\\ML\\dataset\\data unziped\\dfdc_train_part_0\\kqlvggiqee.mp4\n",
      "C:\\Users\\mahes\\ML\\dataset\\data unziped\\dfdc_train_part_0\\kqlvggiqee.mp4\n",
      "C:\\Users\\mahes\\ML\\dataset\\data unziped\\dfdc_train_part_0\\kqlvggiqee.mp4\n",
      "C:\\Users\\mahes\\ML\\dataset\\data unziped\\dfdc_train_part_0\\kqlvggiqee.mp4\n",
      "C:\\Users\\mahes\\ML\\dataset\\data unziped\\dfdc_train_part_0\\kqlvggiqee.mp4\n",
      "C:\\Users\\mahes\\ML\\dataset\\data unziped\\dfdc_train_part_0\\kqlvggiqee.mp4\n",
      "C:\\Users\\mahes\\ML\\dataset\\data unziped\\dfdc_train_part_0\\kqlvggiqee.mp4\n"
     ]
    },
    {
     "name": "stderr",
     "output_type": "stream",
     "text": [
      "Processing 500 videos:   5%|▍         | 24/500 [15:57<6:28:40, 48.99s/it]"
     ]
    },
    {
     "name": "stdout",
     "output_type": "stream",
     "text": [
      "C:\\Users\\mahes\\ML\\dataset\\data unziped\\dfdc_train_part_0\\pqdeutauqc.mp4\n",
      "C:\\Users\\mahes\\ML\\dataset\\data unziped\\dfdc_train_part_0\\pqdeutauqc.mp4\n",
      "C:\\Users\\mahes\\ML\\dataset\\data unziped\\dfdc_train_part_0\\pqdeutauqc.mp4\n",
      "C:\\Users\\mahes\\ML\\dataset\\data unziped\\dfdc_train_part_0\\pqdeutauqc.mp4\n",
      "C:\\Users\\mahes\\ML\\dataset\\data unziped\\dfdc_train_part_0\\pqdeutauqc.mp4\n",
      "C:\\Users\\mahes\\ML\\dataset\\data unziped\\dfdc_train_part_0\\pqdeutauqc.mp4\n",
      "C:\\Users\\mahes\\ML\\dataset\\data unziped\\dfdc_train_part_0\\pqdeutauqc.mp4\n",
      "C:\\Users\\mahes\\ML\\dataset\\data unziped\\dfdc_train_part_0\\pqdeutauqc.mp4\n",
      "C:\\Users\\mahes\\ML\\dataset\\data unziped\\dfdc_train_part_0\\pqdeutauqc.mp4\n",
      "C:\\Users\\mahes\\ML\\dataset\\data unziped\\dfdc_train_part_0\\pqdeutauqc.mp4\n"
     ]
    },
    {
     "name": "stderr",
     "output_type": "stream",
     "text": [
      "Processing 500 videos:   5%|▌         | 25/500 [16:37<6:05:51, 46.21s/it]"
     ]
    },
    {
     "name": "stdout",
     "output_type": "stream",
     "text": [
      "C:\\Users\\mahes\\ML\\dataset\\data unziped\\dfdc_train_part_0\\wfzjxzhdkj.mp4\n",
      "C:\\Users\\mahes\\ML\\dataset\\data unziped\\dfdc_train_part_0\\wfzjxzhdkj.mp4\n",
      "C:\\Users\\mahes\\ML\\dataset\\data unziped\\dfdc_train_part_0\\wfzjxzhdkj.mp4\n",
      "C:\\Users\\mahes\\ML\\dataset\\data unziped\\dfdc_train_part_0\\wfzjxzhdkj.mp4\n",
      "C:\\Users\\mahes\\ML\\dataset\\data unziped\\dfdc_train_part_0\\wfzjxzhdkj.mp4\n",
      "C:\\Users\\mahes\\ML\\dataset\\data unziped\\dfdc_train_part_0\\wfzjxzhdkj.mp4\n",
      "C:\\Users\\mahes\\ML\\dataset\\data unziped\\dfdc_train_part_0\\wfzjxzhdkj.mp4\n",
      "C:\\Users\\mahes\\ML\\dataset\\data unziped\\dfdc_train_part_0\\wfzjxzhdkj.mp4\n",
      "C:\\Users\\mahes\\ML\\dataset\\data unziped\\dfdc_train_part_0\\wfzjxzhdkj.mp4\n",
      "C:\\Users\\mahes\\ML\\dataset\\data unziped\\dfdc_train_part_0\\wfzjxzhdkj.mp4\n"
     ]
    },
    {
     "name": "stderr",
     "output_type": "stream",
     "text": [
      "Processing 500 videos:   5%|▌         | 26/500 [17:26<6:10:36, 46.91s/it]"
     ]
    },
    {
     "name": "stdout",
     "output_type": "stream",
     "text": [
      "C:\\Users\\mahes\\ML\\dataset\\data unziped\\dfdc_train_part_0\\REAL\n",
      "C:\\Users\\mahes\\ML\\dataset\\data unziped\\dfdc_train_part_0\\REAL\n",
      "C:\\Users\\mahes\\ML\\dataset\\data unziped\\dfdc_train_part_0\\REAL\n",
      "C:\\Users\\mahes\\ML\\dataset\\data unziped\\dfdc_train_part_0\\REAL\n",
      "C:\\Users\\mahes\\ML\\dataset\\data unziped\\dfdc_train_part_0\\REAL\n",
      "C:\\Users\\mahes\\ML\\dataset\\data unziped\\dfdc_train_part_0\\REAL\n",
      "C:\\Users\\mahes\\ML\\dataset\\data unziped\\dfdc_train_part_0\\REAL\n",
      "C:\\Users\\mahes\\ML\\dataset\\data unziped\\dfdc_train_part_0\\REAL\n",
      "C:\\Users\\mahes\\ML\\dataset\\data unziped\\dfdc_train_part_0\\REAL\n",
      "C:\\Users\\mahes\\ML\\dataset\\data unziped\\dfdc_train_part_0\\REAL\n"
     ]
    },
    {
     "name": "stderr",
     "output_type": "stream",
     "text": [
      "Processing 500 videos:   5%|▌         | 27/500 [17:44<5:01:53, 38.29s/it]"
     ]
    },
    {
     "name": "stdout",
     "output_type": "stream",
     "text": [
      "C:\\Users\\mahes\\ML\\dataset\\data unziped\\dfdc_train_part_0\\REAL\n",
      "C:\\Users\\mahes\\ML\\dataset\\data unziped\\dfdc_train_part_0\\REAL\n",
      "C:\\Users\\mahes\\ML\\dataset\\data unziped\\dfdc_train_part_0\\REAL\n",
      "C:\\Users\\mahes\\ML\\dataset\\data unziped\\dfdc_train_part_0\\REAL\n",
      "C:\\Users\\mahes\\ML\\dataset\\data unziped\\dfdc_train_part_0\\REAL\n",
      "C:\\Users\\mahes\\ML\\dataset\\data unziped\\dfdc_train_part_0\\REAL\n",
      "C:\\Users\\mahes\\ML\\dataset\\data unziped\\dfdc_train_part_0\\REAL\n",
      "C:\\Users\\mahes\\ML\\dataset\\data unziped\\dfdc_train_part_0\\REAL\n",
      "C:\\Users\\mahes\\ML\\dataset\\data unziped\\dfdc_train_part_0\\REAL\n",
      "C:\\Users\\mahes\\ML\\dataset\\data unziped\\dfdc_train_part_0\\REAL\n"
     ]
    },
    {
     "name": "stderr",
     "output_type": "stream",
     "text": [
      "Processing 500 videos:   6%|▌         | 28/500 [18:03<4:15:54, 32.53s/it]"
     ]
    },
    {
     "name": "stdout",
     "output_type": "stream",
     "text": [
      "C:\\Users\\mahes\\ML\\dataset\\data unziped\\dfdc_train_part_0\\dxfdovivlw.mp4\n",
      "C:\\Users\\mahes\\ML\\dataset\\data unziped\\dfdc_train_part_0\\dxfdovivlw.mp4\n",
      "C:\\Users\\mahes\\ML\\dataset\\data unziped\\dfdc_train_part_0\\dxfdovivlw.mp4\n",
      "C:\\Users\\mahes\\ML\\dataset\\data unziped\\dfdc_train_part_0\\dxfdovivlw.mp4\n",
      "C:\\Users\\mahes\\ML\\dataset\\data unziped\\dfdc_train_part_0\\dxfdovivlw.mp4\n",
      "C:\\Users\\mahes\\ML\\dataset\\data unziped\\dfdc_train_part_0\\dxfdovivlw.mp4\n",
      "C:\\Users\\mahes\\ML\\dataset\\data unziped\\dfdc_train_part_0\\dxfdovivlw.mp4\n",
      "C:\\Users\\mahes\\ML\\dataset\\data unziped\\dfdc_train_part_0\\dxfdovivlw.mp4\n",
      "C:\\Users\\mahes\\ML\\dataset\\data unziped\\dfdc_train_part_0\\dxfdovivlw.mp4\n",
      "C:\\Users\\mahes\\ML\\dataset\\data unziped\\dfdc_train_part_0\\dxfdovivlw.mp4\n"
     ]
    },
    {
     "name": "stderr",
     "output_type": "stream",
     "text": [
      "Processing 500 videos:   6%|▌         | 29/500 [19:08<5:33:20, 42.46s/it]"
     ]
    },
    {
     "name": "stdout",
     "output_type": "stream",
     "text": [
      "C:\\Users\\mahes\\ML\\dataset\\data unziped\\dfdc_train_part_0\\sttnfyptum.mp4\n",
      "C:\\Users\\mahes\\ML\\dataset\\data unziped\\dfdc_train_part_0\\sttnfyptum.mp4\n",
      "C:\\Users\\mahes\\ML\\dataset\\data unziped\\dfdc_train_part_0\\sttnfyptum.mp4\n",
      "C:\\Users\\mahes\\ML\\dataset\\data unziped\\dfdc_train_part_0\\sttnfyptum.mp4\n",
      "C:\\Users\\mahes\\ML\\dataset\\data unziped\\dfdc_train_part_0\\sttnfyptum.mp4\n",
      "C:\\Users\\mahes\\ML\\dataset\\data unziped\\dfdc_train_part_0\\sttnfyptum.mp4\n",
      "C:\\Users\\mahes\\ML\\dataset\\data unziped\\dfdc_train_part_0\\sttnfyptum.mp4\n",
      "C:\\Users\\mahes\\ML\\dataset\\data unziped\\dfdc_train_part_0\\sttnfyptum.mp4\n",
      "C:\\Users\\mahes\\ML\\dataset\\data unziped\\dfdc_train_part_0\\sttnfyptum.mp4\n",
      "C:\\Users\\mahes\\ML\\dataset\\data unziped\\dfdc_train_part_0\\sttnfyptum.mp4\n"
     ]
    },
    {
     "name": "stderr",
     "output_type": "stream",
     "text": [
      "Processing 500 videos:   6%|▌         | 30/500 [20:17<6:33:56, 50.29s/it]"
     ]
    },
    {
     "name": "stdout",
     "output_type": "stream",
     "text": [
      "C:\\Users\\mahes\\ML\\dataset\\data unziped\\dfdc_train_part_0\\ddtbarpcgo.mp4\n",
      "C:\\Users\\mahes\\ML\\dataset\\data unziped\\dfdc_train_part_0\\ddtbarpcgo.mp4\n",
      "C:\\Users\\mahes\\ML\\dataset\\data unziped\\dfdc_train_part_0\\ddtbarpcgo.mp4\n",
      "C:\\Users\\mahes\\ML\\dataset\\data unziped\\dfdc_train_part_0\\ddtbarpcgo.mp4\n",
      "C:\\Users\\mahes\\ML\\dataset\\data unziped\\dfdc_train_part_0\\ddtbarpcgo.mp4\n",
      "C:\\Users\\mahes\\ML\\dataset\\data unziped\\dfdc_train_part_0\\ddtbarpcgo.mp4\n",
      "C:\\Users\\mahes\\ML\\dataset\\data unziped\\dfdc_train_part_0\\ddtbarpcgo.mp4\n",
      "C:\\Users\\mahes\\ML\\dataset\\data unziped\\dfdc_train_part_0\\ddtbarpcgo.mp4\n",
      "C:\\Users\\mahes\\ML\\dataset\\data unziped\\dfdc_train_part_0\\ddtbarpcgo.mp4\n",
      "C:\\Users\\mahes\\ML\\dataset\\data unziped\\dfdc_train_part_0\\ddtbarpcgo.mp4\n"
     ]
    },
    {
     "name": "stderr",
     "output_type": "stream",
     "text": [
      "Processing 500 videos:   6%|▌         | 31/500 [20:57<6:08:55, 47.20s/it]"
     ]
    },
    {
     "name": "stdout",
     "output_type": "stream",
     "text": [
      "C:\\Users\\mahes\\ML\\dataset\\data unziped\\dfdc_train_part_0\\nweufafotd.mp4\n",
      "C:\\Users\\mahes\\ML\\dataset\\data unziped\\dfdc_train_part_0\\nweufafotd.mp4\n",
      "C:\\Users\\mahes\\ML\\dataset\\data unziped\\dfdc_train_part_0\\nweufafotd.mp4\n",
      "C:\\Users\\mahes\\ML\\dataset\\data unziped\\dfdc_train_part_0\\nweufafotd.mp4\n",
      "C:\\Users\\mahes\\ML\\dataset\\data unziped\\dfdc_train_part_0\\nweufafotd.mp4\n",
      "C:\\Users\\mahes\\ML\\dataset\\data unziped\\dfdc_train_part_0\\nweufafotd.mp4\n",
      "C:\\Users\\mahes\\ML\\dataset\\data unziped\\dfdc_train_part_0\\nweufafotd.mp4\n",
      "C:\\Users\\mahes\\ML\\dataset\\data unziped\\dfdc_train_part_0\\nweufafotd.mp4\n",
      "C:\\Users\\mahes\\ML\\dataset\\data unziped\\dfdc_train_part_0\\nweufafotd.mp4\n",
      "C:\\Users\\mahes\\ML\\dataset\\data unziped\\dfdc_train_part_0\\nweufafotd.mp4\n"
     ]
    },
    {
     "name": "stderr",
     "output_type": "stream",
     "text": [
      "Processing 500 videos:   6%|▋         | 32/500 [22:01<6:48:19, 52.35s/it]"
     ]
    },
    {
     "name": "stdout",
     "output_type": "stream",
     "text": [
      "C:\\Users\\mahes\\ML\\dataset\\data unziped\\dfdc_train_part_0\\lzbmwwejxb.mp4\n",
      "C:\\Users\\mahes\\ML\\dataset\\data unziped\\dfdc_train_part_0\\lzbmwwejxb.mp4\n",
      "C:\\Users\\mahes\\ML\\dataset\\data unziped\\dfdc_train_part_0\\lzbmwwejxb.mp4\n",
      "C:\\Users\\mahes\\ML\\dataset\\data unziped\\dfdc_train_part_0\\lzbmwwejxb.mp4\n",
      "C:\\Users\\mahes\\ML\\dataset\\data unziped\\dfdc_train_part_0\\lzbmwwejxb.mp4\n",
      "C:\\Users\\mahes\\ML\\dataset\\data unziped\\dfdc_train_part_0\\lzbmwwejxb.mp4\n",
      "C:\\Users\\mahes\\ML\\dataset\\data unziped\\dfdc_train_part_0\\lzbmwwejxb.mp4\n",
      "C:\\Users\\mahes\\ML\\dataset\\data unziped\\dfdc_train_part_0\\lzbmwwejxb.mp4\n",
      "C:\\Users\\mahes\\ML\\dataset\\data unziped\\dfdc_train_part_0\\lzbmwwejxb.mp4\n",
      "C:\\Users\\mahes\\ML\\dataset\\data unziped\\dfdc_train_part_0\\lzbmwwejxb.mp4\n"
     ]
    },
    {
     "name": "stderr",
     "output_type": "stream",
     "text": [
      "Processing 500 videos:   7%|▋         | 33/500 [23:20<7:48:25, 60.18s/it]"
     ]
    },
    {
     "name": "stdout",
     "output_type": "stream",
     "text": [
      "C:\\Users\\mahes\\ML\\dataset\\data unziped\\dfdc_train_part_0\\REAL\n",
      "C:\\Users\\mahes\\ML\\dataset\\data unziped\\dfdc_train_part_0\\REAL\n",
      "C:\\Users\\mahes\\ML\\dataset\\data unziped\\dfdc_train_part_0\\REAL\n",
      "C:\\Users\\mahes\\ML\\dataset\\data unziped\\dfdc_train_part_0\\REAL\n",
      "C:\\Users\\mahes\\ML\\dataset\\data unziped\\dfdc_train_part_0\\REAL\n",
      "C:\\Users\\mahes\\ML\\dataset\\data unziped\\dfdc_train_part_0\\REAL\n",
      "C:\\Users\\mahes\\ML\\dataset\\data unziped\\dfdc_train_part_0\\REAL\n",
      "C:\\Users\\mahes\\ML\\dataset\\data unziped\\dfdc_train_part_0\\REAL\n",
      "C:\\Users\\mahes\\ML\\dataset\\data unziped\\dfdc_train_part_0\\REAL\n"
     ]
    },
    {
     "name": "stderr",
     "output_type": "stream",
     "text": [
      "Processing 500 videos:   7%|▋         | 34/500 [23:36<6:05:52, 47.11s/it]"
     ]
    },
    {
     "name": "stdout",
     "output_type": "stream",
     "text": [
      "C:\\Users\\mahes\\ML\\dataset\\data unziped\\dfdc_train_part_0\\REAL\n",
      "C:\\Users\\mahes\\ML\\dataset\\data unziped\\dfdc_train_part_0\\sttnfyptum.mp4\n",
      "C:\\Users\\mahes\\ML\\dataset\\data unziped\\dfdc_train_part_0\\sttnfyptum.mp4\n",
      "C:\\Users\\mahes\\ML\\dataset\\data unziped\\dfdc_train_part_0\\sttnfyptum.mp4\n",
      "C:\\Users\\mahes\\ML\\dataset\\data unziped\\dfdc_train_part_0\\sttnfyptum.mp4\n",
      "C:\\Users\\mahes\\ML\\dataset\\data unziped\\dfdc_train_part_0\\sttnfyptum.mp4\n",
      "C:\\Users\\mahes\\ML\\dataset\\data unziped\\dfdc_train_part_0\\sttnfyptum.mp4\n",
      "C:\\Users\\mahes\\ML\\dataset\\data unziped\\dfdc_train_part_0\\sttnfyptum.mp4\n",
      "C:\\Users\\mahes\\ML\\dataset\\data unziped\\dfdc_train_part_0\\sttnfyptum.mp4\n",
      "C:\\Users\\mahes\\ML\\dataset\\data unziped\\dfdc_train_part_0\\sttnfyptum.mp4\n",
      "C:\\Users\\mahes\\ML\\dataset\\data unziped\\dfdc_train_part_0\\sttnfyptum.mp4\n"
     ]
    },
    {
     "name": "stderr",
     "output_type": "stream",
     "text": [
      "Processing 500 videos:   7%|▋         | 35/500 [24:57<7:23:20, 57.21s/it]"
     ]
    },
    {
     "name": "stdout",
     "output_type": "stream",
     "text": [
      "C:\\Users\\mahes\\ML\\dataset\\data unziped\\dfdc_train_part_0\\dhjnjkzuhq.mp4\n",
      "C:\\Users\\mahes\\ML\\dataset\\data unziped\\dfdc_train_part_0\\dhjnjkzuhq.mp4\n",
      "C:\\Users\\mahes\\ML\\dataset\\data unziped\\dfdc_train_part_0\\dhjnjkzuhq.mp4\n",
      "C:\\Users\\mahes\\ML\\dataset\\data unziped\\dfdc_train_part_0\\dhjnjkzuhq.mp4\n",
      "C:\\Users\\mahes\\ML\\dataset\\data unziped\\dfdc_train_part_0\\dhjnjkzuhq.mp4\n",
      "C:\\Users\\mahes\\ML\\dataset\\data unziped\\dfdc_train_part_0\\dhjnjkzuhq.mp4\n",
      "C:\\Users\\mahes\\ML\\dataset\\data unziped\\dfdc_train_part_0\\dhjnjkzuhq.mp4\n",
      "C:\\Users\\mahes\\ML\\dataset\\data unziped\\dfdc_train_part_0\\dhjnjkzuhq.mp4\n",
      "C:\\Users\\mahes\\ML\\dataset\\data unziped\\dfdc_train_part_0\\dhjnjkzuhq.mp4\n",
      "C:\\Users\\mahes\\ML\\dataset\\data unziped\\dfdc_train_part_0\\dhjnjkzuhq.mp4\n"
     ]
    },
    {
     "name": "stderr",
     "output_type": "stream",
     "text": [
      "Processing 500 videos:   7%|▋         | 36/500 [26:01<7:36:48, 59.07s/it]"
     ]
    },
    {
     "name": "stdout",
     "output_type": "stream",
     "text": [
      "C:\\Users\\mahes\\ML\\dataset\\data unziped\\dfdc_train_part_0\\wfzjxzhdkj.mp4\n",
      "C:\\Users\\mahes\\ML\\dataset\\data unziped\\dfdc_train_part_0\\wfzjxzhdkj.mp4\n",
      "C:\\Users\\mahes\\ML\\dataset\\data unziped\\dfdc_train_part_0\\wfzjxzhdkj.mp4\n",
      "C:\\Users\\mahes\\ML\\dataset\\data unziped\\dfdc_train_part_0\\wfzjxzhdkj.mp4\n",
      "C:\\Users\\mahes\\ML\\dataset\\data unziped\\dfdc_train_part_0\\wfzjxzhdkj.mp4\n",
      "C:\\Users\\mahes\\ML\\dataset\\data unziped\\dfdc_train_part_0\\wfzjxzhdkj.mp4\n",
      "C:\\Users\\mahes\\ML\\dataset\\data unziped\\dfdc_train_part_0\\wfzjxzhdkj.mp4\n",
      "C:\\Users\\mahes\\ML\\dataset\\data unziped\\dfdc_train_part_0\\wfzjxzhdkj.mp4\n",
      "C:\\Users\\mahes\\ML\\dataset\\data unziped\\dfdc_train_part_0\\wfzjxzhdkj.mp4\n",
      "C:\\Users\\mahes\\ML\\dataset\\data unziped\\dfdc_train_part_0\\wfzjxzhdkj.mp4\n"
     ]
    },
    {
     "name": "stderr",
     "output_type": "stream",
     "text": [
      "Processing 500 videos:   7%|▋         | 37/500 [27:04<7:45:46, 60.36s/it]"
     ]
    },
    {
     "name": "stdout",
     "output_type": "stream",
     "text": [
      "C:\\Users\\mahes\\ML\\dataset\\data unziped\\dfdc_train_part_0\\xmkwsnuzyq.mp4\n",
      "C:\\Users\\mahes\\ML\\dataset\\data unziped\\dfdc_train_part_0\\xmkwsnuzyq.mp4\n",
      "C:\\Users\\mahes\\ML\\dataset\\data unziped\\dfdc_train_part_0\\xmkwsnuzyq.mp4\n",
      "C:\\Users\\mahes\\ML\\dataset\\data unziped\\dfdc_train_part_0\\xmkwsnuzyq.mp4\n",
      "C:\\Users\\mahes\\ML\\dataset\\data unziped\\dfdc_train_part_0\\xmkwsnuzyq.mp4\n",
      "C:\\Users\\mahes\\ML\\dataset\\data unziped\\dfdc_train_part_0\\xmkwsnuzyq.mp4\n",
      "C:\\Users\\mahes\\ML\\dataset\\data unziped\\dfdc_train_part_0\\xmkwsnuzyq.mp4\n",
      "C:\\Users\\mahes\\ML\\dataset\\data unziped\\dfdc_train_part_0\\xmkwsnuzyq.mp4\n",
      "C:\\Users\\mahes\\ML\\dataset\\data unziped\\dfdc_train_part_0\\xmkwsnuzyq.mp4\n",
      "C:\\Users\\mahes\\ML\\dataset\\data unziped\\dfdc_train_part_0\\xmkwsnuzyq.mp4\n"
     ]
    },
    {
     "name": "stderr",
     "output_type": "stream",
     "text": [
      "Processing 500 videos:   8%|▊         | 38/500 [28:08<7:53:24, 61.48s/it]"
     ]
    },
    {
     "name": "stdout",
     "output_type": "stream",
     "text": [
      "C:\\Users\\mahes\\ML\\dataset\\data unziped\\dfdc_train_part_0\\xmkwsnuzyq.mp4\n",
      "C:\\Users\\mahes\\ML\\dataset\\data unziped\\dfdc_train_part_0\\xmkwsnuzyq.mp4\n",
      "C:\\Users\\mahes\\ML\\dataset\\data unziped\\dfdc_train_part_0\\xmkwsnuzyq.mp4\n",
      "C:\\Users\\mahes\\ML\\dataset\\data unziped\\dfdc_train_part_0\\xmkwsnuzyq.mp4\n",
      "C:\\Users\\mahes\\ML\\dataset\\data unziped\\dfdc_train_part_0\\xmkwsnuzyq.mp4\n",
      "C:\\Users\\mahes\\ML\\dataset\\data unziped\\dfdc_train_part_0\\xmkwsnuzyq.mp4\n",
      "C:\\Users\\mahes\\ML\\dataset\\data unziped\\dfdc_train_part_0\\xmkwsnuzyq.mp4\n",
      "C:\\Users\\mahes\\ML\\dataset\\data unziped\\dfdc_train_part_0\\xmkwsnuzyq.mp4\n",
      "C:\\Users\\mahes\\ML\\dataset\\data unziped\\dfdc_train_part_0\\xmkwsnuzyq.mp4\n",
      "C:\\Users\\mahes\\ML\\dataset\\data unziped\\dfdc_train_part_0\\xmkwsnuzyq.mp4\n"
     ]
    },
    {
     "name": "stderr",
     "output_type": "stream",
     "text": [
      "Processing 500 videos:   8%|▊         | 39/500 [29:12<7:57:52, 62.20s/it]"
     ]
    },
    {
     "name": "stdout",
     "output_type": "stream",
     "text": [
      "C:\\Users\\mahes\\ML\\dataset\\data unziped\\dfdc_train_part_0\\vokrpfjpeb.mp4\n",
      "C:\\Users\\mahes\\ML\\dataset\\data unziped\\dfdc_train_part_0\\vokrpfjpeb.mp4\n",
      "C:\\Users\\mahes\\ML\\dataset\\data unziped\\dfdc_train_part_0\\vokrpfjpeb.mp4\n",
      "C:\\Users\\mahes\\ML\\dataset\\data unziped\\dfdc_train_part_0\\vokrpfjpeb.mp4\n",
      "C:\\Users\\mahes\\ML\\dataset\\data unziped\\dfdc_train_part_0\\vokrpfjpeb.mp4\n",
      "C:\\Users\\mahes\\ML\\dataset\\data unziped\\dfdc_train_part_0\\vokrpfjpeb.mp4\n",
      "C:\\Users\\mahes\\ML\\dataset\\data unziped\\dfdc_train_part_0\\vokrpfjpeb.mp4\n",
      "C:\\Users\\mahes\\ML\\dataset\\data unziped\\dfdc_train_part_0\\vokrpfjpeb.mp4\n",
      "C:\\Users\\mahes\\ML\\dataset\\data unziped\\dfdc_train_part_0\\vokrpfjpeb.mp4\n",
      "C:\\Users\\mahes\\ML\\dataset\\data unziped\\dfdc_train_part_0\\vokrpfjpeb.mp4\n"
     ]
    },
    {
     "name": "stderr",
     "output_type": "stream",
     "text": [
      "Processing 500 videos:   8%|▊         | 40/500 [30:17<8:02:47, 62.97s/it]"
     ]
    },
    {
     "name": "stdout",
     "output_type": "stream",
     "text": [
      "C:\\Users\\mahes\\ML\\dataset\\data unziped\\dfdc_train_part_0\\doniqevxeg.mp4\n",
      "C:\\Users\\mahes\\ML\\dataset\\data unziped\\dfdc_train_part_0\\doniqevxeg.mp4\n",
      "C:\\Users\\mahes\\ML\\dataset\\data unziped\\dfdc_train_part_0\\doniqevxeg.mp4\n",
      "C:\\Users\\mahes\\ML\\dataset\\data unziped\\dfdc_train_part_0\\doniqevxeg.mp4\n",
      "C:\\Users\\mahes\\ML\\dataset\\data unziped\\dfdc_train_part_0\\doniqevxeg.mp4\n",
      "C:\\Users\\mahes\\ML\\dataset\\data unziped\\dfdc_train_part_0\\doniqevxeg.mp4\n",
      "C:\\Users\\mahes\\ML\\dataset\\data unziped\\dfdc_train_part_0\\doniqevxeg.mp4\n",
      "C:\\Users\\mahes\\ML\\dataset\\data unziped\\dfdc_train_part_0\\doniqevxeg.mp4\n",
      "C:\\Users\\mahes\\ML\\dataset\\data unziped\\dfdc_train_part_0\\doniqevxeg.mp4\n",
      "C:\\Users\\mahes\\ML\\dataset\\data unziped\\dfdc_train_part_0\\doniqevxeg.mp4\n"
     ]
    },
    {
     "name": "stderr",
     "output_type": "stream",
     "text": [
      "Processing 500 videos:   8%|▊         | 41/500 [31:22<8:08:14, 63.82s/it]"
     ]
    },
    {
     "name": "stdout",
     "output_type": "stream",
     "text": [
      "C:\\Users\\mahes\\ML\\dataset\\data unziped\\dfdc_train_part_0\\aayrffkzxn.mp4\n",
      "C:\\Users\\mahes\\ML\\dataset\\data unziped\\dfdc_train_part_0\\aayrffkzxn.mp4\n",
      "C:\\Users\\mahes\\ML\\dataset\\data unziped\\dfdc_train_part_0\\aayrffkzxn.mp4\n",
      "C:\\Users\\mahes\\ML\\dataset\\data unziped\\dfdc_train_part_0\\aayrffkzxn.mp4\n",
      "C:\\Users\\mahes\\ML\\dataset\\data unziped\\dfdc_train_part_0\\aayrffkzxn.mp4\n",
      "C:\\Users\\mahes\\ML\\dataset\\data unziped\\dfdc_train_part_0\\aayrffkzxn.mp4\n",
      "C:\\Users\\mahes\\ML\\dataset\\data unziped\\dfdc_train_part_0\\aayrffkzxn.mp4\n",
      "C:\\Users\\mahes\\ML\\dataset\\data unziped\\dfdc_train_part_0\\aayrffkzxn.mp4\n",
      "C:\\Users\\mahes\\ML\\dataset\\data unziped\\dfdc_train_part_0\\aayrffkzxn.mp4\n",
      "C:\\Users\\mahes\\ML\\dataset\\data unziped\\dfdc_train_part_0\\aayrffkzxn.mp4\n"
     ]
    },
    {
     "name": "stderr",
     "output_type": "stream",
     "text": [
      "Processing 500 videos:   8%|▊         | 42/500 [32:26<8:05:39, 63.62s/it]"
     ]
    },
    {
     "name": "stdout",
     "output_type": "stream",
     "text": [
      "C:\\Users\\mahes\\ML\\dataset\\data unziped\\dfdc_train_part_0\\upmgtackuf.mp4\n",
      "C:\\Users\\mahes\\ML\\dataset\\data unziped\\dfdc_train_part_0\\upmgtackuf.mp4\n",
      "C:\\Users\\mahes\\ML\\dataset\\data unziped\\dfdc_train_part_0\\upmgtackuf.mp4\n",
      "C:\\Users\\mahes\\ML\\dataset\\data unziped\\dfdc_train_part_0\\upmgtackuf.mp4\n",
      "C:\\Users\\mahes\\ML\\dataset\\data unziped\\dfdc_train_part_0\\upmgtackuf.mp4\n",
      "C:\\Users\\mahes\\ML\\dataset\\data unziped\\dfdc_train_part_0\\upmgtackuf.mp4\n",
      "C:\\Users\\mahes\\ML\\dataset\\data unziped\\dfdc_train_part_0\\upmgtackuf.mp4\n",
      "C:\\Users\\mahes\\ML\\dataset\\data unziped\\dfdc_train_part_0\\upmgtackuf.mp4\n",
      "C:\\Users\\mahes\\ML\\dataset\\data unziped\\dfdc_train_part_0\\upmgtackuf.mp4\n",
      "C:\\Users\\mahes\\ML\\dataset\\data unziped\\dfdc_train_part_0\\upmgtackuf.mp4\n"
     ]
    },
    {
     "name": "stderr",
     "output_type": "stream",
     "text": [
      "Processing 500 videos:   9%|▊         | 43/500 [33:26<7:55:59, 62.49s/it]"
     ]
    },
    {
     "name": "stdout",
     "output_type": "stream",
     "text": [
      "C:\\Users\\mahes\\ML\\dataset\\data unziped\\dfdc_train_part_0\\prmwoaeeng.mp4\n",
      "C:\\Users\\mahes\\ML\\dataset\\data unziped\\dfdc_train_part_0\\prmwoaeeng.mp4\n",
      "C:\\Users\\mahes\\ML\\dataset\\data unziped\\dfdc_train_part_0\\prmwoaeeng.mp4\n",
      "C:\\Users\\mahes\\ML\\dataset\\data unziped\\dfdc_train_part_0\\prmwoaeeng.mp4\n",
      "C:\\Users\\mahes\\ML\\dataset\\data unziped\\dfdc_train_part_0\\prmwoaeeng.mp4\n",
      "C:\\Users\\mahes\\ML\\dataset\\data unziped\\dfdc_train_part_0\\prmwoaeeng.mp4\n",
      "C:\\Users\\mahes\\ML\\dataset\\data unziped\\dfdc_train_part_0\\prmwoaeeng.mp4\n",
      "C:\\Users\\mahes\\ML\\dataset\\data unziped\\dfdc_train_part_0\\prmwoaeeng.mp4\n",
      "C:\\Users\\mahes\\ML\\dataset\\data unziped\\dfdc_train_part_0\\prmwoaeeng.mp4\n",
      "C:\\Users\\mahes\\ML\\dataset\\data unziped\\dfdc_train_part_0\\prmwoaeeng.mp4\n"
     ]
    },
    {
     "name": "stderr",
     "output_type": "stream",
     "text": [
      "Processing 500 videos:   9%|▉         | 44/500 [34:21<7:39:26, 60.45s/it]"
     ]
    },
    {
     "name": "stdout",
     "output_type": "stream",
     "text": [
      "C:\\Users\\mahes\\ML\\dataset\\data unziped\\dfdc_train_part_0\\nrnklcxdzq.mp4\n",
      "C:\\Users\\mahes\\ML\\dataset\\data unziped\\dfdc_train_part_0\\nrnklcxdzq.mp4\n",
      "C:\\Users\\mahes\\ML\\dataset\\data unziped\\dfdc_train_part_0\\nrnklcxdzq.mp4\n",
      "C:\\Users\\mahes\\ML\\dataset\\data unziped\\dfdc_train_part_0\\nrnklcxdzq.mp4\n",
      "C:\\Users\\mahes\\ML\\dataset\\data unziped\\dfdc_train_part_0\\nrnklcxdzq.mp4\n",
      "C:\\Users\\mahes\\ML\\dataset\\data unziped\\dfdc_train_part_0\\nrnklcxdzq.mp4\n",
      "C:\\Users\\mahes\\ML\\dataset\\data unziped\\dfdc_train_part_0\\nrnklcxdzq.mp4\n",
      "C:\\Users\\mahes\\ML\\dataset\\data unziped\\dfdc_train_part_0\\nrnklcxdzq.mp4\n",
      "C:\\Users\\mahes\\ML\\dataset\\data unziped\\dfdc_train_part_0\\nrnklcxdzq.mp4\n",
      "C:\\Users\\mahes\\ML\\dataset\\data unziped\\dfdc_train_part_0\\nrnklcxdzq.mp4\n"
     ]
    },
    {
     "name": "stderr",
     "output_type": "stream",
     "text": [
      "Processing 500 videos:   9%|▉         | 45/500 [35:23<7:41:33, 60.87s/it]"
     ]
    },
    {
     "name": "stdout",
     "output_type": "stream",
     "text": [
      "C:\\Users\\mahes\\ML\\dataset\\data unziped\\dfdc_train_part_0\\jzupayeuln.mp4\n",
      "C:\\Users\\mahes\\ML\\dataset\\data unziped\\dfdc_train_part_0\\jzupayeuln.mp4\n",
      "C:\\Users\\mahes\\ML\\dataset\\data unziped\\dfdc_train_part_0\\jzupayeuln.mp4\n",
      "C:\\Users\\mahes\\ML\\dataset\\data unziped\\dfdc_train_part_0\\jzupayeuln.mp4\n",
      "C:\\Users\\mahes\\ML\\dataset\\data unziped\\dfdc_train_part_0\\jzupayeuln.mp4\n",
      "C:\\Users\\mahes\\ML\\dataset\\data unziped\\dfdc_train_part_0\\jzupayeuln.mp4\n",
      "C:\\Users\\mahes\\ML\\dataset\\data unziped\\dfdc_train_part_0\\jzupayeuln.mp4\n",
      "C:\\Users\\mahes\\ML\\dataset\\data unziped\\dfdc_train_part_0\\jzupayeuln.mp4\n",
      "C:\\Users\\mahes\\ML\\dataset\\data unziped\\dfdc_train_part_0\\jzupayeuln.mp4\n",
      "C:\\Users\\mahes\\ML\\dataset\\data unziped\\dfdc_train_part_0\\jzupayeuln.mp4\n"
     ]
    },
    {
     "name": "stderr",
     "output_type": "stream",
     "text": [
      "Processing 500 videos:   9%|▉         | 46/500 [36:27<7:46:41, 61.68s/it]"
     ]
    },
    {
     "name": "stdout",
     "output_type": "stream",
     "text": [
      "C:\\Users\\mahes\\ML\\dataset\\data unziped\\dfdc_train_part_0\\ddtbarpcgo.mp4\n",
      "C:\\Users\\mahes\\ML\\dataset\\data unziped\\dfdc_train_part_0\\ddtbarpcgo.mp4\n",
      "C:\\Users\\mahes\\ML\\dataset\\data unziped\\dfdc_train_part_0\\ddtbarpcgo.mp4\n",
      "C:\\Users\\mahes\\ML\\dataset\\data unziped\\dfdc_train_part_0\\ddtbarpcgo.mp4\n",
      "C:\\Users\\mahes\\ML\\dataset\\data unziped\\dfdc_train_part_0\\ddtbarpcgo.mp4\n",
      "C:\\Users\\mahes\\ML\\dataset\\data unziped\\dfdc_train_part_0\\ddtbarpcgo.mp4\n",
      "C:\\Users\\mahes\\ML\\dataset\\data unziped\\dfdc_train_part_0\\ddtbarpcgo.mp4\n",
      "C:\\Users\\mahes\\ML\\dataset\\data unziped\\dfdc_train_part_0\\ddtbarpcgo.mp4\n",
      "C:\\Users\\mahes\\ML\\dataset\\data unziped\\dfdc_train_part_0\\ddtbarpcgo.mp4\n",
      "C:\\Users\\mahes\\ML\\dataset\\data unziped\\dfdc_train_part_0\\ddtbarpcgo.mp4\n"
     ]
    },
    {
     "name": "stderr",
     "output_type": "stream",
     "text": [
      "Processing 500 videos:   9%|▉         | 47/500 [37:20<7:27:19, 59.25s/it]"
     ]
    },
    {
     "name": "stdout",
     "output_type": "stream",
     "text": [
      "C:\\Users\\mahes\\ML\\dataset\\data unziped\\dfdc_train_part_0\\exxqlfpnbz.mp4\n",
      "C:\\Users\\mahes\\ML\\dataset\\data unziped\\dfdc_train_part_0\\exxqlfpnbz.mp4\n",
      "C:\\Users\\mahes\\ML\\dataset\\data unziped\\dfdc_train_part_0\\exxqlfpnbz.mp4\n",
      "C:\\Users\\mahes\\ML\\dataset\\data unziped\\dfdc_train_part_0\\exxqlfpnbz.mp4\n",
      "C:\\Users\\mahes\\ML\\dataset\\data unziped\\dfdc_train_part_0\\exxqlfpnbz.mp4\n",
      "C:\\Users\\mahes\\ML\\dataset\\data unziped\\dfdc_train_part_0\\exxqlfpnbz.mp4\n",
      "C:\\Users\\mahes\\ML\\dataset\\data unziped\\dfdc_train_part_0\\exxqlfpnbz.mp4\n",
      "C:\\Users\\mahes\\ML\\dataset\\data unziped\\dfdc_train_part_0\\exxqlfpnbz.mp4\n",
      "C:\\Users\\mahes\\ML\\dataset\\data unziped\\dfdc_train_part_0\\exxqlfpnbz.mp4\n",
      "C:\\Users\\mahes\\ML\\dataset\\data unziped\\dfdc_train_part_0\\exxqlfpnbz.mp4\n"
     ]
    },
    {
     "name": "stderr",
     "output_type": "stream",
     "text": [
      "Processing 500 videos:  10%|▉         | 48/500 [38:18<7:23:15, 58.84s/it]"
     ]
    },
    {
     "name": "stdout",
     "output_type": "stream",
     "text": [
      "C:\\Users\\mahes\\ML\\dataset\\data unziped\\dfdc_train_part_0\\fnslimfagb.mp4\n",
      "C:\\Users\\mahes\\ML\\dataset\\data unziped\\dfdc_train_part_0\\fnslimfagb.mp4\n",
      "C:\\Users\\mahes\\ML\\dataset\\data unziped\\dfdc_train_part_0\\fnslimfagb.mp4\n",
      "C:\\Users\\mahes\\ML\\dataset\\data unziped\\dfdc_train_part_0\\fnslimfagb.mp4\n",
      "C:\\Users\\mahes\\ML\\dataset\\data unziped\\dfdc_train_part_0\\fnslimfagb.mp4\n",
      "C:\\Users\\mahes\\ML\\dataset\\data unziped\\dfdc_train_part_0\\fnslimfagb.mp4\n",
      "C:\\Users\\mahes\\ML\\dataset\\data unziped\\dfdc_train_part_0\\fnslimfagb.mp4\n",
      "C:\\Users\\mahes\\ML\\dataset\\data unziped\\dfdc_train_part_0\\fnslimfagb.mp4\n",
      "C:\\Users\\mahes\\ML\\dataset\\data unziped\\dfdc_train_part_0\\fnslimfagb.mp4\n",
      "C:\\Users\\mahes\\ML\\dataset\\data unziped\\dfdc_train_part_0\\fnslimfagb.mp4\n"
     ]
    },
    {
     "name": "stderr",
     "output_type": "stream",
     "text": [
      "Processing 500 videos:  10%|▉         | 49/500 [39:22<7:34:03, 60.41s/it]"
     ]
    },
    {
     "name": "stdout",
     "output_type": "stream",
     "text": [
      "C:\\Users\\mahes\\ML\\dataset\\data unziped\\dfdc_train_part_0\\dhjnjkzuhq.mp4\n",
      "C:\\Users\\mahes\\ML\\dataset\\data unziped\\dfdc_train_part_0\\dhjnjkzuhq.mp4\n",
      "C:\\Users\\mahes\\ML\\dataset\\data unziped\\dfdc_train_part_0\\dhjnjkzuhq.mp4\n",
      "C:\\Users\\mahes\\ML\\dataset\\data unziped\\dfdc_train_part_0\\dhjnjkzuhq.mp4\n",
      "C:\\Users\\mahes\\ML\\dataset\\data unziped\\dfdc_train_part_0\\dhjnjkzuhq.mp4\n",
      "C:\\Users\\mahes\\ML\\dataset\\data unziped\\dfdc_train_part_0\\dhjnjkzuhq.mp4\n",
      "C:\\Users\\mahes\\ML\\dataset\\data unziped\\dfdc_train_part_0\\dhjnjkzuhq.mp4\n",
      "C:\\Users\\mahes\\ML\\dataset\\data unziped\\dfdc_train_part_0\\dhjnjkzuhq.mp4\n",
      "C:\\Users\\mahes\\ML\\dataset\\data unziped\\dfdc_train_part_0\\dhjnjkzuhq.mp4\n",
      "C:\\Users\\mahes\\ML\\dataset\\data unziped\\dfdc_train_part_0\\dhjnjkzuhq.mp4\n"
     ]
    },
    {
     "name": "stderr",
     "output_type": "stream",
     "text": [
      "Processing 500 videos:  10%|█         | 50/500 [40:26<7:41:51, 61.58s/it]"
     ]
    },
    {
     "name": "stdout",
     "output_type": "stream",
     "text": [
      "C:\\Users\\mahes\\ML\\dataset\\data unziped\\dfdc_train_part_0\\nrnklcxdzq.mp4\n",
      "C:\\Users\\mahes\\ML\\dataset\\data unziped\\dfdc_train_part_0\\nrnklcxdzq.mp4\n",
      "C:\\Users\\mahes\\ML\\dataset\\data unziped\\dfdc_train_part_0\\nrnklcxdzq.mp4\n",
      "C:\\Users\\mahes\\ML\\dataset\\data unziped\\dfdc_train_part_0\\nrnklcxdzq.mp4\n",
      "C:\\Users\\mahes\\ML\\dataset\\data unziped\\dfdc_train_part_0\\nrnklcxdzq.mp4\n",
      "C:\\Users\\mahes\\ML\\dataset\\data unziped\\dfdc_train_part_0\\nrnklcxdzq.mp4\n",
      "C:\\Users\\mahes\\ML\\dataset\\data unziped\\dfdc_train_part_0\\nrnklcxdzq.mp4\n",
      "C:\\Users\\mahes\\ML\\dataset\\data unziped\\dfdc_train_part_0\\nrnklcxdzq.mp4\n",
      "C:\\Users\\mahes\\ML\\dataset\\data unziped\\dfdc_train_part_0\\nrnklcxdzq.mp4\n",
      "C:\\Users\\mahes\\ML\\dataset\\data unziped\\dfdc_train_part_0\\nrnklcxdzq.mp4\n"
     ]
    },
    {
     "name": "stderr",
     "output_type": "stream",
     "text": [
      "Processing 500 videos:  10%|█         | 51/500 [41:29<7:42:40, 61.83s/it]"
     ]
    },
    {
     "name": "stdout",
     "output_type": "stream",
     "text": [
      "C:\\Users\\mahes\\ML\\dataset\\data unziped\\dfdc_train_part_0\\REAL\n",
      "C:\\Users\\mahes\\ML\\dataset\\data unziped\\dfdc_train_part_0\\REAL\n",
      "C:\\Users\\mahes\\ML\\dataset\\data unziped\\dfdc_train_part_0\\REAL\n",
      "C:\\Users\\mahes\\ML\\dataset\\data unziped\\dfdc_train_part_0\\REAL\n",
      "C:\\Users\\mahes\\ML\\dataset\\data unziped\\dfdc_train_part_0\\REAL\n",
      "C:\\Users\\mahes\\ML\\dataset\\data unziped\\dfdc_train_part_0\\REAL\n",
      "C:\\Users\\mahes\\ML\\dataset\\data unziped\\dfdc_train_part_0\\REAL\n",
      "C:\\Users\\mahes\\ML\\dataset\\data unziped\\dfdc_train_part_0\\REAL\n",
      "C:\\Users\\mahes\\ML\\dataset\\data unziped\\dfdc_train_part_0\\REAL\n"
     ]
    },
    {
     "name": "stderr",
     "output_type": "stream",
     "text": [
      "Processing 500 videos:  10%|█         | 52/500 [41:37<5:42:01, 45.81s/it]"
     ]
    },
    {
     "name": "stdout",
     "output_type": "stream",
     "text": [
      "C:\\Users\\mahes\\ML\\dataset\\data unziped\\dfdc_train_part_0\\REAL\n",
      "C:\\Users\\mahes\\ML\\dataset\\data unziped\\dfdc_train_part_0\\nweufafotd.mp4\n",
      "C:\\Users\\mahes\\ML\\dataset\\data unziped\\dfdc_train_part_0\\nweufafotd.mp4\n",
      "C:\\Users\\mahes\\ML\\dataset\\data unziped\\dfdc_train_part_0\\nweufafotd.mp4\n",
      "C:\\Users\\mahes\\ML\\dataset\\data unziped\\dfdc_train_part_0\\nweufafotd.mp4\n",
      "C:\\Users\\mahes\\ML\\dataset\\data unziped\\dfdc_train_part_0\\nweufafotd.mp4\n",
      "C:\\Users\\mahes\\ML\\dataset\\data unziped\\dfdc_train_part_0\\nweufafotd.mp4\n",
      "C:\\Users\\mahes\\ML\\dataset\\data unziped\\dfdc_train_part_0\\nweufafotd.mp4\n",
      "C:\\Users\\mahes\\ML\\dataset\\data unziped\\dfdc_train_part_0\\nweufafotd.mp4\n",
      "C:\\Users\\mahes\\ML\\dataset\\data unziped\\dfdc_train_part_0\\nweufafotd.mp4\n",
      "C:\\Users\\mahes\\ML\\dataset\\data unziped\\dfdc_train_part_0\\nweufafotd.mp4\n"
     ]
    },
    {
     "name": "stderr",
     "output_type": "stream",
     "text": [
      "Processing 500 videos:  11%|█         | 53/500 [42:41<6:21:30, 51.21s/it]"
     ]
    },
    {
     "name": "stdout",
     "output_type": "stream",
     "text": [
      "C:\\Users\\mahes\\ML\\dataset\\data unziped\\dfdc_train_part_0\\jytrvwlewz.mp4\n",
      "C:\\Users\\mahes\\ML\\dataset\\data unziped\\dfdc_train_part_0\\jytrvwlewz.mp4\n",
      "C:\\Users\\mahes\\ML\\dataset\\data unziped\\dfdc_train_part_0\\jytrvwlewz.mp4\n",
      "C:\\Users\\mahes\\ML\\dataset\\data unziped\\dfdc_train_part_0\\jytrvwlewz.mp4\n",
      "C:\\Users\\mahes\\ML\\dataset\\data unziped\\dfdc_train_part_0\\jytrvwlewz.mp4\n",
      "C:\\Users\\mahes\\ML\\dataset\\data unziped\\dfdc_train_part_0\\jytrvwlewz.mp4\n",
      "C:\\Users\\mahes\\ML\\dataset\\data unziped\\dfdc_train_part_0\\jytrvwlewz.mp4\n",
      "C:\\Users\\mahes\\ML\\dataset\\data unziped\\dfdc_train_part_0\\jytrvwlewz.mp4\n",
      "C:\\Users\\mahes\\ML\\dataset\\data unziped\\dfdc_train_part_0\\jytrvwlewz.mp4\n",
      "C:\\Users\\mahes\\ML\\dataset\\data unziped\\dfdc_train_part_0\\jytrvwlewz.mp4\n"
     ]
    },
    {
     "name": "stderr",
     "output_type": "stream",
     "text": [
      "Processing 500 videos:  11%|█         | 54/500 [43:39<6:35:10, 53.16s/it]"
     ]
    },
    {
     "name": "stdout",
     "output_type": "stream",
     "text": [
      "C:\\Users\\mahes\\ML\\dataset\\data unziped\\dfdc_train_part_0\\gnmmhlbzge.mp4\n",
      "C:\\Users\\mahes\\ML\\dataset\\data unziped\\dfdc_train_part_0\\gnmmhlbzge.mp4\n",
      "C:\\Users\\mahes\\ML\\dataset\\data unziped\\dfdc_train_part_0\\gnmmhlbzge.mp4\n",
      "C:\\Users\\mahes\\ML\\dataset\\data unziped\\dfdc_train_part_0\\gnmmhlbzge.mp4\n",
      "C:\\Users\\mahes\\ML\\dataset\\data unziped\\dfdc_train_part_0\\gnmmhlbzge.mp4\n",
      "C:\\Users\\mahes\\ML\\dataset\\data unziped\\dfdc_train_part_0\\gnmmhlbzge.mp4\n",
      "C:\\Users\\mahes\\ML\\dataset\\data unziped\\dfdc_train_part_0\\gnmmhlbzge.mp4\n",
      "C:\\Users\\mahes\\ML\\dataset\\data unziped\\dfdc_train_part_0\\gnmmhlbzge.mp4\n",
      "C:\\Users\\mahes\\ML\\dataset\\data unziped\\dfdc_train_part_0\\gnmmhlbzge.mp4\n",
      "C:\\Users\\mahes\\ML\\dataset\\data unziped\\dfdc_train_part_0\\gnmmhlbzge.mp4\n"
     ]
    },
    {
     "name": "stderr",
     "output_type": "stream",
     "text": [
      "Processing 500 videos:  11%|█         | 55/500 [44:38<6:46:44, 54.84s/it]"
     ]
    },
    {
     "name": "stdout",
     "output_type": "stream",
     "text": [
      "C:\\Users\\mahes\\ML\\dataset\\data unziped\\dfdc_train_part_0\\nweufafotd.mp4\n",
      "C:\\Users\\mahes\\ML\\dataset\\data unziped\\dfdc_train_part_0\\nweufafotd.mp4\n",
      "C:\\Users\\mahes\\ML\\dataset\\data unziped\\dfdc_train_part_0\\nweufafotd.mp4\n",
      "C:\\Users\\mahes\\ML\\dataset\\data unziped\\dfdc_train_part_0\\nweufafotd.mp4\n",
      "C:\\Users\\mahes\\ML\\dataset\\data unziped\\dfdc_train_part_0\\nweufafotd.mp4\n",
      "C:\\Users\\mahes\\ML\\dataset\\data unziped\\dfdc_train_part_0\\nweufafotd.mp4\n",
      "C:\\Users\\mahes\\ML\\dataset\\data unziped\\dfdc_train_part_0\\nweufafotd.mp4\n",
      "C:\\Users\\mahes\\ML\\dataset\\data unziped\\dfdc_train_part_0\\nweufafotd.mp4\n",
      "C:\\Users\\mahes\\ML\\dataset\\data unziped\\dfdc_train_part_0\\nweufafotd.mp4\n",
      "C:\\Users\\mahes\\ML\\dataset\\data unziped\\dfdc_train_part_0\\nweufafotd.mp4\n"
     ]
    },
    {
     "name": "stderr",
     "output_type": "stream",
     "text": [
      "Processing 500 videos:  11%|█         | 56/500 [45:44<7:10:44, 58.21s/it]"
     ]
    },
    {
     "name": "stdout",
     "output_type": "stream",
     "text": [
      "C:\\Users\\mahes\\ML\\dataset\\data unziped\\dfdc_train_part_0\\jzupayeuln.mp4\n",
      "C:\\Users\\mahes\\ML\\dataset\\data unziped\\dfdc_train_part_0\\jzupayeuln.mp4\n",
      "C:\\Users\\mahes\\ML\\dataset\\data unziped\\dfdc_train_part_0\\jzupayeuln.mp4\n",
      "C:\\Users\\mahes\\ML\\dataset\\data unziped\\dfdc_train_part_0\\jzupayeuln.mp4\n",
      "C:\\Users\\mahes\\ML\\dataset\\data unziped\\dfdc_train_part_0\\jzupayeuln.mp4\n",
      "C:\\Users\\mahes\\ML\\dataset\\data unziped\\dfdc_train_part_0\\jzupayeuln.mp4\n",
      "C:\\Users\\mahes\\ML\\dataset\\data unziped\\dfdc_train_part_0\\jzupayeuln.mp4\n",
      "C:\\Users\\mahes\\ML\\dataset\\data unziped\\dfdc_train_part_0\\jzupayeuln.mp4\n",
      "C:\\Users\\mahes\\ML\\dataset\\data unziped\\dfdc_train_part_0\\jzupayeuln.mp4\n",
      "C:\\Users\\mahes\\ML\\dataset\\data unziped\\dfdc_train_part_0\\jzupayeuln.mp4\n"
     ]
    },
    {
     "name": "stderr",
     "output_type": "stream",
     "text": [
      "Processing 500 videos:  11%|█▏        | 57/500 [46:50<7:27:45, 60.65s/it]"
     ]
    },
    {
     "name": "stdout",
     "output_type": "stream",
     "text": [
      "C:\\Users\\mahes\\ML\\dataset\\data unziped\\dfdc_train_part_0\\fopjiyxiqd.mp4\n",
      "C:\\Users\\mahes\\ML\\dataset\\data unziped\\dfdc_train_part_0\\fopjiyxiqd.mp4\n",
      "C:\\Users\\mahes\\ML\\dataset\\data unziped\\dfdc_train_part_0\\fopjiyxiqd.mp4\n",
      "C:\\Users\\mahes\\ML\\dataset\\data unziped\\dfdc_train_part_0\\fopjiyxiqd.mp4\n",
      "C:\\Users\\mahes\\ML\\dataset\\data unziped\\dfdc_train_part_0\\fopjiyxiqd.mp4\n",
      "C:\\Users\\mahes\\ML\\dataset\\data unziped\\dfdc_train_part_0\\fopjiyxiqd.mp4\n",
      "C:\\Users\\mahes\\ML\\dataset\\data unziped\\dfdc_train_part_0\\fopjiyxiqd.mp4\n",
      "C:\\Users\\mahes\\ML\\dataset\\data unziped\\dfdc_train_part_0\\fopjiyxiqd.mp4\n",
      "C:\\Users\\mahes\\ML\\dataset\\data unziped\\dfdc_train_part_0\\fopjiyxiqd.mp4\n",
      "C:\\Users\\mahes\\ML\\dataset\\data unziped\\dfdc_train_part_0\\fopjiyxiqd.mp4\n"
     ]
    },
    {
     "name": "stderr",
     "output_type": "stream",
     "text": [
      "Processing 500 videos:  12%|█▏        | 58/500 [47:48<7:21:55, 59.99s/it]"
     ]
    },
    {
     "name": "stdout",
     "output_type": "stream",
     "text": [
      "C:\\Users\\mahes\\ML\\dataset\\data unziped\\dfdc_train_part_0\\REAL\n",
      "C:\\Users\\mahes\\ML\\dataset\\data unziped\\dfdc_train_part_0\\REAL\n",
      "C:\\Users\\mahes\\ML\\dataset\\data unziped\\dfdc_train_part_0\\REAL\n",
      "C:\\Users\\mahes\\ML\\dataset\\data unziped\\dfdc_train_part_0\\REAL\n",
      "C:\\Users\\mahes\\ML\\dataset\\data unziped\\dfdc_train_part_0\\REAL\n",
      "C:\\Users\\mahes\\ML\\dataset\\data unziped\\dfdc_train_part_0\\REAL\n",
      "C:\\Users\\mahes\\ML\\dataset\\data unziped\\dfdc_train_part_0\\REAL\n",
      "C:\\Users\\mahes\\ML\\dataset\\data unziped\\dfdc_train_part_0\\REAL\n",
      "C:\\Users\\mahes\\ML\\dataset\\data unziped\\dfdc_train_part_0\\REAL\n"
     ]
    },
    {
     "name": "stderr",
     "output_type": "stream",
     "text": [
      "Processing 500 videos:  12%|█▏        | 59/500 [47:57<5:26:39, 44.44s/it]"
     ]
    },
    {
     "name": "stdout",
     "output_type": "stream",
     "text": [
      "C:\\Users\\mahes\\ML\\dataset\\data unziped\\dfdc_train_part_0\\REAL\n",
      "C:\\Users\\mahes\\ML\\dataset\\data unziped\\dfdc_train_part_0\\prdrkaxeob.mp4\n",
      "C:\\Users\\mahes\\ML\\dataset\\data unziped\\dfdc_train_part_0\\prdrkaxeob.mp4\n",
      "C:\\Users\\mahes\\ML\\dataset\\data unziped\\dfdc_train_part_0\\prdrkaxeob.mp4\n",
      "C:\\Users\\mahes\\ML\\dataset\\data unziped\\dfdc_train_part_0\\prdrkaxeob.mp4\n",
      "C:\\Users\\mahes\\ML\\dataset\\data unziped\\dfdc_train_part_0\\prdrkaxeob.mp4\n",
      "C:\\Users\\mahes\\ML\\dataset\\data unziped\\dfdc_train_part_0\\prdrkaxeob.mp4\n",
      "C:\\Users\\mahes\\ML\\dataset\\data unziped\\dfdc_train_part_0\\prdrkaxeob.mp4\n",
      "C:\\Users\\mahes\\ML\\dataset\\data unziped\\dfdc_train_part_0\\prdrkaxeob.mp4\n",
      "C:\\Users\\mahes\\ML\\dataset\\data unziped\\dfdc_train_part_0\\prdrkaxeob.mp4\n",
      "C:\\Users\\mahes\\ML\\dataset\\data unziped\\dfdc_train_part_0\\prdrkaxeob.mp4\n"
     ]
    },
    {
     "name": "stderr",
     "output_type": "stream",
     "text": [
      "Processing 500 videos:  12%|█▏        | 60/500 [48:56<5:59:50, 49.07s/it]"
     ]
    },
    {
     "name": "stdout",
     "output_type": "stream",
     "text": [
      "C:\\Users\\mahes\\ML\\dataset\\data unziped\\dfdc_train_part_0\\wynotylpnm.mp4\n",
      "C:\\Users\\mahes\\ML\\dataset\\data unziped\\dfdc_train_part_0\\wynotylpnm.mp4\n",
      "C:\\Users\\mahes\\ML\\dataset\\data unziped\\dfdc_train_part_0\\wynotylpnm.mp4\n",
      "C:\\Users\\mahes\\ML\\dataset\\data unziped\\dfdc_train_part_0\\wynotylpnm.mp4\n",
      "C:\\Users\\mahes\\ML\\dataset\\data unziped\\dfdc_train_part_0\\wynotylpnm.mp4\n",
      "C:\\Users\\mahes\\ML\\dataset\\data unziped\\dfdc_train_part_0\\wynotylpnm.mp4\n",
      "C:\\Users\\mahes\\ML\\dataset\\data unziped\\dfdc_train_part_0\\wynotylpnm.mp4\n",
      "C:\\Users\\mahes\\ML\\dataset\\data unziped\\dfdc_train_part_0\\wynotylpnm.mp4\n",
      "C:\\Users\\mahes\\ML\\dataset\\data unziped\\dfdc_train_part_0\\wynotylpnm.mp4\n",
      "C:\\Users\\mahes\\ML\\dataset\\data unziped\\dfdc_train_part_0\\wynotylpnm.mp4\n"
     ]
    },
    {
     "name": "stderr",
     "output_type": "stream",
     "text": [
      "Processing 500 videos:  12%|█▏        | 61/500 [49:53<6:16:18, 51.43s/it]"
     ]
    },
    {
     "name": "stdout",
     "output_type": "stream",
     "text": [
      "C:\\Users\\mahes\\ML\\dataset\\data unziped\\dfdc_train_part_0\\kqlvggiqee.mp4\n",
      "C:\\Users\\mahes\\ML\\dataset\\data unziped\\dfdc_train_part_0\\kqlvggiqee.mp4\n",
      "C:\\Users\\mahes\\ML\\dataset\\data unziped\\dfdc_train_part_0\\kqlvggiqee.mp4\n",
      "C:\\Users\\mahes\\ML\\dataset\\data unziped\\dfdc_train_part_0\\kqlvggiqee.mp4\n",
      "C:\\Users\\mahes\\ML\\dataset\\data unziped\\dfdc_train_part_0\\kqlvggiqee.mp4\n",
      "C:\\Users\\mahes\\ML\\dataset\\data unziped\\dfdc_train_part_0\\kqlvggiqee.mp4\n",
      "C:\\Users\\mahes\\ML\\dataset\\data unziped\\dfdc_train_part_0\\kqlvggiqee.mp4\n",
      "C:\\Users\\mahes\\ML\\dataset\\data unziped\\dfdc_train_part_0\\kqlvggiqee.mp4\n",
      "C:\\Users\\mahes\\ML\\dataset\\data unziped\\dfdc_train_part_0\\kqlvggiqee.mp4\n",
      "C:\\Users\\mahes\\ML\\dataset\\data unziped\\dfdc_train_part_0\\kqlvggiqee.mp4\n"
     ]
    },
    {
     "name": "stderr",
     "output_type": "stream",
     "text": [
      "Processing 500 videos:  12%|█▏        | 62/500 [50:48<6:22:49, 52.44s/it]"
     ]
    },
    {
     "name": "stdout",
     "output_type": "stream",
     "text": [
      "C:\\Users\\mahes\\ML\\dataset\\data unziped\\dfdc_train_part_0\\qyqufaskjs.mp4\n",
      "C:\\Users\\mahes\\ML\\dataset\\data unziped\\dfdc_train_part_0\\qyqufaskjs.mp4\n",
      "C:\\Users\\mahes\\ML\\dataset\\data unziped\\dfdc_train_part_0\\qyqufaskjs.mp4\n",
      "C:\\Users\\mahes\\ML\\dataset\\data unziped\\dfdc_train_part_0\\qyqufaskjs.mp4\n",
      "C:\\Users\\mahes\\ML\\dataset\\data unziped\\dfdc_train_part_0\\qyqufaskjs.mp4\n",
      "C:\\Users\\mahes\\ML\\dataset\\data unziped\\dfdc_train_part_0\\qyqufaskjs.mp4\n",
      "C:\\Users\\mahes\\ML\\dataset\\data unziped\\dfdc_train_part_0\\qyqufaskjs.mp4\n",
      "C:\\Users\\mahes\\ML\\dataset\\data unziped\\dfdc_train_part_0\\qyqufaskjs.mp4\n",
      "C:\\Users\\mahes\\ML\\dataset\\data unziped\\dfdc_train_part_0\\qyqufaskjs.mp4\n",
      "C:\\Users\\mahes\\ML\\dataset\\data unziped\\dfdc_train_part_0\\qyqufaskjs.mp4\n"
     ]
    },
    {
     "name": "stderr",
     "output_type": "stream",
     "text": [
      "Processing 500 videos:  13%|█▎        | 63/500 [51:54<6:50:48, 56.40s/it]"
     ]
    },
    {
     "name": "stdout",
     "output_type": "stream",
     "text": [
      "C:\\Users\\mahes\\ML\\dataset\\data unziped\\dfdc_train_part_0\\psjfwjzrrh.mp4\n",
      "C:\\Users\\mahes\\ML\\dataset\\data unziped\\dfdc_train_part_0\\psjfwjzrrh.mp4\n",
      "C:\\Users\\mahes\\ML\\dataset\\data unziped\\dfdc_train_part_0\\psjfwjzrrh.mp4\n",
      "C:\\Users\\mahes\\ML\\dataset\\data unziped\\dfdc_train_part_0\\psjfwjzrrh.mp4\n",
      "C:\\Users\\mahes\\ML\\dataset\\data unziped\\dfdc_train_part_0\\psjfwjzrrh.mp4\n",
      "C:\\Users\\mahes\\ML\\dataset\\data unziped\\dfdc_train_part_0\\psjfwjzrrh.mp4\n",
      "C:\\Users\\mahes\\ML\\dataset\\data unziped\\dfdc_train_part_0\\psjfwjzrrh.mp4\n",
      "C:\\Users\\mahes\\ML\\dataset\\data unziped\\dfdc_train_part_0\\psjfwjzrrh.mp4\n",
      "C:\\Users\\mahes\\ML\\dataset\\data unziped\\dfdc_train_part_0\\psjfwjzrrh.mp4\n",
      "C:\\Users\\mahes\\ML\\dataset\\data unziped\\dfdc_train_part_0\\psjfwjzrrh.mp4\n"
     ]
    },
    {
     "name": "stderr",
     "output_type": "stream",
     "text": [
      "Processing 500 videos:  13%|█▎        | 64/500 [53:00<7:12:10, 59.47s/it]"
     ]
    },
    {
     "name": "stdout",
     "output_type": "stream",
     "text": [
      "C:\\Users\\mahes\\ML\\dataset\\data unziped\\dfdc_train_part_0\\xjzkfqddyk.mp4\n",
      "C:\\Users\\mahes\\ML\\dataset\\data unziped\\dfdc_train_part_0\\xjzkfqddyk.mp4\n",
      "C:\\Users\\mahes\\ML\\dataset\\data unziped\\dfdc_train_part_0\\xjzkfqddyk.mp4\n",
      "C:\\Users\\mahes\\ML\\dataset\\data unziped\\dfdc_train_part_0\\xjzkfqddyk.mp4\n",
      "C:\\Users\\mahes\\ML\\dataset\\data unziped\\dfdc_train_part_0\\xjzkfqddyk.mp4\n",
      "C:\\Users\\mahes\\ML\\dataset\\data unziped\\dfdc_train_part_0\\xjzkfqddyk.mp4\n",
      "C:\\Users\\mahes\\ML\\dataset\\data unziped\\dfdc_train_part_0\\xjzkfqddyk.mp4\n",
      "C:\\Users\\mahes\\ML\\dataset\\data unziped\\dfdc_train_part_0\\xjzkfqddyk.mp4\n",
      "C:\\Users\\mahes\\ML\\dataset\\data unziped\\dfdc_train_part_0\\xjzkfqddyk.mp4\n",
      "C:\\Users\\mahes\\ML\\dataset\\data unziped\\dfdc_train_part_0\\xjzkfqddyk.mp4\n"
     ]
    },
    {
     "name": "stderr",
     "output_type": "stream",
     "text": [
      "Processing 500 videos:  13%|█▎        | 65/500 [54:05<7:23:10, 61.13s/it]"
     ]
    },
    {
     "name": "stdout",
     "output_type": "stream",
     "text": [
      "C:\\Users\\mahes\\ML\\dataset\\data unziped\\dfdc_train_part_0\\exxqlfpnbz.mp4\n",
      "C:\\Users\\mahes\\ML\\dataset\\data unziped\\dfdc_train_part_0\\exxqlfpnbz.mp4\n",
      "C:\\Users\\mahes\\ML\\dataset\\data unziped\\dfdc_train_part_0\\exxqlfpnbz.mp4\n",
      "C:\\Users\\mahes\\ML\\dataset\\data unziped\\dfdc_train_part_0\\exxqlfpnbz.mp4\n",
      "C:\\Users\\mahes\\ML\\dataset\\data unziped\\dfdc_train_part_0\\exxqlfpnbz.mp4\n",
      "C:\\Users\\mahes\\ML\\dataset\\data unziped\\dfdc_train_part_0\\exxqlfpnbz.mp4\n",
      "C:\\Users\\mahes\\ML\\dataset\\data unziped\\dfdc_train_part_0\\exxqlfpnbz.mp4\n",
      "C:\\Users\\mahes\\ML\\dataset\\data unziped\\dfdc_train_part_0\\exxqlfpnbz.mp4\n",
      "C:\\Users\\mahes\\ML\\dataset\\data unziped\\dfdc_train_part_0\\exxqlfpnbz.mp4\n",
      "C:\\Users\\mahes\\ML\\dataset\\data unziped\\dfdc_train_part_0\\exxqlfpnbz.mp4\n"
     ]
    },
    {
     "name": "stderr",
     "output_type": "stream",
     "text": [
      "Processing 500 videos:  13%|█▎        | 66/500 [55:04<7:16:32, 60.35s/it]"
     ]
    },
    {
     "name": "stdout",
     "output_type": "stream",
     "text": [
      "C:\\Users\\mahes\\ML\\dataset\\data unziped\\dfdc_train_part_0\\xjzkfqddyk.mp4\n",
      "C:\\Users\\mahes\\ML\\dataset\\data unziped\\dfdc_train_part_0\\xjzkfqddyk.mp4\n",
      "C:\\Users\\mahes\\ML\\dataset\\data unziped\\dfdc_train_part_0\\xjzkfqddyk.mp4\n",
      "C:\\Users\\mahes\\ML\\dataset\\data unziped\\dfdc_train_part_0\\xjzkfqddyk.mp4\n",
      "C:\\Users\\mahes\\ML\\dataset\\data unziped\\dfdc_train_part_0\\xjzkfqddyk.mp4\n",
      "C:\\Users\\mahes\\ML\\dataset\\data unziped\\dfdc_train_part_0\\xjzkfqddyk.mp4\n",
      "C:\\Users\\mahes\\ML\\dataset\\data unziped\\dfdc_train_part_0\\xjzkfqddyk.mp4\n",
      "C:\\Users\\mahes\\ML\\dataset\\data unziped\\dfdc_train_part_0\\xjzkfqddyk.mp4\n",
      "C:\\Users\\mahes\\ML\\dataset\\data unziped\\dfdc_train_part_0\\xjzkfqddyk.mp4\n",
      "C:\\Users\\mahes\\ML\\dataset\\data unziped\\dfdc_train_part_0\\xjzkfqddyk.mp4\n"
     ]
    },
    {
     "name": "stderr",
     "output_type": "stream",
     "text": [
      "Processing 500 videos:  13%|█▎        | 67/500 [56:08<7:23:05, 61.40s/it]"
     ]
    },
    {
     "name": "stdout",
     "output_type": "stream",
     "text": [
      "C:\\Users\\mahes\\ML\\dataset\\data unziped\\dfdc_train_part_0\\eiwtggvtfp.mp4\n",
      "C:\\Users\\mahes\\ML\\dataset\\data unziped\\dfdc_train_part_0\\eiwtggvtfp.mp4\n",
      "C:\\Users\\mahes\\ML\\dataset\\data unziped\\dfdc_train_part_0\\eiwtggvtfp.mp4\n",
      "C:\\Users\\mahes\\ML\\dataset\\data unziped\\dfdc_train_part_0\\eiwtggvtfp.mp4\n",
      "C:\\Users\\mahes\\ML\\dataset\\data unziped\\dfdc_train_part_0\\eiwtggvtfp.mp4\n",
      "C:\\Users\\mahes\\ML\\dataset\\data unziped\\dfdc_train_part_0\\eiwtggvtfp.mp4\n",
      "C:\\Users\\mahes\\ML\\dataset\\data unziped\\dfdc_train_part_0\\eiwtggvtfp.mp4\n",
      "C:\\Users\\mahes\\ML\\dataset\\data unziped\\dfdc_train_part_0\\eiwtggvtfp.mp4\n",
      "C:\\Users\\mahes\\ML\\dataset\\data unziped\\dfdc_train_part_0\\eiwtggvtfp.mp4\n",
      "C:\\Users\\mahes\\ML\\dataset\\data unziped\\dfdc_train_part_0\\eiwtggvtfp.mp4\n"
     ]
    },
    {
     "name": "stderr",
     "output_type": "stream",
     "text": [
      "Processing 500 videos:  14%|█▎        | 68/500 [57:12<7:28:53, 62.35s/it]"
     ]
    },
    {
     "name": "stdout",
     "output_type": "stream",
     "text": [
      "C:\\Users\\mahes\\ML\\dataset\\data unziped\\dfdc_train_part_0\\syxobtuucp.mp4\n",
      "C:\\Users\\mahes\\ML\\dataset\\data unziped\\dfdc_train_part_0\\syxobtuucp.mp4\n",
      "C:\\Users\\mahes\\ML\\dataset\\data unziped\\dfdc_train_part_0\\syxobtuucp.mp4\n",
      "C:\\Users\\mahes\\ML\\dataset\\data unziped\\dfdc_train_part_0\\syxobtuucp.mp4\n",
      "C:\\Users\\mahes\\ML\\dataset\\data unziped\\dfdc_train_part_0\\syxobtuucp.mp4\n",
      "C:\\Users\\mahes\\ML\\dataset\\data unziped\\dfdc_train_part_0\\syxobtuucp.mp4\n",
      "C:\\Users\\mahes\\ML\\dataset\\data unziped\\dfdc_train_part_0\\syxobtuucp.mp4\n",
      "C:\\Users\\mahes\\ML\\dataset\\data unziped\\dfdc_train_part_0\\syxobtuucp.mp4\n",
      "C:\\Users\\mahes\\ML\\dataset\\data unziped\\dfdc_train_part_0\\syxobtuucp.mp4\n",
      "C:\\Users\\mahes\\ML\\dataset\\data unziped\\dfdc_train_part_0\\syxobtuucp.mp4\n"
     ]
    },
    {
     "name": "stderr",
     "output_type": "stream",
     "text": [
      "Processing 500 videos:  14%|█▍        | 69/500 [58:07<7:11:21, 60.05s/it]"
     ]
    },
    {
     "name": "stdout",
     "output_type": "stream",
     "text": [
      "C:\\Users\\mahes\\ML\\dataset\\data unziped\\dfdc_train_part_0\\vtunvalyji.mp4\n",
      "C:\\Users\\mahes\\ML\\dataset\\data unziped\\dfdc_train_part_0\\vtunvalyji.mp4\n",
      "C:\\Users\\mahes\\ML\\dataset\\data unziped\\dfdc_train_part_0\\vtunvalyji.mp4\n",
      "C:\\Users\\mahes\\ML\\dataset\\data unziped\\dfdc_train_part_0\\vtunvalyji.mp4\n",
      "C:\\Users\\mahes\\ML\\dataset\\data unziped\\dfdc_train_part_0\\vtunvalyji.mp4\n",
      "C:\\Users\\mahes\\ML\\dataset\\data unziped\\dfdc_train_part_0\\vtunvalyji.mp4\n",
      "C:\\Users\\mahes\\ML\\dataset\\data unziped\\dfdc_train_part_0\\vtunvalyji.mp4\n",
      "C:\\Users\\mahes\\ML\\dataset\\data unziped\\dfdc_train_part_0\\vtunvalyji.mp4\n",
      "C:\\Users\\mahes\\ML\\dataset\\data unziped\\dfdc_train_part_0\\vtunvalyji.mp4\n",
      "C:\\Users\\mahes\\ML\\dataset\\data unziped\\dfdc_train_part_0\\vtunvalyji.mp4\n"
     ]
    },
    {
     "name": "stderr",
     "output_type": "stream",
     "text": [
      "Processing 500 videos:  14%|█▍        | 70/500 [59:06<7:08:14, 59.76s/it]"
     ]
    },
    {
     "name": "stdout",
     "output_type": "stream",
     "text": [
      "C:\\Users\\mahes\\ML\\dataset\\data unziped\\dfdc_train_part_0\\fsaronfupy.mp4\n",
      "C:\\Users\\mahes\\ML\\dataset\\data unziped\\dfdc_train_part_0\\fsaronfupy.mp4\n",
      "C:\\Users\\mahes\\ML\\dataset\\data unziped\\dfdc_train_part_0\\fsaronfupy.mp4\n",
      "C:\\Users\\mahes\\ML\\dataset\\data unziped\\dfdc_train_part_0\\fsaronfupy.mp4\n",
      "C:\\Users\\mahes\\ML\\dataset\\data unziped\\dfdc_train_part_0\\fsaronfupy.mp4\n",
      "C:\\Users\\mahes\\ML\\dataset\\data unziped\\dfdc_train_part_0\\fsaronfupy.mp4\n",
      "C:\\Users\\mahes\\ML\\dataset\\data unziped\\dfdc_train_part_0\\fsaronfupy.mp4\n",
      "C:\\Users\\mahes\\ML\\dataset\\data unziped\\dfdc_train_part_0\\fsaronfupy.mp4\n",
      "C:\\Users\\mahes\\ML\\dataset\\data unziped\\dfdc_train_part_0\\fsaronfupy.mp4\n",
      "C:\\Users\\mahes\\ML\\dataset\\data unziped\\dfdc_train_part_0\\fsaronfupy.mp4\n"
     ]
    },
    {
     "name": "stderr",
     "output_type": "stream",
     "text": [
      "Processing 500 videos:  14%|█▍        | 71/500 [1:00:07<7:09:29, 60.07s/it]"
     ]
    },
    {
     "name": "stdout",
     "output_type": "stream",
     "text": [
      "C:\\Users\\mahes\\ML\\dataset\\data unziped\\dfdc_train_part_0\\jvtjxreizj.mp4\n",
      "C:\\Users\\mahes\\ML\\dataset\\data unziped\\dfdc_train_part_0\\jvtjxreizj.mp4\n",
      "C:\\Users\\mahes\\ML\\dataset\\data unziped\\dfdc_train_part_0\\jvtjxreizj.mp4\n",
      "C:\\Users\\mahes\\ML\\dataset\\data unziped\\dfdc_train_part_0\\jvtjxreizj.mp4\n",
      "C:\\Users\\mahes\\ML\\dataset\\data unziped\\dfdc_train_part_0\\jvtjxreizj.mp4\n",
      "C:\\Users\\mahes\\ML\\dataset\\data unziped\\dfdc_train_part_0\\jvtjxreizj.mp4\n",
      "C:\\Users\\mahes\\ML\\dataset\\data unziped\\dfdc_train_part_0\\jvtjxreizj.mp4\n",
      "C:\\Users\\mahes\\ML\\dataset\\data unziped\\dfdc_train_part_0\\jvtjxreizj.mp4\n",
      "C:\\Users\\mahes\\ML\\dataset\\data unziped\\dfdc_train_part_0\\jvtjxreizj.mp4\n",
      "C:\\Users\\mahes\\ML\\dataset\\data unziped\\dfdc_train_part_0\\jvtjxreizj.mp4\n"
     ]
    },
    {
     "name": "stderr",
     "output_type": "stream",
     "text": [
      "Processing 500 videos:  14%|█▍        | 72/500 [1:01:08<7:11:16, 60.46s/it]"
     ]
    },
    {
     "name": "stdout",
     "output_type": "stream",
     "text": [
      "C:\\Users\\mahes\\ML\\dataset\\data unziped\\dfdc_train_part_0\\hivnldfvyl.mp4\n",
      "C:\\Users\\mahes\\ML\\dataset\\data unziped\\dfdc_train_part_0\\hivnldfvyl.mp4\n",
      "C:\\Users\\mahes\\ML\\dataset\\data unziped\\dfdc_train_part_0\\hivnldfvyl.mp4\n",
      "C:\\Users\\mahes\\ML\\dataset\\data unziped\\dfdc_train_part_0\\hivnldfvyl.mp4\n",
      "C:\\Users\\mahes\\ML\\dataset\\data unziped\\dfdc_train_part_0\\hivnldfvyl.mp4\n",
      "C:\\Users\\mahes\\ML\\dataset\\data unziped\\dfdc_train_part_0\\hivnldfvyl.mp4\n",
      "C:\\Users\\mahes\\ML\\dataset\\data unziped\\dfdc_train_part_0\\hivnldfvyl.mp4\n",
      "C:\\Users\\mahes\\ML\\dataset\\data unziped\\dfdc_train_part_0\\hivnldfvyl.mp4\n",
      "C:\\Users\\mahes\\ML\\dataset\\data unziped\\dfdc_train_part_0\\hivnldfvyl.mp4\n",
      "C:\\Users\\mahes\\ML\\dataset\\data unziped\\dfdc_train_part_0\\hivnldfvyl.mp4\n"
     ]
    },
    {
     "name": "stderr",
     "output_type": "stream",
     "text": [
      "Processing 500 videos:  15%|█▍        | 73/500 [1:02:10<7:12:37, 60.79s/it]"
     ]
    },
    {
     "name": "stdout",
     "output_type": "stream",
     "text": [
      "C:\\Users\\mahes\\ML\\dataset\\data unziped\\dfdc_train_part_0\\jzupayeuln.mp4\n",
      "C:\\Users\\mahes\\ML\\dataset\\data unziped\\dfdc_train_part_0\\jzupayeuln.mp4\n",
      "C:\\Users\\mahes\\ML\\dataset\\data unziped\\dfdc_train_part_0\\jzupayeuln.mp4\n",
      "C:\\Users\\mahes\\ML\\dataset\\data unziped\\dfdc_train_part_0\\jzupayeuln.mp4\n",
      "C:\\Users\\mahes\\ML\\dataset\\data unziped\\dfdc_train_part_0\\jzupayeuln.mp4\n",
      "C:\\Users\\mahes\\ML\\dataset\\data unziped\\dfdc_train_part_0\\jzupayeuln.mp4\n",
      "C:\\Users\\mahes\\ML\\dataset\\data unziped\\dfdc_train_part_0\\jzupayeuln.mp4\n",
      "C:\\Users\\mahes\\ML\\dataset\\data unziped\\dfdc_train_part_0\\jzupayeuln.mp4\n",
      "C:\\Users\\mahes\\ML\\dataset\\data unziped\\dfdc_train_part_0\\jzupayeuln.mp4\n",
      "C:\\Users\\mahes\\ML\\dataset\\data unziped\\dfdc_train_part_0\\jzupayeuln.mp4\n"
     ]
    },
    {
     "name": "stderr",
     "output_type": "stream",
     "text": [
      "Processing 500 videos:  15%|█▍        | 74/500 [1:03:16<7:23:00, 62.39s/it]"
     ]
    },
    {
     "name": "stdout",
     "output_type": "stream",
     "text": [
      "C:\\Users\\mahes\\ML\\dataset\\data unziped\\dfdc_train_part_0\\jawgcggquk.mp4\n",
      "C:\\Users\\mahes\\ML\\dataset\\data unziped\\dfdc_train_part_0\\jawgcggquk.mp4\n",
      "C:\\Users\\mahes\\ML\\dataset\\data unziped\\dfdc_train_part_0\\jawgcggquk.mp4\n",
      "C:\\Users\\mahes\\ML\\dataset\\data unziped\\dfdc_train_part_0\\jawgcggquk.mp4\n",
      "C:\\Users\\mahes\\ML\\dataset\\data unziped\\dfdc_train_part_0\\jawgcggquk.mp4\n",
      "C:\\Users\\mahes\\ML\\dataset\\data unziped\\dfdc_train_part_0\\jawgcggquk.mp4\n",
      "C:\\Users\\mahes\\ML\\dataset\\data unziped\\dfdc_train_part_0\\jawgcggquk.mp4\n",
      "C:\\Users\\mahes\\ML\\dataset\\data unziped\\dfdc_train_part_0\\jawgcggquk.mp4\n",
      "C:\\Users\\mahes\\ML\\dataset\\data unziped\\dfdc_train_part_0\\jawgcggquk.mp4\n",
      "C:\\Users\\mahes\\ML\\dataset\\data unziped\\dfdc_train_part_0\\jawgcggquk.mp4\n"
     ]
    },
    {
     "name": "stderr",
     "output_type": "stream",
     "text": [
      "Processing 500 videos:  15%|█▌        | 75/500 [1:04:11<7:06:30, 60.21s/it]"
     ]
    },
    {
     "name": "stdout",
     "output_type": "stream",
     "text": [
      "C:\\Users\\mahes\\ML\\dataset\\data unziped\\dfdc_train_part_0\\doniqevxeg.mp4\n",
      "C:\\Users\\mahes\\ML\\dataset\\data unziped\\dfdc_train_part_0\\doniqevxeg.mp4\n",
      "C:\\Users\\mahes\\ML\\dataset\\data unziped\\dfdc_train_part_0\\doniqevxeg.mp4\n",
      "C:\\Users\\mahes\\ML\\dataset\\data unziped\\dfdc_train_part_0\\doniqevxeg.mp4\n",
      "C:\\Users\\mahes\\ML\\dataset\\data unziped\\dfdc_train_part_0\\doniqevxeg.mp4\n",
      "C:\\Users\\mahes\\ML\\dataset\\data unziped\\dfdc_train_part_0\\doniqevxeg.mp4\n",
      "C:\\Users\\mahes\\ML\\dataset\\data unziped\\dfdc_train_part_0\\doniqevxeg.mp4\n",
      "C:\\Users\\mahes\\ML\\dataset\\data unziped\\dfdc_train_part_0\\doniqevxeg.mp4\n",
      "C:\\Users\\mahes\\ML\\dataset\\data unziped\\dfdc_train_part_0\\doniqevxeg.mp4\n",
      "C:\\Users\\mahes\\ML\\dataset\\data unziped\\dfdc_train_part_0\\doniqevxeg.mp4\n"
     ]
    },
    {
     "name": "stderr",
     "output_type": "stream",
     "text": [
      "Processing 500 videos:  15%|█▌        | 76/500 [1:05:14<7:10:52, 60.97s/it]"
     ]
    },
    {
     "name": "stdout",
     "output_type": "stream",
     "text": [
      "C:\\Users\\mahes\\ML\\dataset\\data unziped\\dfdc_train_part_0\\fsaronfupy.mp4\n",
      "C:\\Users\\mahes\\ML\\dataset\\data unziped\\dfdc_train_part_0\\fsaronfupy.mp4\n",
      "C:\\Users\\mahes\\ML\\dataset\\data unziped\\dfdc_train_part_0\\fsaronfupy.mp4\n",
      "C:\\Users\\mahes\\ML\\dataset\\data unziped\\dfdc_train_part_0\\fsaronfupy.mp4\n",
      "C:\\Users\\mahes\\ML\\dataset\\data unziped\\dfdc_train_part_0\\fsaronfupy.mp4\n",
      "C:\\Users\\mahes\\ML\\dataset\\data unziped\\dfdc_train_part_0\\fsaronfupy.mp4\n",
      "C:\\Users\\mahes\\ML\\dataset\\data unziped\\dfdc_train_part_0\\fsaronfupy.mp4\n",
      "C:\\Users\\mahes\\ML\\dataset\\data unziped\\dfdc_train_part_0\\fsaronfupy.mp4\n",
      "C:\\Users\\mahes\\ML\\dataset\\data unziped\\dfdc_train_part_0\\fsaronfupy.mp4\n",
      "C:\\Users\\mahes\\ML\\dataset\\data unziped\\dfdc_train_part_0\\fsaronfupy.mp4\n"
     ]
    },
    {
     "name": "stderr",
     "output_type": "stream",
     "text": [
      "Processing 500 videos:  15%|█▌        | 77/500 [1:06:12<7:02:59, 60.00s/it]"
     ]
    },
    {
     "name": "stdout",
     "output_type": "stream",
     "text": [
      "C:\\Users\\mahes\\ML\\dataset\\data unziped\\dfdc_train_part_0\\qyqufaskjs.mp4\n",
      "C:\\Users\\mahes\\ML\\dataset\\data unziped\\dfdc_train_part_0\\qyqufaskjs.mp4\n",
      "C:\\Users\\mahes\\ML\\dataset\\data unziped\\dfdc_train_part_0\\qyqufaskjs.mp4\n",
      "C:\\Users\\mahes\\ML\\dataset\\data unziped\\dfdc_train_part_0\\qyqufaskjs.mp4\n",
      "C:\\Users\\mahes\\ML\\dataset\\data unziped\\dfdc_train_part_0\\qyqufaskjs.mp4\n",
      "C:\\Users\\mahes\\ML\\dataset\\data unziped\\dfdc_train_part_0\\qyqufaskjs.mp4\n",
      "C:\\Users\\mahes\\ML\\dataset\\data unziped\\dfdc_train_part_0\\qyqufaskjs.mp4\n",
      "C:\\Users\\mahes\\ML\\dataset\\data unziped\\dfdc_train_part_0\\qyqufaskjs.mp4\n",
      "C:\\Users\\mahes\\ML\\dataset\\data unziped\\dfdc_train_part_0\\qyqufaskjs.mp4\n",
      "C:\\Users\\mahes\\ML\\dataset\\data unziped\\dfdc_train_part_0\\qyqufaskjs.mp4\n"
     ]
    },
    {
     "name": "stderr",
     "output_type": "stream",
     "text": [
      "Processing 500 videos:  16%|█▌        | 78/500 [1:07:13<7:04:30, 60.36s/it]"
     ]
    },
    {
     "name": "stdout",
     "output_type": "stream",
     "text": [
      "C:\\Users\\mahes\\ML\\dataset\\data unziped\\dfdc_train_part_0\\sttnfyptum.mp4\n",
      "C:\\Users\\mahes\\ML\\dataset\\data unziped\\dfdc_train_part_0\\sttnfyptum.mp4\n",
      "C:\\Users\\mahes\\ML\\dataset\\data unziped\\dfdc_train_part_0\\sttnfyptum.mp4\n",
      "C:\\Users\\mahes\\ML\\dataset\\data unziped\\dfdc_train_part_0\\sttnfyptum.mp4\n",
      "C:\\Users\\mahes\\ML\\dataset\\data unziped\\dfdc_train_part_0\\sttnfyptum.mp4\n",
      "C:\\Users\\mahes\\ML\\dataset\\data unziped\\dfdc_train_part_0\\sttnfyptum.mp4\n",
      "C:\\Users\\mahes\\ML\\dataset\\data unziped\\dfdc_train_part_0\\sttnfyptum.mp4\n",
      "C:\\Users\\mahes\\ML\\dataset\\data unziped\\dfdc_train_part_0\\sttnfyptum.mp4\n",
      "C:\\Users\\mahes\\ML\\dataset\\data unziped\\dfdc_train_part_0\\sttnfyptum.mp4\n",
      "C:\\Users\\mahes\\ML\\dataset\\data unziped\\dfdc_train_part_0\\sttnfyptum.mp4\n"
     ]
    },
    {
     "name": "stderr",
     "output_type": "stream",
     "text": [
      "Processing 500 videos:  16%|█▌        | 79/500 [1:08:19<7:16:12, 62.17s/it]"
     ]
    },
    {
     "name": "stdout",
     "output_type": "stream",
     "text": [
      "C:\\Users\\mahes\\ML\\dataset\\data unziped\\dfdc_train_part_0\\vtunvalyji.mp4\n",
      "C:\\Users\\mahes\\ML\\dataset\\data unziped\\dfdc_train_part_0\\vtunvalyji.mp4\n",
      "C:\\Users\\mahes\\ML\\dataset\\data unziped\\dfdc_train_part_0\\vtunvalyji.mp4\n",
      "C:\\Users\\mahes\\ML\\dataset\\data unziped\\dfdc_train_part_0\\vtunvalyji.mp4\n",
      "C:\\Users\\mahes\\ML\\dataset\\data unziped\\dfdc_train_part_0\\vtunvalyji.mp4\n",
      "C:\\Users\\mahes\\ML\\dataset\\data unziped\\dfdc_train_part_0\\vtunvalyji.mp4\n",
      "C:\\Users\\mahes\\ML\\dataset\\data unziped\\dfdc_train_part_0\\vtunvalyji.mp4\n",
      "C:\\Users\\mahes\\ML\\dataset\\data unziped\\dfdc_train_part_0\\vtunvalyji.mp4\n",
      "C:\\Users\\mahes\\ML\\dataset\\data unziped\\dfdc_train_part_0\\vtunvalyji.mp4\n",
      "C:\\Users\\mahes\\ML\\dataset\\data unziped\\dfdc_train_part_0\\vtunvalyji.mp4\n"
     ]
    },
    {
     "name": "stderr",
     "output_type": "stream",
     "text": [
      "Processing 500 videos:  16%|█▌        | 80/500 [1:09:18<7:09:01, 61.29s/it]"
     ]
    },
    {
     "name": "stdout",
     "output_type": "stream",
     "text": [
      "C:\\Users\\mahes\\ML\\dataset\\data unziped\\dfdc_train_part_0\\gvasarkpfh.mp4\n",
      "C:\\Users\\mahes\\ML\\dataset\\data unziped\\dfdc_train_part_0\\gvasarkpfh.mp4\n",
      "C:\\Users\\mahes\\ML\\dataset\\data unziped\\dfdc_train_part_0\\gvasarkpfh.mp4\n",
      "C:\\Users\\mahes\\ML\\dataset\\data unziped\\dfdc_train_part_0\\gvasarkpfh.mp4\n",
      "C:\\Users\\mahes\\ML\\dataset\\data unziped\\dfdc_train_part_0\\gvasarkpfh.mp4\n",
      "C:\\Users\\mahes\\ML\\dataset\\data unziped\\dfdc_train_part_0\\gvasarkpfh.mp4\n",
      "C:\\Users\\mahes\\ML\\dataset\\data unziped\\dfdc_train_part_0\\gvasarkpfh.mp4\n",
      "C:\\Users\\mahes\\ML\\dataset\\data unziped\\dfdc_train_part_0\\gvasarkpfh.mp4\n",
      "C:\\Users\\mahes\\ML\\dataset\\data unziped\\dfdc_train_part_0\\gvasarkpfh.mp4\n",
      "C:\\Users\\mahes\\ML\\dataset\\data unziped\\dfdc_train_part_0\\gvasarkpfh.mp4\n"
     ]
    },
    {
     "name": "stderr",
     "output_type": "stream",
     "text": [
      "Processing 500 videos:  16%|█▌        | 81/500 [1:10:16<7:00:56, 60.28s/it]"
     ]
    },
    {
     "name": "stdout",
     "output_type": "stream",
     "text": [
      "C:\\Users\\mahes\\ML\\dataset\\data unziped\\dfdc_train_part_0\\aayrffkzxn.mp4\n",
      "C:\\Users\\mahes\\ML\\dataset\\data unziped\\dfdc_train_part_0\\aayrffkzxn.mp4\n",
      "C:\\Users\\mahes\\ML\\dataset\\data unziped\\dfdc_train_part_0\\aayrffkzxn.mp4\n",
      "C:\\Users\\mahes\\ML\\dataset\\data unziped\\dfdc_train_part_0\\aayrffkzxn.mp4\n",
      "C:\\Users\\mahes\\ML\\dataset\\data unziped\\dfdc_train_part_0\\aayrffkzxn.mp4\n",
      "C:\\Users\\mahes\\ML\\dataset\\data unziped\\dfdc_train_part_0\\aayrffkzxn.mp4\n",
      "C:\\Users\\mahes\\ML\\dataset\\data unziped\\dfdc_train_part_0\\aayrffkzxn.mp4\n",
      "C:\\Users\\mahes\\ML\\dataset\\data unziped\\dfdc_train_part_0\\aayrffkzxn.mp4\n",
      "C:\\Users\\mahes\\ML\\dataset\\data unziped\\dfdc_train_part_0\\aayrffkzxn.mp4\n",
      "C:\\Users\\mahes\\ML\\dataset\\data unziped\\dfdc_train_part_0\\aayrffkzxn.mp4\n"
     ]
    },
    {
     "name": "stderr",
     "output_type": "stream",
     "text": [
      "Processing 500 videos:  16%|█▋        | 82/500 [1:11:23<7:14:05, 62.31s/it]"
     ]
    },
    {
     "name": "stdout",
     "output_type": "stream",
     "text": [
      "C:\\Users\\mahes\\ML\\dataset\\data unziped\\dfdc_train_part_0\\uqtqhiqymz.mp4\n",
      "C:\\Users\\mahes\\ML\\dataset\\data unziped\\dfdc_train_part_0\\uqtqhiqymz.mp4\n",
      "C:\\Users\\mahes\\ML\\dataset\\data unziped\\dfdc_train_part_0\\uqtqhiqymz.mp4\n",
      "C:\\Users\\mahes\\ML\\dataset\\data unziped\\dfdc_train_part_0\\uqtqhiqymz.mp4\n",
      "C:\\Users\\mahes\\ML\\dataset\\data unziped\\dfdc_train_part_0\\uqtqhiqymz.mp4\n",
      "C:\\Users\\mahes\\ML\\dataset\\data unziped\\dfdc_train_part_0\\uqtqhiqymz.mp4\n",
      "C:\\Users\\mahes\\ML\\dataset\\data unziped\\dfdc_train_part_0\\uqtqhiqymz.mp4\n",
      "C:\\Users\\mahes\\ML\\dataset\\data unziped\\dfdc_train_part_0\\uqtqhiqymz.mp4\n",
      "C:\\Users\\mahes\\ML\\dataset\\data unziped\\dfdc_train_part_0\\uqtqhiqymz.mp4\n",
      "C:\\Users\\mahes\\ML\\dataset\\data unziped\\dfdc_train_part_0\\uqtqhiqymz.mp4\n"
     ]
    },
    {
     "name": "stderr",
     "output_type": "stream",
     "text": [
      "Processing 500 videos:  17%|█▋        | 83/500 [1:12:31<7:24:22, 63.94s/it]"
     ]
    },
    {
     "name": "stdout",
     "output_type": "stream",
     "text": [
      "C:\\Users\\mahes\\ML\\dataset\\data unziped\\dfdc_train_part_0\\nweufafotd.mp4\n",
      "C:\\Users\\mahes\\ML\\dataset\\data unziped\\dfdc_train_part_0\\nweufafotd.mp4\n",
      "C:\\Users\\mahes\\ML\\dataset\\data unziped\\dfdc_train_part_0\\nweufafotd.mp4\n",
      "C:\\Users\\mahes\\ML\\dataset\\data unziped\\dfdc_train_part_0\\nweufafotd.mp4\n",
      "C:\\Users\\mahes\\ML\\dataset\\data unziped\\dfdc_train_part_0\\nweufafotd.mp4\n",
      "C:\\Users\\mahes\\ML\\dataset\\data unziped\\dfdc_train_part_0\\nweufafotd.mp4\n",
      "C:\\Users\\mahes\\ML\\dataset\\data unziped\\dfdc_train_part_0\\nweufafotd.mp4\n",
      "C:\\Users\\mahes\\ML\\dataset\\data unziped\\dfdc_train_part_0\\nweufafotd.mp4\n",
      "C:\\Users\\mahes\\ML\\dataset\\data unziped\\dfdc_train_part_0\\nweufafotd.mp4\n",
      "C:\\Users\\mahes\\ML\\dataset\\data unziped\\dfdc_train_part_0\\nweufafotd.mp4\n"
     ]
    },
    {
     "name": "stderr",
     "output_type": "stream",
     "text": [
      "Processing 500 videos:  17%|█▋        | 84/500 [1:13:37<7:26:41, 64.43s/it]"
     ]
    },
    {
     "name": "stdout",
     "output_type": "stream",
     "text": [
      "C:\\Users\\mahes\\ML\\dataset\\data unziped\\dfdc_train_part_0\\rktrpsdlci.mp4\n",
      "C:\\Users\\mahes\\ML\\dataset\\data unziped\\dfdc_train_part_0\\rktrpsdlci.mp4\n",
      "C:\\Users\\mahes\\ML\\dataset\\data unziped\\dfdc_train_part_0\\rktrpsdlci.mp4\n",
      "C:\\Users\\mahes\\ML\\dataset\\data unziped\\dfdc_train_part_0\\rktrpsdlci.mp4\n",
      "C:\\Users\\mahes\\ML\\dataset\\data unziped\\dfdc_train_part_0\\rktrpsdlci.mp4\n",
      "C:\\Users\\mahes\\ML\\dataset\\data unziped\\dfdc_train_part_0\\rktrpsdlci.mp4\n",
      "C:\\Users\\mahes\\ML\\dataset\\data unziped\\dfdc_train_part_0\\rktrpsdlci.mp4\n",
      "C:\\Users\\mahes\\ML\\dataset\\data unziped\\dfdc_train_part_0\\rktrpsdlci.mp4\n",
      "C:\\Users\\mahes\\ML\\dataset\\data unziped\\dfdc_train_part_0\\rktrpsdlci.mp4\n",
      "C:\\Users\\mahes\\ML\\dataset\\data unziped\\dfdc_train_part_0\\rktrpsdlci.mp4\n"
     ]
    },
    {
     "name": "stderr",
     "output_type": "stream",
     "text": [
      "Processing 500 videos:  17%|█▋        | 85/500 [1:14:32<7:07:03, 61.74s/it]"
     ]
    },
    {
     "name": "stdout",
     "output_type": "stream",
     "text": [
      "C:\\Users\\mahes\\ML\\dataset\\data unziped\\dfdc_train_part_0\\xkfliqnmwt.mp4\n",
      "C:\\Users\\mahes\\ML\\dataset\\data unziped\\dfdc_train_part_0\\xkfliqnmwt.mp4\n",
      "C:\\Users\\mahes\\ML\\dataset\\data unziped\\dfdc_train_part_0\\xkfliqnmwt.mp4\n",
      "C:\\Users\\mahes\\ML\\dataset\\data unziped\\dfdc_train_part_0\\xkfliqnmwt.mp4\n",
      "C:\\Users\\mahes\\ML\\dataset\\data unziped\\dfdc_train_part_0\\xkfliqnmwt.mp4\n",
      "C:\\Users\\mahes\\ML\\dataset\\data unziped\\dfdc_train_part_0\\xkfliqnmwt.mp4\n",
      "C:\\Users\\mahes\\ML\\dataset\\data unziped\\dfdc_train_part_0\\xkfliqnmwt.mp4\n",
      "C:\\Users\\mahes\\ML\\dataset\\data unziped\\dfdc_train_part_0\\xkfliqnmwt.mp4\n",
      "C:\\Users\\mahes\\ML\\dataset\\data unziped\\dfdc_train_part_0\\xkfliqnmwt.mp4\n",
      "C:\\Users\\mahes\\ML\\dataset\\data unziped\\dfdc_train_part_0\\xkfliqnmwt.mp4\n"
     ]
    },
    {
     "name": "stderr",
     "output_type": "stream",
     "text": [
      "Processing 500 videos:  17%|█▋        | 86/500 [1:15:39<7:15:54, 63.18s/it]"
     ]
    },
    {
     "name": "stdout",
     "output_type": "stream",
     "text": [
      "C:\\Users\\mahes\\ML\\dataset\\data unziped\\dfdc_train_part_0\\xjzkfqddyk.mp4\n",
      "C:\\Users\\mahes\\ML\\dataset\\data unziped\\dfdc_train_part_0\\xjzkfqddyk.mp4\n",
      "C:\\Users\\mahes\\ML\\dataset\\data unziped\\dfdc_train_part_0\\xjzkfqddyk.mp4\n",
      "C:\\Users\\mahes\\ML\\dataset\\data unziped\\dfdc_train_part_0\\xjzkfqddyk.mp4\n",
      "C:\\Users\\mahes\\ML\\dataset\\data unziped\\dfdc_train_part_0\\xjzkfqddyk.mp4\n",
      "C:\\Users\\mahes\\ML\\dataset\\data unziped\\dfdc_train_part_0\\xjzkfqddyk.mp4\n",
      "C:\\Users\\mahes\\ML\\dataset\\data unziped\\dfdc_train_part_0\\xjzkfqddyk.mp4\n",
      "C:\\Users\\mahes\\ML\\dataset\\data unziped\\dfdc_train_part_0\\xjzkfqddyk.mp4\n",
      "C:\\Users\\mahes\\ML\\dataset\\data unziped\\dfdc_train_part_0\\xjzkfqddyk.mp4\n",
      "C:\\Users\\mahes\\ML\\dataset\\data unziped\\dfdc_train_part_0\\xjzkfqddyk.mp4\n"
     ]
    },
    {
     "name": "stderr",
     "output_type": "stream",
     "text": [
      "Processing 500 videos:  17%|█▋        | 87/500 [1:16:42<7:14:46, 63.16s/it]"
     ]
    },
    {
     "name": "stdout",
     "output_type": "stream",
     "text": [
      "C:\\Users\\mahes\\ML\\dataset\\data unziped\\dfdc_train_part_0\\REAL\n",
      "C:\\Users\\mahes\\ML\\dataset\\data unziped\\dfdc_train_part_0\\REAL\n",
      "C:\\Users\\mahes\\ML\\dataset\\data unziped\\dfdc_train_part_0\\REAL\n",
      "C:\\Users\\mahes\\ML\\dataset\\data unziped\\dfdc_train_part_0\\REAL\n",
      "C:\\Users\\mahes\\ML\\dataset\\data unziped\\dfdc_train_part_0\\REAL\n",
      "C:\\Users\\mahes\\ML\\dataset\\data unziped\\dfdc_train_part_0\\REAL\n",
      "C:\\Users\\mahes\\ML\\dataset\\data unziped\\dfdc_train_part_0\\REAL\n",
      "C:\\Users\\mahes\\ML\\dataset\\data unziped\\dfdc_train_part_0\\REAL\n",
      "C:\\Users\\mahes\\ML\\dataset\\data unziped\\dfdc_train_part_0\\REAL\n"
     ]
    },
    {
     "name": "stderr",
     "output_type": "stream",
     "text": [
      "Processing 500 videos:  18%|█▊        | 88/500 [1:16:51<5:22:06, 46.91s/it]"
     ]
    },
    {
     "name": "stdout",
     "output_type": "stream",
     "text": [
      "C:\\Users\\mahes\\ML\\dataset\\data unziped\\dfdc_train_part_0\\REAL\n",
      "C:\\Users\\mahes\\ML\\dataset\\data unziped\\dfdc_train_part_0\\ddtbarpcgo.mp4\n",
      "C:\\Users\\mahes\\ML\\dataset\\data unziped\\dfdc_train_part_0\\ddtbarpcgo.mp4\n",
      "C:\\Users\\mahes\\ML\\dataset\\data unziped\\dfdc_train_part_0\\ddtbarpcgo.mp4\n",
      "C:\\Users\\mahes\\ML\\dataset\\data unziped\\dfdc_train_part_0\\ddtbarpcgo.mp4\n",
      "C:\\Users\\mahes\\ML\\dataset\\data unziped\\dfdc_train_part_0\\ddtbarpcgo.mp4\n",
      "C:\\Users\\mahes\\ML\\dataset\\data unziped\\dfdc_train_part_0\\ddtbarpcgo.mp4\n",
      "C:\\Users\\mahes\\ML\\dataset\\data unziped\\dfdc_train_part_0\\ddtbarpcgo.mp4\n",
      "C:\\Users\\mahes\\ML\\dataset\\data unziped\\dfdc_train_part_0\\ddtbarpcgo.mp4\n",
      "C:\\Users\\mahes\\ML\\dataset\\data unziped\\dfdc_train_part_0\\ddtbarpcgo.mp4\n",
      "C:\\Users\\mahes\\ML\\dataset\\data unziped\\dfdc_train_part_0\\ddtbarpcgo.mp4\n"
     ]
    },
    {
     "name": "stderr",
     "output_type": "stream",
     "text": [
      "Processing 500 videos:  18%|█▊        | 89/500 [1:17:49<5:44:28, 50.29s/it]"
     ]
    },
    {
     "name": "stdout",
     "output_type": "stream",
     "text": [
      "C:\\Users\\mahes\\ML\\dataset\\data unziped\\dfdc_train_part_0\\jytrvwlewz.mp4\n",
      "C:\\Users\\mahes\\ML\\dataset\\data unziped\\dfdc_train_part_0\\jytrvwlewz.mp4\n",
      "C:\\Users\\mahes\\ML\\dataset\\data unziped\\dfdc_train_part_0\\jytrvwlewz.mp4\n",
      "C:\\Users\\mahes\\ML\\dataset\\data unziped\\dfdc_train_part_0\\jytrvwlewz.mp4\n",
      "C:\\Users\\mahes\\ML\\dataset\\data unziped\\dfdc_train_part_0\\jytrvwlewz.mp4\n",
      "C:\\Users\\mahes\\ML\\dataset\\data unziped\\dfdc_train_part_0\\jytrvwlewz.mp4\n",
      "C:\\Users\\mahes\\ML\\dataset\\data unziped\\dfdc_train_part_0\\jytrvwlewz.mp4\n",
      "C:\\Users\\mahes\\ML\\dataset\\data unziped\\dfdc_train_part_0\\jytrvwlewz.mp4\n",
      "C:\\Users\\mahes\\ML\\dataset\\data unziped\\dfdc_train_part_0\\jytrvwlewz.mp4\n",
      "C:\\Users\\mahes\\ML\\dataset\\data unziped\\dfdc_train_part_0\\jytrvwlewz.mp4\n"
     ]
    },
    {
     "name": "stderr",
     "output_type": "stream",
     "text": [
      "Processing 500 videos:  18%|█▊        | 90/500 [1:18:47<6:00:22, 52.74s/it]"
     ]
    },
    {
     "name": "stdout",
     "output_type": "stream",
     "text": [
      "C:\\Users\\mahes\\ML\\dataset\\data unziped\\dfdc_train_part_0\\nweufafotd.mp4\n",
      "C:\\Users\\mahes\\ML\\dataset\\data unziped\\dfdc_train_part_0\\nweufafotd.mp4\n",
      "C:\\Users\\mahes\\ML\\dataset\\data unziped\\dfdc_train_part_0\\nweufafotd.mp4\n",
      "C:\\Users\\mahes\\ML\\dataset\\data unziped\\dfdc_train_part_0\\nweufafotd.mp4\n",
      "C:\\Users\\mahes\\ML\\dataset\\data unziped\\dfdc_train_part_0\\nweufafotd.mp4\n",
      "C:\\Users\\mahes\\ML\\dataset\\data unziped\\dfdc_train_part_0\\nweufafotd.mp4\n",
      "C:\\Users\\mahes\\ML\\dataset\\data unziped\\dfdc_train_part_0\\nweufafotd.mp4\n",
      "C:\\Users\\mahes\\ML\\dataset\\data unziped\\dfdc_train_part_0\\nweufafotd.mp4\n",
      "C:\\Users\\mahes\\ML\\dataset\\data unziped\\dfdc_train_part_0\\nweufafotd.mp4\n",
      "C:\\Users\\mahes\\ML\\dataset\\data unziped\\dfdc_train_part_0\\nweufafotd.mp4\n"
     ]
    },
    {
     "name": "stderr",
     "output_type": "stream",
     "text": [
      "Processing 500 videos:  18%|█▊        | 91/500 [1:19:53<6:25:18, 56.52s/it]"
     ]
    },
    {
     "name": "stdout",
     "output_type": "stream",
     "text": [
      "C:\\Users\\mahes\\ML\\dataset\\data unziped\\dfdc_train_part_0\\ybnucgidtu.mp4\n",
      "C:\\Users\\mahes\\ML\\dataset\\data unziped\\dfdc_train_part_0\\ybnucgidtu.mp4\n",
      "C:\\Users\\mahes\\ML\\dataset\\data unziped\\dfdc_train_part_0\\ybnucgidtu.mp4\n",
      "C:\\Users\\mahes\\ML\\dataset\\data unziped\\dfdc_train_part_0\\ybnucgidtu.mp4\n",
      "C:\\Users\\mahes\\ML\\dataset\\data unziped\\dfdc_train_part_0\\ybnucgidtu.mp4\n",
      "C:\\Users\\mahes\\ML\\dataset\\data unziped\\dfdc_train_part_0\\ybnucgidtu.mp4\n",
      "C:\\Users\\mahes\\ML\\dataset\\data unziped\\dfdc_train_part_0\\ybnucgidtu.mp4\n",
      "C:\\Users\\mahes\\ML\\dataset\\data unziped\\dfdc_train_part_0\\ybnucgidtu.mp4\n",
      "C:\\Users\\mahes\\ML\\dataset\\data unziped\\dfdc_train_part_0\\ybnucgidtu.mp4\n",
      "C:\\Users\\mahes\\ML\\dataset\\data unziped\\dfdc_train_part_0\\ybnucgidtu.mp4\n"
     ]
    },
    {
     "name": "stderr",
     "output_type": "stream",
     "text": [
      "Processing 500 videos:  18%|█▊        | 92/500 [1:20:57<6:40:03, 58.83s/it]"
     ]
    },
    {
     "name": "stdout",
     "output_type": "stream",
     "text": [
      "C:\\Users\\mahes\\ML\\dataset\\data unziped\\dfdc_train_part_0\\xchzardbfa.mp4\n",
      "C:\\Users\\mahes\\ML\\dataset\\data unziped\\dfdc_train_part_0\\xchzardbfa.mp4\n",
      "C:\\Users\\mahes\\ML\\dataset\\data unziped\\dfdc_train_part_0\\xchzardbfa.mp4\n",
      "C:\\Users\\mahes\\ML\\dataset\\data unziped\\dfdc_train_part_0\\xchzardbfa.mp4\n",
      "C:\\Users\\mahes\\ML\\dataset\\data unziped\\dfdc_train_part_0\\xchzardbfa.mp4\n",
      "C:\\Users\\mahes\\ML\\dataset\\data unziped\\dfdc_train_part_0\\xchzardbfa.mp4\n",
      "C:\\Users\\mahes\\ML\\dataset\\data unziped\\dfdc_train_part_0\\xchzardbfa.mp4\n",
      "C:\\Users\\mahes\\ML\\dataset\\data unziped\\dfdc_train_part_0\\xchzardbfa.mp4\n",
      "C:\\Users\\mahes\\ML\\dataset\\data unziped\\dfdc_train_part_0\\xchzardbfa.mp4\n",
      "C:\\Users\\mahes\\ML\\dataset\\data unziped\\dfdc_train_part_0\\xchzardbfa.mp4\n"
     ]
    },
    {
     "name": "stderr",
     "output_type": "stream",
     "text": [
      "Processing 500 videos:  19%|█▊        | 93/500 [1:21:59<6:44:58, 59.70s/it]"
     ]
    },
    {
     "name": "stdout",
     "output_type": "stream",
     "text": [
      "C:\\Users\\mahes\\ML\\dataset\\data unziped\\dfdc_train_part_0\\ybbrkacebd.mp4\n",
      "C:\\Users\\mahes\\ML\\dataset\\data unziped\\dfdc_train_part_0\\ybbrkacebd.mp4\n",
      "C:\\Users\\mahes\\ML\\dataset\\data unziped\\dfdc_train_part_0\\ybbrkacebd.mp4\n",
      "C:\\Users\\mahes\\ML\\dataset\\data unziped\\dfdc_train_part_0\\ybbrkacebd.mp4\n",
      "C:\\Users\\mahes\\ML\\dataset\\data unziped\\dfdc_train_part_0\\ybbrkacebd.mp4\n",
      "C:\\Users\\mahes\\ML\\dataset\\data unziped\\dfdc_train_part_0\\ybbrkacebd.mp4\n",
      "C:\\Users\\mahes\\ML\\dataset\\data unziped\\dfdc_train_part_0\\ybbrkacebd.mp4\n",
      "C:\\Users\\mahes\\ML\\dataset\\data unziped\\dfdc_train_part_0\\ybbrkacebd.mp4\n",
      "C:\\Users\\mahes\\ML\\dataset\\data unziped\\dfdc_train_part_0\\ybbrkacebd.mp4\n",
      "C:\\Users\\mahes\\ML\\dataset\\data unziped\\dfdc_train_part_0\\ybbrkacebd.mp4\n"
     ]
    },
    {
     "name": "stderr",
     "output_type": "stream",
     "text": [
      "Processing 500 videos:  19%|█▉        | 94/500 [1:23:04<6:55:17, 61.37s/it]"
     ]
    },
    {
     "name": "stdout",
     "output_type": "stream",
     "text": [
      "C:\\Users\\mahes\\ML\\dataset\\data unziped\\dfdc_train_part_0\\exxqlfpnbz.mp4\n",
      "C:\\Users\\mahes\\ML\\dataset\\data unziped\\dfdc_train_part_0\\exxqlfpnbz.mp4\n",
      "C:\\Users\\mahes\\ML\\dataset\\data unziped\\dfdc_train_part_0\\exxqlfpnbz.mp4\n",
      "C:\\Users\\mahes\\ML\\dataset\\data unziped\\dfdc_train_part_0\\exxqlfpnbz.mp4\n",
      "C:\\Users\\mahes\\ML\\dataset\\data unziped\\dfdc_train_part_0\\exxqlfpnbz.mp4\n",
      "C:\\Users\\mahes\\ML\\dataset\\data unziped\\dfdc_train_part_0\\exxqlfpnbz.mp4\n",
      "C:\\Users\\mahes\\ML\\dataset\\data unziped\\dfdc_train_part_0\\exxqlfpnbz.mp4\n",
      "C:\\Users\\mahes\\ML\\dataset\\data unziped\\dfdc_train_part_0\\exxqlfpnbz.mp4\n",
      "C:\\Users\\mahes\\ML\\dataset\\data unziped\\dfdc_train_part_0\\exxqlfpnbz.mp4\n",
      "C:\\Users\\mahes\\ML\\dataset\\data unziped\\dfdc_train_part_0\\exxqlfpnbz.mp4\n"
     ]
    },
    {
     "name": "stderr",
     "output_type": "stream",
     "text": [
      "Processing 500 videos:  19%|█▉        | 95/500 [1:24:03<6:50:20, 60.79s/it]"
     ]
    },
    {
     "name": "stdout",
     "output_type": "stream",
     "text": [
      "C:\\Users\\mahes\\ML\\dataset\\data unziped\\dfdc_train_part_0\\ldtgofdaqg.mp4\n",
      "C:\\Users\\mahes\\ML\\dataset\\data unziped\\dfdc_train_part_0\\ldtgofdaqg.mp4\n",
      "C:\\Users\\mahes\\ML\\dataset\\data unziped\\dfdc_train_part_0\\ldtgofdaqg.mp4\n",
      "C:\\Users\\mahes\\ML\\dataset\\data unziped\\dfdc_train_part_0\\ldtgofdaqg.mp4\n",
      "C:\\Users\\mahes\\ML\\dataset\\data unziped\\dfdc_train_part_0\\ldtgofdaqg.mp4\n",
      "C:\\Users\\mahes\\ML\\dataset\\data unziped\\dfdc_train_part_0\\ldtgofdaqg.mp4\n",
      "C:\\Users\\mahes\\ML\\dataset\\data unziped\\dfdc_train_part_0\\ldtgofdaqg.mp4\n",
      "C:\\Users\\mahes\\ML\\dataset\\data unziped\\dfdc_train_part_0\\ldtgofdaqg.mp4\n",
      "C:\\Users\\mahes\\ML\\dataset\\data unziped\\dfdc_train_part_0\\ldtgofdaqg.mp4\n",
      "C:\\Users\\mahes\\ML\\dataset\\data unziped\\dfdc_train_part_0\\ldtgofdaqg.mp4\n"
     ]
    },
    {
     "name": "stderr",
     "output_type": "stream",
     "text": [
      "Processing 500 videos:  19%|█▉        | 96/500 [1:25:01<6:42:56, 59.84s/it]"
     ]
    },
    {
     "name": "stdout",
     "output_type": "stream",
     "text": [
      "C:\\Users\\mahes\\ML\\dataset\\data unziped\\dfdc_train_part_0\\hivnldfvyl.mp4\n",
      "C:\\Users\\mahes\\ML\\dataset\\data unziped\\dfdc_train_part_0\\hivnldfvyl.mp4\n",
      "C:\\Users\\mahes\\ML\\dataset\\data unziped\\dfdc_train_part_0\\hivnldfvyl.mp4\n",
      "C:\\Users\\mahes\\ML\\dataset\\data unziped\\dfdc_train_part_0\\hivnldfvyl.mp4\n",
      "C:\\Users\\mahes\\ML\\dataset\\data unziped\\dfdc_train_part_0\\hivnldfvyl.mp4\n",
      "C:\\Users\\mahes\\ML\\dataset\\data unziped\\dfdc_train_part_0\\hivnldfvyl.mp4\n",
      "C:\\Users\\mahes\\ML\\dataset\\data unziped\\dfdc_train_part_0\\hivnldfvyl.mp4\n",
      "C:\\Users\\mahes\\ML\\dataset\\data unziped\\dfdc_train_part_0\\hivnldfvyl.mp4\n",
      "C:\\Users\\mahes\\ML\\dataset\\data unziped\\dfdc_train_part_0\\hivnldfvyl.mp4\n",
      "C:\\Users\\mahes\\ML\\dataset\\data unziped\\dfdc_train_part_0\\hivnldfvyl.mp4\n"
     ]
    },
    {
     "name": "stderr",
     "output_type": "stream",
     "text": [
      "Processing 500 videos:  19%|█▉        | 97/500 [1:26:05<6:50:44, 61.15s/it]"
     ]
    },
    {
     "name": "stdout",
     "output_type": "stream",
     "text": [
      "C:\\Users\\mahes\\ML\\dataset\\data unziped\\dfdc_train_part_0\\dxfdovivlw.mp4\n",
      "C:\\Users\\mahes\\ML\\dataset\\data unziped\\dfdc_train_part_0\\dxfdovivlw.mp4\n",
      "C:\\Users\\mahes\\ML\\dataset\\data unziped\\dfdc_train_part_0\\dxfdovivlw.mp4\n",
      "C:\\Users\\mahes\\ML\\dataset\\data unziped\\dfdc_train_part_0\\dxfdovivlw.mp4\n",
      "C:\\Users\\mahes\\ML\\dataset\\data unziped\\dfdc_train_part_0\\dxfdovivlw.mp4\n",
      "C:\\Users\\mahes\\ML\\dataset\\data unziped\\dfdc_train_part_0\\dxfdovivlw.mp4\n",
      "C:\\Users\\mahes\\ML\\dataset\\data unziped\\dfdc_train_part_0\\dxfdovivlw.mp4\n",
      "C:\\Users\\mahes\\ML\\dataset\\data unziped\\dfdc_train_part_0\\dxfdovivlw.mp4\n",
      "C:\\Users\\mahes\\ML\\dataset\\data unziped\\dfdc_train_part_0\\dxfdovivlw.mp4\n",
      "C:\\Users\\mahes\\ML\\dataset\\data unziped\\dfdc_train_part_0\\dxfdovivlw.mp4\n"
     ]
    },
    {
     "name": "stderr",
     "output_type": "stream",
     "text": [
      "Processing 500 videos:  20%|█▉        | 98/500 [1:27:01<6:39:22, 59.61s/it]"
     ]
    },
    {
     "name": "stdout",
     "output_type": "stream",
     "text": [
      "C:\\Users\\mahes\\ML\\dataset\\data unziped\\dfdc_train_part_0\\fnslimfagb.mp4\n",
      "C:\\Users\\mahes\\ML\\dataset\\data unziped\\dfdc_train_part_0\\fnslimfagb.mp4\n",
      "C:\\Users\\mahes\\ML\\dataset\\data unziped\\dfdc_train_part_0\\fnslimfagb.mp4\n",
      "C:\\Users\\mahes\\ML\\dataset\\data unziped\\dfdc_train_part_0\\fnslimfagb.mp4\n",
      "C:\\Users\\mahes\\ML\\dataset\\data unziped\\dfdc_train_part_0\\fnslimfagb.mp4\n",
      "C:\\Users\\mahes\\ML\\dataset\\data unziped\\dfdc_train_part_0\\fnslimfagb.mp4\n",
      "C:\\Users\\mahes\\ML\\dataset\\data unziped\\dfdc_train_part_0\\fnslimfagb.mp4\n",
      "C:\\Users\\mahes\\ML\\dataset\\data unziped\\dfdc_train_part_0\\fnslimfagb.mp4\n",
      "C:\\Users\\mahes\\ML\\dataset\\data unziped\\dfdc_train_part_0\\fnslimfagb.mp4\n",
      "C:\\Users\\mahes\\ML\\dataset\\data unziped\\dfdc_train_part_0\\fnslimfagb.mp4\n"
     ]
    },
    {
     "name": "stderr",
     "output_type": "stream",
     "text": [
      "Processing 500 videos:  20%|█▉        | 99/500 [1:28:05<6:47:06, 60.91s/it]"
     ]
    },
    {
     "name": "stdout",
     "output_type": "stream",
     "text": [
      "C:\\Users\\mahes\\ML\\dataset\\data unziped\\dfdc_train_part_0\\vtunvalyji.mp4\n",
      "C:\\Users\\mahes\\ML\\dataset\\data unziped\\dfdc_train_part_0\\vtunvalyji.mp4\n",
      "C:\\Users\\mahes\\ML\\dataset\\data unziped\\dfdc_train_part_0\\vtunvalyji.mp4\n",
      "C:\\Users\\mahes\\ML\\dataset\\data unziped\\dfdc_train_part_0\\vtunvalyji.mp4\n",
      "C:\\Users\\mahes\\ML\\dataset\\data unziped\\dfdc_train_part_0\\vtunvalyji.mp4\n",
      "C:\\Users\\mahes\\ML\\dataset\\data unziped\\dfdc_train_part_0\\vtunvalyji.mp4\n",
      "C:\\Users\\mahes\\ML\\dataset\\data unziped\\dfdc_train_part_0\\vtunvalyji.mp4\n",
      "C:\\Users\\mahes\\ML\\dataset\\data unziped\\dfdc_train_part_0\\vtunvalyji.mp4\n",
      "C:\\Users\\mahes\\ML\\dataset\\data unziped\\dfdc_train_part_0\\vtunvalyji.mp4\n",
      "C:\\Users\\mahes\\ML\\dataset\\data unziped\\dfdc_train_part_0\\vtunvalyji.mp4\n"
     ]
    },
    {
     "name": "stderr",
     "output_type": "stream",
     "text": [
      "Processing 500 videos:  20%|██        | 100/500 [1:29:04<6:41:35, 60.24s/it]"
     ]
    },
    {
     "name": "stdout",
     "output_type": "stream",
     "text": [
      "C:\\Users\\mahes\\ML\\dataset\\data unziped\\dfdc_train_part_0\\qarqtkvgby.mp4\n",
      "C:\\Users\\mahes\\ML\\dataset\\data unziped\\dfdc_train_part_0\\qarqtkvgby.mp4\n",
      "C:\\Users\\mahes\\ML\\dataset\\data unziped\\dfdc_train_part_0\\qarqtkvgby.mp4\n",
      "C:\\Users\\mahes\\ML\\dataset\\data unziped\\dfdc_train_part_0\\qarqtkvgby.mp4\n",
      "C:\\Users\\mahes\\ML\\dataset\\data unziped\\dfdc_train_part_0\\qarqtkvgby.mp4\n",
      "C:\\Users\\mahes\\ML\\dataset\\data unziped\\dfdc_train_part_0\\qarqtkvgby.mp4\n",
      "C:\\Users\\mahes\\ML\\dataset\\data unziped\\dfdc_train_part_0\\qarqtkvgby.mp4\n",
      "C:\\Users\\mahes\\ML\\dataset\\data unziped\\dfdc_train_part_0\\qarqtkvgby.mp4\n",
      "C:\\Users\\mahes\\ML\\dataset\\data unziped\\dfdc_train_part_0\\qarqtkvgby.mp4\n",
      "C:\\Users\\mahes\\ML\\dataset\\data unziped\\dfdc_train_part_0\\qarqtkvgby.mp4\n"
     ]
    },
    {
     "name": "stderr",
     "output_type": "stream",
     "text": [
      "Processing 500 videos:  20%|██        | 101/500 [1:30:06<6:43:22, 60.66s/it]"
     ]
    },
    {
     "name": "stdout",
     "output_type": "stream",
     "text": [
      "C:\\Users\\mahes\\ML\\dataset\\data unziped\\dfdc_train_part_0\\onbgbghesu.mp4\n",
      "C:\\Users\\mahes\\ML\\dataset\\data unziped\\dfdc_train_part_0\\onbgbghesu.mp4\n",
      "C:\\Users\\mahes\\ML\\dataset\\data unziped\\dfdc_train_part_0\\onbgbghesu.mp4\n",
      "C:\\Users\\mahes\\ML\\dataset\\data unziped\\dfdc_train_part_0\\onbgbghesu.mp4\n",
      "C:\\Users\\mahes\\ML\\dataset\\data unziped\\dfdc_train_part_0\\onbgbghesu.mp4\n",
      "C:\\Users\\mahes\\ML\\dataset\\data unziped\\dfdc_train_part_0\\onbgbghesu.mp4\n",
      "C:\\Users\\mahes\\ML\\dataset\\data unziped\\dfdc_train_part_0\\onbgbghesu.mp4\n",
      "C:\\Users\\mahes\\ML\\dataset\\data unziped\\dfdc_train_part_0\\onbgbghesu.mp4\n",
      "C:\\Users\\mahes\\ML\\dataset\\data unziped\\dfdc_train_part_0\\onbgbghesu.mp4\n",
      "C:\\Users\\mahes\\ML\\dataset\\data unziped\\dfdc_train_part_0\\onbgbghesu.mp4\n"
     ]
    },
    {
     "name": "stderr",
     "output_type": "stream",
     "text": [
      "Processing 500 videos:  20%|██        | 102/500 [1:31:10<6:49:06, 61.68s/it]"
     ]
    },
    {
     "name": "stdout",
     "output_type": "stream",
     "text": [
      "C:\\Users\\mahes\\ML\\dataset\\data unziped\\dfdc_train_part_0\\fnslimfagb.mp4\n",
      "C:\\Users\\mahes\\ML\\dataset\\data unziped\\dfdc_train_part_0\\fnslimfagb.mp4\n",
      "C:\\Users\\mahes\\ML\\dataset\\data unziped\\dfdc_train_part_0\\fnslimfagb.mp4\n",
      "C:\\Users\\mahes\\ML\\dataset\\data unziped\\dfdc_train_part_0\\fnslimfagb.mp4\n",
      "C:\\Users\\mahes\\ML\\dataset\\data unziped\\dfdc_train_part_0\\fnslimfagb.mp4\n",
      "C:\\Users\\mahes\\ML\\dataset\\data unziped\\dfdc_train_part_0\\fnslimfagb.mp4\n",
      "C:\\Users\\mahes\\ML\\dataset\\data unziped\\dfdc_train_part_0\\fnslimfagb.mp4\n",
      "C:\\Users\\mahes\\ML\\dataset\\data unziped\\dfdc_train_part_0\\fnslimfagb.mp4\n",
      "C:\\Users\\mahes\\ML\\dataset\\data unziped\\dfdc_train_part_0\\fnslimfagb.mp4\n",
      "C:\\Users\\mahes\\ML\\dataset\\data unziped\\dfdc_train_part_0\\fnslimfagb.mp4\n"
     ]
    },
    {
     "name": "stderr",
     "output_type": "stream",
     "text": [
      "Processing 500 videos:  21%|██        | 103/500 [1:32:18<7:01:25, 63.69s/it]"
     ]
    },
    {
     "name": "stdout",
     "output_type": "stream",
     "text": [
      "C:\\Users\\mahes\\ML\\dataset\\data unziped\\dfdc_train_part_0\\sttnfyptum.mp4\n",
      "C:\\Users\\mahes\\ML\\dataset\\data unziped\\dfdc_train_part_0\\sttnfyptum.mp4\n",
      "C:\\Users\\mahes\\ML\\dataset\\data unziped\\dfdc_train_part_0\\sttnfyptum.mp4\n",
      "C:\\Users\\mahes\\ML\\dataset\\data unziped\\dfdc_train_part_0\\sttnfyptum.mp4\n",
      "C:\\Users\\mahes\\ML\\dataset\\data unziped\\dfdc_train_part_0\\sttnfyptum.mp4\n",
      "C:\\Users\\mahes\\ML\\dataset\\data unziped\\dfdc_train_part_0\\sttnfyptum.mp4\n",
      "C:\\Users\\mahes\\ML\\dataset\\data unziped\\dfdc_train_part_0\\sttnfyptum.mp4\n",
      "C:\\Users\\mahes\\ML\\dataset\\data unziped\\dfdc_train_part_0\\sttnfyptum.mp4\n",
      "C:\\Users\\mahes\\ML\\dataset\\data unziped\\dfdc_train_part_0\\sttnfyptum.mp4\n",
      "C:\\Users\\mahes\\ML\\dataset\\data unziped\\dfdc_train_part_0\\sttnfyptum.mp4\n"
     ]
    },
    {
     "name": "stderr",
     "output_type": "stream",
     "text": [
      "Processing 500 videos:  21%|██        | 104/500 [1:33:25<7:07:35, 64.79s/it]"
     ]
    },
    {
     "name": "stdout",
     "output_type": "stream",
     "text": [
      "C:\\Users\\mahes\\ML\\dataset\\data unziped\\dfdc_train_part_0\\fnslimfagb.mp4\n",
      "C:\\Users\\mahes\\ML\\dataset\\data unziped\\dfdc_train_part_0\\fnslimfagb.mp4\n",
      "C:\\Users\\mahes\\ML\\dataset\\data unziped\\dfdc_train_part_0\\fnslimfagb.mp4\n",
      "C:\\Users\\mahes\\ML\\dataset\\data unziped\\dfdc_train_part_0\\fnslimfagb.mp4\n",
      "C:\\Users\\mahes\\ML\\dataset\\data unziped\\dfdc_train_part_0\\fnslimfagb.mp4\n",
      "C:\\Users\\mahes\\ML\\dataset\\data unziped\\dfdc_train_part_0\\fnslimfagb.mp4\n",
      "C:\\Users\\mahes\\ML\\dataset\\data unziped\\dfdc_train_part_0\\fnslimfagb.mp4\n",
      "C:\\Users\\mahes\\ML\\dataset\\data unziped\\dfdc_train_part_0\\fnslimfagb.mp4\n",
      "C:\\Users\\mahes\\ML\\dataset\\data unziped\\dfdc_train_part_0\\fnslimfagb.mp4\n",
      "C:\\Users\\mahes\\ML\\dataset\\data unziped\\dfdc_train_part_0\\fnslimfagb.mp4\n"
     ]
    },
    {
     "name": "stderr",
     "output_type": "stream",
     "text": [
      "Processing 500 videos:  21%|██        | 105/500 [1:34:37<7:19:25, 66.75s/it]"
     ]
    },
    {
     "name": "stdout",
     "output_type": "stream",
     "text": [
      "C:\\Users\\mahes\\ML\\dataset\\data unziped\\dfdc_train_part_0\\kqlvggiqee.mp4\n",
      "C:\\Users\\mahes\\ML\\dataset\\data unziped\\dfdc_train_part_0\\kqlvggiqee.mp4\n",
      "C:\\Users\\mahes\\ML\\dataset\\data unziped\\dfdc_train_part_0\\kqlvggiqee.mp4\n",
      "C:\\Users\\mahes\\ML\\dataset\\data unziped\\dfdc_train_part_0\\kqlvggiqee.mp4\n",
      "C:\\Users\\mahes\\ML\\dataset\\data unziped\\dfdc_train_part_0\\kqlvggiqee.mp4\n",
      "C:\\Users\\mahes\\ML\\dataset\\data unziped\\dfdc_train_part_0\\kqlvggiqee.mp4\n",
      "C:\\Users\\mahes\\ML\\dataset\\data unziped\\dfdc_train_part_0\\kqlvggiqee.mp4\n",
      "C:\\Users\\mahes\\ML\\dataset\\data unziped\\dfdc_train_part_0\\kqlvggiqee.mp4\n",
      "C:\\Users\\mahes\\ML\\dataset\\data unziped\\dfdc_train_part_0\\kqlvggiqee.mp4\n",
      "C:\\Users\\mahes\\ML\\dataset\\data unziped\\dfdc_train_part_0\\kqlvggiqee.mp4\n"
     ]
    },
    {
     "name": "stderr",
     "output_type": "stream",
     "text": [
      "Processing 500 videos:  21%|██        | 106/500 [1:35:46<7:22:49, 67.43s/it]"
     ]
    },
    {
     "name": "stdout",
     "output_type": "stream",
     "text": [
      "C:\\Users\\mahes\\ML\\dataset\\data unziped\\dfdc_train_part_0\\jytrvwlewz.mp4\n",
      "C:\\Users\\mahes\\ML\\dataset\\data unziped\\dfdc_train_part_0\\jytrvwlewz.mp4\n",
      "C:\\Users\\mahes\\ML\\dataset\\data unziped\\dfdc_train_part_0\\jytrvwlewz.mp4\n",
      "C:\\Users\\mahes\\ML\\dataset\\data unziped\\dfdc_train_part_0\\jytrvwlewz.mp4\n",
      "C:\\Users\\mahes\\ML\\dataset\\data unziped\\dfdc_train_part_0\\jytrvwlewz.mp4\n",
      "C:\\Users\\mahes\\ML\\dataset\\data unziped\\dfdc_train_part_0\\jytrvwlewz.mp4\n",
      "C:\\Users\\mahes\\ML\\dataset\\data unziped\\dfdc_train_part_0\\jytrvwlewz.mp4\n",
      "C:\\Users\\mahes\\ML\\dataset\\data unziped\\dfdc_train_part_0\\jytrvwlewz.mp4\n",
      "C:\\Users\\mahes\\ML\\dataset\\data unziped\\dfdc_train_part_0\\jytrvwlewz.mp4\n",
      "C:\\Users\\mahes\\ML\\dataset\\data unziped\\dfdc_train_part_0\\jytrvwlewz.mp4\n"
     ]
    },
    {
     "name": "stderr",
     "output_type": "stream",
     "text": [
      "Processing 500 videos:  21%|██▏       | 107/500 [1:36:51<7:16:52, 66.70s/it]"
     ]
    },
    {
     "name": "stdout",
     "output_type": "stream",
     "text": [
      "C:\\Users\\mahes\\ML\\dataset\\data unziped\\dfdc_train_part_0\\chqqxfuuzi.mp4\n",
      "C:\\Users\\mahes\\ML\\dataset\\data unziped\\dfdc_train_part_0\\chqqxfuuzi.mp4\n",
      "C:\\Users\\mahes\\ML\\dataset\\data unziped\\dfdc_train_part_0\\chqqxfuuzi.mp4\n",
      "C:\\Users\\mahes\\ML\\dataset\\data unziped\\dfdc_train_part_0\\chqqxfuuzi.mp4\n",
      "C:\\Users\\mahes\\ML\\dataset\\data unziped\\dfdc_train_part_0\\chqqxfuuzi.mp4\n",
      "C:\\Users\\mahes\\ML\\dataset\\data unziped\\dfdc_train_part_0\\chqqxfuuzi.mp4\n",
      "C:\\Users\\mahes\\ML\\dataset\\data unziped\\dfdc_train_part_0\\chqqxfuuzi.mp4\n",
      "C:\\Users\\mahes\\ML\\dataset\\data unziped\\dfdc_train_part_0\\chqqxfuuzi.mp4\n",
      "C:\\Users\\mahes\\ML\\dataset\\data unziped\\dfdc_train_part_0\\chqqxfuuzi.mp4\n",
      "C:\\Users\\mahes\\ML\\dataset\\data unziped\\dfdc_train_part_0\\chqqxfuuzi.mp4\n"
     ]
    },
    {
     "name": "stderr",
     "output_type": "stream",
     "text": [
      "Processing 500 videos:  22%|██▏       | 108/500 [1:37:59<7:17:55, 67.03s/it]"
     ]
    },
    {
     "name": "stdout",
     "output_type": "stream",
     "text": [
      "C:\\Users\\mahes\\ML\\dataset\\data unziped\\dfdc_train_part_0\\heiyoojifp.mp4\n",
      "C:\\Users\\mahes\\ML\\dataset\\data unziped\\dfdc_train_part_0\\heiyoojifp.mp4\n",
      "C:\\Users\\mahes\\ML\\dataset\\data unziped\\dfdc_train_part_0\\heiyoojifp.mp4\n",
      "C:\\Users\\mahes\\ML\\dataset\\data unziped\\dfdc_train_part_0\\heiyoojifp.mp4\n",
      "C:\\Users\\mahes\\ML\\dataset\\data unziped\\dfdc_train_part_0\\heiyoojifp.mp4\n",
      "C:\\Users\\mahes\\ML\\dataset\\data unziped\\dfdc_train_part_0\\heiyoojifp.mp4\n",
      "C:\\Users\\mahes\\ML\\dataset\\data unziped\\dfdc_train_part_0\\heiyoojifp.mp4\n",
      "C:\\Users\\mahes\\ML\\dataset\\data unziped\\dfdc_train_part_0\\heiyoojifp.mp4\n",
      "C:\\Users\\mahes\\ML\\dataset\\data unziped\\dfdc_train_part_0\\heiyoojifp.mp4\n",
      "C:\\Users\\mahes\\ML\\dataset\\data unziped\\dfdc_train_part_0\\heiyoojifp.mp4\n"
     ]
    },
    {
     "name": "stderr",
     "output_type": "stream",
     "text": [
      "Processing 500 videos:  22%|██▏       | 109/500 [1:39:07<7:20:36, 67.61s/it]"
     ]
    },
    {
     "name": "stdout",
     "output_type": "stream",
     "text": [
      "C:\\Users\\mahes\\ML\\dataset\\data unziped\\dfdc_train_part_0\\REAL\n",
      "C:\\Users\\mahes\\ML\\dataset\\data unziped\\dfdc_train_part_0\\REAL\n",
      "C:\\Users\\mahes\\ML\\dataset\\data unziped\\dfdc_train_part_0\\REAL\n",
      "C:\\Users\\mahes\\ML\\dataset\\data unziped\\dfdc_train_part_0\\REAL\n",
      "C:\\Users\\mahes\\ML\\dataset\\data unziped\\dfdc_train_part_0\\REAL\n",
      "C:\\Users\\mahes\\ML\\dataset\\data unziped\\dfdc_train_part_0\\REAL\n",
      "C:\\Users\\mahes\\ML\\dataset\\data unziped\\dfdc_train_part_0\\REAL\n",
      "C:\\Users\\mahes\\ML\\dataset\\data unziped\\dfdc_train_part_0\\REAL\n",
      "C:\\Users\\mahes\\ML\\dataset\\data unziped\\dfdc_train_part_0\\REAL\n",
      "C:\\Users\\mahes\\ML\\dataset\\data unziped\\dfdc_train_part_0\\REAL\n"
     ]
    },
    {
     "name": "stderr",
     "output_type": "stream",
     "text": [
      "Processing 500 videos:  22%|██▏       | 110/500 [1:39:17<5:27:04, 50.32s/it]"
     ]
    },
    {
     "name": "stdout",
     "output_type": "stream",
     "text": [
      "C:\\Users\\mahes\\ML\\dataset\\data unziped\\dfdc_train_part_0\\rmuxlgsedw.mp4\n",
      "C:\\Users\\mahes\\ML\\dataset\\data unziped\\dfdc_train_part_0\\rmuxlgsedw.mp4\n",
      "C:\\Users\\mahes\\ML\\dataset\\data unziped\\dfdc_train_part_0\\rmuxlgsedw.mp4\n",
      "C:\\Users\\mahes\\ML\\dataset\\data unziped\\dfdc_train_part_0\\rmuxlgsedw.mp4\n",
      "C:\\Users\\mahes\\ML\\dataset\\data unziped\\dfdc_train_part_0\\rmuxlgsedw.mp4\n",
      "C:\\Users\\mahes\\ML\\dataset\\data unziped\\dfdc_train_part_0\\rmuxlgsedw.mp4\n",
      "C:\\Users\\mahes\\ML\\dataset\\data unziped\\dfdc_train_part_0\\rmuxlgsedw.mp4\n",
      "C:\\Users\\mahes\\ML\\dataset\\data unziped\\dfdc_train_part_0\\rmuxlgsedw.mp4\n",
      "C:\\Users\\mahes\\ML\\dataset\\data unziped\\dfdc_train_part_0\\rmuxlgsedw.mp4\n",
      "C:\\Users\\mahes\\ML\\dataset\\data unziped\\dfdc_train_part_0\\rmuxlgsedw.mp4\n"
     ]
    },
    {
     "name": "stderr",
     "output_type": "stream",
     "text": [
      "Processing 500 videos:  22%|██▏       | 111/500 [1:40:24<5:58:05, 55.23s/it]"
     ]
    },
    {
     "name": "stdout",
     "output_type": "stream",
     "text": [
      "C:\\Users\\mahes\\ML\\dataset\\data unziped\\dfdc_train_part_0\\aayrffkzxn.mp4\n",
      "C:\\Users\\mahes\\ML\\dataset\\data unziped\\dfdc_train_part_0\\aayrffkzxn.mp4\n",
      "C:\\Users\\mahes\\ML\\dataset\\data unziped\\dfdc_train_part_0\\aayrffkzxn.mp4\n",
      "C:\\Users\\mahes\\ML\\dataset\\data unziped\\dfdc_train_part_0\\aayrffkzxn.mp4\n",
      "C:\\Users\\mahes\\ML\\dataset\\data unziped\\dfdc_train_part_0\\aayrffkzxn.mp4\n",
      "C:\\Users\\mahes\\ML\\dataset\\data unziped\\dfdc_train_part_0\\aayrffkzxn.mp4\n",
      "C:\\Users\\mahes\\ML\\dataset\\data unziped\\dfdc_train_part_0\\aayrffkzxn.mp4\n",
      "C:\\Users\\mahes\\ML\\dataset\\data unziped\\dfdc_train_part_0\\aayrffkzxn.mp4\n",
      "C:\\Users\\mahes\\ML\\dataset\\data unziped\\dfdc_train_part_0\\aayrffkzxn.mp4\n",
      "C:\\Users\\mahes\\ML\\dataset\\data unziped\\dfdc_train_part_0\\aayrffkzxn.mp4\n"
     ]
    },
    {
     "name": "stderr",
     "output_type": "stream",
     "text": [
      "Processing 500 videos:  22%|██▏       | 112/500 [1:41:35<6:27:13, 59.88s/it]"
     ]
    },
    {
     "name": "stdout",
     "output_type": "stream",
     "text": [
      "C:\\Users\\mahes\\ML\\dataset\\data unziped\\dfdc_train_part_0\\vmxfwxgdei.mp4\n",
      "C:\\Users\\mahes\\ML\\dataset\\data unziped\\dfdc_train_part_0\\vmxfwxgdei.mp4\n",
      "C:\\Users\\mahes\\ML\\dataset\\data unziped\\dfdc_train_part_0\\vmxfwxgdei.mp4\n",
      "C:\\Users\\mahes\\ML\\dataset\\data unziped\\dfdc_train_part_0\\vmxfwxgdei.mp4\n",
      "C:\\Users\\mahes\\ML\\dataset\\data unziped\\dfdc_train_part_0\\vmxfwxgdei.mp4\n",
      "C:\\Users\\mahes\\ML\\dataset\\data unziped\\dfdc_train_part_0\\vmxfwxgdei.mp4\n",
      "C:\\Users\\mahes\\ML\\dataset\\data unziped\\dfdc_train_part_0\\vmxfwxgdei.mp4\n",
      "C:\\Users\\mahes\\ML\\dataset\\data unziped\\dfdc_train_part_0\\vmxfwxgdei.mp4\n",
      "C:\\Users\\mahes\\ML\\dataset\\data unziped\\dfdc_train_part_0\\vmxfwxgdei.mp4\n",
      "C:\\Users\\mahes\\ML\\dataset\\data unziped\\dfdc_train_part_0\\vmxfwxgdei.mp4\n"
     ]
    },
    {
     "name": "stderr",
     "output_type": "stream",
     "text": [
      "Processing 500 videos:  23%|██▎       | 113/500 [1:42:41<6:38:44, 61.82s/it]"
     ]
    },
    {
     "name": "stdout",
     "output_type": "stream",
     "text": [
      "C:\\Users\\mahes\\ML\\dataset\\data unziped\\dfdc_train_part_0\\vtunvalyji.mp4\n",
      "C:\\Users\\mahes\\ML\\dataset\\data unziped\\dfdc_train_part_0\\vtunvalyji.mp4\n",
      "C:\\Users\\mahes\\ML\\dataset\\data unziped\\dfdc_train_part_0\\vtunvalyji.mp4\n",
      "C:\\Users\\mahes\\ML\\dataset\\data unziped\\dfdc_train_part_0\\vtunvalyji.mp4\n",
      "C:\\Users\\mahes\\ML\\dataset\\data unziped\\dfdc_train_part_0\\vtunvalyji.mp4\n",
      "C:\\Users\\mahes\\ML\\dataset\\data unziped\\dfdc_train_part_0\\vtunvalyji.mp4\n",
      "C:\\Users\\mahes\\ML\\dataset\\data unziped\\dfdc_train_part_0\\vtunvalyji.mp4\n",
      "C:\\Users\\mahes\\ML\\dataset\\data unziped\\dfdc_train_part_0\\vtunvalyji.mp4\n",
      "C:\\Users\\mahes\\ML\\dataset\\data unziped\\dfdc_train_part_0\\vtunvalyji.mp4\n",
      "C:\\Users\\mahes\\ML\\dataset\\data unziped\\dfdc_train_part_0\\vtunvalyji.mp4\n"
     ]
    },
    {
     "name": "stderr",
     "output_type": "stream",
     "text": [
      "Processing 500 videos:  23%|██▎       | 114/500 [1:43:44<6:38:48, 61.99s/it]"
     ]
    },
    {
     "name": "stdout",
     "output_type": "stream",
     "text": [
      "C:\\Users\\mahes\\ML\\dataset\\data unziped\\dfdc_train_part_0\\REAL\n",
      "C:\\Users\\mahes\\ML\\dataset\\data unziped\\dfdc_train_part_0\\REAL\n",
      "C:\\Users\\mahes\\ML\\dataset\\data unziped\\dfdc_train_part_0\\REAL\n",
      "C:\\Users\\mahes\\ML\\dataset\\data unziped\\dfdc_train_part_0\\REAL\n",
      "C:\\Users\\mahes\\ML\\dataset\\data unziped\\dfdc_train_part_0\\REAL\n",
      "C:\\Users\\mahes\\ML\\dataset\\data unziped\\dfdc_train_part_0\\REAL\n",
      "C:\\Users\\mahes\\ML\\dataset\\data unziped\\dfdc_train_part_0\\REAL\n",
      "C:\\Users\\mahes\\ML\\dataset\\data unziped\\dfdc_train_part_0\\REAL\n",
      "C:\\Users\\mahes\\ML\\dataset\\data unziped\\dfdc_train_part_0\\REAL\n"
     ]
    },
    {
     "name": "stderr",
     "output_type": "stream",
     "text": [
      "Processing 500 videos:  23%|██▎       | 115/500 [1:43:53<4:57:09, 46.31s/it]"
     ]
    },
    {
     "name": "stdout",
     "output_type": "stream",
     "text": [
      "C:\\Users\\mahes\\ML\\dataset\\data unziped\\dfdc_train_part_0\\REAL\n",
      "C:\\Users\\mahes\\ML\\dataset\\data unziped\\dfdc_train_part_0\\uprwuohbwx.mp4\n",
      "C:\\Users\\mahes\\ML\\dataset\\data unziped\\dfdc_train_part_0\\uprwuohbwx.mp4\n",
      "C:\\Users\\mahes\\ML\\dataset\\data unziped\\dfdc_train_part_0\\uprwuohbwx.mp4\n",
      "C:\\Users\\mahes\\ML\\dataset\\data unziped\\dfdc_train_part_0\\uprwuohbwx.mp4\n",
      "C:\\Users\\mahes\\ML\\dataset\\data unziped\\dfdc_train_part_0\\uprwuohbwx.mp4\n",
      "C:\\Users\\mahes\\ML\\dataset\\data unziped\\dfdc_train_part_0\\uprwuohbwx.mp4\n",
      "C:\\Users\\mahes\\ML\\dataset\\data unziped\\dfdc_train_part_0\\uprwuohbwx.mp4\n",
      "C:\\Users\\mahes\\ML\\dataset\\data unziped\\dfdc_train_part_0\\uprwuohbwx.mp4\n",
      "C:\\Users\\mahes\\ML\\dataset\\data unziped\\dfdc_train_part_0\\uprwuohbwx.mp4\n",
      "C:\\Users\\mahes\\ML\\dataset\\data unziped\\dfdc_train_part_0\\uprwuohbwx.mp4\n"
     ]
    },
    {
     "name": "stderr",
     "output_type": "stream",
     "text": [
      "Processing 500 videos:  23%|██▎       | 116/500 [1:45:04<5:42:42, 53.55s/it]"
     ]
    },
    {
     "name": "stdout",
     "output_type": "stream",
     "text": [
      "C:\\Users\\mahes\\ML\\dataset\\data unziped\\dfdc_train_part_0\\nhsijqpoda.mp4\n",
      "C:\\Users\\mahes\\ML\\dataset\\data unziped\\dfdc_train_part_0\\nhsijqpoda.mp4\n",
      "C:\\Users\\mahes\\ML\\dataset\\data unziped\\dfdc_train_part_0\\nhsijqpoda.mp4\n",
      "C:\\Users\\mahes\\ML\\dataset\\data unziped\\dfdc_train_part_0\\nhsijqpoda.mp4\n",
      "C:\\Users\\mahes\\ML\\dataset\\data unziped\\dfdc_train_part_0\\nhsijqpoda.mp4\n",
      "C:\\Users\\mahes\\ML\\dataset\\data unziped\\dfdc_train_part_0\\nhsijqpoda.mp4\n",
      "C:\\Users\\mahes\\ML\\dataset\\data unziped\\dfdc_train_part_0\\nhsijqpoda.mp4\n",
      "C:\\Users\\mahes\\ML\\dataset\\data unziped\\dfdc_train_part_0\\nhsijqpoda.mp4\n",
      "C:\\Users\\mahes\\ML\\dataset\\data unziped\\dfdc_train_part_0\\nhsijqpoda.mp4\n",
      "C:\\Users\\mahes\\ML\\dataset\\data unziped\\dfdc_train_part_0\\nhsijqpoda.mp4\n"
     ]
    },
    {
     "name": "stderr",
     "output_type": "stream",
     "text": [
      "Processing 500 videos:  23%|██▎       | 117/500 [1:46:08<6:02:59, 56.87s/it]"
     ]
    },
    {
     "name": "stdout",
     "output_type": "stream",
     "text": [
      "C:\\Users\\mahes\\ML\\dataset\\data unziped\\dfdc_train_part_0\\lsmnqsnqld.mp4\n",
      "C:\\Users\\mahes\\ML\\dataset\\data unziped\\dfdc_train_part_0\\lsmnqsnqld.mp4\n",
      "C:\\Users\\mahes\\ML\\dataset\\data unziped\\dfdc_train_part_0\\lsmnqsnqld.mp4\n",
      "C:\\Users\\mahes\\ML\\dataset\\data unziped\\dfdc_train_part_0\\lsmnqsnqld.mp4\n",
      "C:\\Users\\mahes\\ML\\dataset\\data unziped\\dfdc_train_part_0\\lsmnqsnqld.mp4\n",
      "C:\\Users\\mahes\\ML\\dataset\\data unziped\\dfdc_train_part_0\\lsmnqsnqld.mp4\n",
      "C:\\Users\\mahes\\ML\\dataset\\data unziped\\dfdc_train_part_0\\lsmnqsnqld.mp4\n",
      "C:\\Users\\mahes\\ML\\dataset\\data unziped\\dfdc_train_part_0\\lsmnqsnqld.mp4\n",
      "C:\\Users\\mahes\\ML\\dataset\\data unziped\\dfdc_train_part_0\\lsmnqsnqld.mp4\n",
      "C:\\Users\\mahes\\ML\\dataset\\data unziped\\dfdc_train_part_0\\lsmnqsnqld.mp4\n"
     ]
    },
    {
     "name": "stderr",
     "output_type": "stream",
     "text": [
      "Processing 500 videos:  24%|██▎       | 118/500 [1:47:12<6:15:44, 59.02s/it]"
     ]
    },
    {
     "name": "stdout",
     "output_type": "stream",
     "text": [
      "C:\\Users\\mahes\\ML\\dataset\\data unziped\\dfdc_train_part_0\\nweufafotd.mp4\n",
      "C:\\Users\\mahes\\ML\\dataset\\data unziped\\dfdc_train_part_0\\nweufafotd.mp4\n",
      "C:\\Users\\mahes\\ML\\dataset\\data unziped\\dfdc_train_part_0\\nweufafotd.mp4\n",
      "C:\\Users\\mahes\\ML\\dataset\\data unziped\\dfdc_train_part_0\\nweufafotd.mp4\n",
      "C:\\Users\\mahes\\ML\\dataset\\data unziped\\dfdc_train_part_0\\nweufafotd.mp4\n",
      "C:\\Users\\mahes\\ML\\dataset\\data unziped\\dfdc_train_part_0\\nweufafotd.mp4\n",
      "C:\\Users\\mahes\\ML\\dataset\\data unziped\\dfdc_train_part_0\\nweufafotd.mp4\n",
      "C:\\Users\\mahes\\ML\\dataset\\data unziped\\dfdc_train_part_0\\nweufafotd.mp4\n",
      "C:\\Users\\mahes\\ML\\dataset\\data unziped\\dfdc_train_part_0\\nweufafotd.mp4\n",
      "C:\\Users\\mahes\\ML\\dataset\\data unziped\\dfdc_train_part_0\\nweufafotd.mp4\n"
     ]
    },
    {
     "name": "stderr",
     "output_type": "stream",
     "text": [
      "Processing 500 videos:  24%|██▍       | 119/500 [1:48:22<6:33:56, 62.04s/it]"
     ]
    },
    {
     "name": "stdout",
     "output_type": "stream",
     "text": [
      "C:\\Users\\mahes\\ML\\dataset\\data unziped\\dfdc_train_part_0\\aayrffkzxn.mp4\n",
      "C:\\Users\\mahes\\ML\\dataset\\data unziped\\dfdc_train_part_0\\aayrffkzxn.mp4\n",
      "C:\\Users\\mahes\\ML\\dataset\\data unziped\\dfdc_train_part_0\\aayrffkzxn.mp4\n",
      "C:\\Users\\mahes\\ML\\dataset\\data unziped\\dfdc_train_part_0\\aayrffkzxn.mp4\n",
      "C:\\Users\\mahes\\ML\\dataset\\data unziped\\dfdc_train_part_0\\aayrffkzxn.mp4\n",
      "C:\\Users\\mahes\\ML\\dataset\\data unziped\\dfdc_train_part_0\\aayrffkzxn.mp4\n",
      "C:\\Users\\mahes\\ML\\dataset\\data unziped\\dfdc_train_part_0\\aayrffkzxn.mp4\n",
      "C:\\Users\\mahes\\ML\\dataset\\data unziped\\dfdc_train_part_0\\aayrffkzxn.mp4\n",
      "C:\\Users\\mahes\\ML\\dataset\\data unziped\\dfdc_train_part_0\\aayrffkzxn.mp4\n",
      "C:\\Users\\mahes\\ML\\dataset\\data unziped\\dfdc_train_part_0\\aayrffkzxn.mp4\n"
     ]
    },
    {
     "name": "stderr",
     "output_type": "stream",
     "text": [
      "Processing 500 videos:  24%|██▍       | 120/500 [1:49:33<6:51:05, 64.91s/it]"
     ]
    },
    {
     "name": "stdout",
     "output_type": "stream",
     "text": [
      "C:\\Users\\mahes\\ML\\dataset\\data unziped\\dfdc_train_part_0\\gnmmhlbzge.mp4\n",
      "C:\\Users\\mahes\\ML\\dataset\\data unziped\\dfdc_train_part_0\\gnmmhlbzge.mp4\n",
      "C:\\Users\\mahes\\ML\\dataset\\data unziped\\dfdc_train_part_0\\gnmmhlbzge.mp4\n",
      "C:\\Users\\mahes\\ML\\dataset\\data unziped\\dfdc_train_part_0\\gnmmhlbzge.mp4\n",
      "C:\\Users\\mahes\\ML\\dataset\\data unziped\\dfdc_train_part_0\\gnmmhlbzge.mp4\n",
      "C:\\Users\\mahes\\ML\\dataset\\data unziped\\dfdc_train_part_0\\gnmmhlbzge.mp4\n",
      "C:\\Users\\mahes\\ML\\dataset\\data unziped\\dfdc_train_part_0\\gnmmhlbzge.mp4\n",
      "C:\\Users\\mahes\\ML\\dataset\\data unziped\\dfdc_train_part_0\\gnmmhlbzge.mp4\n",
      "C:\\Users\\mahes\\ML\\dataset\\data unziped\\dfdc_train_part_0\\gnmmhlbzge.mp4\n",
      "C:\\Users\\mahes\\ML\\dataset\\data unziped\\dfdc_train_part_0\\gnmmhlbzge.mp4\n"
     ]
    },
    {
     "name": "stderr",
     "output_type": "stream",
     "text": [
      "Processing 500 videos:  24%|██▍       | 121/500 [1:50:33<6:41:09, 63.51s/it]"
     ]
    },
    {
     "name": "stdout",
     "output_type": "stream",
     "text": [
      "C:\\Users\\mahes\\ML\\dataset\\data unziped\\dfdc_train_part_0\\prdrkaxeob.mp4\n",
      "C:\\Users\\mahes\\ML\\dataset\\data unziped\\dfdc_train_part_0\\prdrkaxeob.mp4\n",
      "C:\\Users\\mahes\\ML\\dataset\\data unziped\\dfdc_train_part_0\\prdrkaxeob.mp4\n",
      "C:\\Users\\mahes\\ML\\dataset\\data unziped\\dfdc_train_part_0\\prdrkaxeob.mp4\n",
      "C:\\Users\\mahes\\ML\\dataset\\data unziped\\dfdc_train_part_0\\prdrkaxeob.mp4\n",
      "C:\\Users\\mahes\\ML\\dataset\\data unziped\\dfdc_train_part_0\\prdrkaxeob.mp4\n",
      "C:\\Users\\mahes\\ML\\dataset\\data unziped\\dfdc_train_part_0\\prdrkaxeob.mp4\n",
      "C:\\Users\\mahes\\ML\\dataset\\data unziped\\dfdc_train_part_0\\prdrkaxeob.mp4\n",
      "C:\\Users\\mahes\\ML\\dataset\\data unziped\\dfdc_train_part_0\\prdrkaxeob.mp4\n",
      "C:\\Users\\mahes\\ML\\dataset\\data unziped\\dfdc_train_part_0\\prdrkaxeob.mp4\n"
     ]
    },
    {
     "name": "stderr",
     "output_type": "stream",
     "text": [
      "Processing 500 videos:  24%|██▍       | 122/500 [1:51:41<6:48:48, 64.89s/it]"
     ]
    },
    {
     "name": "stdout",
     "output_type": "stream",
     "text": [
      "C:\\Users\\mahes\\ML\\dataset\\data unziped\\dfdc_train_part_0\\wynotylpnm.mp4\n",
      "C:\\Users\\mahes\\ML\\dataset\\data unziped\\dfdc_train_part_0\\wynotylpnm.mp4\n",
      "C:\\Users\\mahes\\ML\\dataset\\data unziped\\dfdc_train_part_0\\wynotylpnm.mp4\n",
      "C:\\Users\\mahes\\ML\\dataset\\data unziped\\dfdc_train_part_0\\wynotylpnm.mp4\n",
      "C:\\Users\\mahes\\ML\\dataset\\data unziped\\dfdc_train_part_0\\wynotylpnm.mp4\n",
      "C:\\Users\\mahes\\ML\\dataset\\data unziped\\dfdc_train_part_0\\wynotylpnm.mp4\n",
      "C:\\Users\\mahes\\ML\\dataset\\data unziped\\dfdc_train_part_0\\wynotylpnm.mp4\n",
      "C:\\Users\\mahes\\ML\\dataset\\data unziped\\dfdc_train_part_0\\wynotylpnm.mp4\n",
      "C:\\Users\\mahes\\ML\\dataset\\data unziped\\dfdc_train_part_0\\wynotylpnm.mp4\n",
      "C:\\Users\\mahes\\ML\\dataset\\data unziped\\dfdc_train_part_0\\wynotylpnm.mp4\n"
     ]
    },
    {
     "name": "stderr",
     "output_type": "stream",
     "text": [
      "Processing 500 videos:  25%|██▍       | 123/500 [1:52:41<6:37:41, 63.29s/it]"
     ]
    },
    {
     "name": "stdout",
     "output_type": "stream",
     "text": [
      "C:\\Users\\mahes\\ML\\dataset\\data unziped\\dfdc_train_part_0\\fzvpbrzssi.mp4\n",
      "C:\\Users\\mahes\\ML\\dataset\\data unziped\\dfdc_train_part_0\\fzvpbrzssi.mp4\n",
      "C:\\Users\\mahes\\ML\\dataset\\data unziped\\dfdc_train_part_0\\fzvpbrzssi.mp4\n",
      "C:\\Users\\mahes\\ML\\dataset\\data unziped\\dfdc_train_part_0\\fzvpbrzssi.mp4\n",
      "C:\\Users\\mahes\\ML\\dataset\\data unziped\\dfdc_train_part_0\\fzvpbrzssi.mp4\n",
      "C:\\Users\\mahes\\ML\\dataset\\data unziped\\dfdc_train_part_0\\fzvpbrzssi.mp4\n",
      "C:\\Users\\mahes\\ML\\dataset\\data unziped\\dfdc_train_part_0\\fzvpbrzssi.mp4\n",
      "C:\\Users\\mahes\\ML\\dataset\\data unziped\\dfdc_train_part_0\\fzvpbrzssi.mp4\n",
      "C:\\Users\\mahes\\ML\\dataset\\data unziped\\dfdc_train_part_0\\fzvpbrzssi.mp4\n",
      "C:\\Users\\mahes\\ML\\dataset\\data unziped\\dfdc_train_part_0\\fzvpbrzssi.mp4\n"
     ]
    },
    {
     "name": "stderr",
     "output_type": "stream",
     "text": [
      "Processing 500 videos:  25%|██▍       | 124/500 [1:53:41<6:30:02, 62.24s/it]"
     ]
    },
    {
     "name": "stdout",
     "output_type": "stream",
     "text": [
      "C:\\Users\\mahes\\ML\\dataset\\data unziped\\dfdc_train_part_0\\nhsijqpoda.mp4\n",
      "C:\\Users\\mahes\\ML\\dataset\\data unziped\\dfdc_train_part_0\\nhsijqpoda.mp4\n",
      "C:\\Users\\mahes\\ML\\dataset\\data unziped\\dfdc_train_part_0\\nhsijqpoda.mp4\n",
      "C:\\Users\\mahes\\ML\\dataset\\data unziped\\dfdc_train_part_0\\nhsijqpoda.mp4\n",
      "C:\\Users\\mahes\\ML\\dataset\\data unziped\\dfdc_train_part_0\\nhsijqpoda.mp4\n",
      "C:\\Users\\mahes\\ML\\dataset\\data unziped\\dfdc_train_part_0\\nhsijqpoda.mp4\n",
      "C:\\Users\\mahes\\ML\\dataset\\data unziped\\dfdc_train_part_0\\nhsijqpoda.mp4\n",
      "C:\\Users\\mahes\\ML\\dataset\\data unziped\\dfdc_train_part_0\\nhsijqpoda.mp4\n",
      "C:\\Users\\mahes\\ML\\dataset\\data unziped\\dfdc_train_part_0\\nhsijqpoda.mp4\n",
      "C:\\Users\\mahes\\ML\\dataset\\data unziped\\dfdc_train_part_0\\nhsijqpoda.mp4\n"
     ]
    },
    {
     "name": "stderr",
     "output_type": "stream",
     "text": [
      "Processing 500 videos:  25%|██▌       | 125/500 [1:54:42<6:27:46, 62.04s/it]"
     ]
    },
    {
     "name": "stdout",
     "output_type": "stream",
     "text": [
      "C:\\Users\\mahes\\ML\\dataset\\data unziped\\dfdc_train_part_0\\uqtqhiqymz.mp4\n",
      "C:\\Users\\mahes\\ML\\dataset\\data unziped\\dfdc_train_part_0\\uqtqhiqymz.mp4\n",
      "C:\\Users\\mahes\\ML\\dataset\\data unziped\\dfdc_train_part_0\\uqtqhiqymz.mp4\n",
      "C:\\Users\\mahes\\ML\\dataset\\data unziped\\dfdc_train_part_0\\uqtqhiqymz.mp4\n",
      "C:\\Users\\mahes\\ML\\dataset\\data unziped\\dfdc_train_part_0\\uqtqhiqymz.mp4\n",
      "C:\\Users\\mahes\\ML\\dataset\\data unziped\\dfdc_train_part_0\\uqtqhiqymz.mp4\n",
      "C:\\Users\\mahes\\ML\\dataset\\data unziped\\dfdc_train_part_0\\uqtqhiqymz.mp4\n",
      "C:\\Users\\mahes\\ML\\dataset\\data unziped\\dfdc_train_part_0\\uqtqhiqymz.mp4\n",
      "C:\\Users\\mahes\\ML\\dataset\\data unziped\\dfdc_train_part_0\\uqtqhiqymz.mp4\n",
      "C:\\Users\\mahes\\ML\\dataset\\data unziped\\dfdc_train_part_0\\uqtqhiqymz.mp4\n"
     ]
    },
    {
     "name": "stderr",
     "output_type": "stream",
     "text": [
      "Processing 500 videos:  25%|██▌       | 126/500 [1:55:51<6:38:36, 63.95s/it]"
     ]
    },
    {
     "name": "stdout",
     "output_type": "stream",
     "text": [
      "C:\\Users\\mahes\\ML\\dataset\\data unziped\\dfdc_train_part_0\\eppyqpgewp.mp4\n",
      "C:\\Users\\mahes\\ML\\dataset\\data unziped\\dfdc_train_part_0\\eppyqpgewp.mp4\n",
      "C:\\Users\\mahes\\ML\\dataset\\data unziped\\dfdc_train_part_0\\eppyqpgewp.mp4\n",
      "C:\\Users\\mahes\\ML\\dataset\\data unziped\\dfdc_train_part_0\\eppyqpgewp.mp4\n",
      "C:\\Users\\mahes\\ML\\dataset\\data unziped\\dfdc_train_part_0\\eppyqpgewp.mp4\n",
      "C:\\Users\\mahes\\ML\\dataset\\data unziped\\dfdc_train_part_0\\eppyqpgewp.mp4\n",
      "C:\\Users\\mahes\\ML\\dataset\\data unziped\\dfdc_train_part_0\\eppyqpgewp.mp4\n",
      "C:\\Users\\mahes\\ML\\dataset\\data unziped\\dfdc_train_part_0\\eppyqpgewp.mp4\n",
      "C:\\Users\\mahes\\ML\\dataset\\data unziped\\dfdc_train_part_0\\eppyqpgewp.mp4\n",
      "C:\\Users\\mahes\\ML\\dataset\\data unziped\\dfdc_train_part_0\\eppyqpgewp.mp4\n"
     ]
    },
    {
     "name": "stderr",
     "output_type": "stream",
     "text": [
      "Processing 500 videos:  25%|██▌       | 127/500 [1:56:56<6:40:12, 64.38s/it]"
     ]
    },
    {
     "name": "stdout",
     "output_type": "stream",
     "text": [
      "C:\\Users\\mahes\\ML\\dataset\\data unziped\\dfdc_train_part_0\\jawgcggquk.mp4\n",
      "C:\\Users\\mahes\\ML\\dataset\\data unziped\\dfdc_train_part_0\\jawgcggquk.mp4\n",
      "C:\\Users\\mahes\\ML\\dataset\\data unziped\\dfdc_train_part_0\\jawgcggquk.mp4\n",
      "C:\\Users\\mahes\\ML\\dataset\\data unziped\\dfdc_train_part_0\\jawgcggquk.mp4\n",
      "C:\\Users\\mahes\\ML\\dataset\\data unziped\\dfdc_train_part_0\\jawgcggquk.mp4\n",
      "C:\\Users\\mahes\\ML\\dataset\\data unziped\\dfdc_train_part_0\\jawgcggquk.mp4\n",
      "C:\\Users\\mahes\\ML\\dataset\\data unziped\\dfdc_train_part_0\\jawgcggquk.mp4\n",
      "C:\\Users\\mahes\\ML\\dataset\\data unziped\\dfdc_train_part_0\\jawgcggquk.mp4\n",
      "C:\\Users\\mahes\\ML\\dataset\\data unziped\\dfdc_train_part_0\\jawgcggquk.mp4\n",
      "C:\\Users\\mahes\\ML\\dataset\\data unziped\\dfdc_train_part_0\\jawgcggquk.mp4\n"
     ]
    },
    {
     "name": "stderr",
     "output_type": "stream",
     "text": [
      "Processing 500 videos:  26%|██▌       | 128/500 [1:57:55<6:29:28, 62.82s/it]"
     ]
    },
    {
     "name": "stdout",
     "output_type": "stream",
     "text": [
      "C:\\Users\\mahes\\ML\\dataset\\data unziped\\dfdc_train_part_0\\wfzjxzhdkj.mp4\n",
      "C:\\Users\\mahes\\ML\\dataset\\data unziped\\dfdc_train_part_0\\wfzjxzhdkj.mp4\n",
      "C:\\Users\\mahes\\ML\\dataset\\data unziped\\dfdc_train_part_0\\wfzjxzhdkj.mp4\n",
      "C:\\Users\\mahes\\ML\\dataset\\data unziped\\dfdc_train_part_0\\wfzjxzhdkj.mp4\n",
      "C:\\Users\\mahes\\ML\\dataset\\data unziped\\dfdc_train_part_0\\wfzjxzhdkj.mp4\n",
      "C:\\Users\\mahes\\ML\\dataset\\data unziped\\dfdc_train_part_0\\wfzjxzhdkj.mp4\n",
      "C:\\Users\\mahes\\ML\\dataset\\data unziped\\dfdc_train_part_0\\wfzjxzhdkj.mp4\n",
      "C:\\Users\\mahes\\ML\\dataset\\data unziped\\dfdc_train_part_0\\wfzjxzhdkj.mp4\n",
      "C:\\Users\\mahes\\ML\\dataset\\data unziped\\dfdc_train_part_0\\wfzjxzhdkj.mp4\n",
      "C:\\Users\\mahes\\ML\\dataset\\data unziped\\dfdc_train_part_0\\wfzjxzhdkj.mp4\n"
     ]
    },
    {
     "name": "stderr",
     "output_type": "stream",
     "text": [
      "Processing 500 videos:  26%|██▌       | 129/500 [1:59:03<6:37:58, 64.36s/it]"
     ]
    },
    {
     "name": "stdout",
     "output_type": "stream",
     "text": [
      "C:\\Users\\mahes\\ML\\dataset\\data unziped\\dfdc_train_part_0\\nweufafotd.mp4\n",
      "C:\\Users\\mahes\\ML\\dataset\\data unziped\\dfdc_train_part_0\\nweufafotd.mp4\n",
      "C:\\Users\\mahes\\ML\\dataset\\data unziped\\dfdc_train_part_0\\nweufafotd.mp4\n",
      "C:\\Users\\mahes\\ML\\dataset\\data unziped\\dfdc_train_part_0\\nweufafotd.mp4\n",
      "C:\\Users\\mahes\\ML\\dataset\\data unziped\\dfdc_train_part_0\\nweufafotd.mp4\n",
      "C:\\Users\\mahes\\ML\\dataset\\data unziped\\dfdc_train_part_0\\nweufafotd.mp4\n",
      "C:\\Users\\mahes\\ML\\dataset\\data unziped\\dfdc_train_part_0\\nweufafotd.mp4\n",
      "C:\\Users\\mahes\\ML\\dataset\\data unziped\\dfdc_train_part_0\\nweufafotd.mp4\n",
      "C:\\Users\\mahes\\ML\\dataset\\data unziped\\dfdc_train_part_0\\nweufafotd.mp4\n",
      "C:\\Users\\mahes\\ML\\dataset\\data unziped\\dfdc_train_part_0\\nweufafotd.mp4\n"
     ]
    },
    {
     "name": "stderr",
     "output_type": "stream",
     "text": [
      "Processing 500 videos:  26%|██▌       | 130/500 [2:00:10<6:41:49, 65.16s/it]"
     ]
    },
    {
     "name": "stdout",
     "output_type": "stream",
     "text": [
      "C:\\Users\\mahes\\ML\\dataset\\data unziped\\dfdc_train_part_0\\fdpisghkmd.mp4\n",
      "C:\\Users\\mahes\\ML\\dataset\\data unziped\\dfdc_train_part_0\\fdpisghkmd.mp4\n",
      "C:\\Users\\mahes\\ML\\dataset\\data unziped\\dfdc_train_part_0\\fdpisghkmd.mp4\n",
      "C:\\Users\\mahes\\ML\\dataset\\data unziped\\dfdc_train_part_0\\fdpisghkmd.mp4\n",
      "C:\\Users\\mahes\\ML\\dataset\\data unziped\\dfdc_train_part_0\\fdpisghkmd.mp4\n",
      "C:\\Users\\mahes\\ML\\dataset\\data unziped\\dfdc_train_part_0\\fdpisghkmd.mp4\n",
      "C:\\Users\\mahes\\ML\\dataset\\data unziped\\dfdc_train_part_0\\fdpisghkmd.mp4\n",
      "C:\\Users\\mahes\\ML\\dataset\\data unziped\\dfdc_train_part_0\\fdpisghkmd.mp4\n",
      "C:\\Users\\mahes\\ML\\dataset\\data unziped\\dfdc_train_part_0\\fdpisghkmd.mp4\n",
      "C:\\Users\\mahes\\ML\\dataset\\data unziped\\dfdc_train_part_0\\fdpisghkmd.mp4\n"
     ]
    },
    {
     "name": "stderr",
     "output_type": "stream",
     "text": [
      "Processing 500 videos:  26%|██▌       | 131/500 [2:01:18<6:44:47, 65.82s/it]"
     ]
    },
    {
     "name": "stdout",
     "output_type": "stream",
     "text": [
      "C:\\Users\\mahes\\ML\\dataset\\data unziped\\dfdc_train_part_0\\pqdeutauqc.mp4\n",
      "C:\\Users\\mahes\\ML\\dataset\\data unziped\\dfdc_train_part_0\\pqdeutauqc.mp4\n",
      "C:\\Users\\mahes\\ML\\dataset\\data unziped\\dfdc_train_part_0\\pqdeutauqc.mp4\n",
      "C:\\Users\\mahes\\ML\\dataset\\data unziped\\dfdc_train_part_0\\pqdeutauqc.mp4\n",
      "C:\\Users\\mahes\\ML\\dataset\\data unziped\\dfdc_train_part_0\\pqdeutauqc.mp4\n",
      "C:\\Users\\mahes\\ML\\dataset\\data unziped\\dfdc_train_part_0\\pqdeutauqc.mp4\n",
      "C:\\Users\\mahes\\ML\\dataset\\data unziped\\dfdc_train_part_0\\pqdeutauqc.mp4\n",
      "C:\\Users\\mahes\\ML\\dataset\\data unziped\\dfdc_train_part_0\\pqdeutauqc.mp4\n",
      "C:\\Users\\mahes\\ML\\dataset\\data unziped\\dfdc_train_part_0\\pqdeutauqc.mp4\n",
      "C:\\Users\\mahes\\ML\\dataset\\data unziped\\dfdc_train_part_0\\pqdeutauqc.mp4\n"
     ]
    },
    {
     "name": "stderr",
     "output_type": "stream",
     "text": [
      "Processing 500 videos:  26%|██▋       | 132/500 [2:02:20<6:37:47, 64.86s/it]"
     ]
    },
    {
     "name": "stdout",
     "output_type": "stream",
     "text": [
      "C:\\Users\\mahes\\ML\\dataset\\data unziped\\dfdc_train_part_0\\nweufafotd.mp4\n",
      "C:\\Users\\mahes\\ML\\dataset\\data unziped\\dfdc_train_part_0\\nweufafotd.mp4\n",
      "C:\\Users\\mahes\\ML\\dataset\\data unziped\\dfdc_train_part_0\\nweufafotd.mp4\n",
      "C:\\Users\\mahes\\ML\\dataset\\data unziped\\dfdc_train_part_0\\nweufafotd.mp4\n",
      "C:\\Users\\mahes\\ML\\dataset\\data unziped\\dfdc_train_part_0\\nweufafotd.mp4\n",
      "C:\\Users\\mahes\\ML\\dataset\\data unziped\\dfdc_train_part_0\\nweufafotd.mp4\n",
      "C:\\Users\\mahes\\ML\\dataset\\data unziped\\dfdc_train_part_0\\nweufafotd.mp4\n",
      "C:\\Users\\mahes\\ML\\dataset\\data unziped\\dfdc_train_part_0\\nweufafotd.mp4\n",
      "C:\\Users\\mahes\\ML\\dataset\\data unziped\\dfdc_train_part_0\\nweufafotd.mp4\n",
      "C:\\Users\\mahes\\ML\\dataset\\data unziped\\dfdc_train_part_0\\nweufafotd.mp4\n"
     ]
    },
    {
     "name": "stderr",
     "output_type": "stream",
     "text": [
      "Processing 500 videos:  27%|██▋       | 133/500 [2:03:31<6:47:53, 66.68s/it]"
     ]
    },
    {
     "name": "stdout",
     "output_type": "stream",
     "text": [
      "C:\\Users\\mahes\\ML\\dataset\\data unziped\\dfdc_train_part_0\\ldtgofdaqg.mp4\n",
      "C:\\Users\\mahes\\ML\\dataset\\data unziped\\dfdc_train_part_0\\ldtgofdaqg.mp4\n",
      "C:\\Users\\mahes\\ML\\dataset\\data unziped\\dfdc_train_part_0\\ldtgofdaqg.mp4\n",
      "C:\\Users\\mahes\\ML\\dataset\\data unziped\\dfdc_train_part_0\\ldtgofdaqg.mp4\n",
      "C:\\Users\\mahes\\ML\\dataset\\data unziped\\dfdc_train_part_0\\ldtgofdaqg.mp4\n",
      "C:\\Users\\mahes\\ML\\dataset\\data unziped\\dfdc_train_part_0\\ldtgofdaqg.mp4\n",
      "C:\\Users\\mahes\\ML\\dataset\\data unziped\\dfdc_train_part_0\\ldtgofdaqg.mp4\n",
      "C:\\Users\\mahes\\ML\\dataset\\data unziped\\dfdc_train_part_0\\ldtgofdaqg.mp4\n",
      "C:\\Users\\mahes\\ML\\dataset\\data unziped\\dfdc_train_part_0\\ldtgofdaqg.mp4\n",
      "C:\\Users\\mahes\\ML\\dataset\\data unziped\\dfdc_train_part_0\\ldtgofdaqg.mp4\n"
     ]
    },
    {
     "name": "stderr",
     "output_type": "stream",
     "text": [
      "Processing 500 videos:  27%|██▋       | 134/500 [2:04:32<6:35:10, 64.78s/it]"
     ]
    },
    {
     "name": "stdout",
     "output_type": "stream",
     "text": [
      "C:\\Users\\mahes\\ML\\dataset\\data unziped\\dfdc_train_part_0\\yexeazbqig.mp4\n",
      "C:\\Users\\mahes\\ML\\dataset\\data unziped\\dfdc_train_part_0\\yexeazbqig.mp4\n",
      "C:\\Users\\mahes\\ML\\dataset\\data unziped\\dfdc_train_part_0\\yexeazbqig.mp4\n",
      "C:\\Users\\mahes\\ML\\dataset\\data unziped\\dfdc_train_part_0\\yexeazbqig.mp4\n",
      "C:\\Users\\mahes\\ML\\dataset\\data unziped\\dfdc_train_part_0\\yexeazbqig.mp4\n",
      "C:\\Users\\mahes\\ML\\dataset\\data unziped\\dfdc_train_part_0\\yexeazbqig.mp4\n",
      "C:\\Users\\mahes\\ML\\dataset\\data unziped\\dfdc_train_part_0\\yexeazbqig.mp4\n",
      "C:\\Users\\mahes\\ML\\dataset\\data unziped\\dfdc_train_part_0\\yexeazbqig.mp4\n",
      "C:\\Users\\mahes\\ML\\dataset\\data unziped\\dfdc_train_part_0\\yexeazbqig.mp4\n",
      "C:\\Users\\mahes\\ML\\dataset\\data unziped\\dfdc_train_part_0\\yexeazbqig.mp4\n"
     ]
    },
    {
     "name": "stderr",
     "output_type": "stream",
     "text": [
      "Processing 500 videos:  27%|██▋       | 135/500 [2:05:36<6:33:27, 64.68s/it]"
     ]
    },
    {
     "name": "stdout",
     "output_type": "stream",
     "text": [
      "C:\\Users\\mahes\\ML\\dataset\\data unziped\\dfdc_train_part_0\\fdpisghkmd.mp4\n",
      "C:\\Users\\mahes\\ML\\dataset\\data unziped\\dfdc_train_part_0\\fdpisghkmd.mp4\n",
      "C:\\Users\\mahes\\ML\\dataset\\data unziped\\dfdc_train_part_0\\fdpisghkmd.mp4\n",
      "C:\\Users\\mahes\\ML\\dataset\\data unziped\\dfdc_train_part_0\\fdpisghkmd.mp4\n",
      "C:\\Users\\mahes\\ML\\dataset\\data unziped\\dfdc_train_part_0\\fdpisghkmd.mp4\n",
      "C:\\Users\\mahes\\ML\\dataset\\data unziped\\dfdc_train_part_0\\fdpisghkmd.mp4\n",
      "C:\\Users\\mahes\\ML\\dataset\\data unziped\\dfdc_train_part_0\\fdpisghkmd.mp4\n",
      "C:\\Users\\mahes\\ML\\dataset\\data unziped\\dfdc_train_part_0\\fdpisghkmd.mp4\n",
      "C:\\Users\\mahes\\ML\\dataset\\data unziped\\dfdc_train_part_0\\fdpisghkmd.mp4\n",
      "C:\\Users\\mahes\\ML\\dataset\\data unziped\\dfdc_train_part_0\\fdpisghkmd.mp4\n"
     ]
    },
    {
     "name": "stderr",
     "output_type": "stream",
     "text": [
      "Processing 500 videos:  27%|██▋       | 136/500 [2:06:41<6:32:32, 64.70s/it]"
     ]
    },
    {
     "name": "stdout",
     "output_type": "stream",
     "text": [
      "C:\\Users\\mahes\\ML\\dataset\\data unziped\\dfdc_train_part_0\\wcqvzujamg.mp4\n",
      "C:\\Users\\mahes\\ML\\dataset\\data unziped\\dfdc_train_part_0\\wcqvzujamg.mp4\n",
      "C:\\Users\\mahes\\ML\\dataset\\data unziped\\dfdc_train_part_0\\wcqvzujamg.mp4\n",
      "C:\\Users\\mahes\\ML\\dataset\\data unziped\\dfdc_train_part_0\\wcqvzujamg.mp4\n",
      "C:\\Users\\mahes\\ML\\dataset\\data unziped\\dfdc_train_part_0\\wcqvzujamg.mp4\n",
      "C:\\Users\\mahes\\ML\\dataset\\data unziped\\dfdc_train_part_0\\wcqvzujamg.mp4\n",
      "C:\\Users\\mahes\\ML\\dataset\\data unziped\\dfdc_train_part_0\\wcqvzujamg.mp4\n",
      "C:\\Users\\mahes\\ML\\dataset\\data unziped\\dfdc_train_part_0\\wcqvzujamg.mp4\n",
      "C:\\Users\\mahes\\ML\\dataset\\data unziped\\dfdc_train_part_0\\wcqvzujamg.mp4\n",
      "C:\\Users\\mahes\\ML\\dataset\\data unziped\\dfdc_train_part_0\\wcqvzujamg.mp4\n"
     ]
    },
    {
     "name": "stderr",
     "output_type": "stream",
     "text": [
      "Processing 500 videos:  27%|██▋       | 137/500 [2:07:40<6:22:18, 63.19s/it]"
     ]
    },
    {
     "name": "stdout",
     "output_type": "stream",
     "text": [
      "C:\\Users\\mahes\\ML\\dataset\\data unziped\\dfdc_train_part_0\\aayrffkzxn.mp4\n",
      "C:\\Users\\mahes\\ML\\dataset\\data unziped\\dfdc_train_part_0\\aayrffkzxn.mp4\n",
      "C:\\Users\\mahes\\ML\\dataset\\data unziped\\dfdc_train_part_0\\aayrffkzxn.mp4\n",
      "C:\\Users\\mahes\\ML\\dataset\\data unziped\\dfdc_train_part_0\\aayrffkzxn.mp4\n",
      "C:\\Users\\mahes\\ML\\dataset\\data unziped\\dfdc_train_part_0\\aayrffkzxn.mp4\n",
      "C:\\Users\\mahes\\ML\\dataset\\data unziped\\dfdc_train_part_0\\aayrffkzxn.mp4\n",
      "C:\\Users\\mahes\\ML\\dataset\\data unziped\\dfdc_train_part_0\\aayrffkzxn.mp4\n",
      "C:\\Users\\mahes\\ML\\dataset\\data unziped\\dfdc_train_part_0\\aayrffkzxn.mp4\n",
      "C:\\Users\\mahes\\ML\\dataset\\data unziped\\dfdc_train_part_0\\aayrffkzxn.mp4\n",
      "C:\\Users\\mahes\\ML\\dataset\\data unziped\\dfdc_train_part_0\\aayrffkzxn.mp4\n"
     ]
    },
    {
     "name": "stderr",
     "output_type": "stream",
     "text": [
      "Processing 500 videos:  28%|██▊       | 138/500 [2:08:51<6:35:17, 65.52s/it]"
     ]
    },
    {
     "name": "stdout",
     "output_type": "stream",
     "text": [
      "C:\\Users\\mahes\\ML\\dataset\\data unziped\\dfdc_train_part_0\\yxvmusxvcz.mp4\n",
      "C:\\Users\\mahes\\ML\\dataset\\data unziped\\dfdc_train_part_0\\yxvmusxvcz.mp4\n",
      "C:\\Users\\mahes\\ML\\dataset\\data unziped\\dfdc_train_part_0\\yxvmusxvcz.mp4\n",
      "C:\\Users\\mahes\\ML\\dataset\\data unziped\\dfdc_train_part_0\\yxvmusxvcz.mp4\n",
      "C:\\Users\\mahes\\ML\\dataset\\data unziped\\dfdc_train_part_0\\yxvmusxvcz.mp4\n",
      "C:\\Users\\mahes\\ML\\dataset\\data unziped\\dfdc_train_part_0\\yxvmusxvcz.mp4\n",
      "C:\\Users\\mahes\\ML\\dataset\\data unziped\\dfdc_train_part_0\\yxvmusxvcz.mp4\n",
      "C:\\Users\\mahes\\ML\\dataset\\data unziped\\dfdc_train_part_0\\yxvmusxvcz.mp4\n",
      "C:\\Users\\mahes\\ML\\dataset\\data unziped\\dfdc_train_part_0\\yxvmusxvcz.mp4\n",
      "C:\\Users\\mahes\\ML\\dataset\\data unziped\\dfdc_train_part_0\\yxvmusxvcz.mp4\n"
     ]
    },
    {
     "name": "stderr",
     "output_type": "stream",
     "text": [
      "Processing 500 videos:  28%|██▊       | 139/500 [2:09:52<6:25:31, 64.08s/it]"
     ]
    },
    {
     "name": "stdout",
     "output_type": "stream",
     "text": [
      "C:\\Users\\mahes\\ML\\dataset\\data unziped\\dfdc_train_part_0\\kqlvggiqee.mp4\n",
      "C:\\Users\\mahes\\ML\\dataset\\data unziped\\dfdc_train_part_0\\kqlvggiqee.mp4\n",
      "C:\\Users\\mahes\\ML\\dataset\\data unziped\\dfdc_train_part_0\\kqlvggiqee.mp4\n",
      "C:\\Users\\mahes\\ML\\dataset\\data unziped\\dfdc_train_part_0\\kqlvggiqee.mp4\n",
      "C:\\Users\\mahes\\ML\\dataset\\data unziped\\dfdc_train_part_0\\kqlvggiqee.mp4\n",
      "C:\\Users\\mahes\\ML\\dataset\\data unziped\\dfdc_train_part_0\\kqlvggiqee.mp4\n",
      "C:\\Users\\mahes\\ML\\dataset\\data unziped\\dfdc_train_part_0\\kqlvggiqee.mp4\n",
      "C:\\Users\\mahes\\ML\\dataset\\data unziped\\dfdc_train_part_0\\kqlvggiqee.mp4\n",
      "C:\\Users\\mahes\\ML\\dataset\\data unziped\\dfdc_train_part_0\\kqlvggiqee.mp4\n",
      "C:\\Users\\mahes\\ML\\dataset\\data unziped\\dfdc_train_part_0\\kqlvggiqee.mp4\n"
     ]
    },
    {
     "name": "stderr",
     "output_type": "stream",
     "text": [
      "Processing 500 videos:  28%|██▊       | 140/500 [2:10:56<6:24:07, 64.02s/it]"
     ]
    },
    {
     "name": "stdout",
     "output_type": "stream",
     "text": [
      "C:\\Users\\mahes\\ML\\dataset\\data unziped\\dfdc_train_part_0\\psjfwjzrrh.mp4\n",
      "C:\\Users\\mahes\\ML\\dataset\\data unziped\\dfdc_train_part_0\\psjfwjzrrh.mp4\n",
      "C:\\Users\\mahes\\ML\\dataset\\data unziped\\dfdc_train_part_0\\psjfwjzrrh.mp4\n",
      "C:\\Users\\mahes\\ML\\dataset\\data unziped\\dfdc_train_part_0\\psjfwjzrrh.mp4\n",
      "C:\\Users\\mahes\\ML\\dataset\\data unziped\\dfdc_train_part_0\\psjfwjzrrh.mp4\n",
      "C:\\Users\\mahes\\ML\\dataset\\data unziped\\dfdc_train_part_0\\psjfwjzrrh.mp4\n",
      "C:\\Users\\mahes\\ML\\dataset\\data unziped\\dfdc_train_part_0\\psjfwjzrrh.mp4\n",
      "C:\\Users\\mahes\\ML\\dataset\\data unziped\\dfdc_train_part_0\\psjfwjzrrh.mp4\n",
      "C:\\Users\\mahes\\ML\\dataset\\data unziped\\dfdc_train_part_0\\psjfwjzrrh.mp4\n",
      "C:\\Users\\mahes\\ML\\dataset\\data unziped\\dfdc_train_part_0\\psjfwjzrrh.mp4\n"
     ]
    },
    {
     "name": "stderr",
     "output_type": "stream",
     "text": [
      "Processing 500 videos:  28%|██▊       | 141/500 [2:12:05<6:31:02, 65.36s/it]"
     ]
    },
    {
     "name": "stdout",
     "output_type": "stream",
     "text": [
      "C:\\Users\\mahes\\ML\\dataset\\data unziped\\dfdc_train_part_0\\syxobtuucp.mp4\n",
      "C:\\Users\\mahes\\ML\\dataset\\data unziped\\dfdc_train_part_0\\syxobtuucp.mp4\n",
      "C:\\Users\\mahes\\ML\\dataset\\data unziped\\dfdc_train_part_0\\syxobtuucp.mp4\n",
      "C:\\Users\\mahes\\ML\\dataset\\data unziped\\dfdc_train_part_0\\syxobtuucp.mp4\n",
      "C:\\Users\\mahes\\ML\\dataset\\data unziped\\dfdc_train_part_0\\syxobtuucp.mp4\n",
      "C:\\Users\\mahes\\ML\\dataset\\data unziped\\dfdc_train_part_0\\syxobtuucp.mp4\n",
      "C:\\Users\\mahes\\ML\\dataset\\data unziped\\dfdc_train_part_0\\syxobtuucp.mp4\n",
      "C:\\Users\\mahes\\ML\\dataset\\data unziped\\dfdc_train_part_0\\syxobtuucp.mp4\n",
      "C:\\Users\\mahes\\ML\\dataset\\data unziped\\dfdc_train_part_0\\syxobtuucp.mp4\n",
      "C:\\Users\\mahes\\ML\\dataset\\data unziped\\dfdc_train_part_0\\syxobtuucp.mp4\n"
     ]
    },
    {
     "name": "stderr",
     "output_type": "stream",
     "text": [
      "Processing 500 videos:  28%|██▊       | 142/500 [2:13:06<6:22:12, 64.06s/it]"
     ]
    },
    {
     "name": "stdout",
     "output_type": "stream",
     "text": [
      "C:\\Users\\mahes\\ML\\dataset\\data unziped\\dfdc_train_part_0\\uprwuohbwx.mp4\n",
      "C:\\Users\\mahes\\ML\\dataset\\data unziped\\dfdc_train_part_0\\uprwuohbwx.mp4\n",
      "C:\\Users\\mahes\\ML\\dataset\\data unziped\\dfdc_train_part_0\\uprwuohbwx.mp4\n",
      "C:\\Users\\mahes\\ML\\dataset\\data unziped\\dfdc_train_part_0\\uprwuohbwx.mp4\n",
      "C:\\Users\\mahes\\ML\\dataset\\data unziped\\dfdc_train_part_0\\uprwuohbwx.mp4\n",
      "C:\\Users\\mahes\\ML\\dataset\\data unziped\\dfdc_train_part_0\\uprwuohbwx.mp4\n",
      "C:\\Users\\mahes\\ML\\dataset\\data unziped\\dfdc_train_part_0\\uprwuohbwx.mp4\n",
      "C:\\Users\\mahes\\ML\\dataset\\data unziped\\dfdc_train_part_0\\uprwuohbwx.mp4\n",
      "C:\\Users\\mahes\\ML\\dataset\\data unziped\\dfdc_train_part_0\\uprwuohbwx.mp4\n",
      "C:\\Users\\mahes\\ML\\dataset\\data unziped\\dfdc_train_part_0\\uprwuohbwx.mp4\n"
     ]
    },
    {
     "name": "stderr",
     "output_type": "stream",
     "text": [
      "Processing 500 videos:  29%|██▊       | 143/500 [2:14:17<6:34:51, 66.36s/it]"
     ]
    },
    {
     "name": "stdout",
     "output_type": "stream",
     "text": [
      "C:\\Users\\mahes\\ML\\dataset\\data unziped\\dfdc_train_part_0\\lnjkpdviqb.mp4\n",
      "C:\\Users\\mahes\\ML\\dataset\\data unziped\\dfdc_train_part_0\\lnjkpdviqb.mp4\n",
      "C:\\Users\\mahes\\ML\\dataset\\data unziped\\dfdc_train_part_0\\lnjkpdviqb.mp4\n",
      "C:\\Users\\mahes\\ML\\dataset\\data unziped\\dfdc_train_part_0\\lnjkpdviqb.mp4\n",
      "C:\\Users\\mahes\\ML\\dataset\\data unziped\\dfdc_train_part_0\\lnjkpdviqb.mp4\n",
      "C:\\Users\\mahes\\ML\\dataset\\data unziped\\dfdc_train_part_0\\lnjkpdviqb.mp4\n",
      "C:\\Users\\mahes\\ML\\dataset\\data unziped\\dfdc_train_part_0\\lnjkpdviqb.mp4\n",
      "C:\\Users\\mahes\\ML\\dataset\\data unziped\\dfdc_train_part_0\\lnjkpdviqb.mp4\n",
      "C:\\Users\\mahes\\ML\\dataset\\data unziped\\dfdc_train_part_0\\lnjkpdviqb.mp4\n",
      "C:\\Users\\mahes\\ML\\dataset\\data unziped\\dfdc_train_part_0\\lnjkpdviqb.mp4\n"
     ]
    },
    {
     "name": "stderr",
     "output_type": "stream",
     "text": [
      "Processing 500 videos:  29%|██▉       | 144/500 [2:15:28<6:41:30, 67.67s/it]"
     ]
    },
    {
     "name": "stdout",
     "output_type": "stream",
     "text": [
      "C:\\Users\\mahes\\ML\\dataset\\data unziped\\dfdc_train_part_0\\xkfliqnmwt.mp4\n",
      "C:\\Users\\mahes\\ML\\dataset\\data unziped\\dfdc_train_part_0\\xkfliqnmwt.mp4\n",
      "C:\\Users\\mahes\\ML\\dataset\\data unziped\\dfdc_train_part_0\\xkfliqnmwt.mp4\n",
      "C:\\Users\\mahes\\ML\\dataset\\data unziped\\dfdc_train_part_0\\xkfliqnmwt.mp4\n",
      "C:\\Users\\mahes\\ML\\dataset\\data unziped\\dfdc_train_part_0\\xkfliqnmwt.mp4\n",
      "C:\\Users\\mahes\\ML\\dataset\\data unziped\\dfdc_train_part_0\\xkfliqnmwt.mp4\n",
      "C:\\Users\\mahes\\ML\\dataset\\data unziped\\dfdc_train_part_0\\xkfliqnmwt.mp4\n",
      "C:\\Users\\mahes\\ML\\dataset\\data unziped\\dfdc_train_part_0\\xkfliqnmwt.mp4\n",
      "C:\\Users\\mahes\\ML\\dataset\\data unziped\\dfdc_train_part_0\\xkfliqnmwt.mp4\n",
      "C:\\Users\\mahes\\ML\\dataset\\data unziped\\dfdc_train_part_0\\xkfliqnmwt.mp4\n"
     ]
    },
    {
     "name": "stderr",
     "output_type": "stream",
     "text": [
      "Processing 500 videos:  29%|██▉       | 145/500 [2:16:36<6:41:36, 67.88s/it]"
     ]
    },
    {
     "name": "stdout",
     "output_type": "stream",
     "text": [
      "C:\\Users\\mahes\\ML\\dataset\\data unziped\\dfdc_train_part_0\\wclvkepakb.mp4\n",
      "C:\\Users\\mahes\\ML\\dataset\\data unziped\\dfdc_train_part_0\\wclvkepakb.mp4\n",
      "C:\\Users\\mahes\\ML\\dataset\\data unziped\\dfdc_train_part_0\\wclvkepakb.mp4\n",
      "C:\\Users\\mahes\\ML\\dataset\\data unziped\\dfdc_train_part_0\\wclvkepakb.mp4\n",
      "C:\\Users\\mahes\\ML\\dataset\\data unziped\\dfdc_train_part_0\\wclvkepakb.mp4\n",
      "C:\\Users\\mahes\\ML\\dataset\\data unziped\\dfdc_train_part_0\\wclvkepakb.mp4\n",
      "C:\\Users\\mahes\\ML\\dataset\\data unziped\\dfdc_train_part_0\\wclvkepakb.mp4\n",
      "C:\\Users\\mahes\\ML\\dataset\\data unziped\\dfdc_train_part_0\\wclvkepakb.mp4\n",
      "C:\\Users\\mahes\\ML\\dataset\\data unziped\\dfdc_train_part_0\\wclvkepakb.mp4\n",
      "C:\\Users\\mahes\\ML\\dataset\\data unziped\\dfdc_train_part_0\\wclvkepakb.mp4\n"
     ]
    },
    {
     "name": "stderr",
     "output_type": "stream",
     "text": [
      "Processing 500 videos:  29%|██▉       | 146/500 [2:17:40<6:33:01, 66.61s/it]"
     ]
    },
    {
     "name": "stdout",
     "output_type": "stream",
     "text": [
      "C:\\Users\\mahes\\ML\\dataset\\data unziped\\dfdc_train_part_0\\aayrffkzxn.mp4\n",
      "C:\\Users\\mahes\\ML\\dataset\\data unziped\\dfdc_train_part_0\\aayrffkzxn.mp4\n",
      "C:\\Users\\mahes\\ML\\dataset\\data unziped\\dfdc_train_part_0\\aayrffkzxn.mp4\n",
      "C:\\Users\\mahes\\ML\\dataset\\data unziped\\dfdc_train_part_0\\aayrffkzxn.mp4\n",
      "C:\\Users\\mahes\\ML\\dataset\\data unziped\\dfdc_train_part_0\\aayrffkzxn.mp4\n",
      "C:\\Users\\mahes\\ML\\dataset\\data unziped\\dfdc_train_part_0\\aayrffkzxn.mp4\n",
      "C:\\Users\\mahes\\ML\\dataset\\data unziped\\dfdc_train_part_0\\aayrffkzxn.mp4\n",
      "C:\\Users\\mahes\\ML\\dataset\\data unziped\\dfdc_train_part_0\\aayrffkzxn.mp4\n",
      "C:\\Users\\mahes\\ML\\dataset\\data unziped\\dfdc_train_part_0\\aayrffkzxn.mp4\n",
      "C:\\Users\\mahes\\ML\\dataset\\data unziped\\dfdc_train_part_0\\aayrffkzxn.mp4\n"
     ]
    },
    {
     "name": "stderr",
     "output_type": "stream",
     "text": [
      "Processing 500 videos:  29%|██▉       | 147/500 [2:18:51<6:40:03, 68.00s/it]"
     ]
    },
    {
     "name": "stdout",
     "output_type": "stream",
     "text": [
      "C:\\Users\\mahes\\ML\\dataset\\data unziped\\dfdc_train_part_0\\fsaronfupy.mp4\n",
      "C:\\Users\\mahes\\ML\\dataset\\data unziped\\dfdc_train_part_0\\fsaronfupy.mp4\n",
      "C:\\Users\\mahes\\ML\\dataset\\data unziped\\dfdc_train_part_0\\fsaronfupy.mp4\n",
      "C:\\Users\\mahes\\ML\\dataset\\data unziped\\dfdc_train_part_0\\fsaronfupy.mp4\n",
      "C:\\Users\\mahes\\ML\\dataset\\data unziped\\dfdc_train_part_0\\fsaronfupy.mp4\n",
      "C:\\Users\\mahes\\ML\\dataset\\data unziped\\dfdc_train_part_0\\fsaronfupy.mp4\n",
      "C:\\Users\\mahes\\ML\\dataset\\data unziped\\dfdc_train_part_0\\fsaronfupy.mp4\n",
      "C:\\Users\\mahes\\ML\\dataset\\data unziped\\dfdc_train_part_0\\fsaronfupy.mp4\n",
      "C:\\Users\\mahes\\ML\\dataset\\data unziped\\dfdc_train_part_0\\fsaronfupy.mp4\n",
      "C:\\Users\\mahes\\ML\\dataset\\data unziped\\dfdc_train_part_0\\fsaronfupy.mp4\n"
     ]
    },
    {
     "name": "stderr",
     "output_type": "stream",
     "text": [
      "Processing 500 videos:  30%|██▉       | 148/500 [2:19:57<6:34:33, 67.25s/it]"
     ]
    },
    {
     "name": "stdout",
     "output_type": "stream",
     "text": [
      "C:\\Users\\mahes\\ML\\dataset\\data unziped\\dfdc_train_part_0\\fnslimfagb.mp4\n",
      "C:\\Users\\mahes\\ML\\dataset\\data unziped\\dfdc_train_part_0\\fnslimfagb.mp4\n",
      "C:\\Users\\mahes\\ML\\dataset\\data unziped\\dfdc_train_part_0\\fnslimfagb.mp4\n",
      "C:\\Users\\mahes\\ML\\dataset\\data unziped\\dfdc_train_part_0\\fnslimfagb.mp4\n",
      "C:\\Users\\mahes\\ML\\dataset\\data unziped\\dfdc_train_part_0\\fnslimfagb.mp4\n",
      "C:\\Users\\mahes\\ML\\dataset\\data unziped\\dfdc_train_part_0\\fnslimfagb.mp4\n",
      "C:\\Users\\mahes\\ML\\dataset\\data unziped\\dfdc_train_part_0\\fnslimfagb.mp4\n",
      "C:\\Users\\mahes\\ML\\dataset\\data unziped\\dfdc_train_part_0\\fnslimfagb.mp4\n",
      "C:\\Users\\mahes\\ML\\dataset\\data unziped\\dfdc_train_part_0\\fnslimfagb.mp4\n",
      "C:\\Users\\mahes\\ML\\dataset\\data unziped\\dfdc_train_part_0\\fnslimfagb.mp4\n"
     ]
    },
    {
     "name": "stderr",
     "output_type": "stream",
     "text": [
      "Processing 500 videos:  30%|██▉       | 149/500 [2:21:10<6:43:48, 69.03s/it]"
     ]
    },
    {
     "name": "stdout",
     "output_type": "stream",
     "text": [
      "C:\\Users\\mahes\\ML\\dataset\\data unziped\\dfdc_train_part_0\\psjfwjzrrh.mp4\n",
      "C:\\Users\\mahes\\ML\\dataset\\data unziped\\dfdc_train_part_0\\psjfwjzrrh.mp4\n",
      "C:\\Users\\mahes\\ML\\dataset\\data unziped\\dfdc_train_part_0\\psjfwjzrrh.mp4\n",
      "C:\\Users\\mahes\\ML\\dataset\\data unziped\\dfdc_train_part_0\\psjfwjzrrh.mp4\n",
      "C:\\Users\\mahes\\ML\\dataset\\data unziped\\dfdc_train_part_0\\psjfwjzrrh.mp4\n",
      "C:\\Users\\mahes\\ML\\dataset\\data unziped\\dfdc_train_part_0\\psjfwjzrrh.mp4\n",
      "C:\\Users\\mahes\\ML\\dataset\\data unziped\\dfdc_train_part_0\\psjfwjzrrh.mp4\n",
      "C:\\Users\\mahes\\ML\\dataset\\data unziped\\dfdc_train_part_0\\psjfwjzrrh.mp4\n",
      "C:\\Users\\mahes\\ML\\dataset\\data unziped\\dfdc_train_part_0\\psjfwjzrrh.mp4\n",
      "C:\\Users\\mahes\\ML\\dataset\\data unziped\\dfdc_train_part_0\\psjfwjzrrh.mp4\n"
     ]
    },
    {
     "name": "stderr",
     "output_type": "stream",
     "text": [
      "Processing 500 videos:  30%|███       | 150/500 [2:22:22<6:47:27, 69.85s/it]"
     ]
    },
    {
     "name": "stdout",
     "output_type": "stream",
     "text": [
      "C:\\Users\\mahes\\ML\\dataset\\data unziped\\dfdc_train_part_0\\doniqevxeg.mp4\n",
      "C:\\Users\\mahes\\ML\\dataset\\data unziped\\dfdc_train_part_0\\doniqevxeg.mp4\n",
      "C:\\Users\\mahes\\ML\\dataset\\data unziped\\dfdc_train_part_0\\doniqevxeg.mp4\n",
      "C:\\Users\\mahes\\ML\\dataset\\data unziped\\dfdc_train_part_0\\doniqevxeg.mp4\n",
      "C:\\Users\\mahes\\ML\\dataset\\data unziped\\dfdc_train_part_0\\doniqevxeg.mp4\n",
      "C:\\Users\\mahes\\ML\\dataset\\data unziped\\dfdc_train_part_0\\doniqevxeg.mp4\n",
      "C:\\Users\\mahes\\ML\\dataset\\data unziped\\dfdc_train_part_0\\doniqevxeg.mp4\n",
      "C:\\Users\\mahes\\ML\\dataset\\data unziped\\dfdc_train_part_0\\doniqevxeg.mp4\n",
      "C:\\Users\\mahes\\ML\\dataset\\data unziped\\dfdc_train_part_0\\doniqevxeg.mp4\n",
      "C:\\Users\\mahes\\ML\\dataset\\data unziped\\dfdc_train_part_0\\doniqevxeg.mp4\n"
     ]
    },
    {
     "name": "stderr",
     "output_type": "stream",
     "text": [
      "Processing 500 videos:  30%|███       | 151/500 [2:23:33<6:49:21, 70.38s/it]"
     ]
    },
    {
     "name": "stdout",
     "output_type": "stream",
     "text": [
      "C:\\Users\\mahes\\ML\\dataset\\data unziped\\dfdc_train_part_0\\apvzjkvnwn.mp4\n",
      "C:\\Users\\mahes\\ML\\dataset\\data unziped\\dfdc_train_part_0\\apvzjkvnwn.mp4\n",
      "C:\\Users\\mahes\\ML\\dataset\\data unziped\\dfdc_train_part_0\\apvzjkvnwn.mp4\n",
      "C:\\Users\\mahes\\ML\\dataset\\data unziped\\dfdc_train_part_0\\apvzjkvnwn.mp4\n",
      "C:\\Users\\mahes\\ML\\dataset\\data unziped\\dfdc_train_part_0\\apvzjkvnwn.mp4\n",
      "C:\\Users\\mahes\\ML\\dataset\\data unziped\\dfdc_train_part_0\\apvzjkvnwn.mp4\n",
      "C:\\Users\\mahes\\ML\\dataset\\data unziped\\dfdc_train_part_0\\apvzjkvnwn.mp4\n",
      "C:\\Users\\mahes\\ML\\dataset\\data unziped\\dfdc_train_part_0\\apvzjkvnwn.mp4\n",
      "C:\\Users\\mahes\\ML\\dataset\\data unziped\\dfdc_train_part_0\\apvzjkvnwn.mp4\n",
      "C:\\Users\\mahes\\ML\\dataset\\data unziped\\dfdc_train_part_0\\apvzjkvnwn.mp4\n"
     ]
    },
    {
     "name": "stderr",
     "output_type": "stream",
     "text": [
      "Processing 500 videos:  30%|███       | 152/500 [2:24:44<6:49:22, 70.58s/it]"
     ]
    },
    {
     "name": "stdout",
     "output_type": "stream",
     "text": [
      "C:\\Users\\mahes\\ML\\dataset\\data unziped\\dfdc_train_part_0\\lzbmwwejxb.mp4\n",
      "C:\\Users\\mahes\\ML\\dataset\\data unziped\\dfdc_train_part_0\\lzbmwwejxb.mp4\n",
      "C:\\Users\\mahes\\ML\\dataset\\data unziped\\dfdc_train_part_0\\lzbmwwejxb.mp4\n",
      "C:\\Users\\mahes\\ML\\dataset\\data unziped\\dfdc_train_part_0\\lzbmwwejxb.mp4\n",
      "C:\\Users\\mahes\\ML\\dataset\\data unziped\\dfdc_train_part_0\\lzbmwwejxb.mp4\n",
      "C:\\Users\\mahes\\ML\\dataset\\data unziped\\dfdc_train_part_0\\lzbmwwejxb.mp4\n",
      "C:\\Users\\mahes\\ML\\dataset\\data unziped\\dfdc_train_part_0\\lzbmwwejxb.mp4\n",
      "C:\\Users\\mahes\\ML\\dataset\\data unziped\\dfdc_train_part_0\\lzbmwwejxb.mp4\n",
      "C:\\Users\\mahes\\ML\\dataset\\data unziped\\dfdc_train_part_0\\lzbmwwejxb.mp4\n",
      "C:\\Users\\mahes\\ML\\dataset\\data unziped\\dfdc_train_part_0\\lzbmwwejxb.mp4\n"
     ]
    },
    {
     "name": "stderr",
     "output_type": "stream",
     "text": [
      "Processing 500 videos:  31%|███       | 153/500 [2:25:53<6:44:00, 69.86s/it]"
     ]
    },
    {
     "name": "stdout",
     "output_type": "stream",
     "text": [
      "C:\\Users\\mahes\\ML\\dataset\\data unziped\\dfdc_train_part_0\\lsmnqsnqld.mp4\n",
      "C:\\Users\\mahes\\ML\\dataset\\data unziped\\dfdc_train_part_0\\lsmnqsnqld.mp4\n",
      "C:\\Users\\mahes\\ML\\dataset\\data unziped\\dfdc_train_part_0\\lsmnqsnqld.mp4\n",
      "C:\\Users\\mahes\\ML\\dataset\\data unziped\\dfdc_train_part_0\\lsmnqsnqld.mp4\n",
      "C:\\Users\\mahes\\ML\\dataset\\data unziped\\dfdc_train_part_0\\lsmnqsnqld.mp4\n",
      "C:\\Users\\mahes\\ML\\dataset\\data unziped\\dfdc_train_part_0\\lsmnqsnqld.mp4\n",
      "C:\\Users\\mahes\\ML\\dataset\\data unziped\\dfdc_train_part_0\\lsmnqsnqld.mp4\n",
      "C:\\Users\\mahes\\ML\\dataset\\data unziped\\dfdc_train_part_0\\lsmnqsnqld.mp4\n",
      "C:\\Users\\mahes\\ML\\dataset\\data unziped\\dfdc_train_part_0\\lsmnqsnqld.mp4\n",
      "C:\\Users\\mahes\\ML\\dataset\\data unziped\\dfdc_train_part_0\\lsmnqsnqld.mp4\n"
     ]
    },
    {
     "name": "stderr",
     "output_type": "stream",
     "text": [
      "Processing 500 videos:  31%|███       | 154/500 [2:27:02<6:41:56, 69.70s/it]"
     ]
    },
    {
     "name": "stdout",
     "output_type": "stream",
     "text": [
      "C:\\Users\\mahes\\ML\\dataset\\data unziped\\dfdc_train_part_0\\fdpisghkmd.mp4\n",
      "C:\\Users\\mahes\\ML\\dataset\\data unziped\\dfdc_train_part_0\\fdpisghkmd.mp4\n",
      "C:\\Users\\mahes\\ML\\dataset\\data unziped\\dfdc_train_part_0\\fdpisghkmd.mp4\n",
      "C:\\Users\\mahes\\ML\\dataset\\data unziped\\dfdc_train_part_0\\fdpisghkmd.mp4\n",
      "C:\\Users\\mahes\\ML\\dataset\\data unziped\\dfdc_train_part_0\\fdpisghkmd.mp4\n",
      "C:\\Users\\mahes\\ML\\dataset\\data unziped\\dfdc_train_part_0\\fdpisghkmd.mp4\n",
      "C:\\Users\\mahes\\ML\\dataset\\data unziped\\dfdc_train_part_0\\fdpisghkmd.mp4\n",
      "C:\\Users\\mahes\\ML\\dataset\\data unziped\\dfdc_train_part_0\\fdpisghkmd.mp4\n",
      "C:\\Users\\mahes\\ML\\dataset\\data unziped\\dfdc_train_part_0\\fdpisghkmd.mp4\n",
      "C:\\Users\\mahes\\ML\\dataset\\data unziped\\dfdc_train_part_0\\fdpisghkmd.mp4\n"
     ]
    },
    {
     "name": "stderr",
     "output_type": "stream",
     "text": [
      "Processing 500 videos:  31%|███       | 155/500 [2:28:06<6:31:56, 68.16s/it]"
     ]
    },
    {
     "name": "stdout",
     "output_type": "stream",
     "text": [
      "C:\\Users\\mahes\\ML\\dataset\\data unziped\\dfdc_train_part_0\\REAL\n",
      "C:\\Users\\mahes\\ML\\dataset\\data unziped\\dfdc_train_part_0\\REAL\n",
      "C:\\Users\\mahes\\ML\\dataset\\data unziped\\dfdc_train_part_0\\REAL\n",
      "C:\\Users\\mahes\\ML\\dataset\\data unziped\\dfdc_train_part_0\\REAL\n",
      "C:\\Users\\mahes\\ML\\dataset\\data unziped\\dfdc_train_part_0\\REAL\n",
      "C:\\Users\\mahes\\ML\\dataset\\data unziped\\dfdc_train_part_0\\REAL\n",
      "C:\\Users\\mahes\\ML\\dataset\\data unziped\\dfdc_train_part_0\\REAL\n",
      "C:\\Users\\mahes\\ML\\dataset\\data unziped\\dfdc_train_part_0\\REAL\n",
      "C:\\Users\\mahes\\ML\\dataset\\data unziped\\dfdc_train_part_0\\REAL\n",
      "C:\\Users\\mahes\\ML\\dataset\\data unziped\\dfdc_train_part_0\\REAL\n"
     ]
    },
    {
     "name": "stderr",
     "output_type": "stream",
     "text": [
      "Processing 500 videos:  31%|███       | 156/500 [2:28:17<4:52:08, 50.95s/it]"
     ]
    },
    {
     "name": "stdout",
     "output_type": "stream",
     "text": [
      "C:\\Users\\mahes\\ML\\dataset\\data unziped\\dfdc_train_part_0\\fopjiyxiqd.mp4\n",
      "C:\\Users\\mahes\\ML\\dataset\\data unziped\\dfdc_train_part_0\\fopjiyxiqd.mp4\n",
      "C:\\Users\\mahes\\ML\\dataset\\data unziped\\dfdc_train_part_0\\fopjiyxiqd.mp4\n",
      "C:\\Users\\mahes\\ML\\dataset\\data unziped\\dfdc_train_part_0\\fopjiyxiqd.mp4\n",
      "C:\\Users\\mahes\\ML\\dataset\\data unziped\\dfdc_train_part_0\\fopjiyxiqd.mp4\n",
      "C:\\Users\\mahes\\ML\\dataset\\data unziped\\dfdc_train_part_0\\fopjiyxiqd.mp4\n",
      "C:\\Users\\mahes\\ML\\dataset\\data unziped\\dfdc_train_part_0\\fopjiyxiqd.mp4\n",
      "C:\\Users\\mahes\\ML\\dataset\\data unziped\\dfdc_train_part_0\\fopjiyxiqd.mp4\n",
      "C:\\Users\\mahes\\ML\\dataset\\data unziped\\dfdc_train_part_0\\fopjiyxiqd.mp4\n",
      "C:\\Users\\mahes\\ML\\dataset\\data unziped\\dfdc_train_part_0\\fopjiyxiqd.mp4\n"
     ]
    },
    {
     "name": "stderr",
     "output_type": "stream",
     "text": [
      "Processing 500 videos:  31%|███▏      | 157/500 [2:29:24<5:17:57, 55.62s/it]"
     ]
    },
    {
     "name": "stdout",
     "output_type": "stream",
     "text": [
      "C:\\Users\\mahes\\ML\\dataset\\data unziped\\dfdc_train_part_0\\jytrvwlewz.mp4\n",
      "C:\\Users\\mahes\\ML\\dataset\\data unziped\\dfdc_train_part_0\\jytrvwlewz.mp4\n",
      "C:\\Users\\mahes\\ML\\dataset\\data unziped\\dfdc_train_part_0\\jytrvwlewz.mp4\n",
      "C:\\Users\\mahes\\ML\\dataset\\data unziped\\dfdc_train_part_0\\jytrvwlewz.mp4\n",
      "C:\\Users\\mahes\\ML\\dataset\\data unziped\\dfdc_train_part_0\\jytrvwlewz.mp4\n",
      "C:\\Users\\mahes\\ML\\dataset\\data unziped\\dfdc_train_part_0\\jytrvwlewz.mp4\n",
      "C:\\Users\\mahes\\ML\\dataset\\data unziped\\dfdc_train_part_0\\jytrvwlewz.mp4\n",
      "C:\\Users\\mahes\\ML\\dataset\\data unziped\\dfdc_train_part_0\\jytrvwlewz.mp4\n",
      "C:\\Users\\mahes\\ML\\dataset\\data unziped\\dfdc_train_part_0\\jytrvwlewz.mp4\n",
      "C:\\Users\\mahes\\ML\\dataset\\data unziped\\dfdc_train_part_0\\jytrvwlewz.mp4\n"
     ]
    },
    {
     "name": "stderr",
     "output_type": "stream",
     "text": [
      "Processing 500 videos:  32%|███▏      | 158/500 [2:30:27<5:29:43, 57.85s/it]"
     ]
    },
    {
     "name": "stdout",
     "output_type": "stream",
     "text": [
      "C:\\Users\\mahes\\ML\\dataset\\data unziped\\dfdc_train_part_0\\jytrvwlewz.mp4\n",
      "C:\\Users\\mahes\\ML\\dataset\\data unziped\\dfdc_train_part_0\\jytrvwlewz.mp4\n",
      "C:\\Users\\mahes\\ML\\dataset\\data unziped\\dfdc_train_part_0\\jytrvwlewz.mp4\n",
      "C:\\Users\\mahes\\ML\\dataset\\data unziped\\dfdc_train_part_0\\jytrvwlewz.mp4\n",
      "C:\\Users\\mahes\\ML\\dataset\\data unziped\\dfdc_train_part_0\\jytrvwlewz.mp4\n",
      "C:\\Users\\mahes\\ML\\dataset\\data unziped\\dfdc_train_part_0\\jytrvwlewz.mp4\n",
      "C:\\Users\\mahes\\ML\\dataset\\data unziped\\dfdc_train_part_0\\jytrvwlewz.mp4\n",
      "C:\\Users\\mahes\\ML\\dataset\\data unziped\\dfdc_train_part_0\\jytrvwlewz.mp4\n",
      "C:\\Users\\mahes\\ML\\dataset\\data unziped\\dfdc_train_part_0\\jytrvwlewz.mp4\n",
      "C:\\Users\\mahes\\ML\\dataset\\data unziped\\dfdc_train_part_0\\jytrvwlewz.mp4\n"
     ]
    },
    {
     "name": "stderr",
     "output_type": "stream",
     "text": [
      "Processing 500 videos:  32%|███▏      | 159/500 [2:31:33<5:43:36, 60.46s/it]"
     ]
    },
    {
     "name": "stdout",
     "output_type": "stream",
     "text": [
      "C:\\Users\\mahes\\ML\\dataset\\data unziped\\dfdc_train_part_0\\lzbmwwejxb.mp4\n",
      "C:\\Users\\mahes\\ML\\dataset\\data unziped\\dfdc_train_part_0\\lzbmwwejxb.mp4\n",
      "C:\\Users\\mahes\\ML\\dataset\\data unziped\\dfdc_train_part_0\\lzbmwwejxb.mp4\n",
      "C:\\Users\\mahes\\ML\\dataset\\data unziped\\dfdc_train_part_0\\lzbmwwejxb.mp4\n",
      "C:\\Users\\mahes\\ML\\dataset\\data unziped\\dfdc_train_part_0\\lzbmwwejxb.mp4\n",
      "C:\\Users\\mahes\\ML\\dataset\\data unziped\\dfdc_train_part_0\\lzbmwwejxb.mp4\n",
      "C:\\Users\\mahes\\ML\\dataset\\data unziped\\dfdc_train_part_0\\lzbmwwejxb.mp4\n",
      "C:\\Users\\mahes\\ML\\dataset\\data unziped\\dfdc_train_part_0\\lzbmwwejxb.mp4\n",
      "C:\\Users\\mahes\\ML\\dataset\\data unziped\\dfdc_train_part_0\\lzbmwwejxb.mp4\n",
      "C:\\Users\\mahes\\ML\\dataset\\data unziped\\dfdc_train_part_0\\lzbmwwejxb.mp4\n"
     ]
    },
    {
     "name": "stderr",
     "output_type": "stream",
     "text": [
      "Processing 500 videos:  32%|███▏      | 160/500 [2:32:42<5:56:29, 62.91s/it]"
     ]
    },
    {
     "name": "stdout",
     "output_type": "stream",
     "text": [
      "C:\\Users\\mahes\\ML\\dataset\\data unziped\\dfdc_train_part_0\\uprwuohbwx.mp4\n",
      "C:\\Users\\mahes\\ML\\dataset\\data unziped\\dfdc_train_part_0\\uprwuohbwx.mp4\n",
      "C:\\Users\\mahes\\ML\\dataset\\data unziped\\dfdc_train_part_0\\uprwuohbwx.mp4\n",
      "C:\\Users\\mahes\\ML\\dataset\\data unziped\\dfdc_train_part_0\\uprwuohbwx.mp4\n",
      "C:\\Users\\mahes\\ML\\dataset\\data unziped\\dfdc_train_part_0\\uprwuohbwx.mp4\n",
      "C:\\Users\\mahes\\ML\\dataset\\data unziped\\dfdc_train_part_0\\uprwuohbwx.mp4\n",
      "C:\\Users\\mahes\\ML\\dataset\\data unziped\\dfdc_train_part_0\\uprwuohbwx.mp4\n",
      "C:\\Users\\mahes\\ML\\dataset\\data unziped\\dfdc_train_part_0\\uprwuohbwx.mp4\n",
      "C:\\Users\\mahes\\ML\\dataset\\data unziped\\dfdc_train_part_0\\uprwuohbwx.mp4\n",
      "C:\\Users\\mahes\\ML\\dataset\\data unziped\\dfdc_train_part_0\\uprwuohbwx.mp4\n"
     ]
    },
    {
     "name": "stderr",
     "output_type": "stream",
     "text": [
      "Processing 500 videos:  32%|███▏      | 161/500 [2:33:53<6:08:41, 65.26s/it]"
     ]
    },
    {
     "name": "stdout",
     "output_type": "stream",
     "text": [
      "C:\\Users\\mahes\\ML\\dataset\\data unziped\\dfdc_train_part_0\\xugmhbetrw.mp4\n",
      "C:\\Users\\mahes\\ML\\dataset\\data unziped\\dfdc_train_part_0\\xugmhbetrw.mp4\n",
      "C:\\Users\\mahes\\ML\\dataset\\data unziped\\dfdc_train_part_0\\xugmhbetrw.mp4\n",
      "C:\\Users\\mahes\\ML\\dataset\\data unziped\\dfdc_train_part_0\\xugmhbetrw.mp4\n",
      "C:\\Users\\mahes\\ML\\dataset\\data unziped\\dfdc_train_part_0\\xugmhbetrw.mp4\n",
      "C:\\Users\\mahes\\ML\\dataset\\data unziped\\dfdc_train_part_0\\xugmhbetrw.mp4\n",
      "C:\\Users\\mahes\\ML\\dataset\\data unziped\\dfdc_train_part_0\\xugmhbetrw.mp4\n",
      "C:\\Users\\mahes\\ML\\dataset\\data unziped\\dfdc_train_part_0\\xugmhbetrw.mp4\n",
      "C:\\Users\\mahes\\ML\\dataset\\data unziped\\dfdc_train_part_0\\xugmhbetrw.mp4\n",
      "C:\\Users\\mahes\\ML\\dataset\\data unziped\\dfdc_train_part_0\\xugmhbetrw.mp4\n"
     ]
    },
    {
     "name": "stderr",
     "output_type": "stream",
     "text": [
      "Processing 500 videos:  32%|███▏      | 162/500 [2:35:03<6:16:41, 66.87s/it]"
     ]
    },
    {
     "name": "stdout",
     "output_type": "stream",
     "text": [
      "C:\\Users\\mahes\\ML\\dataset\\data unziped\\dfdc_train_part_0\\exxqlfpnbz.mp4\n",
      "C:\\Users\\mahes\\ML\\dataset\\data unziped\\dfdc_train_part_0\\exxqlfpnbz.mp4\n",
      "C:\\Users\\mahes\\ML\\dataset\\data unziped\\dfdc_train_part_0\\exxqlfpnbz.mp4\n",
      "C:\\Users\\mahes\\ML\\dataset\\data unziped\\dfdc_train_part_0\\exxqlfpnbz.mp4\n",
      "C:\\Users\\mahes\\ML\\dataset\\data unziped\\dfdc_train_part_0\\exxqlfpnbz.mp4\n",
      "C:\\Users\\mahes\\ML\\dataset\\data unziped\\dfdc_train_part_0\\exxqlfpnbz.mp4\n",
      "C:\\Users\\mahes\\ML\\dataset\\data unziped\\dfdc_train_part_0\\exxqlfpnbz.mp4\n",
      "C:\\Users\\mahes\\ML\\dataset\\data unziped\\dfdc_train_part_0\\exxqlfpnbz.mp4\n",
      "C:\\Users\\mahes\\ML\\dataset\\data unziped\\dfdc_train_part_0\\exxqlfpnbz.mp4\n",
      "C:\\Users\\mahes\\ML\\dataset\\data unziped\\dfdc_train_part_0\\exxqlfpnbz.mp4\n"
     ]
    },
    {
     "name": "stderr",
     "output_type": "stream",
     "text": [
      "Processing 500 videos:  33%|███▎      | 163/500 [2:36:08<6:11:41, 66.18s/it]"
     ]
    },
    {
     "name": "stdout",
     "output_type": "stream",
     "text": [
      "C:\\Users\\mahes\\ML\\dataset\\data unziped\\dfdc_train_part_0\\nweufafotd.mp4\n",
      "C:\\Users\\mahes\\ML\\dataset\\data unziped\\dfdc_train_part_0\\nweufafotd.mp4\n",
      "C:\\Users\\mahes\\ML\\dataset\\data unziped\\dfdc_train_part_0\\nweufafotd.mp4\n",
      "C:\\Users\\mahes\\ML\\dataset\\data unziped\\dfdc_train_part_0\\nweufafotd.mp4\n",
      "C:\\Users\\mahes\\ML\\dataset\\data unziped\\dfdc_train_part_0\\nweufafotd.mp4\n",
      "C:\\Users\\mahes\\ML\\dataset\\data unziped\\dfdc_train_part_0\\nweufafotd.mp4\n",
      "C:\\Users\\mahes\\ML\\dataset\\data unziped\\dfdc_train_part_0\\nweufafotd.mp4\n",
      "C:\\Users\\mahes\\ML\\dataset\\data unziped\\dfdc_train_part_0\\nweufafotd.mp4\n",
      "C:\\Users\\mahes\\ML\\dataset\\data unziped\\dfdc_train_part_0\\nweufafotd.mp4\n",
      "C:\\Users\\mahes\\ML\\dataset\\data unziped\\dfdc_train_part_0\\nweufafotd.mp4\n"
     ]
    },
    {
     "name": "stderr",
     "output_type": "stream",
     "text": [
      "Processing 500 videos:  33%|███▎      | 164/500 [2:37:16<6:14:39, 66.90s/it]"
     ]
    },
    {
     "name": "stdout",
     "output_type": "stream",
     "text": [
      "C:\\Users\\mahes\\ML\\dataset\\data unziped\\dfdc_train_part_0\\dxfdovivlw.mp4\n",
      "C:\\Users\\mahes\\ML\\dataset\\data unziped\\dfdc_train_part_0\\dxfdovivlw.mp4\n",
      "C:\\Users\\mahes\\ML\\dataset\\data unziped\\dfdc_train_part_0\\dxfdovivlw.mp4\n",
      "C:\\Users\\mahes\\ML\\dataset\\data unziped\\dfdc_train_part_0\\dxfdovivlw.mp4\n",
      "C:\\Users\\mahes\\ML\\dataset\\data unziped\\dfdc_train_part_0\\dxfdovivlw.mp4\n",
      "C:\\Users\\mahes\\ML\\dataset\\data unziped\\dfdc_train_part_0\\dxfdovivlw.mp4\n",
      "C:\\Users\\mahes\\ML\\dataset\\data unziped\\dfdc_train_part_0\\dxfdovivlw.mp4\n",
      "C:\\Users\\mahes\\ML\\dataset\\data unziped\\dfdc_train_part_0\\dxfdovivlw.mp4\n",
      "C:\\Users\\mahes\\ML\\dataset\\data unziped\\dfdc_train_part_0\\dxfdovivlw.mp4\n",
      "C:\\Users\\mahes\\ML\\dataset\\data unziped\\dfdc_train_part_0\\dxfdovivlw.mp4\n"
     ]
    },
    {
     "name": "stderr",
     "output_type": "stream",
     "text": [
      "Processing 500 videos:  33%|███▎      | 165/500 [2:38:16<6:01:24, 64.73s/it]"
     ]
    },
    {
     "name": "stdout",
     "output_type": "stream",
     "text": [
      "C:\\Users\\mahes\\ML\\dataset\\data unziped\\dfdc_train_part_0\\uprwuohbwx.mp4\n",
      "C:\\Users\\mahes\\ML\\dataset\\data unziped\\dfdc_train_part_0\\uprwuohbwx.mp4\n",
      "C:\\Users\\mahes\\ML\\dataset\\data unziped\\dfdc_train_part_0\\uprwuohbwx.mp4\n",
      "C:\\Users\\mahes\\ML\\dataset\\data unziped\\dfdc_train_part_0\\uprwuohbwx.mp4\n",
      "C:\\Users\\mahes\\ML\\dataset\\data unziped\\dfdc_train_part_0\\uprwuohbwx.mp4\n",
      "C:\\Users\\mahes\\ML\\dataset\\data unziped\\dfdc_train_part_0\\uprwuohbwx.mp4\n",
      "C:\\Users\\mahes\\ML\\dataset\\data unziped\\dfdc_train_part_0\\uprwuohbwx.mp4\n",
      "C:\\Users\\mahes\\ML\\dataset\\data unziped\\dfdc_train_part_0\\uprwuohbwx.mp4\n",
      "C:\\Users\\mahes\\ML\\dataset\\data unziped\\dfdc_train_part_0\\uprwuohbwx.mp4\n",
      "C:\\Users\\mahes\\ML\\dataset\\data unziped\\dfdc_train_part_0\\uprwuohbwx.mp4\n"
     ]
    },
    {
     "name": "stderr",
     "output_type": "stream",
     "text": [
      "Processing 500 videos:  33%|███▎      | 166/500 [2:39:29<6:13:36, 67.12s/it]"
     ]
    },
    {
     "name": "stdout",
     "output_type": "stream",
     "text": [
      "C:\\Users\\mahes\\ML\\dataset\\data unziped\\dfdc_train_part_0\\fgobmbcami.mp4\n",
      "C:\\Users\\mahes\\ML\\dataset\\data unziped\\dfdc_train_part_0\\fgobmbcami.mp4\n",
      "C:\\Users\\mahes\\ML\\dataset\\data unziped\\dfdc_train_part_0\\fgobmbcami.mp4\n",
      "C:\\Users\\mahes\\ML\\dataset\\data unziped\\dfdc_train_part_0\\fgobmbcami.mp4\n",
      "C:\\Users\\mahes\\ML\\dataset\\data unziped\\dfdc_train_part_0\\fgobmbcami.mp4\n",
      "C:\\Users\\mahes\\ML\\dataset\\data unziped\\dfdc_train_part_0\\fgobmbcami.mp4\n",
      "C:\\Users\\mahes\\ML\\dataset\\data unziped\\dfdc_train_part_0\\fgobmbcami.mp4\n",
      "C:\\Users\\mahes\\ML\\dataset\\data unziped\\dfdc_train_part_0\\fgobmbcami.mp4\n",
      "C:\\Users\\mahes\\ML\\dataset\\data unziped\\dfdc_train_part_0\\fgobmbcami.mp4\n",
      "C:\\Users\\mahes\\ML\\dataset\\data unziped\\dfdc_train_part_0\\fgobmbcami.mp4\n"
     ]
    },
    {
     "name": "stderr",
     "output_type": "stream",
     "text": [
      "Processing 500 videos:  33%|███▎      | 167/500 [2:40:35<6:11:31, 66.94s/it]"
     ]
    },
    {
     "name": "stdout",
     "output_type": "stream",
     "text": [
      "C:\\Users\\mahes\\ML\\dataset\\data unziped\\dfdc_train_part_0\\xkfliqnmwt.mp4\n",
      "C:\\Users\\mahes\\ML\\dataset\\data unziped\\dfdc_train_part_0\\xkfliqnmwt.mp4\n",
      "C:\\Users\\mahes\\ML\\dataset\\data unziped\\dfdc_train_part_0\\xkfliqnmwt.mp4\n",
      "C:\\Users\\mahes\\ML\\dataset\\data unziped\\dfdc_train_part_0\\xkfliqnmwt.mp4\n",
      "C:\\Users\\mahes\\ML\\dataset\\data unziped\\dfdc_train_part_0\\xkfliqnmwt.mp4\n",
      "C:\\Users\\mahes\\ML\\dataset\\data unziped\\dfdc_train_part_0\\xkfliqnmwt.mp4\n",
      "C:\\Users\\mahes\\ML\\dataset\\data unziped\\dfdc_train_part_0\\xkfliqnmwt.mp4\n",
      "C:\\Users\\mahes\\ML\\dataset\\data unziped\\dfdc_train_part_0\\xkfliqnmwt.mp4\n",
      "C:\\Users\\mahes\\ML\\dataset\\data unziped\\dfdc_train_part_0\\xkfliqnmwt.mp4\n",
      "C:\\Users\\mahes\\ML\\dataset\\data unziped\\dfdc_train_part_0\\xkfliqnmwt.mp4\n"
     ]
    },
    {
     "name": "stderr",
     "output_type": "stream",
     "text": [
      "Processing 500 videos:  34%|███▎      | 168/500 [2:41:47<6:18:34, 68.42s/it]"
     ]
    },
    {
     "name": "stdout",
     "output_type": "stream",
     "text": [
      "C:\\Users\\mahes\\ML\\dataset\\data unziped\\dfdc_train_part_0\\chqqxfuuzi.mp4\n",
      "C:\\Users\\mahes\\ML\\dataset\\data unziped\\dfdc_train_part_0\\chqqxfuuzi.mp4\n",
      "C:\\Users\\mahes\\ML\\dataset\\data unziped\\dfdc_train_part_0\\chqqxfuuzi.mp4\n",
      "C:\\Users\\mahes\\ML\\dataset\\data unziped\\dfdc_train_part_0\\chqqxfuuzi.mp4\n",
      "C:\\Users\\mahes\\ML\\dataset\\data unziped\\dfdc_train_part_0\\chqqxfuuzi.mp4\n",
      "C:\\Users\\mahes\\ML\\dataset\\data unziped\\dfdc_train_part_0\\chqqxfuuzi.mp4\n",
      "C:\\Users\\mahes\\ML\\dataset\\data unziped\\dfdc_train_part_0\\chqqxfuuzi.mp4\n",
      "C:\\Users\\mahes\\ML\\dataset\\data unziped\\dfdc_train_part_0\\chqqxfuuzi.mp4\n",
      "C:\\Users\\mahes\\ML\\dataset\\data unziped\\dfdc_train_part_0\\chqqxfuuzi.mp4\n",
      "C:\\Users\\mahes\\ML\\dataset\\data unziped\\dfdc_train_part_0\\chqqxfuuzi.mp4\n"
     ]
    },
    {
     "name": "stderr",
     "output_type": "stream",
     "text": [
      "Processing 500 videos:  34%|███▍      | 169/500 [2:43:00<6:23:57, 69.60s/it]"
     ]
    },
    {
     "name": "stdout",
     "output_type": "stream",
     "text": [
      "C:\\Users\\mahes\\ML\\dataset\\data unziped\\dfdc_train_part_0\\rktrpsdlci.mp4\n",
      "C:\\Users\\mahes\\ML\\dataset\\data unziped\\dfdc_train_part_0\\rktrpsdlci.mp4\n",
      "C:\\Users\\mahes\\ML\\dataset\\data unziped\\dfdc_train_part_0\\rktrpsdlci.mp4\n",
      "C:\\Users\\mahes\\ML\\dataset\\data unziped\\dfdc_train_part_0\\rktrpsdlci.mp4\n",
      "C:\\Users\\mahes\\ML\\dataset\\data unziped\\dfdc_train_part_0\\rktrpsdlci.mp4\n",
      "C:\\Users\\mahes\\ML\\dataset\\data unziped\\dfdc_train_part_0\\rktrpsdlci.mp4\n",
      "C:\\Users\\mahes\\ML\\dataset\\data unziped\\dfdc_train_part_0\\rktrpsdlci.mp4\n",
      "C:\\Users\\mahes\\ML\\dataset\\data unziped\\dfdc_train_part_0\\rktrpsdlci.mp4\n",
      "C:\\Users\\mahes\\ML\\dataset\\data unziped\\dfdc_train_part_0\\rktrpsdlci.mp4\n",
      "C:\\Users\\mahes\\ML\\dataset\\data unziped\\dfdc_train_part_0\\rktrpsdlci.mp4\n"
     ]
    },
    {
     "name": "stderr",
     "output_type": "stream",
     "text": [
      "Processing 500 videos:  34%|███▍      | 170/500 [2:43:59<6:05:23, 66.43s/it]"
     ]
    },
    {
     "name": "stdout",
     "output_type": "stream",
     "text": [
      "C:\\Users\\mahes\\ML\\dataset\\data unziped\\dfdc_train_part_0\\fopjiyxiqd.mp4\n",
      "C:\\Users\\mahes\\ML\\dataset\\data unziped\\dfdc_train_part_0\\fopjiyxiqd.mp4\n",
      "C:\\Users\\mahes\\ML\\dataset\\data unziped\\dfdc_train_part_0\\fopjiyxiqd.mp4\n",
      "C:\\Users\\mahes\\ML\\dataset\\data unziped\\dfdc_train_part_0\\fopjiyxiqd.mp4\n",
      "C:\\Users\\mahes\\ML\\dataset\\data unziped\\dfdc_train_part_0\\fopjiyxiqd.mp4\n",
      "C:\\Users\\mahes\\ML\\dataset\\data unziped\\dfdc_train_part_0\\fopjiyxiqd.mp4\n",
      "C:\\Users\\mahes\\ML\\dataset\\data unziped\\dfdc_train_part_0\\fopjiyxiqd.mp4\n",
      "C:\\Users\\mahes\\ML\\dataset\\data unziped\\dfdc_train_part_0\\fopjiyxiqd.mp4\n",
      "C:\\Users\\mahes\\ML\\dataset\\data unziped\\dfdc_train_part_0\\fopjiyxiqd.mp4\n",
      "C:\\Users\\mahes\\ML\\dataset\\data unziped\\dfdc_train_part_0\\fopjiyxiqd.mp4\n"
     ]
    },
    {
     "name": "stderr",
     "output_type": "stream",
     "text": [
      "Processing 500 videos:  34%|███▍      | 171/500 [2:45:06<6:06:03, 66.76s/it]"
     ]
    },
    {
     "name": "stdout",
     "output_type": "stream",
     "text": [
      "C:\\Users\\mahes\\ML\\dataset\\data unziped\\dfdc_train_part_0\\dxfdovivlw.mp4\n",
      "C:\\Users\\mahes\\ML\\dataset\\data unziped\\dfdc_train_part_0\\dxfdovivlw.mp4\n",
      "C:\\Users\\mahes\\ML\\dataset\\data unziped\\dfdc_train_part_0\\dxfdovivlw.mp4\n",
      "C:\\Users\\mahes\\ML\\dataset\\data unziped\\dfdc_train_part_0\\dxfdovivlw.mp4\n",
      "C:\\Users\\mahes\\ML\\dataset\\data unziped\\dfdc_train_part_0\\dxfdovivlw.mp4\n",
      "C:\\Users\\mahes\\ML\\dataset\\data unziped\\dfdc_train_part_0\\dxfdovivlw.mp4\n",
      "C:\\Users\\mahes\\ML\\dataset\\data unziped\\dfdc_train_part_0\\dxfdovivlw.mp4\n",
      "C:\\Users\\mahes\\ML\\dataset\\data unziped\\dfdc_train_part_0\\dxfdovivlw.mp4\n",
      "C:\\Users\\mahes\\ML\\dataset\\data unziped\\dfdc_train_part_0\\dxfdovivlw.mp4\n",
      "C:\\Users\\mahes\\ML\\dataset\\data unziped\\dfdc_train_part_0\\dxfdovivlw.mp4\n"
     ]
    },
    {
     "name": "stderr",
     "output_type": "stream",
     "text": [
      "Processing 500 videos:  34%|███▍      | 172/500 [2:46:12<6:03:10, 66.43s/it]"
     ]
    },
    {
     "name": "stdout",
     "output_type": "stream",
     "text": [
      "C:\\Users\\mahes\\ML\\dataset\\data unziped\\dfdc_train_part_0\\jytrvwlewz.mp4\n",
      "C:\\Users\\mahes\\ML\\dataset\\data unziped\\dfdc_train_part_0\\jytrvwlewz.mp4\n",
      "C:\\Users\\mahes\\ML\\dataset\\data unziped\\dfdc_train_part_0\\jytrvwlewz.mp4\n",
      "C:\\Users\\mahes\\ML\\dataset\\data unziped\\dfdc_train_part_0\\jytrvwlewz.mp4\n",
      "C:\\Users\\mahes\\ML\\dataset\\data unziped\\dfdc_train_part_0\\jytrvwlewz.mp4\n",
      "C:\\Users\\mahes\\ML\\dataset\\data unziped\\dfdc_train_part_0\\jytrvwlewz.mp4\n",
      "C:\\Users\\mahes\\ML\\dataset\\data unziped\\dfdc_train_part_0\\jytrvwlewz.mp4\n",
      "C:\\Users\\mahes\\ML\\dataset\\data unziped\\dfdc_train_part_0\\jytrvwlewz.mp4\n",
      "C:\\Users\\mahes\\ML\\dataset\\data unziped\\dfdc_train_part_0\\jytrvwlewz.mp4\n",
      "C:\\Users\\mahes\\ML\\dataset\\data unziped\\dfdc_train_part_0\\jytrvwlewz.mp4\n"
     ]
    },
    {
     "name": "stderr",
     "output_type": "stream",
     "text": [
      "Processing 500 videos:  35%|███▍      | 173/500 [2:47:18<6:01:46, 66.38s/it]"
     ]
    },
    {
     "name": "stdout",
     "output_type": "stream",
     "text": [
      "C:\\Users\\mahes\\ML\\dataset\\data unziped\\dfdc_train_part_0\\sttnfyptum.mp4\n",
      "C:\\Users\\mahes\\ML\\dataset\\data unziped\\dfdc_train_part_0\\sttnfyptum.mp4\n",
      "C:\\Users\\mahes\\ML\\dataset\\data unziped\\dfdc_train_part_0\\sttnfyptum.mp4\n",
      "C:\\Users\\mahes\\ML\\dataset\\data unziped\\dfdc_train_part_0\\sttnfyptum.mp4\n",
      "C:\\Users\\mahes\\ML\\dataset\\data unziped\\dfdc_train_part_0\\sttnfyptum.mp4\n",
      "C:\\Users\\mahes\\ML\\dataset\\data unziped\\dfdc_train_part_0\\sttnfyptum.mp4\n",
      "C:\\Users\\mahes\\ML\\dataset\\data unziped\\dfdc_train_part_0\\sttnfyptum.mp4\n",
      "C:\\Users\\mahes\\ML\\dataset\\data unziped\\dfdc_train_part_0\\sttnfyptum.mp4\n",
      "C:\\Users\\mahes\\ML\\dataset\\data unziped\\dfdc_train_part_0\\sttnfyptum.mp4\n",
      "C:\\Users\\mahes\\ML\\dataset\\data unziped\\dfdc_train_part_0\\sttnfyptum.mp4\n"
     ]
    },
    {
     "name": "stderr",
     "output_type": "stream",
     "text": [
      "Processing 500 videos:  35%|███▍      | 174/500 [2:48:28<6:06:23, 67.44s/it]"
     ]
    },
    {
     "name": "stdout",
     "output_type": "stream",
     "text": [
      "C:\\Users\\mahes\\ML\\dataset\\data unziped\\dfdc_train_part_0\\upmgtackuf.mp4\n",
      "C:\\Users\\mahes\\ML\\dataset\\data unziped\\dfdc_train_part_0\\upmgtackuf.mp4\n",
      "C:\\Users\\mahes\\ML\\dataset\\data unziped\\dfdc_train_part_0\\upmgtackuf.mp4\n",
      "C:\\Users\\mahes\\ML\\dataset\\data unziped\\dfdc_train_part_0\\upmgtackuf.mp4\n",
      "C:\\Users\\mahes\\ML\\dataset\\data unziped\\dfdc_train_part_0\\upmgtackuf.mp4\n",
      "C:\\Users\\mahes\\ML\\dataset\\data unziped\\dfdc_train_part_0\\upmgtackuf.mp4\n",
      "C:\\Users\\mahes\\ML\\dataset\\data unziped\\dfdc_train_part_0\\upmgtackuf.mp4\n",
      "C:\\Users\\mahes\\ML\\dataset\\data unziped\\dfdc_train_part_0\\upmgtackuf.mp4\n",
      "C:\\Users\\mahes\\ML\\dataset\\data unziped\\dfdc_train_part_0\\upmgtackuf.mp4\n",
      "C:\\Users\\mahes\\ML\\dataset\\data unziped\\dfdc_train_part_0\\upmgtackuf.mp4\n"
     ]
    },
    {
     "name": "stderr",
     "output_type": "stream",
     "text": [
      "Processing 500 videos:  35%|███▌      | 175/500 [2:49:36<6:06:57, 67.75s/it]"
     ]
    },
    {
     "name": "stdout",
     "output_type": "stream",
     "text": [
      "C:\\Users\\mahes\\ML\\dataset\\data unziped\\dfdc_train_part_0\\upmgtackuf.mp4\n",
      "C:\\Users\\mahes\\ML\\dataset\\data unziped\\dfdc_train_part_0\\upmgtackuf.mp4\n",
      "C:\\Users\\mahes\\ML\\dataset\\data unziped\\dfdc_train_part_0\\upmgtackuf.mp4\n",
      "C:\\Users\\mahes\\ML\\dataset\\data unziped\\dfdc_train_part_0\\upmgtackuf.mp4\n",
      "C:\\Users\\mahes\\ML\\dataset\\data unziped\\dfdc_train_part_0\\upmgtackuf.mp4\n",
      "C:\\Users\\mahes\\ML\\dataset\\data unziped\\dfdc_train_part_0\\upmgtackuf.mp4\n",
      "C:\\Users\\mahes\\ML\\dataset\\data unziped\\dfdc_train_part_0\\upmgtackuf.mp4\n",
      "C:\\Users\\mahes\\ML\\dataset\\data unziped\\dfdc_train_part_0\\upmgtackuf.mp4\n",
      "C:\\Users\\mahes\\ML\\dataset\\data unziped\\dfdc_train_part_0\\upmgtackuf.mp4\n",
      "C:\\Users\\mahes\\ML\\dataset\\data unziped\\dfdc_train_part_0\\upmgtackuf.mp4\n"
     ]
    },
    {
     "name": "stderr",
     "output_type": "stream",
     "text": [
      "Processing 500 videos:  35%|███▌      | 176/500 [2:50:45<6:07:12, 68.00s/it]"
     ]
    },
    {
     "name": "stdout",
     "output_type": "stream",
     "text": [
      "C:\\Users\\mahes\\ML\\dataset\\data unziped\\dfdc_train_part_0\\hivnldfvyl.mp4\n",
      "C:\\Users\\mahes\\ML\\dataset\\data unziped\\dfdc_train_part_0\\hivnldfvyl.mp4\n",
      "C:\\Users\\mahes\\ML\\dataset\\data unziped\\dfdc_train_part_0\\hivnldfvyl.mp4\n",
      "C:\\Users\\mahes\\ML\\dataset\\data unziped\\dfdc_train_part_0\\hivnldfvyl.mp4\n",
      "C:\\Users\\mahes\\ML\\dataset\\data unziped\\dfdc_train_part_0\\hivnldfvyl.mp4\n",
      "C:\\Users\\mahes\\ML\\dataset\\data unziped\\dfdc_train_part_0\\hivnldfvyl.mp4\n",
      "C:\\Users\\mahes\\ML\\dataset\\data unziped\\dfdc_train_part_0\\hivnldfvyl.mp4\n",
      "C:\\Users\\mahes\\ML\\dataset\\data unziped\\dfdc_train_part_0\\hivnldfvyl.mp4\n",
      "C:\\Users\\mahes\\ML\\dataset\\data unziped\\dfdc_train_part_0\\hivnldfvyl.mp4\n",
      "C:\\Users\\mahes\\ML\\dataset\\data unziped\\dfdc_train_part_0\\hivnldfvyl.mp4\n"
     ]
    },
    {
     "name": "stderr",
     "output_type": "stream",
     "text": [
      "Processing 500 videos:  35%|███▌      | 177/500 [2:51:53<6:05:20, 67.87s/it]"
     ]
    },
    {
     "name": "stdout",
     "output_type": "stream",
     "text": [
      "C:\\Users\\mahes\\ML\\dataset\\data unziped\\dfdc_train_part_0\\jawgcggquk.mp4\n",
      "C:\\Users\\mahes\\ML\\dataset\\data unziped\\dfdc_train_part_0\\jawgcggquk.mp4\n",
      "C:\\Users\\mahes\\ML\\dataset\\data unziped\\dfdc_train_part_0\\jawgcggquk.mp4\n",
      "C:\\Users\\mahes\\ML\\dataset\\data unziped\\dfdc_train_part_0\\jawgcggquk.mp4\n",
      "C:\\Users\\mahes\\ML\\dataset\\data unziped\\dfdc_train_part_0\\jawgcggquk.mp4\n",
      "C:\\Users\\mahes\\ML\\dataset\\data unziped\\dfdc_train_part_0\\jawgcggquk.mp4\n",
      "C:\\Users\\mahes\\ML\\dataset\\data unziped\\dfdc_train_part_0\\jawgcggquk.mp4\n",
      "C:\\Users\\mahes\\ML\\dataset\\data unziped\\dfdc_train_part_0\\jawgcggquk.mp4\n",
      "C:\\Users\\mahes\\ML\\dataset\\data unziped\\dfdc_train_part_0\\jawgcggquk.mp4\n",
      "C:\\Users\\mahes\\ML\\dataset\\data unziped\\dfdc_train_part_0\\jawgcggquk.mp4\n"
     ]
    },
    {
     "name": "stderr",
     "output_type": "stream",
     "text": [
      "Processing 500 videos:  36%|███▌      | 178/500 [2:52:55<5:54:37, 66.08s/it]"
     ]
    },
    {
     "name": "stdout",
     "output_type": "stream",
     "text": [
      "C:\\Users\\mahes\\ML\\dataset\\data unziped\\dfdc_train_part_0\\apedduehoy.mp4\n",
      "C:\\Users\\mahes\\ML\\dataset\\data unziped\\dfdc_train_part_0\\apedduehoy.mp4\n",
      "C:\\Users\\mahes\\ML\\dataset\\data unziped\\dfdc_train_part_0\\apedduehoy.mp4\n",
      "C:\\Users\\mahes\\ML\\dataset\\data unziped\\dfdc_train_part_0\\apedduehoy.mp4\n",
      "C:\\Users\\mahes\\ML\\dataset\\data unziped\\dfdc_train_part_0\\apedduehoy.mp4\n",
      "C:\\Users\\mahes\\ML\\dataset\\data unziped\\dfdc_train_part_0\\apedduehoy.mp4\n",
      "C:\\Users\\mahes\\ML\\dataset\\data unziped\\dfdc_train_part_0\\apedduehoy.mp4\n",
      "C:\\Users\\mahes\\ML\\dataset\\data unziped\\dfdc_train_part_0\\apedduehoy.mp4\n",
      "C:\\Users\\mahes\\ML\\dataset\\data unziped\\dfdc_train_part_0\\apedduehoy.mp4\n",
      "C:\\Users\\mahes\\ML\\dataset\\data unziped\\dfdc_train_part_0\\apedduehoy.mp4\n"
     ]
    },
    {
     "name": "stderr",
     "output_type": "stream",
     "text": [
      "Processing 500 videos:  36%|███▌      | 179/500 [2:54:05<6:00:14, 67.33s/it]"
     ]
    },
    {
     "name": "stdout",
     "output_type": "stream",
     "text": [
      "C:\\Users\\mahes\\ML\\dataset\\data unziped\\dfdc_train_part_0\\xjzkfqddyk.mp4\n",
      "C:\\Users\\mahes\\ML\\dataset\\data unziped\\dfdc_train_part_0\\xjzkfqddyk.mp4\n",
      "C:\\Users\\mahes\\ML\\dataset\\data unziped\\dfdc_train_part_0\\xjzkfqddyk.mp4\n",
      "C:\\Users\\mahes\\ML\\dataset\\data unziped\\dfdc_train_part_0\\xjzkfqddyk.mp4\n",
      "C:\\Users\\mahes\\ML\\dataset\\data unziped\\dfdc_train_part_0\\xjzkfqddyk.mp4\n",
      "C:\\Users\\mahes\\ML\\dataset\\data unziped\\dfdc_train_part_0\\xjzkfqddyk.mp4\n",
      "C:\\Users\\mahes\\ML\\dataset\\data unziped\\dfdc_train_part_0\\xjzkfqddyk.mp4\n",
      "C:\\Users\\mahes\\ML\\dataset\\data unziped\\dfdc_train_part_0\\xjzkfqddyk.mp4\n",
      "C:\\Users\\mahes\\ML\\dataset\\data unziped\\dfdc_train_part_0\\xjzkfqddyk.mp4\n",
      "C:\\Users\\mahes\\ML\\dataset\\data unziped\\dfdc_train_part_0\\xjzkfqddyk.mp4\n"
     ]
    },
    {
     "name": "stderr",
     "output_type": "stream",
     "text": [
      "Processing 500 videos:  36%|███▌      | 180/500 [2:55:14<6:02:37, 67.99s/it]"
     ]
    },
    {
     "name": "stdout",
     "output_type": "stream",
     "text": [
      "C:\\Users\\mahes\\ML\\dataset\\data unziped\\dfdc_train_part_0\\wfzjxzhdkj.mp4\n",
      "C:\\Users\\mahes\\ML\\dataset\\data unziped\\dfdc_train_part_0\\wfzjxzhdkj.mp4\n",
      "C:\\Users\\mahes\\ML\\dataset\\data unziped\\dfdc_train_part_0\\wfzjxzhdkj.mp4\n",
      "C:\\Users\\mahes\\ML\\dataset\\data unziped\\dfdc_train_part_0\\wfzjxzhdkj.mp4\n",
      "C:\\Users\\mahes\\ML\\dataset\\data unziped\\dfdc_train_part_0\\wfzjxzhdkj.mp4\n",
      "C:\\Users\\mahes\\ML\\dataset\\data unziped\\dfdc_train_part_0\\wfzjxzhdkj.mp4\n",
      "C:\\Users\\mahes\\ML\\dataset\\data unziped\\dfdc_train_part_0\\wfzjxzhdkj.mp4\n",
      "C:\\Users\\mahes\\ML\\dataset\\data unziped\\dfdc_train_part_0\\wfzjxzhdkj.mp4\n",
      "C:\\Users\\mahes\\ML\\dataset\\data unziped\\dfdc_train_part_0\\wfzjxzhdkj.mp4\n",
      "C:\\Users\\mahes\\ML\\dataset\\data unziped\\dfdc_train_part_0\\wfzjxzhdkj.mp4\n"
     ]
    },
    {
     "name": "stderr",
     "output_type": "stream",
     "text": [
      "Processing 500 videos:  36%|███▌      | 181/500 [2:56:25<6:05:44, 68.79s/it]"
     ]
    },
    {
     "name": "stdout",
     "output_type": "stream",
     "text": [
      "C:\\Users\\mahes\\ML\\dataset\\data unziped\\dfdc_train_part_0\\ljuuovfkgi.mp4\n",
      "C:\\Users\\mahes\\ML\\dataset\\data unziped\\dfdc_train_part_0\\ljuuovfkgi.mp4\n",
      "C:\\Users\\mahes\\ML\\dataset\\data unziped\\dfdc_train_part_0\\ljuuovfkgi.mp4\n",
      "C:\\Users\\mahes\\ML\\dataset\\data unziped\\dfdc_train_part_0\\ljuuovfkgi.mp4\n",
      "C:\\Users\\mahes\\ML\\dataset\\data unziped\\dfdc_train_part_0\\ljuuovfkgi.mp4\n",
      "C:\\Users\\mahes\\ML\\dataset\\data unziped\\dfdc_train_part_0\\ljuuovfkgi.mp4\n",
      "C:\\Users\\mahes\\ML\\dataset\\data unziped\\dfdc_train_part_0\\ljuuovfkgi.mp4\n",
      "C:\\Users\\mahes\\ML\\dataset\\data unziped\\dfdc_train_part_0\\ljuuovfkgi.mp4\n",
      "C:\\Users\\mahes\\ML\\dataset\\data unziped\\dfdc_train_part_0\\ljuuovfkgi.mp4\n",
      "C:\\Users\\mahes\\ML\\dataset\\data unziped\\dfdc_train_part_0\\ljuuovfkgi.mp4\n"
     ]
    },
    {
     "name": "stderr",
     "output_type": "stream",
     "text": [
      "Processing 500 videos:  36%|███▋      | 182/500 [2:57:30<5:59:02, 67.74s/it]"
     ]
    },
    {
     "name": "stdout",
     "output_type": "stream",
     "text": [
      "C:\\Users\\mahes\\ML\\dataset\\data unziped\\dfdc_train_part_0\\jawgcggquk.mp4\n",
      "C:\\Users\\mahes\\ML\\dataset\\data unziped\\dfdc_train_part_0\\jawgcggquk.mp4\n",
      "C:\\Users\\mahes\\ML\\dataset\\data unziped\\dfdc_train_part_0\\jawgcggquk.mp4\n",
      "C:\\Users\\mahes\\ML\\dataset\\data unziped\\dfdc_train_part_0\\jawgcggquk.mp4\n",
      "C:\\Users\\mahes\\ML\\dataset\\data unziped\\dfdc_train_part_0\\jawgcggquk.mp4\n",
      "C:\\Users\\mahes\\ML\\dataset\\data unziped\\dfdc_train_part_0\\jawgcggquk.mp4\n",
      "C:\\Users\\mahes\\ML\\dataset\\data unziped\\dfdc_train_part_0\\jawgcggquk.mp4\n",
      "C:\\Users\\mahes\\ML\\dataset\\data unziped\\dfdc_train_part_0\\jawgcggquk.mp4\n",
      "C:\\Users\\mahes\\ML\\dataset\\data unziped\\dfdc_train_part_0\\jawgcggquk.mp4\n",
      "C:\\Users\\mahes\\ML\\dataset\\data unziped\\dfdc_train_part_0\\jawgcggquk.mp4\n"
     ]
    },
    {
     "name": "stderr",
     "output_type": "stream",
     "text": [
      "Processing 500 videos:  37%|███▋      | 183/500 [2:58:34<5:51:18, 66.49s/it]"
     ]
    },
    {
     "name": "stdout",
     "output_type": "stream",
     "text": [
      "C:\\Users\\mahes\\ML\\dataset\\data unziped\\dfdc_train_part_0\\uprwuohbwx.mp4\n",
      "C:\\Users\\mahes\\ML\\dataset\\data unziped\\dfdc_train_part_0\\uprwuohbwx.mp4\n",
      "C:\\Users\\mahes\\ML\\dataset\\data unziped\\dfdc_train_part_0\\uprwuohbwx.mp4\n",
      "C:\\Users\\mahes\\ML\\dataset\\data unziped\\dfdc_train_part_0\\uprwuohbwx.mp4\n",
      "C:\\Users\\mahes\\ML\\dataset\\data unziped\\dfdc_train_part_0\\uprwuohbwx.mp4\n",
      "C:\\Users\\mahes\\ML\\dataset\\data unziped\\dfdc_train_part_0\\uprwuohbwx.mp4\n",
      "C:\\Users\\mahes\\ML\\dataset\\data unziped\\dfdc_train_part_0\\uprwuohbwx.mp4\n",
      "C:\\Users\\mahes\\ML\\dataset\\data unziped\\dfdc_train_part_0\\uprwuohbwx.mp4\n",
      "C:\\Users\\mahes\\ML\\dataset\\data unziped\\dfdc_train_part_0\\uprwuohbwx.mp4\n",
      "C:\\Users\\mahes\\ML\\dataset\\data unziped\\dfdc_train_part_0\\uprwuohbwx.mp4\n"
     ]
    },
    {
     "name": "stderr",
     "output_type": "stream",
     "text": [
      "Processing 500 videos:  37%|███▋      | 184/500 [2:59:45<5:56:51, 67.76s/it]"
     ]
    },
    {
     "name": "stdout",
     "output_type": "stream",
     "text": [
      "C:\\Users\\mahes\\ML\\dataset\\data unziped\\dfdc_train_part_0\\REAL\n",
      "C:\\Users\\mahes\\ML\\dataset\\data unziped\\dfdc_train_part_0\\REAL\n",
      "C:\\Users\\mahes\\ML\\dataset\\data unziped\\dfdc_train_part_0\\REAL\n",
      "C:\\Users\\mahes\\ML\\dataset\\data unziped\\dfdc_train_part_0\\REAL\n",
      "C:\\Users\\mahes\\ML\\dataset\\data unziped\\dfdc_train_part_0\\REAL\n",
      "C:\\Users\\mahes\\ML\\dataset\\data unziped\\dfdc_train_part_0\\REAL\n",
      "C:\\Users\\mahes\\ML\\dataset\\data unziped\\dfdc_train_part_0\\REAL\n",
      "C:\\Users\\mahes\\ML\\dataset\\data unziped\\dfdc_train_part_0\\REAL\n",
      "C:\\Users\\mahes\\ML\\dataset\\data unziped\\dfdc_train_part_0\\REAL\n",
      "C:\\Users\\mahes\\ML\\dataset\\data unziped\\dfdc_train_part_0\\REAL\n"
     ]
    },
    {
     "name": "stderr",
     "output_type": "stream",
     "text": [
      "Processing 500 videos:  37%|███▋      | 185/500 [2:59:54<4:24:27, 50.37s/it]"
     ]
    },
    {
     "name": "stdout",
     "output_type": "stream",
     "text": [
      "C:\\Users\\mahes\\ML\\dataset\\data unziped\\dfdc_train_part_0\\uprwuohbwx.mp4\n",
      "C:\\Users\\mahes\\ML\\dataset\\data unziped\\dfdc_train_part_0\\uprwuohbwx.mp4\n",
      "C:\\Users\\mahes\\ML\\dataset\\data unziped\\dfdc_train_part_0\\uprwuohbwx.mp4\n",
      "C:\\Users\\mahes\\ML\\dataset\\data unziped\\dfdc_train_part_0\\uprwuohbwx.mp4\n",
      "C:\\Users\\mahes\\ML\\dataset\\data unziped\\dfdc_train_part_0\\uprwuohbwx.mp4\n",
      "C:\\Users\\mahes\\ML\\dataset\\data unziped\\dfdc_train_part_0\\uprwuohbwx.mp4\n",
      "C:\\Users\\mahes\\ML\\dataset\\data unziped\\dfdc_train_part_0\\uprwuohbwx.mp4\n",
      "C:\\Users\\mahes\\ML\\dataset\\data unziped\\dfdc_train_part_0\\uprwuohbwx.mp4\n",
      "C:\\Users\\mahes\\ML\\dataset\\data unziped\\dfdc_train_part_0\\uprwuohbwx.mp4\n",
      "C:\\Users\\mahes\\ML\\dataset\\data unziped\\dfdc_train_part_0\\uprwuohbwx.mp4\n"
     ]
    },
    {
     "name": "stderr",
     "output_type": "stream",
     "text": [
      "Processing 500 videos:  37%|███▋      | 186/500 [3:01:05<4:55:40, 56.50s/it]"
     ]
    },
    {
     "name": "stdout",
     "output_type": "stream",
     "text": [
      "C:\\Users\\mahes\\ML\\dataset\\data unziped\\dfdc_train_part_0\\REAL\n",
      "C:\\Users\\mahes\\ML\\dataset\\data unziped\\dfdc_train_part_0\\REAL\n",
      "C:\\Users\\mahes\\ML\\dataset\\data unziped\\dfdc_train_part_0\\REAL\n",
      "C:\\Users\\mahes\\ML\\dataset\\data unziped\\dfdc_train_part_0\\REAL\n",
      "C:\\Users\\mahes\\ML\\dataset\\data unziped\\dfdc_train_part_0\\REAL\n",
      "C:\\Users\\mahes\\ML\\dataset\\data unziped\\dfdc_train_part_0\\REAL\n",
      "C:\\Users\\mahes\\ML\\dataset\\data unziped\\dfdc_train_part_0\\REAL\n",
      "C:\\Users\\mahes\\ML\\dataset\\data unziped\\dfdc_train_part_0\\REAL\n",
      "C:\\Users\\mahes\\ML\\dataset\\data unziped\\dfdc_train_part_0\\REAL\n"
     ]
    },
    {
     "name": "stderr",
     "output_type": "stream",
     "text": [
      "Processing 500 videos:  37%|███▋      | 187/500 [3:01:15<3:41:55, 42.54s/it]"
     ]
    },
    {
     "name": "stdout",
     "output_type": "stream",
     "text": [
      "C:\\Users\\mahes\\ML\\dataset\\data unziped\\dfdc_train_part_0\\REAL\n",
      "C:\\Users\\mahes\\ML\\dataset\\data unziped\\dfdc_train_part_0\\vpmyeepbep.mp4\n",
      "C:\\Users\\mahes\\ML\\dataset\\data unziped\\dfdc_train_part_0\\vpmyeepbep.mp4\n",
      "C:\\Users\\mahes\\ML\\dataset\\data unziped\\dfdc_train_part_0\\vpmyeepbep.mp4\n",
      "C:\\Users\\mahes\\ML\\dataset\\data unziped\\dfdc_train_part_0\\vpmyeepbep.mp4\n",
      "C:\\Users\\mahes\\ML\\dataset\\data unziped\\dfdc_train_part_0\\vpmyeepbep.mp4\n",
      "C:\\Users\\mahes\\ML\\dataset\\data unziped\\dfdc_train_part_0\\vpmyeepbep.mp4\n",
      "C:\\Users\\mahes\\ML\\dataset\\data unziped\\dfdc_train_part_0\\vpmyeepbep.mp4\n",
      "C:\\Users\\mahes\\ML\\dataset\\data unziped\\dfdc_train_part_0\\vpmyeepbep.mp4\n",
      "C:\\Users\\mahes\\ML\\dataset\\data unziped\\dfdc_train_part_0\\vpmyeepbep.mp4\n",
      "C:\\Users\\mahes\\ML\\dataset\\data unziped\\dfdc_train_part_0\\vpmyeepbep.mp4\n"
     ]
    },
    {
     "name": "stderr",
     "output_type": "stream",
     "text": [
      "Processing 500 videos:  38%|███▊      | 188/500 [3:02:23<4:20:10, 50.03s/it]"
     ]
    },
    {
     "name": "stdout",
     "output_type": "stream",
     "text": [
      "C:\\Users\\mahes\\ML\\dataset\\data unziped\\dfdc_train_part_0\\rnpefxwptv.mp4\n",
      "C:\\Users\\mahes\\ML\\dataset\\data unziped\\dfdc_train_part_0\\rnpefxwptv.mp4\n",
      "C:\\Users\\mahes\\ML\\dataset\\data unziped\\dfdc_train_part_0\\rnpefxwptv.mp4\n",
      "C:\\Users\\mahes\\ML\\dataset\\data unziped\\dfdc_train_part_0\\rnpefxwptv.mp4\n",
      "C:\\Users\\mahes\\ML\\dataset\\data unziped\\dfdc_train_part_0\\rnpefxwptv.mp4\n",
      "C:\\Users\\mahes\\ML\\dataset\\data unziped\\dfdc_train_part_0\\rnpefxwptv.mp4\n",
      "C:\\Users\\mahes\\ML\\dataset\\data unziped\\dfdc_train_part_0\\rnpefxwptv.mp4\n",
      "C:\\Users\\mahes\\ML\\dataset\\data unziped\\dfdc_train_part_0\\rnpefxwptv.mp4\n",
      "C:\\Users\\mahes\\ML\\dataset\\data unziped\\dfdc_train_part_0\\rnpefxwptv.mp4\n",
      "C:\\Users\\mahes\\ML\\dataset\\data unziped\\dfdc_train_part_0\\rnpefxwptv.mp4\n"
     ]
    },
    {
     "name": "stderr",
     "output_type": "stream",
     "text": [
      "Processing 500 videos:  38%|███▊      | 189/500 [3:03:31<4:47:54, 55.54s/it]"
     ]
    },
    {
     "name": "stdout",
     "output_type": "stream",
     "text": [
      "C:\\Users\\mahes\\ML\\dataset\\data unziped\\dfdc_train_part_0\\psjfwjzrrh.mp4\n",
      "C:\\Users\\mahes\\ML\\dataset\\data unziped\\dfdc_train_part_0\\psjfwjzrrh.mp4\n",
      "C:\\Users\\mahes\\ML\\dataset\\data unziped\\dfdc_train_part_0\\psjfwjzrrh.mp4\n",
      "C:\\Users\\mahes\\ML\\dataset\\data unziped\\dfdc_train_part_0\\psjfwjzrrh.mp4\n",
      "C:\\Users\\mahes\\ML\\dataset\\data unziped\\dfdc_train_part_0\\psjfwjzrrh.mp4\n",
      "C:\\Users\\mahes\\ML\\dataset\\data unziped\\dfdc_train_part_0\\psjfwjzrrh.mp4\n",
      "C:\\Users\\mahes\\ML\\dataset\\data unziped\\dfdc_train_part_0\\psjfwjzrrh.mp4\n",
      "C:\\Users\\mahes\\ML\\dataset\\data unziped\\dfdc_train_part_0\\psjfwjzrrh.mp4\n",
      "C:\\Users\\mahes\\ML\\dataset\\data unziped\\dfdc_train_part_0\\psjfwjzrrh.mp4\n",
      "C:\\Users\\mahes\\ML\\dataset\\data unziped\\dfdc_train_part_0\\psjfwjzrrh.mp4\n"
     ]
    },
    {
     "name": "stderr",
     "output_type": "stream",
     "text": [
      "Processing 500 videos:  38%|███▊      | 190/500 [3:04:40<5:08:32, 59.72s/it]"
     ]
    },
    {
     "name": "stdout",
     "output_type": "stream",
     "text": [
      "C:\\Users\\mahes\\ML\\dataset\\data unziped\\dfdc_train_part_0\\xkfliqnmwt.mp4\n",
      "C:\\Users\\mahes\\ML\\dataset\\data unziped\\dfdc_train_part_0\\xkfliqnmwt.mp4\n",
      "C:\\Users\\mahes\\ML\\dataset\\data unziped\\dfdc_train_part_0\\xkfliqnmwt.mp4\n",
      "C:\\Users\\mahes\\ML\\dataset\\data unziped\\dfdc_train_part_0\\xkfliqnmwt.mp4\n",
      "C:\\Users\\mahes\\ML\\dataset\\data unziped\\dfdc_train_part_0\\xkfliqnmwt.mp4\n",
      "C:\\Users\\mahes\\ML\\dataset\\data unziped\\dfdc_train_part_0\\xkfliqnmwt.mp4\n",
      "C:\\Users\\mahes\\ML\\dataset\\data unziped\\dfdc_train_part_0\\xkfliqnmwt.mp4\n",
      "C:\\Users\\mahes\\ML\\dataset\\data unziped\\dfdc_train_part_0\\xkfliqnmwt.mp4\n",
      "C:\\Users\\mahes\\ML\\dataset\\data unziped\\dfdc_train_part_0\\xkfliqnmwt.mp4\n",
      "C:\\Users\\mahes\\ML\\dataset\\data unziped\\dfdc_train_part_0\\xkfliqnmwt.mp4\n"
     ]
    },
    {
     "name": "stderr",
     "output_type": "stream",
     "text": [
      "Processing 500 videos:  38%|███▊      | 191/500 [3:05:52<5:26:27, 63.39s/it]"
     ]
    },
    {
     "name": "stdout",
     "output_type": "stream",
     "text": [
      "C:\\Users\\mahes\\ML\\dataset\\data unziped\\dfdc_train_part_0\\ucthmsajay.mp4\n",
      "C:\\Users\\mahes\\ML\\dataset\\data unziped\\dfdc_train_part_0\\ucthmsajay.mp4\n",
      "C:\\Users\\mahes\\ML\\dataset\\data unziped\\dfdc_train_part_0\\ucthmsajay.mp4\n",
      "C:\\Users\\mahes\\ML\\dataset\\data unziped\\dfdc_train_part_0\\ucthmsajay.mp4\n",
      "C:\\Users\\mahes\\ML\\dataset\\data unziped\\dfdc_train_part_0\\ucthmsajay.mp4\n",
      "C:\\Users\\mahes\\ML\\dataset\\data unziped\\dfdc_train_part_0\\ucthmsajay.mp4\n",
      "C:\\Users\\mahes\\ML\\dataset\\data unziped\\dfdc_train_part_0\\ucthmsajay.mp4\n",
      "C:\\Users\\mahes\\ML\\dataset\\data unziped\\dfdc_train_part_0\\ucthmsajay.mp4\n",
      "C:\\Users\\mahes\\ML\\dataset\\data unziped\\dfdc_train_part_0\\ucthmsajay.mp4\n",
      "C:\\Users\\mahes\\ML\\dataset\\data unziped\\dfdc_train_part_0\\ucthmsajay.mp4\n"
     ]
    },
    {
     "name": "stderr",
     "output_type": "stream",
     "text": [
      "Processing 500 videos:  38%|███▊      | 192/500 [3:07:04<5:37:34, 65.76s/it]"
     ]
    },
    {
     "name": "stdout",
     "output_type": "stream",
     "text": [
      "C:\\Users\\mahes\\ML\\dataset\\data unziped\\dfdc_train_part_0\\jawgcggquk.mp4\n",
      "C:\\Users\\mahes\\ML\\dataset\\data unziped\\dfdc_train_part_0\\jawgcggquk.mp4\n",
      "C:\\Users\\mahes\\ML\\dataset\\data unziped\\dfdc_train_part_0\\jawgcggquk.mp4\n",
      "C:\\Users\\mahes\\ML\\dataset\\data unziped\\dfdc_train_part_0\\jawgcggquk.mp4\n",
      "C:\\Users\\mahes\\ML\\dataset\\data unziped\\dfdc_train_part_0\\jawgcggquk.mp4\n",
      "C:\\Users\\mahes\\ML\\dataset\\data unziped\\dfdc_train_part_0\\jawgcggquk.mp4\n",
      "C:\\Users\\mahes\\ML\\dataset\\data unziped\\dfdc_train_part_0\\jawgcggquk.mp4\n",
      "C:\\Users\\mahes\\ML\\dataset\\data unziped\\dfdc_train_part_0\\jawgcggquk.mp4\n",
      "C:\\Users\\mahes\\ML\\dataset\\data unziped\\dfdc_train_part_0\\jawgcggquk.mp4\n",
      "C:\\Users\\mahes\\ML\\dataset\\data unziped\\dfdc_train_part_0\\jawgcggquk.mp4\n"
     ]
    },
    {
     "name": "stderr",
     "output_type": "stream",
     "text": [
      "Processing 500 videos:  39%|███▊      | 193/500 [3:08:05<5:28:54, 64.28s/it]"
     ]
    },
    {
     "name": "stdout",
     "output_type": "stream",
     "text": [
      "C:\\Users\\mahes\\ML\\dataset\\data unziped\\dfdc_train_part_0\\qyqufaskjs.mp4\n",
      "C:\\Users\\mahes\\ML\\dataset\\data unziped\\dfdc_train_part_0\\qyqufaskjs.mp4\n",
      "C:\\Users\\mahes\\ML\\dataset\\data unziped\\dfdc_train_part_0\\qyqufaskjs.mp4\n",
      "C:\\Users\\mahes\\ML\\dataset\\data unziped\\dfdc_train_part_0\\qyqufaskjs.mp4\n",
      "C:\\Users\\mahes\\ML\\dataset\\data unziped\\dfdc_train_part_0\\qyqufaskjs.mp4\n",
      "C:\\Users\\mahes\\ML\\dataset\\data unziped\\dfdc_train_part_0\\qyqufaskjs.mp4\n",
      "C:\\Users\\mahes\\ML\\dataset\\data unziped\\dfdc_train_part_0\\qyqufaskjs.mp4\n",
      "C:\\Users\\mahes\\ML\\dataset\\data unziped\\dfdc_train_part_0\\qyqufaskjs.mp4\n",
      "C:\\Users\\mahes\\ML\\dataset\\data unziped\\dfdc_train_part_0\\qyqufaskjs.mp4\n",
      "C:\\Users\\mahes\\ML\\dataset\\data unziped\\dfdc_train_part_0\\qyqufaskjs.mp4\n"
     ]
    },
    {
     "name": "stderr",
     "output_type": "stream",
     "text": [
      "Processing 500 videos:  39%|███▉      | 194/500 [3:09:10<5:29:46, 64.66s/it]"
     ]
    },
    {
     "name": "stdout",
     "output_type": "stream",
     "text": [
      "C:\\Users\\mahes\\ML\\dataset\\data unziped\\dfdc_train_part_0\\uprwuohbwx.mp4\n",
      "C:\\Users\\mahes\\ML\\dataset\\data unziped\\dfdc_train_part_0\\uprwuohbwx.mp4\n",
      "C:\\Users\\mahes\\ML\\dataset\\data unziped\\dfdc_train_part_0\\uprwuohbwx.mp4\n",
      "C:\\Users\\mahes\\ML\\dataset\\data unziped\\dfdc_train_part_0\\uprwuohbwx.mp4\n",
      "C:\\Users\\mahes\\ML\\dataset\\data unziped\\dfdc_train_part_0\\uprwuohbwx.mp4\n",
      "C:\\Users\\mahes\\ML\\dataset\\data unziped\\dfdc_train_part_0\\uprwuohbwx.mp4\n",
      "C:\\Users\\mahes\\ML\\dataset\\data unziped\\dfdc_train_part_0\\uprwuohbwx.mp4\n",
      "C:\\Users\\mahes\\ML\\dataset\\data unziped\\dfdc_train_part_0\\uprwuohbwx.mp4\n",
      "C:\\Users\\mahes\\ML\\dataset\\data unziped\\dfdc_train_part_0\\uprwuohbwx.mp4\n",
      "C:\\Users\\mahes\\ML\\dataset\\data unziped\\dfdc_train_part_0\\uprwuohbwx.mp4\n"
     ]
    },
    {
     "name": "stderr",
     "output_type": "stream",
     "text": [
      "Processing 500 videos:  39%|███▉      | 195/500 [3:10:23<5:41:23, 67.16s/it]"
     ]
    },
    {
     "name": "stdout",
     "output_type": "stream",
     "text": [
      "C:\\Users\\mahes\\ML\\dataset\\data unziped\\dfdc_train_part_0\\fsaronfupy.mp4\n",
      "C:\\Users\\mahes\\ML\\dataset\\data unziped\\dfdc_train_part_0\\fsaronfupy.mp4\n",
      "C:\\Users\\mahes\\ML\\dataset\\data unziped\\dfdc_train_part_0\\fsaronfupy.mp4\n",
      "C:\\Users\\mahes\\ML\\dataset\\data unziped\\dfdc_train_part_0\\fsaronfupy.mp4\n",
      "C:\\Users\\mahes\\ML\\dataset\\data unziped\\dfdc_train_part_0\\fsaronfupy.mp4\n",
      "C:\\Users\\mahes\\ML\\dataset\\data unziped\\dfdc_train_part_0\\fsaronfupy.mp4\n",
      "C:\\Users\\mahes\\ML\\dataset\\data unziped\\dfdc_train_part_0\\fsaronfupy.mp4\n",
      "C:\\Users\\mahes\\ML\\dataset\\data unziped\\dfdc_train_part_0\\fsaronfupy.mp4\n",
      "C:\\Users\\mahes\\ML\\dataset\\data unziped\\dfdc_train_part_0\\fsaronfupy.mp4\n",
      "C:\\Users\\mahes\\ML\\dataset\\data unziped\\dfdc_train_part_0\\fsaronfupy.mp4\n"
     ]
    },
    {
     "name": "stderr",
     "output_type": "stream",
     "text": [
      "Processing 500 videos:  39%|███▉      | 196/500 [3:11:28<5:36:56, 66.50s/it]"
     ]
    },
    {
     "name": "stdout",
     "output_type": "stream",
     "text": [
      "C:\\Users\\mahes\\ML\\dataset\\data unziped\\dfdc_train_part_0\\ldtgofdaqg.mp4\n",
      "C:\\Users\\mahes\\ML\\dataset\\data unziped\\dfdc_train_part_0\\ldtgofdaqg.mp4\n",
      "C:\\Users\\mahes\\ML\\dataset\\data unziped\\dfdc_train_part_0\\ldtgofdaqg.mp4\n",
      "C:\\Users\\mahes\\ML\\dataset\\data unziped\\dfdc_train_part_0\\ldtgofdaqg.mp4\n",
      "C:\\Users\\mahes\\ML\\dataset\\data unziped\\dfdc_train_part_0\\ldtgofdaqg.mp4\n",
      "C:\\Users\\mahes\\ML\\dataset\\data unziped\\dfdc_train_part_0\\ldtgofdaqg.mp4\n",
      "C:\\Users\\mahes\\ML\\dataset\\data unziped\\dfdc_train_part_0\\ldtgofdaqg.mp4\n",
      "C:\\Users\\mahes\\ML\\dataset\\data unziped\\dfdc_train_part_0\\ldtgofdaqg.mp4\n",
      "C:\\Users\\mahes\\ML\\dataset\\data unziped\\dfdc_train_part_0\\ldtgofdaqg.mp4\n",
      "C:\\Users\\mahes\\ML\\dataset\\data unziped\\dfdc_train_part_0\\ldtgofdaqg.mp4\n"
     ]
    },
    {
     "name": "stderr",
     "output_type": "stream",
     "text": [
      "Processing 500 videos:  39%|███▉      | 197/500 [3:12:35<5:36:36, 66.65s/it]"
     ]
    },
    {
     "name": "stdout",
     "output_type": "stream",
     "text": [
      "C:\\Users\\mahes\\ML\\dataset\\data unziped\\dfdc_train_part_0\\xugmhbetrw.mp4\n",
      "C:\\Users\\mahes\\ML\\dataset\\data unziped\\dfdc_train_part_0\\xugmhbetrw.mp4\n",
      "C:\\Users\\mahes\\ML\\dataset\\data unziped\\dfdc_train_part_0\\xugmhbetrw.mp4\n",
      "C:\\Users\\mahes\\ML\\dataset\\data unziped\\dfdc_train_part_0\\xugmhbetrw.mp4\n",
      "C:\\Users\\mahes\\ML\\dataset\\data unziped\\dfdc_train_part_0\\xugmhbetrw.mp4\n",
      "C:\\Users\\mahes\\ML\\dataset\\data unziped\\dfdc_train_part_0\\xugmhbetrw.mp4\n",
      "C:\\Users\\mahes\\ML\\dataset\\data unziped\\dfdc_train_part_0\\xugmhbetrw.mp4\n",
      "C:\\Users\\mahes\\ML\\dataset\\data unziped\\dfdc_train_part_0\\xugmhbetrw.mp4\n",
      "C:\\Users\\mahes\\ML\\dataset\\data unziped\\dfdc_train_part_0\\xugmhbetrw.mp4\n",
      "C:\\Users\\mahes\\ML\\dataset\\data unziped\\dfdc_train_part_0\\xugmhbetrw.mp4\n"
     ]
    },
    {
     "name": "stderr",
     "output_type": "stream",
     "text": [
      "Processing 500 videos:  40%|███▉      | 198/500 [3:13:49<5:46:12, 68.78s/it]"
     ]
    },
    {
     "name": "stdout",
     "output_type": "stream",
     "text": [
      "C:\\Users\\mahes\\ML\\dataset\\data unziped\\dfdc_train_part_0\\fdpisghkmd.mp4\n",
      "C:\\Users\\mahes\\ML\\dataset\\data unziped\\dfdc_train_part_0\\fdpisghkmd.mp4\n",
      "C:\\Users\\mahes\\ML\\dataset\\data unziped\\dfdc_train_part_0\\fdpisghkmd.mp4\n",
      "C:\\Users\\mahes\\ML\\dataset\\data unziped\\dfdc_train_part_0\\fdpisghkmd.mp4\n",
      "C:\\Users\\mahes\\ML\\dataset\\data unziped\\dfdc_train_part_0\\fdpisghkmd.mp4\n",
      "C:\\Users\\mahes\\ML\\dataset\\data unziped\\dfdc_train_part_0\\fdpisghkmd.mp4\n",
      "C:\\Users\\mahes\\ML\\dataset\\data unziped\\dfdc_train_part_0\\fdpisghkmd.mp4\n",
      "C:\\Users\\mahes\\ML\\dataset\\data unziped\\dfdc_train_part_0\\fdpisghkmd.mp4\n",
      "C:\\Users\\mahes\\ML\\dataset\\data unziped\\dfdc_train_part_0\\fdpisghkmd.mp4\n",
      "C:\\Users\\mahes\\ML\\dataset\\data unziped\\dfdc_train_part_0\\fdpisghkmd.mp4\n"
     ]
    },
    {
     "name": "stderr",
     "output_type": "stream",
     "text": [
      "Processing 500 videos:  40%|███▉      | 199/500 [3:14:55<5:41:08, 68.00s/it]"
     ]
    },
    {
     "name": "stdout",
     "output_type": "stream",
     "text": [
      "C:\\Users\\mahes\\ML\\dataset\\data unziped\\dfdc_train_part_0\\gnmmhlbzge.mp4\n",
      "C:\\Users\\mahes\\ML\\dataset\\data unziped\\dfdc_train_part_0\\gnmmhlbzge.mp4\n",
      "C:\\Users\\mahes\\ML\\dataset\\data unziped\\dfdc_train_part_0\\gnmmhlbzge.mp4\n",
      "C:\\Users\\mahes\\ML\\dataset\\data unziped\\dfdc_train_part_0\\gnmmhlbzge.mp4\n",
      "C:\\Users\\mahes\\ML\\dataset\\data unziped\\dfdc_train_part_0\\gnmmhlbzge.mp4\n",
      "C:\\Users\\mahes\\ML\\dataset\\data unziped\\dfdc_train_part_0\\gnmmhlbzge.mp4\n",
      "C:\\Users\\mahes\\ML\\dataset\\data unziped\\dfdc_train_part_0\\gnmmhlbzge.mp4\n",
      "C:\\Users\\mahes\\ML\\dataset\\data unziped\\dfdc_train_part_0\\gnmmhlbzge.mp4\n",
      "C:\\Users\\mahes\\ML\\dataset\\data unziped\\dfdc_train_part_0\\gnmmhlbzge.mp4\n",
      "C:\\Users\\mahes\\ML\\dataset\\data unziped\\dfdc_train_part_0\\gnmmhlbzge.mp4\n"
     ]
    },
    {
     "name": "stderr",
     "output_type": "stream",
     "text": [
      "Processing 500 videos:  40%|████      | 200/500 [3:16:00<5:36:13, 67.25s/it]"
     ]
    },
    {
     "name": "stdout",
     "output_type": "stream",
     "text": [
      "C:\\Users\\mahes\\ML\\dataset\\data unziped\\dfdc_train_part_0\\sttnfyptum.mp4\n",
      "C:\\Users\\mahes\\ML\\dataset\\data unziped\\dfdc_train_part_0\\sttnfyptum.mp4\n",
      "C:\\Users\\mahes\\ML\\dataset\\data unziped\\dfdc_train_part_0\\sttnfyptum.mp4\n",
      "C:\\Users\\mahes\\ML\\dataset\\data unziped\\dfdc_train_part_0\\sttnfyptum.mp4\n",
      "C:\\Users\\mahes\\ML\\dataset\\data unziped\\dfdc_train_part_0\\sttnfyptum.mp4\n",
      "C:\\Users\\mahes\\ML\\dataset\\data unziped\\dfdc_train_part_0\\sttnfyptum.mp4\n",
      "C:\\Users\\mahes\\ML\\dataset\\data unziped\\dfdc_train_part_0\\sttnfyptum.mp4\n",
      "C:\\Users\\mahes\\ML\\dataset\\data unziped\\dfdc_train_part_0\\sttnfyptum.mp4\n",
      "C:\\Users\\mahes\\ML\\dataset\\data unziped\\dfdc_train_part_0\\sttnfyptum.mp4\n",
      "C:\\Users\\mahes\\ML\\dataset\\data unziped\\dfdc_train_part_0\\sttnfyptum.mp4\n"
     ]
    },
    {
     "name": "stderr",
     "output_type": "stream",
     "text": [
      "Processing 500 videos:  40%|████      | 201/500 [3:17:16<5:47:35, 69.75s/it]"
     ]
    },
    {
     "name": "stdout",
     "output_type": "stream",
     "text": [
      "C:\\Users\\mahes\\ML\\dataset\\data unziped\\dfdc_train_part_0\\fdpisghkmd.mp4\n",
      "C:\\Users\\mahes\\ML\\dataset\\data unziped\\dfdc_train_part_0\\fdpisghkmd.mp4\n",
      "C:\\Users\\mahes\\ML\\dataset\\data unziped\\dfdc_train_part_0\\fdpisghkmd.mp4\n",
      "C:\\Users\\mahes\\ML\\dataset\\data unziped\\dfdc_train_part_0\\fdpisghkmd.mp4\n",
      "C:\\Users\\mahes\\ML\\dataset\\data unziped\\dfdc_train_part_0\\fdpisghkmd.mp4\n",
      "C:\\Users\\mahes\\ML\\dataset\\data unziped\\dfdc_train_part_0\\fdpisghkmd.mp4\n",
      "C:\\Users\\mahes\\ML\\dataset\\data unziped\\dfdc_train_part_0\\fdpisghkmd.mp4\n",
      "C:\\Users\\mahes\\ML\\dataset\\data unziped\\dfdc_train_part_0\\fdpisghkmd.mp4\n",
      "C:\\Users\\mahes\\ML\\dataset\\data unziped\\dfdc_train_part_0\\fdpisghkmd.mp4\n",
      "C:\\Users\\mahes\\ML\\dataset\\data unziped\\dfdc_train_part_0\\fdpisghkmd.mp4\n"
     ]
    },
    {
     "name": "stderr",
     "output_type": "stream",
     "text": [
      "Processing 500 videos:  40%|████      | 202/500 [3:18:22<5:40:20, 68.52s/it]"
     ]
    },
    {
     "name": "stdout",
     "output_type": "stream",
     "text": [
      "C:\\Users\\mahes\\ML\\dataset\\data unziped\\dfdc_train_part_0\\fdpisghkmd.mp4\n",
      "C:\\Users\\mahes\\ML\\dataset\\data unziped\\dfdc_train_part_0\\fdpisghkmd.mp4\n",
      "C:\\Users\\mahes\\ML\\dataset\\data unziped\\dfdc_train_part_0\\fdpisghkmd.mp4\n",
      "C:\\Users\\mahes\\ML\\dataset\\data unziped\\dfdc_train_part_0\\fdpisghkmd.mp4\n",
      "C:\\Users\\mahes\\ML\\dataset\\data unziped\\dfdc_train_part_0\\fdpisghkmd.mp4\n",
      "C:\\Users\\mahes\\ML\\dataset\\data unziped\\dfdc_train_part_0\\fdpisghkmd.mp4\n",
      "C:\\Users\\mahes\\ML\\dataset\\data unziped\\dfdc_train_part_0\\fdpisghkmd.mp4\n",
      "C:\\Users\\mahes\\ML\\dataset\\data unziped\\dfdc_train_part_0\\fdpisghkmd.mp4\n",
      "C:\\Users\\mahes\\ML\\dataset\\data unziped\\dfdc_train_part_0\\fdpisghkmd.mp4\n",
      "C:\\Users\\mahes\\ML\\dataset\\data unziped\\dfdc_train_part_0\\fdpisghkmd.mp4\n"
     ]
    },
    {
     "name": "stderr",
     "output_type": "stream",
     "text": [
      "Processing 500 videos:  41%|████      | 203/500 [3:19:30<5:38:25, 68.37s/it]"
     ]
    },
    {
     "name": "stdout",
     "output_type": "stream",
     "text": [
      "C:\\Users\\mahes\\ML\\dataset\\data unziped\\dfdc_train_part_0\\uqtqhiqymz.mp4\n",
      "C:\\Users\\mahes\\ML\\dataset\\data unziped\\dfdc_train_part_0\\uqtqhiqymz.mp4\n",
      "C:\\Users\\mahes\\ML\\dataset\\data unziped\\dfdc_train_part_0\\uqtqhiqymz.mp4\n",
      "C:\\Users\\mahes\\ML\\dataset\\data unziped\\dfdc_train_part_0\\uqtqhiqymz.mp4\n",
      "C:\\Users\\mahes\\ML\\dataset\\data unziped\\dfdc_train_part_0\\uqtqhiqymz.mp4\n",
      "C:\\Users\\mahes\\ML\\dataset\\data unziped\\dfdc_train_part_0\\uqtqhiqymz.mp4\n",
      "C:\\Users\\mahes\\ML\\dataset\\data unziped\\dfdc_train_part_0\\uqtqhiqymz.mp4\n",
      "C:\\Users\\mahes\\ML\\dataset\\data unziped\\dfdc_train_part_0\\uqtqhiqymz.mp4\n",
      "C:\\Users\\mahes\\ML\\dataset\\data unziped\\dfdc_train_part_0\\uqtqhiqymz.mp4\n",
      "C:\\Users\\mahes\\ML\\dataset\\data unziped\\dfdc_train_part_0\\uqtqhiqymz.mp4\n"
     ]
    },
    {
     "name": "stderr",
     "output_type": "stream",
     "text": [
      "Processing 500 videos:  41%|████      | 204/500 [3:20:41<5:41:21, 69.20s/it]"
     ]
    },
    {
     "name": "stdout",
     "output_type": "stream",
     "text": [
      "C:\\Users\\mahes\\ML\\dataset\\data unziped\\dfdc_train_part_0\\REAL\n",
      "C:\\Users\\mahes\\ML\\dataset\\data unziped\\dfdc_train_part_0\\REAL\n",
      "C:\\Users\\mahes\\ML\\dataset\\data unziped\\dfdc_train_part_0\\REAL\n",
      "C:\\Users\\mahes\\ML\\dataset\\data unziped\\dfdc_train_part_0\\REAL\n",
      "C:\\Users\\mahes\\ML\\dataset\\data unziped\\dfdc_train_part_0\\REAL\n",
      "C:\\Users\\mahes\\ML\\dataset\\data unziped\\dfdc_train_part_0\\REAL\n",
      "C:\\Users\\mahes\\ML\\dataset\\data unziped\\dfdc_train_part_0\\REAL\n",
      "C:\\Users\\mahes\\ML\\dataset\\data unziped\\dfdc_train_part_0\\REAL\n",
      "C:\\Users\\mahes\\ML\\dataset\\data unziped\\dfdc_train_part_0\\REAL\n",
      "C:\\Users\\mahes\\ML\\dataset\\data unziped\\dfdc_train_part_0\\REAL\n"
     ]
    },
    {
     "name": "stderr",
     "output_type": "stream",
     "text": [
      "Processing 500 videos:  41%|████      | 205/500 [3:20:51<4:13:31, 51.56s/it]"
     ]
    },
    {
     "name": "stdout",
     "output_type": "stream",
     "text": [
      "C:\\Users\\mahes\\ML\\dataset\\data unziped\\dfdc_train_part_0\\fopjiyxiqd.mp4\n",
      "C:\\Users\\mahes\\ML\\dataset\\data unziped\\dfdc_train_part_0\\fopjiyxiqd.mp4\n",
      "C:\\Users\\mahes\\ML\\dataset\\data unziped\\dfdc_train_part_0\\fopjiyxiqd.mp4\n",
      "C:\\Users\\mahes\\ML\\dataset\\data unziped\\dfdc_train_part_0\\fopjiyxiqd.mp4\n",
      "C:\\Users\\mahes\\ML\\dataset\\data unziped\\dfdc_train_part_0\\fopjiyxiqd.mp4\n",
      "C:\\Users\\mahes\\ML\\dataset\\data unziped\\dfdc_train_part_0\\fopjiyxiqd.mp4\n",
      "C:\\Users\\mahes\\ML\\dataset\\data unziped\\dfdc_train_part_0\\fopjiyxiqd.mp4\n",
      "C:\\Users\\mahes\\ML\\dataset\\data unziped\\dfdc_train_part_0\\fopjiyxiqd.mp4\n",
      "C:\\Users\\mahes\\ML\\dataset\\data unziped\\dfdc_train_part_0\\fopjiyxiqd.mp4\n",
      "C:\\Users\\mahes\\ML\\dataset\\data unziped\\dfdc_train_part_0\\fopjiyxiqd.mp4\n"
     ]
    },
    {
     "name": "stderr",
     "output_type": "stream",
     "text": [
      "Processing 500 videos:  41%|████      | 206/500 [3:21:58<4:34:15, 55.97s/it]"
     ]
    },
    {
     "name": "stdout",
     "output_type": "stream",
     "text": [
      "C:\\Users\\mahes\\ML\\dataset\\data unziped\\dfdc_train_part_0\\srfefmyjvt.mp4\n",
      "C:\\Users\\mahes\\ML\\dataset\\data unziped\\dfdc_train_part_0\\srfefmyjvt.mp4\n",
      "C:\\Users\\mahes\\ML\\dataset\\data unziped\\dfdc_train_part_0\\srfefmyjvt.mp4\n",
      "C:\\Users\\mahes\\ML\\dataset\\data unziped\\dfdc_train_part_0\\srfefmyjvt.mp4\n",
      "C:\\Users\\mahes\\ML\\dataset\\data unziped\\dfdc_train_part_0\\srfefmyjvt.mp4\n",
      "C:\\Users\\mahes\\ML\\dataset\\data unziped\\dfdc_train_part_0\\srfefmyjvt.mp4\n",
      "C:\\Users\\mahes\\ML\\dataset\\data unziped\\dfdc_train_part_0\\srfefmyjvt.mp4\n",
      "C:\\Users\\mahes\\ML\\dataset\\data unziped\\dfdc_train_part_0\\srfefmyjvt.mp4\n",
      "C:\\Users\\mahes\\ML\\dataset\\data unziped\\dfdc_train_part_0\\srfefmyjvt.mp4\n",
      "C:\\Users\\mahes\\ML\\dataset\\data unziped\\dfdc_train_part_0\\srfefmyjvt.mp4\n"
     ]
    },
    {
     "name": "stderr",
     "output_type": "stream",
     "text": [
      "Processing 500 videos:  41%|████▏     | 207/500 [3:23:00<4:42:23, 57.83s/it]"
     ]
    },
    {
     "name": "stdout",
     "output_type": "stream",
     "text": [
      "C:\\Users\\mahes\\ML\\dataset\\data unziped\\dfdc_train_part_0\\uqtqhiqymz.mp4\n",
      "C:\\Users\\mahes\\ML\\dataset\\data unziped\\dfdc_train_part_0\\uqtqhiqymz.mp4\n",
      "C:\\Users\\mahes\\ML\\dataset\\data unziped\\dfdc_train_part_0\\uqtqhiqymz.mp4\n",
      "C:\\Users\\mahes\\ML\\dataset\\data unziped\\dfdc_train_part_0\\uqtqhiqymz.mp4\n",
      "C:\\Users\\mahes\\ML\\dataset\\data unziped\\dfdc_train_part_0\\uqtqhiqymz.mp4\n",
      "C:\\Users\\mahes\\ML\\dataset\\data unziped\\dfdc_train_part_0\\uqtqhiqymz.mp4\n",
      "C:\\Users\\mahes\\ML\\dataset\\data unziped\\dfdc_train_part_0\\uqtqhiqymz.mp4\n",
      "C:\\Users\\mahes\\ML\\dataset\\data unziped\\dfdc_train_part_0\\uqtqhiqymz.mp4\n",
      "C:\\Users\\mahes\\ML\\dataset\\data unziped\\dfdc_train_part_0\\uqtqhiqymz.mp4\n",
      "C:\\Users\\mahes\\ML\\dataset\\data unziped\\dfdc_train_part_0\\uqtqhiqymz.mp4\n"
     ]
    },
    {
     "name": "stderr",
     "output_type": "stream",
     "text": [
      "Processing 500 videos:  42%|████▏     | 208/500 [3:24:14<5:05:19, 62.74s/it]"
     ]
    },
    {
     "name": "stdout",
     "output_type": "stream",
     "text": [
      "C:\\Users\\mahes\\ML\\dataset\\data unziped\\dfdc_train_part_0\\xkfliqnmwt.mp4\n",
      "C:\\Users\\mahes\\ML\\dataset\\data unziped\\dfdc_train_part_0\\xkfliqnmwt.mp4\n",
      "C:\\Users\\mahes\\ML\\dataset\\data unziped\\dfdc_train_part_0\\xkfliqnmwt.mp4\n",
      "C:\\Users\\mahes\\ML\\dataset\\data unziped\\dfdc_train_part_0\\xkfliqnmwt.mp4\n",
      "C:\\Users\\mahes\\ML\\dataset\\data unziped\\dfdc_train_part_0\\xkfliqnmwt.mp4\n",
      "C:\\Users\\mahes\\ML\\dataset\\data unziped\\dfdc_train_part_0\\xkfliqnmwt.mp4\n",
      "C:\\Users\\mahes\\ML\\dataset\\data unziped\\dfdc_train_part_0\\xkfliqnmwt.mp4\n",
      "C:\\Users\\mahes\\ML\\dataset\\data unziped\\dfdc_train_part_0\\xkfliqnmwt.mp4\n",
      "C:\\Users\\mahes\\ML\\dataset\\data unziped\\dfdc_train_part_0\\xkfliqnmwt.mp4\n",
      "C:\\Users\\mahes\\ML\\dataset\\data unziped\\dfdc_train_part_0\\xkfliqnmwt.mp4\n"
     ]
    },
    {
     "name": "stderr",
     "output_type": "stream",
     "text": [
      "Processing 500 videos:  42%|████▏     | 209/500 [3:25:26<5:18:32, 65.68s/it]"
     ]
    },
    {
     "name": "stdout",
     "output_type": "stream",
     "text": [
      "C:\\Users\\mahes\\ML\\dataset\\data unziped\\dfdc_train_part_0\\yxvmusxvcz.mp4\n",
      "C:\\Users\\mahes\\ML\\dataset\\data unziped\\dfdc_train_part_0\\yxvmusxvcz.mp4\n",
      "C:\\Users\\mahes\\ML\\dataset\\data unziped\\dfdc_train_part_0\\yxvmusxvcz.mp4\n",
      "C:\\Users\\mahes\\ML\\dataset\\data unziped\\dfdc_train_part_0\\yxvmusxvcz.mp4\n",
      "C:\\Users\\mahes\\ML\\dataset\\data unziped\\dfdc_train_part_0\\yxvmusxvcz.mp4\n",
      "C:\\Users\\mahes\\ML\\dataset\\data unziped\\dfdc_train_part_0\\yxvmusxvcz.mp4\n",
      "C:\\Users\\mahes\\ML\\dataset\\data unziped\\dfdc_train_part_0\\yxvmusxvcz.mp4\n",
      "C:\\Users\\mahes\\ML\\dataset\\data unziped\\dfdc_train_part_0\\yxvmusxvcz.mp4\n",
      "C:\\Users\\mahes\\ML\\dataset\\data unziped\\dfdc_train_part_0\\yxvmusxvcz.mp4\n",
      "C:\\Users\\mahes\\ML\\dataset\\data unziped\\dfdc_train_part_0\\yxvmusxvcz.mp4\n"
     ]
    },
    {
     "name": "stderr",
     "output_type": "stream",
     "text": [
      "Processing 500 videos:  42%|████▏     | 210/500 [3:26:29<5:13:13, 64.81s/it]"
     ]
    },
    {
     "name": "stdout",
     "output_type": "stream",
     "text": [
      "C:\\Users\\mahes\\ML\\dataset\\data unziped\\dfdc_train_part_0\\dpevefkefv.mp4\n",
      "C:\\Users\\mahes\\ML\\dataset\\data unziped\\dfdc_train_part_0\\dpevefkefv.mp4\n",
      "C:\\Users\\mahes\\ML\\dataset\\data unziped\\dfdc_train_part_0\\dpevefkefv.mp4\n",
      "C:\\Users\\mahes\\ML\\dataset\\data unziped\\dfdc_train_part_0\\dpevefkefv.mp4\n",
      "C:\\Users\\mahes\\ML\\dataset\\data unziped\\dfdc_train_part_0\\dpevefkefv.mp4\n",
      "C:\\Users\\mahes\\ML\\dataset\\data unziped\\dfdc_train_part_0\\dpevefkefv.mp4\n",
      "C:\\Users\\mahes\\ML\\dataset\\data unziped\\dfdc_train_part_0\\dpevefkefv.mp4\n",
      "C:\\Users\\mahes\\ML\\dataset\\data unziped\\dfdc_train_part_0\\dpevefkefv.mp4\n",
      "C:\\Users\\mahes\\ML\\dataset\\data unziped\\dfdc_train_part_0\\dpevefkefv.mp4\n",
      "C:\\Users\\mahes\\ML\\dataset\\data unziped\\dfdc_train_part_0\\dpevefkefv.mp4\n"
     ]
    },
    {
     "name": "stderr",
     "output_type": "stream",
     "text": [
      "Processing 500 videos:  42%|████▏     | 211/500 [3:27:47<5:30:12, 68.56s/it]"
     ]
    },
    {
     "name": "stdout",
     "output_type": "stream",
     "text": [
      "C:\\Users\\mahes\\ML\\dataset\\data unziped\\dfdc_train_part_0\\psjfwjzrrh.mp4\n",
      "C:\\Users\\mahes\\ML\\dataset\\data unziped\\dfdc_train_part_0\\psjfwjzrrh.mp4\n",
      "C:\\Users\\mahes\\ML\\dataset\\data unziped\\dfdc_train_part_0\\psjfwjzrrh.mp4\n",
      "C:\\Users\\mahes\\ML\\dataset\\data unziped\\dfdc_train_part_0\\psjfwjzrrh.mp4\n",
      "C:\\Users\\mahes\\ML\\dataset\\data unziped\\dfdc_train_part_0\\psjfwjzrrh.mp4\n",
      "C:\\Users\\mahes\\ML\\dataset\\data unziped\\dfdc_train_part_0\\psjfwjzrrh.mp4\n",
      "C:\\Users\\mahes\\ML\\dataset\\data unziped\\dfdc_train_part_0\\psjfwjzrrh.mp4\n",
      "C:\\Users\\mahes\\ML\\dataset\\data unziped\\dfdc_train_part_0\\psjfwjzrrh.mp4\n",
      "C:\\Users\\mahes\\ML\\dataset\\data unziped\\dfdc_train_part_0\\psjfwjzrrh.mp4\n",
      "C:\\Users\\mahes\\ML\\dataset\\data unziped\\dfdc_train_part_0\\psjfwjzrrh.mp4\n"
     ]
    },
    {
     "name": "stderr",
     "output_type": "stream",
     "text": [
      "Processing 500 videos:  42%|████▏     | 212/500 [3:29:00<5:36:22, 70.08s/it]"
     ]
    },
    {
     "name": "stdout",
     "output_type": "stream",
     "text": [
      "C:\\Users\\mahes\\ML\\dataset\\data unziped\\dfdc_train_part_0\\hsbwhlolsn.mp4\n",
      "C:\\Users\\mahes\\ML\\dataset\\data unziped\\dfdc_train_part_0\\hsbwhlolsn.mp4\n",
      "C:\\Users\\mahes\\ML\\dataset\\data unziped\\dfdc_train_part_0\\hsbwhlolsn.mp4\n",
      "C:\\Users\\mahes\\ML\\dataset\\data unziped\\dfdc_train_part_0\\hsbwhlolsn.mp4\n",
      "C:\\Users\\mahes\\ML\\dataset\\data unziped\\dfdc_train_part_0\\hsbwhlolsn.mp4\n",
      "C:\\Users\\mahes\\ML\\dataset\\data unziped\\dfdc_train_part_0\\hsbwhlolsn.mp4\n",
      "C:\\Users\\mahes\\ML\\dataset\\data unziped\\dfdc_train_part_0\\hsbwhlolsn.mp4\n",
      "C:\\Users\\mahes\\ML\\dataset\\data unziped\\dfdc_train_part_0\\hsbwhlolsn.mp4\n",
      "C:\\Users\\mahes\\ML\\dataset\\data unziped\\dfdc_train_part_0\\hsbwhlolsn.mp4\n",
      "C:\\Users\\mahes\\ML\\dataset\\data unziped\\dfdc_train_part_0\\hsbwhlolsn.mp4\n"
     ]
    },
    {
     "name": "stderr",
     "output_type": "stream",
     "text": [
      "Processing 500 videos:  43%|████▎     | 213/500 [3:30:14<5:40:56, 71.28s/it]"
     ]
    },
    {
     "name": "stdout",
     "output_type": "stream",
     "text": [
      "C:\\Users\\mahes\\ML\\dataset\\data unziped\\dfdc_train_part_0\\fopjiyxiqd.mp4\n",
      "C:\\Users\\mahes\\ML\\dataset\\data unziped\\dfdc_train_part_0\\fopjiyxiqd.mp4\n",
      "C:\\Users\\mahes\\ML\\dataset\\data unziped\\dfdc_train_part_0\\fopjiyxiqd.mp4\n",
      "C:\\Users\\mahes\\ML\\dataset\\data unziped\\dfdc_train_part_0\\fopjiyxiqd.mp4\n",
      "C:\\Users\\mahes\\ML\\dataset\\data unziped\\dfdc_train_part_0\\fopjiyxiqd.mp4\n",
      "C:\\Users\\mahes\\ML\\dataset\\data unziped\\dfdc_train_part_0\\fopjiyxiqd.mp4\n",
      "C:\\Users\\mahes\\ML\\dataset\\data unziped\\dfdc_train_part_0\\fopjiyxiqd.mp4\n",
      "C:\\Users\\mahes\\ML\\dataset\\data unziped\\dfdc_train_part_0\\fopjiyxiqd.mp4\n",
      "C:\\Users\\mahes\\ML\\dataset\\data unziped\\dfdc_train_part_0\\fopjiyxiqd.mp4\n",
      "C:\\Users\\mahes\\ML\\dataset\\data unziped\\dfdc_train_part_0\\fopjiyxiqd.mp4\n"
     ]
    },
    {
     "name": "stderr",
     "output_type": "stream",
     "text": [
      "Processing 500 videos:  43%|████▎     | 214/500 [3:31:25<5:38:22, 70.99s/it]"
     ]
    },
    {
     "name": "stdout",
     "output_type": "stream",
     "text": [
      "C:\\Users\\mahes\\ML\\dataset\\data unziped\\dfdc_train_part_0\\REAL\n",
      "C:\\Users\\mahes\\ML\\dataset\\data unziped\\dfdc_train_part_0\\REAL\n",
      "C:\\Users\\mahes\\ML\\dataset\\data unziped\\dfdc_train_part_0\\REAL\n",
      "C:\\Users\\mahes\\ML\\dataset\\data unziped\\dfdc_train_part_0\\REAL\n",
      "C:\\Users\\mahes\\ML\\dataset\\data unziped\\dfdc_train_part_0\\REAL\n",
      "C:\\Users\\mahes\\ML\\dataset\\data unziped\\dfdc_train_part_0\\REAL\n",
      "C:\\Users\\mahes\\ML\\dataset\\data unziped\\dfdc_train_part_0\\REAL\n",
      "C:\\Users\\mahes\\ML\\dataset\\data unziped\\dfdc_train_part_0\\REAL\n",
      "C:\\Users\\mahes\\ML\\dataset\\data unziped\\dfdc_train_part_0\\REAL\n",
      "C:\\Users\\mahes\\ML\\dataset\\data unziped\\dfdc_train_part_0\\REAL\n"
     ]
    },
    {
     "name": "stderr",
     "output_type": "stream",
     "text": [
      "Processing 500 videos:  43%|████▎     | 215/500 [3:31:36<4:11:38, 52.98s/it]"
     ]
    },
    {
     "name": "stdout",
     "output_type": "stream",
     "text": [
      "C:\\Users\\mahes\\ML\\dataset\\data unziped\\dfdc_train_part_0\\apvzjkvnwn.mp4\n",
      "C:\\Users\\mahes\\ML\\dataset\\data unziped\\dfdc_train_part_0\\apvzjkvnwn.mp4\n",
      "C:\\Users\\mahes\\ML\\dataset\\data unziped\\dfdc_train_part_0\\apvzjkvnwn.mp4\n",
      "C:\\Users\\mahes\\ML\\dataset\\data unziped\\dfdc_train_part_0\\apvzjkvnwn.mp4\n",
      "C:\\Users\\mahes\\ML\\dataset\\data unziped\\dfdc_train_part_0\\apvzjkvnwn.mp4\n",
      "C:\\Users\\mahes\\ML\\dataset\\data unziped\\dfdc_train_part_0\\apvzjkvnwn.mp4\n",
      "C:\\Users\\mahes\\ML\\dataset\\data unziped\\dfdc_train_part_0\\apvzjkvnwn.mp4\n",
      "C:\\Users\\mahes\\ML\\dataset\\data unziped\\dfdc_train_part_0\\apvzjkvnwn.mp4\n",
      "C:\\Users\\mahes\\ML\\dataset\\data unziped\\dfdc_train_part_0\\apvzjkvnwn.mp4\n",
      "C:\\Users\\mahes\\ML\\dataset\\data unziped\\dfdc_train_part_0\\apvzjkvnwn.mp4\n"
     ]
    },
    {
     "name": "stderr",
     "output_type": "stream",
     "text": [
      "Processing 500 videos:  43%|████▎     | 216/500 [3:32:51<4:42:57, 59.78s/it]"
     ]
    },
    {
     "name": "stdout",
     "output_type": "stream",
     "text": [
      "C:\\Users\\mahes\\ML\\dataset\\data unziped\\dfdc_train_part_0\\qyqufaskjs.mp4\n",
      "C:\\Users\\mahes\\ML\\dataset\\data unziped\\dfdc_train_part_0\\qyqufaskjs.mp4\n",
      "C:\\Users\\mahes\\ML\\dataset\\data unziped\\dfdc_train_part_0\\qyqufaskjs.mp4\n",
      "C:\\Users\\mahes\\ML\\dataset\\data unziped\\dfdc_train_part_0\\qyqufaskjs.mp4\n",
      "C:\\Users\\mahes\\ML\\dataset\\data unziped\\dfdc_train_part_0\\qyqufaskjs.mp4\n",
      "C:\\Users\\mahes\\ML\\dataset\\data unziped\\dfdc_train_part_0\\qyqufaskjs.mp4\n",
      "C:\\Users\\mahes\\ML\\dataset\\data unziped\\dfdc_train_part_0\\qyqufaskjs.mp4\n",
      "C:\\Users\\mahes\\ML\\dataset\\data unziped\\dfdc_train_part_0\\qyqufaskjs.mp4\n",
      "C:\\Users\\mahes\\ML\\dataset\\data unziped\\dfdc_train_part_0\\qyqufaskjs.mp4\n",
      "C:\\Users\\mahes\\ML\\dataset\\data unziped\\dfdc_train_part_0\\qyqufaskjs.mp4\n"
     ]
    },
    {
     "name": "stderr",
     "output_type": "stream",
     "text": [
      "Processing 500 videos:  43%|████▎     | 217/500 [3:33:58<4:52:23, 61.99s/it]"
     ]
    },
    {
     "name": "stdout",
     "output_type": "stream",
     "text": [
      "C:\\Users\\mahes\\ML\\dataset\\data unziped\\dfdc_train_part_0\\ybbrkacebd.mp4\n",
      "C:\\Users\\mahes\\ML\\dataset\\data unziped\\dfdc_train_part_0\\ybbrkacebd.mp4\n",
      "C:\\Users\\mahes\\ML\\dataset\\data unziped\\dfdc_train_part_0\\ybbrkacebd.mp4\n",
      "C:\\Users\\mahes\\ML\\dataset\\data unziped\\dfdc_train_part_0\\ybbrkacebd.mp4\n",
      "C:\\Users\\mahes\\ML\\dataset\\data unziped\\dfdc_train_part_0\\ybbrkacebd.mp4\n",
      "C:\\Users\\mahes\\ML\\dataset\\data unziped\\dfdc_train_part_0\\ybbrkacebd.mp4\n",
      "C:\\Users\\mahes\\ML\\dataset\\data unziped\\dfdc_train_part_0\\ybbrkacebd.mp4\n",
      "C:\\Users\\mahes\\ML\\dataset\\data unziped\\dfdc_train_part_0\\ybbrkacebd.mp4\n",
      "C:\\Users\\mahes\\ML\\dataset\\data unziped\\dfdc_train_part_0\\ybbrkacebd.mp4\n",
      "C:\\Users\\mahes\\ML\\dataset\\data unziped\\dfdc_train_part_0\\ybbrkacebd.mp4\n"
     ]
    },
    {
     "name": "stderr",
     "output_type": "stream",
     "text": [
      "Processing 500 videos:  44%|████▎     | 218/500 [3:35:11<5:06:15, 65.16s/it]"
     ]
    },
    {
     "name": "stdout",
     "output_type": "stream",
     "text": [
      "C:\\Users\\mahes\\ML\\dataset\\data unziped\\dfdc_train_part_0\\nhsijqpoda.mp4\n",
      "C:\\Users\\mahes\\ML\\dataset\\data unziped\\dfdc_train_part_0\\nhsijqpoda.mp4\n",
      "C:\\Users\\mahes\\ML\\dataset\\data unziped\\dfdc_train_part_0\\nhsijqpoda.mp4\n",
      "C:\\Users\\mahes\\ML\\dataset\\data unziped\\dfdc_train_part_0\\nhsijqpoda.mp4\n",
      "C:\\Users\\mahes\\ML\\dataset\\data unziped\\dfdc_train_part_0\\nhsijqpoda.mp4\n",
      "C:\\Users\\mahes\\ML\\dataset\\data unziped\\dfdc_train_part_0\\nhsijqpoda.mp4\n",
      "C:\\Users\\mahes\\ML\\dataset\\data unziped\\dfdc_train_part_0\\nhsijqpoda.mp4\n",
      "C:\\Users\\mahes\\ML\\dataset\\data unziped\\dfdc_train_part_0\\nhsijqpoda.mp4\n",
      "C:\\Users\\mahes\\ML\\dataset\\data unziped\\dfdc_train_part_0\\nhsijqpoda.mp4\n",
      "C:\\Users\\mahes\\ML\\dataset\\data unziped\\dfdc_train_part_0\\nhsijqpoda.mp4\n"
     ]
    },
    {
     "name": "stderr",
     "output_type": "stream",
     "text": [
      "Processing 500 videos:  44%|████▍     | 219/500 [3:36:15<5:04:20, 64.99s/it]"
     ]
    },
    {
     "name": "stdout",
     "output_type": "stream",
     "text": [
      "C:\\Users\\mahes\\ML\\dataset\\data unziped\\dfdc_train_part_0\\jawgcggquk.mp4\n",
      "C:\\Users\\mahes\\ML\\dataset\\data unziped\\dfdc_train_part_0\\jawgcggquk.mp4\n",
      "C:\\Users\\mahes\\ML\\dataset\\data unziped\\dfdc_train_part_0\\jawgcggquk.mp4\n",
      "C:\\Users\\mahes\\ML\\dataset\\data unziped\\dfdc_train_part_0\\jawgcggquk.mp4\n",
      "C:\\Users\\mahes\\ML\\dataset\\data unziped\\dfdc_train_part_0\\jawgcggquk.mp4\n",
      "C:\\Users\\mahes\\ML\\dataset\\data unziped\\dfdc_train_part_0\\jawgcggquk.mp4\n",
      "C:\\Users\\mahes\\ML\\dataset\\data unziped\\dfdc_train_part_0\\jawgcggquk.mp4\n",
      "C:\\Users\\mahes\\ML\\dataset\\data unziped\\dfdc_train_part_0\\jawgcggquk.mp4\n",
      "C:\\Users\\mahes\\ML\\dataset\\data unziped\\dfdc_train_part_0\\jawgcggquk.mp4\n",
      "C:\\Users\\mahes\\ML\\dataset\\data unziped\\dfdc_train_part_0\\jawgcggquk.mp4\n"
     ]
    },
    {
     "name": "stderr",
     "output_type": "stream",
     "text": [
      "Processing 500 videos:  44%|████▍     | 220/500 [3:37:19<5:01:46, 64.67s/it]"
     ]
    },
    {
     "name": "stdout",
     "output_type": "stream",
     "text": [
      "C:\\Users\\mahes\\ML\\dataset\\data unziped\\dfdc_train_part_0\\sttnfyptum.mp4\n",
      "C:\\Users\\mahes\\ML\\dataset\\data unziped\\dfdc_train_part_0\\sttnfyptum.mp4\n",
      "C:\\Users\\mahes\\ML\\dataset\\data unziped\\dfdc_train_part_0\\sttnfyptum.mp4\n",
      "C:\\Users\\mahes\\ML\\dataset\\data unziped\\dfdc_train_part_0\\sttnfyptum.mp4\n",
      "C:\\Users\\mahes\\ML\\dataset\\data unziped\\dfdc_train_part_0\\sttnfyptum.mp4\n",
      "C:\\Users\\mahes\\ML\\dataset\\data unziped\\dfdc_train_part_0\\sttnfyptum.mp4\n",
      "C:\\Users\\mahes\\ML\\dataset\\data unziped\\dfdc_train_part_0\\sttnfyptum.mp4\n",
      "C:\\Users\\mahes\\ML\\dataset\\data unziped\\dfdc_train_part_0\\sttnfyptum.mp4\n",
      "C:\\Users\\mahes\\ML\\dataset\\data unziped\\dfdc_train_part_0\\sttnfyptum.mp4\n",
      "C:\\Users\\mahes\\ML\\dataset\\data unziped\\dfdc_train_part_0\\sttnfyptum.mp4\n"
     ]
    },
    {
     "name": "stderr",
     "output_type": "stream",
     "text": [
      "Processing 500 videos:  44%|████▍     | 221/500 [3:38:31<5:10:07, 66.69s/it]"
     ]
    },
    {
     "name": "stdout",
     "output_type": "stream",
     "text": [
      "C:\\Users\\mahes\\ML\\dataset\\data unziped\\dfdc_train_part_0\\kqlvggiqee.mp4\n",
      "C:\\Users\\mahes\\ML\\dataset\\data unziped\\dfdc_train_part_0\\kqlvggiqee.mp4\n",
      "C:\\Users\\mahes\\ML\\dataset\\data unziped\\dfdc_train_part_0\\kqlvggiqee.mp4\n",
      "C:\\Users\\mahes\\ML\\dataset\\data unziped\\dfdc_train_part_0\\kqlvggiqee.mp4\n",
      "C:\\Users\\mahes\\ML\\dataset\\data unziped\\dfdc_train_part_0\\kqlvggiqee.mp4\n",
      "C:\\Users\\mahes\\ML\\dataset\\data unziped\\dfdc_train_part_0\\kqlvggiqee.mp4\n",
      "C:\\Users\\mahes\\ML\\dataset\\data unziped\\dfdc_train_part_0\\kqlvggiqee.mp4\n",
      "C:\\Users\\mahes\\ML\\dataset\\data unziped\\dfdc_train_part_0\\kqlvggiqee.mp4\n",
      "C:\\Users\\mahes\\ML\\dataset\\data unziped\\dfdc_train_part_0\\kqlvggiqee.mp4\n",
      "C:\\Users\\mahes\\ML\\dataset\\data unziped\\dfdc_train_part_0\\kqlvggiqee.mp4\n"
     ]
    },
    {
     "name": "stderr",
     "output_type": "stream",
     "text": [
      "Processing 500 videos:  44%|████▍     | 222/500 [3:39:35<5:05:45, 65.99s/it]"
     ]
    },
    {
     "name": "stdout",
     "output_type": "stream",
     "text": [
      "C:\\Users\\mahes\\ML\\dataset\\data unziped\\dfdc_train_part_0\\wcqvzujamg.mp4\n",
      "C:\\Users\\mahes\\ML\\dataset\\data unziped\\dfdc_train_part_0\\wcqvzujamg.mp4\n",
      "C:\\Users\\mahes\\ML\\dataset\\data unziped\\dfdc_train_part_0\\wcqvzujamg.mp4\n",
      "C:\\Users\\mahes\\ML\\dataset\\data unziped\\dfdc_train_part_0\\wcqvzujamg.mp4\n",
      "C:\\Users\\mahes\\ML\\dataset\\data unziped\\dfdc_train_part_0\\wcqvzujamg.mp4\n",
      "C:\\Users\\mahes\\ML\\dataset\\data unziped\\dfdc_train_part_0\\wcqvzujamg.mp4\n",
      "C:\\Users\\mahes\\ML\\dataset\\data unziped\\dfdc_train_part_0\\wcqvzujamg.mp4\n",
      "C:\\Users\\mahes\\ML\\dataset\\data unziped\\dfdc_train_part_0\\wcqvzujamg.mp4\n",
      "C:\\Users\\mahes\\ML\\dataset\\data unziped\\dfdc_train_part_0\\wcqvzujamg.mp4\n",
      "C:\\Users\\mahes\\ML\\dataset\\data unziped\\dfdc_train_part_0\\wcqvzujamg.mp4\n"
     ]
    },
    {
     "name": "stderr",
     "output_type": "stream",
     "text": [
      "Processing 500 videos:  45%|████▍     | 223/500 [3:40:39<5:01:44, 65.36s/it]"
     ]
    },
    {
     "name": "stdout",
     "output_type": "stream",
     "text": [
      "C:\\Users\\mahes\\ML\\dataset\\data unziped\\dfdc_train_part_0\\nhsijqpoda.mp4\n",
      "C:\\Users\\mahes\\ML\\dataset\\data unziped\\dfdc_train_part_0\\nhsijqpoda.mp4\n",
      "C:\\Users\\mahes\\ML\\dataset\\data unziped\\dfdc_train_part_0\\nhsijqpoda.mp4\n",
      "C:\\Users\\mahes\\ML\\dataset\\data unziped\\dfdc_train_part_0\\nhsijqpoda.mp4\n",
      "C:\\Users\\mahes\\ML\\dataset\\data unziped\\dfdc_train_part_0\\nhsijqpoda.mp4\n",
      "C:\\Users\\mahes\\ML\\dataset\\data unziped\\dfdc_train_part_0\\nhsijqpoda.mp4\n",
      "C:\\Users\\mahes\\ML\\dataset\\data unziped\\dfdc_train_part_0\\nhsijqpoda.mp4\n",
      "C:\\Users\\mahes\\ML\\dataset\\data unziped\\dfdc_train_part_0\\nhsijqpoda.mp4\n",
      "C:\\Users\\mahes\\ML\\dataset\\data unziped\\dfdc_train_part_0\\nhsijqpoda.mp4\n",
      "C:\\Users\\mahes\\ML\\dataset\\data unziped\\dfdc_train_part_0\\nhsijqpoda.mp4\n"
     ]
    },
    {
     "name": "stderr",
     "output_type": "stream",
     "text": [
      "Processing 500 videos:  45%|████▍     | 224/500 [3:41:45<5:01:00, 65.44s/it]"
     ]
    },
    {
     "name": "stdout",
     "output_type": "stream",
     "text": [
      "C:\\Users\\mahes\\ML\\dataset\\data unziped\\dfdc_train_part_0\\srfefmyjvt.mp4\n",
      "C:\\Users\\mahes\\ML\\dataset\\data unziped\\dfdc_train_part_0\\srfefmyjvt.mp4\n",
      "C:\\Users\\mahes\\ML\\dataset\\data unziped\\dfdc_train_part_0\\srfefmyjvt.mp4\n",
      "C:\\Users\\mahes\\ML\\dataset\\data unziped\\dfdc_train_part_0\\srfefmyjvt.mp4\n",
      "C:\\Users\\mahes\\ML\\dataset\\data unziped\\dfdc_train_part_0\\srfefmyjvt.mp4\n",
      "C:\\Users\\mahes\\ML\\dataset\\data unziped\\dfdc_train_part_0\\srfefmyjvt.mp4\n",
      "C:\\Users\\mahes\\ML\\dataset\\data unziped\\dfdc_train_part_0\\srfefmyjvt.mp4\n",
      "C:\\Users\\mahes\\ML\\dataset\\data unziped\\dfdc_train_part_0\\srfefmyjvt.mp4\n",
      "C:\\Users\\mahes\\ML\\dataset\\data unziped\\dfdc_train_part_0\\srfefmyjvt.mp4\n",
      "C:\\Users\\mahes\\ML\\dataset\\data unziped\\dfdc_train_part_0\\srfefmyjvt.mp4\n"
     ]
    },
    {
     "name": "stderr",
     "output_type": "stream",
     "text": [
      "Processing 500 videos:  45%|████▌     | 225/500 [3:42:52<5:02:42, 66.05s/it]"
     ]
    },
    {
     "name": "stdout",
     "output_type": "stream",
     "text": [
      "C:\\Users\\mahes\\ML\\dataset\\data unziped\\dfdc_train_part_0\\fdpisghkmd.mp4\n",
      "C:\\Users\\mahes\\ML\\dataset\\data unziped\\dfdc_train_part_0\\fdpisghkmd.mp4\n",
      "C:\\Users\\mahes\\ML\\dataset\\data unziped\\dfdc_train_part_0\\fdpisghkmd.mp4\n",
      "C:\\Users\\mahes\\ML\\dataset\\data unziped\\dfdc_train_part_0\\fdpisghkmd.mp4\n",
      "C:\\Users\\mahes\\ML\\dataset\\data unziped\\dfdc_train_part_0\\fdpisghkmd.mp4\n",
      "C:\\Users\\mahes\\ML\\dataset\\data unziped\\dfdc_train_part_0\\fdpisghkmd.mp4\n",
      "C:\\Users\\mahes\\ML\\dataset\\data unziped\\dfdc_train_part_0\\fdpisghkmd.mp4\n",
      "C:\\Users\\mahes\\ML\\dataset\\data unziped\\dfdc_train_part_0\\fdpisghkmd.mp4\n",
      "C:\\Users\\mahes\\ML\\dataset\\data unziped\\dfdc_train_part_0\\fdpisghkmd.mp4\n",
      "C:\\Users\\mahes\\ML\\dataset\\data unziped\\dfdc_train_part_0\\fdpisghkmd.mp4\n"
     ]
    },
    {
     "name": "stderr",
     "output_type": "stream",
     "text": [
      "Processing 500 videos:  45%|████▌     | 226/500 [3:44:01<5:05:39, 66.93s/it]"
     ]
    },
    {
     "name": "stdout",
     "output_type": "stream",
     "text": [
      "C:\\Users\\mahes\\ML\\dataset\\data unziped\\dfdc_train_part_0\\fnslimfagb.mp4\n",
      "C:\\Users\\mahes\\ML\\dataset\\data unziped\\dfdc_train_part_0\\fnslimfagb.mp4\n",
      "C:\\Users\\mahes\\ML\\dataset\\data unziped\\dfdc_train_part_0\\fnslimfagb.mp4\n",
      "C:\\Users\\mahes\\ML\\dataset\\data unziped\\dfdc_train_part_0\\fnslimfagb.mp4\n",
      "C:\\Users\\mahes\\ML\\dataset\\data unziped\\dfdc_train_part_0\\fnslimfagb.mp4\n",
      "C:\\Users\\mahes\\ML\\dataset\\data unziped\\dfdc_train_part_0\\fnslimfagb.mp4\n",
      "C:\\Users\\mahes\\ML\\dataset\\data unziped\\dfdc_train_part_0\\fnslimfagb.mp4\n",
      "C:\\Users\\mahes\\ML\\dataset\\data unziped\\dfdc_train_part_0\\fnslimfagb.mp4\n",
      "C:\\Users\\mahes\\ML\\dataset\\data unziped\\dfdc_train_part_0\\fnslimfagb.mp4\n",
      "C:\\Users\\mahes\\ML\\dataset\\data unziped\\dfdc_train_part_0\\fnslimfagb.mp4\n"
     ]
    },
    {
     "name": "stderr",
     "output_type": "stream",
     "text": [
      "Processing 500 videos:  45%|████▌     | 227/500 [3:45:18<5:17:27, 69.77s/it]"
     ]
    },
    {
     "name": "stdout",
     "output_type": "stream",
     "text": [
      "C:\\Users\\mahes\\ML\\dataset\\data unziped\\dfdc_train_part_0\\qyqufaskjs.mp4\n",
      "C:\\Users\\mahes\\ML\\dataset\\data unziped\\dfdc_train_part_0\\qyqufaskjs.mp4\n",
      "C:\\Users\\mahes\\ML\\dataset\\data unziped\\dfdc_train_part_0\\qyqufaskjs.mp4\n",
      "C:\\Users\\mahes\\ML\\dataset\\data unziped\\dfdc_train_part_0\\qyqufaskjs.mp4\n",
      "C:\\Users\\mahes\\ML\\dataset\\data unziped\\dfdc_train_part_0\\qyqufaskjs.mp4\n",
      "C:\\Users\\mahes\\ML\\dataset\\data unziped\\dfdc_train_part_0\\qyqufaskjs.mp4\n",
      "C:\\Users\\mahes\\ML\\dataset\\data unziped\\dfdc_train_part_0\\qyqufaskjs.mp4\n",
      "C:\\Users\\mahes\\ML\\dataset\\data unziped\\dfdc_train_part_0\\qyqufaskjs.mp4\n",
      "C:\\Users\\mahes\\ML\\dataset\\data unziped\\dfdc_train_part_0\\qyqufaskjs.mp4\n",
      "C:\\Users\\mahes\\ML\\dataset\\data unziped\\dfdc_train_part_0\\qyqufaskjs.mp4\n"
     ]
    },
    {
     "name": "stderr",
     "output_type": "stream",
     "text": [
      "Processing 500 videos:  46%|████▌     | 228/500 [3:46:29<5:19:00, 70.37s/it]"
     ]
    },
    {
     "name": "stdout",
     "output_type": "stream",
     "text": [
      "C:\\Users\\mahes\\ML\\dataset\\data unziped\\dfdc_train_part_0\\REAL\n",
      "C:\\Users\\mahes\\ML\\dataset\\data unziped\\dfdc_train_part_0\\REAL\n",
      "C:\\Users\\mahes\\ML\\dataset\\data unziped\\dfdc_train_part_0\\REAL\n",
      "C:\\Users\\mahes\\ML\\dataset\\data unziped\\dfdc_train_part_0\\REAL\n",
      "C:\\Users\\mahes\\ML\\dataset\\data unziped\\dfdc_train_part_0\\REAL\n",
      "C:\\Users\\mahes\\ML\\dataset\\data unziped\\dfdc_train_part_0\\REAL\n",
      "C:\\Users\\mahes\\ML\\dataset\\data unziped\\dfdc_train_part_0\\REAL\n",
      "C:\\Users\\mahes\\ML\\dataset\\data unziped\\dfdc_train_part_0\\REAL\n",
      "C:\\Users\\mahes\\ML\\dataset\\data unziped\\dfdc_train_part_0\\REAL\n",
      "C:\\Users\\mahes\\ML\\dataset\\data unziped\\dfdc_train_part_0\\REAL\n"
     ]
    },
    {
     "name": "stderr",
     "output_type": "stream",
     "text": [
      "Processing 500 videos:  46%|████▌     | 229/500 [3:46:41<3:58:06, 52.72s/it]"
     ]
    },
    {
     "name": "stdout",
     "output_type": "stream",
     "text": [
      "C:\\Users\\mahes\\ML\\dataset\\data unziped\\dfdc_train_part_0\\srfefmyjvt.mp4\n",
      "C:\\Users\\mahes\\ML\\dataset\\data unziped\\dfdc_train_part_0\\srfefmyjvt.mp4\n",
      "C:\\Users\\mahes\\ML\\dataset\\data unziped\\dfdc_train_part_0\\srfefmyjvt.mp4\n",
      "C:\\Users\\mahes\\ML\\dataset\\data unziped\\dfdc_train_part_0\\srfefmyjvt.mp4\n",
      "C:\\Users\\mahes\\ML\\dataset\\data unziped\\dfdc_train_part_0\\srfefmyjvt.mp4\n",
      "C:\\Users\\mahes\\ML\\dataset\\data unziped\\dfdc_train_part_0\\srfefmyjvt.mp4\n",
      "C:\\Users\\mahes\\ML\\dataset\\data unziped\\dfdc_train_part_0\\srfefmyjvt.mp4\n",
      "C:\\Users\\mahes\\ML\\dataset\\data unziped\\dfdc_train_part_0\\srfefmyjvt.mp4\n",
      "C:\\Users\\mahes\\ML\\dataset\\data unziped\\dfdc_train_part_0\\srfefmyjvt.mp4\n",
      "C:\\Users\\mahes\\ML\\dataset\\data unziped\\dfdc_train_part_0\\srfefmyjvt.mp4\n"
     ]
    },
    {
     "name": "stderr",
     "output_type": "stream",
     "text": [
      "Processing 500 videos:  46%|████▌     | 230/500 [3:47:50<4:18:55, 57.54s/it]"
     ]
    },
    {
     "name": "stdout",
     "output_type": "stream",
     "text": [
      "C:\\Users\\mahes\\ML\\dataset\\data unziped\\dfdc_train_part_0\\jawgcggquk.mp4\n",
      "C:\\Users\\mahes\\ML\\dataset\\data unziped\\dfdc_train_part_0\\jawgcggquk.mp4\n",
      "C:\\Users\\mahes\\ML\\dataset\\data unziped\\dfdc_train_part_0\\jawgcggquk.mp4\n",
      "C:\\Users\\mahes\\ML\\dataset\\data unziped\\dfdc_train_part_0\\jawgcggquk.mp4\n",
      "C:\\Users\\mahes\\ML\\dataset\\data unziped\\dfdc_train_part_0\\jawgcggquk.mp4\n",
      "C:\\Users\\mahes\\ML\\dataset\\data unziped\\dfdc_train_part_0\\jawgcggquk.mp4\n",
      "C:\\Users\\mahes\\ML\\dataset\\data unziped\\dfdc_train_part_0\\jawgcggquk.mp4\n",
      "C:\\Users\\mahes\\ML\\dataset\\data unziped\\dfdc_train_part_0\\jawgcggquk.mp4\n",
      "C:\\Users\\mahes\\ML\\dataset\\data unziped\\dfdc_train_part_0\\jawgcggquk.mp4\n",
      "C:\\Users\\mahes\\ML\\dataset\\data unziped\\dfdc_train_part_0\\jawgcggquk.mp4\n"
     ]
    },
    {
     "name": "stderr",
     "output_type": "stream",
     "text": [
      "Processing 500 videos:  46%|████▌     | 231/500 [3:48:52<4:24:05, 58.90s/it]"
     ]
    },
    {
     "name": "stdout",
     "output_type": "stream",
     "text": [
      "C:\\Users\\mahes\\ML\\dataset\\data unziped\\dfdc_train_part_0\\REAL\n",
      "C:\\Users\\mahes\\ML\\dataset\\data unziped\\dfdc_train_part_0\\REAL\n",
      "C:\\Users\\mahes\\ML\\dataset\\data unziped\\dfdc_train_part_0\\REAL\n",
      "C:\\Users\\mahes\\ML\\dataset\\data unziped\\dfdc_train_part_0\\REAL\n",
      "C:\\Users\\mahes\\ML\\dataset\\data unziped\\dfdc_train_part_0\\REAL\n",
      "C:\\Users\\mahes\\ML\\dataset\\data unziped\\dfdc_train_part_0\\REAL\n",
      "C:\\Users\\mahes\\ML\\dataset\\data unziped\\dfdc_train_part_0\\REAL\n",
      "C:\\Users\\mahes\\ML\\dataset\\data unziped\\dfdc_train_part_0\\REAL\n",
      "C:\\Users\\mahes\\ML\\dataset\\data unziped\\dfdc_train_part_0\\REAL\n",
      "C:\\Users\\mahes\\ML\\dataset\\data unziped\\dfdc_train_part_0\\REAL\n"
     ]
    },
    {
     "name": "stderr",
     "output_type": "stream",
     "text": [
      "Processing 500 videos:  46%|████▋     | 232/500 [3:49:03<3:18:53, 44.53s/it]"
     ]
    },
    {
     "name": "stdout",
     "output_type": "stream",
     "text": [
      "C:\\Users\\mahes\\ML\\dataset\\data unziped\\dfdc_train_part_0\\dxfdovivlw.mp4\n",
      "C:\\Users\\mahes\\ML\\dataset\\data unziped\\dfdc_train_part_0\\dxfdovivlw.mp4\n",
      "C:\\Users\\mahes\\ML\\dataset\\data unziped\\dfdc_train_part_0\\dxfdovivlw.mp4\n",
      "C:\\Users\\mahes\\ML\\dataset\\data unziped\\dfdc_train_part_0\\dxfdovivlw.mp4\n",
      "C:\\Users\\mahes\\ML\\dataset\\data unziped\\dfdc_train_part_0\\dxfdovivlw.mp4\n",
      "C:\\Users\\mahes\\ML\\dataset\\data unziped\\dfdc_train_part_0\\dxfdovivlw.mp4\n",
      "C:\\Users\\mahes\\ML\\dataset\\data unziped\\dfdc_train_part_0\\dxfdovivlw.mp4\n",
      "C:\\Users\\mahes\\ML\\dataset\\data unziped\\dfdc_train_part_0\\dxfdovivlw.mp4\n",
      "C:\\Users\\mahes\\ML\\dataset\\data unziped\\dfdc_train_part_0\\dxfdovivlw.mp4\n",
      "C:\\Users\\mahes\\ML\\dataset\\data unziped\\dfdc_train_part_0\\dxfdovivlw.mp4\n"
     ]
    },
    {
     "name": "stderr",
     "output_type": "stream",
     "text": [
      "Processing 500 videos:  47%|████▋     | 233/500 [3:50:08<3:45:30, 50.68s/it]"
     ]
    },
    {
     "name": "stdout",
     "output_type": "stream",
     "text": [
      "C:\\Users\\mahes\\ML\\dataset\\data unziped\\dfdc_train_part_0\\nrnklcxdzq.mp4\n",
      "C:\\Users\\mahes\\ML\\dataset\\data unziped\\dfdc_train_part_0\\nrnklcxdzq.mp4\n",
      "C:\\Users\\mahes\\ML\\dataset\\data unziped\\dfdc_train_part_0\\nrnklcxdzq.mp4\n",
      "C:\\Users\\mahes\\ML\\dataset\\data unziped\\dfdc_train_part_0\\nrnklcxdzq.mp4\n",
      "C:\\Users\\mahes\\ML\\dataset\\data unziped\\dfdc_train_part_0\\nrnklcxdzq.mp4\n",
      "C:\\Users\\mahes\\ML\\dataset\\data unziped\\dfdc_train_part_0\\nrnklcxdzq.mp4\n",
      "C:\\Users\\mahes\\ML\\dataset\\data unziped\\dfdc_train_part_0\\nrnklcxdzq.mp4\n",
      "C:\\Users\\mahes\\ML\\dataset\\data unziped\\dfdc_train_part_0\\nrnklcxdzq.mp4\n",
      "C:\\Users\\mahes\\ML\\dataset\\data unziped\\dfdc_train_part_0\\nrnklcxdzq.mp4\n",
      "C:\\Users\\mahes\\ML\\dataset\\data unziped\\dfdc_train_part_0\\nrnklcxdzq.mp4\n"
     ]
    },
    {
     "name": "stderr",
     "output_type": "stream",
     "text": [
      "Processing 500 videos:  47%|████▋     | 234/500 [3:51:20<4:14:00, 57.29s/it]"
     ]
    },
    {
     "name": "stdout",
     "output_type": "stream",
     "text": [
      "C:\\Users\\mahes\\ML\\dataset\\data unziped\\dfdc_train_part_0\\gnmmhlbzge.mp4\n",
      "C:\\Users\\mahes\\ML\\dataset\\data unziped\\dfdc_train_part_0\\gnmmhlbzge.mp4\n",
      "C:\\Users\\mahes\\ML\\dataset\\data unziped\\dfdc_train_part_0\\gnmmhlbzge.mp4\n",
      "C:\\Users\\mahes\\ML\\dataset\\data unziped\\dfdc_train_part_0\\gnmmhlbzge.mp4\n",
      "C:\\Users\\mahes\\ML\\dataset\\data unziped\\dfdc_train_part_0\\gnmmhlbzge.mp4\n",
      "C:\\Users\\mahes\\ML\\dataset\\data unziped\\dfdc_train_part_0\\gnmmhlbzge.mp4\n",
      "C:\\Users\\mahes\\ML\\dataset\\data unziped\\dfdc_train_part_0\\gnmmhlbzge.mp4\n",
      "C:\\Users\\mahes\\ML\\dataset\\data unziped\\dfdc_train_part_0\\gnmmhlbzge.mp4\n",
      "C:\\Users\\mahes\\ML\\dataset\\data unziped\\dfdc_train_part_0\\gnmmhlbzge.mp4\n",
      "C:\\Users\\mahes\\ML\\dataset\\data unziped\\dfdc_train_part_0\\gnmmhlbzge.mp4\n"
     ]
    },
    {
     "name": "stderr",
     "output_type": "stream",
     "text": [
      "Processing 500 videos:  47%|████▋     | 235/500 [3:52:24<4:21:21, 59.18s/it]"
     ]
    },
    {
     "name": "stdout",
     "output_type": "stream",
     "text": [
      "C:\\Users\\mahes\\ML\\dataset\\data unziped\\dfdc_train_part_0\\rnpefxwptv.mp4\n",
      "C:\\Users\\mahes\\ML\\dataset\\data unziped\\dfdc_train_part_0\\rnpefxwptv.mp4\n",
      "C:\\Users\\mahes\\ML\\dataset\\data unziped\\dfdc_train_part_0\\rnpefxwptv.mp4\n",
      "C:\\Users\\mahes\\ML\\dataset\\data unziped\\dfdc_train_part_0\\rnpefxwptv.mp4\n",
      "C:\\Users\\mahes\\ML\\dataset\\data unziped\\dfdc_train_part_0\\rnpefxwptv.mp4\n",
      "C:\\Users\\mahes\\ML\\dataset\\data unziped\\dfdc_train_part_0\\rnpefxwptv.mp4\n",
      "C:\\Users\\mahes\\ML\\dataset\\data unziped\\dfdc_train_part_0\\rnpefxwptv.mp4\n",
      "C:\\Users\\mahes\\ML\\dataset\\data unziped\\dfdc_train_part_0\\rnpefxwptv.mp4\n",
      "C:\\Users\\mahes\\ML\\dataset\\data unziped\\dfdc_train_part_0\\rnpefxwptv.mp4\n",
      "C:\\Users\\mahes\\ML\\dataset\\data unziped\\dfdc_train_part_0\\rnpefxwptv.mp4\n"
     ]
    },
    {
     "name": "stderr",
     "output_type": "stream",
     "text": [
      "Processing 500 videos:  47%|████▋     | 236/500 [3:53:36<4:36:59, 62.95s/it]"
     ]
    },
    {
     "name": "stdout",
     "output_type": "stream",
     "text": [
      "C:\\Users\\mahes\\ML\\dataset\\data unziped\\dfdc_train_part_0\\dpevefkefv.mp4\n",
      "C:\\Users\\mahes\\ML\\dataset\\data unziped\\dfdc_train_part_0\\dpevefkefv.mp4\n",
      "C:\\Users\\mahes\\ML\\dataset\\data unziped\\dfdc_train_part_0\\dpevefkefv.mp4\n",
      "C:\\Users\\mahes\\ML\\dataset\\data unziped\\dfdc_train_part_0\\dpevefkefv.mp4\n",
      "C:\\Users\\mahes\\ML\\dataset\\data unziped\\dfdc_train_part_0\\dpevefkefv.mp4\n",
      "C:\\Users\\mahes\\ML\\dataset\\data unziped\\dfdc_train_part_0\\dpevefkefv.mp4\n",
      "C:\\Users\\mahes\\ML\\dataset\\data unziped\\dfdc_train_part_0\\dpevefkefv.mp4\n",
      "C:\\Users\\mahes\\ML\\dataset\\data unziped\\dfdc_train_part_0\\dpevefkefv.mp4\n",
      "C:\\Users\\mahes\\ML\\dataset\\data unziped\\dfdc_train_part_0\\dpevefkefv.mp4\n",
      "C:\\Users\\mahes\\ML\\dataset\\data unziped\\dfdc_train_part_0\\dpevefkefv.mp4\n"
     ]
    },
    {
     "name": "stderr",
     "output_type": "stream",
     "text": [
      "Processing 500 videos:  47%|████▋     | 237/500 [3:54:54<4:55:27, 67.40s/it]"
     ]
    },
    {
     "name": "stdout",
     "output_type": "stream",
     "text": [
      "C:\\Users\\mahes\\ML\\dataset\\data unziped\\dfdc_train_part_0\\fdpisghkmd.mp4\n",
      "C:\\Users\\mahes\\ML\\dataset\\data unziped\\dfdc_train_part_0\\fdpisghkmd.mp4\n",
      "C:\\Users\\mahes\\ML\\dataset\\data unziped\\dfdc_train_part_0\\fdpisghkmd.mp4\n",
      "C:\\Users\\mahes\\ML\\dataset\\data unziped\\dfdc_train_part_0\\fdpisghkmd.mp4\n",
      "C:\\Users\\mahes\\ML\\dataset\\data unziped\\dfdc_train_part_0\\fdpisghkmd.mp4\n",
      "C:\\Users\\mahes\\ML\\dataset\\data unziped\\dfdc_train_part_0\\fdpisghkmd.mp4\n",
      "C:\\Users\\mahes\\ML\\dataset\\data unziped\\dfdc_train_part_0\\fdpisghkmd.mp4\n",
      "C:\\Users\\mahes\\ML\\dataset\\data unziped\\dfdc_train_part_0\\fdpisghkmd.mp4\n",
      "C:\\Users\\mahes\\ML\\dataset\\data unziped\\dfdc_train_part_0\\fdpisghkmd.mp4\n",
      "C:\\Users\\mahes\\ML\\dataset\\data unziped\\dfdc_train_part_0\\fdpisghkmd.mp4\n"
     ]
    },
    {
     "name": "stderr",
     "output_type": "stream",
     "text": [
      "Processing 500 videos:  48%|████▊     | 238/500 [3:56:00<4:52:56, 67.09s/it]"
     ]
    },
    {
     "name": "stdout",
     "output_type": "stream",
     "text": [
      "C:\\Users\\mahes\\ML\\dataset\\data unziped\\dfdc_train_part_0\\wynotylpnm.mp4\n",
      "C:\\Users\\mahes\\ML\\dataset\\data unziped\\dfdc_train_part_0\\wynotylpnm.mp4\n",
      "C:\\Users\\mahes\\ML\\dataset\\data unziped\\dfdc_train_part_0\\wynotylpnm.mp4\n",
      "C:\\Users\\mahes\\ML\\dataset\\data unziped\\dfdc_train_part_0\\wynotylpnm.mp4\n",
      "C:\\Users\\mahes\\ML\\dataset\\data unziped\\dfdc_train_part_0\\wynotylpnm.mp4\n",
      "C:\\Users\\mahes\\ML\\dataset\\data unziped\\dfdc_train_part_0\\wynotylpnm.mp4\n",
      "C:\\Users\\mahes\\ML\\dataset\\data unziped\\dfdc_train_part_0\\wynotylpnm.mp4\n",
      "C:\\Users\\mahes\\ML\\dataset\\data unziped\\dfdc_train_part_0\\wynotylpnm.mp4\n",
      "C:\\Users\\mahes\\ML\\dataset\\data unziped\\dfdc_train_part_0\\wynotylpnm.mp4\n",
      "C:\\Users\\mahes\\ML\\dataset\\data unziped\\dfdc_train_part_0\\wynotylpnm.mp4\n"
     ]
    },
    {
     "name": "stderr",
     "output_type": "stream",
     "text": [
      "Processing 500 videos:  48%|████▊     | 239/500 [3:57:10<4:55:53, 68.02s/it]"
     ]
    },
    {
     "name": "stdout",
     "output_type": "stream",
     "text": [
      "C:\\Users\\mahes\\ML\\dataset\\data unziped\\dfdc_train_part_0\\rmufsuogzn.mp4\n",
      "C:\\Users\\mahes\\ML\\dataset\\data unziped\\dfdc_train_part_0\\rmufsuogzn.mp4\n",
      "C:\\Users\\mahes\\ML\\dataset\\data unziped\\dfdc_train_part_0\\rmufsuogzn.mp4\n",
      "C:\\Users\\mahes\\ML\\dataset\\data unziped\\dfdc_train_part_0\\rmufsuogzn.mp4\n",
      "C:\\Users\\mahes\\ML\\dataset\\data unziped\\dfdc_train_part_0\\rmufsuogzn.mp4\n",
      "C:\\Users\\mahes\\ML\\dataset\\data unziped\\dfdc_train_part_0\\rmufsuogzn.mp4\n",
      "C:\\Users\\mahes\\ML\\dataset\\data unziped\\dfdc_train_part_0\\rmufsuogzn.mp4\n",
      "C:\\Users\\mahes\\ML\\dataset\\data unziped\\dfdc_train_part_0\\rmufsuogzn.mp4\n",
      "C:\\Users\\mahes\\ML\\dataset\\data unziped\\dfdc_train_part_0\\rmufsuogzn.mp4\n",
      "C:\\Users\\mahes\\ML\\dataset\\data unziped\\dfdc_train_part_0\\rmufsuogzn.mp4\n"
     ]
    },
    {
     "name": "stderr",
     "output_type": "stream",
     "text": [
      "Processing 500 videos:  48%|████▊     | 240/500 [3:58:26<5:04:38, 70.30s/it]"
     ]
    },
    {
     "name": "stdout",
     "output_type": "stream",
     "text": [
      "C:\\Users\\mahes\\ML\\dataset\\data unziped\\dfdc_train_part_0\\xmkwsnuzyq.mp4\n",
      "C:\\Users\\mahes\\ML\\dataset\\data unziped\\dfdc_train_part_0\\xmkwsnuzyq.mp4\n",
      "C:\\Users\\mahes\\ML\\dataset\\data unziped\\dfdc_train_part_0\\xmkwsnuzyq.mp4\n",
      "C:\\Users\\mahes\\ML\\dataset\\data unziped\\dfdc_train_part_0\\xmkwsnuzyq.mp4\n",
      "C:\\Users\\mahes\\ML\\dataset\\data unziped\\dfdc_train_part_0\\xmkwsnuzyq.mp4\n",
      "C:\\Users\\mahes\\ML\\dataset\\data unziped\\dfdc_train_part_0\\xmkwsnuzyq.mp4\n",
      "C:\\Users\\mahes\\ML\\dataset\\data unziped\\dfdc_train_part_0\\xmkwsnuzyq.mp4\n",
      "C:\\Users\\mahes\\ML\\dataset\\data unziped\\dfdc_train_part_0\\xmkwsnuzyq.mp4\n",
      "C:\\Users\\mahes\\ML\\dataset\\data unziped\\dfdc_train_part_0\\xmkwsnuzyq.mp4\n",
      "C:\\Users\\mahes\\ML\\dataset\\data unziped\\dfdc_train_part_0\\xmkwsnuzyq.mp4\n"
     ]
    },
    {
     "name": "stderr",
     "output_type": "stream",
     "text": [
      "Processing 500 videos:  48%|████▊     | 241/500 [3:59:40<5:08:10, 71.39s/it]"
     ]
    },
    {
     "name": "stdout",
     "output_type": "stream",
     "text": [
      "C:\\Users\\mahes\\ML\\dataset\\data unziped\\dfdc_train_part_0\\uprwuohbwx.mp4\n",
      "C:\\Users\\mahes\\ML\\dataset\\data unziped\\dfdc_train_part_0\\uprwuohbwx.mp4\n",
      "C:\\Users\\mahes\\ML\\dataset\\data unziped\\dfdc_train_part_0\\uprwuohbwx.mp4\n",
      "C:\\Users\\mahes\\ML\\dataset\\data unziped\\dfdc_train_part_0\\uprwuohbwx.mp4\n",
      "C:\\Users\\mahes\\ML\\dataset\\data unziped\\dfdc_train_part_0\\uprwuohbwx.mp4\n",
      "C:\\Users\\mahes\\ML\\dataset\\data unziped\\dfdc_train_part_0\\uprwuohbwx.mp4\n",
      "C:\\Users\\mahes\\ML\\dataset\\data unziped\\dfdc_train_part_0\\uprwuohbwx.mp4\n",
      "C:\\Users\\mahes\\ML\\dataset\\data unziped\\dfdc_train_part_0\\uprwuohbwx.mp4\n",
      "C:\\Users\\mahes\\ML\\dataset\\data unziped\\dfdc_train_part_0\\uprwuohbwx.mp4\n",
      "C:\\Users\\mahes\\ML\\dataset\\data unziped\\dfdc_train_part_0\\uprwuohbwx.mp4\n"
     ]
    },
    {
     "name": "stderr",
     "output_type": "stream",
     "text": [
      "Processing 500 videos:  48%|████▊     | 242/500 [4:01:01<5:19:18, 74.26s/it]"
     ]
    },
    {
     "name": "stdout",
     "output_type": "stream",
     "text": [
      "C:\\Users\\mahes\\ML\\dataset\\data unziped\\dfdc_train_part_0\\jytrvwlewz.mp4\n",
      "C:\\Users\\mahes\\ML\\dataset\\data unziped\\dfdc_train_part_0\\jytrvwlewz.mp4\n",
      "C:\\Users\\mahes\\ML\\dataset\\data unziped\\dfdc_train_part_0\\jytrvwlewz.mp4\n",
      "C:\\Users\\mahes\\ML\\dataset\\data unziped\\dfdc_train_part_0\\jytrvwlewz.mp4\n",
      "C:\\Users\\mahes\\ML\\dataset\\data unziped\\dfdc_train_part_0\\jytrvwlewz.mp4\n",
      "C:\\Users\\mahes\\ML\\dataset\\data unziped\\dfdc_train_part_0\\jytrvwlewz.mp4\n",
      "C:\\Users\\mahes\\ML\\dataset\\data unziped\\dfdc_train_part_0\\jytrvwlewz.mp4\n",
      "C:\\Users\\mahes\\ML\\dataset\\data unziped\\dfdc_train_part_0\\jytrvwlewz.mp4\n",
      "C:\\Users\\mahes\\ML\\dataset\\data unziped\\dfdc_train_part_0\\jytrvwlewz.mp4\n",
      "C:\\Users\\mahes\\ML\\dataset\\data unziped\\dfdc_train_part_0\\jytrvwlewz.mp4\n"
     ]
    },
    {
     "name": "stderr",
     "output_type": "stream",
     "text": [
      "Processing 500 videos:  49%|████▊     | 243/500 [4:02:13<5:16:19, 73.85s/it]"
     ]
    },
    {
     "name": "stdout",
     "output_type": "stream",
     "text": [
      "C:\\Users\\mahes\\ML\\dataset\\data unziped\\dfdc_train_part_0\\jawgcggquk.mp4\n",
      "C:\\Users\\mahes\\ML\\dataset\\data unziped\\dfdc_train_part_0\\jawgcggquk.mp4\n",
      "C:\\Users\\mahes\\ML\\dataset\\data unziped\\dfdc_train_part_0\\jawgcggquk.mp4\n",
      "C:\\Users\\mahes\\ML\\dataset\\data unziped\\dfdc_train_part_0\\jawgcggquk.mp4\n",
      "C:\\Users\\mahes\\ML\\dataset\\data unziped\\dfdc_train_part_0\\jawgcggquk.mp4\n",
      "C:\\Users\\mahes\\ML\\dataset\\data unziped\\dfdc_train_part_0\\jawgcggquk.mp4\n",
      "C:\\Users\\mahes\\ML\\dataset\\data unziped\\dfdc_train_part_0\\jawgcggquk.mp4\n",
      "C:\\Users\\mahes\\ML\\dataset\\data unziped\\dfdc_train_part_0\\jawgcggquk.mp4\n",
      "C:\\Users\\mahes\\ML\\dataset\\data unziped\\dfdc_train_part_0\\jawgcggquk.mp4\n",
      "C:\\Users\\mahes\\ML\\dataset\\data unziped\\dfdc_train_part_0\\jawgcggquk.mp4\n"
     ]
    },
    {
     "name": "stderr",
     "output_type": "stream",
     "text": [
      "Processing 500 videos:  49%|████▉     | 244/500 [4:03:15<4:59:55, 70.29s/it]"
     ]
    },
    {
     "name": "stdout",
     "output_type": "stream",
     "text": [
      "C:\\Users\\mahes\\ML\\dataset\\data unziped\\dfdc_train_part_0\\wynotylpnm.mp4\n",
      "C:\\Users\\mahes\\ML\\dataset\\data unziped\\dfdc_train_part_0\\wynotylpnm.mp4\n",
      "C:\\Users\\mahes\\ML\\dataset\\data unziped\\dfdc_train_part_0\\wynotylpnm.mp4\n",
      "C:\\Users\\mahes\\ML\\dataset\\data unziped\\dfdc_train_part_0\\wynotylpnm.mp4\n",
      "C:\\Users\\mahes\\ML\\dataset\\data unziped\\dfdc_train_part_0\\wynotylpnm.mp4\n",
      "C:\\Users\\mahes\\ML\\dataset\\data unziped\\dfdc_train_part_0\\wynotylpnm.mp4\n",
      "C:\\Users\\mahes\\ML\\dataset\\data unziped\\dfdc_train_part_0\\wynotylpnm.mp4\n",
      "C:\\Users\\mahes\\ML\\dataset\\data unziped\\dfdc_train_part_0\\wynotylpnm.mp4\n",
      "C:\\Users\\mahes\\ML\\dataset\\data unziped\\dfdc_train_part_0\\wynotylpnm.mp4\n",
      "C:\\Users\\mahes\\ML\\dataset\\data unziped\\dfdc_train_part_0\\wynotylpnm.mp4\n"
     ]
    },
    {
     "name": "stderr",
     "output_type": "stream",
     "text": [
      "Processing 500 videos:  49%|████▉     | 245/500 [4:04:24<4:56:06, 69.67s/it]"
     ]
    },
    {
     "name": "stdout",
     "output_type": "stream",
     "text": [
      "C:\\Users\\mahes\\ML\\dataset\\data unziped\\dfdc_train_part_0\\fnslimfagb.mp4\n",
      "C:\\Users\\mahes\\ML\\dataset\\data unziped\\dfdc_train_part_0\\fnslimfagb.mp4\n",
      "C:\\Users\\mahes\\ML\\dataset\\data unziped\\dfdc_train_part_0\\fnslimfagb.mp4\n",
      "C:\\Users\\mahes\\ML\\dataset\\data unziped\\dfdc_train_part_0\\fnslimfagb.mp4\n",
      "C:\\Users\\mahes\\ML\\dataset\\data unziped\\dfdc_train_part_0\\fnslimfagb.mp4\n",
      "C:\\Users\\mahes\\ML\\dataset\\data unziped\\dfdc_train_part_0\\fnslimfagb.mp4\n",
      "C:\\Users\\mahes\\ML\\dataset\\data unziped\\dfdc_train_part_0\\fnslimfagb.mp4\n",
      "C:\\Users\\mahes\\ML\\dataset\\data unziped\\dfdc_train_part_0\\fnslimfagb.mp4\n",
      "C:\\Users\\mahes\\ML\\dataset\\data unziped\\dfdc_train_part_0\\fnslimfagb.mp4\n",
      "C:\\Users\\mahes\\ML\\dataset\\data unziped\\dfdc_train_part_0\\fnslimfagb.mp4\n"
     ]
    },
    {
     "name": "stderr",
     "output_type": "stream",
     "text": [
      "Processing 500 videos:  49%|████▉     | 246/500 [4:05:42<5:05:41, 72.21s/it]"
     ]
    },
    {
     "name": "stdout",
     "output_type": "stream",
     "text": [
      "C:\\Users\\mahes\\ML\\dataset\\data unziped\\dfdc_train_part_0\\REAL\n",
      "C:\\Users\\mahes\\ML\\dataset\\data unziped\\dfdc_train_part_0\\REAL\n",
      "C:\\Users\\mahes\\ML\\dataset\\data unziped\\dfdc_train_part_0\\REAL\n",
      "C:\\Users\\mahes\\ML\\dataset\\data unziped\\dfdc_train_part_0\\REAL\n",
      "C:\\Users\\mahes\\ML\\dataset\\data unziped\\dfdc_train_part_0\\REAL\n",
      "C:\\Users\\mahes\\ML\\dataset\\data unziped\\dfdc_train_part_0\\REAL\n",
      "C:\\Users\\mahes\\ML\\dataset\\data unziped\\dfdc_train_part_0\\REAL\n",
      "C:\\Users\\mahes\\ML\\dataset\\data unziped\\dfdc_train_part_0\\REAL\n",
      "C:\\Users\\mahes\\ML\\dataset\\data unziped\\dfdc_train_part_0\\REAL\n",
      "C:\\Users\\mahes\\ML\\dataset\\data unziped\\dfdc_train_part_0\\REAL\n"
     ]
    },
    {
     "name": "stderr",
     "output_type": "stream",
     "text": [
      "Processing 500 videos:  49%|████▉     | 247/500 [4:05:55<3:49:27, 54.42s/it]"
     ]
    },
    {
     "name": "stdout",
     "output_type": "stream",
     "text": [
      "C:\\Users\\mahes\\ML\\dataset\\data unziped\\dfdc_train_part_0\\gvasarkpfh.mp4\n",
      "C:\\Users\\mahes\\ML\\dataset\\data unziped\\dfdc_train_part_0\\gvasarkpfh.mp4\n",
      "C:\\Users\\mahes\\ML\\dataset\\data unziped\\dfdc_train_part_0\\gvasarkpfh.mp4\n",
      "C:\\Users\\mahes\\ML\\dataset\\data unziped\\dfdc_train_part_0\\gvasarkpfh.mp4\n",
      "C:\\Users\\mahes\\ML\\dataset\\data unziped\\dfdc_train_part_0\\gvasarkpfh.mp4\n",
      "C:\\Users\\mahes\\ML\\dataset\\data unziped\\dfdc_train_part_0\\gvasarkpfh.mp4\n",
      "C:\\Users\\mahes\\ML\\dataset\\data unziped\\dfdc_train_part_0\\gvasarkpfh.mp4\n",
      "C:\\Users\\mahes\\ML\\dataset\\data unziped\\dfdc_train_part_0\\gvasarkpfh.mp4\n",
      "C:\\Users\\mahes\\ML\\dataset\\data unziped\\dfdc_train_part_0\\gvasarkpfh.mp4\n",
      "C:\\Users\\mahes\\ML\\dataset\\data unziped\\dfdc_train_part_0\\gvasarkpfh.mp4\n"
     ]
    },
    {
     "name": "stderr",
     "output_type": "stream",
     "text": [
      "Processing 500 videos:  50%|████▉     | 248/500 [4:07:04<4:07:22, 58.90s/it]"
     ]
    },
    {
     "name": "stdout",
     "output_type": "stream",
     "text": [
      "C:\\Users\\mahes\\ML\\dataset\\data unziped\\dfdc_train_part_0\\dhjnjkzuhq.mp4\n",
      "C:\\Users\\mahes\\ML\\dataset\\data unziped\\dfdc_train_part_0\\dhjnjkzuhq.mp4\n",
      "C:\\Users\\mahes\\ML\\dataset\\data unziped\\dfdc_train_part_0\\dhjnjkzuhq.mp4\n",
      "C:\\Users\\mahes\\ML\\dataset\\data unziped\\dfdc_train_part_0\\dhjnjkzuhq.mp4\n",
      "C:\\Users\\mahes\\ML\\dataset\\data unziped\\dfdc_train_part_0\\dhjnjkzuhq.mp4\n",
      "C:\\Users\\mahes\\ML\\dataset\\data unziped\\dfdc_train_part_0\\dhjnjkzuhq.mp4\n",
      "C:\\Users\\mahes\\ML\\dataset\\data unziped\\dfdc_train_part_0\\dhjnjkzuhq.mp4\n",
      "C:\\Users\\mahes\\ML\\dataset\\data unziped\\dfdc_train_part_0\\dhjnjkzuhq.mp4\n",
      "C:\\Users\\mahes\\ML\\dataset\\data unziped\\dfdc_train_part_0\\dhjnjkzuhq.mp4\n",
      "C:\\Users\\mahes\\ML\\dataset\\data unziped\\dfdc_train_part_0\\dhjnjkzuhq.mp4\n"
     ]
    },
    {
     "name": "stderr",
     "output_type": "stream",
     "text": [
      "Processing 500 videos:  50%|████▉     | 249/500 [4:08:17<4:24:20, 63.19s/it]"
     ]
    },
    {
     "name": "stdout",
     "output_type": "stream",
     "text": [
      "C:\\Users\\mahes\\ML\\dataset\\data unziped\\dfdc_train_part_0\\lnhkjhyhvw.mp4\n",
      "C:\\Users\\mahes\\ML\\dataset\\data unziped\\dfdc_train_part_0\\lnhkjhyhvw.mp4\n",
      "C:\\Users\\mahes\\ML\\dataset\\data unziped\\dfdc_train_part_0\\lnhkjhyhvw.mp4\n",
      "C:\\Users\\mahes\\ML\\dataset\\data unziped\\dfdc_train_part_0\\lnhkjhyhvw.mp4\n",
      "C:\\Users\\mahes\\ML\\dataset\\data unziped\\dfdc_train_part_0\\lnhkjhyhvw.mp4\n",
      "C:\\Users\\mahes\\ML\\dataset\\data unziped\\dfdc_train_part_0\\lnhkjhyhvw.mp4\n",
      "C:\\Users\\mahes\\ML\\dataset\\data unziped\\dfdc_train_part_0\\lnhkjhyhvw.mp4\n",
      "C:\\Users\\mahes\\ML\\dataset\\data unziped\\dfdc_train_part_0\\lnhkjhyhvw.mp4\n",
      "C:\\Users\\mahes\\ML\\dataset\\data unziped\\dfdc_train_part_0\\lnhkjhyhvw.mp4\n",
      "C:\\Users\\mahes\\ML\\dataset\\data unziped\\dfdc_train_part_0\\lnhkjhyhvw.mp4\n"
     ]
    },
    {
     "name": "stderr",
     "output_type": "stream",
     "text": [
      "Processing 500 videos:  50%|█████     | 250/500 [4:09:36<4:42:34, 67.82s/it]"
     ]
    },
    {
     "name": "stdout",
     "output_type": "stream",
     "text": [
      "C:\\Users\\mahes\\ML\\dataset\\data unziped\\dfdc_train_part_0\\qarqtkvgby.mp4\n",
      "C:\\Users\\mahes\\ML\\dataset\\data unziped\\dfdc_train_part_0\\qarqtkvgby.mp4\n",
      "C:\\Users\\mahes\\ML\\dataset\\data unziped\\dfdc_train_part_0\\qarqtkvgby.mp4\n",
      "C:\\Users\\mahes\\ML\\dataset\\data unziped\\dfdc_train_part_0\\qarqtkvgby.mp4\n",
      "C:\\Users\\mahes\\ML\\dataset\\data unziped\\dfdc_train_part_0\\qarqtkvgby.mp4\n",
      "C:\\Users\\mahes\\ML\\dataset\\data unziped\\dfdc_train_part_0\\qarqtkvgby.mp4\n",
      "C:\\Users\\mahes\\ML\\dataset\\data unziped\\dfdc_train_part_0\\qarqtkvgby.mp4\n",
      "C:\\Users\\mahes\\ML\\dataset\\data unziped\\dfdc_train_part_0\\qarqtkvgby.mp4\n",
      "C:\\Users\\mahes\\ML\\dataset\\data unziped\\dfdc_train_part_0\\qarqtkvgby.mp4\n",
      "C:\\Users\\mahes\\ML\\dataset\\data unziped\\dfdc_train_part_0\\qarqtkvgby.mp4\n"
     ]
    },
    {
     "name": "stderr",
     "output_type": "stream",
     "text": [
      "Processing 500 videos:  50%|█████     | 251/500 [4:10:45<4:43:21, 68.28s/it]"
     ]
    },
    {
     "name": "stdout",
     "output_type": "stream",
     "text": [
      "C:\\Users\\mahes\\ML\\dataset\\data unziped\\dfdc_train_part_0\\nrnklcxdzq.mp4\n",
      "C:\\Users\\mahes\\ML\\dataset\\data unziped\\dfdc_train_part_0\\nrnklcxdzq.mp4\n",
      "C:\\Users\\mahes\\ML\\dataset\\data unziped\\dfdc_train_part_0\\nrnklcxdzq.mp4\n",
      "C:\\Users\\mahes\\ML\\dataset\\data unziped\\dfdc_train_part_0\\nrnklcxdzq.mp4\n",
      "C:\\Users\\mahes\\ML\\dataset\\data unziped\\dfdc_train_part_0\\nrnklcxdzq.mp4\n",
      "C:\\Users\\mahes\\ML\\dataset\\data unziped\\dfdc_train_part_0\\nrnklcxdzq.mp4\n",
      "C:\\Users\\mahes\\ML\\dataset\\data unziped\\dfdc_train_part_0\\nrnklcxdzq.mp4\n",
      "C:\\Users\\mahes\\ML\\dataset\\data unziped\\dfdc_train_part_0\\nrnklcxdzq.mp4\n",
      "C:\\Users\\mahes\\ML\\dataset\\data unziped\\dfdc_train_part_0\\nrnklcxdzq.mp4\n",
      "C:\\Users\\mahes\\ML\\dataset\\data unziped\\dfdc_train_part_0\\nrnklcxdzq.mp4\n"
     ]
    },
    {
     "name": "stderr",
     "output_type": "stream",
     "text": [
      "Processing 500 videos:  50%|█████     | 252/500 [4:12:00<4:50:00, 70.16s/it]"
     ]
    },
    {
     "name": "stdout",
     "output_type": "stream",
     "text": [
      "C:\\Users\\mahes\\ML\\dataset\\data unziped\\dfdc_train_part_0\\ucthmsajay.mp4\n",
      "C:\\Users\\mahes\\ML\\dataset\\data unziped\\dfdc_train_part_0\\ucthmsajay.mp4\n",
      "C:\\Users\\mahes\\ML\\dataset\\data unziped\\dfdc_train_part_0\\ucthmsajay.mp4\n",
      "C:\\Users\\mahes\\ML\\dataset\\data unziped\\dfdc_train_part_0\\ucthmsajay.mp4\n",
      "C:\\Users\\mahes\\ML\\dataset\\data unziped\\dfdc_train_part_0\\ucthmsajay.mp4\n",
      "C:\\Users\\mahes\\ML\\dataset\\data unziped\\dfdc_train_part_0\\ucthmsajay.mp4\n",
      "C:\\Users\\mahes\\ML\\dataset\\data unziped\\dfdc_train_part_0\\ucthmsajay.mp4\n",
      "C:\\Users\\mahes\\ML\\dataset\\data unziped\\dfdc_train_part_0\\ucthmsajay.mp4\n",
      "C:\\Users\\mahes\\ML\\dataset\\data unziped\\dfdc_train_part_0\\ucthmsajay.mp4\n",
      "C:\\Users\\mahes\\ML\\dataset\\data unziped\\dfdc_train_part_0\\ucthmsajay.mp4\n"
     ]
    },
    {
     "name": "stderr",
     "output_type": "stream",
     "text": [
      "Processing 500 videos:  51%|█████     | 253/500 [4:13:13<4:52:35, 71.08s/it]"
     ]
    },
    {
     "name": "stdout",
     "output_type": "stream",
     "text": [
      "C:\\Users\\mahes\\ML\\dataset\\data unziped\\dfdc_train_part_0\\wynotylpnm.mp4\n",
      "C:\\Users\\mahes\\ML\\dataset\\data unziped\\dfdc_train_part_0\\wynotylpnm.mp4\n",
      "C:\\Users\\mahes\\ML\\dataset\\data unziped\\dfdc_train_part_0\\wynotylpnm.mp4\n",
      "C:\\Users\\mahes\\ML\\dataset\\data unziped\\dfdc_train_part_0\\wynotylpnm.mp4\n",
      "C:\\Users\\mahes\\ML\\dataset\\data unziped\\dfdc_train_part_0\\wynotylpnm.mp4\n",
      "C:\\Users\\mahes\\ML\\dataset\\data unziped\\dfdc_train_part_0\\wynotylpnm.mp4\n",
      "C:\\Users\\mahes\\ML\\dataset\\data unziped\\dfdc_train_part_0\\wynotylpnm.mp4\n",
      "C:\\Users\\mahes\\ML\\dataset\\data unziped\\dfdc_train_part_0\\wynotylpnm.mp4\n",
      "C:\\Users\\mahes\\ML\\dataset\\data unziped\\dfdc_train_part_0\\wynotylpnm.mp4\n",
      "C:\\Users\\mahes\\ML\\dataset\\data unziped\\dfdc_train_part_0\\wynotylpnm.mp4\n"
     ]
    },
    {
     "name": "stderr",
     "output_type": "stream",
     "text": [
      "Processing 500 videos:  51%|█████     | 254/500 [4:14:22<4:48:29, 70.36s/it]"
     ]
    },
    {
     "name": "stdout",
     "output_type": "stream",
     "text": [
      "C:\\Users\\mahes\\ML\\dataset\\data unziped\\dfdc_train_part_0\\hicjuubiau.mp4\n",
      "C:\\Users\\mahes\\ML\\dataset\\data unziped\\dfdc_train_part_0\\hicjuubiau.mp4\n",
      "C:\\Users\\mahes\\ML\\dataset\\data unziped\\dfdc_train_part_0\\hicjuubiau.mp4\n",
      "C:\\Users\\mahes\\ML\\dataset\\data unziped\\dfdc_train_part_0\\hicjuubiau.mp4\n",
      "C:\\Users\\mahes\\ML\\dataset\\data unziped\\dfdc_train_part_0\\hicjuubiau.mp4\n",
      "C:\\Users\\mahes\\ML\\dataset\\data unziped\\dfdc_train_part_0\\hicjuubiau.mp4\n",
      "C:\\Users\\mahes\\ML\\dataset\\data unziped\\dfdc_train_part_0\\hicjuubiau.mp4\n",
      "C:\\Users\\mahes\\ML\\dataset\\data unziped\\dfdc_train_part_0\\hicjuubiau.mp4\n",
      "C:\\Users\\mahes\\ML\\dataset\\data unziped\\dfdc_train_part_0\\hicjuubiau.mp4\n",
      "C:\\Users\\mahes\\ML\\dataset\\data unziped\\dfdc_train_part_0\\hicjuubiau.mp4\n"
     ]
    },
    {
     "name": "stderr",
     "output_type": "stream",
     "text": [
      "Processing 500 videos:  51%|█████     | 255/500 [4:15:34<4:50:06, 71.05s/it]"
     ]
    },
    {
     "name": "stdout",
     "output_type": "stream",
     "text": [
      "C:\\Users\\mahes\\ML\\dataset\\data unziped\\dfdc_train_part_0\\srfefmyjvt.mp4\n",
      "C:\\Users\\mahes\\ML\\dataset\\data unziped\\dfdc_train_part_0\\srfefmyjvt.mp4\n",
      "C:\\Users\\mahes\\ML\\dataset\\data unziped\\dfdc_train_part_0\\srfefmyjvt.mp4\n",
      "C:\\Users\\mahes\\ML\\dataset\\data unziped\\dfdc_train_part_0\\srfefmyjvt.mp4\n",
      "C:\\Users\\mahes\\ML\\dataset\\data unziped\\dfdc_train_part_0\\srfefmyjvt.mp4\n",
      "C:\\Users\\mahes\\ML\\dataset\\data unziped\\dfdc_train_part_0\\srfefmyjvt.mp4\n",
      "C:\\Users\\mahes\\ML\\dataset\\data unziped\\dfdc_train_part_0\\srfefmyjvt.mp4\n",
      "C:\\Users\\mahes\\ML\\dataset\\data unziped\\dfdc_train_part_0\\srfefmyjvt.mp4\n",
      "C:\\Users\\mahes\\ML\\dataset\\data unziped\\dfdc_train_part_0\\srfefmyjvt.mp4\n",
      "C:\\Users\\mahes\\ML\\dataset\\data unziped\\dfdc_train_part_0\\srfefmyjvt.mp4\n"
     ]
    },
    {
     "name": "stderr",
     "output_type": "stream",
     "text": [
      "Processing 500 videos:  51%|█████     | 256/500 [4:16:39<4:41:29, 69.22s/it]"
     ]
    },
    {
     "name": "stdout",
     "output_type": "stream",
     "text": [
      "C:\\Users\\mahes\\ML\\dataset\\data unziped\\dfdc_train_part_0\\apvzjkvnwn.mp4\n",
      "C:\\Users\\mahes\\ML\\dataset\\data unziped\\dfdc_train_part_0\\apvzjkvnwn.mp4\n",
      "C:\\Users\\mahes\\ML\\dataset\\data unziped\\dfdc_train_part_0\\apvzjkvnwn.mp4\n",
      "C:\\Users\\mahes\\ML\\dataset\\data unziped\\dfdc_train_part_0\\apvzjkvnwn.mp4\n",
      "C:\\Users\\mahes\\ML\\dataset\\data unziped\\dfdc_train_part_0\\apvzjkvnwn.mp4\n",
      "C:\\Users\\mahes\\ML\\dataset\\data unziped\\dfdc_train_part_0\\apvzjkvnwn.mp4\n",
      "C:\\Users\\mahes\\ML\\dataset\\data unziped\\dfdc_train_part_0\\apvzjkvnwn.mp4\n",
      "C:\\Users\\mahes\\ML\\dataset\\data unziped\\dfdc_train_part_0\\apvzjkvnwn.mp4\n",
      "C:\\Users\\mahes\\ML\\dataset\\data unziped\\dfdc_train_part_0\\apvzjkvnwn.mp4\n",
      "C:\\Users\\mahes\\ML\\dataset\\data unziped\\dfdc_train_part_0\\apvzjkvnwn.mp4\n"
     ]
    },
    {
     "name": "stderr",
     "output_type": "stream",
     "text": [
      "Processing 500 videos:  51%|█████▏    | 257/500 [4:17:55<4:48:26, 71.22s/it]"
     ]
    },
    {
     "name": "stdout",
     "output_type": "stream",
     "text": [
      "C:\\Users\\mahes\\ML\\dataset\\data unziped\\dfdc_train_part_0\\qarqtkvgby.mp4\n",
      "C:\\Users\\mahes\\ML\\dataset\\data unziped\\dfdc_train_part_0\\qarqtkvgby.mp4\n",
      "C:\\Users\\mahes\\ML\\dataset\\data unziped\\dfdc_train_part_0\\qarqtkvgby.mp4\n",
      "C:\\Users\\mahes\\ML\\dataset\\data unziped\\dfdc_train_part_0\\qarqtkvgby.mp4\n",
      "C:\\Users\\mahes\\ML\\dataset\\data unziped\\dfdc_train_part_0\\qarqtkvgby.mp4\n",
      "C:\\Users\\mahes\\ML\\dataset\\data unziped\\dfdc_train_part_0\\qarqtkvgby.mp4\n",
      "C:\\Users\\mahes\\ML\\dataset\\data unziped\\dfdc_train_part_0\\qarqtkvgby.mp4\n",
      "C:\\Users\\mahes\\ML\\dataset\\data unziped\\dfdc_train_part_0\\qarqtkvgby.mp4\n",
      "C:\\Users\\mahes\\ML\\dataset\\data unziped\\dfdc_train_part_0\\qarqtkvgby.mp4\n",
      "C:\\Users\\mahes\\ML\\dataset\\data unziped\\dfdc_train_part_0\\qarqtkvgby.mp4\n"
     ]
    },
    {
     "name": "stderr",
     "output_type": "stream",
     "text": [
      "Processing 500 videos:  52%|█████▏    | 258/500 [4:18:39<4:14:09, 63.01s/it]"
     ]
    },
    {
     "name": "stdout",
     "output_type": "stream",
     "text": [
      "C:\\Users\\mahes\\ML\\dataset\\data unziped\\dfdc_train_part_0\\fsaronfupy.mp4\n",
      "C:\\Users\\mahes\\ML\\dataset\\data unziped\\dfdc_train_part_0\\fsaronfupy.mp4\n",
      "C:\\Users\\mahes\\ML\\dataset\\data unziped\\dfdc_train_part_0\\fsaronfupy.mp4\n",
      "C:\\Users\\mahes\\ML\\dataset\\data unziped\\dfdc_train_part_0\\fsaronfupy.mp4\n",
      "C:\\Users\\mahes\\ML\\dataset\\data unziped\\dfdc_train_part_0\\fsaronfupy.mp4\n",
      "C:\\Users\\mahes\\ML\\dataset\\data unziped\\dfdc_train_part_0\\fsaronfupy.mp4\n",
      "C:\\Users\\mahes\\ML\\dataset\\data unziped\\dfdc_train_part_0\\fsaronfupy.mp4\n",
      "C:\\Users\\mahes\\ML\\dataset\\data unziped\\dfdc_train_part_0\\fsaronfupy.mp4\n",
      "C:\\Users\\mahes\\ML\\dataset\\data unziped\\dfdc_train_part_0\\fsaronfupy.mp4\n",
      "C:\\Users\\mahes\\ML\\dataset\\data unziped\\dfdc_train_part_0\\fsaronfupy.mp4\n"
     ]
    },
    {
     "name": "stderr",
     "output_type": "stream",
     "text": [
      "Processing 500 videos:  52%|█████▏    | 259/500 [4:19:22<3:48:42, 56.94s/it]"
     ]
    },
    {
     "name": "stdout",
     "output_type": "stream",
     "text": [
      "C:\\Users\\mahes\\ML\\dataset\\data unziped\\dfdc_train_part_0\\upmgtackuf.mp4\n",
      "C:\\Users\\mahes\\ML\\dataset\\data unziped\\dfdc_train_part_0\\upmgtackuf.mp4\n",
      "C:\\Users\\mahes\\ML\\dataset\\data unziped\\dfdc_train_part_0\\upmgtackuf.mp4\n",
      "C:\\Users\\mahes\\ML\\dataset\\data unziped\\dfdc_train_part_0\\upmgtackuf.mp4\n",
      "C:\\Users\\mahes\\ML\\dataset\\data unziped\\dfdc_train_part_0\\upmgtackuf.mp4\n",
      "C:\\Users\\mahes\\ML\\dataset\\data unziped\\dfdc_train_part_0\\upmgtackuf.mp4\n",
      "C:\\Users\\mahes\\ML\\dataset\\data unziped\\dfdc_train_part_0\\upmgtackuf.mp4\n",
      "C:\\Users\\mahes\\ML\\dataset\\data unziped\\dfdc_train_part_0\\upmgtackuf.mp4\n",
      "C:\\Users\\mahes\\ML\\dataset\\data unziped\\dfdc_train_part_0\\upmgtackuf.mp4\n",
      "C:\\Users\\mahes\\ML\\dataset\\data unziped\\dfdc_train_part_0\\upmgtackuf.mp4\n"
     ]
    },
    {
     "name": "stderr",
     "output_type": "stream",
     "text": [
      "Processing 500 videos:  52%|█████▏    | 260/500 [4:20:09<3:35:55, 53.98s/it]"
     ]
    },
    {
     "name": "stdout",
     "output_type": "stream",
     "text": [
      "C:\\Users\\mahes\\ML\\dataset\\data unziped\\dfdc_train_part_0\\upmgtackuf.mp4\n",
      "C:\\Users\\mahes\\ML\\dataset\\data unziped\\dfdc_train_part_0\\upmgtackuf.mp4\n",
      "C:\\Users\\mahes\\ML\\dataset\\data unziped\\dfdc_train_part_0\\upmgtackuf.mp4\n",
      "C:\\Users\\mahes\\ML\\dataset\\data unziped\\dfdc_train_part_0\\upmgtackuf.mp4\n",
      "C:\\Users\\mahes\\ML\\dataset\\data unziped\\dfdc_train_part_0\\upmgtackuf.mp4\n",
      "C:\\Users\\mahes\\ML\\dataset\\data unziped\\dfdc_train_part_0\\upmgtackuf.mp4\n",
      "C:\\Users\\mahes\\ML\\dataset\\data unziped\\dfdc_train_part_0\\upmgtackuf.mp4\n",
      "C:\\Users\\mahes\\ML\\dataset\\data unziped\\dfdc_train_part_0\\upmgtackuf.mp4\n",
      "C:\\Users\\mahes\\ML\\dataset\\data unziped\\dfdc_train_part_0\\upmgtackuf.mp4\n",
      "C:\\Users\\mahes\\ML\\dataset\\data unziped\\dfdc_train_part_0\\upmgtackuf.mp4\n"
     ]
    },
    {
     "name": "stderr",
     "output_type": "stream",
     "text": [
      "Processing 500 videos:  52%|█████▏    | 261/500 [4:20:56<3:27:03, 51.98s/it]"
     ]
    },
    {
     "name": "stdout",
     "output_type": "stream",
     "text": [
      "C:\\Users\\mahes\\ML\\dataset\\data unziped\\dfdc_train_part_0\\fdpisghkmd.mp4\n",
      "C:\\Users\\mahes\\ML\\dataset\\data unziped\\dfdc_train_part_0\\fdpisghkmd.mp4\n",
      "C:\\Users\\mahes\\ML\\dataset\\data unziped\\dfdc_train_part_0\\fdpisghkmd.mp4\n",
      "C:\\Users\\mahes\\ML\\dataset\\data unziped\\dfdc_train_part_0\\fdpisghkmd.mp4\n",
      "C:\\Users\\mahes\\ML\\dataset\\data unziped\\dfdc_train_part_0\\fdpisghkmd.mp4\n",
      "C:\\Users\\mahes\\ML\\dataset\\data unziped\\dfdc_train_part_0\\fdpisghkmd.mp4\n",
      "C:\\Users\\mahes\\ML\\dataset\\data unziped\\dfdc_train_part_0\\fdpisghkmd.mp4\n",
      "C:\\Users\\mahes\\ML\\dataset\\data unziped\\dfdc_train_part_0\\fdpisghkmd.mp4\n",
      "C:\\Users\\mahes\\ML\\dataset\\data unziped\\dfdc_train_part_0\\fdpisghkmd.mp4\n",
      "C:\\Users\\mahes\\ML\\dataset\\data unziped\\dfdc_train_part_0\\fdpisghkmd.mp4\n"
     ]
    },
    {
     "name": "stderr",
     "output_type": "stream",
     "text": [
      "Processing 500 videos:  52%|█████▏    | 262/500 [4:21:41<3:18:06, 49.94s/it]"
     ]
    },
    {
     "name": "stdout",
     "output_type": "stream",
     "text": [
      "C:\\Users\\mahes\\ML\\dataset\\data unziped\\dfdc_train_part_0\\ucthmsajay.mp4\n",
      "C:\\Users\\mahes\\ML\\dataset\\data unziped\\dfdc_train_part_0\\ucthmsajay.mp4\n",
      "C:\\Users\\mahes\\ML\\dataset\\data unziped\\dfdc_train_part_0\\ucthmsajay.mp4\n",
      "C:\\Users\\mahes\\ML\\dataset\\data unziped\\dfdc_train_part_0\\ucthmsajay.mp4\n",
      "C:\\Users\\mahes\\ML\\dataset\\data unziped\\dfdc_train_part_0\\ucthmsajay.mp4\n",
      "C:\\Users\\mahes\\ML\\dataset\\data unziped\\dfdc_train_part_0\\ucthmsajay.mp4\n",
      "C:\\Users\\mahes\\ML\\dataset\\data unziped\\dfdc_train_part_0\\ucthmsajay.mp4\n",
      "C:\\Users\\mahes\\ML\\dataset\\data unziped\\dfdc_train_part_0\\ucthmsajay.mp4\n",
      "C:\\Users\\mahes\\ML\\dataset\\data unziped\\dfdc_train_part_0\\ucthmsajay.mp4\n",
      "C:\\Users\\mahes\\ML\\dataset\\data unziped\\dfdc_train_part_0\\ucthmsajay.mp4\n"
     ]
    },
    {
     "name": "stderr",
     "output_type": "stream",
     "text": [
      "Processing 500 videos:  53%|█████▎    | 263/500 [4:22:30<3:15:53, 49.59s/it]"
     ]
    },
    {
     "name": "stdout",
     "output_type": "stream",
     "text": [
      "C:\\Users\\mahes\\ML\\dataset\\data unziped\\dfdc_train_part_0\\lnjkpdviqb.mp4\n",
      "C:\\Users\\mahes\\ML\\dataset\\data unziped\\dfdc_train_part_0\\lnjkpdviqb.mp4\n",
      "C:\\Users\\mahes\\ML\\dataset\\data unziped\\dfdc_train_part_0\\lnjkpdviqb.mp4\n",
      "C:\\Users\\mahes\\ML\\dataset\\data unziped\\dfdc_train_part_0\\lnjkpdviqb.mp4\n",
      "C:\\Users\\mahes\\ML\\dataset\\data unziped\\dfdc_train_part_0\\lnjkpdviqb.mp4\n",
      "C:\\Users\\mahes\\ML\\dataset\\data unziped\\dfdc_train_part_0\\lnjkpdviqb.mp4\n",
      "C:\\Users\\mahes\\ML\\dataset\\data unziped\\dfdc_train_part_0\\lnjkpdviqb.mp4\n",
      "C:\\Users\\mahes\\ML\\dataset\\data unziped\\dfdc_train_part_0\\lnjkpdviqb.mp4\n",
      "C:\\Users\\mahes\\ML\\dataset\\data unziped\\dfdc_train_part_0\\lnjkpdviqb.mp4\n",
      "C:\\Users\\mahes\\ML\\dataset\\data unziped\\dfdc_train_part_0\\lnjkpdviqb.mp4\n"
     ]
    },
    {
     "name": "stderr",
     "output_type": "stream",
     "text": [
      "Processing 500 videos:  53%|█████▎    | 264/500 [4:23:20<3:15:09, 49.62s/it]"
     ]
    },
    {
     "name": "stdout",
     "output_type": "stream",
     "text": [
      "C:\\Users\\mahes\\ML\\dataset\\data unziped\\dfdc_train_part_0\\rktrpsdlci.mp4\n",
      "C:\\Users\\mahes\\ML\\dataset\\data unziped\\dfdc_train_part_0\\rktrpsdlci.mp4\n",
      "C:\\Users\\mahes\\ML\\dataset\\data unziped\\dfdc_train_part_0\\rktrpsdlci.mp4\n",
      "C:\\Users\\mahes\\ML\\dataset\\data unziped\\dfdc_train_part_0\\rktrpsdlci.mp4\n",
      "C:\\Users\\mahes\\ML\\dataset\\data unziped\\dfdc_train_part_0\\rktrpsdlci.mp4\n",
      "C:\\Users\\mahes\\ML\\dataset\\data unziped\\dfdc_train_part_0\\rktrpsdlci.mp4\n",
      "C:\\Users\\mahes\\ML\\dataset\\data unziped\\dfdc_train_part_0\\rktrpsdlci.mp4\n",
      "C:\\Users\\mahes\\ML\\dataset\\data unziped\\dfdc_train_part_0\\rktrpsdlci.mp4\n",
      "C:\\Users\\mahes\\ML\\dataset\\data unziped\\dfdc_train_part_0\\rktrpsdlci.mp4\n",
      "C:\\Users\\mahes\\ML\\dataset\\data unziped\\dfdc_train_part_0\\rktrpsdlci.mp4\n"
     ]
    },
    {
     "name": "stderr",
     "output_type": "stream",
     "text": [
      "Processing 500 videos:  53%|█████▎    | 265/500 [4:24:01<3:04:19, 47.06s/it]"
     ]
    },
    {
     "name": "stdout",
     "output_type": "stream",
     "text": [
      "C:\\Users\\mahes\\ML\\dataset\\data unziped\\dfdc_train_part_0\\wfzjxzhdkj.mp4\n",
      "C:\\Users\\mahes\\ML\\dataset\\data unziped\\dfdc_train_part_0\\wfzjxzhdkj.mp4\n",
      "C:\\Users\\mahes\\ML\\dataset\\data unziped\\dfdc_train_part_0\\wfzjxzhdkj.mp4\n",
      "C:\\Users\\mahes\\ML\\dataset\\data unziped\\dfdc_train_part_0\\wfzjxzhdkj.mp4\n",
      "C:\\Users\\mahes\\ML\\dataset\\data unziped\\dfdc_train_part_0\\wfzjxzhdkj.mp4\n",
      "C:\\Users\\mahes\\ML\\dataset\\data unziped\\dfdc_train_part_0\\wfzjxzhdkj.mp4\n",
      "C:\\Users\\mahes\\ML\\dataset\\data unziped\\dfdc_train_part_0\\wfzjxzhdkj.mp4\n",
      "C:\\Users\\mahes\\ML\\dataset\\data unziped\\dfdc_train_part_0\\wfzjxzhdkj.mp4\n",
      "C:\\Users\\mahes\\ML\\dataset\\data unziped\\dfdc_train_part_0\\wfzjxzhdkj.mp4\n",
      "C:\\Users\\mahes\\ML\\dataset\\data unziped\\dfdc_train_part_0\\wfzjxzhdkj.mp4\n"
     ]
    },
    {
     "name": "stderr",
     "output_type": "stream",
     "text": [
      "Processing 500 videos:  53%|█████▎    | 266/500 [4:24:49<3:05:07, 47.47s/it]"
     ]
    },
    {
     "name": "stdout",
     "output_type": "stream",
     "text": [
      "C:\\Users\\mahes\\ML\\dataset\\data unziped\\dfdc_train_part_0\\kqlvggiqee.mp4\n",
      "C:\\Users\\mahes\\ML\\dataset\\data unziped\\dfdc_train_part_0\\kqlvggiqee.mp4\n",
      "C:\\Users\\mahes\\ML\\dataset\\data unziped\\dfdc_train_part_0\\kqlvggiqee.mp4\n",
      "C:\\Users\\mahes\\ML\\dataset\\data unziped\\dfdc_train_part_0\\kqlvggiqee.mp4\n",
      "C:\\Users\\mahes\\ML\\dataset\\data unziped\\dfdc_train_part_0\\kqlvggiqee.mp4\n",
      "C:\\Users\\mahes\\ML\\dataset\\data unziped\\dfdc_train_part_0\\kqlvggiqee.mp4\n",
      "C:\\Users\\mahes\\ML\\dataset\\data unziped\\dfdc_train_part_0\\kqlvggiqee.mp4\n",
      "C:\\Users\\mahes\\ML\\dataset\\data unziped\\dfdc_train_part_0\\kqlvggiqee.mp4\n",
      "C:\\Users\\mahes\\ML\\dataset\\data unziped\\dfdc_train_part_0\\kqlvggiqee.mp4\n",
      "C:\\Users\\mahes\\ML\\dataset\\data unziped\\dfdc_train_part_0\\kqlvggiqee.mp4\n"
     ]
    },
    {
     "name": "stderr",
     "output_type": "stream",
     "text": [
      "Processing 500 videos:  53%|█████▎    | 267/500 [4:25:31<2:57:41, 45.76s/it]"
     ]
    },
    {
     "name": "stdout",
     "output_type": "stream",
     "text": [
      "C:\\Users\\mahes\\ML\\dataset\\data unziped\\dfdc_train_part_0\\vpmyeepbep.mp4\n",
      "C:\\Users\\mahes\\ML\\dataset\\data unziped\\dfdc_train_part_0\\vpmyeepbep.mp4\n",
      "C:\\Users\\mahes\\ML\\dataset\\data unziped\\dfdc_train_part_0\\vpmyeepbep.mp4\n",
      "C:\\Users\\mahes\\ML\\dataset\\data unziped\\dfdc_train_part_0\\vpmyeepbep.mp4\n",
      "C:\\Users\\mahes\\ML\\dataset\\data unziped\\dfdc_train_part_0\\vpmyeepbep.mp4\n",
      "C:\\Users\\mahes\\ML\\dataset\\data unziped\\dfdc_train_part_0\\vpmyeepbep.mp4\n",
      "C:\\Users\\mahes\\ML\\dataset\\data unziped\\dfdc_train_part_0\\vpmyeepbep.mp4\n",
      "C:\\Users\\mahes\\ML\\dataset\\data unziped\\dfdc_train_part_0\\vpmyeepbep.mp4\n",
      "C:\\Users\\mahes\\ML\\dataset\\data unziped\\dfdc_train_part_0\\vpmyeepbep.mp4\n",
      "C:\\Users\\mahes\\ML\\dataset\\data unziped\\dfdc_train_part_0\\vpmyeepbep.mp4\n"
     ]
    },
    {
     "name": "stderr",
     "output_type": "stream",
     "text": [
      "Processing 500 videos:  54%|█████▎    | 268/500 [4:26:15<2:54:08, 45.04s/it]"
     ]
    },
    {
     "name": "stdout",
     "output_type": "stream",
     "text": [
      "C:\\Users\\mahes\\ML\\dataset\\data unziped\\dfdc_train_part_0\\yxvmusxvcz.mp4\n",
      "C:\\Users\\mahes\\ML\\dataset\\data unziped\\dfdc_train_part_0\\yxvmusxvcz.mp4\n",
      "C:\\Users\\mahes\\ML\\dataset\\data unziped\\dfdc_train_part_0\\yxvmusxvcz.mp4\n",
      "C:\\Users\\mahes\\ML\\dataset\\data unziped\\dfdc_train_part_0\\yxvmusxvcz.mp4\n",
      "C:\\Users\\mahes\\ML\\dataset\\data unziped\\dfdc_train_part_0\\yxvmusxvcz.mp4\n",
      "C:\\Users\\mahes\\ML\\dataset\\data unziped\\dfdc_train_part_0\\yxvmusxvcz.mp4\n",
      "C:\\Users\\mahes\\ML\\dataset\\data unziped\\dfdc_train_part_0\\yxvmusxvcz.mp4\n",
      "C:\\Users\\mahes\\ML\\dataset\\data unziped\\dfdc_train_part_0\\yxvmusxvcz.mp4\n",
      "C:\\Users\\mahes\\ML\\dataset\\data unziped\\dfdc_train_part_0\\yxvmusxvcz.mp4\n",
      "C:\\Users\\mahes\\ML\\dataset\\data unziped\\dfdc_train_part_0\\yxvmusxvcz.mp4\n"
     ]
    },
    {
     "name": "stderr",
     "output_type": "stream",
     "text": [
      "Processing 500 videos:  54%|█████▍    | 269/500 [4:26:56<2:48:48, 43.85s/it]"
     ]
    },
    {
     "name": "stdout",
     "output_type": "stream",
     "text": [
      "C:\\Users\\mahes\\ML\\dataset\\data unziped\\dfdc_train_part_0\\fsaronfupy.mp4\n",
      "C:\\Users\\mahes\\ML\\dataset\\data unziped\\dfdc_train_part_0\\fsaronfupy.mp4\n",
      "C:\\Users\\mahes\\ML\\dataset\\data unziped\\dfdc_train_part_0\\fsaronfupy.mp4\n",
      "C:\\Users\\mahes\\ML\\dataset\\data unziped\\dfdc_train_part_0\\fsaronfupy.mp4\n",
      "C:\\Users\\mahes\\ML\\dataset\\data unziped\\dfdc_train_part_0\\fsaronfupy.mp4\n",
      "C:\\Users\\mahes\\ML\\dataset\\data unziped\\dfdc_train_part_0\\fsaronfupy.mp4\n",
      "C:\\Users\\mahes\\ML\\dataset\\data unziped\\dfdc_train_part_0\\fsaronfupy.mp4\n",
      "C:\\Users\\mahes\\ML\\dataset\\data unziped\\dfdc_train_part_0\\fsaronfupy.mp4\n",
      "C:\\Users\\mahes\\ML\\dataset\\data unziped\\dfdc_train_part_0\\fsaronfupy.mp4\n",
      "C:\\Users\\mahes\\ML\\dataset\\data unziped\\dfdc_train_part_0\\fsaronfupy.mp4\n"
     ]
    },
    {
     "name": "stderr",
     "output_type": "stream",
     "text": [
      "Processing 500 videos:  54%|█████▍    | 270/500 [4:27:39<2:47:26, 43.68s/it]"
     ]
    },
    {
     "name": "stdout",
     "output_type": "stream",
     "text": [
      "C:\\Users\\mahes\\ML\\dataset\\data unziped\\dfdc_train_part_0\\REAL\n",
      "C:\\Users\\mahes\\ML\\dataset\\data unziped\\dfdc_train_part_0\\REAL\n",
      "C:\\Users\\mahes\\ML\\dataset\\data unziped\\dfdc_train_part_0\\REAL\n",
      "C:\\Users\\mahes\\ML\\dataset\\data unziped\\dfdc_train_part_0\\REAL\n",
      "C:\\Users\\mahes\\ML\\dataset\\data unziped\\dfdc_train_part_0\\REAL\n",
      "C:\\Users\\mahes\\ML\\dataset\\data unziped\\dfdc_train_part_0\\REAL\n",
      "C:\\Users\\mahes\\ML\\dataset\\data unziped\\dfdc_train_part_0\\REAL\n",
      "C:\\Users\\mahes\\ML\\dataset\\data unziped\\dfdc_train_part_0\\REAL\n",
      "C:\\Users\\mahes\\ML\\dataset\\data unziped\\dfdc_train_part_0\\REAL\n"
     ]
    },
    {
     "name": "stderr",
     "output_type": "stream",
     "text": [
      "Processing 500 videos:  54%|█████▍    | 271/500 [4:27:46<2:04:55, 32.73s/it]"
     ]
    },
    {
     "name": "stdout",
     "output_type": "stream",
     "text": [
      "C:\\Users\\mahes\\ML\\dataset\\data unziped\\dfdc_train_part_0\\REAL\n",
      "C:\\Users\\mahes\\ML\\dataset\\data unziped\\dfdc_train_part_0\\vtunvalyji.mp4\n",
      "C:\\Users\\mahes\\ML\\dataset\\data unziped\\dfdc_train_part_0\\vtunvalyji.mp4\n",
      "C:\\Users\\mahes\\ML\\dataset\\data unziped\\dfdc_train_part_0\\vtunvalyji.mp4\n",
      "C:\\Users\\mahes\\ML\\dataset\\data unziped\\dfdc_train_part_0\\vtunvalyji.mp4\n",
      "C:\\Users\\mahes\\ML\\dataset\\data unziped\\dfdc_train_part_0\\vtunvalyji.mp4\n",
      "C:\\Users\\mahes\\ML\\dataset\\data unziped\\dfdc_train_part_0\\vtunvalyji.mp4\n",
      "C:\\Users\\mahes\\ML\\dataset\\data unziped\\dfdc_train_part_0\\vtunvalyji.mp4\n",
      "C:\\Users\\mahes\\ML\\dataset\\data unziped\\dfdc_train_part_0\\vtunvalyji.mp4\n",
      "C:\\Users\\mahes\\ML\\dataset\\data unziped\\dfdc_train_part_0\\vtunvalyji.mp4\n",
      "C:\\Users\\mahes\\ML\\dataset\\data unziped\\dfdc_train_part_0\\vtunvalyji.mp4\n"
     ]
    },
    {
     "name": "stderr",
     "output_type": "stream",
     "text": [
      "Processing 500 videos:  54%|█████▍    | 272/500 [4:28:31<2:17:43, 36.24s/it]"
     ]
    },
    {
     "name": "stdout",
     "output_type": "stream",
     "text": [
      "C:\\Users\\mahes\\ML\\dataset\\data unziped\\dfdc_train_part_0\\hivnldfvyl.mp4\n",
      "C:\\Users\\mahes\\ML\\dataset\\data unziped\\dfdc_train_part_0\\hivnldfvyl.mp4\n",
      "C:\\Users\\mahes\\ML\\dataset\\data unziped\\dfdc_train_part_0\\hivnldfvyl.mp4\n",
      "C:\\Users\\mahes\\ML\\dataset\\data unziped\\dfdc_train_part_0\\hivnldfvyl.mp4\n",
      "C:\\Users\\mahes\\ML\\dataset\\data unziped\\dfdc_train_part_0\\hivnldfvyl.mp4\n",
      "C:\\Users\\mahes\\ML\\dataset\\data unziped\\dfdc_train_part_0\\hivnldfvyl.mp4\n",
      "C:\\Users\\mahes\\ML\\dataset\\data unziped\\dfdc_train_part_0\\hivnldfvyl.mp4\n",
      "C:\\Users\\mahes\\ML\\dataset\\data unziped\\dfdc_train_part_0\\hivnldfvyl.mp4\n",
      "C:\\Users\\mahes\\ML\\dataset\\data unziped\\dfdc_train_part_0\\hivnldfvyl.mp4\n",
      "C:\\Users\\mahes\\ML\\dataset\\data unziped\\dfdc_train_part_0\\hivnldfvyl.mp4\n"
     ]
    },
    {
     "name": "stderr",
     "output_type": "stream",
     "text": [
      "Processing 500 videos:  55%|█████▍    | 273/500 [4:29:18<2:30:01, 39.65s/it]"
     ]
    },
    {
     "name": "stdout",
     "output_type": "stream",
     "text": [
      "C:\\Users\\mahes\\ML\\dataset\\data unziped\\dfdc_train_part_0\\xugmhbetrw.mp4\n",
      "C:\\Users\\mahes\\ML\\dataset\\data unziped\\dfdc_train_part_0\\xugmhbetrw.mp4\n",
      "C:\\Users\\mahes\\ML\\dataset\\data unziped\\dfdc_train_part_0\\xugmhbetrw.mp4\n",
      "C:\\Users\\mahes\\ML\\dataset\\data unziped\\dfdc_train_part_0\\xugmhbetrw.mp4\n",
      "C:\\Users\\mahes\\ML\\dataset\\data unziped\\dfdc_train_part_0\\xugmhbetrw.mp4\n",
      "C:\\Users\\mahes\\ML\\dataset\\data unziped\\dfdc_train_part_0\\xugmhbetrw.mp4\n",
      "C:\\Users\\mahes\\ML\\dataset\\data unziped\\dfdc_train_part_0\\xugmhbetrw.mp4\n",
      "C:\\Users\\mahes\\ML\\dataset\\data unziped\\dfdc_train_part_0\\xugmhbetrw.mp4\n",
      "C:\\Users\\mahes\\ML\\dataset\\data unziped\\dfdc_train_part_0\\xugmhbetrw.mp4\n",
      "C:\\Users\\mahes\\ML\\dataset\\data unziped\\dfdc_train_part_0\\xugmhbetrw.mp4\n"
     ]
    },
    {
     "name": "stderr",
     "output_type": "stream",
     "text": [
      "Processing 500 videos:  55%|█████▍    | 274/500 [4:30:08<2:40:28, 42.61s/it]"
     ]
    },
    {
     "name": "stdout",
     "output_type": "stream",
     "text": [
      "C:\\Users\\mahes\\ML\\dataset\\data unziped\\dfdc_train_part_0\\sttnfyptum.mp4\n",
      "C:\\Users\\mahes\\ML\\dataset\\data unziped\\dfdc_train_part_0\\sttnfyptum.mp4\n",
      "C:\\Users\\mahes\\ML\\dataset\\data unziped\\dfdc_train_part_0\\sttnfyptum.mp4\n",
      "C:\\Users\\mahes\\ML\\dataset\\data unziped\\dfdc_train_part_0\\sttnfyptum.mp4\n",
      "C:\\Users\\mahes\\ML\\dataset\\data unziped\\dfdc_train_part_0\\sttnfyptum.mp4\n",
      "C:\\Users\\mahes\\ML\\dataset\\data unziped\\dfdc_train_part_0\\sttnfyptum.mp4\n",
      "C:\\Users\\mahes\\ML\\dataset\\data unziped\\dfdc_train_part_0\\sttnfyptum.mp4\n",
      "C:\\Users\\mahes\\ML\\dataset\\data unziped\\dfdc_train_part_0\\sttnfyptum.mp4\n",
      "C:\\Users\\mahes\\ML\\dataset\\data unziped\\dfdc_train_part_0\\sttnfyptum.mp4\n",
      "C:\\Users\\mahes\\ML\\dataset\\data unziped\\dfdc_train_part_0\\sttnfyptum.mp4\n"
     ]
    },
    {
     "name": "stderr",
     "output_type": "stream",
     "text": [
      "Processing 500 videos:  55%|█████▌    | 275/500 [4:30:59<2:49:18, 45.15s/it]"
     ]
    },
    {
     "name": "stdout",
     "output_type": "stream",
     "text": [
      "C:\\Users\\mahes\\ML\\dataset\\data unziped\\dfdc_train_part_0\\gnmmhlbzge.mp4\n",
      "C:\\Users\\mahes\\ML\\dataset\\data unziped\\dfdc_train_part_0\\gnmmhlbzge.mp4\n",
      "C:\\Users\\mahes\\ML\\dataset\\data unziped\\dfdc_train_part_0\\gnmmhlbzge.mp4\n",
      "C:\\Users\\mahes\\ML\\dataset\\data unziped\\dfdc_train_part_0\\gnmmhlbzge.mp4\n",
      "C:\\Users\\mahes\\ML\\dataset\\data unziped\\dfdc_train_part_0\\gnmmhlbzge.mp4\n",
      "C:\\Users\\mahes\\ML\\dataset\\data unziped\\dfdc_train_part_0\\gnmmhlbzge.mp4\n",
      "C:\\Users\\mahes\\ML\\dataset\\data unziped\\dfdc_train_part_0\\gnmmhlbzge.mp4\n",
      "C:\\Users\\mahes\\ML\\dataset\\data unziped\\dfdc_train_part_0\\gnmmhlbzge.mp4\n",
      "C:\\Users\\mahes\\ML\\dataset\\data unziped\\dfdc_train_part_0\\gnmmhlbzge.mp4\n",
      "C:\\Users\\mahes\\ML\\dataset\\data unziped\\dfdc_train_part_0\\gnmmhlbzge.mp4\n"
     ]
    },
    {
     "name": "stderr",
     "output_type": "stream",
     "text": [
      "Processing 500 videos:  55%|█████▌    | 276/500 [4:31:40<2:44:08, 43.97s/it]"
     ]
    },
    {
     "name": "stdout",
     "output_type": "stream",
     "text": [
      "C:\\Users\\mahes\\ML\\dataset\\data unziped\\dfdc_train_part_0\\gvasarkpfh.mp4\n",
      "C:\\Users\\mahes\\ML\\dataset\\data unziped\\dfdc_train_part_0\\gvasarkpfh.mp4\n",
      "C:\\Users\\mahes\\ML\\dataset\\data unziped\\dfdc_train_part_0\\gvasarkpfh.mp4\n",
      "C:\\Users\\mahes\\ML\\dataset\\data unziped\\dfdc_train_part_0\\gvasarkpfh.mp4\n",
      "C:\\Users\\mahes\\ML\\dataset\\data unziped\\dfdc_train_part_0\\gvasarkpfh.mp4\n",
      "C:\\Users\\mahes\\ML\\dataset\\data unziped\\dfdc_train_part_0\\gvasarkpfh.mp4\n",
      "C:\\Users\\mahes\\ML\\dataset\\data unziped\\dfdc_train_part_0\\gvasarkpfh.mp4\n",
      "C:\\Users\\mahes\\ML\\dataset\\data unziped\\dfdc_train_part_0\\gvasarkpfh.mp4\n",
      "C:\\Users\\mahes\\ML\\dataset\\data unziped\\dfdc_train_part_0\\gvasarkpfh.mp4\n",
      "C:\\Users\\mahes\\ML\\dataset\\data unziped\\dfdc_train_part_0\\gvasarkpfh.mp4\n"
     ]
    },
    {
     "name": "stderr",
     "output_type": "stream",
     "text": [
      "Processing 500 videos:  55%|█████▌    | 277/500 [4:32:25<2:44:37, 44.30s/it]"
     ]
    },
    {
     "name": "stdout",
     "output_type": "stream",
     "text": [
      "C:\\Users\\mahes\\ML\\dataset\\data unziped\\dfdc_train_part_0\\jawgcggquk.mp4\n",
      "C:\\Users\\mahes\\ML\\dataset\\data unziped\\dfdc_train_part_0\\jawgcggquk.mp4\n",
      "C:\\Users\\mahes\\ML\\dataset\\data unziped\\dfdc_train_part_0\\jawgcggquk.mp4\n",
      "C:\\Users\\mahes\\ML\\dataset\\data unziped\\dfdc_train_part_0\\jawgcggquk.mp4\n",
      "C:\\Users\\mahes\\ML\\dataset\\data unziped\\dfdc_train_part_0\\jawgcggquk.mp4\n",
      "C:\\Users\\mahes\\ML\\dataset\\data unziped\\dfdc_train_part_0\\jawgcggquk.mp4\n",
      "C:\\Users\\mahes\\ML\\dataset\\data unziped\\dfdc_train_part_0\\jawgcggquk.mp4\n",
      "C:\\Users\\mahes\\ML\\dataset\\data unziped\\dfdc_train_part_0\\jawgcggquk.mp4\n",
      "C:\\Users\\mahes\\ML\\dataset\\data unziped\\dfdc_train_part_0\\jawgcggquk.mp4\n",
      "C:\\Users\\mahes\\ML\\dataset\\data unziped\\dfdc_train_part_0\\jawgcggquk.mp4\n"
     ]
    },
    {
     "name": "stderr",
     "output_type": "stream",
     "text": [
      "Processing 500 videos:  56%|█████▌    | 278/500 [4:33:06<2:40:45, 43.45s/it]"
     ]
    },
    {
     "name": "stdout",
     "output_type": "stream",
     "text": [
      "C:\\Users\\mahes\\ML\\dataset\\data unziped\\dfdc_train_part_0\\nweufafotd.mp4\n",
      "C:\\Users\\mahes\\ML\\dataset\\data unziped\\dfdc_train_part_0\\nweufafotd.mp4\n",
      "C:\\Users\\mahes\\ML\\dataset\\data unziped\\dfdc_train_part_0\\nweufafotd.mp4\n",
      "C:\\Users\\mahes\\ML\\dataset\\data unziped\\dfdc_train_part_0\\nweufafotd.mp4\n",
      "C:\\Users\\mahes\\ML\\dataset\\data unziped\\dfdc_train_part_0\\nweufafotd.mp4\n",
      "C:\\Users\\mahes\\ML\\dataset\\data unziped\\dfdc_train_part_0\\nweufafotd.mp4\n",
      "C:\\Users\\mahes\\ML\\dataset\\data unziped\\dfdc_train_part_0\\nweufafotd.mp4\n",
      "C:\\Users\\mahes\\ML\\dataset\\data unziped\\dfdc_train_part_0\\nweufafotd.mp4\n",
      "C:\\Users\\mahes\\ML\\dataset\\data unziped\\dfdc_train_part_0\\nweufafotd.mp4\n",
      "C:\\Users\\mahes\\ML\\dataset\\data unziped\\dfdc_train_part_0\\nweufafotd.mp4\n"
     ]
    },
    {
     "name": "stderr",
     "output_type": "stream",
     "text": [
      "Processing 500 videos:  56%|█████▌    | 279/500 [4:33:56<2:47:16, 45.41s/it]"
     ]
    },
    {
     "name": "stdout",
     "output_type": "stream",
     "text": [
      "C:\\Users\\mahes\\ML\\dataset\\data unziped\\dfdc_train_part_0\\xdezcezszc.mp4\n",
      "C:\\Users\\mahes\\ML\\dataset\\data unziped\\dfdc_train_part_0\\xdezcezszc.mp4\n",
      "C:\\Users\\mahes\\ML\\dataset\\data unziped\\dfdc_train_part_0\\xdezcezszc.mp4\n",
      "C:\\Users\\mahes\\ML\\dataset\\data unziped\\dfdc_train_part_0\\xdezcezszc.mp4\n",
      "C:\\Users\\mahes\\ML\\dataset\\data unziped\\dfdc_train_part_0\\xdezcezszc.mp4\n",
      "C:\\Users\\mahes\\ML\\dataset\\data unziped\\dfdc_train_part_0\\xdezcezszc.mp4\n",
      "C:\\Users\\mahes\\ML\\dataset\\data unziped\\dfdc_train_part_0\\xdezcezszc.mp4\n",
      "C:\\Users\\mahes\\ML\\dataset\\data unziped\\dfdc_train_part_0\\xdezcezszc.mp4\n",
      "C:\\Users\\mahes\\ML\\dataset\\data unziped\\dfdc_train_part_0\\xdezcezszc.mp4\n",
      "C:\\Users\\mahes\\ML\\dataset\\data unziped\\dfdc_train_part_0\\xdezcezszc.mp4\n"
     ]
    },
    {
     "name": "stderr",
     "output_type": "stream",
     "text": [
      "Processing 500 videos:  56%|█████▌    | 280/500 [4:34:45<2:49:32, 46.24s/it]"
     ]
    },
    {
     "name": "stdout",
     "output_type": "stream",
     "text": [
      "C:\\Users\\mahes\\ML\\dataset\\data unziped\\dfdc_train_part_0\\fsaronfupy.mp4\n",
      "C:\\Users\\mahes\\ML\\dataset\\data unziped\\dfdc_train_part_0\\fsaronfupy.mp4\n",
      "C:\\Users\\mahes\\ML\\dataset\\data unziped\\dfdc_train_part_0\\fsaronfupy.mp4\n",
      "C:\\Users\\mahes\\ML\\dataset\\data unziped\\dfdc_train_part_0\\fsaronfupy.mp4\n",
      "C:\\Users\\mahes\\ML\\dataset\\data unziped\\dfdc_train_part_0\\fsaronfupy.mp4\n",
      "C:\\Users\\mahes\\ML\\dataset\\data unziped\\dfdc_train_part_0\\fsaronfupy.mp4\n",
      "C:\\Users\\mahes\\ML\\dataset\\data unziped\\dfdc_train_part_0\\fsaronfupy.mp4\n",
      "C:\\Users\\mahes\\ML\\dataset\\data unziped\\dfdc_train_part_0\\fsaronfupy.mp4\n",
      "C:\\Users\\mahes\\ML\\dataset\\data unziped\\dfdc_train_part_0\\fsaronfupy.mp4\n",
      "C:\\Users\\mahes\\ML\\dataset\\data unziped\\dfdc_train_part_0\\fsaronfupy.mp4\n"
     ]
    },
    {
     "name": "stderr",
     "output_type": "stream",
     "text": [
      "Processing 500 videos:  56%|█████▌    | 281/500 [4:35:27<2:45:04, 45.22s/it]"
     ]
    },
    {
     "name": "stdout",
     "output_type": "stream",
     "text": [
      "C:\\Users\\mahes\\ML\\dataset\\data unziped\\dfdc_train_part_0\\gvasarkpfh.mp4\n",
      "C:\\Users\\mahes\\ML\\dataset\\data unziped\\dfdc_train_part_0\\gvasarkpfh.mp4\n",
      "C:\\Users\\mahes\\ML\\dataset\\data unziped\\dfdc_train_part_0\\gvasarkpfh.mp4\n",
      "C:\\Users\\mahes\\ML\\dataset\\data unziped\\dfdc_train_part_0\\gvasarkpfh.mp4\n",
      "C:\\Users\\mahes\\ML\\dataset\\data unziped\\dfdc_train_part_0\\gvasarkpfh.mp4\n",
      "C:\\Users\\mahes\\ML\\dataset\\data unziped\\dfdc_train_part_0\\gvasarkpfh.mp4\n",
      "C:\\Users\\mahes\\ML\\dataset\\data unziped\\dfdc_train_part_0\\gvasarkpfh.mp4\n",
      "C:\\Users\\mahes\\ML\\dataset\\data unziped\\dfdc_train_part_0\\gvasarkpfh.mp4\n",
      "C:\\Users\\mahes\\ML\\dataset\\data unziped\\dfdc_train_part_0\\gvasarkpfh.mp4\n",
      "C:\\Users\\mahes\\ML\\dataset\\data unziped\\dfdc_train_part_0\\gvasarkpfh.mp4\n"
     ]
    },
    {
     "name": "stderr",
     "output_type": "stream",
     "text": [
      "Processing 500 videos:  56%|█████▋    | 282/500 [4:36:13<2:44:42, 45.33s/it]"
     ]
    },
    {
     "name": "stdout",
     "output_type": "stream",
     "text": [
      "C:\\Users\\mahes\\ML\\dataset\\data unziped\\dfdc_train_part_0\\hivnldfvyl.mp4\n",
      "C:\\Users\\mahes\\ML\\dataset\\data unziped\\dfdc_train_part_0\\hivnldfvyl.mp4\n",
      "C:\\Users\\mahes\\ML\\dataset\\data unziped\\dfdc_train_part_0\\hivnldfvyl.mp4\n",
      "C:\\Users\\mahes\\ML\\dataset\\data unziped\\dfdc_train_part_0\\hivnldfvyl.mp4\n",
      "C:\\Users\\mahes\\ML\\dataset\\data unziped\\dfdc_train_part_0\\hivnldfvyl.mp4\n",
      "C:\\Users\\mahes\\ML\\dataset\\data unziped\\dfdc_train_part_0\\hivnldfvyl.mp4\n",
      "C:\\Users\\mahes\\ML\\dataset\\data unziped\\dfdc_train_part_0\\hivnldfvyl.mp4\n",
      "C:\\Users\\mahes\\ML\\dataset\\data unziped\\dfdc_train_part_0\\hivnldfvyl.mp4\n",
      "C:\\Users\\mahes\\ML\\dataset\\data unziped\\dfdc_train_part_0\\hivnldfvyl.mp4\n",
      "C:\\Users\\mahes\\ML\\dataset\\data unziped\\dfdc_train_part_0\\hivnldfvyl.mp4\n"
     ]
    },
    {
     "name": "stderr",
     "output_type": "stream",
     "text": [
      "Processing 500 videos:  57%|█████▋    | 283/500 [4:37:01<2:47:10, 46.22s/it]"
     ]
    },
    {
     "name": "stdout",
     "output_type": "stream",
     "text": [
      "C:\\Users\\mahes\\ML\\dataset\\data unziped\\dfdc_train_part_0\\uprwuohbwx.mp4\n",
      "C:\\Users\\mahes\\ML\\dataset\\data unziped\\dfdc_train_part_0\\uprwuohbwx.mp4\n",
      "C:\\Users\\mahes\\ML\\dataset\\data unziped\\dfdc_train_part_0\\uprwuohbwx.mp4\n",
      "C:\\Users\\mahes\\ML\\dataset\\data unziped\\dfdc_train_part_0\\uprwuohbwx.mp4\n",
      "C:\\Users\\mahes\\ML\\dataset\\data unziped\\dfdc_train_part_0\\uprwuohbwx.mp4\n",
      "C:\\Users\\mahes\\ML\\dataset\\data unziped\\dfdc_train_part_0\\uprwuohbwx.mp4\n",
      "C:\\Users\\mahes\\ML\\dataset\\data unziped\\dfdc_train_part_0\\uprwuohbwx.mp4\n",
      "C:\\Users\\mahes\\ML\\dataset\\data unziped\\dfdc_train_part_0\\uprwuohbwx.mp4\n",
      "C:\\Users\\mahes\\ML\\dataset\\data unziped\\dfdc_train_part_0\\uprwuohbwx.mp4\n",
      "C:\\Users\\mahes\\ML\\dataset\\data unziped\\dfdc_train_part_0\\uprwuohbwx.mp4\n"
     ]
    },
    {
     "name": "stderr",
     "output_type": "stream",
     "text": [
      "Processing 500 videos:  57%|█████▋    | 284/500 [4:37:52<2:51:29, 47.64s/it]"
     ]
    },
    {
     "name": "stdout",
     "output_type": "stream",
     "text": [
      "C:\\Users\\mahes\\ML\\dataset\\data unziped\\dfdc_train_part_0\\fnslimfagb.mp4\n",
      "C:\\Users\\mahes\\ML\\dataset\\data unziped\\dfdc_train_part_0\\fnslimfagb.mp4\n",
      "C:\\Users\\mahes\\ML\\dataset\\data unziped\\dfdc_train_part_0\\fnslimfagb.mp4\n",
      "C:\\Users\\mahes\\ML\\dataset\\data unziped\\dfdc_train_part_0\\fnslimfagb.mp4\n",
      "C:\\Users\\mahes\\ML\\dataset\\data unziped\\dfdc_train_part_0\\fnslimfagb.mp4\n",
      "C:\\Users\\mahes\\ML\\dataset\\data unziped\\dfdc_train_part_0\\fnslimfagb.mp4\n",
      "C:\\Users\\mahes\\ML\\dataset\\data unziped\\dfdc_train_part_0\\fnslimfagb.mp4\n",
      "C:\\Users\\mahes\\ML\\dataset\\data unziped\\dfdc_train_part_0\\fnslimfagb.mp4\n",
      "C:\\Users\\mahes\\ML\\dataset\\data unziped\\dfdc_train_part_0\\fnslimfagb.mp4\n",
      "C:\\Users\\mahes\\ML\\dataset\\data unziped\\dfdc_train_part_0\\fnslimfagb.mp4\n"
     ]
    },
    {
     "name": "stderr",
     "output_type": "stream",
     "text": [
      "Processing 500 videos:  57%|█████▋    | 285/500 [4:38:43<2:53:53, 48.53s/it]"
     ]
    },
    {
     "name": "stdout",
     "output_type": "stream",
     "text": [
      "C:\\Users\\mahes\\ML\\dataset\\data unziped\\dfdc_train_part_0\\dhjnjkzuhq.mp4\n",
      "C:\\Users\\mahes\\ML\\dataset\\data unziped\\dfdc_train_part_0\\dhjnjkzuhq.mp4\n",
      "C:\\Users\\mahes\\ML\\dataset\\data unziped\\dfdc_train_part_0\\dhjnjkzuhq.mp4\n",
      "C:\\Users\\mahes\\ML\\dataset\\data unziped\\dfdc_train_part_0\\dhjnjkzuhq.mp4\n",
      "C:\\Users\\mahes\\ML\\dataset\\data unziped\\dfdc_train_part_0\\dhjnjkzuhq.mp4\n",
      "C:\\Users\\mahes\\ML\\dataset\\data unziped\\dfdc_train_part_0\\dhjnjkzuhq.mp4\n",
      "C:\\Users\\mahes\\ML\\dataset\\data unziped\\dfdc_train_part_0\\dhjnjkzuhq.mp4\n",
      "C:\\Users\\mahes\\ML\\dataset\\data unziped\\dfdc_train_part_0\\dhjnjkzuhq.mp4\n",
      "C:\\Users\\mahes\\ML\\dataset\\data unziped\\dfdc_train_part_0\\dhjnjkzuhq.mp4\n",
      "C:\\Users\\mahes\\ML\\dataset\\data unziped\\dfdc_train_part_0\\dhjnjkzuhq.mp4\n"
     ]
    },
    {
     "name": "stderr",
     "output_type": "stream",
     "text": [
      "Processing 500 videos:  57%|█████▋    | 286/500 [4:39:32<2:54:06, 48.81s/it]"
     ]
    },
    {
     "name": "stdout",
     "output_type": "stream",
     "text": [
      "C:\\Users\\mahes\\ML\\dataset\\data unziped\\dfdc_train_part_0\\REAL\n",
      "C:\\Users\\mahes\\ML\\dataset\\data unziped\\dfdc_train_part_0\\REAL\n",
      "C:\\Users\\mahes\\ML\\dataset\\data unziped\\dfdc_train_part_0\\REAL\n",
      "C:\\Users\\mahes\\ML\\dataset\\data unziped\\dfdc_train_part_0\\REAL\n",
      "C:\\Users\\mahes\\ML\\dataset\\data unziped\\dfdc_train_part_0\\REAL\n",
      "C:\\Users\\mahes\\ML\\dataset\\data unziped\\dfdc_train_part_0\\REAL\n",
      "C:\\Users\\mahes\\ML\\dataset\\data unziped\\dfdc_train_part_0\\REAL\n",
      "C:\\Users\\mahes\\ML\\dataset\\data unziped\\dfdc_train_part_0\\REAL\n",
      "C:\\Users\\mahes\\ML\\dataset\\data unziped\\dfdc_train_part_0\\REAL\n"
     ]
    },
    {
     "name": "stderr",
     "output_type": "stream",
     "text": [
      "Processing 500 videos:  57%|█████▋    | 287/500 [4:39:39<2:08:49, 36.29s/it]"
     ]
    },
    {
     "name": "stdout",
     "output_type": "stream",
     "text": [
      "C:\\Users\\mahes\\ML\\dataset\\data unziped\\dfdc_train_part_0\\REAL\n",
      "C:\\Users\\mahes\\ML\\dataset\\data unziped\\dfdc_train_part_0\\xmkwsnuzyq.mp4\n",
      "C:\\Users\\mahes\\ML\\dataset\\data unziped\\dfdc_train_part_0\\xmkwsnuzyq.mp4\n",
      "C:\\Users\\mahes\\ML\\dataset\\data unziped\\dfdc_train_part_0\\xmkwsnuzyq.mp4\n",
      "C:\\Users\\mahes\\ML\\dataset\\data unziped\\dfdc_train_part_0\\xmkwsnuzyq.mp4\n",
      "C:\\Users\\mahes\\ML\\dataset\\data unziped\\dfdc_train_part_0\\xmkwsnuzyq.mp4\n",
      "C:\\Users\\mahes\\ML\\dataset\\data unziped\\dfdc_train_part_0\\xmkwsnuzyq.mp4\n",
      "C:\\Users\\mahes\\ML\\dataset\\data unziped\\dfdc_train_part_0\\xmkwsnuzyq.mp4\n",
      "C:\\Users\\mahes\\ML\\dataset\\data unziped\\dfdc_train_part_0\\xmkwsnuzyq.mp4\n",
      "C:\\Users\\mahes\\ML\\dataset\\data unziped\\dfdc_train_part_0\\xmkwsnuzyq.mp4\n",
      "C:\\Users\\mahes\\ML\\dataset\\data unziped\\dfdc_train_part_0\\xmkwsnuzyq.mp4\n"
     ]
    },
    {
     "name": "stderr",
     "output_type": "stream",
     "text": [
      "Processing 500 videos:  58%|█████▊    | 288/500 [4:40:31<2:24:07, 40.79s/it]"
     ]
    },
    {
     "name": "stdout",
     "output_type": "stream",
     "text": [
      "C:\\Users\\mahes\\ML\\dataset\\data unziped\\dfdc_train_part_0\\gnmmhlbzge.mp4\n",
      "C:\\Users\\mahes\\ML\\dataset\\data unziped\\dfdc_train_part_0\\gnmmhlbzge.mp4\n",
      "C:\\Users\\mahes\\ML\\dataset\\data unziped\\dfdc_train_part_0\\gnmmhlbzge.mp4\n",
      "C:\\Users\\mahes\\ML\\dataset\\data unziped\\dfdc_train_part_0\\gnmmhlbzge.mp4\n",
      "C:\\Users\\mahes\\ML\\dataset\\data unziped\\dfdc_train_part_0\\gnmmhlbzge.mp4\n",
      "C:\\Users\\mahes\\ML\\dataset\\data unziped\\dfdc_train_part_0\\gnmmhlbzge.mp4\n",
      "C:\\Users\\mahes\\ML\\dataset\\data unziped\\dfdc_train_part_0\\gnmmhlbzge.mp4\n",
      "C:\\Users\\mahes\\ML\\dataset\\data unziped\\dfdc_train_part_0\\gnmmhlbzge.mp4\n",
      "C:\\Users\\mahes\\ML\\dataset\\data unziped\\dfdc_train_part_0\\gnmmhlbzge.mp4\n",
      "C:\\Users\\mahes\\ML\\dataset\\data unziped\\dfdc_train_part_0\\gnmmhlbzge.mp4\n"
     ]
    },
    {
     "name": "stderr",
     "output_type": "stream",
     "text": [
      "Processing 500 videos:  58%|█████▊    | 289/500 [4:41:12<2:24:17, 41.03s/it]"
     ]
    },
    {
     "name": "stdout",
     "output_type": "stream",
     "text": [
      "C:\\Users\\mahes\\ML\\dataset\\data unziped\\dfdc_train_part_0\\vtunvalyji.mp4\n",
      "C:\\Users\\mahes\\ML\\dataset\\data unziped\\dfdc_train_part_0\\vtunvalyji.mp4\n",
      "C:\\Users\\mahes\\ML\\dataset\\data unziped\\dfdc_train_part_0\\vtunvalyji.mp4\n",
      "C:\\Users\\mahes\\ML\\dataset\\data unziped\\dfdc_train_part_0\\vtunvalyji.mp4\n",
      "C:\\Users\\mahes\\ML\\dataset\\data unziped\\dfdc_train_part_0\\vtunvalyji.mp4\n",
      "C:\\Users\\mahes\\ML\\dataset\\data unziped\\dfdc_train_part_0\\vtunvalyji.mp4\n",
      "C:\\Users\\mahes\\ML\\dataset\\data unziped\\dfdc_train_part_0\\vtunvalyji.mp4\n",
      "C:\\Users\\mahes\\ML\\dataset\\data unziped\\dfdc_train_part_0\\vtunvalyji.mp4\n",
      "C:\\Users\\mahes\\ML\\dataset\\data unziped\\dfdc_train_part_0\\vtunvalyji.mp4\n",
      "C:\\Users\\mahes\\ML\\dataset\\data unziped\\dfdc_train_part_0\\vtunvalyji.mp4\n"
     ]
    },
    {
     "name": "stderr",
     "output_type": "stream",
     "text": [
      "Processing 500 videos:  58%|█████▊    | 290/500 [4:41:58<2:28:29, 42.43s/it]"
     ]
    },
    {
     "name": "stdout",
     "output_type": "stream",
     "text": [
      "C:\\Users\\mahes\\ML\\dataset\\data unziped\\dfdc_train_part_0\\rnpefxwptv.mp4\n",
      "C:\\Users\\mahes\\ML\\dataset\\data unziped\\dfdc_train_part_0\\rnpefxwptv.mp4\n",
      "C:\\Users\\mahes\\ML\\dataset\\data unziped\\dfdc_train_part_0\\rnpefxwptv.mp4\n",
      "C:\\Users\\mahes\\ML\\dataset\\data unziped\\dfdc_train_part_0\\rnpefxwptv.mp4\n",
      "C:\\Users\\mahes\\ML\\dataset\\data unziped\\dfdc_train_part_0\\rnpefxwptv.mp4\n",
      "C:\\Users\\mahes\\ML\\dataset\\data unziped\\dfdc_train_part_0\\rnpefxwptv.mp4\n",
      "C:\\Users\\mahes\\ML\\dataset\\data unziped\\dfdc_train_part_0\\rnpefxwptv.mp4\n",
      "C:\\Users\\mahes\\ML\\dataset\\data unziped\\dfdc_train_part_0\\rnpefxwptv.mp4\n",
      "C:\\Users\\mahes\\ML\\dataset\\data unziped\\dfdc_train_part_0\\rnpefxwptv.mp4\n",
      "C:\\Users\\mahes\\ML\\dataset\\data unziped\\dfdc_train_part_0\\rnpefxwptv.mp4\n"
     ]
    },
    {
     "name": "stderr",
     "output_type": "stream",
     "text": [
      "Processing 500 videos:  58%|█████▊    | 291/500 [4:42:46<2:33:34, 44.09s/it]"
     ]
    },
    {
     "name": "stdout",
     "output_type": "stream",
     "text": [
      "C:\\Users\\mahes\\ML\\dataset\\data unziped\\dfdc_train_part_0\\prdrkaxeob.mp4\n",
      "C:\\Users\\mahes\\ML\\dataset\\data unziped\\dfdc_train_part_0\\prdrkaxeob.mp4\n",
      "C:\\Users\\mahes\\ML\\dataset\\data unziped\\dfdc_train_part_0\\prdrkaxeob.mp4\n",
      "C:\\Users\\mahes\\ML\\dataset\\data unziped\\dfdc_train_part_0\\prdrkaxeob.mp4\n",
      "C:\\Users\\mahes\\ML\\dataset\\data unziped\\dfdc_train_part_0\\prdrkaxeob.mp4\n",
      "C:\\Users\\mahes\\ML\\dataset\\data unziped\\dfdc_train_part_0\\prdrkaxeob.mp4\n",
      "C:\\Users\\mahes\\ML\\dataset\\data unziped\\dfdc_train_part_0\\prdrkaxeob.mp4\n",
      "C:\\Users\\mahes\\ML\\dataset\\data unziped\\dfdc_train_part_0\\prdrkaxeob.mp4\n",
      "C:\\Users\\mahes\\ML\\dataset\\data unziped\\dfdc_train_part_0\\prdrkaxeob.mp4\n",
      "C:\\Users\\mahes\\ML\\dataset\\data unziped\\dfdc_train_part_0\\prdrkaxeob.mp4\n"
     ]
    },
    {
     "name": "stderr",
     "output_type": "stream",
     "text": [
      "Processing 500 videos:  58%|█████▊    | 292/500 [4:43:34<2:36:59, 45.29s/it]"
     ]
    },
    {
     "name": "stdout",
     "output_type": "stream",
     "text": [
      "C:\\Users\\mahes\\ML\\dataset\\data unziped\\dfdc_train_part_0\\jytrvwlewz.mp4\n",
      "C:\\Users\\mahes\\ML\\dataset\\data unziped\\dfdc_train_part_0\\jytrvwlewz.mp4\n",
      "C:\\Users\\mahes\\ML\\dataset\\data unziped\\dfdc_train_part_0\\jytrvwlewz.mp4\n",
      "C:\\Users\\mahes\\ML\\dataset\\data unziped\\dfdc_train_part_0\\jytrvwlewz.mp4\n",
      "C:\\Users\\mahes\\ML\\dataset\\data unziped\\dfdc_train_part_0\\jytrvwlewz.mp4\n",
      "C:\\Users\\mahes\\ML\\dataset\\data unziped\\dfdc_train_part_0\\jytrvwlewz.mp4\n",
      "C:\\Users\\mahes\\ML\\dataset\\data unziped\\dfdc_train_part_0\\jytrvwlewz.mp4\n",
      "C:\\Users\\mahes\\ML\\dataset\\data unziped\\dfdc_train_part_0\\jytrvwlewz.mp4\n",
      "C:\\Users\\mahes\\ML\\dataset\\data unziped\\dfdc_train_part_0\\jytrvwlewz.mp4\n",
      "C:\\Users\\mahes\\ML\\dataset\\data unziped\\dfdc_train_part_0\\jytrvwlewz.mp4\n"
     ]
    },
    {
     "name": "stderr",
     "output_type": "stream",
     "text": [
      "Processing 500 videos:  59%|█████▊    | 293/500 [4:44:18<2:34:21, 44.74s/it]"
     ]
    },
    {
     "name": "stdout",
     "output_type": "stream",
     "text": [
      "C:\\Users\\mahes\\ML\\dataset\\data unziped\\dfdc_train_part_0\\uqtqhiqymz.mp4\n",
      "C:\\Users\\mahes\\ML\\dataset\\data unziped\\dfdc_train_part_0\\uqtqhiqymz.mp4\n",
      "C:\\Users\\mahes\\ML\\dataset\\data unziped\\dfdc_train_part_0\\uqtqhiqymz.mp4\n",
      "C:\\Users\\mahes\\ML\\dataset\\data unziped\\dfdc_train_part_0\\uqtqhiqymz.mp4\n",
      "C:\\Users\\mahes\\ML\\dataset\\data unziped\\dfdc_train_part_0\\uqtqhiqymz.mp4\n",
      "C:\\Users\\mahes\\ML\\dataset\\data unziped\\dfdc_train_part_0\\uqtqhiqymz.mp4\n",
      "C:\\Users\\mahes\\ML\\dataset\\data unziped\\dfdc_train_part_0\\uqtqhiqymz.mp4\n",
      "C:\\Users\\mahes\\ML\\dataset\\data unziped\\dfdc_train_part_0\\uqtqhiqymz.mp4\n",
      "C:\\Users\\mahes\\ML\\dataset\\data unziped\\dfdc_train_part_0\\uqtqhiqymz.mp4\n",
      "C:\\Users\\mahes\\ML\\dataset\\data unziped\\dfdc_train_part_0\\uqtqhiqymz.mp4\n"
     ]
    },
    {
     "name": "stderr",
     "output_type": "stream",
     "text": [
      "Processing 500 videos:  59%|█████▉    | 294/500 [4:45:08<2:39:16, 46.39s/it]"
     ]
    },
    {
     "name": "stdout",
     "output_type": "stream",
     "text": [
      "C:\\Users\\mahes\\ML\\dataset\\data unziped\\dfdc_train_part_0\\vpmyeepbep.mp4\n",
      "C:\\Users\\mahes\\ML\\dataset\\data unziped\\dfdc_train_part_0\\vpmyeepbep.mp4\n",
      "C:\\Users\\mahes\\ML\\dataset\\data unziped\\dfdc_train_part_0\\vpmyeepbep.mp4\n",
      "C:\\Users\\mahes\\ML\\dataset\\data unziped\\dfdc_train_part_0\\vpmyeepbep.mp4\n",
      "C:\\Users\\mahes\\ML\\dataset\\data unziped\\dfdc_train_part_0\\vpmyeepbep.mp4\n",
      "C:\\Users\\mahes\\ML\\dataset\\data unziped\\dfdc_train_part_0\\vpmyeepbep.mp4\n",
      "C:\\Users\\mahes\\ML\\dataset\\data unziped\\dfdc_train_part_0\\vpmyeepbep.mp4\n",
      "C:\\Users\\mahes\\ML\\dataset\\data unziped\\dfdc_train_part_0\\vpmyeepbep.mp4\n",
      "C:\\Users\\mahes\\ML\\dataset\\data unziped\\dfdc_train_part_0\\vpmyeepbep.mp4\n",
      "C:\\Users\\mahes\\ML\\dataset\\data unziped\\dfdc_train_part_0\\vpmyeepbep.mp4\n"
     ]
    },
    {
     "name": "stderr",
     "output_type": "stream",
     "text": [
      "Processing 500 videos:  59%|█████▉    | 295/500 [4:45:52<2:35:48, 45.60s/it]"
     ]
    },
    {
     "name": "stdout",
     "output_type": "stream",
     "text": [
      "C:\\Users\\mahes\\ML\\dataset\\data unziped\\dfdc_train_part_0\\jytrvwlewz.mp4\n",
      "C:\\Users\\mahes\\ML\\dataset\\data unziped\\dfdc_train_part_0\\jytrvwlewz.mp4\n",
      "C:\\Users\\mahes\\ML\\dataset\\data unziped\\dfdc_train_part_0\\jytrvwlewz.mp4\n",
      "C:\\Users\\mahes\\ML\\dataset\\data unziped\\dfdc_train_part_0\\jytrvwlewz.mp4\n",
      "C:\\Users\\mahes\\ML\\dataset\\data unziped\\dfdc_train_part_0\\jytrvwlewz.mp4\n",
      "C:\\Users\\mahes\\ML\\dataset\\data unziped\\dfdc_train_part_0\\jytrvwlewz.mp4\n",
      "C:\\Users\\mahes\\ML\\dataset\\data unziped\\dfdc_train_part_0\\jytrvwlewz.mp4\n",
      "C:\\Users\\mahes\\ML\\dataset\\data unziped\\dfdc_train_part_0\\jytrvwlewz.mp4\n",
      "C:\\Users\\mahes\\ML\\dataset\\data unziped\\dfdc_train_part_0\\jytrvwlewz.mp4\n",
      "C:\\Users\\mahes\\ML\\dataset\\data unziped\\dfdc_train_part_0\\jytrvwlewz.mp4\n"
     ]
    },
    {
     "name": "stderr",
     "output_type": "stream",
     "text": [
      "Processing 500 videos:  59%|█████▉    | 296/500 [4:46:36<2:33:36, 45.18s/it]"
     ]
    },
    {
     "name": "stdout",
     "output_type": "stream",
     "text": [
      "C:\\Users\\mahes\\ML\\dataset\\data unziped\\dfdc_train_part_0\\xchzardbfa.mp4\n",
      "C:\\Users\\mahes\\ML\\dataset\\data unziped\\dfdc_train_part_0\\xchzardbfa.mp4\n",
      "C:\\Users\\mahes\\ML\\dataset\\data unziped\\dfdc_train_part_0\\xchzardbfa.mp4\n",
      "C:\\Users\\mahes\\ML\\dataset\\data unziped\\dfdc_train_part_0\\xchzardbfa.mp4\n",
      "C:\\Users\\mahes\\ML\\dataset\\data unziped\\dfdc_train_part_0\\xchzardbfa.mp4\n",
      "C:\\Users\\mahes\\ML\\dataset\\data unziped\\dfdc_train_part_0\\xchzardbfa.mp4\n",
      "C:\\Users\\mahes\\ML\\dataset\\data unziped\\dfdc_train_part_0\\xchzardbfa.mp4\n",
      "C:\\Users\\mahes\\ML\\dataset\\data unziped\\dfdc_train_part_0\\xchzardbfa.mp4\n",
      "C:\\Users\\mahes\\ML\\dataset\\data unziped\\dfdc_train_part_0\\xchzardbfa.mp4\n",
      "C:\\Users\\mahes\\ML\\dataset\\data unziped\\dfdc_train_part_0\\xchzardbfa.mp4\n"
     ]
    },
    {
     "name": "stderr",
     "output_type": "stream",
     "text": [
      "Processing 500 videos:  59%|█████▉    | 297/500 [4:47:22<2:34:25, 45.64s/it]"
     ]
    },
    {
     "name": "stdout",
     "output_type": "stream",
     "text": [
      "C:\\Users\\mahes\\ML\\dataset\\data unziped\\dfdc_train_part_0\\rmufsuogzn.mp4\n",
      "C:\\Users\\mahes\\ML\\dataset\\data unziped\\dfdc_train_part_0\\rmufsuogzn.mp4\n",
      "C:\\Users\\mahes\\ML\\dataset\\data unziped\\dfdc_train_part_0\\rmufsuogzn.mp4\n",
      "C:\\Users\\mahes\\ML\\dataset\\data unziped\\dfdc_train_part_0\\rmufsuogzn.mp4\n",
      "C:\\Users\\mahes\\ML\\dataset\\data unziped\\dfdc_train_part_0\\rmufsuogzn.mp4\n",
      "C:\\Users\\mahes\\ML\\dataset\\data unziped\\dfdc_train_part_0\\rmufsuogzn.mp4\n",
      "C:\\Users\\mahes\\ML\\dataset\\data unziped\\dfdc_train_part_0\\rmufsuogzn.mp4\n",
      "C:\\Users\\mahes\\ML\\dataset\\data unziped\\dfdc_train_part_0\\rmufsuogzn.mp4\n",
      "C:\\Users\\mahes\\ML\\dataset\\data unziped\\dfdc_train_part_0\\rmufsuogzn.mp4\n",
      "C:\\Users\\mahes\\ML\\dataset\\data unziped\\dfdc_train_part_0\\rmufsuogzn.mp4\n"
     ]
    },
    {
     "name": "stderr",
     "output_type": "stream",
     "text": [
      "Processing 500 videos:  60%|█████▉    | 298/500 [4:48:14<2:39:25, 47.35s/it]"
     ]
    },
    {
     "name": "stdout",
     "output_type": "stream",
     "text": [
      "C:\\Users\\mahes\\ML\\dataset\\data unziped\\dfdc_train_part_0\\syxobtuucp.mp4\n",
      "C:\\Users\\mahes\\ML\\dataset\\data unziped\\dfdc_train_part_0\\syxobtuucp.mp4\n",
      "C:\\Users\\mahes\\ML\\dataset\\data unziped\\dfdc_train_part_0\\syxobtuucp.mp4\n",
      "C:\\Users\\mahes\\ML\\dataset\\data unziped\\dfdc_train_part_0\\syxobtuucp.mp4\n",
      "C:\\Users\\mahes\\ML\\dataset\\data unziped\\dfdc_train_part_0\\syxobtuucp.mp4\n",
      "C:\\Users\\mahes\\ML\\dataset\\data unziped\\dfdc_train_part_0\\syxobtuucp.mp4\n",
      "C:\\Users\\mahes\\ML\\dataset\\data unziped\\dfdc_train_part_0\\syxobtuucp.mp4\n",
      "C:\\Users\\mahes\\ML\\dataset\\data unziped\\dfdc_train_part_0\\syxobtuucp.mp4\n",
      "C:\\Users\\mahes\\ML\\dataset\\data unziped\\dfdc_train_part_0\\syxobtuucp.mp4\n",
      "C:\\Users\\mahes\\ML\\dataset\\data unziped\\dfdc_train_part_0\\syxobtuucp.mp4\n"
     ]
    },
    {
     "name": "stderr",
     "output_type": "stream",
     "text": [
      "Processing 500 videos:  60%|█████▉    | 299/500 [4:48:56<2:33:08, 45.72s/it]"
     ]
    },
    {
     "name": "stdout",
     "output_type": "stream",
     "text": [
      "C:\\Users\\mahes\\ML\\dataset\\data unziped\\dfdc_train_part_0\\kqlvggiqee.mp4\n",
      "C:\\Users\\mahes\\ML\\dataset\\data unziped\\dfdc_train_part_0\\kqlvggiqee.mp4\n",
      "C:\\Users\\mahes\\ML\\dataset\\data unziped\\dfdc_train_part_0\\kqlvggiqee.mp4\n",
      "C:\\Users\\mahes\\ML\\dataset\\data unziped\\dfdc_train_part_0\\kqlvggiqee.mp4\n",
      "C:\\Users\\mahes\\ML\\dataset\\data unziped\\dfdc_train_part_0\\kqlvggiqee.mp4\n",
      "C:\\Users\\mahes\\ML\\dataset\\data unziped\\dfdc_train_part_0\\kqlvggiqee.mp4\n",
      "C:\\Users\\mahes\\ML\\dataset\\data unziped\\dfdc_train_part_0\\kqlvggiqee.mp4\n",
      "C:\\Users\\mahes\\ML\\dataset\\data unziped\\dfdc_train_part_0\\kqlvggiqee.mp4\n",
      "C:\\Users\\mahes\\ML\\dataset\\data unziped\\dfdc_train_part_0\\kqlvggiqee.mp4\n",
      "C:\\Users\\mahes\\ML\\dataset\\data unziped\\dfdc_train_part_0\\kqlvggiqee.mp4\n"
     ]
    },
    {
     "name": "stderr",
     "output_type": "stream",
     "text": [
      "Processing 500 videos:  60%|██████    | 300/500 [4:49:39<2:29:40, 44.90s/it]"
     ]
    },
    {
     "name": "stdout",
     "output_type": "stream",
     "text": [
      "C:\\Users\\mahes\\ML\\dataset\\data unziped\\dfdc_train_part_0\\xjzkfqddyk.mp4\n",
      "C:\\Users\\mahes\\ML\\dataset\\data unziped\\dfdc_train_part_0\\xjzkfqddyk.mp4\n",
      "C:\\Users\\mahes\\ML\\dataset\\data unziped\\dfdc_train_part_0\\xjzkfqddyk.mp4\n",
      "C:\\Users\\mahes\\ML\\dataset\\data unziped\\dfdc_train_part_0\\xjzkfqddyk.mp4\n",
      "C:\\Users\\mahes\\ML\\dataset\\data unziped\\dfdc_train_part_0\\xjzkfqddyk.mp4\n",
      "C:\\Users\\mahes\\ML\\dataset\\data unziped\\dfdc_train_part_0\\xjzkfqddyk.mp4\n",
      "C:\\Users\\mahes\\ML\\dataset\\data unziped\\dfdc_train_part_0\\xjzkfqddyk.mp4\n",
      "C:\\Users\\mahes\\ML\\dataset\\data unziped\\dfdc_train_part_0\\xjzkfqddyk.mp4\n",
      "C:\\Users\\mahes\\ML\\dataset\\data unziped\\dfdc_train_part_0\\xjzkfqddyk.mp4\n",
      "C:\\Users\\mahes\\ML\\dataset\\data unziped\\dfdc_train_part_0\\xjzkfqddyk.mp4\n"
     ]
    },
    {
     "name": "stderr",
     "output_type": "stream",
     "text": [
      "Processing 500 videos:  60%|██████    | 301/500 [4:50:30<2:35:20, 46.84s/it]"
     ]
    },
    {
     "name": "stdout",
     "output_type": "stream",
     "text": [
      "C:\\Users\\mahes\\ML\\dataset\\data unziped\\dfdc_train_part_0\\jzupayeuln.mp4\n",
      "C:\\Users\\mahes\\ML\\dataset\\data unziped\\dfdc_train_part_0\\jzupayeuln.mp4\n",
      "C:\\Users\\mahes\\ML\\dataset\\data unziped\\dfdc_train_part_0\\jzupayeuln.mp4\n",
      "C:\\Users\\mahes\\ML\\dataset\\data unziped\\dfdc_train_part_0\\jzupayeuln.mp4\n",
      "C:\\Users\\mahes\\ML\\dataset\\data unziped\\dfdc_train_part_0\\jzupayeuln.mp4\n",
      "C:\\Users\\mahes\\ML\\dataset\\data unziped\\dfdc_train_part_0\\jzupayeuln.mp4\n",
      "C:\\Users\\mahes\\ML\\dataset\\data unziped\\dfdc_train_part_0\\jzupayeuln.mp4\n",
      "C:\\Users\\mahes\\ML\\dataset\\data unziped\\dfdc_train_part_0\\jzupayeuln.mp4\n",
      "C:\\Users\\mahes\\ML\\dataset\\data unziped\\dfdc_train_part_0\\jzupayeuln.mp4\n",
      "C:\\Users\\mahes\\ML\\dataset\\data unziped\\dfdc_train_part_0\\jzupayeuln.mp4\n"
     ]
    },
    {
     "name": "stderr",
     "output_type": "stream",
     "text": [
      "Processing 500 videos:  60%|██████    | 302/500 [4:51:23<2:40:45, 48.71s/it]"
     ]
    },
    {
     "name": "stdout",
     "output_type": "stream",
     "text": [
      "C:\\Users\\mahes\\ML\\dataset\\data unziped\\dfdc_train_part_0\\REAL\n",
      "C:\\Users\\mahes\\ML\\dataset\\data unziped\\dfdc_train_part_0\\REAL\n",
      "C:\\Users\\mahes\\ML\\dataset\\data unziped\\dfdc_train_part_0\\REAL\n",
      "C:\\Users\\mahes\\ML\\dataset\\data unziped\\dfdc_train_part_0\\REAL\n",
      "C:\\Users\\mahes\\ML\\dataset\\data unziped\\dfdc_train_part_0\\REAL\n",
      "C:\\Users\\mahes\\ML\\dataset\\data unziped\\dfdc_train_part_0\\REAL\n",
      "C:\\Users\\mahes\\ML\\dataset\\data unziped\\dfdc_train_part_0\\REAL\n",
      "C:\\Users\\mahes\\ML\\dataset\\data unziped\\dfdc_train_part_0\\REAL\n",
      "C:\\Users\\mahes\\ML\\dataset\\data unziped\\dfdc_train_part_0\\REAL\n"
     ]
    },
    {
     "name": "stderr",
     "output_type": "stream",
     "text": [
      "Processing 500 videos:  61%|██████    | 303/500 [4:51:30<1:58:56, 36.23s/it]"
     ]
    },
    {
     "name": "stdout",
     "output_type": "stream",
     "text": [
      "C:\\Users\\mahes\\ML\\dataset\\data unziped\\dfdc_train_part_0\\REAL\n",
      "C:\\Users\\mahes\\ML\\dataset\\data unziped\\dfdc_train_part_0\\jytrvwlewz.mp4\n",
      "C:\\Users\\mahes\\ML\\dataset\\data unziped\\dfdc_train_part_0\\jytrvwlewz.mp4\n",
      "C:\\Users\\mahes\\ML\\dataset\\data unziped\\dfdc_train_part_0\\jytrvwlewz.mp4\n",
      "C:\\Users\\mahes\\ML\\dataset\\data unziped\\dfdc_train_part_0\\jytrvwlewz.mp4\n",
      "C:\\Users\\mahes\\ML\\dataset\\data unziped\\dfdc_train_part_0\\jytrvwlewz.mp4\n",
      "C:\\Users\\mahes\\ML\\dataset\\data unziped\\dfdc_train_part_0\\jytrvwlewz.mp4\n",
      "C:\\Users\\mahes\\ML\\dataset\\data unziped\\dfdc_train_part_0\\jytrvwlewz.mp4\n",
      "C:\\Users\\mahes\\ML\\dataset\\data unziped\\dfdc_train_part_0\\jytrvwlewz.mp4\n",
      "C:\\Users\\mahes\\ML\\dataset\\data unziped\\dfdc_train_part_0\\jytrvwlewz.mp4\n",
      "C:\\Users\\mahes\\ML\\dataset\\data unziped\\dfdc_train_part_0\\jytrvwlewz.mp4\n"
     ]
    },
    {
     "name": "stderr",
     "output_type": "stream",
     "text": [
      "Processing 500 videos:  61%|██████    | 304/500 [4:52:14<2:06:02, 38.58s/it]"
     ]
    },
    {
     "name": "stdout",
     "output_type": "stream",
     "text": [
      "C:\\Users\\mahes\\ML\\dataset\\data unziped\\dfdc_train_part_0\\psjfwjzrrh.mp4\n",
      "C:\\Users\\mahes\\ML\\dataset\\data unziped\\dfdc_train_part_0\\psjfwjzrrh.mp4\n",
      "C:\\Users\\mahes\\ML\\dataset\\data unziped\\dfdc_train_part_0\\psjfwjzrrh.mp4\n",
      "C:\\Users\\mahes\\ML\\dataset\\data unziped\\dfdc_train_part_0\\psjfwjzrrh.mp4\n",
      "C:\\Users\\mahes\\ML\\dataset\\data unziped\\dfdc_train_part_0\\psjfwjzrrh.mp4\n",
      "C:\\Users\\mahes\\ML\\dataset\\data unziped\\dfdc_train_part_0\\psjfwjzrrh.mp4\n",
      "C:\\Users\\mahes\\ML\\dataset\\data unziped\\dfdc_train_part_0\\psjfwjzrrh.mp4\n",
      "C:\\Users\\mahes\\ML\\dataset\\data unziped\\dfdc_train_part_0\\psjfwjzrrh.mp4\n",
      "C:\\Users\\mahes\\ML\\dataset\\data unziped\\dfdc_train_part_0\\psjfwjzrrh.mp4\n",
      "C:\\Users\\mahes\\ML\\dataset\\data unziped\\dfdc_train_part_0\\psjfwjzrrh.mp4\n"
     ]
    },
    {
     "name": "stderr",
     "output_type": "stream",
     "text": [
      "Processing 500 videos:  61%|██████    | 305/500 [4:53:04<2:16:25, 41.98s/it]"
     ]
    },
    {
     "name": "stdout",
     "output_type": "stream",
     "text": [
      "C:\\Users\\mahes\\ML\\dataset\\data unziped\\dfdc_train_part_0\\xkfliqnmwt.mp4\n",
      "C:\\Users\\mahes\\ML\\dataset\\data unziped\\dfdc_train_part_0\\xkfliqnmwt.mp4\n",
      "C:\\Users\\mahes\\ML\\dataset\\data unziped\\dfdc_train_part_0\\xkfliqnmwt.mp4\n",
      "C:\\Users\\mahes\\ML\\dataset\\data unziped\\dfdc_train_part_0\\xkfliqnmwt.mp4\n",
      "C:\\Users\\mahes\\ML\\dataset\\data unziped\\dfdc_train_part_0\\xkfliqnmwt.mp4\n",
      "C:\\Users\\mahes\\ML\\dataset\\data unziped\\dfdc_train_part_0\\xkfliqnmwt.mp4\n",
      "C:\\Users\\mahes\\ML\\dataset\\data unziped\\dfdc_train_part_0\\xkfliqnmwt.mp4\n",
      "C:\\Users\\mahes\\ML\\dataset\\data unziped\\dfdc_train_part_0\\xkfliqnmwt.mp4\n",
      "C:\\Users\\mahes\\ML\\dataset\\data unziped\\dfdc_train_part_0\\xkfliqnmwt.mp4\n",
      "C:\\Users\\mahes\\ML\\dataset\\data unziped\\dfdc_train_part_0\\xkfliqnmwt.mp4\n"
     ]
    },
    {
     "name": "stderr",
     "output_type": "stream",
     "text": [
      "Processing 500 videos:  61%|██████    | 306/500 [4:53:56<2:24:56, 44.83s/it]"
     ]
    },
    {
     "name": "stdout",
     "output_type": "stream",
     "text": [
      "C:\\Users\\mahes\\ML\\dataset\\data unziped\\dfdc_train_part_0\\nweufafotd.mp4\n",
      "C:\\Users\\mahes\\ML\\dataset\\data unziped\\dfdc_train_part_0\\nweufafotd.mp4\n",
      "C:\\Users\\mahes\\ML\\dataset\\data unziped\\dfdc_train_part_0\\nweufafotd.mp4\n",
      "C:\\Users\\mahes\\ML\\dataset\\data unziped\\dfdc_train_part_0\\nweufafotd.mp4\n",
      "C:\\Users\\mahes\\ML\\dataset\\data unziped\\dfdc_train_part_0\\nweufafotd.mp4\n",
      "C:\\Users\\mahes\\ML\\dataset\\data unziped\\dfdc_train_part_0\\nweufafotd.mp4\n",
      "C:\\Users\\mahes\\ML\\dataset\\data unziped\\dfdc_train_part_0\\nweufafotd.mp4\n",
      "C:\\Users\\mahes\\ML\\dataset\\data unziped\\dfdc_train_part_0\\nweufafotd.mp4\n",
      "C:\\Users\\mahes\\ML\\dataset\\data unziped\\dfdc_train_part_0\\nweufafotd.mp4\n",
      "C:\\Users\\mahes\\ML\\dataset\\data unziped\\dfdc_train_part_0\\nweufafotd.mp4\n"
     ]
    },
    {
     "name": "stderr",
     "output_type": "stream",
     "text": [
      "Processing 500 videos:  61%|██████▏   | 307/500 [4:54:46<2:29:41, 46.54s/it]"
     ]
    },
    {
     "name": "stdout",
     "output_type": "stream",
     "text": [
      "C:\\Users\\mahes\\ML\\dataset\\data unziped\\dfdc_train_part_0\\vpmyeepbep.mp4\n",
      "C:\\Users\\mahes\\ML\\dataset\\data unziped\\dfdc_train_part_0\\vpmyeepbep.mp4\n",
      "C:\\Users\\mahes\\ML\\dataset\\data unziped\\dfdc_train_part_0\\vpmyeepbep.mp4\n",
      "C:\\Users\\mahes\\ML\\dataset\\data unziped\\dfdc_train_part_0\\vpmyeepbep.mp4\n",
      "C:\\Users\\mahes\\ML\\dataset\\data unziped\\dfdc_train_part_0\\vpmyeepbep.mp4\n",
      "C:\\Users\\mahes\\ML\\dataset\\data unziped\\dfdc_train_part_0\\vpmyeepbep.mp4\n",
      "C:\\Users\\mahes\\ML\\dataset\\data unziped\\dfdc_train_part_0\\vpmyeepbep.mp4\n",
      "C:\\Users\\mahes\\ML\\dataset\\data unziped\\dfdc_train_part_0\\vpmyeepbep.mp4\n",
      "C:\\Users\\mahes\\ML\\dataset\\data unziped\\dfdc_train_part_0\\vpmyeepbep.mp4\n",
      "C:\\Users\\mahes\\ML\\dataset\\data unziped\\dfdc_train_part_0\\vpmyeepbep.mp4\n"
     ]
    },
    {
     "name": "stderr",
     "output_type": "stream",
     "text": [
      "Processing 500 videos:  62%|██████▏   | 308/500 [4:55:30<2:26:22, 45.74s/it]"
     ]
    },
    {
     "name": "stdout",
     "output_type": "stream",
     "text": [
      "C:\\Users\\mahes\\ML\\dataset\\data unziped\\dfdc_train_part_0\\nweufafotd.mp4\n",
      "C:\\Users\\mahes\\ML\\dataset\\data unziped\\dfdc_train_part_0\\nweufafotd.mp4\n",
      "C:\\Users\\mahes\\ML\\dataset\\data unziped\\dfdc_train_part_0\\nweufafotd.mp4\n",
      "C:\\Users\\mahes\\ML\\dataset\\data unziped\\dfdc_train_part_0\\nweufafotd.mp4\n",
      "C:\\Users\\mahes\\ML\\dataset\\data unziped\\dfdc_train_part_0\\nweufafotd.mp4\n",
      "C:\\Users\\mahes\\ML\\dataset\\data unziped\\dfdc_train_part_0\\nweufafotd.mp4\n",
      "C:\\Users\\mahes\\ML\\dataset\\data unziped\\dfdc_train_part_0\\nweufafotd.mp4\n",
      "C:\\Users\\mahes\\ML\\dataset\\data unziped\\dfdc_train_part_0\\nweufafotd.mp4\n",
      "C:\\Users\\mahes\\ML\\dataset\\data unziped\\dfdc_train_part_0\\nweufafotd.mp4\n",
      "C:\\Users\\mahes\\ML\\dataset\\data unziped\\dfdc_train_part_0\\nweufafotd.mp4\n"
     ]
    },
    {
     "name": "stderr",
     "output_type": "stream",
     "text": [
      "Processing 500 videos:  62%|██████▏   | 309/500 [4:56:21<2:30:22, 47.24s/it]"
     ]
    },
    {
     "name": "stdout",
     "output_type": "stream",
     "text": [
      "C:\\Users\\mahes\\ML\\dataset\\data unziped\\dfdc_train_part_0\\psjfwjzrrh.mp4\n",
      "C:\\Users\\mahes\\ML\\dataset\\data unziped\\dfdc_train_part_0\\psjfwjzrrh.mp4\n",
      "C:\\Users\\mahes\\ML\\dataset\\data unziped\\dfdc_train_part_0\\psjfwjzrrh.mp4\n",
      "C:\\Users\\mahes\\ML\\dataset\\data unziped\\dfdc_train_part_0\\psjfwjzrrh.mp4\n",
      "C:\\Users\\mahes\\ML\\dataset\\data unziped\\dfdc_train_part_0\\psjfwjzrrh.mp4\n",
      "C:\\Users\\mahes\\ML\\dataset\\data unziped\\dfdc_train_part_0\\psjfwjzrrh.mp4\n",
      "C:\\Users\\mahes\\ML\\dataset\\data unziped\\dfdc_train_part_0\\psjfwjzrrh.mp4\n",
      "C:\\Users\\mahes\\ML\\dataset\\data unziped\\dfdc_train_part_0\\psjfwjzrrh.mp4\n",
      "C:\\Users\\mahes\\ML\\dataset\\data unziped\\dfdc_train_part_0\\psjfwjzrrh.mp4\n",
      "C:\\Users\\mahes\\ML\\dataset\\data unziped\\dfdc_train_part_0\\psjfwjzrrh.mp4\n"
     ]
    },
    {
     "name": "stderr",
     "output_type": "stream",
     "text": [
      "Processing 500 videos:  62%|██████▏   | 310/500 [4:57:11<2:32:24, 48.13s/it]"
     ]
    },
    {
     "name": "stdout",
     "output_type": "stream",
     "text": [
      "C:\\Users\\mahes\\ML\\dataset\\data unziped\\dfdc_train_part_0\\upmgtackuf.mp4\n",
      "C:\\Users\\mahes\\ML\\dataset\\data unziped\\dfdc_train_part_0\\upmgtackuf.mp4\n",
      "C:\\Users\\mahes\\ML\\dataset\\data unziped\\dfdc_train_part_0\\upmgtackuf.mp4\n",
      "C:\\Users\\mahes\\ML\\dataset\\data unziped\\dfdc_train_part_0\\upmgtackuf.mp4\n",
      "C:\\Users\\mahes\\ML\\dataset\\data unziped\\dfdc_train_part_0\\upmgtackuf.mp4\n",
      "C:\\Users\\mahes\\ML\\dataset\\data unziped\\dfdc_train_part_0\\upmgtackuf.mp4\n",
      "C:\\Users\\mahes\\ML\\dataset\\data unziped\\dfdc_train_part_0\\upmgtackuf.mp4\n",
      "C:\\Users\\mahes\\ML\\dataset\\data unziped\\dfdc_train_part_0\\upmgtackuf.mp4\n",
      "C:\\Users\\mahes\\ML\\dataset\\data unziped\\dfdc_train_part_0\\upmgtackuf.mp4\n",
      "C:\\Users\\mahes\\ML\\dataset\\data unziped\\dfdc_train_part_0\\upmgtackuf.mp4\n"
     ]
    },
    {
     "name": "stderr",
     "output_type": "stream",
     "text": [
      "Processing 500 videos:  62%|██████▏   | 311/500 [4:57:59<2:31:29, 48.09s/it]"
     ]
    },
    {
     "name": "stdout",
     "output_type": "stream",
     "text": [
      "C:\\Users\\mahes\\ML\\dataset\\data unziped\\dfdc_train_part_0\\wynotylpnm.mp4\n",
      "C:\\Users\\mahes\\ML\\dataset\\data unziped\\dfdc_train_part_0\\wynotylpnm.mp4\n",
      "C:\\Users\\mahes\\ML\\dataset\\data unziped\\dfdc_train_part_0\\wynotylpnm.mp4\n",
      "C:\\Users\\mahes\\ML\\dataset\\data unziped\\dfdc_train_part_0\\wynotylpnm.mp4\n",
      "C:\\Users\\mahes\\ML\\dataset\\data unziped\\dfdc_train_part_0\\wynotylpnm.mp4\n",
      "C:\\Users\\mahes\\ML\\dataset\\data unziped\\dfdc_train_part_0\\wynotylpnm.mp4\n",
      "C:\\Users\\mahes\\ML\\dataset\\data unziped\\dfdc_train_part_0\\wynotylpnm.mp4\n",
      "C:\\Users\\mahes\\ML\\dataset\\data unziped\\dfdc_train_part_0\\wynotylpnm.mp4\n",
      "C:\\Users\\mahes\\ML\\dataset\\data unziped\\dfdc_train_part_0\\wynotylpnm.mp4\n",
      "C:\\Users\\mahes\\ML\\dataset\\data unziped\\dfdc_train_part_0\\wynotylpnm.mp4\n"
     ]
    },
    {
     "name": "stderr",
     "output_type": "stream",
     "text": [
      "Processing 500 videos:  62%|██████▏   | 312/500 [4:58:44<2:28:07, 47.27s/it]"
     ]
    },
    {
     "name": "stdout",
     "output_type": "stream",
     "text": [
      "C:\\Users\\mahes\\ML\\dataset\\data unziped\\dfdc_train_part_0\\ldtgofdaqg.mp4\n",
      "C:\\Users\\mahes\\ML\\dataset\\data unziped\\dfdc_train_part_0\\ldtgofdaqg.mp4\n",
      "C:\\Users\\mahes\\ML\\dataset\\data unziped\\dfdc_train_part_0\\ldtgofdaqg.mp4\n",
      "C:\\Users\\mahes\\ML\\dataset\\data unziped\\dfdc_train_part_0\\ldtgofdaqg.mp4\n",
      "C:\\Users\\mahes\\ML\\dataset\\data unziped\\dfdc_train_part_0\\ldtgofdaqg.mp4\n",
      "C:\\Users\\mahes\\ML\\dataset\\data unziped\\dfdc_train_part_0\\ldtgofdaqg.mp4\n",
      "C:\\Users\\mahes\\ML\\dataset\\data unziped\\dfdc_train_part_0\\ldtgofdaqg.mp4\n",
      "C:\\Users\\mahes\\ML\\dataset\\data unziped\\dfdc_train_part_0\\ldtgofdaqg.mp4\n",
      "C:\\Users\\mahes\\ML\\dataset\\data unziped\\dfdc_train_part_0\\ldtgofdaqg.mp4\n",
      "C:\\Users\\mahes\\ML\\dataset\\data unziped\\dfdc_train_part_0\\ldtgofdaqg.mp4\n"
     ]
    },
    {
     "name": "stderr",
     "output_type": "stream",
     "text": [
      "Processing 500 videos:  63%|██████▎   | 313/500 [4:59:29<2:25:06, 46.56s/it]"
     ]
    },
    {
     "name": "stdout",
     "output_type": "stream",
     "text": [
      "C:\\Users\\mahes\\ML\\dataset\\data unziped\\dfdc_train_part_0\\fdpisghkmd.mp4\n",
      "C:\\Users\\mahes\\ML\\dataset\\data unziped\\dfdc_train_part_0\\fdpisghkmd.mp4\n",
      "C:\\Users\\mahes\\ML\\dataset\\data unziped\\dfdc_train_part_0\\fdpisghkmd.mp4\n",
      "C:\\Users\\mahes\\ML\\dataset\\data unziped\\dfdc_train_part_0\\fdpisghkmd.mp4\n",
      "C:\\Users\\mahes\\ML\\dataset\\data unziped\\dfdc_train_part_0\\fdpisghkmd.mp4\n",
      "C:\\Users\\mahes\\ML\\dataset\\data unziped\\dfdc_train_part_0\\fdpisghkmd.mp4\n",
      "C:\\Users\\mahes\\ML\\dataset\\data unziped\\dfdc_train_part_0\\fdpisghkmd.mp4\n",
      "C:\\Users\\mahes\\ML\\dataset\\data unziped\\dfdc_train_part_0\\fdpisghkmd.mp4\n",
      "C:\\Users\\mahes\\ML\\dataset\\data unziped\\dfdc_train_part_0\\fdpisghkmd.mp4\n",
      "C:\\Users\\mahes\\ML\\dataset\\data unziped\\dfdc_train_part_0\\fdpisghkmd.mp4\n"
     ]
    },
    {
     "name": "stderr",
     "output_type": "stream",
     "text": [
      "Processing 500 videos:  63%|██████▎   | 314/500 [5:00:15<2:23:06, 46.17s/it]"
     ]
    },
    {
     "name": "stdout",
     "output_type": "stream",
     "text": [
      "C:\\Users\\mahes\\ML\\dataset\\data unziped\\dfdc_train_part_0\\eppyqpgewp.mp4\n",
      "C:\\Users\\mahes\\ML\\dataset\\data unziped\\dfdc_train_part_0\\eppyqpgewp.mp4\n",
      "C:\\Users\\mahes\\ML\\dataset\\data unziped\\dfdc_train_part_0\\eppyqpgewp.mp4\n",
      "C:\\Users\\mahes\\ML\\dataset\\data unziped\\dfdc_train_part_0\\eppyqpgewp.mp4\n",
      "C:\\Users\\mahes\\ML\\dataset\\data unziped\\dfdc_train_part_0\\eppyqpgewp.mp4\n",
      "C:\\Users\\mahes\\ML\\dataset\\data unziped\\dfdc_train_part_0\\eppyqpgewp.mp4\n",
      "C:\\Users\\mahes\\ML\\dataset\\data unziped\\dfdc_train_part_0\\eppyqpgewp.mp4\n",
      "C:\\Users\\mahes\\ML\\dataset\\data unziped\\dfdc_train_part_0\\eppyqpgewp.mp4\n",
      "C:\\Users\\mahes\\ML\\dataset\\data unziped\\dfdc_train_part_0\\eppyqpgewp.mp4\n",
      "C:\\Users\\mahes\\ML\\dataset\\data unziped\\dfdc_train_part_0\\eppyqpgewp.mp4\n"
     ]
    },
    {
     "name": "stderr",
     "output_type": "stream",
     "text": [
      "Processing 500 videos:  63%|██████▎   | 315/500 [5:01:03<2:24:14, 46.78s/it]"
     ]
    },
    {
     "name": "stdout",
     "output_type": "stream",
     "text": [
      "C:\\Users\\mahes\\ML\\dataset\\data unziped\\dfdc_train_part_0\\xjzkfqddyk.mp4\n",
      "C:\\Users\\mahes\\ML\\dataset\\data unziped\\dfdc_train_part_0\\xjzkfqddyk.mp4\n",
      "C:\\Users\\mahes\\ML\\dataset\\data unziped\\dfdc_train_part_0\\xjzkfqddyk.mp4\n",
      "C:\\Users\\mahes\\ML\\dataset\\data unziped\\dfdc_train_part_0\\xjzkfqddyk.mp4\n",
      "C:\\Users\\mahes\\ML\\dataset\\data unziped\\dfdc_train_part_0\\xjzkfqddyk.mp4\n",
      "C:\\Users\\mahes\\ML\\dataset\\data unziped\\dfdc_train_part_0\\xjzkfqddyk.mp4\n",
      "C:\\Users\\mahes\\ML\\dataset\\data unziped\\dfdc_train_part_0\\xjzkfqddyk.mp4\n",
      "C:\\Users\\mahes\\ML\\dataset\\data unziped\\dfdc_train_part_0\\xjzkfqddyk.mp4\n",
      "C:\\Users\\mahes\\ML\\dataset\\data unziped\\dfdc_train_part_0\\xjzkfqddyk.mp4\n",
      "C:\\Users\\mahes\\ML\\dataset\\data unziped\\dfdc_train_part_0\\xjzkfqddyk.mp4\n"
     ]
    },
    {
     "name": "stderr",
     "output_type": "stream",
     "text": [
      "Processing 500 videos:  63%|██████▎   | 316/500 [5:01:52<2:26:01, 47.62s/it]"
     ]
    },
    {
     "name": "stdout",
     "output_type": "stream",
     "text": [
      "C:\\Users\\mahes\\ML\\dataset\\data unziped\\dfdc_train_part_0\\qyqufaskjs.mp4\n",
      "C:\\Users\\mahes\\ML\\dataset\\data unziped\\dfdc_train_part_0\\qyqufaskjs.mp4\n",
      "C:\\Users\\mahes\\ML\\dataset\\data unziped\\dfdc_train_part_0\\qyqufaskjs.mp4\n",
      "C:\\Users\\mahes\\ML\\dataset\\data unziped\\dfdc_train_part_0\\qyqufaskjs.mp4\n",
      "C:\\Users\\mahes\\ML\\dataset\\data unziped\\dfdc_train_part_0\\qyqufaskjs.mp4\n",
      "C:\\Users\\mahes\\ML\\dataset\\data unziped\\dfdc_train_part_0\\qyqufaskjs.mp4\n",
      "C:\\Users\\mahes\\ML\\dataset\\data unziped\\dfdc_train_part_0\\qyqufaskjs.mp4\n",
      "C:\\Users\\mahes\\ML\\dataset\\data unziped\\dfdc_train_part_0\\qyqufaskjs.mp4\n",
      "C:\\Users\\mahes\\ML\\dataset\\data unziped\\dfdc_train_part_0\\qyqufaskjs.mp4\n",
      "C:\\Users\\mahes\\ML\\dataset\\data unziped\\dfdc_train_part_0\\qyqufaskjs.mp4\n"
     ]
    },
    {
     "name": "stderr",
     "output_type": "stream",
     "text": [
      "Processing 500 videos:  63%|██████▎   | 317/500 [5:02:39<2:23:56, 47.19s/it]"
     ]
    },
    {
     "name": "stdout",
     "output_type": "stream",
     "text": [
      "C:\\Users\\mahes\\ML\\dataset\\data unziped\\dfdc_train_part_0\\hivnldfvyl.mp4\n",
      "C:\\Users\\mahes\\ML\\dataset\\data unziped\\dfdc_train_part_0\\hivnldfvyl.mp4\n",
      "C:\\Users\\mahes\\ML\\dataset\\data unziped\\dfdc_train_part_0\\hivnldfvyl.mp4\n",
      "C:\\Users\\mahes\\ML\\dataset\\data unziped\\dfdc_train_part_0\\hivnldfvyl.mp4\n",
      "C:\\Users\\mahes\\ML\\dataset\\data unziped\\dfdc_train_part_0\\hivnldfvyl.mp4\n",
      "C:\\Users\\mahes\\ML\\dataset\\data unziped\\dfdc_train_part_0\\hivnldfvyl.mp4\n",
      "C:\\Users\\mahes\\ML\\dataset\\data unziped\\dfdc_train_part_0\\hivnldfvyl.mp4\n",
      "C:\\Users\\mahes\\ML\\dataset\\data unziped\\dfdc_train_part_0\\hivnldfvyl.mp4\n",
      "C:\\Users\\mahes\\ML\\dataset\\data unziped\\dfdc_train_part_0\\hivnldfvyl.mp4\n",
      "C:\\Users\\mahes\\ML\\dataset\\data unziped\\dfdc_train_part_0\\hivnldfvyl.mp4\n"
     ]
    },
    {
     "name": "stderr",
     "output_type": "stream",
     "text": [
      "Processing 500 videos:  64%|██████▎   | 318/500 [5:03:27<2:24:07, 47.51s/it]"
     ]
    },
    {
     "name": "stdout",
     "output_type": "stream",
     "text": [
      "C:\\Users\\mahes\\ML\\dataset\\data unziped\\dfdc_train_part_0\\uqtqhiqymz.mp4\n",
      "C:\\Users\\mahes\\ML\\dataset\\data unziped\\dfdc_train_part_0\\uqtqhiqymz.mp4\n",
      "C:\\Users\\mahes\\ML\\dataset\\data unziped\\dfdc_train_part_0\\uqtqhiqymz.mp4\n",
      "C:\\Users\\mahes\\ML\\dataset\\data unziped\\dfdc_train_part_0\\uqtqhiqymz.mp4\n",
      "C:\\Users\\mahes\\ML\\dataset\\data unziped\\dfdc_train_part_0\\uqtqhiqymz.mp4\n",
      "C:\\Users\\mahes\\ML\\dataset\\data unziped\\dfdc_train_part_0\\uqtqhiqymz.mp4\n",
      "C:\\Users\\mahes\\ML\\dataset\\data unziped\\dfdc_train_part_0\\uqtqhiqymz.mp4\n",
      "C:\\Users\\mahes\\ML\\dataset\\data unziped\\dfdc_train_part_0\\uqtqhiqymz.mp4\n",
      "C:\\Users\\mahes\\ML\\dataset\\data unziped\\dfdc_train_part_0\\uqtqhiqymz.mp4\n",
      "C:\\Users\\mahes\\ML\\dataset\\data unziped\\dfdc_train_part_0\\uqtqhiqymz.mp4\n"
     ]
    },
    {
     "name": "stderr",
     "output_type": "stream",
     "text": [
      "Processing 500 videos:  64%|██████▍   | 319/500 [5:04:17<2:25:41, 48.29s/it]"
     ]
    },
    {
     "name": "stdout",
     "output_type": "stream",
     "text": [
      "C:\\Users\\mahes\\ML\\dataset\\data unziped\\dfdc_train_part_0\\wynotylpnm.mp4\n",
      "C:\\Users\\mahes\\ML\\dataset\\data unziped\\dfdc_train_part_0\\wynotylpnm.mp4\n",
      "C:\\Users\\mahes\\ML\\dataset\\data unziped\\dfdc_train_part_0\\wynotylpnm.mp4\n",
      "C:\\Users\\mahes\\ML\\dataset\\data unziped\\dfdc_train_part_0\\wynotylpnm.mp4\n",
      "C:\\Users\\mahes\\ML\\dataset\\data unziped\\dfdc_train_part_0\\wynotylpnm.mp4\n",
      "C:\\Users\\mahes\\ML\\dataset\\data unziped\\dfdc_train_part_0\\wynotylpnm.mp4\n",
      "C:\\Users\\mahes\\ML\\dataset\\data unziped\\dfdc_train_part_0\\wynotylpnm.mp4\n",
      "C:\\Users\\mahes\\ML\\dataset\\data unziped\\dfdc_train_part_0\\wynotylpnm.mp4\n",
      "C:\\Users\\mahes\\ML\\dataset\\data unziped\\dfdc_train_part_0\\wynotylpnm.mp4\n",
      "C:\\Users\\mahes\\ML\\dataset\\data unziped\\dfdc_train_part_0\\wynotylpnm.mp4\n"
     ]
    },
    {
     "name": "stderr",
     "output_type": "stream",
     "text": [
      "Processing 500 videos:  64%|██████▍   | 320/500 [5:05:02<2:22:03, 47.35s/it]"
     ]
    },
    {
     "name": "stdout",
     "output_type": "stream",
     "text": [
      "C:\\Users\\mahes\\ML\\dataset\\data unziped\\dfdc_train_part_0\\dxfdovivlw.mp4\n",
      "C:\\Users\\mahes\\ML\\dataset\\data unziped\\dfdc_train_part_0\\dxfdovivlw.mp4\n",
      "C:\\Users\\mahes\\ML\\dataset\\data unziped\\dfdc_train_part_0\\dxfdovivlw.mp4\n",
      "C:\\Users\\mahes\\ML\\dataset\\data unziped\\dfdc_train_part_0\\dxfdovivlw.mp4\n",
      "C:\\Users\\mahes\\ML\\dataset\\data unziped\\dfdc_train_part_0\\dxfdovivlw.mp4\n",
      "C:\\Users\\mahes\\ML\\dataset\\data unziped\\dfdc_train_part_0\\dxfdovivlw.mp4\n",
      "C:\\Users\\mahes\\ML\\dataset\\data unziped\\dfdc_train_part_0\\dxfdovivlw.mp4\n",
      "C:\\Users\\mahes\\ML\\dataset\\data unziped\\dfdc_train_part_0\\dxfdovivlw.mp4\n",
      "C:\\Users\\mahes\\ML\\dataset\\data unziped\\dfdc_train_part_0\\dxfdovivlw.mp4\n",
      "C:\\Users\\mahes\\ML\\dataset\\data unziped\\dfdc_train_part_0\\dxfdovivlw.mp4\n"
     ]
    },
    {
     "name": "stderr",
     "output_type": "stream",
     "text": [
      "Processing 500 videos:  64%|██████▍   | 321/500 [5:05:45<2:17:31, 46.10s/it]"
     ]
    },
    {
     "name": "stdout",
     "output_type": "stream",
     "text": [
      "C:\\Users\\mahes\\ML\\dataset\\data unziped\\dfdc_train_part_0\\yljecirelf.mp4\n",
      "C:\\Users\\mahes\\ML\\dataset\\data unziped\\dfdc_train_part_0\\yljecirelf.mp4\n",
      "C:\\Users\\mahes\\ML\\dataset\\data unziped\\dfdc_train_part_0\\yljecirelf.mp4\n",
      "C:\\Users\\mahes\\ML\\dataset\\data unziped\\dfdc_train_part_0\\yljecirelf.mp4\n",
      "C:\\Users\\mahes\\ML\\dataset\\data unziped\\dfdc_train_part_0\\yljecirelf.mp4\n",
      "C:\\Users\\mahes\\ML\\dataset\\data unziped\\dfdc_train_part_0\\yljecirelf.mp4\n",
      "C:\\Users\\mahes\\ML\\dataset\\data unziped\\dfdc_train_part_0\\yljecirelf.mp4\n",
      "C:\\Users\\mahes\\ML\\dataset\\data unziped\\dfdc_train_part_0\\yljecirelf.mp4\n",
      "C:\\Users\\mahes\\ML\\dataset\\data unziped\\dfdc_train_part_0\\yljecirelf.mp4\n",
      "C:\\Users\\mahes\\ML\\dataset\\data unziped\\dfdc_train_part_0\\yljecirelf.mp4\n"
     ]
    },
    {
     "name": "stderr",
     "output_type": "stream",
     "text": [
      "Processing 500 videos:  64%|██████▍   | 322/500 [5:06:38<2:22:32, 48.05s/it]"
     ]
    },
    {
     "name": "stdout",
     "output_type": "stream",
     "text": [
      "C:\\Users\\mahes\\ML\\dataset\\data unziped\\dfdc_train_part_0\\fsaronfupy.mp4\n",
      "C:\\Users\\mahes\\ML\\dataset\\data unziped\\dfdc_train_part_0\\fsaronfupy.mp4\n",
      "C:\\Users\\mahes\\ML\\dataset\\data unziped\\dfdc_train_part_0\\fsaronfupy.mp4\n",
      "C:\\Users\\mahes\\ML\\dataset\\data unziped\\dfdc_train_part_0\\fsaronfupy.mp4\n",
      "C:\\Users\\mahes\\ML\\dataset\\data unziped\\dfdc_train_part_0\\fsaronfupy.mp4\n",
      "C:\\Users\\mahes\\ML\\dataset\\data unziped\\dfdc_train_part_0\\fsaronfupy.mp4\n",
      "C:\\Users\\mahes\\ML\\dataset\\data unziped\\dfdc_train_part_0\\fsaronfupy.mp4\n",
      "C:\\Users\\mahes\\ML\\dataset\\data unziped\\dfdc_train_part_0\\fsaronfupy.mp4\n",
      "C:\\Users\\mahes\\ML\\dataset\\data unziped\\dfdc_train_part_0\\fsaronfupy.mp4\n",
      "C:\\Users\\mahes\\ML\\dataset\\data unziped\\dfdc_train_part_0\\fsaronfupy.mp4\n"
     ]
    },
    {
     "name": "stderr",
     "output_type": "stream",
     "text": [
      "Processing 500 videos:  65%|██████▍   | 323/500 [5:07:22<2:17:57, 46.77s/it]"
     ]
    },
    {
     "name": "stdout",
     "output_type": "stream",
     "text": [
      "C:\\Users\\mahes\\ML\\dataset\\data unziped\\dfdc_train_part_0\\gnmmhlbzge.mp4\n",
      "C:\\Users\\mahes\\ML\\dataset\\data unziped\\dfdc_train_part_0\\gnmmhlbzge.mp4\n",
      "C:\\Users\\mahes\\ML\\dataset\\data unziped\\dfdc_train_part_0\\gnmmhlbzge.mp4\n",
      "C:\\Users\\mahes\\ML\\dataset\\data unziped\\dfdc_train_part_0\\gnmmhlbzge.mp4\n",
      "C:\\Users\\mahes\\ML\\dataset\\data unziped\\dfdc_train_part_0\\gnmmhlbzge.mp4\n",
      "C:\\Users\\mahes\\ML\\dataset\\data unziped\\dfdc_train_part_0\\gnmmhlbzge.mp4\n",
      "C:\\Users\\mahes\\ML\\dataset\\data unziped\\dfdc_train_part_0\\gnmmhlbzge.mp4\n",
      "C:\\Users\\mahes\\ML\\dataset\\data unziped\\dfdc_train_part_0\\gnmmhlbzge.mp4\n",
      "C:\\Users\\mahes\\ML\\dataset\\data unziped\\dfdc_train_part_0\\gnmmhlbzge.mp4\n",
      "C:\\Users\\mahes\\ML\\dataset\\data unziped\\dfdc_train_part_0\\gnmmhlbzge.mp4\n"
     ]
    },
    {
     "name": "stderr",
     "output_type": "stream",
     "text": [
      "Processing 500 videos:  65%|██████▍   | 324/500 [5:08:04<2:13:20, 45.46s/it]"
     ]
    },
    {
     "name": "stdout",
     "output_type": "stream",
     "text": [
      "C:\\Users\\mahes\\ML\\dataset\\data unziped\\dfdc_train_part_0\\prdrkaxeob.mp4\n",
      "C:\\Users\\mahes\\ML\\dataset\\data unziped\\dfdc_train_part_0\\prdrkaxeob.mp4\n",
      "C:\\Users\\mahes\\ML\\dataset\\data unziped\\dfdc_train_part_0\\prdrkaxeob.mp4\n",
      "C:\\Users\\mahes\\ML\\dataset\\data unziped\\dfdc_train_part_0\\prdrkaxeob.mp4\n",
      "C:\\Users\\mahes\\ML\\dataset\\data unziped\\dfdc_train_part_0\\prdrkaxeob.mp4\n",
      "C:\\Users\\mahes\\ML\\dataset\\data unziped\\dfdc_train_part_0\\prdrkaxeob.mp4\n",
      "C:\\Users\\mahes\\ML\\dataset\\data unziped\\dfdc_train_part_0\\prdrkaxeob.mp4\n",
      "C:\\Users\\mahes\\ML\\dataset\\data unziped\\dfdc_train_part_0\\prdrkaxeob.mp4\n",
      "C:\\Users\\mahes\\ML\\dataset\\data unziped\\dfdc_train_part_0\\prdrkaxeob.mp4\n",
      "C:\\Users\\mahes\\ML\\dataset\\data unziped\\dfdc_train_part_0\\prdrkaxeob.mp4\n"
     ]
    },
    {
     "name": "stderr",
     "output_type": "stream",
     "text": [
      "Processing 500 videos:  65%|██████▌   | 325/500 [5:08:53<2:15:30, 46.46s/it]"
     ]
    },
    {
     "name": "stdout",
     "output_type": "stream",
     "text": [
      "C:\\Users\\mahes\\ML\\dataset\\data unziped\\dfdc_train_part_0\\xkfliqnmwt.mp4\n",
      "C:\\Users\\mahes\\ML\\dataset\\data unziped\\dfdc_train_part_0\\xkfliqnmwt.mp4\n",
      "C:\\Users\\mahes\\ML\\dataset\\data unziped\\dfdc_train_part_0\\xkfliqnmwt.mp4\n",
      "C:\\Users\\mahes\\ML\\dataset\\data unziped\\dfdc_train_part_0\\xkfliqnmwt.mp4\n",
      "C:\\Users\\mahes\\ML\\dataset\\data unziped\\dfdc_train_part_0\\xkfliqnmwt.mp4\n",
      "C:\\Users\\mahes\\ML\\dataset\\data unziped\\dfdc_train_part_0\\xkfliqnmwt.mp4\n",
      "C:\\Users\\mahes\\ML\\dataset\\data unziped\\dfdc_train_part_0\\xkfliqnmwt.mp4\n",
      "C:\\Users\\mahes\\ML\\dataset\\data unziped\\dfdc_train_part_0\\xkfliqnmwt.mp4\n",
      "C:\\Users\\mahes\\ML\\dataset\\data unziped\\dfdc_train_part_0\\xkfliqnmwt.mp4\n",
      "C:\\Users\\mahes\\ML\\dataset\\data unziped\\dfdc_train_part_0\\xkfliqnmwt.mp4\n"
     ]
    },
    {
     "name": "stderr",
     "output_type": "stream",
     "text": [
      "Processing 500 videos:  65%|██████▌   | 326/500 [5:09:43<2:18:22, 47.72s/it]"
     ]
    },
    {
     "name": "stdout",
     "output_type": "stream",
     "text": [
      "C:\\Users\\mahes\\ML\\dataset\\data unziped\\dfdc_train_part_0\\uprwuohbwx.mp4\n",
      "C:\\Users\\mahes\\ML\\dataset\\data unziped\\dfdc_train_part_0\\uprwuohbwx.mp4\n",
      "C:\\Users\\mahes\\ML\\dataset\\data unziped\\dfdc_train_part_0\\uprwuohbwx.mp4\n",
      "C:\\Users\\mahes\\ML\\dataset\\data unziped\\dfdc_train_part_0\\uprwuohbwx.mp4\n",
      "C:\\Users\\mahes\\ML\\dataset\\data unziped\\dfdc_train_part_0\\uprwuohbwx.mp4\n",
      "C:\\Users\\mahes\\ML\\dataset\\data unziped\\dfdc_train_part_0\\uprwuohbwx.mp4\n",
      "C:\\Users\\mahes\\ML\\dataset\\data unziped\\dfdc_train_part_0\\uprwuohbwx.mp4\n",
      "C:\\Users\\mahes\\ML\\dataset\\data unziped\\dfdc_train_part_0\\uprwuohbwx.mp4\n",
      "C:\\Users\\mahes\\ML\\dataset\\data unziped\\dfdc_train_part_0\\uprwuohbwx.mp4\n",
      "C:\\Users\\mahes\\ML\\dataset\\data unziped\\dfdc_train_part_0\\uprwuohbwx.mp4\n"
     ]
    },
    {
     "name": "stderr",
     "output_type": "stream",
     "text": [
      "Processing 500 videos:  65%|██████▌   | 327/500 [5:10:36<2:21:19, 49.02s/it]"
     ]
    },
    {
     "name": "stdout",
     "output_type": "stream",
     "text": [
      "C:\\Users\\mahes\\ML\\dataset\\data unziped\\dfdc_train_part_0\\eiwtggvtfp.mp4\n",
      "C:\\Users\\mahes\\ML\\dataset\\data unziped\\dfdc_train_part_0\\eiwtggvtfp.mp4\n",
      "C:\\Users\\mahes\\ML\\dataset\\data unziped\\dfdc_train_part_0\\eiwtggvtfp.mp4\n",
      "C:\\Users\\mahes\\ML\\dataset\\data unziped\\dfdc_train_part_0\\eiwtggvtfp.mp4\n",
      "C:\\Users\\mahes\\ML\\dataset\\data unziped\\dfdc_train_part_0\\eiwtggvtfp.mp4\n",
      "C:\\Users\\mahes\\ML\\dataset\\data unziped\\dfdc_train_part_0\\eiwtggvtfp.mp4\n",
      "C:\\Users\\mahes\\ML\\dataset\\data unziped\\dfdc_train_part_0\\eiwtggvtfp.mp4\n",
      "C:\\Users\\mahes\\ML\\dataset\\data unziped\\dfdc_train_part_0\\eiwtggvtfp.mp4\n",
      "C:\\Users\\mahes\\ML\\dataset\\data unziped\\dfdc_train_part_0\\eiwtggvtfp.mp4\n",
      "C:\\Users\\mahes\\ML\\dataset\\data unziped\\dfdc_train_part_0\\eiwtggvtfp.mp4\n"
     ]
    },
    {
     "name": "stderr",
     "output_type": "stream",
     "text": [
      "Processing 500 videos:  66%|██████▌   | 328/500 [5:11:27<2:22:34, 49.74s/it]"
     ]
    },
    {
     "name": "stdout",
     "output_type": "stream",
     "text": [
      "C:\\Users\\mahes\\ML\\dataset\\data unziped\\dfdc_train_part_0\\kqlvggiqee.mp4\n",
      "C:\\Users\\mahes\\ML\\dataset\\data unziped\\dfdc_train_part_0\\kqlvggiqee.mp4\n",
      "C:\\Users\\mahes\\ML\\dataset\\data unziped\\dfdc_train_part_0\\kqlvggiqee.mp4\n",
      "C:\\Users\\mahes\\ML\\dataset\\data unziped\\dfdc_train_part_0\\kqlvggiqee.mp4\n",
      "C:\\Users\\mahes\\ML\\dataset\\data unziped\\dfdc_train_part_0\\kqlvggiqee.mp4\n",
      "C:\\Users\\mahes\\ML\\dataset\\data unziped\\dfdc_train_part_0\\kqlvggiqee.mp4\n",
      "C:\\Users\\mahes\\ML\\dataset\\data unziped\\dfdc_train_part_0\\kqlvggiqee.mp4\n",
      "C:\\Users\\mahes\\ML\\dataset\\data unziped\\dfdc_train_part_0\\kqlvggiqee.mp4\n",
      "C:\\Users\\mahes\\ML\\dataset\\data unziped\\dfdc_train_part_0\\kqlvggiqee.mp4\n",
      "C:\\Users\\mahes\\ML\\dataset\\data unziped\\dfdc_train_part_0\\kqlvggiqee.mp4\n"
     ]
    },
    {
     "name": "stderr",
     "output_type": "stream",
     "text": [
      "Processing 500 videos:  66%|██████▌   | 329/500 [5:12:12<2:17:44, 48.33s/it]"
     ]
    },
    {
     "name": "stdout",
     "output_type": "stream",
     "text": [
      "C:\\Users\\mahes\\ML\\dataset\\data unziped\\dfdc_train_part_0\\heiyoojifp.mp4\n",
      "C:\\Users\\mahes\\ML\\dataset\\data unziped\\dfdc_train_part_0\\heiyoojifp.mp4\n",
      "C:\\Users\\mahes\\ML\\dataset\\data unziped\\dfdc_train_part_0\\heiyoojifp.mp4\n",
      "C:\\Users\\mahes\\ML\\dataset\\data unziped\\dfdc_train_part_0\\heiyoojifp.mp4\n",
      "C:\\Users\\mahes\\ML\\dataset\\data unziped\\dfdc_train_part_0\\heiyoojifp.mp4\n",
      "C:\\Users\\mahes\\ML\\dataset\\data unziped\\dfdc_train_part_0\\heiyoojifp.mp4\n",
      "C:\\Users\\mahes\\ML\\dataset\\data unziped\\dfdc_train_part_0\\heiyoojifp.mp4\n",
      "C:\\Users\\mahes\\ML\\dataset\\data unziped\\dfdc_train_part_0\\heiyoojifp.mp4\n",
      "C:\\Users\\mahes\\ML\\dataset\\data unziped\\dfdc_train_part_0\\heiyoojifp.mp4\n",
      "C:\\Users\\mahes\\ML\\dataset\\data unziped\\dfdc_train_part_0\\heiyoojifp.mp4\n"
     ]
    },
    {
     "name": "stderr",
     "output_type": "stream",
     "text": [
      "Processing 500 videos:  66%|██████▌   | 330/500 [5:13:03<2:19:14, 49.14s/it]"
     ]
    },
    {
     "name": "stdout",
     "output_type": "stream",
     "text": [
      "C:\\Users\\mahes\\ML\\dataset\\data unziped\\dfdc_train_part_0\\fopjiyxiqd.mp4\n",
      "C:\\Users\\mahes\\ML\\dataset\\data unziped\\dfdc_train_part_0\\fopjiyxiqd.mp4\n",
      "C:\\Users\\mahes\\ML\\dataset\\data unziped\\dfdc_train_part_0\\fopjiyxiqd.mp4\n",
      "C:\\Users\\mahes\\ML\\dataset\\data unziped\\dfdc_train_part_0\\fopjiyxiqd.mp4\n",
      "C:\\Users\\mahes\\ML\\dataset\\data unziped\\dfdc_train_part_0\\fopjiyxiqd.mp4\n",
      "C:\\Users\\mahes\\ML\\dataset\\data unziped\\dfdc_train_part_0\\fopjiyxiqd.mp4\n",
      "C:\\Users\\mahes\\ML\\dataset\\data unziped\\dfdc_train_part_0\\fopjiyxiqd.mp4\n",
      "C:\\Users\\mahes\\ML\\dataset\\data unziped\\dfdc_train_part_0\\fopjiyxiqd.mp4\n",
      "C:\\Users\\mahes\\ML\\dataset\\data unziped\\dfdc_train_part_0\\fopjiyxiqd.mp4\n",
      "C:\\Users\\mahes\\ML\\dataset\\data unziped\\dfdc_train_part_0\\fopjiyxiqd.mp4\n"
     ]
    },
    {
     "name": "stderr",
     "output_type": "stream",
     "text": [
      "Processing 500 videos:  66%|██████▌   | 331/500 [5:13:49<2:16:10, 48.34s/it]"
     ]
    },
    {
     "name": "stdout",
     "output_type": "stream",
     "text": [
      "C:\\Users\\mahes\\ML\\dataset\\data unziped\\dfdc_train_part_0\\xcruhaccxc.mp4\n",
      "C:\\Users\\mahes\\ML\\dataset\\data unziped\\dfdc_train_part_0\\xcruhaccxc.mp4\n",
      "C:\\Users\\mahes\\ML\\dataset\\data unziped\\dfdc_train_part_0\\xcruhaccxc.mp4\n",
      "C:\\Users\\mahes\\ML\\dataset\\data unziped\\dfdc_train_part_0\\xcruhaccxc.mp4\n",
      "C:\\Users\\mahes\\ML\\dataset\\data unziped\\dfdc_train_part_0\\xcruhaccxc.mp4\n",
      "C:\\Users\\mahes\\ML\\dataset\\data unziped\\dfdc_train_part_0\\xcruhaccxc.mp4\n",
      "C:\\Users\\mahes\\ML\\dataset\\data unziped\\dfdc_train_part_0\\xcruhaccxc.mp4\n",
      "C:\\Users\\mahes\\ML\\dataset\\data unziped\\dfdc_train_part_0\\xcruhaccxc.mp4\n",
      "C:\\Users\\mahes\\ML\\dataset\\data unziped\\dfdc_train_part_0\\xcruhaccxc.mp4\n",
      "C:\\Users\\mahes\\ML\\dataset\\data unziped\\dfdc_train_part_0\\xcruhaccxc.mp4\n"
     ]
    },
    {
     "name": "stderr",
     "output_type": "stream",
     "text": [
      "Processing 500 videos:  66%|██████▋   | 332/500 [5:14:39<2:16:00, 48.57s/it]"
     ]
    },
    {
     "name": "stdout",
     "output_type": "stream",
     "text": [
      "C:\\Users\\mahes\\ML\\dataset\\data unziped\\dfdc_train_part_0\\heiyoojifp.mp4\n",
      "C:\\Users\\mahes\\ML\\dataset\\data unziped\\dfdc_train_part_0\\heiyoojifp.mp4\n",
      "C:\\Users\\mahes\\ML\\dataset\\data unziped\\dfdc_train_part_0\\heiyoojifp.mp4\n",
      "C:\\Users\\mahes\\ML\\dataset\\data unziped\\dfdc_train_part_0\\heiyoojifp.mp4\n",
      "C:\\Users\\mahes\\ML\\dataset\\data unziped\\dfdc_train_part_0\\heiyoojifp.mp4\n",
      "C:\\Users\\mahes\\ML\\dataset\\data unziped\\dfdc_train_part_0\\heiyoojifp.mp4\n",
      "C:\\Users\\mahes\\ML\\dataset\\data unziped\\dfdc_train_part_0\\heiyoojifp.mp4\n",
      "C:\\Users\\mahes\\ML\\dataset\\data unziped\\dfdc_train_part_0\\heiyoojifp.mp4\n",
      "C:\\Users\\mahes\\ML\\dataset\\data unziped\\dfdc_train_part_0\\heiyoojifp.mp4\n",
      "C:\\Users\\mahes\\ML\\dataset\\data unziped\\dfdc_train_part_0\\heiyoojifp.mp4\n"
     ]
    },
    {
     "name": "stderr",
     "output_type": "stream",
     "text": [
      "Processing 500 videos:  67%|██████▋   | 333/500 [5:15:29<2:16:48, 49.15s/it]"
     ]
    },
    {
     "name": "stdout",
     "output_type": "stream",
     "text": [
      "C:\\Users\\mahes\\ML\\dataset\\data unziped\\dfdc_train_part_0\\fopjiyxiqd.mp4\n",
      "C:\\Users\\mahes\\ML\\dataset\\data unziped\\dfdc_train_part_0\\fopjiyxiqd.mp4\n",
      "C:\\Users\\mahes\\ML\\dataset\\data unziped\\dfdc_train_part_0\\fopjiyxiqd.mp4\n",
      "C:\\Users\\mahes\\ML\\dataset\\data unziped\\dfdc_train_part_0\\fopjiyxiqd.mp4\n",
      "C:\\Users\\mahes\\ML\\dataset\\data unziped\\dfdc_train_part_0\\fopjiyxiqd.mp4\n",
      "C:\\Users\\mahes\\ML\\dataset\\data unziped\\dfdc_train_part_0\\fopjiyxiqd.mp4\n",
      "C:\\Users\\mahes\\ML\\dataset\\data unziped\\dfdc_train_part_0\\fopjiyxiqd.mp4\n",
      "C:\\Users\\mahes\\ML\\dataset\\data unziped\\dfdc_train_part_0\\fopjiyxiqd.mp4\n",
      "C:\\Users\\mahes\\ML\\dataset\\data unziped\\dfdc_train_part_0\\fopjiyxiqd.mp4\n",
      "C:\\Users\\mahes\\ML\\dataset\\data unziped\\dfdc_train_part_0\\fopjiyxiqd.mp4\n"
     ]
    },
    {
     "name": "stderr",
     "output_type": "stream",
     "text": [
      "Processing 500 videos:  67%|██████▋   | 334/500 [5:16:16<2:13:51, 48.38s/it]"
     ]
    },
    {
     "name": "stdout",
     "output_type": "stream",
     "text": [
      "C:\\Users\\mahes\\ML\\dataset\\data unziped\\dfdc_train_part_0\\xjzkfqddyk.mp4\n",
      "C:\\Users\\mahes\\ML\\dataset\\data unziped\\dfdc_train_part_0\\xjzkfqddyk.mp4\n",
      "C:\\Users\\mahes\\ML\\dataset\\data unziped\\dfdc_train_part_0\\xjzkfqddyk.mp4\n",
      "C:\\Users\\mahes\\ML\\dataset\\data unziped\\dfdc_train_part_0\\xjzkfqddyk.mp4\n",
      "C:\\Users\\mahes\\ML\\dataset\\data unziped\\dfdc_train_part_0\\xjzkfqddyk.mp4\n",
      "C:\\Users\\mahes\\ML\\dataset\\data unziped\\dfdc_train_part_0\\xjzkfqddyk.mp4\n",
      "C:\\Users\\mahes\\ML\\dataset\\data unziped\\dfdc_train_part_0\\xjzkfqddyk.mp4\n",
      "C:\\Users\\mahes\\ML\\dataset\\data unziped\\dfdc_train_part_0\\xjzkfqddyk.mp4\n",
      "C:\\Users\\mahes\\ML\\dataset\\data unziped\\dfdc_train_part_0\\xjzkfqddyk.mp4\n",
      "C:\\Users\\mahes\\ML\\dataset\\data unziped\\dfdc_train_part_0\\xjzkfqddyk.mp4\n"
     ]
    },
    {
     "name": "stderr",
     "output_type": "stream",
     "text": [
      "Processing 500 videos:  67%|██████▋   | 335/500 [5:17:06<2:14:57, 49.07s/it]"
     ]
    },
    {
     "name": "stdout",
     "output_type": "stream",
     "text": [
      "C:\\Users\\mahes\\ML\\dataset\\data unziped\\dfdc_train_part_0\\qarqtkvgby.mp4\n",
      "C:\\Users\\mahes\\ML\\dataset\\data unziped\\dfdc_train_part_0\\qarqtkvgby.mp4\n",
      "C:\\Users\\mahes\\ML\\dataset\\data unziped\\dfdc_train_part_0\\qarqtkvgby.mp4\n",
      "C:\\Users\\mahes\\ML\\dataset\\data unziped\\dfdc_train_part_0\\qarqtkvgby.mp4\n",
      "C:\\Users\\mahes\\ML\\dataset\\data unziped\\dfdc_train_part_0\\qarqtkvgby.mp4\n",
      "C:\\Users\\mahes\\ML\\dataset\\data unziped\\dfdc_train_part_0\\qarqtkvgby.mp4\n",
      "C:\\Users\\mahes\\ML\\dataset\\data unziped\\dfdc_train_part_0\\qarqtkvgby.mp4\n",
      "C:\\Users\\mahes\\ML\\dataset\\data unziped\\dfdc_train_part_0\\qarqtkvgby.mp4\n",
      "C:\\Users\\mahes\\ML\\dataset\\data unziped\\dfdc_train_part_0\\qarqtkvgby.mp4\n",
      "C:\\Users\\mahes\\ML\\dataset\\data unziped\\dfdc_train_part_0\\qarqtkvgby.mp4\n"
     ]
    },
    {
     "name": "stderr",
     "output_type": "stream",
     "text": [
      "Processing 500 videos:  67%|██████▋   | 336/500 [5:17:52<2:11:39, 48.17s/it]"
     ]
    },
    {
     "name": "stdout",
     "output_type": "stream",
     "text": [
      "C:\\Users\\mahes\\ML\\dataset\\data unziped\\dfdc_train_part_0\\xdezcezszc.mp4\n",
      "C:\\Users\\mahes\\ML\\dataset\\data unziped\\dfdc_train_part_0\\xdezcezszc.mp4\n",
      "C:\\Users\\mahes\\ML\\dataset\\data unziped\\dfdc_train_part_0\\xdezcezszc.mp4\n",
      "C:\\Users\\mahes\\ML\\dataset\\data unziped\\dfdc_train_part_0\\xdezcezszc.mp4\n",
      "C:\\Users\\mahes\\ML\\dataset\\data unziped\\dfdc_train_part_0\\xdezcezszc.mp4\n",
      "C:\\Users\\mahes\\ML\\dataset\\data unziped\\dfdc_train_part_0\\xdezcezszc.mp4\n",
      "C:\\Users\\mahes\\ML\\dataset\\data unziped\\dfdc_train_part_0\\xdezcezszc.mp4\n",
      "C:\\Users\\mahes\\ML\\dataset\\data unziped\\dfdc_train_part_0\\xdezcezszc.mp4\n",
      "C:\\Users\\mahes\\ML\\dataset\\data unziped\\dfdc_train_part_0\\xdezcezszc.mp4\n",
      "C:\\Users\\mahes\\ML\\dataset\\data unziped\\dfdc_train_part_0\\xdezcezszc.mp4\n"
     ]
    },
    {
     "name": "stderr",
     "output_type": "stream",
     "text": [
      "Processing 500 videos:  67%|██████▋   | 337/500 [5:18:43<2:12:51, 48.90s/it]"
     ]
    },
    {
     "name": "stdout",
     "output_type": "stream",
     "text": [
      "C:\\Users\\mahes\\ML\\dataset\\data unziped\\dfdc_train_part_0\\REAL\n",
      "C:\\Users\\mahes\\ML\\dataset\\data unziped\\dfdc_train_part_0\\REAL\n",
      "C:\\Users\\mahes\\ML\\dataset\\data unziped\\dfdc_train_part_0\\REAL\n",
      "C:\\Users\\mahes\\ML\\dataset\\data unziped\\dfdc_train_part_0\\REAL\n",
      "C:\\Users\\mahes\\ML\\dataset\\data unziped\\dfdc_train_part_0\\REAL\n",
      "C:\\Users\\mahes\\ML\\dataset\\data unziped\\dfdc_train_part_0\\REAL\n",
      "C:\\Users\\mahes\\ML\\dataset\\data unziped\\dfdc_train_part_0\\REAL\n",
      "C:\\Users\\mahes\\ML\\dataset\\data unziped\\dfdc_train_part_0\\REAL\n",
      "C:\\Users\\mahes\\ML\\dataset\\data unziped\\dfdc_train_part_0\\REAL\n"
     ]
    },
    {
     "name": "stderr",
     "output_type": "stream",
     "text": [
      "Processing 500 videos:  68%|██████▊   | 338/500 [5:18:51<1:38:49, 36.60s/it]"
     ]
    },
    {
     "name": "stdout",
     "output_type": "stream",
     "text": [
      "C:\\Users\\mahes\\ML\\dataset\\data unziped\\dfdc_train_part_0\\REAL\n",
      "C:\\Users\\mahes\\ML\\dataset\\data unziped\\dfdc_train_part_0\\fopjiyxiqd.mp4\n",
      "C:\\Users\\mahes\\ML\\dataset\\data unziped\\dfdc_train_part_0\\fopjiyxiqd.mp4\n",
      "C:\\Users\\mahes\\ML\\dataset\\data unziped\\dfdc_train_part_0\\fopjiyxiqd.mp4\n",
      "C:\\Users\\mahes\\ML\\dataset\\data unziped\\dfdc_train_part_0\\fopjiyxiqd.mp4\n",
      "C:\\Users\\mahes\\ML\\dataset\\data unziped\\dfdc_train_part_0\\fopjiyxiqd.mp4\n",
      "C:\\Users\\mahes\\ML\\dataset\\data unziped\\dfdc_train_part_0\\fopjiyxiqd.mp4\n",
      "C:\\Users\\mahes\\ML\\dataset\\data unziped\\dfdc_train_part_0\\fopjiyxiqd.mp4\n",
      "C:\\Users\\mahes\\ML\\dataset\\data unziped\\dfdc_train_part_0\\fopjiyxiqd.mp4\n",
      "C:\\Users\\mahes\\ML\\dataset\\data unziped\\dfdc_train_part_0\\fopjiyxiqd.mp4\n",
      "C:\\Users\\mahes\\ML\\dataset\\data unziped\\dfdc_train_part_0\\fopjiyxiqd.mp4\n"
     ]
    },
    {
     "name": "stderr",
     "output_type": "stream",
     "text": [
      "Processing 500 videos:  68%|██████▊   | 339/500 [5:19:39<1:47:27, 40.05s/it]"
     ]
    },
    {
     "name": "stdout",
     "output_type": "stream",
     "text": [
      "C:\\Users\\mahes\\ML\\dataset\\data unziped\\dfdc_train_part_0\\srfefmyjvt.mp4\n",
      "C:\\Users\\mahes\\ML\\dataset\\data unziped\\dfdc_train_part_0\\srfefmyjvt.mp4\n",
      "C:\\Users\\mahes\\ML\\dataset\\data unziped\\dfdc_train_part_0\\srfefmyjvt.mp4\n",
      "C:\\Users\\mahes\\ML\\dataset\\data unziped\\dfdc_train_part_0\\srfefmyjvt.mp4\n",
      "C:\\Users\\mahes\\ML\\dataset\\data unziped\\dfdc_train_part_0\\srfefmyjvt.mp4\n",
      "C:\\Users\\mahes\\ML\\dataset\\data unziped\\dfdc_train_part_0\\srfefmyjvt.mp4\n",
      "C:\\Users\\mahes\\ML\\dataset\\data unziped\\dfdc_train_part_0\\srfefmyjvt.mp4\n",
      "C:\\Users\\mahes\\ML\\dataset\\data unziped\\dfdc_train_part_0\\srfefmyjvt.mp4\n",
      "C:\\Users\\mahes\\ML\\dataset\\data unziped\\dfdc_train_part_0\\srfefmyjvt.mp4\n",
      "C:\\Users\\mahes\\ML\\dataset\\data unziped\\dfdc_train_part_0\\srfefmyjvt.mp4\n"
     ]
    },
    {
     "name": "stderr",
     "output_type": "stream",
     "text": [
      "Processing 500 videos:  68%|██████▊   | 340/500 [5:20:22<1:49:23, 41.02s/it]"
     ]
    },
    {
     "name": "stdout",
     "output_type": "stream",
     "text": [
      "C:\\Users\\mahes\\ML\\dataset\\data unziped\\dfdc_train_part_0\\rktrpsdlci.mp4\n",
      "C:\\Users\\mahes\\ML\\dataset\\data unziped\\dfdc_train_part_0\\rktrpsdlci.mp4\n",
      "C:\\Users\\mahes\\ML\\dataset\\data unziped\\dfdc_train_part_0\\rktrpsdlci.mp4\n",
      "C:\\Users\\mahes\\ML\\dataset\\data unziped\\dfdc_train_part_0\\rktrpsdlci.mp4\n",
      "C:\\Users\\mahes\\ML\\dataset\\data unziped\\dfdc_train_part_0\\rktrpsdlci.mp4\n",
      "C:\\Users\\mahes\\ML\\dataset\\data unziped\\dfdc_train_part_0\\rktrpsdlci.mp4\n",
      "C:\\Users\\mahes\\ML\\dataset\\data unziped\\dfdc_train_part_0\\rktrpsdlci.mp4\n",
      "C:\\Users\\mahes\\ML\\dataset\\data unziped\\dfdc_train_part_0\\rktrpsdlci.mp4\n",
      "C:\\Users\\mahes\\ML\\dataset\\data unziped\\dfdc_train_part_0\\rktrpsdlci.mp4\n",
      "C:\\Users\\mahes\\ML\\dataset\\data unziped\\dfdc_train_part_0\\rktrpsdlci.mp4\n"
     ]
    },
    {
     "name": "stderr",
     "output_type": "stream",
     "text": [
      "Processing 500 videos:  68%|██████▊   | 341/500 [5:21:06<1:50:59, 41.88s/it]"
     ]
    },
    {
     "name": "stdout",
     "output_type": "stream",
     "text": [
      "C:\\Users\\mahes\\ML\\dataset\\data unziped\\dfdc_train_part_0\\uqtqhiqymz.mp4\n",
      "C:\\Users\\mahes\\ML\\dataset\\data unziped\\dfdc_train_part_0\\uqtqhiqymz.mp4\n",
      "C:\\Users\\mahes\\ML\\dataset\\data unziped\\dfdc_train_part_0\\uqtqhiqymz.mp4\n",
      "C:\\Users\\mahes\\ML\\dataset\\data unziped\\dfdc_train_part_0\\uqtqhiqymz.mp4\n",
      "C:\\Users\\mahes\\ML\\dataset\\data unziped\\dfdc_train_part_0\\uqtqhiqymz.mp4\n",
      "C:\\Users\\mahes\\ML\\dataset\\data unziped\\dfdc_train_part_0\\uqtqhiqymz.mp4\n",
      "C:\\Users\\mahes\\ML\\dataset\\data unziped\\dfdc_train_part_0\\uqtqhiqymz.mp4\n",
      "C:\\Users\\mahes\\ML\\dataset\\data unziped\\dfdc_train_part_0\\uqtqhiqymz.mp4\n",
      "C:\\Users\\mahes\\ML\\dataset\\data unziped\\dfdc_train_part_0\\uqtqhiqymz.mp4\n",
      "C:\\Users\\mahes\\ML\\dataset\\data unziped\\dfdc_train_part_0\\uqtqhiqymz.mp4\n"
     ]
    },
    {
     "name": "stderr",
     "output_type": "stream",
     "text": [
      "Processing 500 videos:  68%|██████▊   | 342/500 [5:21:59<1:58:48, 45.11s/it]"
     ]
    },
    {
     "name": "stdout",
     "output_type": "stream",
     "text": [
      "C:\\Users\\mahes\\ML\\dataset\\data unziped\\dfdc_train_part_0\\sttnfyptum.mp4\n",
      "C:\\Users\\mahes\\ML\\dataset\\data unziped\\dfdc_train_part_0\\sttnfyptum.mp4\n",
      "C:\\Users\\mahes\\ML\\dataset\\data unziped\\dfdc_train_part_0\\sttnfyptum.mp4\n",
      "C:\\Users\\mahes\\ML\\dataset\\data unziped\\dfdc_train_part_0\\sttnfyptum.mp4\n",
      "C:\\Users\\mahes\\ML\\dataset\\data unziped\\dfdc_train_part_0\\sttnfyptum.mp4\n",
      "C:\\Users\\mahes\\ML\\dataset\\data unziped\\dfdc_train_part_0\\sttnfyptum.mp4\n",
      "C:\\Users\\mahes\\ML\\dataset\\data unziped\\dfdc_train_part_0\\sttnfyptum.mp4\n",
      "C:\\Users\\mahes\\ML\\dataset\\data unziped\\dfdc_train_part_0\\sttnfyptum.mp4\n",
      "C:\\Users\\mahes\\ML\\dataset\\data unziped\\dfdc_train_part_0\\sttnfyptum.mp4\n",
      "C:\\Users\\mahes\\ML\\dataset\\data unziped\\dfdc_train_part_0\\sttnfyptum.mp4\n"
     ]
    },
    {
     "name": "stderr",
     "output_type": "stream",
     "text": [
      "Processing 500 videos:  69%|██████▊   | 343/500 [5:22:51<2:03:24, 47.16s/it]"
     ]
    },
    {
     "name": "stdout",
     "output_type": "stream",
     "text": [
      "C:\\Users\\mahes\\ML\\dataset\\data unziped\\dfdc_train_part_0\\ybnucgidtu.mp4\n",
      "C:\\Users\\mahes\\ML\\dataset\\data unziped\\dfdc_train_part_0\\ybnucgidtu.mp4\n",
      "C:\\Users\\mahes\\ML\\dataset\\data unziped\\dfdc_train_part_0\\ybnucgidtu.mp4\n",
      "C:\\Users\\mahes\\ML\\dataset\\data unziped\\dfdc_train_part_0\\ybnucgidtu.mp4\n",
      "C:\\Users\\mahes\\ML\\dataset\\data unziped\\dfdc_train_part_0\\ybnucgidtu.mp4\n",
      "C:\\Users\\mahes\\ML\\dataset\\data unziped\\dfdc_train_part_0\\ybnucgidtu.mp4\n",
      "C:\\Users\\mahes\\ML\\dataset\\data unziped\\dfdc_train_part_0\\ybnucgidtu.mp4\n",
      "C:\\Users\\mahes\\ML\\dataset\\data unziped\\dfdc_train_part_0\\ybnucgidtu.mp4\n",
      "C:\\Users\\mahes\\ML\\dataset\\data unziped\\dfdc_train_part_0\\ybnucgidtu.mp4\n",
      "C:\\Users\\mahes\\ML\\dataset\\data unziped\\dfdc_train_part_0\\ybnucgidtu.mp4\n"
     ]
    },
    {
     "name": "stderr",
     "output_type": "stream",
     "text": [
      "Processing 500 videos:  69%|██████▉   | 344/500 [5:23:39<2:03:28, 47.49s/it]"
     ]
    },
    {
     "name": "stdout",
     "output_type": "stream",
     "text": [
      "C:\\Users\\mahes\\ML\\dataset\\data unziped\\dfdc_train_part_0\\pqdeutauqc.mp4\n",
      "C:\\Users\\mahes\\ML\\dataset\\data unziped\\dfdc_train_part_0\\pqdeutauqc.mp4\n",
      "C:\\Users\\mahes\\ML\\dataset\\data unziped\\dfdc_train_part_0\\pqdeutauqc.mp4\n",
      "C:\\Users\\mahes\\ML\\dataset\\data unziped\\dfdc_train_part_0\\pqdeutauqc.mp4\n",
      "C:\\Users\\mahes\\ML\\dataset\\data unziped\\dfdc_train_part_0\\pqdeutauqc.mp4\n",
      "C:\\Users\\mahes\\ML\\dataset\\data unziped\\dfdc_train_part_0\\pqdeutauqc.mp4\n",
      "C:\\Users\\mahes\\ML\\dataset\\data unziped\\dfdc_train_part_0\\pqdeutauqc.mp4\n",
      "C:\\Users\\mahes\\ML\\dataset\\data unziped\\dfdc_train_part_0\\pqdeutauqc.mp4\n",
      "C:\\Users\\mahes\\ML\\dataset\\data unziped\\dfdc_train_part_0\\pqdeutauqc.mp4\n",
      "C:\\Users\\mahes\\ML\\dataset\\data unziped\\dfdc_train_part_0\\pqdeutauqc.mp4\n"
     ]
    },
    {
     "name": "stderr",
     "output_type": "stream",
     "text": [
      "Processing 500 videos:  69%|██████▉   | 345/500 [5:24:23<1:59:59, 46.45s/it]"
     ]
    },
    {
     "name": "stdout",
     "output_type": "stream",
     "text": [
      "C:\\Users\\mahes\\ML\\dataset\\data unziped\\dfdc_train_part_0\\yxvmusxvcz.mp4\n",
      "C:\\Users\\mahes\\ML\\dataset\\data unziped\\dfdc_train_part_0\\yxvmusxvcz.mp4\n",
      "C:\\Users\\mahes\\ML\\dataset\\data unziped\\dfdc_train_part_0\\yxvmusxvcz.mp4\n",
      "C:\\Users\\mahes\\ML\\dataset\\data unziped\\dfdc_train_part_0\\yxvmusxvcz.mp4\n",
      "C:\\Users\\mahes\\ML\\dataset\\data unziped\\dfdc_train_part_0\\yxvmusxvcz.mp4\n",
      "C:\\Users\\mahes\\ML\\dataset\\data unziped\\dfdc_train_part_0\\yxvmusxvcz.mp4\n",
      "C:\\Users\\mahes\\ML\\dataset\\data unziped\\dfdc_train_part_0\\yxvmusxvcz.mp4\n",
      "C:\\Users\\mahes\\ML\\dataset\\data unziped\\dfdc_train_part_0\\yxvmusxvcz.mp4\n",
      "C:\\Users\\mahes\\ML\\dataset\\data unziped\\dfdc_train_part_0\\yxvmusxvcz.mp4\n",
      "C:\\Users\\mahes\\ML\\dataset\\data unziped\\dfdc_train_part_0\\yxvmusxvcz.mp4\n"
     ]
    },
    {
     "name": "stderr",
     "output_type": "stream",
     "text": [
      "Processing 500 videos:  69%|██████▉   | 346/500 [5:25:06<1:56:15, 45.30s/it]"
     ]
    },
    {
     "name": "stdout",
     "output_type": "stream",
     "text": [
      "C:\\Users\\mahes\\ML\\dataset\\data unziped\\dfdc_train_part_0\\exxqlfpnbz.mp4\n",
      "C:\\Users\\mahes\\ML\\dataset\\data unziped\\dfdc_train_part_0\\exxqlfpnbz.mp4\n",
      "C:\\Users\\mahes\\ML\\dataset\\data unziped\\dfdc_train_part_0\\exxqlfpnbz.mp4\n",
      "C:\\Users\\mahes\\ML\\dataset\\data unziped\\dfdc_train_part_0\\exxqlfpnbz.mp4\n",
      "C:\\Users\\mahes\\ML\\dataset\\data unziped\\dfdc_train_part_0\\exxqlfpnbz.mp4\n",
      "C:\\Users\\mahes\\ML\\dataset\\data unziped\\dfdc_train_part_0\\exxqlfpnbz.mp4\n",
      "C:\\Users\\mahes\\ML\\dataset\\data unziped\\dfdc_train_part_0\\exxqlfpnbz.mp4\n",
      "C:\\Users\\mahes\\ML\\dataset\\data unziped\\dfdc_train_part_0\\exxqlfpnbz.mp4\n",
      "C:\\Users\\mahes\\ML\\dataset\\data unziped\\dfdc_train_part_0\\exxqlfpnbz.mp4\n",
      "C:\\Users\\mahes\\ML\\dataset\\data unziped\\dfdc_train_part_0\\exxqlfpnbz.mp4\n"
     ]
    },
    {
     "name": "stderr",
     "output_type": "stream",
     "text": [
      "Processing 500 videos:  69%|██████▉   | 347/500 [5:25:51<1:55:44, 45.39s/it]"
     ]
    },
    {
     "name": "stdout",
     "output_type": "stream",
     "text": [
      "C:\\Users\\mahes\\ML\\dataset\\data unziped\\dfdc_train_part_0\\REAL\n",
      "C:\\Users\\mahes\\ML\\dataset\\data unziped\\dfdc_train_part_0\\REAL\n",
      "C:\\Users\\mahes\\ML\\dataset\\data unziped\\dfdc_train_part_0\\REAL\n",
      "C:\\Users\\mahes\\ML\\dataset\\data unziped\\dfdc_train_part_0\\REAL\n",
      "C:\\Users\\mahes\\ML\\dataset\\data unziped\\dfdc_train_part_0\\REAL\n",
      "C:\\Users\\mahes\\ML\\dataset\\data unziped\\dfdc_train_part_0\\REAL\n",
      "C:\\Users\\mahes\\ML\\dataset\\data unziped\\dfdc_train_part_0\\REAL\n",
      "C:\\Users\\mahes\\ML\\dataset\\data unziped\\dfdc_train_part_0\\REAL\n",
      "C:\\Users\\mahes\\ML\\dataset\\data unziped\\dfdc_train_part_0\\REAL\n"
     ]
    },
    {
     "name": "stderr",
     "output_type": "stream",
     "text": [
      "Processing 500 videos:  70%|██████▉   | 348/500 [5:25:59<1:26:26, 34.12s/it]"
     ]
    },
    {
     "name": "stdout",
     "output_type": "stream",
     "text": [
      "C:\\Users\\mahes\\ML\\dataset\\data unziped\\dfdc_train_part_0\\REAL\n",
      "C:\\Users\\mahes\\ML\\dataset\\data unziped\\dfdc_train_part_0\\hivnldfvyl.mp4\n",
      "C:\\Users\\mahes\\ML\\dataset\\data unziped\\dfdc_train_part_0\\hivnldfvyl.mp4\n",
      "C:\\Users\\mahes\\ML\\dataset\\data unziped\\dfdc_train_part_0\\hivnldfvyl.mp4\n",
      "C:\\Users\\mahes\\ML\\dataset\\data unziped\\dfdc_train_part_0\\hivnldfvyl.mp4\n",
      "C:\\Users\\mahes\\ML\\dataset\\data unziped\\dfdc_train_part_0\\hivnldfvyl.mp4\n",
      "C:\\Users\\mahes\\ML\\dataset\\data unziped\\dfdc_train_part_0\\hivnldfvyl.mp4\n",
      "C:\\Users\\mahes\\ML\\dataset\\data unziped\\dfdc_train_part_0\\hivnldfvyl.mp4\n",
      "C:\\Users\\mahes\\ML\\dataset\\data unziped\\dfdc_train_part_0\\hivnldfvyl.mp4\n",
      "C:\\Users\\mahes\\ML\\dataset\\data unziped\\dfdc_train_part_0\\hivnldfvyl.mp4\n",
      "C:\\Users\\mahes\\ML\\dataset\\data unziped\\dfdc_train_part_0\\hivnldfvyl.mp4\n"
     ]
    },
    {
     "name": "stderr",
     "output_type": "stream",
     "text": [
      "Processing 500 videos:  70%|██████▉   | 349/500 [5:26:48<1:37:02, 38.56s/it]"
     ]
    },
    {
     "name": "stdout",
     "output_type": "stream",
     "text": [
      "C:\\Users\\mahes\\ML\\dataset\\data unziped\\dfdc_train_part_0\\heiyoojifp.mp4\n",
      "C:\\Users\\mahes\\ML\\dataset\\data unziped\\dfdc_train_part_0\\heiyoojifp.mp4\n",
      "C:\\Users\\mahes\\ML\\dataset\\data unziped\\dfdc_train_part_0\\heiyoojifp.mp4\n",
      "C:\\Users\\mahes\\ML\\dataset\\data unziped\\dfdc_train_part_0\\heiyoojifp.mp4\n",
      "C:\\Users\\mahes\\ML\\dataset\\data unziped\\dfdc_train_part_0\\heiyoojifp.mp4\n",
      "C:\\Users\\mahes\\ML\\dataset\\data unziped\\dfdc_train_part_0\\heiyoojifp.mp4\n",
      "C:\\Users\\mahes\\ML\\dataset\\data unziped\\dfdc_train_part_0\\heiyoojifp.mp4\n",
      "C:\\Users\\mahes\\ML\\dataset\\data unziped\\dfdc_train_part_0\\heiyoojifp.mp4\n",
      "C:\\Users\\mahes\\ML\\dataset\\data unziped\\dfdc_train_part_0\\heiyoojifp.mp4\n",
      "C:\\Users\\mahes\\ML\\dataset\\data unziped\\dfdc_train_part_0\\heiyoojifp.mp4\n"
     ]
    },
    {
     "name": "stderr",
     "output_type": "stream",
     "text": [
      "Processing 500 videos:  70%|███████   | 350/500 [5:27:39<1:45:45, 42.30s/it]"
     ]
    },
    {
     "name": "stdout",
     "output_type": "stream",
     "text": [
      "C:\\Users\\mahes\\ML\\dataset\\data unziped\\dfdc_train_part_0\\vpmyeepbep.mp4\n",
      "C:\\Users\\mahes\\ML\\dataset\\data unziped\\dfdc_train_part_0\\vpmyeepbep.mp4\n",
      "C:\\Users\\mahes\\ML\\dataset\\data unziped\\dfdc_train_part_0\\vpmyeepbep.mp4\n",
      "C:\\Users\\mahes\\ML\\dataset\\data unziped\\dfdc_train_part_0\\vpmyeepbep.mp4\n",
      "C:\\Users\\mahes\\ML\\dataset\\data unziped\\dfdc_train_part_0\\vpmyeepbep.mp4\n",
      "C:\\Users\\mahes\\ML\\dataset\\data unziped\\dfdc_train_part_0\\vpmyeepbep.mp4\n",
      "C:\\Users\\mahes\\ML\\dataset\\data unziped\\dfdc_train_part_0\\vpmyeepbep.mp4\n",
      "C:\\Users\\mahes\\ML\\dataset\\data unziped\\dfdc_train_part_0\\vpmyeepbep.mp4\n",
      "C:\\Users\\mahes\\ML\\dataset\\data unziped\\dfdc_train_part_0\\vpmyeepbep.mp4\n",
      "C:\\Users\\mahes\\ML\\dataset\\data unziped\\dfdc_train_part_0\\vpmyeepbep.mp4\n"
     ]
    },
    {
     "name": "stderr",
     "output_type": "stream",
     "text": [
      "Processing 500 videos:  70%|███████   | 351/500 [5:28:25<1:47:46, 43.40s/it]"
     ]
    },
    {
     "name": "stdout",
     "output_type": "stream",
     "text": [
      "C:\\Users\\mahes\\ML\\dataset\\data unziped\\dfdc_train_part_0\\xkfliqnmwt.mp4\n",
      "C:\\Users\\mahes\\ML\\dataset\\data unziped\\dfdc_train_part_0\\xkfliqnmwt.mp4\n",
      "C:\\Users\\mahes\\ML\\dataset\\data unziped\\dfdc_train_part_0\\xkfliqnmwt.mp4\n",
      "C:\\Users\\mahes\\ML\\dataset\\data unziped\\dfdc_train_part_0\\xkfliqnmwt.mp4\n",
      "C:\\Users\\mahes\\ML\\dataset\\data unziped\\dfdc_train_part_0\\xkfliqnmwt.mp4\n",
      "C:\\Users\\mahes\\ML\\dataset\\data unziped\\dfdc_train_part_0\\xkfliqnmwt.mp4\n",
      "C:\\Users\\mahes\\ML\\dataset\\data unziped\\dfdc_train_part_0\\xkfliqnmwt.mp4\n",
      "C:\\Users\\mahes\\ML\\dataset\\data unziped\\dfdc_train_part_0\\xkfliqnmwt.mp4\n",
      "C:\\Users\\mahes\\ML\\dataset\\data unziped\\dfdc_train_part_0\\xkfliqnmwt.mp4\n",
      "C:\\Users\\mahes\\ML\\dataset\\data unziped\\dfdc_train_part_0\\xkfliqnmwt.mp4\n"
     ]
    },
    {
     "name": "stderr",
     "output_type": "stream",
     "text": [
      "Processing 500 videos:  70%|███████   | 352/500 [5:29:17<1:53:17, 45.93s/it]"
     ]
    },
    {
     "name": "stdout",
     "output_type": "stream",
     "text": [
      "C:\\Users\\mahes\\ML\\dataset\\data unziped\\dfdc_train_part_0\\fdpisghkmd.mp4\n",
      "C:\\Users\\mahes\\ML\\dataset\\data unziped\\dfdc_train_part_0\\fdpisghkmd.mp4\n",
      "C:\\Users\\mahes\\ML\\dataset\\data unziped\\dfdc_train_part_0\\fdpisghkmd.mp4\n",
      "C:\\Users\\mahes\\ML\\dataset\\data unziped\\dfdc_train_part_0\\fdpisghkmd.mp4\n",
      "C:\\Users\\mahes\\ML\\dataset\\data unziped\\dfdc_train_part_0\\fdpisghkmd.mp4\n",
      "C:\\Users\\mahes\\ML\\dataset\\data unziped\\dfdc_train_part_0\\fdpisghkmd.mp4\n",
      "C:\\Users\\mahes\\ML\\dataset\\data unziped\\dfdc_train_part_0\\fdpisghkmd.mp4\n",
      "C:\\Users\\mahes\\ML\\dataset\\data unziped\\dfdc_train_part_0\\fdpisghkmd.mp4\n",
      "C:\\Users\\mahes\\ML\\dataset\\data unziped\\dfdc_train_part_0\\fdpisghkmd.mp4\n",
      "C:\\Users\\mahes\\ML\\dataset\\data unziped\\dfdc_train_part_0\\fdpisghkmd.mp4\n"
     ]
    },
    {
     "name": "stderr",
     "output_type": "stream",
     "text": [
      "Processing 500 videos:  71%|███████   | 353/500 [5:30:05<1:54:29, 46.73s/it]"
     ]
    },
    {
     "name": "stdout",
     "output_type": "stream",
     "text": [
      "C:\\Users\\mahes\\ML\\dataset\\data unziped\\dfdc_train_part_0\\eppyqpgewp.mp4\n",
      "C:\\Users\\mahes\\ML\\dataset\\data unziped\\dfdc_train_part_0\\eppyqpgewp.mp4\n",
      "C:\\Users\\mahes\\ML\\dataset\\data unziped\\dfdc_train_part_0\\eppyqpgewp.mp4\n",
      "C:\\Users\\mahes\\ML\\dataset\\data unziped\\dfdc_train_part_0\\eppyqpgewp.mp4\n",
      "C:\\Users\\mahes\\ML\\dataset\\data unziped\\dfdc_train_part_0\\eppyqpgewp.mp4\n",
      "C:\\Users\\mahes\\ML\\dataset\\data unziped\\dfdc_train_part_0\\eppyqpgewp.mp4\n",
      "C:\\Users\\mahes\\ML\\dataset\\data unziped\\dfdc_train_part_0\\eppyqpgewp.mp4\n",
      "C:\\Users\\mahes\\ML\\dataset\\data unziped\\dfdc_train_part_0\\eppyqpgewp.mp4\n",
      "C:\\Users\\mahes\\ML\\dataset\\data unziped\\dfdc_train_part_0\\eppyqpgewp.mp4\n",
      "C:\\Users\\mahes\\ML\\dataset\\data unziped\\dfdc_train_part_0\\eppyqpgewp.mp4\n"
     ]
    },
    {
     "name": "stderr",
     "output_type": "stream",
     "text": [
      "Processing 500 videos:  71%|███████   | 354/500 [5:30:55<1:56:04, 47.70s/it]"
     ]
    },
    {
     "name": "stdout",
     "output_type": "stream",
     "text": [
      "C:\\Users\\mahes\\ML\\dataset\\data unziped\\dfdc_train_part_0\\pqdeutauqc.mp4\n",
      "C:\\Users\\mahes\\ML\\dataset\\data unziped\\dfdc_train_part_0\\pqdeutauqc.mp4\n",
      "C:\\Users\\mahes\\ML\\dataset\\data unziped\\dfdc_train_part_0\\pqdeutauqc.mp4\n",
      "C:\\Users\\mahes\\ML\\dataset\\data unziped\\dfdc_train_part_0\\pqdeutauqc.mp4\n",
      "C:\\Users\\mahes\\ML\\dataset\\data unziped\\dfdc_train_part_0\\pqdeutauqc.mp4\n",
      "C:\\Users\\mahes\\ML\\dataset\\data unziped\\dfdc_train_part_0\\pqdeutauqc.mp4\n",
      "C:\\Users\\mahes\\ML\\dataset\\data unziped\\dfdc_train_part_0\\pqdeutauqc.mp4\n",
      "C:\\Users\\mahes\\ML\\dataset\\data unziped\\dfdc_train_part_0\\pqdeutauqc.mp4\n",
      "C:\\Users\\mahes\\ML\\dataset\\data unziped\\dfdc_train_part_0\\pqdeutauqc.mp4\n",
      "C:\\Users\\mahes\\ML\\dataset\\data unziped\\dfdc_train_part_0\\pqdeutauqc.mp4\n"
     ]
    },
    {
     "name": "stderr",
     "output_type": "stream",
     "text": [
      "Processing 500 videos:  71%|███████   | 355/500 [5:31:40<1:53:19, 46.89s/it]"
     ]
    },
    {
     "name": "stdout",
     "output_type": "stream",
     "text": [
      "C:\\Users\\mahes\\ML\\dataset\\data unziped\\dfdc_train_part_0\\dpevefkefv.mp4\n",
      "C:\\Users\\mahes\\ML\\dataset\\data unziped\\dfdc_train_part_0\\dpevefkefv.mp4\n",
      "C:\\Users\\mahes\\ML\\dataset\\data unziped\\dfdc_train_part_0\\dpevefkefv.mp4\n",
      "C:\\Users\\mahes\\ML\\dataset\\data unziped\\dfdc_train_part_0\\dpevefkefv.mp4\n",
      "C:\\Users\\mahes\\ML\\dataset\\data unziped\\dfdc_train_part_0\\dpevefkefv.mp4\n",
      "C:\\Users\\mahes\\ML\\dataset\\data unziped\\dfdc_train_part_0\\dpevefkefv.mp4\n",
      "C:\\Users\\mahes\\ML\\dataset\\data unziped\\dfdc_train_part_0\\dpevefkefv.mp4\n",
      "C:\\Users\\mahes\\ML\\dataset\\data unziped\\dfdc_train_part_0\\dpevefkefv.mp4\n",
      "C:\\Users\\mahes\\ML\\dataset\\data unziped\\dfdc_train_part_0\\dpevefkefv.mp4\n",
      "C:\\Users\\mahes\\ML\\dataset\\data unziped\\dfdc_train_part_0\\dpevefkefv.mp4\n"
     ]
    },
    {
     "name": "stderr",
     "output_type": "stream",
     "text": [
      "Processing 500 videos:  71%|███████   | 356/500 [5:32:38<1:59:55, 49.97s/it]"
     ]
    },
    {
     "name": "stdout",
     "output_type": "stream",
     "text": [
      "C:\\Users\\mahes\\ML\\dataset\\data unziped\\dfdc_train_part_0\\uprwuohbwx.mp4\n",
      "C:\\Users\\mahes\\ML\\dataset\\data unziped\\dfdc_train_part_0\\uprwuohbwx.mp4\n",
      "C:\\Users\\mahes\\ML\\dataset\\data unziped\\dfdc_train_part_0\\uprwuohbwx.mp4\n",
      "C:\\Users\\mahes\\ML\\dataset\\data unziped\\dfdc_train_part_0\\uprwuohbwx.mp4\n",
      "C:\\Users\\mahes\\ML\\dataset\\data unziped\\dfdc_train_part_0\\uprwuohbwx.mp4\n",
      "C:\\Users\\mahes\\ML\\dataset\\data unziped\\dfdc_train_part_0\\uprwuohbwx.mp4\n",
      "C:\\Users\\mahes\\ML\\dataset\\data unziped\\dfdc_train_part_0\\uprwuohbwx.mp4\n",
      "C:\\Users\\mahes\\ML\\dataset\\data unziped\\dfdc_train_part_0\\uprwuohbwx.mp4\n",
      "C:\\Users\\mahes\\ML\\dataset\\data unziped\\dfdc_train_part_0\\uprwuohbwx.mp4\n",
      "C:\\Users\\mahes\\ML\\dataset\\data unziped\\dfdc_train_part_0\\uprwuohbwx.mp4\n"
     ]
    },
    {
     "name": "stderr",
     "output_type": "stream",
     "text": [
      "Processing 500 videos:  71%|███████▏  | 357/500 [5:33:31<2:01:49, 51.12s/it]"
     ]
    },
    {
     "name": "stdout",
     "output_type": "stream",
     "text": [
      "C:\\Users\\mahes\\ML\\dataset\\data unziped\\dfdc_train_part_0\\srfefmyjvt.mp4\n",
      "C:\\Users\\mahes\\ML\\dataset\\data unziped\\dfdc_train_part_0\\srfefmyjvt.mp4\n",
      "C:\\Users\\mahes\\ML\\dataset\\data unziped\\dfdc_train_part_0\\srfefmyjvt.mp4\n",
      "C:\\Users\\mahes\\ML\\dataset\\data unziped\\dfdc_train_part_0\\srfefmyjvt.mp4\n",
      "C:\\Users\\mahes\\ML\\dataset\\data unziped\\dfdc_train_part_0\\srfefmyjvt.mp4\n",
      "C:\\Users\\mahes\\ML\\dataset\\data unziped\\dfdc_train_part_0\\srfefmyjvt.mp4\n",
      "C:\\Users\\mahes\\ML\\dataset\\data unziped\\dfdc_train_part_0\\srfefmyjvt.mp4\n",
      "C:\\Users\\mahes\\ML\\dataset\\data unziped\\dfdc_train_part_0\\srfefmyjvt.mp4\n",
      "C:\\Users\\mahes\\ML\\dataset\\data unziped\\dfdc_train_part_0\\srfefmyjvt.mp4\n",
      "C:\\Users\\mahes\\ML\\dataset\\data unziped\\dfdc_train_part_0\\srfefmyjvt.mp4\n"
     ]
    },
    {
     "name": "stderr",
     "output_type": "stream",
     "text": [
      "Processing 500 videos:  72%|███████▏  | 358/500 [5:34:15<1:55:40, 48.88s/it]"
     ]
    },
    {
     "name": "stdout",
     "output_type": "stream",
     "text": [
      "C:\\Users\\mahes\\ML\\dataset\\data unziped\\dfdc_train_part_0\\srfefmyjvt.mp4\n",
      "C:\\Users\\mahes\\ML\\dataset\\data unziped\\dfdc_train_part_0\\srfefmyjvt.mp4\n",
      "C:\\Users\\mahes\\ML\\dataset\\data unziped\\dfdc_train_part_0\\srfefmyjvt.mp4\n",
      "C:\\Users\\mahes\\ML\\dataset\\data unziped\\dfdc_train_part_0\\srfefmyjvt.mp4\n",
      "C:\\Users\\mahes\\ML\\dataset\\data unziped\\dfdc_train_part_0\\srfefmyjvt.mp4\n",
      "C:\\Users\\mahes\\ML\\dataset\\data unziped\\dfdc_train_part_0\\srfefmyjvt.mp4\n",
      "C:\\Users\\mahes\\ML\\dataset\\data unziped\\dfdc_train_part_0\\srfefmyjvt.mp4\n",
      "C:\\Users\\mahes\\ML\\dataset\\data unziped\\dfdc_train_part_0\\srfefmyjvt.mp4\n",
      "C:\\Users\\mahes\\ML\\dataset\\data unziped\\dfdc_train_part_0\\srfefmyjvt.mp4\n",
      "C:\\Users\\mahes\\ML\\dataset\\data unziped\\dfdc_train_part_0\\srfefmyjvt.mp4\n"
     ]
    },
    {
     "name": "stderr",
     "output_type": "stream",
     "text": [
      "Processing 500 videos:  72%|███████▏  | 359/500 [5:34:59<1:51:19, 47.37s/it]"
     ]
    },
    {
     "name": "stdout",
     "output_type": "stream",
     "text": [
      "C:\\Users\\mahes\\ML\\dataset\\data unziped\\dfdc_train_part_0\\fopjiyxiqd.mp4\n",
      "C:\\Users\\mahes\\ML\\dataset\\data unziped\\dfdc_train_part_0\\fopjiyxiqd.mp4\n",
      "C:\\Users\\mahes\\ML\\dataset\\data unziped\\dfdc_train_part_0\\fopjiyxiqd.mp4\n",
      "C:\\Users\\mahes\\ML\\dataset\\data unziped\\dfdc_train_part_0\\fopjiyxiqd.mp4\n",
      "C:\\Users\\mahes\\ML\\dataset\\data unziped\\dfdc_train_part_0\\fopjiyxiqd.mp4\n",
      "C:\\Users\\mahes\\ML\\dataset\\data unziped\\dfdc_train_part_0\\fopjiyxiqd.mp4\n",
      "C:\\Users\\mahes\\ML\\dataset\\data unziped\\dfdc_train_part_0\\fopjiyxiqd.mp4\n",
      "C:\\Users\\mahes\\ML\\dataset\\data unziped\\dfdc_train_part_0\\fopjiyxiqd.mp4\n",
      "C:\\Users\\mahes\\ML\\dataset\\data unziped\\dfdc_train_part_0\\fopjiyxiqd.mp4\n",
      "C:\\Users\\mahes\\ML\\dataset\\data unziped\\dfdc_train_part_0\\fopjiyxiqd.mp4\n"
     ]
    },
    {
     "name": "stderr",
     "output_type": "stream",
     "text": [
      "Processing 500 videos:  72%|███████▏  | 360/500 [5:35:47<1:51:20, 47.72s/it]"
     ]
    },
    {
     "name": "stdout",
     "output_type": "stream",
     "text": [
      "C:\\Users\\mahes\\ML\\dataset\\data unziped\\dfdc_train_part_0\\wynotylpnm.mp4\n",
      "C:\\Users\\mahes\\ML\\dataset\\data unziped\\dfdc_train_part_0\\wynotylpnm.mp4\n",
      "C:\\Users\\mahes\\ML\\dataset\\data unziped\\dfdc_train_part_0\\wynotylpnm.mp4\n",
      "C:\\Users\\mahes\\ML\\dataset\\data unziped\\dfdc_train_part_0\\wynotylpnm.mp4\n",
      "C:\\Users\\mahes\\ML\\dataset\\data unziped\\dfdc_train_part_0\\wynotylpnm.mp4\n",
      "C:\\Users\\mahes\\ML\\dataset\\data unziped\\dfdc_train_part_0\\wynotylpnm.mp4\n",
      "C:\\Users\\mahes\\ML\\dataset\\data unziped\\dfdc_train_part_0\\wynotylpnm.mp4\n",
      "C:\\Users\\mahes\\ML\\dataset\\data unziped\\dfdc_train_part_0\\wynotylpnm.mp4\n",
      "C:\\Users\\mahes\\ML\\dataset\\data unziped\\dfdc_train_part_0\\wynotylpnm.mp4\n",
      "C:\\Users\\mahes\\ML\\dataset\\data unziped\\dfdc_train_part_0\\wynotylpnm.mp4\n"
     ]
    },
    {
     "name": "stderr",
     "output_type": "stream",
     "text": [
      "Processing 500 videos:  72%|███████▏  | 361/500 [5:36:34<1:49:40, 47.34s/it]"
     ]
    },
    {
     "name": "stdout",
     "output_type": "stream",
     "text": [
      "C:\\Users\\mahes\\ML\\dataset\\data unziped\\dfdc_train_part_0\\onbgbghesu.mp4\n",
      "C:\\Users\\mahes\\ML\\dataset\\data unziped\\dfdc_train_part_0\\onbgbghesu.mp4\n",
      "C:\\Users\\mahes\\ML\\dataset\\data unziped\\dfdc_train_part_0\\onbgbghesu.mp4\n",
      "C:\\Users\\mahes\\ML\\dataset\\data unziped\\dfdc_train_part_0\\onbgbghesu.mp4\n",
      "C:\\Users\\mahes\\ML\\dataset\\data unziped\\dfdc_train_part_0\\onbgbghesu.mp4\n",
      "C:\\Users\\mahes\\ML\\dataset\\data unziped\\dfdc_train_part_0\\onbgbghesu.mp4\n",
      "C:\\Users\\mahes\\ML\\dataset\\data unziped\\dfdc_train_part_0\\onbgbghesu.mp4\n",
      "C:\\Users\\mahes\\ML\\dataset\\data unziped\\dfdc_train_part_0\\onbgbghesu.mp4\n",
      "C:\\Users\\mahes\\ML\\dataset\\data unziped\\dfdc_train_part_0\\onbgbghesu.mp4\n",
      "C:\\Users\\mahes\\ML\\dataset\\data unziped\\dfdc_train_part_0\\onbgbghesu.mp4\n"
     ]
    },
    {
     "name": "stderr",
     "output_type": "stream",
     "text": [
      "Processing 500 videos:  72%|███████▏  | 362/500 [5:37:25<1:51:34, 48.51s/it]"
     ]
    },
    {
     "name": "stdout",
     "output_type": "stream",
     "text": [
      "C:\\Users\\mahes\\ML\\dataset\\data unziped\\dfdc_train_part_0\\xdezcezszc.mp4\n",
      "C:\\Users\\mahes\\ML\\dataset\\data unziped\\dfdc_train_part_0\\xdezcezszc.mp4\n",
      "C:\\Users\\mahes\\ML\\dataset\\data unziped\\dfdc_train_part_0\\xdezcezszc.mp4\n",
      "C:\\Users\\mahes\\ML\\dataset\\data unziped\\dfdc_train_part_0\\xdezcezszc.mp4\n",
      "C:\\Users\\mahes\\ML\\dataset\\data unziped\\dfdc_train_part_0\\xdezcezszc.mp4\n",
      "C:\\Users\\mahes\\ML\\dataset\\data unziped\\dfdc_train_part_0\\xdezcezszc.mp4\n",
      "C:\\Users\\mahes\\ML\\dataset\\data unziped\\dfdc_train_part_0\\xdezcezszc.mp4\n",
      "C:\\Users\\mahes\\ML\\dataset\\data unziped\\dfdc_train_part_0\\xdezcezszc.mp4\n",
      "C:\\Users\\mahes\\ML\\dataset\\data unziped\\dfdc_train_part_0\\xdezcezszc.mp4\n",
      "C:\\Users\\mahes\\ML\\dataset\\data unziped\\dfdc_train_part_0\\xdezcezszc.mp4\n"
     ]
    },
    {
     "name": "stderr",
     "output_type": "stream",
     "text": [
      "Processing 500 videos:  73%|███████▎  | 363/500 [5:38:15<1:51:38, 48.90s/it]"
     ]
    },
    {
     "name": "stdout",
     "output_type": "stream",
     "text": [
      "C:\\Users\\mahes\\ML\\dataset\\data unziped\\dfdc_train_part_0\\vtunvalyji.mp4\n",
      "C:\\Users\\mahes\\ML\\dataset\\data unziped\\dfdc_train_part_0\\vtunvalyji.mp4\n",
      "C:\\Users\\mahes\\ML\\dataset\\data unziped\\dfdc_train_part_0\\vtunvalyji.mp4\n",
      "C:\\Users\\mahes\\ML\\dataset\\data unziped\\dfdc_train_part_0\\vtunvalyji.mp4\n",
      "C:\\Users\\mahes\\ML\\dataset\\data unziped\\dfdc_train_part_0\\vtunvalyji.mp4\n",
      "C:\\Users\\mahes\\ML\\dataset\\data unziped\\dfdc_train_part_0\\vtunvalyji.mp4\n",
      "C:\\Users\\mahes\\ML\\dataset\\data unziped\\dfdc_train_part_0\\vtunvalyji.mp4\n",
      "C:\\Users\\mahes\\ML\\dataset\\data unziped\\dfdc_train_part_0\\vtunvalyji.mp4\n",
      "C:\\Users\\mahes\\ML\\dataset\\data unziped\\dfdc_train_part_0\\vtunvalyji.mp4\n",
      "C:\\Users\\mahes\\ML\\dataset\\data unziped\\dfdc_train_part_0\\vtunvalyji.mp4\n"
     ]
    },
    {
     "name": "stderr",
     "output_type": "stream",
     "text": [
      "Processing 500 videos:  73%|███████▎  | 364/500 [5:39:01<1:49:13, 48.19s/it]"
     ]
    },
    {
     "name": "stdout",
     "output_type": "stream",
     "text": [
      "C:\\Users\\mahes\\ML\\dataset\\data unziped\\dfdc_train_part_0\\aayrffkzxn.mp4\n",
      "C:\\Users\\mahes\\ML\\dataset\\data unziped\\dfdc_train_part_0\\aayrffkzxn.mp4\n",
      "C:\\Users\\mahes\\ML\\dataset\\data unziped\\dfdc_train_part_0\\aayrffkzxn.mp4\n",
      "C:\\Users\\mahes\\ML\\dataset\\data unziped\\dfdc_train_part_0\\aayrffkzxn.mp4\n",
      "C:\\Users\\mahes\\ML\\dataset\\data unziped\\dfdc_train_part_0\\aayrffkzxn.mp4\n",
      "C:\\Users\\mahes\\ML\\dataset\\data unziped\\dfdc_train_part_0\\aayrffkzxn.mp4\n",
      "C:\\Users\\mahes\\ML\\dataset\\data unziped\\dfdc_train_part_0\\aayrffkzxn.mp4\n",
      "C:\\Users\\mahes\\ML\\dataset\\data unziped\\dfdc_train_part_0\\aayrffkzxn.mp4\n",
      "C:\\Users\\mahes\\ML\\dataset\\data unziped\\dfdc_train_part_0\\aayrffkzxn.mp4\n",
      "C:\\Users\\mahes\\ML\\dataset\\data unziped\\dfdc_train_part_0\\aayrffkzxn.mp4\n"
     ]
    },
    {
     "name": "stderr",
     "output_type": "stream",
     "text": [
      "Processing 500 videos:  73%|███████▎  | 365/500 [5:39:55<1:51:54, 49.74s/it]"
     ]
    },
    {
     "name": "stdout",
     "output_type": "stream",
     "text": [
      "C:\\Users\\mahes\\ML\\dataset\\data unziped\\dfdc_train_part_0\\REAL\n",
      "C:\\Users\\mahes\\ML\\dataset\\data unziped\\dfdc_train_part_0\\REAL\n",
      "C:\\Users\\mahes\\ML\\dataset\\data unziped\\dfdc_train_part_0\\REAL\n",
      "C:\\Users\\mahes\\ML\\dataset\\data unziped\\dfdc_train_part_0\\REAL\n",
      "C:\\Users\\mahes\\ML\\dataset\\data unziped\\dfdc_train_part_0\\REAL\n",
      "C:\\Users\\mahes\\ML\\dataset\\data unziped\\dfdc_train_part_0\\REAL\n",
      "C:\\Users\\mahes\\ML\\dataset\\data unziped\\dfdc_train_part_0\\REAL\n",
      "C:\\Users\\mahes\\ML\\dataset\\data unziped\\dfdc_train_part_0\\REAL\n",
      "C:\\Users\\mahes\\ML\\dataset\\data unziped\\dfdc_train_part_0\\REAL\n"
     ]
    },
    {
     "name": "stderr",
     "output_type": "stream",
     "text": [
      "Processing 500 videos:  73%|███████▎  | 366/500 [5:40:02<1:22:45, 37.06s/it]"
     ]
    },
    {
     "name": "stdout",
     "output_type": "stream",
     "text": [
      "C:\\Users\\mahes\\ML\\dataset\\data unziped\\dfdc_train_part_0\\REAL\n",
      "C:\\Users\\mahes\\ML\\dataset\\data unziped\\dfdc_train_part_0\\vpmyeepbep.mp4\n",
      "C:\\Users\\mahes\\ML\\dataset\\data unziped\\dfdc_train_part_0\\vpmyeepbep.mp4\n",
      "C:\\Users\\mahes\\ML\\dataset\\data unziped\\dfdc_train_part_0\\vpmyeepbep.mp4\n",
      "C:\\Users\\mahes\\ML\\dataset\\data unziped\\dfdc_train_part_0\\vpmyeepbep.mp4\n",
      "C:\\Users\\mahes\\ML\\dataset\\data unziped\\dfdc_train_part_0\\vpmyeepbep.mp4\n",
      "C:\\Users\\mahes\\ML\\dataset\\data unziped\\dfdc_train_part_0\\vpmyeepbep.mp4\n",
      "C:\\Users\\mahes\\ML\\dataset\\data unziped\\dfdc_train_part_0\\vpmyeepbep.mp4\n",
      "C:\\Users\\mahes\\ML\\dataset\\data unziped\\dfdc_train_part_0\\vpmyeepbep.mp4\n",
      "C:\\Users\\mahes\\ML\\dataset\\data unziped\\dfdc_train_part_0\\vpmyeepbep.mp4\n",
      "C:\\Users\\mahes\\ML\\dataset\\data unziped\\dfdc_train_part_0\\vpmyeepbep.mp4\n"
     ]
    },
    {
     "name": "stderr",
     "output_type": "stream",
     "text": [
      "Processing 500 videos:  73%|███████▎  | 367/500 [5:40:47<1:27:04, 39.28s/it]"
     ]
    },
    {
     "name": "stdout",
     "output_type": "stream",
     "text": [
      "C:\\Users\\mahes\\ML\\dataset\\data unziped\\dfdc_train_part_0\\kqlvggiqee.mp4\n",
      "C:\\Users\\mahes\\ML\\dataset\\data unziped\\dfdc_train_part_0\\kqlvggiqee.mp4\n",
      "C:\\Users\\mahes\\ML\\dataset\\data unziped\\dfdc_train_part_0\\kqlvggiqee.mp4\n",
      "C:\\Users\\mahes\\ML\\dataset\\data unziped\\dfdc_train_part_0\\kqlvggiqee.mp4\n",
      "C:\\Users\\mahes\\ML\\dataset\\data unziped\\dfdc_train_part_0\\kqlvggiqee.mp4\n",
      "C:\\Users\\mahes\\ML\\dataset\\data unziped\\dfdc_train_part_0\\kqlvggiqee.mp4\n",
      "C:\\Users\\mahes\\ML\\dataset\\data unziped\\dfdc_train_part_0\\kqlvggiqee.mp4\n",
      "C:\\Users\\mahes\\ML\\dataset\\data unziped\\dfdc_train_part_0\\kqlvggiqee.mp4\n",
      "C:\\Users\\mahes\\ML\\dataset\\data unziped\\dfdc_train_part_0\\kqlvggiqee.mp4\n",
      "C:\\Users\\mahes\\ML\\dataset\\data unziped\\dfdc_train_part_0\\kqlvggiqee.mp4\n"
     ]
    },
    {
     "name": "stderr",
     "output_type": "stream",
     "text": [
      "Processing 500 videos:  74%|███████▎  | 368/500 [5:41:30<1:29:13, 40.55s/it]"
     ]
    },
    {
     "name": "stdout",
     "output_type": "stream",
     "text": [
      "C:\\Users\\mahes\\ML\\dataset\\data unziped\\dfdc_train_part_0\\qarqtkvgby.mp4\n",
      "C:\\Users\\mahes\\ML\\dataset\\data unziped\\dfdc_train_part_0\\qarqtkvgby.mp4\n",
      "C:\\Users\\mahes\\ML\\dataset\\data unziped\\dfdc_train_part_0\\qarqtkvgby.mp4\n",
      "C:\\Users\\mahes\\ML\\dataset\\data unziped\\dfdc_train_part_0\\qarqtkvgby.mp4\n",
      "C:\\Users\\mahes\\ML\\dataset\\data unziped\\dfdc_train_part_0\\qarqtkvgby.mp4\n",
      "C:\\Users\\mahes\\ML\\dataset\\data unziped\\dfdc_train_part_0\\qarqtkvgby.mp4\n",
      "C:\\Users\\mahes\\ML\\dataset\\data unziped\\dfdc_train_part_0\\qarqtkvgby.mp4\n",
      "C:\\Users\\mahes\\ML\\dataset\\data unziped\\dfdc_train_part_0\\qarqtkvgby.mp4\n",
      "C:\\Users\\mahes\\ML\\dataset\\data unziped\\dfdc_train_part_0\\qarqtkvgby.mp4\n",
      "C:\\Users\\mahes\\ML\\dataset\\data unziped\\dfdc_train_part_0\\qarqtkvgby.mp4\n"
     ]
    },
    {
     "name": "stderr",
     "output_type": "stream",
     "text": [
      "Processing 500 videos:  74%|███████▍  | 369/500 [5:42:16<1:31:56, 42.11s/it]"
     ]
    },
    {
     "name": "stdout",
     "output_type": "stream",
     "text": [
      "C:\\Users\\mahes\\ML\\dataset\\data unziped\\dfdc_train_part_0\\ddtbarpcgo.mp4\n",
      "C:\\Users\\mahes\\ML\\dataset\\data unziped\\dfdc_train_part_0\\ddtbarpcgo.mp4\n",
      "C:\\Users\\mahes\\ML\\dataset\\data unziped\\dfdc_train_part_0\\ddtbarpcgo.mp4\n",
      "C:\\Users\\mahes\\ML\\dataset\\data unziped\\dfdc_train_part_0\\ddtbarpcgo.mp4\n",
      "C:\\Users\\mahes\\ML\\dataset\\data unziped\\dfdc_train_part_0\\ddtbarpcgo.mp4\n",
      "C:\\Users\\mahes\\ML\\dataset\\data unziped\\dfdc_train_part_0\\ddtbarpcgo.mp4\n",
      "C:\\Users\\mahes\\ML\\dataset\\data unziped\\dfdc_train_part_0\\ddtbarpcgo.mp4\n",
      "C:\\Users\\mahes\\ML\\dataset\\data unziped\\dfdc_train_part_0\\ddtbarpcgo.mp4\n",
      "C:\\Users\\mahes\\ML\\dataset\\data unziped\\dfdc_train_part_0\\ddtbarpcgo.mp4\n",
      "C:\\Users\\mahes\\ML\\dataset\\data unziped\\dfdc_train_part_0\\ddtbarpcgo.mp4\n"
     ]
    },
    {
     "name": "stderr",
     "output_type": "stream",
     "text": [
      "Processing 500 videos:  74%|███████▍  | 370/500 [5:43:01<1:33:14, 43.03s/it]"
     ]
    },
    {
     "name": "stdout",
     "output_type": "stream",
     "text": [
      "C:\\Users\\mahes\\ML\\dataset\\data unziped\\dfdc_train_part_0\\fnslimfagb.mp4\n",
      "C:\\Users\\mahes\\ML\\dataset\\data unziped\\dfdc_train_part_0\\fnslimfagb.mp4\n",
      "C:\\Users\\mahes\\ML\\dataset\\data unziped\\dfdc_train_part_0\\fnslimfagb.mp4\n",
      "C:\\Users\\mahes\\ML\\dataset\\data unziped\\dfdc_train_part_0\\fnslimfagb.mp4\n",
      "C:\\Users\\mahes\\ML\\dataset\\data unziped\\dfdc_train_part_0\\fnslimfagb.mp4\n",
      "C:\\Users\\mahes\\ML\\dataset\\data unziped\\dfdc_train_part_0\\fnslimfagb.mp4\n",
      "C:\\Users\\mahes\\ML\\dataset\\data unziped\\dfdc_train_part_0\\fnslimfagb.mp4\n",
      "C:\\Users\\mahes\\ML\\dataset\\data unziped\\dfdc_train_part_0\\fnslimfagb.mp4\n",
      "C:\\Users\\mahes\\ML\\dataset\\data unziped\\dfdc_train_part_0\\fnslimfagb.mp4\n",
      "C:\\Users\\mahes\\ML\\dataset\\data unziped\\dfdc_train_part_0\\fnslimfagb.mp4\n"
     ]
    },
    {
     "name": "stderr",
     "output_type": "stream",
     "text": [
      "Processing 500 videos:  74%|███████▍  | 371/500 [5:43:55<1:39:38, 46.35s/it]"
     ]
    },
    {
     "name": "stdout",
     "output_type": "stream",
     "text": [
      "C:\\Users\\mahes\\ML\\dataset\\data unziped\\dfdc_train_part_0\\dxfdovivlw.mp4\n",
      "C:\\Users\\mahes\\ML\\dataset\\data unziped\\dfdc_train_part_0\\dxfdovivlw.mp4\n",
      "C:\\Users\\mahes\\ML\\dataset\\data unziped\\dfdc_train_part_0\\dxfdovivlw.mp4\n",
      "C:\\Users\\mahes\\ML\\dataset\\data unziped\\dfdc_train_part_0\\dxfdovivlw.mp4\n",
      "C:\\Users\\mahes\\ML\\dataset\\data unziped\\dfdc_train_part_0\\dxfdovivlw.mp4\n",
      "C:\\Users\\mahes\\ML\\dataset\\data unziped\\dfdc_train_part_0\\dxfdovivlw.mp4\n",
      "C:\\Users\\mahes\\ML\\dataset\\data unziped\\dfdc_train_part_0\\dxfdovivlw.mp4\n",
      "C:\\Users\\mahes\\ML\\dataset\\data unziped\\dfdc_train_part_0\\dxfdovivlw.mp4\n",
      "C:\\Users\\mahes\\ML\\dataset\\data unziped\\dfdc_train_part_0\\dxfdovivlw.mp4\n",
      "C:\\Users\\mahes\\ML\\dataset\\data unziped\\dfdc_train_part_0\\dxfdovivlw.mp4\n"
     ]
    },
    {
     "name": "stderr",
     "output_type": "stream",
     "text": [
      "Processing 500 videos:  74%|███████▍  | 372/500 [5:44:40<1:37:46, 45.83s/it]"
     ]
    },
    {
     "name": "stdout",
     "output_type": "stream",
     "text": [
      "C:\\Users\\mahes\\ML\\dataset\\data unziped\\dfdc_train_part_0\\aayrffkzxn.mp4\n",
      "C:\\Users\\mahes\\ML\\dataset\\data unziped\\dfdc_train_part_0\\aayrffkzxn.mp4\n",
      "C:\\Users\\mahes\\ML\\dataset\\data unziped\\dfdc_train_part_0\\aayrffkzxn.mp4\n",
      "C:\\Users\\mahes\\ML\\dataset\\data unziped\\dfdc_train_part_0\\aayrffkzxn.mp4\n",
      "C:\\Users\\mahes\\ML\\dataset\\data unziped\\dfdc_train_part_0\\aayrffkzxn.mp4\n",
      "C:\\Users\\mahes\\ML\\dataset\\data unziped\\dfdc_train_part_0\\aayrffkzxn.mp4\n",
      "C:\\Users\\mahes\\ML\\dataset\\data unziped\\dfdc_train_part_0\\aayrffkzxn.mp4\n",
      "C:\\Users\\mahes\\ML\\dataset\\data unziped\\dfdc_train_part_0\\aayrffkzxn.mp4\n",
      "C:\\Users\\mahes\\ML\\dataset\\data unziped\\dfdc_train_part_0\\aayrffkzxn.mp4\n",
      "C:\\Users\\mahes\\ML\\dataset\\data unziped\\dfdc_train_part_0\\aayrffkzxn.mp4\n"
     ]
    },
    {
     "name": "stderr",
     "output_type": "stream",
     "text": [
      "Processing 500 videos:  75%|███████▍  | 373/500 [5:45:33<1:41:51, 48.12s/it]"
     ]
    },
    {
     "name": "stdout",
     "output_type": "stream",
     "text": [
      "C:\\Users\\mahes\\ML\\dataset\\data unziped\\dfdc_train_part_0\\uprwuohbwx.mp4\n",
      "C:\\Users\\mahes\\ML\\dataset\\data unziped\\dfdc_train_part_0\\uprwuohbwx.mp4\n",
      "C:\\Users\\mahes\\ML\\dataset\\data unziped\\dfdc_train_part_0\\uprwuohbwx.mp4\n",
      "C:\\Users\\mahes\\ML\\dataset\\data unziped\\dfdc_train_part_0\\uprwuohbwx.mp4\n",
      "C:\\Users\\mahes\\ML\\dataset\\data unziped\\dfdc_train_part_0\\uprwuohbwx.mp4\n",
      "C:\\Users\\mahes\\ML\\dataset\\data unziped\\dfdc_train_part_0\\uprwuohbwx.mp4\n",
      "C:\\Users\\mahes\\ML\\dataset\\data unziped\\dfdc_train_part_0\\uprwuohbwx.mp4\n",
      "C:\\Users\\mahes\\ML\\dataset\\data unziped\\dfdc_train_part_0\\uprwuohbwx.mp4\n",
      "C:\\Users\\mahes\\ML\\dataset\\data unziped\\dfdc_train_part_0\\uprwuohbwx.mp4\n",
      "C:\\Users\\mahes\\ML\\dataset\\data unziped\\dfdc_train_part_0\\uprwuohbwx.mp4\n"
     ]
    },
    {
     "name": "stderr",
     "output_type": "stream",
     "text": [
      "Processing 500 videos:  75%|███████▍  | 374/500 [5:46:27<1:44:20, 49.68s/it]"
     ]
    },
    {
     "name": "stdout",
     "output_type": "stream",
     "text": [
      "C:\\Users\\mahes\\ML\\dataset\\data unziped\\dfdc_train_part_0\\rktrpsdlci.mp4\n",
      "C:\\Users\\mahes\\ML\\dataset\\data unziped\\dfdc_train_part_0\\rktrpsdlci.mp4\n",
      "C:\\Users\\mahes\\ML\\dataset\\data unziped\\dfdc_train_part_0\\rktrpsdlci.mp4\n",
      "C:\\Users\\mahes\\ML\\dataset\\data unziped\\dfdc_train_part_0\\rktrpsdlci.mp4\n",
      "C:\\Users\\mahes\\ML\\dataset\\data unziped\\dfdc_train_part_0\\rktrpsdlci.mp4\n",
      "C:\\Users\\mahes\\ML\\dataset\\data unziped\\dfdc_train_part_0\\rktrpsdlci.mp4\n",
      "C:\\Users\\mahes\\ML\\dataset\\data unziped\\dfdc_train_part_0\\rktrpsdlci.mp4\n",
      "C:\\Users\\mahes\\ML\\dataset\\data unziped\\dfdc_train_part_0\\rktrpsdlci.mp4\n",
      "C:\\Users\\mahes\\ML\\dataset\\data unziped\\dfdc_train_part_0\\rktrpsdlci.mp4\n",
      "C:\\Users\\mahes\\ML\\dataset\\data unziped\\dfdc_train_part_0\\rktrpsdlci.mp4\n"
     ]
    },
    {
     "name": "stderr",
     "output_type": "stream",
     "text": [
      "Processing 500 videos:  75%|███████▌  | 375/500 [5:47:11<1:40:15, 48.12s/it]"
     ]
    },
    {
     "name": "stdout",
     "output_type": "stream",
     "text": [
      "C:\\Users\\mahes\\ML\\dataset\\data unziped\\dfdc_train_part_0\\fdpisghkmd.mp4\n",
      "C:\\Users\\mahes\\ML\\dataset\\data unziped\\dfdc_train_part_0\\fdpisghkmd.mp4\n",
      "C:\\Users\\mahes\\ML\\dataset\\data unziped\\dfdc_train_part_0\\fdpisghkmd.mp4\n",
      "C:\\Users\\mahes\\ML\\dataset\\data unziped\\dfdc_train_part_0\\fdpisghkmd.mp4\n",
      "C:\\Users\\mahes\\ML\\dataset\\data unziped\\dfdc_train_part_0\\fdpisghkmd.mp4\n",
      "C:\\Users\\mahes\\ML\\dataset\\data unziped\\dfdc_train_part_0\\fdpisghkmd.mp4\n",
      "C:\\Users\\mahes\\ML\\dataset\\data unziped\\dfdc_train_part_0\\fdpisghkmd.mp4\n",
      "C:\\Users\\mahes\\ML\\dataset\\data unziped\\dfdc_train_part_0\\fdpisghkmd.mp4\n",
      "C:\\Users\\mahes\\ML\\dataset\\data unziped\\dfdc_train_part_0\\fdpisghkmd.mp4\n",
      "C:\\Users\\mahes\\ML\\dataset\\data unziped\\dfdc_train_part_0\\fdpisghkmd.mp4\n"
     ]
    },
    {
     "name": "stderr",
     "output_type": "stream",
     "text": [
      "Processing 500 videos:  75%|███████▌  | 376/500 [5:47:59<1:39:16, 48.04s/it]"
     ]
    },
    {
     "name": "stdout",
     "output_type": "stream",
     "text": [
      "C:\\Users\\mahes\\ML\\dataset\\data unziped\\dfdc_train_part_0\\rmufsuogzn.mp4\n",
      "C:\\Users\\mahes\\ML\\dataset\\data unziped\\dfdc_train_part_0\\rmufsuogzn.mp4\n",
      "C:\\Users\\mahes\\ML\\dataset\\data unziped\\dfdc_train_part_0\\rmufsuogzn.mp4\n",
      "C:\\Users\\mahes\\ML\\dataset\\data unziped\\dfdc_train_part_0\\rmufsuogzn.mp4\n",
      "C:\\Users\\mahes\\ML\\dataset\\data unziped\\dfdc_train_part_0\\rmufsuogzn.mp4\n",
      "C:\\Users\\mahes\\ML\\dataset\\data unziped\\dfdc_train_part_0\\rmufsuogzn.mp4\n",
      "C:\\Users\\mahes\\ML\\dataset\\data unziped\\dfdc_train_part_0\\rmufsuogzn.mp4\n",
      "C:\\Users\\mahes\\ML\\dataset\\data unziped\\dfdc_train_part_0\\rmufsuogzn.mp4\n",
      "C:\\Users\\mahes\\ML\\dataset\\data unziped\\dfdc_train_part_0\\rmufsuogzn.mp4\n",
      "C:\\Users\\mahes\\ML\\dataset\\data unziped\\dfdc_train_part_0\\rmufsuogzn.mp4\n"
     ]
    },
    {
     "name": "stderr",
     "output_type": "stream",
     "text": [
      "Processing 500 videos:  75%|███████▌  | 377/500 [5:48:52<1:41:27, 49.49s/it]"
     ]
    },
    {
     "name": "stdout",
     "output_type": "stream",
     "text": [
      "C:\\Users\\mahes\\ML\\dataset\\data unziped\\dfdc_train_part_0\\fopjiyxiqd.mp4\n",
      "C:\\Users\\mahes\\ML\\dataset\\data unziped\\dfdc_train_part_0\\fopjiyxiqd.mp4\n",
      "C:\\Users\\mahes\\ML\\dataset\\data unziped\\dfdc_train_part_0\\fopjiyxiqd.mp4\n",
      "C:\\Users\\mahes\\ML\\dataset\\data unziped\\dfdc_train_part_0\\fopjiyxiqd.mp4\n",
      "C:\\Users\\mahes\\ML\\dataset\\data unziped\\dfdc_train_part_0\\fopjiyxiqd.mp4\n",
      "C:\\Users\\mahes\\ML\\dataset\\data unziped\\dfdc_train_part_0\\fopjiyxiqd.mp4\n",
      "C:\\Users\\mahes\\ML\\dataset\\data unziped\\dfdc_train_part_0\\fopjiyxiqd.mp4\n",
      "C:\\Users\\mahes\\ML\\dataset\\data unziped\\dfdc_train_part_0\\fopjiyxiqd.mp4\n",
      "C:\\Users\\mahes\\ML\\dataset\\data unziped\\dfdc_train_part_0\\fopjiyxiqd.mp4\n",
      "C:\\Users\\mahes\\ML\\dataset\\data unziped\\dfdc_train_part_0\\fopjiyxiqd.mp4\n"
     ]
    },
    {
     "name": "stderr",
     "output_type": "stream",
     "text": [
      "Processing 500 videos:  76%|███████▌  | 378/500 [5:49:40<1:39:34, 48.97s/it]"
     ]
    },
    {
     "name": "stdout",
     "output_type": "stream",
     "text": [
      "C:\\Users\\mahes\\ML\\dataset\\data unziped\\dfdc_train_part_0\\wcqvzujamg.mp4\n",
      "C:\\Users\\mahes\\ML\\dataset\\data unziped\\dfdc_train_part_0\\wcqvzujamg.mp4\n",
      "C:\\Users\\mahes\\ML\\dataset\\data unziped\\dfdc_train_part_0\\wcqvzujamg.mp4\n",
      "C:\\Users\\mahes\\ML\\dataset\\data unziped\\dfdc_train_part_0\\wcqvzujamg.mp4\n",
      "C:\\Users\\mahes\\ML\\dataset\\data unziped\\dfdc_train_part_0\\wcqvzujamg.mp4\n",
      "C:\\Users\\mahes\\ML\\dataset\\data unziped\\dfdc_train_part_0\\wcqvzujamg.mp4\n",
      "C:\\Users\\mahes\\ML\\dataset\\data unziped\\dfdc_train_part_0\\wcqvzujamg.mp4\n",
      "C:\\Users\\mahes\\ML\\dataset\\data unziped\\dfdc_train_part_0\\wcqvzujamg.mp4\n",
      "C:\\Users\\mahes\\ML\\dataset\\data unziped\\dfdc_train_part_0\\wcqvzujamg.mp4\n",
      "C:\\Users\\mahes\\ML\\dataset\\data unziped\\dfdc_train_part_0\\wcqvzujamg.mp4\n"
     ]
    },
    {
     "name": "stderr",
     "output_type": "stream",
     "text": [
      "Processing 500 videos:  76%|███████▌  | 379/500 [5:50:24<1:36:06, 47.66s/it]"
     ]
    },
    {
     "name": "stdout",
     "output_type": "stream",
     "text": [
      "C:\\Users\\mahes\\ML\\dataset\\data unziped\\dfdc_train_part_0\\gnmmhlbzge.mp4\n",
      "C:\\Users\\mahes\\ML\\dataset\\data unziped\\dfdc_train_part_0\\gnmmhlbzge.mp4\n",
      "C:\\Users\\mahes\\ML\\dataset\\data unziped\\dfdc_train_part_0\\gnmmhlbzge.mp4\n",
      "C:\\Users\\mahes\\ML\\dataset\\data unziped\\dfdc_train_part_0\\gnmmhlbzge.mp4\n",
      "C:\\Users\\mahes\\ML\\dataset\\data unziped\\dfdc_train_part_0\\gnmmhlbzge.mp4\n",
      "C:\\Users\\mahes\\ML\\dataset\\data unziped\\dfdc_train_part_0\\gnmmhlbzge.mp4\n",
      "C:\\Users\\mahes\\ML\\dataset\\data unziped\\dfdc_train_part_0\\gnmmhlbzge.mp4\n",
      "C:\\Users\\mahes\\ML\\dataset\\data unziped\\dfdc_train_part_0\\gnmmhlbzge.mp4\n",
      "C:\\Users\\mahes\\ML\\dataset\\data unziped\\dfdc_train_part_0\\gnmmhlbzge.mp4\n",
      "C:\\Users\\mahes\\ML\\dataset\\data unziped\\dfdc_train_part_0\\gnmmhlbzge.mp4\n"
     ]
    },
    {
     "name": "stderr",
     "output_type": "stream",
     "text": [
      "Processing 500 videos:  76%|███████▌  | 380/500 [5:51:09<1:33:36, 46.80s/it]"
     ]
    },
    {
     "name": "stdout",
     "output_type": "stream",
     "text": [
      "C:\\Users\\mahes\\ML\\dataset\\data unziped\\dfdc_train_part_0\\psjfwjzrrh.mp4\n",
      "C:\\Users\\mahes\\ML\\dataset\\data unziped\\dfdc_train_part_0\\psjfwjzrrh.mp4\n",
      "C:\\Users\\mahes\\ML\\dataset\\data unziped\\dfdc_train_part_0\\psjfwjzrrh.mp4\n",
      "C:\\Users\\mahes\\ML\\dataset\\data unziped\\dfdc_train_part_0\\psjfwjzrrh.mp4\n",
      "C:\\Users\\mahes\\ML\\dataset\\data unziped\\dfdc_train_part_0\\psjfwjzrrh.mp4\n",
      "C:\\Users\\mahes\\ML\\dataset\\data unziped\\dfdc_train_part_0\\psjfwjzrrh.mp4\n",
      "C:\\Users\\mahes\\ML\\dataset\\data unziped\\dfdc_train_part_0\\psjfwjzrrh.mp4\n",
      "C:\\Users\\mahes\\ML\\dataset\\data unziped\\dfdc_train_part_0\\psjfwjzrrh.mp4\n",
      "C:\\Users\\mahes\\ML\\dataset\\data unziped\\dfdc_train_part_0\\psjfwjzrrh.mp4\n",
      "C:\\Users\\mahes\\ML\\dataset\\data unziped\\dfdc_train_part_0\\psjfwjzrrh.mp4\n"
     ]
    },
    {
     "name": "stderr",
     "output_type": "stream",
     "text": [
      "Processing 500 videos:  76%|███████▌  | 381/500 [5:52:02<1:36:24, 48.61s/it]"
     ]
    },
    {
     "name": "stdout",
     "output_type": "stream",
     "text": [
      "C:\\Users\\mahes\\ML\\dataset\\data unziped\\dfdc_train_part_0\\aayrffkzxn.mp4\n",
      "C:\\Users\\mahes\\ML\\dataset\\data unziped\\dfdc_train_part_0\\aayrffkzxn.mp4\n",
      "C:\\Users\\mahes\\ML\\dataset\\data unziped\\dfdc_train_part_0\\aayrffkzxn.mp4\n",
      "C:\\Users\\mahes\\ML\\dataset\\data unziped\\dfdc_train_part_0\\aayrffkzxn.mp4\n",
      "C:\\Users\\mahes\\ML\\dataset\\data unziped\\dfdc_train_part_0\\aayrffkzxn.mp4\n",
      "C:\\Users\\mahes\\ML\\dataset\\data unziped\\dfdc_train_part_0\\aayrffkzxn.mp4\n",
      "C:\\Users\\mahes\\ML\\dataset\\data unziped\\dfdc_train_part_0\\aayrffkzxn.mp4\n",
      "C:\\Users\\mahes\\ML\\dataset\\data unziped\\dfdc_train_part_0\\aayrffkzxn.mp4\n",
      "C:\\Users\\mahes\\ML\\dataset\\data unziped\\dfdc_train_part_0\\aayrffkzxn.mp4\n",
      "C:\\Users\\mahes\\ML\\dataset\\data unziped\\dfdc_train_part_0\\aayrffkzxn.mp4\n"
     ]
    },
    {
     "name": "stderr",
     "output_type": "stream",
     "text": [
      "Processing 500 videos:  76%|███████▋  | 382/500 [5:52:56<1:38:50, 50.26s/it]"
     ]
    },
    {
     "name": "stdout",
     "output_type": "stream",
     "text": [
      "C:\\Users\\mahes\\ML\\dataset\\data unziped\\dfdc_train_part_0\\wynotylpnm.mp4\n",
      "C:\\Users\\mahes\\ML\\dataset\\data unziped\\dfdc_train_part_0\\wynotylpnm.mp4\n",
      "C:\\Users\\mahes\\ML\\dataset\\data unziped\\dfdc_train_part_0\\wynotylpnm.mp4\n",
      "C:\\Users\\mahes\\ML\\dataset\\data unziped\\dfdc_train_part_0\\wynotylpnm.mp4\n",
      "C:\\Users\\mahes\\ML\\dataset\\data unziped\\dfdc_train_part_0\\wynotylpnm.mp4\n",
      "C:\\Users\\mahes\\ML\\dataset\\data unziped\\dfdc_train_part_0\\wynotylpnm.mp4\n",
      "C:\\Users\\mahes\\ML\\dataset\\data unziped\\dfdc_train_part_0\\wynotylpnm.mp4\n",
      "C:\\Users\\mahes\\ML\\dataset\\data unziped\\dfdc_train_part_0\\wynotylpnm.mp4\n",
      "C:\\Users\\mahes\\ML\\dataset\\data unziped\\dfdc_train_part_0\\wynotylpnm.mp4\n",
      "C:\\Users\\mahes\\ML\\dataset\\data unziped\\dfdc_train_part_0\\wynotylpnm.mp4\n"
     ]
    },
    {
     "name": "stderr",
     "output_type": "stream",
     "text": [
      "Processing 500 videos:  77%|███████▋  | 383/500 [5:53:41<1:35:12, 48.82s/it]"
     ]
    },
    {
     "name": "stdout",
     "output_type": "stream",
     "text": [
      "C:\\Users\\mahes\\ML\\dataset\\data unziped\\dfdc_train_part_0\\wcqvzujamg.mp4\n",
      "C:\\Users\\mahes\\ML\\dataset\\data unziped\\dfdc_train_part_0\\wcqvzujamg.mp4\n",
      "C:\\Users\\mahes\\ML\\dataset\\data unziped\\dfdc_train_part_0\\wcqvzujamg.mp4\n",
      "C:\\Users\\mahes\\ML\\dataset\\data unziped\\dfdc_train_part_0\\wcqvzujamg.mp4\n",
      "C:\\Users\\mahes\\ML\\dataset\\data unziped\\dfdc_train_part_0\\wcqvzujamg.mp4\n",
      "C:\\Users\\mahes\\ML\\dataset\\data unziped\\dfdc_train_part_0\\wcqvzujamg.mp4\n",
      "C:\\Users\\mahes\\ML\\dataset\\data unziped\\dfdc_train_part_0\\wcqvzujamg.mp4\n",
      "C:\\Users\\mahes\\ML\\dataset\\data unziped\\dfdc_train_part_0\\wcqvzujamg.mp4\n",
      "C:\\Users\\mahes\\ML\\dataset\\data unziped\\dfdc_train_part_0\\wcqvzujamg.mp4\n",
      "C:\\Users\\mahes\\ML\\dataset\\data unziped\\dfdc_train_part_0\\wcqvzujamg.mp4\n"
     ]
    },
    {
     "name": "stderr",
     "output_type": "stream",
     "text": [
      "Processing 500 videos:  77%|███████▋  | 384/500 [5:54:25<1:31:09, 47.15s/it]"
     ]
    },
    {
     "name": "stdout",
     "output_type": "stream",
     "text": [
      "C:\\Users\\mahes\\ML\\dataset\\data unziped\\dfdc_train_part_0\\hsbwhlolsn.mp4\n",
      "C:\\Users\\mahes\\ML\\dataset\\data unziped\\dfdc_train_part_0\\hsbwhlolsn.mp4\n",
      "C:\\Users\\mahes\\ML\\dataset\\data unziped\\dfdc_train_part_0\\hsbwhlolsn.mp4\n",
      "C:\\Users\\mahes\\ML\\dataset\\data unziped\\dfdc_train_part_0\\hsbwhlolsn.mp4\n",
      "C:\\Users\\mahes\\ML\\dataset\\data unziped\\dfdc_train_part_0\\hsbwhlolsn.mp4\n",
      "C:\\Users\\mahes\\ML\\dataset\\data unziped\\dfdc_train_part_0\\hsbwhlolsn.mp4\n",
      "C:\\Users\\mahes\\ML\\dataset\\data unziped\\dfdc_train_part_0\\hsbwhlolsn.mp4\n",
      "C:\\Users\\mahes\\ML\\dataset\\data unziped\\dfdc_train_part_0\\hsbwhlolsn.mp4\n",
      "C:\\Users\\mahes\\ML\\dataset\\data unziped\\dfdc_train_part_0\\hsbwhlolsn.mp4\n",
      "C:\\Users\\mahes\\ML\\dataset\\data unziped\\dfdc_train_part_0\\hsbwhlolsn.mp4\n"
     ]
    },
    {
     "name": "stderr",
     "output_type": "stream",
     "text": [
      "Processing 500 videos:  77%|███████▋  | 385/500 [5:55:18<1:33:50, 48.96s/it]"
     ]
    },
    {
     "name": "stdout",
     "output_type": "stream",
     "text": [
      "C:\\Users\\mahes\\ML\\dataset\\data unziped\\dfdc_train_part_0\\fnslimfagb.mp4\n",
      "C:\\Users\\mahes\\ML\\dataset\\data unziped\\dfdc_train_part_0\\fnslimfagb.mp4\n",
      "C:\\Users\\mahes\\ML\\dataset\\data unziped\\dfdc_train_part_0\\fnslimfagb.mp4\n",
      "C:\\Users\\mahes\\ML\\dataset\\data unziped\\dfdc_train_part_0\\fnslimfagb.mp4\n",
      "C:\\Users\\mahes\\ML\\dataset\\data unziped\\dfdc_train_part_0\\fnslimfagb.mp4\n",
      "C:\\Users\\mahes\\ML\\dataset\\data unziped\\dfdc_train_part_0\\fnslimfagb.mp4\n",
      "C:\\Users\\mahes\\ML\\dataset\\data unziped\\dfdc_train_part_0\\fnslimfagb.mp4\n",
      "C:\\Users\\mahes\\ML\\dataset\\data unziped\\dfdc_train_part_0\\fnslimfagb.mp4\n",
      "C:\\Users\\mahes\\ML\\dataset\\data unziped\\dfdc_train_part_0\\fnslimfagb.mp4\n",
      "C:\\Users\\mahes\\ML\\dataset\\data unziped\\dfdc_train_part_0\\fnslimfagb.mp4\n"
     ]
    },
    {
     "name": "stderr",
     "output_type": "stream",
     "text": [
      "Processing 500 videos:  77%|███████▋  | 386/500 [5:56:11<1:35:25, 50.23s/it]"
     ]
    },
    {
     "name": "stdout",
     "output_type": "stream",
     "text": [
      "C:\\Users\\mahes\\ML\\dataset\\data unziped\\dfdc_train_part_0\\chqqxfuuzi.mp4\n",
      "C:\\Users\\mahes\\ML\\dataset\\data unziped\\dfdc_train_part_0\\chqqxfuuzi.mp4\n",
      "C:\\Users\\mahes\\ML\\dataset\\data unziped\\dfdc_train_part_0\\chqqxfuuzi.mp4\n",
      "C:\\Users\\mahes\\ML\\dataset\\data unziped\\dfdc_train_part_0\\chqqxfuuzi.mp4\n",
      "C:\\Users\\mahes\\ML\\dataset\\data unziped\\dfdc_train_part_0\\chqqxfuuzi.mp4\n",
      "C:\\Users\\mahes\\ML\\dataset\\data unziped\\dfdc_train_part_0\\chqqxfuuzi.mp4\n",
      "C:\\Users\\mahes\\ML\\dataset\\data unziped\\dfdc_train_part_0\\chqqxfuuzi.mp4\n",
      "C:\\Users\\mahes\\ML\\dataset\\data unziped\\dfdc_train_part_0\\chqqxfuuzi.mp4\n",
      "C:\\Users\\mahes\\ML\\dataset\\data unziped\\dfdc_train_part_0\\chqqxfuuzi.mp4\n",
      "C:\\Users\\mahes\\ML\\dataset\\data unziped\\dfdc_train_part_0\\chqqxfuuzi.mp4\n"
     ]
    },
    {
     "name": "stderr",
     "output_type": "stream",
     "text": [
      "Processing 500 videos:  77%|███████▋  | 387/500 [5:57:03<1:35:30, 50.71s/it]"
     ]
    },
    {
     "name": "stdout",
     "output_type": "stream",
     "text": [
      "C:\\Users\\mahes\\ML\\dataset\\data unziped\\dfdc_train_part_0\\gnmmhlbzge.mp4\n",
      "C:\\Users\\mahes\\ML\\dataset\\data unziped\\dfdc_train_part_0\\gnmmhlbzge.mp4\n",
      "C:\\Users\\mahes\\ML\\dataset\\data unziped\\dfdc_train_part_0\\gnmmhlbzge.mp4\n",
      "C:\\Users\\mahes\\ML\\dataset\\data unziped\\dfdc_train_part_0\\gnmmhlbzge.mp4\n",
      "C:\\Users\\mahes\\ML\\dataset\\data unziped\\dfdc_train_part_0\\gnmmhlbzge.mp4\n",
      "C:\\Users\\mahes\\ML\\dataset\\data unziped\\dfdc_train_part_0\\gnmmhlbzge.mp4\n",
      "C:\\Users\\mahes\\ML\\dataset\\data unziped\\dfdc_train_part_0\\gnmmhlbzge.mp4\n",
      "C:\\Users\\mahes\\ML\\dataset\\data unziped\\dfdc_train_part_0\\gnmmhlbzge.mp4\n",
      "C:\\Users\\mahes\\ML\\dataset\\data unziped\\dfdc_train_part_0\\gnmmhlbzge.mp4\n",
      "C:\\Users\\mahes\\ML\\dataset\\data unziped\\dfdc_train_part_0\\gnmmhlbzge.mp4\n"
     ]
    },
    {
     "name": "stderr",
     "output_type": "stream",
     "text": [
      "Processing 500 videos:  78%|███████▊  | 388/500 [5:57:46<1:30:29, 48.48s/it]"
     ]
    },
    {
     "name": "stdout",
     "output_type": "stream",
     "text": [
      "C:\\Users\\mahes\\ML\\dataset\\data unziped\\dfdc_train_part_0\\dxfdovivlw.mp4\n",
      "C:\\Users\\mahes\\ML\\dataset\\data unziped\\dfdc_train_part_0\\dxfdovivlw.mp4\n",
      "C:\\Users\\mahes\\ML\\dataset\\data unziped\\dfdc_train_part_0\\dxfdovivlw.mp4\n",
      "C:\\Users\\mahes\\ML\\dataset\\data unziped\\dfdc_train_part_0\\dxfdovivlw.mp4\n",
      "C:\\Users\\mahes\\ML\\dataset\\data unziped\\dfdc_train_part_0\\dxfdovivlw.mp4\n",
      "C:\\Users\\mahes\\ML\\dataset\\data unziped\\dfdc_train_part_0\\dxfdovivlw.mp4\n",
      "C:\\Users\\mahes\\ML\\dataset\\data unziped\\dfdc_train_part_0\\dxfdovivlw.mp4\n",
      "C:\\Users\\mahes\\ML\\dataset\\data unziped\\dfdc_train_part_0\\dxfdovivlw.mp4\n",
      "C:\\Users\\mahes\\ML\\dataset\\data unziped\\dfdc_train_part_0\\dxfdovivlw.mp4\n",
      "C:\\Users\\mahes\\ML\\dataset\\data unziped\\dfdc_train_part_0\\dxfdovivlw.mp4\n"
     ]
    },
    {
     "name": "stderr",
     "output_type": "stream",
     "text": [
      "Processing 500 videos:  78%|███████▊  | 389/500 [5:58:31<1:27:25, 47.26s/it]"
     ]
    },
    {
     "name": "stdout",
     "output_type": "stream",
     "text": [
      "C:\\Users\\mahes\\ML\\dataset\\data unziped\\dfdc_train_part_0\\vtunvalyji.mp4\n",
      "C:\\Users\\mahes\\ML\\dataset\\data unziped\\dfdc_train_part_0\\vtunvalyji.mp4\n",
      "C:\\Users\\mahes\\ML\\dataset\\data unziped\\dfdc_train_part_0\\vtunvalyji.mp4\n",
      "C:\\Users\\mahes\\ML\\dataset\\data unziped\\dfdc_train_part_0\\vtunvalyji.mp4\n",
      "C:\\Users\\mahes\\ML\\dataset\\data unziped\\dfdc_train_part_0\\vtunvalyji.mp4\n",
      "C:\\Users\\mahes\\ML\\dataset\\data unziped\\dfdc_train_part_0\\vtunvalyji.mp4\n",
      "C:\\Users\\mahes\\ML\\dataset\\data unziped\\dfdc_train_part_0\\vtunvalyji.mp4\n",
      "C:\\Users\\mahes\\ML\\dataset\\data unziped\\dfdc_train_part_0\\vtunvalyji.mp4\n",
      "C:\\Users\\mahes\\ML\\dataset\\data unziped\\dfdc_train_part_0\\vtunvalyji.mp4\n",
      "C:\\Users\\mahes\\ML\\dataset\\data unziped\\dfdc_train_part_0\\vtunvalyji.mp4\n"
     ]
    },
    {
     "name": "stderr",
     "output_type": "stream",
     "text": [
      "Processing 500 videos:  78%|███████▊  | 390/500 [5:59:18<1:26:44, 47.32s/it]"
     ]
    },
    {
     "name": "stdout",
     "output_type": "stream",
     "text": [
      "C:\\Users\\mahes\\ML\\dataset\\data unziped\\dfdc_train_part_0\\fdpisghkmd.mp4\n",
      "C:\\Users\\mahes\\ML\\dataset\\data unziped\\dfdc_train_part_0\\fdpisghkmd.mp4\n",
      "C:\\Users\\mahes\\ML\\dataset\\data unziped\\dfdc_train_part_0\\fdpisghkmd.mp4\n",
      "C:\\Users\\mahes\\ML\\dataset\\data unziped\\dfdc_train_part_0\\fdpisghkmd.mp4\n",
      "C:\\Users\\mahes\\ML\\dataset\\data unziped\\dfdc_train_part_0\\fdpisghkmd.mp4\n",
      "C:\\Users\\mahes\\ML\\dataset\\data unziped\\dfdc_train_part_0\\fdpisghkmd.mp4\n",
      "C:\\Users\\mahes\\ML\\dataset\\data unziped\\dfdc_train_part_0\\fdpisghkmd.mp4\n",
      "C:\\Users\\mahes\\ML\\dataset\\data unziped\\dfdc_train_part_0\\fdpisghkmd.mp4\n",
      "C:\\Users\\mahes\\ML\\dataset\\data unziped\\dfdc_train_part_0\\fdpisghkmd.mp4\n",
      "C:\\Users\\mahes\\ML\\dataset\\data unziped\\dfdc_train_part_0\\fdpisghkmd.mp4\n"
     ]
    },
    {
     "name": "stderr",
     "output_type": "stream",
     "text": [
      "Processing 500 videos:  78%|███████▊  | 391/500 [6:00:06<1:26:31, 47.63s/it]"
     ]
    },
    {
     "name": "stdout",
     "output_type": "stream",
     "text": [
      "C:\\Users\\mahes\\ML\\dataset\\data unziped\\dfdc_train_part_0\\rnpefxwptv.mp4\n",
      "C:\\Users\\mahes\\ML\\dataset\\data unziped\\dfdc_train_part_0\\rnpefxwptv.mp4\n",
      "C:\\Users\\mahes\\ML\\dataset\\data unziped\\dfdc_train_part_0\\rnpefxwptv.mp4\n",
      "C:\\Users\\mahes\\ML\\dataset\\data unziped\\dfdc_train_part_0\\rnpefxwptv.mp4\n",
      "C:\\Users\\mahes\\ML\\dataset\\data unziped\\dfdc_train_part_0\\rnpefxwptv.mp4\n",
      "C:\\Users\\mahes\\ML\\dataset\\data unziped\\dfdc_train_part_0\\rnpefxwptv.mp4\n",
      "C:\\Users\\mahes\\ML\\dataset\\data unziped\\dfdc_train_part_0\\rnpefxwptv.mp4\n",
      "C:\\Users\\mahes\\ML\\dataset\\data unziped\\dfdc_train_part_0\\rnpefxwptv.mp4\n",
      "C:\\Users\\mahes\\ML\\dataset\\data unziped\\dfdc_train_part_0\\rnpefxwptv.mp4\n",
      "C:\\Users\\mahes\\ML\\dataset\\data unziped\\dfdc_train_part_0\\rnpefxwptv.mp4\n"
     ]
    },
    {
     "name": "stderr",
     "output_type": "stream",
     "text": [
      "Processing 500 videos:  78%|███████▊  | 392/500 [6:00:58<1:27:36, 48.67s/it]"
     ]
    },
    {
     "name": "stdout",
     "output_type": "stream",
     "text": [
      "C:\\Users\\mahes\\ML\\dataset\\data unziped\\dfdc_train_part_0\\eppyqpgewp.mp4\n",
      "C:\\Users\\mahes\\ML\\dataset\\data unziped\\dfdc_train_part_0\\eppyqpgewp.mp4\n",
      "C:\\Users\\mahes\\ML\\dataset\\data unziped\\dfdc_train_part_0\\eppyqpgewp.mp4\n",
      "C:\\Users\\mahes\\ML\\dataset\\data unziped\\dfdc_train_part_0\\eppyqpgewp.mp4\n",
      "C:\\Users\\mahes\\ML\\dataset\\data unziped\\dfdc_train_part_0\\eppyqpgewp.mp4\n",
      "C:\\Users\\mahes\\ML\\dataset\\data unziped\\dfdc_train_part_0\\eppyqpgewp.mp4\n",
      "C:\\Users\\mahes\\ML\\dataset\\data unziped\\dfdc_train_part_0\\eppyqpgewp.mp4\n",
      "C:\\Users\\mahes\\ML\\dataset\\data unziped\\dfdc_train_part_0\\eppyqpgewp.mp4\n",
      "C:\\Users\\mahes\\ML\\dataset\\data unziped\\dfdc_train_part_0\\eppyqpgewp.mp4\n",
      "C:\\Users\\mahes\\ML\\dataset\\data unziped\\dfdc_train_part_0\\eppyqpgewp.mp4\n"
     ]
    },
    {
     "name": "stderr",
     "output_type": "stream",
     "text": [
      "Processing 500 videos:  79%|███████▊  | 393/500 [6:01:48<1:27:58, 49.33s/it]"
     ]
    },
    {
     "name": "stdout",
     "output_type": "stream",
     "text": [
      "C:\\Users\\mahes\\ML\\dataset\\data unziped\\dfdc_train_part_0\\fsaronfupy.mp4\n",
      "C:\\Users\\mahes\\ML\\dataset\\data unziped\\dfdc_train_part_0\\fsaronfupy.mp4\n",
      "C:\\Users\\mahes\\ML\\dataset\\data unziped\\dfdc_train_part_0\\fsaronfupy.mp4\n",
      "C:\\Users\\mahes\\ML\\dataset\\data unziped\\dfdc_train_part_0\\fsaronfupy.mp4\n",
      "C:\\Users\\mahes\\ML\\dataset\\data unziped\\dfdc_train_part_0\\fsaronfupy.mp4\n",
      "C:\\Users\\mahes\\ML\\dataset\\data unziped\\dfdc_train_part_0\\fsaronfupy.mp4\n",
      "C:\\Users\\mahes\\ML\\dataset\\data unziped\\dfdc_train_part_0\\fsaronfupy.mp4\n",
      "C:\\Users\\mahes\\ML\\dataset\\data unziped\\dfdc_train_part_0\\fsaronfupy.mp4\n",
      "C:\\Users\\mahes\\ML\\dataset\\data unziped\\dfdc_train_part_0\\fsaronfupy.mp4\n",
      "C:\\Users\\mahes\\ML\\dataset\\data unziped\\dfdc_train_part_0\\fsaronfupy.mp4\n"
     ]
    },
    {
     "name": "stderr",
     "output_type": "stream",
     "text": [
      "Processing 500 videos:  79%|███████▉  | 394/500 [6:02:35<1:25:55, 48.64s/it]"
     ]
    },
    {
     "name": "stdout",
     "output_type": "stream",
     "text": [
      "C:\\Users\\mahes\\ML\\dataset\\data unziped\\dfdc_train_part_0\\srfefmyjvt.mp4\n",
      "C:\\Users\\mahes\\ML\\dataset\\data unziped\\dfdc_train_part_0\\srfefmyjvt.mp4\n",
      "C:\\Users\\mahes\\ML\\dataset\\data unziped\\dfdc_train_part_0\\srfefmyjvt.mp4\n",
      "C:\\Users\\mahes\\ML\\dataset\\data unziped\\dfdc_train_part_0\\srfefmyjvt.mp4\n",
      "C:\\Users\\mahes\\ML\\dataset\\data unziped\\dfdc_train_part_0\\srfefmyjvt.mp4\n",
      "C:\\Users\\mahes\\ML\\dataset\\data unziped\\dfdc_train_part_0\\srfefmyjvt.mp4\n",
      "C:\\Users\\mahes\\ML\\dataset\\data unziped\\dfdc_train_part_0\\srfefmyjvt.mp4\n",
      "C:\\Users\\mahes\\ML\\dataset\\data unziped\\dfdc_train_part_0\\srfefmyjvt.mp4\n",
      "C:\\Users\\mahes\\ML\\dataset\\data unziped\\dfdc_train_part_0\\srfefmyjvt.mp4\n",
      "C:\\Users\\mahes\\ML\\dataset\\data unziped\\dfdc_train_part_0\\srfefmyjvt.mp4\n"
     ]
    },
    {
     "name": "stderr",
     "output_type": "stream",
     "text": [
      "Processing 500 videos:  79%|███████▉  | 395/500 [6:03:20<1:22:51, 47.35s/it]"
     ]
    },
    {
     "name": "stdout",
     "output_type": "stream",
     "text": [
      "C:\\Users\\mahes\\ML\\dataset\\data unziped\\dfdc_train_part_0\\xjzkfqddyk.mp4\n",
      "C:\\Users\\mahes\\ML\\dataset\\data unziped\\dfdc_train_part_0\\xjzkfqddyk.mp4\n",
      "C:\\Users\\mahes\\ML\\dataset\\data unziped\\dfdc_train_part_0\\xjzkfqddyk.mp4\n",
      "C:\\Users\\mahes\\ML\\dataset\\data unziped\\dfdc_train_part_0\\xjzkfqddyk.mp4\n",
      "C:\\Users\\mahes\\ML\\dataset\\data unziped\\dfdc_train_part_0\\xjzkfqddyk.mp4\n",
      "C:\\Users\\mahes\\ML\\dataset\\data unziped\\dfdc_train_part_0\\xjzkfqddyk.mp4\n",
      "C:\\Users\\mahes\\ML\\dataset\\data unziped\\dfdc_train_part_0\\xjzkfqddyk.mp4\n",
      "C:\\Users\\mahes\\ML\\dataset\\data unziped\\dfdc_train_part_0\\xjzkfqddyk.mp4\n",
      "C:\\Users\\mahes\\ML\\dataset\\data unziped\\dfdc_train_part_0\\xjzkfqddyk.mp4\n",
      "C:\\Users\\mahes\\ML\\dataset\\data unziped\\dfdc_train_part_0\\xjzkfqddyk.mp4\n"
     ]
    },
    {
     "name": "stderr",
     "output_type": "stream",
     "text": [
      "Processing 500 videos:  79%|███████▉  | 396/500 [6:04:12<1:24:51, 48.96s/it]"
     ]
    },
    {
     "name": "stdout",
     "output_type": "stream",
     "text": [
      "C:\\Users\\mahes\\ML\\dataset\\data unziped\\dfdc_train_part_0\\ucthmsajay.mp4\n",
      "C:\\Users\\mahes\\ML\\dataset\\data unziped\\dfdc_train_part_0\\ucthmsajay.mp4\n",
      "C:\\Users\\mahes\\ML\\dataset\\data unziped\\dfdc_train_part_0\\ucthmsajay.mp4\n",
      "C:\\Users\\mahes\\ML\\dataset\\data unziped\\dfdc_train_part_0\\ucthmsajay.mp4\n",
      "C:\\Users\\mahes\\ML\\dataset\\data unziped\\dfdc_train_part_0\\ucthmsajay.mp4\n",
      "C:\\Users\\mahes\\ML\\dataset\\data unziped\\dfdc_train_part_0\\ucthmsajay.mp4\n",
      "C:\\Users\\mahes\\ML\\dataset\\data unziped\\dfdc_train_part_0\\ucthmsajay.mp4\n",
      "C:\\Users\\mahes\\ML\\dataset\\data unziped\\dfdc_train_part_0\\ucthmsajay.mp4\n",
      "C:\\Users\\mahes\\ML\\dataset\\data unziped\\dfdc_train_part_0\\ucthmsajay.mp4\n",
      "C:\\Users\\mahes\\ML\\dataset\\data unziped\\dfdc_train_part_0\\ucthmsajay.mp4\n"
     ]
    },
    {
     "name": "stderr",
     "output_type": "stream",
     "text": [
      "Processing 500 videos:  79%|███████▉  | 397/500 [6:05:05<1:25:54, 50.04s/it]"
     ]
    },
    {
     "name": "stdout",
     "output_type": "stream",
     "text": [
      "C:\\Users\\mahes\\ML\\dataset\\data unziped\\dfdc_train_part_0\\srfefmyjvt.mp4\n",
      "C:\\Users\\mahes\\ML\\dataset\\data unziped\\dfdc_train_part_0\\srfefmyjvt.mp4\n",
      "C:\\Users\\mahes\\ML\\dataset\\data unziped\\dfdc_train_part_0\\srfefmyjvt.mp4\n",
      "C:\\Users\\mahes\\ML\\dataset\\data unziped\\dfdc_train_part_0\\srfefmyjvt.mp4\n",
      "C:\\Users\\mahes\\ML\\dataset\\data unziped\\dfdc_train_part_0\\srfefmyjvt.mp4\n",
      "C:\\Users\\mahes\\ML\\dataset\\data unziped\\dfdc_train_part_0\\srfefmyjvt.mp4\n",
      "C:\\Users\\mahes\\ML\\dataset\\data unziped\\dfdc_train_part_0\\srfefmyjvt.mp4\n",
      "C:\\Users\\mahes\\ML\\dataset\\data unziped\\dfdc_train_part_0\\srfefmyjvt.mp4\n",
      "C:\\Users\\mahes\\ML\\dataset\\data unziped\\dfdc_train_part_0\\srfefmyjvt.mp4\n",
      "C:\\Users\\mahes\\ML\\dataset\\data unziped\\dfdc_train_part_0\\srfefmyjvt.mp4\n"
     ]
    },
    {
     "name": "stderr",
     "output_type": "stream",
     "text": [
      "Processing 500 videos:  80%|███████▉  | 398/500 [6:05:49<1:22:10, 48.34s/it]"
     ]
    },
    {
     "name": "stdout",
     "output_type": "stream",
     "text": [
      "C:\\Users\\mahes\\ML\\dataset\\data unziped\\dfdc_train_part_0\\qarqtkvgby.mp4\n",
      "C:\\Users\\mahes\\ML\\dataset\\data unziped\\dfdc_train_part_0\\qarqtkvgby.mp4\n",
      "C:\\Users\\mahes\\ML\\dataset\\data unziped\\dfdc_train_part_0\\qarqtkvgby.mp4\n",
      "C:\\Users\\mahes\\ML\\dataset\\data unziped\\dfdc_train_part_0\\qarqtkvgby.mp4\n",
      "C:\\Users\\mahes\\ML\\dataset\\data unziped\\dfdc_train_part_0\\qarqtkvgby.mp4\n",
      "C:\\Users\\mahes\\ML\\dataset\\data unziped\\dfdc_train_part_0\\qarqtkvgby.mp4\n",
      "C:\\Users\\mahes\\ML\\dataset\\data unziped\\dfdc_train_part_0\\qarqtkvgby.mp4\n",
      "C:\\Users\\mahes\\ML\\dataset\\data unziped\\dfdc_train_part_0\\qarqtkvgby.mp4\n",
      "C:\\Users\\mahes\\ML\\dataset\\data unziped\\dfdc_train_part_0\\qarqtkvgby.mp4\n",
      "C:\\Users\\mahes\\ML\\dataset\\data unziped\\dfdc_train_part_0\\qarqtkvgby.mp4\n"
     ]
    },
    {
     "name": "stderr",
     "output_type": "stream",
     "text": [
      "Processing 500 videos:  80%|███████▉  | 399/500 [6:06:37<1:20:53, 48.05s/it]"
     ]
    },
    {
     "name": "stdout",
     "output_type": "stream",
     "text": [
      "C:\\Users\\mahes\\ML\\dataset\\data unziped\\dfdc_train_part_0\\qarqtkvgby.mp4\n",
      "C:\\Users\\mahes\\ML\\dataset\\data unziped\\dfdc_train_part_0\\qarqtkvgby.mp4\n",
      "C:\\Users\\mahes\\ML\\dataset\\data unziped\\dfdc_train_part_0\\qarqtkvgby.mp4\n",
      "C:\\Users\\mahes\\ML\\dataset\\data unziped\\dfdc_train_part_0\\qarqtkvgby.mp4\n",
      "C:\\Users\\mahes\\ML\\dataset\\data unziped\\dfdc_train_part_0\\qarqtkvgby.mp4\n",
      "C:\\Users\\mahes\\ML\\dataset\\data unziped\\dfdc_train_part_0\\qarqtkvgby.mp4\n",
      "C:\\Users\\mahes\\ML\\dataset\\data unziped\\dfdc_train_part_0\\qarqtkvgby.mp4\n",
      "C:\\Users\\mahes\\ML\\dataset\\data unziped\\dfdc_train_part_0\\qarqtkvgby.mp4\n",
      "C:\\Users\\mahes\\ML\\dataset\\data unziped\\dfdc_train_part_0\\qarqtkvgby.mp4\n",
      "C:\\Users\\mahes\\ML\\dataset\\data unziped\\dfdc_train_part_0\\qarqtkvgby.mp4\n"
     ]
    },
    {
     "name": "stderr",
     "output_type": "stream",
     "text": [
      "Processing 500 videos:  80%|████████  | 400/500 [6:07:24<1:19:39, 47.80s/it]"
     ]
    },
    {
     "name": "stdout",
     "output_type": "stream",
     "text": [
      "C:\\Users\\mahes\\ML\\dataset\\data unziped\\dfdc_train_part_0\\jawgcggquk.mp4\n",
      "C:\\Users\\mahes\\ML\\dataset\\data unziped\\dfdc_train_part_0\\jawgcggquk.mp4\n",
      "C:\\Users\\mahes\\ML\\dataset\\data unziped\\dfdc_train_part_0\\jawgcggquk.mp4\n",
      "C:\\Users\\mahes\\ML\\dataset\\data unziped\\dfdc_train_part_0\\jawgcggquk.mp4\n",
      "C:\\Users\\mahes\\ML\\dataset\\data unziped\\dfdc_train_part_0\\jawgcggquk.mp4\n",
      "C:\\Users\\mahes\\ML\\dataset\\data unziped\\dfdc_train_part_0\\jawgcggquk.mp4\n",
      "C:\\Users\\mahes\\ML\\dataset\\data unziped\\dfdc_train_part_0\\jawgcggquk.mp4\n",
      "C:\\Users\\mahes\\ML\\dataset\\data unziped\\dfdc_train_part_0\\jawgcggquk.mp4\n",
      "C:\\Users\\mahes\\ML\\dataset\\data unziped\\dfdc_train_part_0\\jawgcggquk.mp4\n",
      "C:\\Users\\mahes\\ML\\dataset\\data unziped\\dfdc_train_part_0\\jawgcggquk.mp4\n"
     ]
    },
    {
     "name": "stderr",
     "output_type": "stream",
     "text": [
      "Processing 500 videos:  80%|████████  | 401/500 [6:08:08<1:16:48, 46.55s/it]"
     ]
    },
    {
     "name": "stdout",
     "output_type": "stream",
     "text": [
      "C:\\Users\\mahes\\ML\\dataset\\data unziped\\dfdc_train_part_0\\fdpisghkmd.mp4\n",
      "C:\\Users\\mahes\\ML\\dataset\\data unziped\\dfdc_train_part_0\\fdpisghkmd.mp4\n",
      "C:\\Users\\mahes\\ML\\dataset\\data unziped\\dfdc_train_part_0\\fdpisghkmd.mp4\n",
      "C:\\Users\\mahes\\ML\\dataset\\data unziped\\dfdc_train_part_0\\fdpisghkmd.mp4\n",
      "C:\\Users\\mahes\\ML\\dataset\\data unziped\\dfdc_train_part_0\\fdpisghkmd.mp4\n",
      "C:\\Users\\mahes\\ML\\dataset\\data unziped\\dfdc_train_part_0\\fdpisghkmd.mp4\n",
      "C:\\Users\\mahes\\ML\\dataset\\data unziped\\dfdc_train_part_0\\fdpisghkmd.mp4\n",
      "C:\\Users\\mahes\\ML\\dataset\\data unziped\\dfdc_train_part_0\\fdpisghkmd.mp4\n",
      "C:\\Users\\mahes\\ML\\dataset\\data unziped\\dfdc_train_part_0\\fdpisghkmd.mp4\n",
      "C:\\Users\\mahes\\ML\\dataset\\data unziped\\dfdc_train_part_0\\fdpisghkmd.mp4\n"
     ]
    },
    {
     "name": "stderr",
     "output_type": "stream",
     "text": [
      "Processing 500 videos:  80%|████████  | 402/500 [6:08:55<1:16:11, 46.65s/it]"
     ]
    },
    {
     "name": "stdout",
     "output_type": "stream",
     "text": [
      "C:\\Users\\mahes\\ML\\dataset\\data unziped\\dfdc_train_part_0\\fopjiyxiqd.mp4\n",
      "C:\\Users\\mahes\\ML\\dataset\\data unziped\\dfdc_train_part_0\\fopjiyxiqd.mp4\n",
      "C:\\Users\\mahes\\ML\\dataset\\data unziped\\dfdc_train_part_0\\fopjiyxiqd.mp4\n",
      "C:\\Users\\mahes\\ML\\dataset\\data unziped\\dfdc_train_part_0\\fopjiyxiqd.mp4\n",
      "C:\\Users\\mahes\\ML\\dataset\\data unziped\\dfdc_train_part_0\\fopjiyxiqd.mp4\n",
      "C:\\Users\\mahes\\ML\\dataset\\data unziped\\dfdc_train_part_0\\fopjiyxiqd.mp4\n",
      "C:\\Users\\mahes\\ML\\dataset\\data unziped\\dfdc_train_part_0\\fopjiyxiqd.mp4\n",
      "C:\\Users\\mahes\\ML\\dataset\\data unziped\\dfdc_train_part_0\\fopjiyxiqd.mp4\n",
      "C:\\Users\\mahes\\ML\\dataset\\data unziped\\dfdc_train_part_0\\fopjiyxiqd.mp4\n",
      "C:\\Users\\mahes\\ML\\dataset\\data unziped\\dfdc_train_part_0\\fopjiyxiqd.mp4\n"
     ]
    },
    {
     "name": "stderr",
     "output_type": "stream",
     "text": [
      "Processing 500 videos:  81%|████████  | 403/500 [6:09:42<1:15:57, 46.99s/it]"
     ]
    },
    {
     "name": "stdout",
     "output_type": "stream",
     "text": [
      "C:\\Users\\mahes\\ML\\dataset\\data unziped\\dfdc_train_part_0\\apedduehoy.mp4\n",
      "C:\\Users\\mahes\\ML\\dataset\\data unziped\\dfdc_train_part_0\\apedduehoy.mp4\n",
      "C:\\Users\\mahes\\ML\\dataset\\data unziped\\dfdc_train_part_0\\apedduehoy.mp4\n",
      "C:\\Users\\mahes\\ML\\dataset\\data unziped\\dfdc_train_part_0\\apedduehoy.mp4\n",
      "C:\\Users\\mahes\\ML\\dataset\\data unziped\\dfdc_train_part_0\\apedduehoy.mp4\n",
      "C:\\Users\\mahes\\ML\\dataset\\data unziped\\dfdc_train_part_0\\apedduehoy.mp4\n",
      "C:\\Users\\mahes\\ML\\dataset\\data unziped\\dfdc_train_part_0\\apedduehoy.mp4\n",
      "C:\\Users\\mahes\\ML\\dataset\\data unziped\\dfdc_train_part_0\\apedduehoy.mp4\n",
      "C:\\Users\\mahes\\ML\\dataset\\data unziped\\dfdc_train_part_0\\apedduehoy.mp4\n",
      "C:\\Users\\mahes\\ML\\dataset\\data unziped\\dfdc_train_part_0\\apedduehoy.mp4\n"
     ]
    },
    {
     "name": "stderr",
     "output_type": "stream",
     "text": [
      "Processing 500 videos:  81%|████████  | 404/500 [6:10:34<1:17:20, 48.34s/it]"
     ]
    },
    {
     "name": "stdout",
     "output_type": "stream",
     "text": [
      "C:\\Users\\mahes\\ML\\dataset\\data unziped\\dfdc_train_part_0\\fdpisghkmd.mp4\n",
      "C:\\Users\\mahes\\ML\\dataset\\data unziped\\dfdc_train_part_0\\fdpisghkmd.mp4\n",
      "C:\\Users\\mahes\\ML\\dataset\\data unziped\\dfdc_train_part_0\\fdpisghkmd.mp4\n",
      "C:\\Users\\mahes\\ML\\dataset\\data unziped\\dfdc_train_part_0\\fdpisghkmd.mp4\n",
      "C:\\Users\\mahes\\ML\\dataset\\data unziped\\dfdc_train_part_0\\fdpisghkmd.mp4\n",
      "C:\\Users\\mahes\\ML\\dataset\\data unziped\\dfdc_train_part_0\\fdpisghkmd.mp4\n",
      "C:\\Users\\mahes\\ML\\dataset\\data unziped\\dfdc_train_part_0\\fdpisghkmd.mp4\n",
      "C:\\Users\\mahes\\ML\\dataset\\data unziped\\dfdc_train_part_0\\fdpisghkmd.mp4\n",
      "C:\\Users\\mahes\\ML\\dataset\\data unziped\\dfdc_train_part_0\\fdpisghkmd.mp4\n",
      "C:\\Users\\mahes\\ML\\dataset\\data unziped\\dfdc_train_part_0\\fdpisghkmd.mp4\n"
     ]
    },
    {
     "name": "stderr",
     "output_type": "stream",
     "text": [
      "Processing 500 videos:  81%|████████  | 405/500 [6:11:21<1:15:56, 47.97s/it]"
     ]
    },
    {
     "name": "stdout",
     "output_type": "stream",
     "text": [
      "C:\\Users\\mahes\\ML\\dataset\\data unziped\\dfdc_train_part_0\\heiyoojifp.mp4\n",
      "C:\\Users\\mahes\\ML\\dataset\\data unziped\\dfdc_train_part_0\\heiyoojifp.mp4\n",
      "C:\\Users\\mahes\\ML\\dataset\\data unziped\\dfdc_train_part_0\\heiyoojifp.mp4\n",
      "C:\\Users\\mahes\\ML\\dataset\\data unziped\\dfdc_train_part_0\\heiyoojifp.mp4\n",
      "C:\\Users\\mahes\\ML\\dataset\\data unziped\\dfdc_train_part_0\\heiyoojifp.mp4\n",
      "C:\\Users\\mahes\\ML\\dataset\\data unziped\\dfdc_train_part_0\\heiyoojifp.mp4\n",
      "C:\\Users\\mahes\\ML\\dataset\\data unziped\\dfdc_train_part_0\\heiyoojifp.mp4\n",
      "C:\\Users\\mahes\\ML\\dataset\\data unziped\\dfdc_train_part_0\\heiyoojifp.mp4\n",
      "C:\\Users\\mahes\\ML\\dataset\\data unziped\\dfdc_train_part_0\\heiyoojifp.mp4\n",
      "C:\\Users\\mahes\\ML\\dataset\\data unziped\\dfdc_train_part_0\\heiyoojifp.mp4\n"
     ]
    },
    {
     "name": "stderr",
     "output_type": "stream",
     "text": [
      "Processing 500 videos:  81%|████████  | 406/500 [6:12:13<1:17:09, 49.25s/it]"
     ]
    },
    {
     "name": "stdout",
     "output_type": "stream",
     "text": [
      "C:\\Users\\mahes\\ML\\dataset\\data unziped\\dfdc_train_part_0\\prmwoaeeng.mp4\n",
      "C:\\Users\\mahes\\ML\\dataset\\data unziped\\dfdc_train_part_0\\prmwoaeeng.mp4\n",
      "C:\\Users\\mahes\\ML\\dataset\\data unziped\\dfdc_train_part_0\\prmwoaeeng.mp4\n",
      "C:\\Users\\mahes\\ML\\dataset\\data unziped\\dfdc_train_part_0\\prmwoaeeng.mp4\n",
      "C:\\Users\\mahes\\ML\\dataset\\data unziped\\dfdc_train_part_0\\prmwoaeeng.mp4\n",
      "C:\\Users\\mahes\\ML\\dataset\\data unziped\\dfdc_train_part_0\\prmwoaeeng.mp4\n",
      "C:\\Users\\mahes\\ML\\dataset\\data unziped\\dfdc_train_part_0\\prmwoaeeng.mp4\n",
      "C:\\Users\\mahes\\ML\\dataset\\data unziped\\dfdc_train_part_0\\prmwoaeeng.mp4\n",
      "C:\\Users\\mahes\\ML\\dataset\\data unziped\\dfdc_train_part_0\\prmwoaeeng.mp4\n",
      "C:\\Users\\mahes\\ML\\dataset\\data unziped\\dfdc_train_part_0\\prmwoaeeng.mp4\n"
     ]
    },
    {
     "name": "stderr",
     "output_type": "stream",
     "text": [
      "Processing 500 videos:  81%|████████▏ | 407/500 [6:12:59<1:14:46, 48.24s/it]"
     ]
    },
    {
     "name": "stdout",
     "output_type": "stream",
     "text": [
      "C:\\Users\\mahes\\ML\\dataset\\data unziped\\dfdc_train_part_0\\ddtbarpcgo.mp4\n",
      "C:\\Users\\mahes\\ML\\dataset\\data unziped\\dfdc_train_part_0\\ddtbarpcgo.mp4\n",
      "C:\\Users\\mahes\\ML\\dataset\\data unziped\\dfdc_train_part_0\\ddtbarpcgo.mp4\n",
      "C:\\Users\\mahes\\ML\\dataset\\data unziped\\dfdc_train_part_0\\ddtbarpcgo.mp4\n",
      "C:\\Users\\mahes\\ML\\dataset\\data unziped\\dfdc_train_part_0\\ddtbarpcgo.mp4\n",
      "C:\\Users\\mahes\\ML\\dataset\\data unziped\\dfdc_train_part_0\\ddtbarpcgo.mp4\n",
      "C:\\Users\\mahes\\ML\\dataset\\data unziped\\dfdc_train_part_0\\ddtbarpcgo.mp4\n",
      "C:\\Users\\mahes\\ML\\dataset\\data unziped\\dfdc_train_part_0\\ddtbarpcgo.mp4\n",
      "C:\\Users\\mahes\\ML\\dataset\\data unziped\\dfdc_train_part_0\\ddtbarpcgo.mp4\n",
      "C:\\Users\\mahes\\ML\\dataset\\data unziped\\dfdc_train_part_0\\ddtbarpcgo.mp4\n"
     ]
    },
    {
     "name": "stderr",
     "output_type": "stream",
     "text": [
      "Processing 500 videos:  82%|████████▏ | 408/500 [6:13:45<1:12:43, 47.42s/it]"
     ]
    },
    {
     "name": "stdout",
     "output_type": "stream",
     "text": [
      "C:\\Users\\mahes\\ML\\dataset\\data unziped\\dfdc_train_part_0\\jytrvwlewz.mp4\n",
      "C:\\Users\\mahes\\ML\\dataset\\data unziped\\dfdc_train_part_0\\jytrvwlewz.mp4\n",
      "C:\\Users\\mahes\\ML\\dataset\\data unziped\\dfdc_train_part_0\\jytrvwlewz.mp4\n",
      "C:\\Users\\mahes\\ML\\dataset\\data unziped\\dfdc_train_part_0\\jytrvwlewz.mp4\n",
      "C:\\Users\\mahes\\ML\\dataset\\data unziped\\dfdc_train_part_0\\jytrvwlewz.mp4\n",
      "C:\\Users\\mahes\\ML\\dataset\\data unziped\\dfdc_train_part_0\\jytrvwlewz.mp4\n",
      "C:\\Users\\mahes\\ML\\dataset\\data unziped\\dfdc_train_part_0\\jytrvwlewz.mp4\n",
      "C:\\Users\\mahes\\ML\\dataset\\data unziped\\dfdc_train_part_0\\jytrvwlewz.mp4\n",
      "C:\\Users\\mahes\\ML\\dataset\\data unziped\\dfdc_train_part_0\\jytrvwlewz.mp4\n",
      "C:\\Users\\mahes\\ML\\dataset\\data unziped\\dfdc_train_part_0\\jytrvwlewz.mp4\n"
     ]
    },
    {
     "name": "stderr",
     "output_type": "stream",
     "text": [
      "Processing 500 videos:  82%|████████▏ | 409/500 [6:14:32<1:12:06, 47.55s/it]"
     ]
    },
    {
     "name": "stdout",
     "output_type": "stream",
     "text": [
      "C:\\Users\\mahes\\ML\\dataset\\data unziped\\dfdc_train_part_0\\gnmmhlbzge.mp4\n",
      "C:\\Users\\mahes\\ML\\dataset\\data unziped\\dfdc_train_part_0\\gnmmhlbzge.mp4\n",
      "C:\\Users\\mahes\\ML\\dataset\\data unziped\\dfdc_train_part_0\\gnmmhlbzge.mp4\n",
      "C:\\Users\\mahes\\ML\\dataset\\data unziped\\dfdc_train_part_0\\gnmmhlbzge.mp4\n",
      "C:\\Users\\mahes\\ML\\dataset\\data unziped\\dfdc_train_part_0\\gnmmhlbzge.mp4\n",
      "C:\\Users\\mahes\\ML\\dataset\\data unziped\\dfdc_train_part_0\\gnmmhlbzge.mp4\n",
      "C:\\Users\\mahes\\ML\\dataset\\data unziped\\dfdc_train_part_0\\gnmmhlbzge.mp4\n",
      "C:\\Users\\mahes\\ML\\dataset\\data unziped\\dfdc_train_part_0\\gnmmhlbzge.mp4\n",
      "C:\\Users\\mahes\\ML\\dataset\\data unziped\\dfdc_train_part_0\\gnmmhlbzge.mp4\n",
      "C:\\Users\\mahes\\ML\\dataset\\data unziped\\dfdc_train_part_0\\gnmmhlbzge.mp4\n"
     ]
    },
    {
     "name": "stderr",
     "output_type": "stream",
     "text": [
      "Processing 500 videos:  82%|████████▏ | 410/500 [6:15:17<1:10:08, 46.76s/it]"
     ]
    },
    {
     "name": "stdout",
     "output_type": "stream",
     "text": [
      "C:\\Users\\mahes\\ML\\dataset\\data unziped\\dfdc_train_part_0\\nweufafotd.mp4\n",
      "C:\\Users\\mahes\\ML\\dataset\\data unziped\\dfdc_train_part_0\\nweufafotd.mp4\n",
      "C:\\Users\\mahes\\ML\\dataset\\data unziped\\dfdc_train_part_0\\nweufafotd.mp4\n",
      "C:\\Users\\mahes\\ML\\dataset\\data unziped\\dfdc_train_part_0\\nweufafotd.mp4\n",
      "C:\\Users\\mahes\\ML\\dataset\\data unziped\\dfdc_train_part_0\\nweufafotd.mp4\n",
      "C:\\Users\\mahes\\ML\\dataset\\data unziped\\dfdc_train_part_0\\nweufafotd.mp4\n",
      "C:\\Users\\mahes\\ML\\dataset\\data unziped\\dfdc_train_part_0\\nweufafotd.mp4\n",
      "C:\\Users\\mahes\\ML\\dataset\\data unziped\\dfdc_train_part_0\\nweufafotd.mp4\n",
      "C:\\Users\\mahes\\ML\\dataset\\data unziped\\dfdc_train_part_0\\nweufafotd.mp4\n",
      "C:\\Users\\mahes\\ML\\dataset\\data unziped\\dfdc_train_part_0\\nweufafotd.mp4\n"
     ]
    },
    {
     "name": "stderr",
     "output_type": "stream",
     "text": [
      "Processing 500 videos:  82%|████████▏ | 411/500 [6:16:11<1:12:39, 48.98s/it]"
     ]
    },
    {
     "name": "stdout",
     "output_type": "stream",
     "text": [
      "C:\\Users\\mahes\\ML\\dataset\\data unziped\\dfdc_train_part_0\\jzupayeuln.mp4\n",
      "C:\\Users\\mahes\\ML\\dataset\\data unziped\\dfdc_train_part_0\\jzupayeuln.mp4\n",
      "C:\\Users\\mahes\\ML\\dataset\\data unziped\\dfdc_train_part_0\\jzupayeuln.mp4\n",
      "C:\\Users\\mahes\\ML\\dataset\\data unziped\\dfdc_train_part_0\\jzupayeuln.mp4\n",
      "C:\\Users\\mahes\\ML\\dataset\\data unziped\\dfdc_train_part_0\\jzupayeuln.mp4\n",
      "C:\\Users\\mahes\\ML\\dataset\\data unziped\\dfdc_train_part_0\\jzupayeuln.mp4\n",
      "C:\\Users\\mahes\\ML\\dataset\\data unziped\\dfdc_train_part_0\\jzupayeuln.mp4\n",
      "C:\\Users\\mahes\\ML\\dataset\\data unziped\\dfdc_train_part_0\\jzupayeuln.mp4\n",
      "C:\\Users\\mahes\\ML\\dataset\\data unziped\\dfdc_train_part_0\\jzupayeuln.mp4\n",
      "C:\\Users\\mahes\\ML\\dataset\\data unziped\\dfdc_train_part_0\\jzupayeuln.mp4\n"
     ]
    },
    {
     "name": "stderr",
     "output_type": "stream",
     "text": [
      "Processing 500 videos:  82%|████████▏ | 412/500 [6:17:07<1:14:44, 50.96s/it]"
     ]
    },
    {
     "name": "stdout",
     "output_type": "stream",
     "text": [
      "C:\\Users\\mahes\\ML\\dataset\\data unziped\\dfdc_train_part_0\\yxvmusxvcz.mp4\n",
      "C:\\Users\\mahes\\ML\\dataset\\data unziped\\dfdc_train_part_0\\yxvmusxvcz.mp4\n",
      "C:\\Users\\mahes\\ML\\dataset\\data unziped\\dfdc_train_part_0\\yxvmusxvcz.mp4\n",
      "C:\\Users\\mahes\\ML\\dataset\\data unziped\\dfdc_train_part_0\\yxvmusxvcz.mp4\n",
      "C:\\Users\\mahes\\ML\\dataset\\data unziped\\dfdc_train_part_0\\yxvmusxvcz.mp4\n",
      "C:\\Users\\mahes\\ML\\dataset\\data unziped\\dfdc_train_part_0\\yxvmusxvcz.mp4\n",
      "C:\\Users\\mahes\\ML\\dataset\\data unziped\\dfdc_train_part_0\\yxvmusxvcz.mp4\n",
      "C:\\Users\\mahes\\ML\\dataset\\data unziped\\dfdc_train_part_0\\yxvmusxvcz.mp4\n",
      "C:\\Users\\mahes\\ML\\dataset\\data unziped\\dfdc_train_part_0\\yxvmusxvcz.mp4\n",
      "C:\\Users\\mahes\\ML\\dataset\\data unziped\\dfdc_train_part_0\\yxvmusxvcz.mp4\n"
     ]
    },
    {
     "name": "stderr",
     "output_type": "stream",
     "text": [
      "Processing 500 videos:  83%|████████▎ | 413/500 [6:17:54<1:11:56, 49.62s/it]"
     ]
    },
    {
     "name": "stdout",
     "output_type": "stream",
     "text": [
      "C:\\Users\\mahes\\ML\\dataset\\data unziped\\dfdc_train_part_0\\prmwoaeeng.mp4\n",
      "C:\\Users\\mahes\\ML\\dataset\\data unziped\\dfdc_train_part_0\\prmwoaeeng.mp4\n",
      "C:\\Users\\mahes\\ML\\dataset\\data unziped\\dfdc_train_part_0\\prmwoaeeng.mp4\n",
      "C:\\Users\\mahes\\ML\\dataset\\data unziped\\dfdc_train_part_0\\prmwoaeeng.mp4\n",
      "C:\\Users\\mahes\\ML\\dataset\\data unziped\\dfdc_train_part_0\\prmwoaeeng.mp4\n",
      "C:\\Users\\mahes\\ML\\dataset\\data unziped\\dfdc_train_part_0\\prmwoaeeng.mp4\n",
      "C:\\Users\\mahes\\ML\\dataset\\data unziped\\dfdc_train_part_0\\prmwoaeeng.mp4\n",
      "C:\\Users\\mahes\\ML\\dataset\\data unziped\\dfdc_train_part_0\\prmwoaeeng.mp4\n",
      "C:\\Users\\mahes\\ML\\dataset\\data unziped\\dfdc_train_part_0\\prmwoaeeng.mp4\n",
      "C:\\Users\\mahes\\ML\\dataset\\data unziped\\dfdc_train_part_0\\prmwoaeeng.mp4\n"
     ]
    },
    {
     "name": "stderr",
     "output_type": "stream",
     "text": [
      "Processing 500 videos:  83%|████████▎ | 414/500 [6:18:41<1:10:09, 48.95s/it]"
     ]
    },
    {
     "name": "stdout",
     "output_type": "stream",
     "text": [
      "C:\\Users\\mahes\\ML\\dataset\\data unziped\\dfdc_train_part_0\\eiwtggvtfp.mp4\n",
      "C:\\Users\\mahes\\ML\\dataset\\data unziped\\dfdc_train_part_0\\eiwtggvtfp.mp4\n",
      "C:\\Users\\mahes\\ML\\dataset\\data unziped\\dfdc_train_part_0\\eiwtggvtfp.mp4\n",
      "C:\\Users\\mahes\\ML\\dataset\\data unziped\\dfdc_train_part_0\\eiwtggvtfp.mp4\n",
      "C:\\Users\\mahes\\ML\\dataset\\data unziped\\dfdc_train_part_0\\eiwtggvtfp.mp4\n",
      "C:\\Users\\mahes\\ML\\dataset\\data unziped\\dfdc_train_part_0\\eiwtggvtfp.mp4\n",
      "C:\\Users\\mahes\\ML\\dataset\\data unziped\\dfdc_train_part_0\\eiwtggvtfp.mp4\n",
      "C:\\Users\\mahes\\ML\\dataset\\data unziped\\dfdc_train_part_0\\eiwtggvtfp.mp4\n",
      "C:\\Users\\mahes\\ML\\dataset\\data unziped\\dfdc_train_part_0\\eiwtggvtfp.mp4\n",
      "C:\\Users\\mahes\\ML\\dataset\\data unziped\\dfdc_train_part_0\\eiwtggvtfp.mp4\n"
     ]
    },
    {
     "name": "stderr",
     "output_type": "stream",
     "text": [
      "Processing 500 videos:  83%|████████▎ | 415/500 [6:19:35<1:11:36, 50.54s/it]"
     ]
    },
    {
     "name": "stdout",
     "output_type": "stream",
     "text": [
      "C:\\Users\\mahes\\ML\\dataset\\data unziped\\dfdc_train_part_0\\wfzjxzhdkj.mp4\n",
      "C:\\Users\\mahes\\ML\\dataset\\data unziped\\dfdc_train_part_0\\wfzjxzhdkj.mp4\n",
      "C:\\Users\\mahes\\ML\\dataset\\data unziped\\dfdc_train_part_0\\wfzjxzhdkj.mp4\n",
      "C:\\Users\\mahes\\ML\\dataset\\data unziped\\dfdc_train_part_0\\wfzjxzhdkj.mp4\n",
      "C:\\Users\\mahes\\ML\\dataset\\data unziped\\dfdc_train_part_0\\wfzjxzhdkj.mp4\n",
      "C:\\Users\\mahes\\ML\\dataset\\data unziped\\dfdc_train_part_0\\wfzjxzhdkj.mp4\n",
      "C:\\Users\\mahes\\ML\\dataset\\data unziped\\dfdc_train_part_0\\wfzjxzhdkj.mp4\n",
      "C:\\Users\\mahes\\ML\\dataset\\data unziped\\dfdc_train_part_0\\wfzjxzhdkj.mp4\n",
      "C:\\Users\\mahes\\ML\\dataset\\data unziped\\dfdc_train_part_0\\wfzjxzhdkj.mp4\n",
      "C:\\Users\\mahes\\ML\\dataset\\data unziped\\dfdc_train_part_0\\wfzjxzhdkj.mp4\n"
     ]
    },
    {
     "name": "stderr",
     "output_type": "stream",
     "text": [
      "Processing 500 videos:  83%|████████▎ | 416/500 [6:20:28<1:11:53, 51.35s/it]"
     ]
    },
    {
     "name": "stdout",
     "output_type": "stream",
     "text": [
      "C:\\Users\\mahes\\ML\\dataset\\data unziped\\dfdc_train_part_0\\fsaronfupy.mp4\n",
      "C:\\Users\\mahes\\ML\\dataset\\data unziped\\dfdc_train_part_0\\fsaronfupy.mp4\n",
      "C:\\Users\\mahes\\ML\\dataset\\data unziped\\dfdc_train_part_0\\fsaronfupy.mp4\n",
      "C:\\Users\\mahes\\ML\\dataset\\data unziped\\dfdc_train_part_0\\fsaronfupy.mp4\n",
      "C:\\Users\\mahes\\ML\\dataset\\data unziped\\dfdc_train_part_0\\fsaronfupy.mp4\n",
      "C:\\Users\\mahes\\ML\\dataset\\data unziped\\dfdc_train_part_0\\fsaronfupy.mp4\n",
      "C:\\Users\\mahes\\ML\\dataset\\data unziped\\dfdc_train_part_0\\fsaronfupy.mp4\n",
      "C:\\Users\\mahes\\ML\\dataset\\data unziped\\dfdc_train_part_0\\fsaronfupy.mp4\n",
      "C:\\Users\\mahes\\ML\\dataset\\data unziped\\dfdc_train_part_0\\fsaronfupy.mp4\n",
      "C:\\Users\\mahes\\ML\\dataset\\data unziped\\dfdc_train_part_0\\fsaronfupy.mp4\n"
     ]
    },
    {
     "name": "stderr",
     "output_type": "stream",
     "text": [
      "Processing 500 videos:  83%|████████▎ | 417/500 [6:21:14<1:08:43, 49.68s/it]"
     ]
    },
    {
     "name": "stdout",
     "output_type": "stream",
     "text": [
      "C:\\Users\\mahes\\ML\\dataset\\data unziped\\dfdc_train_part_0\\xkfliqnmwt.mp4\n",
      "C:\\Users\\mahes\\ML\\dataset\\data unziped\\dfdc_train_part_0\\xkfliqnmwt.mp4\n",
      "C:\\Users\\mahes\\ML\\dataset\\data unziped\\dfdc_train_part_0\\xkfliqnmwt.mp4\n",
      "C:\\Users\\mahes\\ML\\dataset\\data unziped\\dfdc_train_part_0\\xkfliqnmwt.mp4\n",
      "C:\\Users\\mahes\\ML\\dataset\\data unziped\\dfdc_train_part_0\\xkfliqnmwt.mp4\n",
      "C:\\Users\\mahes\\ML\\dataset\\data unziped\\dfdc_train_part_0\\xkfliqnmwt.mp4\n",
      "C:\\Users\\mahes\\ML\\dataset\\data unziped\\dfdc_train_part_0\\xkfliqnmwt.mp4\n",
      "C:\\Users\\mahes\\ML\\dataset\\data unziped\\dfdc_train_part_0\\xkfliqnmwt.mp4\n",
      "C:\\Users\\mahes\\ML\\dataset\\data unziped\\dfdc_train_part_0\\xkfliqnmwt.mp4\n",
      "C:\\Users\\mahes\\ML\\dataset\\data unziped\\dfdc_train_part_0\\xkfliqnmwt.mp4\n"
     ]
    },
    {
     "name": "stderr",
     "output_type": "stream",
     "text": [
      "Processing 500 videos:  84%|████████▎ | 418/500 [6:22:09<1:09:59, 51.21s/it]"
     ]
    },
    {
     "name": "stdout",
     "output_type": "stream",
     "text": [
      "C:\\Users\\mahes\\ML\\dataset\\data unziped\\dfdc_train_part_0\\wynotylpnm.mp4\n",
      "C:\\Users\\mahes\\ML\\dataset\\data unziped\\dfdc_train_part_0\\wynotylpnm.mp4\n",
      "C:\\Users\\mahes\\ML\\dataset\\data unziped\\dfdc_train_part_0\\wynotylpnm.mp4\n",
      "C:\\Users\\mahes\\ML\\dataset\\data unziped\\dfdc_train_part_0\\wynotylpnm.mp4\n",
      "C:\\Users\\mahes\\ML\\dataset\\data unziped\\dfdc_train_part_0\\wynotylpnm.mp4\n",
      "C:\\Users\\mahes\\ML\\dataset\\data unziped\\dfdc_train_part_0\\wynotylpnm.mp4\n",
      "C:\\Users\\mahes\\ML\\dataset\\data unziped\\dfdc_train_part_0\\wynotylpnm.mp4\n",
      "C:\\Users\\mahes\\ML\\dataset\\data unziped\\dfdc_train_part_0\\wynotylpnm.mp4\n",
      "C:\\Users\\mahes\\ML\\dataset\\data unziped\\dfdc_train_part_0\\wynotylpnm.mp4\n",
      "C:\\Users\\mahes\\ML\\dataset\\data unziped\\dfdc_train_part_0\\wynotylpnm.mp4\n"
     ]
    },
    {
     "name": "stderr",
     "output_type": "stream",
     "text": [
      "Processing 500 videos:  84%|████████▍ | 419/500 [6:22:55<1:07:14, 49.81s/it]"
     ]
    },
    {
     "name": "stdout",
     "output_type": "stream",
     "text": [
      "C:\\Users\\mahes\\ML\\dataset\\data unziped\\dfdc_train_part_0\\fnslimfagb.mp4\n",
      "C:\\Users\\mahes\\ML\\dataset\\data unziped\\dfdc_train_part_0\\fnslimfagb.mp4\n",
      "C:\\Users\\mahes\\ML\\dataset\\data unziped\\dfdc_train_part_0\\fnslimfagb.mp4\n",
      "C:\\Users\\mahes\\ML\\dataset\\data unziped\\dfdc_train_part_0\\fnslimfagb.mp4\n",
      "C:\\Users\\mahes\\ML\\dataset\\data unziped\\dfdc_train_part_0\\fnslimfagb.mp4\n",
      "C:\\Users\\mahes\\ML\\dataset\\data unziped\\dfdc_train_part_0\\fnslimfagb.mp4\n",
      "C:\\Users\\mahes\\ML\\dataset\\data unziped\\dfdc_train_part_0\\fnslimfagb.mp4\n",
      "C:\\Users\\mahes\\ML\\dataset\\data unziped\\dfdc_train_part_0\\fnslimfagb.mp4\n",
      "C:\\Users\\mahes\\ML\\dataset\\data unziped\\dfdc_train_part_0\\fnslimfagb.mp4\n",
      "C:\\Users\\mahes\\ML\\dataset\\data unziped\\dfdc_train_part_0\\fnslimfagb.mp4\n"
     ]
    },
    {
     "name": "stderr",
     "output_type": "stream",
     "text": [
      "Processing 500 videos:  84%|████████▍ | 420/500 [6:23:51<1:08:29, 51.37s/it]"
     ]
    },
    {
     "name": "stdout",
     "output_type": "stream",
     "text": [
      "C:\\Users\\mahes\\ML\\dataset\\data unziped\\dfdc_train_part_0\\fnslimfagb.mp4\n",
      "C:\\Users\\mahes\\ML\\dataset\\data unziped\\dfdc_train_part_0\\fnslimfagb.mp4\n",
      "C:\\Users\\mahes\\ML\\dataset\\data unziped\\dfdc_train_part_0\\fnslimfagb.mp4\n",
      "C:\\Users\\mahes\\ML\\dataset\\data unziped\\dfdc_train_part_0\\fnslimfagb.mp4\n",
      "C:\\Users\\mahes\\ML\\dataset\\data unziped\\dfdc_train_part_0\\fnslimfagb.mp4\n",
      "C:\\Users\\mahes\\ML\\dataset\\data unziped\\dfdc_train_part_0\\fnslimfagb.mp4\n",
      "C:\\Users\\mahes\\ML\\dataset\\data unziped\\dfdc_train_part_0\\fnslimfagb.mp4\n",
      "C:\\Users\\mahes\\ML\\dataset\\data unziped\\dfdc_train_part_0\\fnslimfagb.mp4\n",
      "C:\\Users\\mahes\\ML\\dataset\\data unziped\\dfdc_train_part_0\\fnslimfagb.mp4\n",
      "C:\\Users\\mahes\\ML\\dataset\\data unziped\\dfdc_train_part_0\\fnslimfagb.mp4\n"
     ]
    },
    {
     "name": "stderr",
     "output_type": "stream",
     "text": [
      "Processing 500 videos:  84%|████████▍ | 421/500 [6:24:45<1:09:03, 52.45s/it]"
     ]
    },
    {
     "name": "stdout",
     "output_type": "stream",
     "text": [
      "C:\\Users\\mahes\\ML\\dataset\\data unziped\\dfdc_train_part_0\\heiyoojifp.mp4\n",
      "C:\\Users\\mahes\\ML\\dataset\\data unziped\\dfdc_train_part_0\\heiyoojifp.mp4\n",
      "C:\\Users\\mahes\\ML\\dataset\\data unziped\\dfdc_train_part_0\\heiyoojifp.mp4\n",
      "C:\\Users\\mahes\\ML\\dataset\\data unziped\\dfdc_train_part_0\\heiyoojifp.mp4\n",
      "C:\\Users\\mahes\\ML\\dataset\\data unziped\\dfdc_train_part_0\\heiyoojifp.mp4\n",
      "C:\\Users\\mahes\\ML\\dataset\\data unziped\\dfdc_train_part_0\\heiyoojifp.mp4\n",
      "C:\\Users\\mahes\\ML\\dataset\\data unziped\\dfdc_train_part_0\\heiyoojifp.mp4\n",
      "C:\\Users\\mahes\\ML\\dataset\\data unziped\\dfdc_train_part_0\\heiyoojifp.mp4\n",
      "C:\\Users\\mahes\\ML\\dataset\\data unziped\\dfdc_train_part_0\\heiyoojifp.mp4\n",
      "C:\\Users\\mahes\\ML\\dataset\\data unziped\\dfdc_train_part_0\\heiyoojifp.mp4\n"
     ]
    },
    {
     "name": "stderr",
     "output_type": "stream",
     "text": [
      "Processing 500 videos:  84%|████████▍ | 422/500 [6:25:38<1:08:24, 52.62s/it]"
     ]
    },
    {
     "name": "stdout",
     "output_type": "stream",
     "text": [
      "C:\\Users\\mahes\\ML\\dataset\\data unziped\\dfdc_train_part_0\\fopjiyxiqd.mp4\n",
      "C:\\Users\\mahes\\ML\\dataset\\data unziped\\dfdc_train_part_0\\fopjiyxiqd.mp4\n",
      "C:\\Users\\mahes\\ML\\dataset\\data unziped\\dfdc_train_part_0\\fopjiyxiqd.mp4\n",
      "C:\\Users\\mahes\\ML\\dataset\\data unziped\\dfdc_train_part_0\\fopjiyxiqd.mp4\n",
      "C:\\Users\\mahes\\ML\\dataset\\data unziped\\dfdc_train_part_0\\fopjiyxiqd.mp4\n",
      "C:\\Users\\mahes\\ML\\dataset\\data unziped\\dfdc_train_part_0\\fopjiyxiqd.mp4\n",
      "C:\\Users\\mahes\\ML\\dataset\\data unziped\\dfdc_train_part_0\\fopjiyxiqd.mp4\n",
      "C:\\Users\\mahes\\ML\\dataset\\data unziped\\dfdc_train_part_0\\fopjiyxiqd.mp4\n",
      "C:\\Users\\mahes\\ML\\dataset\\data unziped\\dfdc_train_part_0\\fopjiyxiqd.mp4\n",
      "C:\\Users\\mahes\\ML\\dataset\\data unziped\\dfdc_train_part_0\\fopjiyxiqd.mp4\n"
     ]
    },
    {
     "name": "stderr",
     "output_type": "stream",
     "text": [
      "Processing 500 videos:  85%|████████▍ | 423/500 [6:26:28<1:06:24, 51.74s/it]"
     ]
    },
    {
     "name": "stdout",
     "output_type": "stream",
     "text": [
      "C:\\Users\\mahes\\ML\\dataset\\data unziped\\dfdc_train_part_0\\qarqtkvgby.mp4\n",
      "C:\\Users\\mahes\\ML\\dataset\\data unziped\\dfdc_train_part_0\\qarqtkvgby.mp4\n",
      "C:\\Users\\mahes\\ML\\dataset\\data unziped\\dfdc_train_part_0\\qarqtkvgby.mp4\n",
      "C:\\Users\\mahes\\ML\\dataset\\data unziped\\dfdc_train_part_0\\qarqtkvgby.mp4\n",
      "C:\\Users\\mahes\\ML\\dataset\\data unziped\\dfdc_train_part_0\\qarqtkvgby.mp4\n",
      "C:\\Users\\mahes\\ML\\dataset\\data unziped\\dfdc_train_part_0\\qarqtkvgby.mp4\n",
      "C:\\Users\\mahes\\ML\\dataset\\data unziped\\dfdc_train_part_0\\qarqtkvgby.mp4\n",
      "C:\\Users\\mahes\\ML\\dataset\\data unziped\\dfdc_train_part_0\\qarqtkvgby.mp4\n",
      "C:\\Users\\mahes\\ML\\dataset\\data unziped\\dfdc_train_part_0\\qarqtkvgby.mp4\n",
      "C:\\Users\\mahes\\ML\\dataset\\data unziped\\dfdc_train_part_0\\qarqtkvgby.mp4\n"
     ]
    },
    {
     "name": "stderr",
     "output_type": "stream",
     "text": [
      "Processing 500 videos:  85%|████████▍ | 424/500 [6:27:17<1:04:24, 50.84s/it]"
     ]
    },
    {
     "name": "stdout",
     "output_type": "stream",
     "text": [
      "C:\\Users\\mahes\\ML\\dataset\\data unziped\\dfdc_train_part_0\\doniqevxeg.mp4\n",
      "C:\\Users\\mahes\\ML\\dataset\\data unziped\\dfdc_train_part_0\\doniqevxeg.mp4\n",
      "C:\\Users\\mahes\\ML\\dataset\\data unziped\\dfdc_train_part_0\\doniqevxeg.mp4\n",
      "C:\\Users\\mahes\\ML\\dataset\\data unziped\\dfdc_train_part_0\\doniqevxeg.mp4\n",
      "C:\\Users\\mahes\\ML\\dataset\\data unziped\\dfdc_train_part_0\\doniqevxeg.mp4\n",
      "C:\\Users\\mahes\\ML\\dataset\\data unziped\\dfdc_train_part_0\\doniqevxeg.mp4\n",
      "C:\\Users\\mahes\\ML\\dataset\\data unziped\\dfdc_train_part_0\\doniqevxeg.mp4\n",
      "C:\\Users\\mahes\\ML\\dataset\\data unziped\\dfdc_train_part_0\\doniqevxeg.mp4\n",
      "C:\\Users\\mahes\\ML\\dataset\\data unziped\\dfdc_train_part_0\\doniqevxeg.mp4\n",
      "C:\\Users\\mahes\\ML\\dataset\\data unziped\\dfdc_train_part_0\\doniqevxeg.mp4\n"
     ]
    },
    {
     "name": "stderr",
     "output_type": "stream",
     "text": [
      "Processing 500 videos:  85%|████████▌ | 425/500 [6:28:13<1:05:40, 52.55s/it]"
     ]
    },
    {
     "name": "stdout",
     "output_type": "stream",
     "text": [
      "C:\\Users\\mahes\\ML\\dataset\\data unziped\\dfdc_train_part_0\\eiwtggvtfp.mp4\n",
      "C:\\Users\\mahes\\ML\\dataset\\data unziped\\dfdc_train_part_0\\eiwtggvtfp.mp4\n",
      "C:\\Users\\mahes\\ML\\dataset\\data unziped\\dfdc_train_part_0\\eiwtggvtfp.mp4\n",
      "C:\\Users\\mahes\\ML\\dataset\\data unziped\\dfdc_train_part_0\\eiwtggvtfp.mp4\n",
      "C:\\Users\\mahes\\ML\\dataset\\data unziped\\dfdc_train_part_0\\eiwtggvtfp.mp4\n",
      "C:\\Users\\mahes\\ML\\dataset\\data unziped\\dfdc_train_part_0\\eiwtggvtfp.mp4\n",
      "C:\\Users\\mahes\\ML\\dataset\\data unziped\\dfdc_train_part_0\\eiwtggvtfp.mp4\n",
      "C:\\Users\\mahes\\ML\\dataset\\data unziped\\dfdc_train_part_0\\eiwtggvtfp.mp4\n",
      "C:\\Users\\mahes\\ML\\dataset\\data unziped\\dfdc_train_part_0\\eiwtggvtfp.mp4\n",
      "C:\\Users\\mahes\\ML\\dataset\\data unziped\\dfdc_train_part_0\\eiwtggvtfp.mp4\n"
     ]
    },
    {
     "name": "stderr",
     "output_type": "stream",
     "text": [
      "Processing 500 videos:  85%|████████▌ | 426/500 [6:29:08<1:05:38, 53.23s/it]"
     ]
    },
    {
     "name": "stdout",
     "output_type": "stream",
     "text": [
      "C:\\Users\\mahes\\ML\\dataset\\data unziped\\dfdc_train_part_0\\fdpisghkmd.mp4\n",
      "C:\\Users\\mahes\\ML\\dataset\\data unziped\\dfdc_train_part_0\\fdpisghkmd.mp4\n",
      "C:\\Users\\mahes\\ML\\dataset\\data unziped\\dfdc_train_part_0\\fdpisghkmd.mp4\n",
      "C:\\Users\\mahes\\ML\\dataset\\data unziped\\dfdc_train_part_0\\fdpisghkmd.mp4\n",
      "C:\\Users\\mahes\\ML\\dataset\\data unziped\\dfdc_train_part_0\\fdpisghkmd.mp4\n",
      "C:\\Users\\mahes\\ML\\dataset\\data unziped\\dfdc_train_part_0\\fdpisghkmd.mp4\n",
      "C:\\Users\\mahes\\ML\\dataset\\data unziped\\dfdc_train_part_0\\fdpisghkmd.mp4\n",
      "C:\\Users\\mahes\\ML\\dataset\\data unziped\\dfdc_train_part_0\\fdpisghkmd.mp4\n",
      "C:\\Users\\mahes\\ML\\dataset\\data unziped\\dfdc_train_part_0\\fdpisghkmd.mp4\n",
      "C:\\Users\\mahes\\ML\\dataset\\data unziped\\dfdc_train_part_0\\fdpisghkmd.mp4\n"
     ]
    },
    {
     "name": "stderr",
     "output_type": "stream",
     "text": [
      "Processing 500 videos:  85%|████████▌ | 427/500 [6:29:57<1:03:16, 52.00s/it]"
     ]
    },
    {
     "name": "stdout",
     "output_type": "stream",
     "text": [
      "C:\\Users\\mahes\\ML\\dataset\\data unziped\\dfdc_train_part_0\\REAL\n",
      "C:\\Users\\mahes\\ML\\dataset\\data unziped\\dfdc_train_part_0\\REAL\n",
      "C:\\Users\\mahes\\ML\\dataset\\data unziped\\dfdc_train_part_0\\REAL\n",
      "C:\\Users\\mahes\\ML\\dataset\\data unziped\\dfdc_train_part_0\\REAL\n",
      "C:\\Users\\mahes\\ML\\dataset\\data unziped\\dfdc_train_part_0\\REAL\n",
      "C:\\Users\\mahes\\ML\\dataset\\data unziped\\dfdc_train_part_0\\REAL\n",
      "C:\\Users\\mahes\\ML\\dataset\\data unziped\\dfdc_train_part_0\\REAL\n",
      "C:\\Users\\mahes\\ML\\dataset\\data unziped\\dfdc_train_part_0\\REAL\n",
      "C:\\Users\\mahes\\ML\\dataset\\data unziped\\dfdc_train_part_0\\REAL\n",
      "C:\\Users\\mahes\\ML\\dataset\\data unziped\\dfdc_train_part_0\\REAL\n"
     ]
    },
    {
     "name": "stderr",
     "output_type": "stream",
     "text": [
      "Processing 500 videos:  86%|████████▌ | 428/500 [6:30:06<46:54, 39.08s/it]  "
     ]
    },
    {
     "name": "stdout",
     "output_type": "stream",
     "text": [
      "C:\\Users\\mahes\\ML\\dataset\\data unziped\\dfdc_train_part_0\\uprwuohbwx.mp4\n",
      "C:\\Users\\mahes\\ML\\dataset\\data unziped\\dfdc_train_part_0\\uprwuohbwx.mp4\n",
      "C:\\Users\\mahes\\ML\\dataset\\data unziped\\dfdc_train_part_0\\uprwuohbwx.mp4\n",
      "C:\\Users\\mahes\\ML\\dataset\\data unziped\\dfdc_train_part_0\\uprwuohbwx.mp4\n",
      "C:\\Users\\mahes\\ML\\dataset\\data unziped\\dfdc_train_part_0\\uprwuohbwx.mp4\n",
      "C:\\Users\\mahes\\ML\\dataset\\data unziped\\dfdc_train_part_0\\uprwuohbwx.mp4\n",
      "C:\\Users\\mahes\\ML\\dataset\\data unziped\\dfdc_train_part_0\\uprwuohbwx.mp4\n",
      "C:\\Users\\mahes\\ML\\dataset\\data unziped\\dfdc_train_part_0\\uprwuohbwx.mp4\n",
      "C:\\Users\\mahes\\ML\\dataset\\data unziped\\dfdc_train_part_0\\uprwuohbwx.mp4\n",
      "C:\\Users\\mahes\\ML\\dataset\\data unziped\\dfdc_train_part_0\\uprwuohbwx.mp4\n"
     ]
    },
    {
     "name": "stderr",
     "output_type": "stream",
     "text": [
      "Processing 500 videos:  86%|████████▌ | 429/500 [6:31:02<52:04, 44.01s/it]"
     ]
    },
    {
     "name": "stdout",
     "output_type": "stream",
     "text": [
      "C:\\Users\\mahes\\ML\\dataset\\data unziped\\dfdc_train_part_0\\xdezcezszc.mp4\n",
      "C:\\Users\\mahes\\ML\\dataset\\data unziped\\dfdc_train_part_0\\xdezcezszc.mp4\n",
      "C:\\Users\\mahes\\ML\\dataset\\data unziped\\dfdc_train_part_0\\xdezcezszc.mp4\n",
      "C:\\Users\\mahes\\ML\\dataset\\data unziped\\dfdc_train_part_0\\xdezcezszc.mp4\n",
      "C:\\Users\\mahes\\ML\\dataset\\data unziped\\dfdc_train_part_0\\xdezcezszc.mp4\n",
      "C:\\Users\\mahes\\ML\\dataset\\data unziped\\dfdc_train_part_0\\xdezcezszc.mp4\n",
      "C:\\Users\\mahes\\ML\\dataset\\data unziped\\dfdc_train_part_0\\xdezcezszc.mp4\n",
      "C:\\Users\\mahes\\ML\\dataset\\data unziped\\dfdc_train_part_0\\xdezcezszc.mp4\n",
      "C:\\Users\\mahes\\ML\\dataset\\data unziped\\dfdc_train_part_0\\xdezcezszc.mp4\n",
      "C:\\Users\\mahes\\ML\\dataset\\data unziped\\dfdc_train_part_0\\xdezcezszc.mp4\n"
     ]
    },
    {
     "name": "stderr",
     "output_type": "stream",
     "text": [
      "Processing 500 videos:  86%|████████▌ | 430/500 [6:31:55<54:32, 46.74s/it]"
     ]
    },
    {
     "name": "stdout",
     "output_type": "stream",
     "text": [
      "C:\\Users\\mahes\\ML\\dataset\\data unziped\\dfdc_train_part_0\\rnpefxwptv.mp4\n",
      "C:\\Users\\mahes\\ML\\dataset\\data unziped\\dfdc_train_part_0\\rnpefxwptv.mp4\n",
      "C:\\Users\\mahes\\ML\\dataset\\data unziped\\dfdc_train_part_0\\rnpefxwptv.mp4\n",
      "C:\\Users\\mahes\\ML\\dataset\\data unziped\\dfdc_train_part_0\\rnpefxwptv.mp4\n",
      "C:\\Users\\mahes\\ML\\dataset\\data unziped\\dfdc_train_part_0\\rnpefxwptv.mp4\n",
      "C:\\Users\\mahes\\ML\\dataset\\data unziped\\dfdc_train_part_0\\rnpefxwptv.mp4\n",
      "C:\\Users\\mahes\\ML\\dataset\\data unziped\\dfdc_train_part_0\\rnpefxwptv.mp4\n",
      "C:\\Users\\mahes\\ML\\dataset\\data unziped\\dfdc_train_part_0\\rnpefxwptv.mp4\n",
      "C:\\Users\\mahes\\ML\\dataset\\data unziped\\dfdc_train_part_0\\rnpefxwptv.mp4\n",
      "C:\\Users\\mahes\\ML\\dataset\\data unziped\\dfdc_train_part_0\\rnpefxwptv.mp4\n"
     ]
    },
    {
     "name": "stderr",
     "output_type": "stream",
     "text": [
      "Processing 500 videos:  86%|████████▌ | 431/500 [6:32:47<55:44, 48.47s/it]"
     ]
    },
    {
     "name": "stdout",
     "output_type": "stream",
     "text": [
      "C:\\Users\\mahes\\ML\\dataset\\data unziped\\dfdc_train_part_0\\fopjiyxiqd.mp4\n",
      "C:\\Users\\mahes\\ML\\dataset\\data unziped\\dfdc_train_part_0\\fopjiyxiqd.mp4\n",
      "C:\\Users\\mahes\\ML\\dataset\\data unziped\\dfdc_train_part_0\\fopjiyxiqd.mp4\n",
      "C:\\Users\\mahes\\ML\\dataset\\data unziped\\dfdc_train_part_0\\fopjiyxiqd.mp4\n",
      "C:\\Users\\mahes\\ML\\dataset\\data unziped\\dfdc_train_part_0\\fopjiyxiqd.mp4\n",
      "C:\\Users\\mahes\\ML\\dataset\\data unziped\\dfdc_train_part_0\\fopjiyxiqd.mp4\n",
      "C:\\Users\\mahes\\ML\\dataset\\data unziped\\dfdc_train_part_0\\fopjiyxiqd.mp4\n",
      "C:\\Users\\mahes\\ML\\dataset\\data unziped\\dfdc_train_part_0\\fopjiyxiqd.mp4\n",
      "C:\\Users\\mahes\\ML\\dataset\\data unziped\\dfdc_train_part_0\\fopjiyxiqd.mp4\n",
      "C:\\Users\\mahes\\ML\\dataset\\data unziped\\dfdc_train_part_0\\fopjiyxiqd.mp4\n"
     ]
    },
    {
     "name": "stderr",
     "output_type": "stream",
     "text": [
      "Processing 500 videos:  86%|████████▋ | 432/500 [6:33:36<55:02, 48.57s/it]"
     ]
    },
    {
     "name": "stdout",
     "output_type": "stream",
     "text": [
      "C:\\Users\\mahes\\ML\\dataset\\data unziped\\dfdc_train_part_0\\jawgcggquk.mp4\n",
      "C:\\Users\\mahes\\ML\\dataset\\data unziped\\dfdc_train_part_0\\jawgcggquk.mp4\n",
      "C:\\Users\\mahes\\ML\\dataset\\data unziped\\dfdc_train_part_0\\jawgcggquk.mp4\n",
      "C:\\Users\\mahes\\ML\\dataset\\data unziped\\dfdc_train_part_0\\jawgcggquk.mp4\n",
      "C:\\Users\\mahes\\ML\\dataset\\data unziped\\dfdc_train_part_0\\jawgcggquk.mp4\n",
      "C:\\Users\\mahes\\ML\\dataset\\data unziped\\dfdc_train_part_0\\jawgcggquk.mp4\n",
      "C:\\Users\\mahes\\ML\\dataset\\data unziped\\dfdc_train_part_0\\jawgcggquk.mp4\n",
      "C:\\Users\\mahes\\ML\\dataset\\data unziped\\dfdc_train_part_0\\jawgcggquk.mp4\n",
      "C:\\Users\\mahes\\ML\\dataset\\data unziped\\dfdc_train_part_0\\jawgcggquk.mp4\n",
      "C:\\Users\\mahes\\ML\\dataset\\data unziped\\dfdc_train_part_0\\jawgcggquk.mp4\n"
     ]
    },
    {
     "name": "stderr",
     "output_type": "stream",
     "text": [
      "Processing 500 videos:  87%|████████▋ | 433/500 [6:34:21<52:57, 47.42s/it]"
     ]
    },
    {
     "name": "stdout",
     "output_type": "stream",
     "text": [
      "C:\\Users\\mahes\\ML\\dataset\\data unziped\\dfdc_train_part_0\\psjfwjzrrh.mp4\n",
      "C:\\Users\\mahes\\ML\\dataset\\data unziped\\dfdc_train_part_0\\psjfwjzrrh.mp4\n",
      "C:\\Users\\mahes\\ML\\dataset\\data unziped\\dfdc_train_part_0\\psjfwjzrrh.mp4\n",
      "C:\\Users\\mahes\\ML\\dataset\\data unziped\\dfdc_train_part_0\\psjfwjzrrh.mp4\n",
      "C:\\Users\\mahes\\ML\\dataset\\data unziped\\dfdc_train_part_0\\psjfwjzrrh.mp4\n",
      "C:\\Users\\mahes\\ML\\dataset\\data unziped\\dfdc_train_part_0\\psjfwjzrrh.mp4\n",
      "C:\\Users\\mahes\\ML\\dataset\\data unziped\\dfdc_train_part_0\\psjfwjzrrh.mp4\n",
      "C:\\Users\\mahes\\ML\\dataset\\data unziped\\dfdc_train_part_0\\psjfwjzrrh.mp4\n",
      "C:\\Users\\mahes\\ML\\dataset\\data unziped\\dfdc_train_part_0\\psjfwjzrrh.mp4\n",
      "C:\\Users\\mahes\\ML\\dataset\\data unziped\\dfdc_train_part_0\\psjfwjzrrh.mp4\n"
     ]
    },
    {
     "name": "stderr",
     "output_type": "stream",
     "text": [
      "Processing 500 videos:  87%|████████▋ | 434/500 [6:35:16<54:43, 49.75s/it]"
     ]
    },
    {
     "name": "stdout",
     "output_type": "stream",
     "text": [
      "C:\\Users\\mahes\\ML\\dataset\\data unziped\\dfdc_train_part_0\\yxvmusxvcz.mp4\n",
      "C:\\Users\\mahes\\ML\\dataset\\data unziped\\dfdc_train_part_0\\yxvmusxvcz.mp4\n",
      "C:\\Users\\mahes\\ML\\dataset\\data unziped\\dfdc_train_part_0\\yxvmusxvcz.mp4\n",
      "C:\\Users\\mahes\\ML\\dataset\\data unziped\\dfdc_train_part_0\\yxvmusxvcz.mp4\n",
      "C:\\Users\\mahes\\ML\\dataset\\data unziped\\dfdc_train_part_0\\yxvmusxvcz.mp4\n",
      "C:\\Users\\mahes\\ML\\dataset\\data unziped\\dfdc_train_part_0\\yxvmusxvcz.mp4\n",
      "C:\\Users\\mahes\\ML\\dataset\\data unziped\\dfdc_train_part_0\\yxvmusxvcz.mp4\n",
      "C:\\Users\\mahes\\ML\\dataset\\data unziped\\dfdc_train_part_0\\yxvmusxvcz.mp4\n",
      "C:\\Users\\mahes\\ML\\dataset\\data unziped\\dfdc_train_part_0\\yxvmusxvcz.mp4\n",
      "C:\\Users\\mahes\\ML\\dataset\\data unziped\\dfdc_train_part_0\\yxvmusxvcz.mp4\n"
     ]
    },
    {
     "name": "stderr",
     "output_type": "stream",
     "text": [
      "Processing 500 videos:  87%|████████▋ | 435/500 [6:36:02<52:29, 48.45s/it]"
     ]
    },
    {
     "name": "stdout",
     "output_type": "stream",
     "text": [
      "C:\\Users\\mahes\\ML\\dataset\\data unziped\\dfdc_train_part_0\\kqlvggiqee.mp4\n",
      "C:\\Users\\mahes\\ML\\dataset\\data unziped\\dfdc_train_part_0\\kqlvggiqee.mp4\n",
      "C:\\Users\\mahes\\ML\\dataset\\data unziped\\dfdc_train_part_0\\kqlvggiqee.mp4\n",
      "C:\\Users\\mahes\\ML\\dataset\\data unziped\\dfdc_train_part_0\\kqlvggiqee.mp4\n",
      "C:\\Users\\mahes\\ML\\dataset\\data unziped\\dfdc_train_part_0\\kqlvggiqee.mp4\n",
      "C:\\Users\\mahes\\ML\\dataset\\data unziped\\dfdc_train_part_0\\kqlvggiqee.mp4\n",
      "C:\\Users\\mahes\\ML\\dataset\\data unziped\\dfdc_train_part_0\\kqlvggiqee.mp4\n",
      "C:\\Users\\mahes\\ML\\dataset\\data unziped\\dfdc_train_part_0\\kqlvggiqee.mp4\n",
      "C:\\Users\\mahes\\ML\\dataset\\data unziped\\dfdc_train_part_0\\kqlvggiqee.mp4\n",
      "C:\\Users\\mahes\\ML\\dataset\\data unziped\\dfdc_train_part_0\\kqlvggiqee.mp4\n"
     ]
    },
    {
     "name": "stderr",
     "output_type": "stream",
     "text": [
      "Processing 500 videos:  87%|████████▋ | 436/500 [6:36:48<51:03, 47.87s/it]"
     ]
    },
    {
     "name": "stdout",
     "output_type": "stream",
     "text": [
      "C:\\Users\\mahes\\ML\\dataset\\data unziped\\dfdc_train_part_0\\lzbmwwejxb.mp4\n",
      "C:\\Users\\mahes\\ML\\dataset\\data unziped\\dfdc_train_part_0\\lzbmwwejxb.mp4\n",
      "C:\\Users\\mahes\\ML\\dataset\\data unziped\\dfdc_train_part_0\\lzbmwwejxb.mp4\n",
      "C:\\Users\\mahes\\ML\\dataset\\data unziped\\dfdc_train_part_0\\lzbmwwejxb.mp4\n",
      "C:\\Users\\mahes\\ML\\dataset\\data unziped\\dfdc_train_part_0\\lzbmwwejxb.mp4\n",
      "C:\\Users\\mahes\\ML\\dataset\\data unziped\\dfdc_train_part_0\\lzbmwwejxb.mp4\n",
      "C:\\Users\\mahes\\ML\\dataset\\data unziped\\dfdc_train_part_0\\lzbmwwejxb.mp4\n",
      "C:\\Users\\mahes\\ML\\dataset\\data unziped\\dfdc_train_part_0\\lzbmwwejxb.mp4\n",
      "C:\\Users\\mahes\\ML\\dataset\\data unziped\\dfdc_train_part_0\\lzbmwwejxb.mp4\n",
      "C:\\Users\\mahes\\ML\\dataset\\data unziped\\dfdc_train_part_0\\lzbmwwejxb.mp4\n"
     ]
    },
    {
     "name": "stderr",
     "output_type": "stream",
     "text": [
      "Processing 500 videos:  87%|████████▋ | 437/500 [6:37:42<52:17, 49.80s/it]"
     ]
    },
    {
     "name": "stdout",
     "output_type": "stream",
     "text": [
      "C:\\Users\\mahes\\ML\\dataset\\data unziped\\dfdc_train_part_0\\dxfdovivlw.mp4\n",
      "C:\\Users\\mahes\\ML\\dataset\\data unziped\\dfdc_train_part_0\\dxfdovivlw.mp4\n",
      "C:\\Users\\mahes\\ML\\dataset\\data unziped\\dfdc_train_part_0\\dxfdovivlw.mp4\n",
      "C:\\Users\\mahes\\ML\\dataset\\data unziped\\dfdc_train_part_0\\dxfdovivlw.mp4\n",
      "C:\\Users\\mahes\\ML\\dataset\\data unziped\\dfdc_train_part_0\\dxfdovivlw.mp4\n",
      "C:\\Users\\mahes\\ML\\dataset\\data unziped\\dfdc_train_part_0\\dxfdovivlw.mp4\n",
      "C:\\Users\\mahes\\ML\\dataset\\data unziped\\dfdc_train_part_0\\dxfdovivlw.mp4\n",
      "C:\\Users\\mahes\\ML\\dataset\\data unziped\\dfdc_train_part_0\\dxfdovivlw.mp4\n",
      "C:\\Users\\mahes\\ML\\dataset\\data unziped\\dfdc_train_part_0\\dxfdovivlw.mp4\n",
      "C:\\Users\\mahes\\ML\\dataset\\data unziped\\dfdc_train_part_0\\dxfdovivlw.mp4\n"
     ]
    },
    {
     "name": "stderr",
     "output_type": "stream",
     "text": [
      "Processing 500 videos:  88%|████████▊ | 438/500 [6:38:27<49:41, 48.08s/it]"
     ]
    },
    {
     "name": "stdout",
     "output_type": "stream",
     "text": [
      "C:\\Users\\mahes\\ML\\dataset\\data unziped\\dfdc_train_part_0\\jzupayeuln.mp4\n",
      "C:\\Users\\mahes\\ML\\dataset\\data unziped\\dfdc_train_part_0\\jzupayeuln.mp4\n",
      "C:\\Users\\mahes\\ML\\dataset\\data unziped\\dfdc_train_part_0\\jzupayeuln.mp4\n",
      "C:\\Users\\mahes\\ML\\dataset\\data unziped\\dfdc_train_part_0\\jzupayeuln.mp4\n",
      "C:\\Users\\mahes\\ML\\dataset\\data unziped\\dfdc_train_part_0\\jzupayeuln.mp4\n",
      "C:\\Users\\mahes\\ML\\dataset\\data unziped\\dfdc_train_part_0\\jzupayeuln.mp4\n",
      "C:\\Users\\mahes\\ML\\dataset\\data unziped\\dfdc_train_part_0\\jzupayeuln.mp4\n",
      "C:\\Users\\mahes\\ML\\dataset\\data unziped\\dfdc_train_part_0\\jzupayeuln.mp4\n",
      "C:\\Users\\mahes\\ML\\dataset\\data unziped\\dfdc_train_part_0\\jzupayeuln.mp4\n",
      "C:\\Users\\mahes\\ML\\dataset\\data unziped\\dfdc_train_part_0\\jzupayeuln.mp4\n"
     ]
    },
    {
     "name": "stderr",
     "output_type": "stream",
     "text": [
      "Processing 500 videos:  88%|████████▊ | 439/500 [6:39:23<51:23, 50.55s/it]"
     ]
    },
    {
     "name": "stdout",
     "output_type": "stream",
     "text": [
      "C:\\Users\\mahes\\ML\\dataset\\data unziped\\dfdc_train_part_0\\aayrffkzxn.mp4\n",
      "C:\\Users\\mahes\\ML\\dataset\\data unziped\\dfdc_train_part_0\\aayrffkzxn.mp4\n",
      "C:\\Users\\mahes\\ML\\dataset\\data unziped\\dfdc_train_part_0\\aayrffkzxn.mp4\n",
      "C:\\Users\\mahes\\ML\\dataset\\data unziped\\dfdc_train_part_0\\aayrffkzxn.mp4\n",
      "C:\\Users\\mahes\\ML\\dataset\\data unziped\\dfdc_train_part_0\\aayrffkzxn.mp4\n",
      "C:\\Users\\mahes\\ML\\dataset\\data unziped\\dfdc_train_part_0\\aayrffkzxn.mp4\n",
      "C:\\Users\\mahes\\ML\\dataset\\data unziped\\dfdc_train_part_0\\aayrffkzxn.mp4\n",
      "C:\\Users\\mahes\\ML\\dataset\\data unziped\\dfdc_train_part_0\\aayrffkzxn.mp4\n",
      "C:\\Users\\mahes\\ML\\dataset\\data unziped\\dfdc_train_part_0\\aayrffkzxn.mp4\n",
      "C:\\Users\\mahes\\ML\\dataset\\data unziped\\dfdc_train_part_0\\aayrffkzxn.mp4\n"
     ]
    },
    {
     "name": "stderr",
     "output_type": "stream",
     "text": [
      "Processing 500 videos:  88%|████████▊ | 440/500 [6:40:18<51:52, 51.88s/it]"
     ]
    },
    {
     "name": "stdout",
     "output_type": "stream",
     "text": [
      "C:\\Users\\mahes\\ML\\dataset\\data unziped\\dfdc_train_part_0\\fdpisghkmd.mp4\n",
      "C:\\Users\\mahes\\ML\\dataset\\data unziped\\dfdc_train_part_0\\fdpisghkmd.mp4\n",
      "C:\\Users\\mahes\\ML\\dataset\\data unziped\\dfdc_train_part_0\\fdpisghkmd.mp4\n",
      "C:\\Users\\mahes\\ML\\dataset\\data unziped\\dfdc_train_part_0\\fdpisghkmd.mp4\n",
      "C:\\Users\\mahes\\ML\\dataset\\data unziped\\dfdc_train_part_0\\fdpisghkmd.mp4\n",
      "C:\\Users\\mahes\\ML\\dataset\\data unziped\\dfdc_train_part_0\\fdpisghkmd.mp4\n",
      "C:\\Users\\mahes\\ML\\dataset\\data unziped\\dfdc_train_part_0\\fdpisghkmd.mp4\n",
      "C:\\Users\\mahes\\ML\\dataset\\data unziped\\dfdc_train_part_0\\fdpisghkmd.mp4\n",
      "C:\\Users\\mahes\\ML\\dataset\\data unziped\\dfdc_train_part_0\\fdpisghkmd.mp4\n",
      "C:\\Users\\mahes\\ML\\dataset\\data unziped\\dfdc_train_part_0\\fdpisghkmd.mp4\n"
     ]
    },
    {
     "name": "stderr",
     "output_type": "stream",
     "text": [
      "Processing 500 videos:  88%|████████▊ | 441/500 [6:41:06<49:48, 50.65s/it]"
     ]
    },
    {
     "name": "stdout",
     "output_type": "stream",
     "text": [
      "C:\\Users\\mahes\\ML\\dataset\\data unziped\\dfdc_train_part_0\\xdezcezszc.mp4\n",
      "C:\\Users\\mahes\\ML\\dataset\\data unziped\\dfdc_train_part_0\\xdezcezszc.mp4\n",
      "C:\\Users\\mahes\\ML\\dataset\\data unziped\\dfdc_train_part_0\\xdezcezszc.mp4\n",
      "C:\\Users\\mahes\\ML\\dataset\\data unziped\\dfdc_train_part_0\\xdezcezszc.mp4\n",
      "C:\\Users\\mahes\\ML\\dataset\\data unziped\\dfdc_train_part_0\\xdezcezszc.mp4\n",
      "C:\\Users\\mahes\\ML\\dataset\\data unziped\\dfdc_train_part_0\\xdezcezszc.mp4\n",
      "C:\\Users\\mahes\\ML\\dataset\\data unziped\\dfdc_train_part_0\\xdezcezszc.mp4\n",
      "C:\\Users\\mahes\\ML\\dataset\\data unziped\\dfdc_train_part_0\\xdezcezszc.mp4\n",
      "C:\\Users\\mahes\\ML\\dataset\\data unziped\\dfdc_train_part_0\\xdezcezszc.mp4\n",
      "C:\\Users\\mahes\\ML\\dataset\\data unziped\\dfdc_train_part_0\\xdezcezszc.mp4\n"
     ]
    },
    {
     "name": "stderr",
     "output_type": "stream",
     "text": [
      "Processing 500 videos:  88%|████████▊ | 442/500 [6:41:58<49:35, 51.30s/it]"
     ]
    },
    {
     "name": "stdout",
     "output_type": "stream",
     "text": [
      "C:\\Users\\mahes\\ML\\dataset\\data unziped\\dfdc_train_part_0\\upmgtackuf.mp4\n",
      "C:\\Users\\mahes\\ML\\dataset\\data unziped\\dfdc_train_part_0\\upmgtackuf.mp4\n",
      "C:\\Users\\mahes\\ML\\dataset\\data unziped\\dfdc_train_part_0\\upmgtackuf.mp4\n",
      "C:\\Users\\mahes\\ML\\dataset\\data unziped\\dfdc_train_part_0\\upmgtackuf.mp4\n",
      "C:\\Users\\mahes\\ML\\dataset\\data unziped\\dfdc_train_part_0\\upmgtackuf.mp4\n",
      "C:\\Users\\mahes\\ML\\dataset\\data unziped\\dfdc_train_part_0\\upmgtackuf.mp4\n",
      "C:\\Users\\mahes\\ML\\dataset\\data unziped\\dfdc_train_part_0\\upmgtackuf.mp4\n",
      "C:\\Users\\mahes\\ML\\dataset\\data unziped\\dfdc_train_part_0\\upmgtackuf.mp4\n",
      "C:\\Users\\mahes\\ML\\dataset\\data unziped\\dfdc_train_part_0\\upmgtackuf.mp4\n",
      "C:\\Users\\mahes\\ML\\dataset\\data unziped\\dfdc_train_part_0\\upmgtackuf.mp4\n"
     ]
    },
    {
     "name": "stderr",
     "output_type": "stream",
     "text": [
      "Processing 500 videos:  89%|████████▊ | 443/500 [6:42:51<48:57, 51.53s/it]"
     ]
    },
    {
     "name": "stdout",
     "output_type": "stream",
     "text": [
      "C:\\Users\\mahes\\ML\\dataset\\data unziped\\dfdc_train_part_0\\xchzardbfa.mp4\n",
      "C:\\Users\\mahes\\ML\\dataset\\data unziped\\dfdc_train_part_0\\xchzardbfa.mp4\n",
      "C:\\Users\\mahes\\ML\\dataset\\data unziped\\dfdc_train_part_0\\xchzardbfa.mp4\n",
      "C:\\Users\\mahes\\ML\\dataset\\data unziped\\dfdc_train_part_0\\xchzardbfa.mp4\n",
      "C:\\Users\\mahes\\ML\\dataset\\data unziped\\dfdc_train_part_0\\xchzardbfa.mp4\n",
      "C:\\Users\\mahes\\ML\\dataset\\data unziped\\dfdc_train_part_0\\xchzardbfa.mp4\n",
      "C:\\Users\\mahes\\ML\\dataset\\data unziped\\dfdc_train_part_0\\xchzardbfa.mp4\n",
      "C:\\Users\\mahes\\ML\\dataset\\data unziped\\dfdc_train_part_0\\xchzardbfa.mp4\n",
      "C:\\Users\\mahes\\ML\\dataset\\data unziped\\dfdc_train_part_0\\xchzardbfa.mp4\n",
      "C:\\Users\\mahes\\ML\\dataset\\data unziped\\dfdc_train_part_0\\xchzardbfa.mp4\n"
     ]
    },
    {
     "name": "stderr",
     "output_type": "stream",
     "text": [
      "Processing 500 videos:  89%|████████▉ | 444/500 [6:43:42<48:06, 51.54s/it]"
     ]
    },
    {
     "name": "stdout",
     "output_type": "stream",
     "text": [
      "C:\\Users\\mahes\\ML\\dataset\\data unziped\\dfdc_train_part_0\\jytrvwlewz.mp4\n",
      "C:\\Users\\mahes\\ML\\dataset\\data unziped\\dfdc_train_part_0\\jytrvwlewz.mp4\n",
      "C:\\Users\\mahes\\ML\\dataset\\data unziped\\dfdc_train_part_0\\jytrvwlewz.mp4\n",
      "C:\\Users\\mahes\\ML\\dataset\\data unziped\\dfdc_train_part_0\\jytrvwlewz.mp4\n",
      "C:\\Users\\mahes\\ML\\dataset\\data unziped\\dfdc_train_part_0\\jytrvwlewz.mp4\n",
      "C:\\Users\\mahes\\ML\\dataset\\data unziped\\dfdc_train_part_0\\jytrvwlewz.mp4\n",
      "C:\\Users\\mahes\\ML\\dataset\\data unziped\\dfdc_train_part_0\\jytrvwlewz.mp4\n",
      "C:\\Users\\mahes\\ML\\dataset\\data unziped\\dfdc_train_part_0\\jytrvwlewz.mp4\n",
      "C:\\Users\\mahes\\ML\\dataset\\data unziped\\dfdc_train_part_0\\jytrvwlewz.mp4\n",
      "C:\\Users\\mahes\\ML\\dataset\\data unziped\\dfdc_train_part_0\\jytrvwlewz.mp4\n"
     ]
    },
    {
     "name": "stderr",
     "output_type": "stream",
     "text": [
      "Processing 500 videos:  89%|████████▉ | 445/500 [6:44:30<46:10, 50.37s/it]"
     ]
    },
    {
     "name": "stdout",
     "output_type": "stream",
     "text": [
      "C:\\Users\\mahes\\ML\\dataset\\data unziped\\dfdc_train_part_0\\ybnucgidtu.mp4\n",
      "C:\\Users\\mahes\\ML\\dataset\\data unziped\\dfdc_train_part_0\\ybnucgidtu.mp4\n",
      "C:\\Users\\mahes\\ML\\dataset\\data unziped\\dfdc_train_part_0\\ybnucgidtu.mp4\n",
      "C:\\Users\\mahes\\ML\\dataset\\data unziped\\dfdc_train_part_0\\ybnucgidtu.mp4\n",
      "C:\\Users\\mahes\\ML\\dataset\\data unziped\\dfdc_train_part_0\\ybnucgidtu.mp4\n",
      "C:\\Users\\mahes\\ML\\dataset\\data unziped\\dfdc_train_part_0\\ybnucgidtu.mp4\n",
      "C:\\Users\\mahes\\ML\\dataset\\data unziped\\dfdc_train_part_0\\ybnucgidtu.mp4\n",
      "C:\\Users\\mahes\\ML\\dataset\\data unziped\\dfdc_train_part_0\\ybnucgidtu.mp4\n",
      "C:\\Users\\mahes\\ML\\dataset\\data unziped\\dfdc_train_part_0\\ybnucgidtu.mp4\n",
      "C:\\Users\\mahes\\ML\\dataset\\data unziped\\dfdc_train_part_0\\ybnucgidtu.mp4\n"
     ]
    },
    {
     "name": "stderr",
     "output_type": "stream",
     "text": [
      "Processing 500 videos:  89%|████████▉ | 446/500 [6:45:22<45:50, 50.94s/it]"
     ]
    },
    {
     "name": "stdout",
     "output_type": "stream",
     "text": [
      "C:\\Users\\mahes\\ML\\dataset\\data unziped\\dfdc_train_part_0\\fnslimfagb.mp4\n",
      "C:\\Users\\mahes\\ML\\dataset\\data unziped\\dfdc_train_part_0\\fnslimfagb.mp4\n",
      "C:\\Users\\mahes\\ML\\dataset\\data unziped\\dfdc_train_part_0\\fnslimfagb.mp4\n",
      "C:\\Users\\mahes\\ML\\dataset\\data unziped\\dfdc_train_part_0\\fnslimfagb.mp4\n",
      "C:\\Users\\mahes\\ML\\dataset\\data unziped\\dfdc_train_part_0\\fnslimfagb.mp4\n",
      "C:\\Users\\mahes\\ML\\dataset\\data unziped\\dfdc_train_part_0\\fnslimfagb.mp4\n",
      "C:\\Users\\mahes\\ML\\dataset\\data unziped\\dfdc_train_part_0\\fnslimfagb.mp4\n",
      "C:\\Users\\mahes\\ML\\dataset\\data unziped\\dfdc_train_part_0\\fnslimfagb.mp4\n",
      "C:\\Users\\mahes\\ML\\dataset\\data unziped\\dfdc_train_part_0\\fnslimfagb.mp4\n",
      "C:\\Users\\mahes\\ML\\dataset\\data unziped\\dfdc_train_part_0\\fnslimfagb.mp4\n"
     ]
    },
    {
     "name": "stderr",
     "output_type": "stream",
     "text": [
      "Processing 500 videos:  89%|████████▉ | 447/500 [6:46:18<46:25, 52.56s/it]"
     ]
    },
    {
     "name": "stdout",
     "output_type": "stream",
     "text": [
      "C:\\Users\\mahes\\ML\\dataset\\data unziped\\dfdc_train_part_0\\fdpisghkmd.mp4\n",
      "C:\\Users\\mahes\\ML\\dataset\\data unziped\\dfdc_train_part_0\\fdpisghkmd.mp4\n",
      "C:\\Users\\mahes\\ML\\dataset\\data unziped\\dfdc_train_part_0\\fdpisghkmd.mp4\n",
      "C:\\Users\\mahes\\ML\\dataset\\data unziped\\dfdc_train_part_0\\fdpisghkmd.mp4\n",
      "C:\\Users\\mahes\\ML\\dataset\\data unziped\\dfdc_train_part_0\\fdpisghkmd.mp4\n",
      "C:\\Users\\mahes\\ML\\dataset\\data unziped\\dfdc_train_part_0\\fdpisghkmd.mp4\n",
      "C:\\Users\\mahes\\ML\\dataset\\data unziped\\dfdc_train_part_0\\fdpisghkmd.mp4\n",
      "C:\\Users\\mahes\\ML\\dataset\\data unziped\\dfdc_train_part_0\\fdpisghkmd.mp4\n",
      "C:\\Users\\mahes\\ML\\dataset\\data unziped\\dfdc_train_part_0\\fdpisghkmd.mp4\n",
      "C:\\Users\\mahes\\ML\\dataset\\data unziped\\dfdc_train_part_0\\fdpisghkmd.mp4\n"
     ]
    },
    {
     "name": "stderr",
     "output_type": "stream",
     "text": [
      "Processing 500 videos:  90%|████████▉ | 448/500 [6:47:08<44:45, 51.64s/it]"
     ]
    },
    {
     "name": "stdout",
     "output_type": "stream",
     "text": [
      "C:\\Users\\mahes\\ML\\dataset\\data unziped\\dfdc_train_part_0\\vtunvalyji.mp4\n",
      "C:\\Users\\mahes\\ML\\dataset\\data unziped\\dfdc_train_part_0\\vtunvalyji.mp4\n",
      "C:\\Users\\mahes\\ML\\dataset\\data unziped\\dfdc_train_part_0\\vtunvalyji.mp4\n",
      "C:\\Users\\mahes\\ML\\dataset\\data unziped\\dfdc_train_part_0\\vtunvalyji.mp4\n",
      "C:\\Users\\mahes\\ML\\dataset\\data unziped\\dfdc_train_part_0\\vtunvalyji.mp4\n",
      "C:\\Users\\mahes\\ML\\dataset\\data unziped\\dfdc_train_part_0\\vtunvalyji.mp4\n",
      "C:\\Users\\mahes\\ML\\dataset\\data unziped\\dfdc_train_part_0\\vtunvalyji.mp4\n",
      "C:\\Users\\mahes\\ML\\dataset\\data unziped\\dfdc_train_part_0\\vtunvalyji.mp4\n",
      "C:\\Users\\mahes\\ML\\dataset\\data unziped\\dfdc_train_part_0\\vtunvalyji.mp4\n",
      "C:\\Users\\mahes\\ML\\dataset\\data unziped\\dfdc_train_part_0\\vtunvalyji.mp4\n"
     ]
    },
    {
     "name": "stderr",
     "output_type": "stream",
     "text": [
      "Processing 500 videos:  90%|████████▉ | 449/500 [6:47:57<43:18, 50.96s/it]"
     ]
    },
    {
     "name": "stdout",
     "output_type": "stream",
     "text": [
      "C:\\Users\\mahes\\ML\\dataset\\data unziped\\dfdc_train_part_0\\jzupayeuln.mp4\n",
      "C:\\Users\\mahes\\ML\\dataset\\data unziped\\dfdc_train_part_0\\jzupayeuln.mp4\n",
      "C:\\Users\\mahes\\ML\\dataset\\data unziped\\dfdc_train_part_0\\jzupayeuln.mp4\n",
      "C:\\Users\\mahes\\ML\\dataset\\data unziped\\dfdc_train_part_0\\jzupayeuln.mp4\n",
      "C:\\Users\\mahes\\ML\\dataset\\data unziped\\dfdc_train_part_0\\jzupayeuln.mp4\n",
      "C:\\Users\\mahes\\ML\\dataset\\data unziped\\dfdc_train_part_0\\jzupayeuln.mp4\n",
      "C:\\Users\\mahes\\ML\\dataset\\data unziped\\dfdc_train_part_0\\jzupayeuln.mp4\n",
      "C:\\Users\\mahes\\ML\\dataset\\data unziped\\dfdc_train_part_0\\jzupayeuln.mp4\n",
      "C:\\Users\\mahes\\ML\\dataset\\data unziped\\dfdc_train_part_0\\jzupayeuln.mp4\n",
      "C:\\Users\\mahes\\ML\\dataset\\data unziped\\dfdc_train_part_0\\jzupayeuln.mp4\n"
     ]
    },
    {
     "name": "stderr",
     "output_type": "stream",
     "text": [
      "Processing 500 videos:  90%|█████████ | 450/500 [6:48:55<44:06, 52.93s/it]"
     ]
    },
    {
     "name": "stdout",
     "output_type": "stream",
     "text": [
      "C:\\Users\\mahes\\ML\\dataset\\data unziped\\dfdc_train_part_0\\syxobtuucp.mp4\n",
      "C:\\Users\\mahes\\ML\\dataset\\data unziped\\dfdc_train_part_0\\syxobtuucp.mp4\n",
      "C:\\Users\\mahes\\ML\\dataset\\data unziped\\dfdc_train_part_0\\syxobtuucp.mp4\n",
      "C:\\Users\\mahes\\ML\\dataset\\data unziped\\dfdc_train_part_0\\syxobtuucp.mp4\n",
      "C:\\Users\\mahes\\ML\\dataset\\data unziped\\dfdc_train_part_0\\syxobtuucp.mp4\n",
      "C:\\Users\\mahes\\ML\\dataset\\data unziped\\dfdc_train_part_0\\syxobtuucp.mp4\n",
      "C:\\Users\\mahes\\ML\\dataset\\data unziped\\dfdc_train_part_0\\syxobtuucp.mp4\n",
      "C:\\Users\\mahes\\ML\\dataset\\data unziped\\dfdc_train_part_0\\syxobtuucp.mp4\n",
      "C:\\Users\\mahes\\ML\\dataset\\data unziped\\dfdc_train_part_0\\syxobtuucp.mp4\n",
      "C:\\Users\\mahes\\ML\\dataset\\data unziped\\dfdc_train_part_0\\syxobtuucp.mp4\n"
     ]
    },
    {
     "name": "stderr",
     "output_type": "stream",
     "text": [
      "Processing 500 videos:  90%|█████████ | 451/500 [6:49:40<41:26, 50.74s/it]"
     ]
    },
    {
     "name": "stdout",
     "output_type": "stream",
     "text": [
      "C:\\Users\\mahes\\ML\\dataset\\data unziped\\dfdc_train_part_0\\hivnldfvyl.mp4\n",
      "C:\\Users\\mahes\\ML\\dataset\\data unziped\\dfdc_train_part_0\\hivnldfvyl.mp4\n",
      "C:\\Users\\mahes\\ML\\dataset\\data unziped\\dfdc_train_part_0\\hivnldfvyl.mp4\n",
      "C:\\Users\\mahes\\ML\\dataset\\data unziped\\dfdc_train_part_0\\hivnldfvyl.mp4\n",
      "C:\\Users\\mahes\\ML\\dataset\\data unziped\\dfdc_train_part_0\\hivnldfvyl.mp4\n",
      "C:\\Users\\mahes\\ML\\dataset\\data unziped\\dfdc_train_part_0\\hivnldfvyl.mp4\n",
      "C:\\Users\\mahes\\ML\\dataset\\data unziped\\dfdc_train_part_0\\hivnldfvyl.mp4\n",
      "C:\\Users\\mahes\\ML\\dataset\\data unziped\\dfdc_train_part_0\\hivnldfvyl.mp4\n",
      "C:\\Users\\mahes\\ML\\dataset\\data unziped\\dfdc_train_part_0\\hivnldfvyl.mp4\n",
      "C:\\Users\\mahes\\ML\\dataset\\data unziped\\dfdc_train_part_0\\hivnldfvyl.mp4\n"
     ]
    },
    {
     "name": "stderr",
     "output_type": "stream",
     "text": [
      "Processing 500 videos:  90%|█████████ | 452/500 [6:50:33<41:07, 51.40s/it]"
     ]
    },
    {
     "name": "stdout",
     "output_type": "stream",
     "text": [
      "C:\\Users\\mahes\\ML\\dataset\\data unziped\\dfdc_train_part_0\\wfzjxzhdkj.mp4\n",
      "C:\\Users\\mahes\\ML\\dataset\\data unziped\\dfdc_train_part_0\\wfzjxzhdkj.mp4\n",
      "C:\\Users\\mahes\\ML\\dataset\\data unziped\\dfdc_train_part_0\\wfzjxzhdkj.mp4\n",
      "C:\\Users\\mahes\\ML\\dataset\\data unziped\\dfdc_train_part_0\\wfzjxzhdkj.mp4\n",
      "C:\\Users\\mahes\\ML\\dataset\\data unziped\\dfdc_train_part_0\\wfzjxzhdkj.mp4\n",
      "C:\\Users\\mahes\\ML\\dataset\\data unziped\\dfdc_train_part_0\\wfzjxzhdkj.mp4\n",
      "C:\\Users\\mahes\\ML\\dataset\\data unziped\\dfdc_train_part_0\\wfzjxzhdkj.mp4\n",
      "C:\\Users\\mahes\\ML\\dataset\\data unziped\\dfdc_train_part_0\\wfzjxzhdkj.mp4\n",
      "C:\\Users\\mahes\\ML\\dataset\\data unziped\\dfdc_train_part_0\\wfzjxzhdkj.mp4\n",
      "C:\\Users\\mahes\\ML\\dataset\\data unziped\\dfdc_train_part_0\\wfzjxzhdkj.mp4\n"
     ]
    },
    {
     "name": "stderr",
     "output_type": "stream",
     "text": [
      "Processing 500 videos:  91%|█████████ | 453/500 [6:51:27<40:43, 51.99s/it]"
     ]
    },
    {
     "name": "stdout",
     "output_type": "stream",
     "text": [
      "C:\\Users\\mahes\\ML\\dataset\\data unziped\\dfdc_train_part_0\\hivnldfvyl.mp4\n",
      "C:\\Users\\mahes\\ML\\dataset\\data unziped\\dfdc_train_part_0\\hivnldfvyl.mp4\n",
      "C:\\Users\\mahes\\ML\\dataset\\data unziped\\dfdc_train_part_0\\hivnldfvyl.mp4\n",
      "C:\\Users\\mahes\\ML\\dataset\\data unziped\\dfdc_train_part_0\\hivnldfvyl.mp4\n",
      "C:\\Users\\mahes\\ML\\dataset\\data unziped\\dfdc_train_part_0\\hivnldfvyl.mp4\n",
      "C:\\Users\\mahes\\ML\\dataset\\data unziped\\dfdc_train_part_0\\hivnldfvyl.mp4\n",
      "C:\\Users\\mahes\\ML\\dataset\\data unziped\\dfdc_train_part_0\\hivnldfvyl.mp4\n",
      "C:\\Users\\mahes\\ML\\dataset\\data unziped\\dfdc_train_part_0\\hivnldfvyl.mp4\n",
      "C:\\Users\\mahes\\ML\\dataset\\data unziped\\dfdc_train_part_0\\hivnldfvyl.mp4\n",
      "C:\\Users\\mahes\\ML\\dataset\\data unziped\\dfdc_train_part_0\\hivnldfvyl.mp4\n"
     ]
    },
    {
     "name": "stderr",
     "output_type": "stream",
     "text": [
      "Processing 500 videos:  91%|█████████ | 454/500 [6:52:20<40:15, 52.52s/it]"
     ]
    },
    {
     "name": "stdout",
     "output_type": "stream",
     "text": [
      "C:\\Users\\mahes\\ML\\dataset\\data unziped\\dfdc_train_part_0\\fdpisghkmd.mp4\n",
      "C:\\Users\\mahes\\ML\\dataset\\data unziped\\dfdc_train_part_0\\fdpisghkmd.mp4\n",
      "C:\\Users\\mahes\\ML\\dataset\\data unziped\\dfdc_train_part_0\\fdpisghkmd.mp4\n",
      "C:\\Users\\mahes\\ML\\dataset\\data unziped\\dfdc_train_part_0\\fdpisghkmd.mp4\n",
      "C:\\Users\\mahes\\ML\\dataset\\data unziped\\dfdc_train_part_0\\fdpisghkmd.mp4\n",
      "C:\\Users\\mahes\\ML\\dataset\\data unziped\\dfdc_train_part_0\\fdpisghkmd.mp4\n",
      "C:\\Users\\mahes\\ML\\dataset\\data unziped\\dfdc_train_part_0\\fdpisghkmd.mp4\n",
      "C:\\Users\\mahes\\ML\\dataset\\data unziped\\dfdc_train_part_0\\fdpisghkmd.mp4\n",
      "C:\\Users\\mahes\\ML\\dataset\\data unziped\\dfdc_train_part_0\\fdpisghkmd.mp4\n",
      "C:\\Users\\mahes\\ML\\dataset\\data unziped\\dfdc_train_part_0\\fdpisghkmd.mp4\n"
     ]
    },
    {
     "name": "stderr",
     "output_type": "stream",
     "text": [
      "Processing 500 videos:  91%|█████████ | 455/500 [6:53:08<38:22, 51.16s/it]"
     ]
    },
    {
     "name": "stdout",
     "output_type": "stream",
     "text": [
      "C:\\Users\\mahes\\ML\\dataset\\data unziped\\dfdc_train_part_0\\uqtqhiqymz.mp4\n",
      "C:\\Users\\mahes\\ML\\dataset\\data unziped\\dfdc_train_part_0\\uqtqhiqymz.mp4\n",
      "C:\\Users\\mahes\\ML\\dataset\\data unziped\\dfdc_train_part_0\\uqtqhiqymz.mp4\n",
      "C:\\Users\\mahes\\ML\\dataset\\data unziped\\dfdc_train_part_0\\uqtqhiqymz.mp4\n",
      "C:\\Users\\mahes\\ML\\dataset\\data unziped\\dfdc_train_part_0\\uqtqhiqymz.mp4\n",
      "C:\\Users\\mahes\\ML\\dataset\\data unziped\\dfdc_train_part_0\\uqtqhiqymz.mp4\n",
      "C:\\Users\\mahes\\ML\\dataset\\data unziped\\dfdc_train_part_0\\uqtqhiqymz.mp4\n",
      "C:\\Users\\mahes\\ML\\dataset\\data unziped\\dfdc_train_part_0\\uqtqhiqymz.mp4\n",
      "C:\\Users\\mahes\\ML\\dataset\\data unziped\\dfdc_train_part_0\\uqtqhiqymz.mp4\n",
      "C:\\Users\\mahes\\ML\\dataset\\data unziped\\dfdc_train_part_0\\uqtqhiqymz.mp4\n"
     ]
    },
    {
     "name": "stderr",
     "output_type": "stream",
     "text": [
      "Processing 500 videos:  91%|█████████ | 456/500 [6:54:05<38:42, 52.80s/it]"
     ]
    },
    {
     "name": "stdout",
     "output_type": "stream",
     "text": [
      "C:\\Users\\mahes\\ML\\dataset\\data unziped\\dfdc_train_part_0\\wfzjxzhdkj.mp4\n",
      "C:\\Users\\mahes\\ML\\dataset\\data unziped\\dfdc_train_part_0\\wfzjxzhdkj.mp4\n",
      "C:\\Users\\mahes\\ML\\dataset\\data unziped\\dfdc_train_part_0\\wfzjxzhdkj.mp4\n",
      "C:\\Users\\mahes\\ML\\dataset\\data unziped\\dfdc_train_part_0\\wfzjxzhdkj.mp4\n",
      "C:\\Users\\mahes\\ML\\dataset\\data unziped\\dfdc_train_part_0\\wfzjxzhdkj.mp4\n",
      "C:\\Users\\mahes\\ML\\dataset\\data unziped\\dfdc_train_part_0\\wfzjxzhdkj.mp4\n",
      "C:\\Users\\mahes\\ML\\dataset\\data unziped\\dfdc_train_part_0\\wfzjxzhdkj.mp4\n",
      "C:\\Users\\mahes\\ML\\dataset\\data unziped\\dfdc_train_part_0\\wfzjxzhdkj.mp4\n",
      "C:\\Users\\mahes\\ML\\dataset\\data unziped\\dfdc_train_part_0\\wfzjxzhdkj.mp4\n",
      "C:\\Users\\mahes\\ML\\dataset\\data unziped\\dfdc_train_part_0\\wfzjxzhdkj.mp4\n"
     ]
    },
    {
     "name": "stderr",
     "output_type": "stream",
     "text": [
      "Processing 500 videos:  91%|█████████▏| 457/500 [6:54:59<37:59, 53.01s/it]"
     ]
    },
    {
     "name": "stdout",
     "output_type": "stream",
     "text": [
      "C:\\Users\\mahes\\ML\\dataset\\data unziped\\dfdc_train_part_0\\fnslimfagb.mp4\n",
      "C:\\Users\\mahes\\ML\\dataset\\data unziped\\dfdc_train_part_0\\fnslimfagb.mp4\n",
      "C:\\Users\\mahes\\ML\\dataset\\data unziped\\dfdc_train_part_0\\fnslimfagb.mp4\n",
      "C:\\Users\\mahes\\ML\\dataset\\data unziped\\dfdc_train_part_0\\fnslimfagb.mp4\n",
      "C:\\Users\\mahes\\ML\\dataset\\data unziped\\dfdc_train_part_0\\fnslimfagb.mp4\n",
      "C:\\Users\\mahes\\ML\\dataset\\data unziped\\dfdc_train_part_0\\fnslimfagb.mp4\n",
      "C:\\Users\\mahes\\ML\\dataset\\data unziped\\dfdc_train_part_0\\fnslimfagb.mp4\n",
      "C:\\Users\\mahes\\ML\\dataset\\data unziped\\dfdc_train_part_0\\fnslimfagb.mp4\n",
      "C:\\Users\\mahes\\ML\\dataset\\data unziped\\dfdc_train_part_0\\fnslimfagb.mp4\n",
      "C:\\Users\\mahes\\ML\\dataset\\data unziped\\dfdc_train_part_0\\fnslimfagb.mp4\n"
     ]
    },
    {
     "name": "stderr",
     "output_type": "stream",
     "text": [
      "Processing 500 videos:  92%|█████████▏| 458/500 [6:55:55<37:54, 54.15s/it]"
     ]
    },
    {
     "name": "stdout",
     "output_type": "stream",
     "text": [
      "C:\\Users\\mahes\\ML\\dataset\\data unziped\\dfdc_train_part_0\\exseruhiuk.mp4\n",
      "C:\\Users\\mahes\\ML\\dataset\\data unziped\\dfdc_train_part_0\\exseruhiuk.mp4\n",
      "C:\\Users\\mahes\\ML\\dataset\\data unziped\\dfdc_train_part_0\\exseruhiuk.mp4\n",
      "C:\\Users\\mahes\\ML\\dataset\\data unziped\\dfdc_train_part_0\\exseruhiuk.mp4\n",
      "C:\\Users\\mahes\\ML\\dataset\\data unziped\\dfdc_train_part_0\\exseruhiuk.mp4\n",
      "C:\\Users\\mahes\\ML\\dataset\\data unziped\\dfdc_train_part_0\\exseruhiuk.mp4\n",
      "C:\\Users\\mahes\\ML\\dataset\\data unziped\\dfdc_train_part_0\\exseruhiuk.mp4\n",
      "C:\\Users\\mahes\\ML\\dataset\\data unziped\\dfdc_train_part_0\\exseruhiuk.mp4\n",
      "C:\\Users\\mahes\\ML\\dataset\\data unziped\\dfdc_train_part_0\\exseruhiuk.mp4\n",
      "C:\\Users\\mahes\\ML\\dataset\\data unziped\\dfdc_train_part_0\\exseruhiuk.mp4\n"
     ]
    },
    {
     "name": "stderr",
     "output_type": "stream",
     "text": [
      "Processing 500 videos:  92%|█████████▏| 459/500 [6:56:46<36:14, 53.04s/it]"
     ]
    },
    {
     "name": "stdout",
     "output_type": "stream",
     "text": [
      "C:\\Users\\mahes\\ML\\dataset\\data unziped\\dfdc_train_part_0\\jytrvwlewz.mp4\n",
      "C:\\Users\\mahes\\ML\\dataset\\data unziped\\dfdc_train_part_0\\jytrvwlewz.mp4\n",
      "C:\\Users\\mahes\\ML\\dataset\\data unziped\\dfdc_train_part_0\\jytrvwlewz.mp4\n",
      "C:\\Users\\mahes\\ML\\dataset\\data unziped\\dfdc_train_part_0\\jytrvwlewz.mp4\n",
      "C:\\Users\\mahes\\ML\\dataset\\data unziped\\dfdc_train_part_0\\jytrvwlewz.mp4\n",
      "C:\\Users\\mahes\\ML\\dataset\\data unziped\\dfdc_train_part_0\\jytrvwlewz.mp4\n",
      "C:\\Users\\mahes\\ML\\dataset\\data unziped\\dfdc_train_part_0\\jytrvwlewz.mp4\n",
      "C:\\Users\\mahes\\ML\\dataset\\data unziped\\dfdc_train_part_0\\jytrvwlewz.mp4\n",
      "C:\\Users\\mahes\\ML\\dataset\\data unziped\\dfdc_train_part_0\\jytrvwlewz.mp4\n",
      "C:\\Users\\mahes\\ML\\dataset\\data unziped\\dfdc_train_part_0\\jytrvwlewz.mp4\n"
     ]
    },
    {
     "name": "stderr",
     "output_type": "stream",
     "text": [
      "Processing 500 videos:  92%|█████████▏| 460/500 [6:57:34<34:20, 51.51s/it]"
     ]
    },
    {
     "name": "stdout",
     "output_type": "stream",
     "text": [
      "C:\\Users\\mahes\\ML\\dataset\\data unziped\\dfdc_train_part_0\\vmxfwxgdei.mp4\n",
      "C:\\Users\\mahes\\ML\\dataset\\data unziped\\dfdc_train_part_0\\vmxfwxgdei.mp4\n",
      "C:\\Users\\mahes\\ML\\dataset\\data unziped\\dfdc_train_part_0\\vmxfwxgdei.mp4\n",
      "C:\\Users\\mahes\\ML\\dataset\\data unziped\\dfdc_train_part_0\\vmxfwxgdei.mp4\n",
      "C:\\Users\\mahes\\ML\\dataset\\data unziped\\dfdc_train_part_0\\vmxfwxgdei.mp4\n",
      "C:\\Users\\mahes\\ML\\dataset\\data unziped\\dfdc_train_part_0\\vmxfwxgdei.mp4\n",
      "C:\\Users\\mahes\\ML\\dataset\\data unziped\\dfdc_train_part_0\\vmxfwxgdei.mp4\n",
      "C:\\Users\\mahes\\ML\\dataset\\data unziped\\dfdc_train_part_0\\vmxfwxgdei.mp4\n",
      "C:\\Users\\mahes\\ML\\dataset\\data unziped\\dfdc_train_part_0\\vmxfwxgdei.mp4\n",
      "C:\\Users\\mahes\\ML\\dataset\\data unziped\\dfdc_train_part_0\\vmxfwxgdei.mp4\n"
     ]
    },
    {
     "name": "stderr",
     "output_type": "stream",
     "text": [
      "Processing 500 videos:  92%|█████████▏| 461/500 [6:58:28<33:55, 52.20s/it]"
     ]
    },
    {
     "name": "stdout",
     "output_type": "stream",
     "text": [
      "C:\\Users\\mahes\\ML\\dataset\\data unziped\\dfdc_train_part_0\\fsaronfupy.mp4\n",
      "C:\\Users\\mahes\\ML\\dataset\\data unziped\\dfdc_train_part_0\\fsaronfupy.mp4\n",
      "C:\\Users\\mahes\\ML\\dataset\\data unziped\\dfdc_train_part_0\\fsaronfupy.mp4\n",
      "C:\\Users\\mahes\\ML\\dataset\\data unziped\\dfdc_train_part_0\\fsaronfupy.mp4\n",
      "C:\\Users\\mahes\\ML\\dataset\\data unziped\\dfdc_train_part_0\\fsaronfupy.mp4\n",
      "C:\\Users\\mahes\\ML\\dataset\\data unziped\\dfdc_train_part_0\\fsaronfupy.mp4\n",
      "C:\\Users\\mahes\\ML\\dataset\\data unziped\\dfdc_train_part_0\\fsaronfupy.mp4\n",
      "C:\\Users\\mahes\\ML\\dataset\\data unziped\\dfdc_train_part_0\\fsaronfupy.mp4\n",
      "C:\\Users\\mahes\\ML\\dataset\\data unziped\\dfdc_train_part_0\\fsaronfupy.mp4\n",
      "C:\\Users\\mahes\\ML\\dataset\\data unziped\\dfdc_train_part_0\\fsaronfupy.mp4\n"
     ]
    },
    {
     "name": "stderr",
     "output_type": "stream",
     "text": [
      "Processing 500 videos:  92%|█████████▏| 462/500 [6:59:16<32:22, 51.12s/it]"
     ]
    },
    {
     "name": "stdout",
     "output_type": "stream",
     "text": [
      "C:\\Users\\mahes\\ML\\dataset\\data unziped\\dfdc_train_part_0\\jawgcggquk.mp4\n",
      "C:\\Users\\mahes\\ML\\dataset\\data unziped\\dfdc_train_part_0\\jawgcggquk.mp4\n",
      "C:\\Users\\mahes\\ML\\dataset\\data unziped\\dfdc_train_part_0\\jawgcggquk.mp4\n",
      "C:\\Users\\mahes\\ML\\dataset\\data unziped\\dfdc_train_part_0\\jawgcggquk.mp4\n",
      "C:\\Users\\mahes\\ML\\dataset\\data unziped\\dfdc_train_part_0\\jawgcggquk.mp4\n",
      "C:\\Users\\mahes\\ML\\dataset\\data unziped\\dfdc_train_part_0\\jawgcggquk.mp4\n",
      "C:\\Users\\mahes\\ML\\dataset\\data unziped\\dfdc_train_part_0\\jawgcggquk.mp4\n",
      "C:\\Users\\mahes\\ML\\dataset\\data unziped\\dfdc_train_part_0\\jawgcggquk.mp4\n",
      "C:\\Users\\mahes\\ML\\dataset\\data unziped\\dfdc_train_part_0\\jawgcggquk.mp4\n",
      "C:\\Users\\mahes\\ML\\dataset\\data unziped\\dfdc_train_part_0\\jawgcggquk.mp4\n"
     ]
    },
    {
     "name": "stderr",
     "output_type": "stream",
     "text": [
      "Processing 500 videos:  93%|█████████▎| 463/500 [7:00:02<30:33, 49.56s/it]"
     ]
    },
    {
     "name": "stdout",
     "output_type": "stream",
     "text": [
      "C:\\Users\\mahes\\ML\\dataset\\data unziped\\dfdc_train_part_0\\uqtqhiqymz.mp4\n",
      "C:\\Users\\mahes\\ML\\dataset\\data unziped\\dfdc_train_part_0\\uqtqhiqymz.mp4\n",
      "C:\\Users\\mahes\\ML\\dataset\\data unziped\\dfdc_train_part_0\\uqtqhiqymz.mp4\n",
      "C:\\Users\\mahes\\ML\\dataset\\data unziped\\dfdc_train_part_0\\uqtqhiqymz.mp4\n",
      "C:\\Users\\mahes\\ML\\dataset\\data unziped\\dfdc_train_part_0\\uqtqhiqymz.mp4\n",
      "C:\\Users\\mahes\\ML\\dataset\\data unziped\\dfdc_train_part_0\\uqtqhiqymz.mp4\n",
      "C:\\Users\\mahes\\ML\\dataset\\data unziped\\dfdc_train_part_0\\uqtqhiqymz.mp4\n",
      "C:\\Users\\mahes\\ML\\dataset\\data unziped\\dfdc_train_part_0\\uqtqhiqymz.mp4\n",
      "C:\\Users\\mahes\\ML\\dataset\\data unziped\\dfdc_train_part_0\\uqtqhiqymz.mp4\n",
      "C:\\Users\\mahes\\ML\\dataset\\data unziped\\dfdc_train_part_0\\uqtqhiqymz.mp4\n"
     ]
    },
    {
     "name": "stderr",
     "output_type": "stream",
     "text": [
      "Processing 500 videos:  93%|█████████▎| 464/500 [7:00:57<30:47, 51.33s/it]"
     ]
    },
    {
     "name": "stdout",
     "output_type": "stream",
     "text": [
      "C:\\Users\\mahes\\ML\\dataset\\data unziped\\dfdc_train_part_0\\fdpisghkmd.mp4\n",
      "C:\\Users\\mahes\\ML\\dataset\\data unziped\\dfdc_train_part_0\\fdpisghkmd.mp4\n",
      "C:\\Users\\mahes\\ML\\dataset\\data unziped\\dfdc_train_part_0\\fdpisghkmd.mp4\n",
      "C:\\Users\\mahes\\ML\\dataset\\data unziped\\dfdc_train_part_0\\fdpisghkmd.mp4\n",
      "C:\\Users\\mahes\\ML\\dataset\\data unziped\\dfdc_train_part_0\\fdpisghkmd.mp4\n",
      "C:\\Users\\mahes\\ML\\dataset\\data unziped\\dfdc_train_part_0\\fdpisghkmd.mp4\n",
      "C:\\Users\\mahes\\ML\\dataset\\data unziped\\dfdc_train_part_0\\fdpisghkmd.mp4\n",
      "C:\\Users\\mahes\\ML\\dataset\\data unziped\\dfdc_train_part_0\\fdpisghkmd.mp4\n",
      "C:\\Users\\mahes\\ML\\dataset\\data unziped\\dfdc_train_part_0\\fdpisghkmd.mp4\n",
      "C:\\Users\\mahes\\ML\\dataset\\data unziped\\dfdc_train_part_0\\fdpisghkmd.mp4\n"
     ]
    },
    {
     "name": "stderr",
     "output_type": "stream",
     "text": [
      "Processing 500 videos:  93%|█████████▎| 465/500 [7:01:48<29:43, 50.95s/it]"
     ]
    },
    {
     "name": "stdout",
     "output_type": "stream",
     "text": [
      "C:\\Users\\mahes\\ML\\dataset\\data unziped\\dfdc_train_part_0\\vtunvalyji.mp4\n",
      "C:\\Users\\mahes\\ML\\dataset\\data unziped\\dfdc_train_part_0\\vtunvalyji.mp4\n",
      "C:\\Users\\mahes\\ML\\dataset\\data unziped\\dfdc_train_part_0\\vtunvalyji.mp4\n",
      "C:\\Users\\mahes\\ML\\dataset\\data unziped\\dfdc_train_part_0\\vtunvalyji.mp4\n",
      "C:\\Users\\mahes\\ML\\dataset\\data unziped\\dfdc_train_part_0\\vtunvalyji.mp4\n",
      "C:\\Users\\mahes\\ML\\dataset\\data unziped\\dfdc_train_part_0\\vtunvalyji.mp4\n",
      "C:\\Users\\mahes\\ML\\dataset\\data unziped\\dfdc_train_part_0\\vtunvalyji.mp4\n",
      "C:\\Users\\mahes\\ML\\dataset\\data unziped\\dfdc_train_part_0\\vtunvalyji.mp4\n",
      "C:\\Users\\mahes\\ML\\dataset\\data unziped\\dfdc_train_part_0\\vtunvalyji.mp4\n",
      "C:\\Users\\mahes\\ML\\dataset\\data unziped\\dfdc_train_part_0\\vtunvalyji.mp4\n"
     ]
    },
    {
     "name": "stderr",
     "output_type": "stream",
     "text": [
      "Processing 500 videos:  93%|█████████▎| 466/500 [7:02:38<28:51, 50.93s/it]"
     ]
    },
    {
     "name": "stdout",
     "output_type": "stream",
     "text": [
      "C:\\Users\\mahes\\ML\\dataset\\data unziped\\dfdc_train_part_0\\kqlvggiqee.mp4\n",
      "C:\\Users\\mahes\\ML\\dataset\\data unziped\\dfdc_train_part_0\\kqlvggiqee.mp4\n",
      "C:\\Users\\mahes\\ML\\dataset\\data unziped\\dfdc_train_part_0\\kqlvggiqee.mp4\n",
      "C:\\Users\\mahes\\ML\\dataset\\data unziped\\dfdc_train_part_0\\kqlvggiqee.mp4\n",
      "C:\\Users\\mahes\\ML\\dataset\\data unziped\\dfdc_train_part_0\\kqlvggiqee.mp4\n",
      "C:\\Users\\mahes\\ML\\dataset\\data unziped\\dfdc_train_part_0\\kqlvggiqee.mp4\n",
      "C:\\Users\\mahes\\ML\\dataset\\data unziped\\dfdc_train_part_0\\kqlvggiqee.mp4\n",
      "C:\\Users\\mahes\\ML\\dataset\\data unziped\\dfdc_train_part_0\\kqlvggiqee.mp4\n",
      "C:\\Users\\mahes\\ML\\dataset\\data unziped\\dfdc_train_part_0\\kqlvggiqee.mp4\n",
      "C:\\Users\\mahes\\ML\\dataset\\data unziped\\dfdc_train_part_0\\kqlvggiqee.mp4\n"
     ]
    },
    {
     "name": "stderr",
     "output_type": "stream",
     "text": [
      "Processing 500 videos:  93%|█████████▎| 467/500 [7:03:26<27:23, 49.80s/it]"
     ]
    },
    {
     "name": "stdout",
     "output_type": "stream",
     "text": [
      "C:\\Users\\mahes\\ML\\dataset\\data unziped\\dfdc_train_part_0\\wfzjxzhdkj.mp4\n",
      "C:\\Users\\mahes\\ML\\dataset\\data unziped\\dfdc_train_part_0\\wfzjxzhdkj.mp4\n",
      "C:\\Users\\mahes\\ML\\dataset\\data unziped\\dfdc_train_part_0\\wfzjxzhdkj.mp4\n",
      "C:\\Users\\mahes\\ML\\dataset\\data unziped\\dfdc_train_part_0\\wfzjxzhdkj.mp4\n",
      "C:\\Users\\mahes\\ML\\dataset\\data unziped\\dfdc_train_part_0\\wfzjxzhdkj.mp4\n",
      "C:\\Users\\mahes\\ML\\dataset\\data unziped\\dfdc_train_part_0\\wfzjxzhdkj.mp4\n",
      "C:\\Users\\mahes\\ML\\dataset\\data unziped\\dfdc_train_part_0\\wfzjxzhdkj.mp4\n",
      "C:\\Users\\mahes\\ML\\dataset\\data unziped\\dfdc_train_part_0\\wfzjxzhdkj.mp4\n",
      "C:\\Users\\mahes\\ML\\dataset\\data unziped\\dfdc_train_part_0\\wfzjxzhdkj.mp4\n",
      "C:\\Users\\mahes\\ML\\dataset\\data unziped\\dfdc_train_part_0\\wfzjxzhdkj.mp4\n"
     ]
    },
    {
     "name": "stderr",
     "output_type": "stream",
     "text": [
      "Processing 500 videos:  94%|█████████▎| 468/500 [7:04:20<27:15, 51.10s/it]"
     ]
    },
    {
     "name": "stdout",
     "output_type": "stream",
     "text": [
      "C:\\Users\\mahes\\ML\\dataset\\data unziped\\dfdc_train_part_0\\wclvkepakb.mp4\n",
      "C:\\Users\\mahes\\ML\\dataset\\data unziped\\dfdc_train_part_0\\wclvkepakb.mp4\n",
      "C:\\Users\\mahes\\ML\\dataset\\data unziped\\dfdc_train_part_0\\wclvkepakb.mp4\n",
      "C:\\Users\\mahes\\ML\\dataset\\data unziped\\dfdc_train_part_0\\wclvkepakb.mp4\n",
      "C:\\Users\\mahes\\ML\\dataset\\data unziped\\dfdc_train_part_0\\wclvkepakb.mp4\n",
      "C:\\Users\\mahes\\ML\\dataset\\data unziped\\dfdc_train_part_0\\wclvkepakb.mp4\n",
      "C:\\Users\\mahes\\ML\\dataset\\data unziped\\dfdc_train_part_0\\wclvkepakb.mp4\n",
      "C:\\Users\\mahes\\ML\\dataset\\data unziped\\dfdc_train_part_0\\wclvkepakb.mp4\n",
      "C:\\Users\\mahes\\ML\\dataset\\data unziped\\dfdc_train_part_0\\wclvkepakb.mp4\n",
      "C:\\Users\\mahes\\ML\\dataset\\data unziped\\dfdc_train_part_0\\wclvkepakb.mp4\n"
     ]
    },
    {
     "name": "stderr",
     "output_type": "stream",
     "text": [
      "Processing 500 videos:  94%|█████████▍| 469/500 [7:05:07<25:48, 49.95s/it]"
     ]
    },
    {
     "name": "stdout",
     "output_type": "stream",
     "text": [
      "C:\\Users\\mahes\\ML\\dataset\\data unziped\\dfdc_train_part_0\\gcdtglsoqj.mp4\n",
      "C:\\Users\\mahes\\ML\\dataset\\data unziped\\dfdc_train_part_0\\gcdtglsoqj.mp4\n",
      "C:\\Users\\mahes\\ML\\dataset\\data unziped\\dfdc_train_part_0\\gcdtglsoqj.mp4\n",
      "C:\\Users\\mahes\\ML\\dataset\\data unziped\\dfdc_train_part_0\\gcdtglsoqj.mp4\n",
      "C:\\Users\\mahes\\ML\\dataset\\data unziped\\dfdc_train_part_0\\gcdtglsoqj.mp4\n",
      "C:\\Users\\mahes\\ML\\dataset\\data unziped\\dfdc_train_part_0\\gcdtglsoqj.mp4\n",
      "C:\\Users\\mahes\\ML\\dataset\\data unziped\\dfdc_train_part_0\\gcdtglsoqj.mp4\n",
      "C:\\Users\\mahes\\ML\\dataset\\data unziped\\dfdc_train_part_0\\gcdtglsoqj.mp4\n",
      "C:\\Users\\mahes\\ML\\dataset\\data unziped\\dfdc_train_part_0\\gcdtglsoqj.mp4\n",
      "C:\\Users\\mahes\\ML\\dataset\\data unziped\\dfdc_train_part_0\\gcdtglsoqj.mp4\n"
     ]
    },
    {
     "name": "stderr",
     "output_type": "stream",
     "text": [
      "Processing 500 videos:  94%|█████████▍| 470/500 [7:06:06<26:24, 52.81s/it]"
     ]
    },
    {
     "name": "stdout",
     "output_type": "stream",
     "text": [
      "C:\\Users\\mahes\\ML\\dataset\\data unziped\\dfdc_train_part_0\\fdpisghkmd.mp4\n",
      "C:\\Users\\mahes\\ML\\dataset\\data unziped\\dfdc_train_part_0\\fdpisghkmd.mp4\n",
      "C:\\Users\\mahes\\ML\\dataset\\data unziped\\dfdc_train_part_0\\fdpisghkmd.mp4\n",
      "C:\\Users\\mahes\\ML\\dataset\\data unziped\\dfdc_train_part_0\\fdpisghkmd.mp4\n",
      "C:\\Users\\mahes\\ML\\dataset\\data unziped\\dfdc_train_part_0\\fdpisghkmd.mp4\n",
      "C:\\Users\\mahes\\ML\\dataset\\data unziped\\dfdc_train_part_0\\fdpisghkmd.mp4\n",
      "C:\\Users\\mahes\\ML\\dataset\\data unziped\\dfdc_train_part_0\\fdpisghkmd.mp4\n",
      "C:\\Users\\mahes\\ML\\dataset\\data unziped\\dfdc_train_part_0\\fdpisghkmd.mp4\n",
      "C:\\Users\\mahes\\ML\\dataset\\data unziped\\dfdc_train_part_0\\fdpisghkmd.mp4\n",
      "C:\\Users\\mahes\\ML\\dataset\\data unziped\\dfdc_train_part_0\\fdpisghkmd.mp4\n"
     ]
    },
    {
     "name": "stderr",
     "output_type": "stream",
     "text": [
      "Processing 500 videos:  94%|█████████▍| 471/500 [7:06:56<25:06, 51.93s/it]"
     ]
    },
    {
     "name": "stdout",
     "output_type": "stream",
     "text": [
      "C:\\Users\\mahes\\ML\\dataset\\data unziped\\dfdc_train_part_0\\nrnklcxdzq.mp4\n",
      "C:\\Users\\mahes\\ML\\dataset\\data unziped\\dfdc_train_part_0\\nrnklcxdzq.mp4\n",
      "C:\\Users\\mahes\\ML\\dataset\\data unziped\\dfdc_train_part_0\\nrnklcxdzq.mp4\n",
      "C:\\Users\\mahes\\ML\\dataset\\data unziped\\dfdc_train_part_0\\nrnklcxdzq.mp4\n",
      "C:\\Users\\mahes\\ML\\dataset\\data unziped\\dfdc_train_part_0\\nrnklcxdzq.mp4\n",
      "C:\\Users\\mahes\\ML\\dataset\\data unziped\\dfdc_train_part_0\\nrnklcxdzq.mp4\n",
      "C:\\Users\\mahes\\ML\\dataset\\data unziped\\dfdc_train_part_0\\nrnklcxdzq.mp4\n",
      "C:\\Users\\mahes\\ML\\dataset\\data unziped\\dfdc_train_part_0\\nrnklcxdzq.mp4\n",
      "C:\\Users\\mahes\\ML\\dataset\\data unziped\\dfdc_train_part_0\\nrnklcxdzq.mp4\n",
      "C:\\Users\\mahes\\ML\\dataset\\data unziped\\dfdc_train_part_0\\nrnklcxdzq.mp4\n"
     ]
    },
    {
     "name": "stderr",
     "output_type": "stream",
     "text": [
      "Processing 500 videos:  94%|█████████▍| 472/500 [7:07:53<24:53, 53.36s/it]"
     ]
    },
    {
     "name": "stdout",
     "output_type": "stream",
     "text": [
      "C:\\Users\\mahes\\ML\\dataset\\data unziped\\dfdc_train_part_0\\fdpisghkmd.mp4\n",
      "C:\\Users\\mahes\\ML\\dataset\\data unziped\\dfdc_train_part_0\\fdpisghkmd.mp4\n",
      "C:\\Users\\mahes\\ML\\dataset\\data unziped\\dfdc_train_part_0\\fdpisghkmd.mp4\n",
      "C:\\Users\\mahes\\ML\\dataset\\data unziped\\dfdc_train_part_0\\fdpisghkmd.mp4\n",
      "C:\\Users\\mahes\\ML\\dataset\\data unziped\\dfdc_train_part_0\\fdpisghkmd.mp4\n",
      "C:\\Users\\mahes\\ML\\dataset\\data unziped\\dfdc_train_part_0\\fdpisghkmd.mp4\n",
      "C:\\Users\\mahes\\ML\\dataset\\data unziped\\dfdc_train_part_0\\fdpisghkmd.mp4\n",
      "C:\\Users\\mahes\\ML\\dataset\\data unziped\\dfdc_train_part_0\\fdpisghkmd.mp4\n",
      "C:\\Users\\mahes\\ML\\dataset\\data unziped\\dfdc_train_part_0\\fdpisghkmd.mp4\n",
      "C:\\Users\\mahes\\ML\\dataset\\data unziped\\dfdc_train_part_0\\fdpisghkmd.mp4\n"
     ]
    },
    {
     "name": "stderr",
     "output_type": "stream",
     "text": [
      "Processing 500 videos:  95%|█████████▍| 473/500 [7:08:43<23:35, 52.42s/it]"
     ]
    },
    {
     "name": "stdout",
     "output_type": "stream",
     "text": [
      "C:\\Users\\mahes\\ML\\dataset\\data unziped\\dfdc_train_part_0\\sttnfyptum.mp4\n",
      "C:\\Users\\mahes\\ML\\dataset\\data unziped\\dfdc_train_part_0\\sttnfyptum.mp4\n",
      "C:\\Users\\mahes\\ML\\dataset\\data unziped\\dfdc_train_part_0\\sttnfyptum.mp4\n",
      "C:\\Users\\mahes\\ML\\dataset\\data unziped\\dfdc_train_part_0\\sttnfyptum.mp4\n",
      "C:\\Users\\mahes\\ML\\dataset\\data unziped\\dfdc_train_part_0\\sttnfyptum.mp4\n",
      "C:\\Users\\mahes\\ML\\dataset\\data unziped\\dfdc_train_part_0\\sttnfyptum.mp4\n",
      "C:\\Users\\mahes\\ML\\dataset\\data unziped\\dfdc_train_part_0\\sttnfyptum.mp4\n",
      "C:\\Users\\mahes\\ML\\dataset\\data unziped\\dfdc_train_part_0\\sttnfyptum.mp4\n",
      "C:\\Users\\mahes\\ML\\dataset\\data unziped\\dfdc_train_part_0\\sttnfyptum.mp4\n",
      "C:\\Users\\mahes\\ML\\dataset\\data unziped\\dfdc_train_part_0\\sttnfyptum.mp4\n"
     ]
    },
    {
     "name": "stderr",
     "output_type": "stream",
     "text": [
      "Processing 500 videos:  95%|█████████▍| 474/500 [7:09:40<23:13, 53.62s/it]"
     ]
    },
    {
     "name": "stdout",
     "output_type": "stream",
     "text": [
      "C:\\Users\\mahes\\ML\\dataset\\data unziped\\dfdc_train_part_0\\prdrkaxeob.mp4\n",
      "C:\\Users\\mahes\\ML\\dataset\\data unziped\\dfdc_train_part_0\\prdrkaxeob.mp4\n",
      "C:\\Users\\mahes\\ML\\dataset\\data unziped\\dfdc_train_part_0\\prdrkaxeob.mp4\n",
      "C:\\Users\\mahes\\ML\\dataset\\data unziped\\dfdc_train_part_0\\prdrkaxeob.mp4\n",
      "C:\\Users\\mahes\\ML\\dataset\\data unziped\\dfdc_train_part_0\\prdrkaxeob.mp4\n",
      "C:\\Users\\mahes\\ML\\dataset\\data unziped\\dfdc_train_part_0\\prdrkaxeob.mp4\n",
      "C:\\Users\\mahes\\ML\\dataset\\data unziped\\dfdc_train_part_0\\prdrkaxeob.mp4\n",
      "C:\\Users\\mahes\\ML\\dataset\\data unziped\\dfdc_train_part_0\\prdrkaxeob.mp4\n",
      "C:\\Users\\mahes\\ML\\dataset\\data unziped\\dfdc_train_part_0\\prdrkaxeob.mp4\n",
      "C:\\Users\\mahes\\ML\\dataset\\data unziped\\dfdc_train_part_0\\prdrkaxeob.mp4\n"
     ]
    },
    {
     "name": "stderr",
     "output_type": "stream",
     "text": [
      "Processing 500 videos:  95%|█████████▌| 475/500 [7:10:33<22:17, 53.50s/it]"
     ]
    },
    {
     "name": "stdout",
     "output_type": "stream",
     "text": [
      "C:\\Users\\mahes\\ML\\dataset\\data unziped\\dfdc_train_part_0\\sylnrepacf.mp4\n",
      "C:\\Users\\mahes\\ML\\dataset\\data unziped\\dfdc_train_part_0\\sylnrepacf.mp4\n",
      "C:\\Users\\mahes\\ML\\dataset\\data unziped\\dfdc_train_part_0\\sylnrepacf.mp4\n",
      "C:\\Users\\mahes\\ML\\dataset\\data unziped\\dfdc_train_part_0\\sylnrepacf.mp4\n",
      "C:\\Users\\mahes\\ML\\dataset\\data unziped\\dfdc_train_part_0\\sylnrepacf.mp4\n",
      "C:\\Users\\mahes\\ML\\dataset\\data unziped\\dfdc_train_part_0\\sylnrepacf.mp4\n",
      "C:\\Users\\mahes\\ML\\dataset\\data unziped\\dfdc_train_part_0\\sylnrepacf.mp4\n",
      "C:\\Users\\mahes\\ML\\dataset\\data unziped\\dfdc_train_part_0\\sylnrepacf.mp4\n",
      "C:\\Users\\mahes\\ML\\dataset\\data unziped\\dfdc_train_part_0\\sylnrepacf.mp4\n",
      "C:\\Users\\mahes\\ML\\dataset\\data unziped\\dfdc_train_part_0\\sylnrepacf.mp4\n"
     ]
    },
    {
     "name": "stderr",
     "output_type": "stream",
     "text": [
      "Processing 500 videos:  95%|█████████▌| 476/500 [7:11:27<21:25, 53.58s/it]"
     ]
    },
    {
     "name": "stdout",
     "output_type": "stream",
     "text": [
      "C:\\Users\\mahes\\ML\\dataset\\data unziped\\dfdc_train_part_0\\yxvmusxvcz.mp4\n",
      "C:\\Users\\mahes\\ML\\dataset\\data unziped\\dfdc_train_part_0\\yxvmusxvcz.mp4\n",
      "C:\\Users\\mahes\\ML\\dataset\\data unziped\\dfdc_train_part_0\\yxvmusxvcz.mp4\n",
      "C:\\Users\\mahes\\ML\\dataset\\data unziped\\dfdc_train_part_0\\yxvmusxvcz.mp4\n",
      "C:\\Users\\mahes\\ML\\dataset\\data unziped\\dfdc_train_part_0\\yxvmusxvcz.mp4\n",
      "C:\\Users\\mahes\\ML\\dataset\\data unziped\\dfdc_train_part_0\\yxvmusxvcz.mp4\n",
      "C:\\Users\\mahes\\ML\\dataset\\data unziped\\dfdc_train_part_0\\yxvmusxvcz.mp4\n",
      "C:\\Users\\mahes\\ML\\dataset\\data unziped\\dfdc_train_part_0\\yxvmusxvcz.mp4\n",
      "C:\\Users\\mahes\\ML\\dataset\\data unziped\\dfdc_train_part_0\\yxvmusxvcz.mp4\n",
      "C:\\Users\\mahes\\ML\\dataset\\data unziped\\dfdc_train_part_0\\yxvmusxvcz.mp4\n"
     ]
    },
    {
     "name": "stderr",
     "output_type": "stream",
     "text": [
      "Processing 500 videos:  95%|█████████▌| 477/500 [7:12:14<19:49, 51.73s/it]"
     ]
    },
    {
     "name": "stdout",
     "output_type": "stream",
     "text": [
      "C:\\Users\\mahes\\ML\\dataset\\data unziped\\dfdc_train_part_0\\lnjkpdviqb.mp4\n",
      "C:\\Users\\mahes\\ML\\dataset\\data unziped\\dfdc_train_part_0\\lnjkpdviqb.mp4\n",
      "C:\\Users\\mahes\\ML\\dataset\\data unziped\\dfdc_train_part_0\\lnjkpdviqb.mp4\n",
      "C:\\Users\\mahes\\ML\\dataset\\data unziped\\dfdc_train_part_0\\lnjkpdviqb.mp4\n",
      "C:\\Users\\mahes\\ML\\dataset\\data unziped\\dfdc_train_part_0\\lnjkpdviqb.mp4\n",
      "C:\\Users\\mahes\\ML\\dataset\\data unziped\\dfdc_train_part_0\\lnjkpdviqb.mp4\n",
      "C:\\Users\\mahes\\ML\\dataset\\data unziped\\dfdc_train_part_0\\lnjkpdviqb.mp4\n",
      "C:\\Users\\mahes\\ML\\dataset\\data unziped\\dfdc_train_part_0\\lnjkpdviqb.mp4\n",
      "C:\\Users\\mahes\\ML\\dataset\\data unziped\\dfdc_train_part_0\\lnjkpdviqb.mp4\n",
      "C:\\Users\\mahes\\ML\\dataset\\data unziped\\dfdc_train_part_0\\lnjkpdviqb.mp4\n"
     ]
    },
    {
     "name": "stderr",
     "output_type": "stream",
     "text": [
      "Processing 500 videos:  96%|█████████▌| 478/500 [7:13:10<19:22, 52.85s/it]"
     ]
    },
    {
     "name": "stdout",
     "output_type": "stream",
     "text": [
      "C:\\Users\\mahes\\ML\\dataset\\data unziped\\dfdc_train_part_0\\eppyqpgewp.mp4\n",
      "C:\\Users\\mahes\\ML\\dataset\\data unziped\\dfdc_train_part_0\\eppyqpgewp.mp4\n",
      "C:\\Users\\mahes\\ML\\dataset\\data unziped\\dfdc_train_part_0\\eppyqpgewp.mp4\n",
      "C:\\Users\\mahes\\ML\\dataset\\data unziped\\dfdc_train_part_0\\eppyqpgewp.mp4\n",
      "C:\\Users\\mahes\\ML\\dataset\\data unziped\\dfdc_train_part_0\\eppyqpgewp.mp4\n",
      "C:\\Users\\mahes\\ML\\dataset\\data unziped\\dfdc_train_part_0\\eppyqpgewp.mp4\n",
      "C:\\Users\\mahes\\ML\\dataset\\data unziped\\dfdc_train_part_0\\eppyqpgewp.mp4\n",
      "C:\\Users\\mahes\\ML\\dataset\\data unziped\\dfdc_train_part_0\\eppyqpgewp.mp4\n",
      "C:\\Users\\mahes\\ML\\dataset\\data unziped\\dfdc_train_part_0\\eppyqpgewp.mp4\n",
      "C:\\Users\\mahes\\ML\\dataset\\data unziped\\dfdc_train_part_0\\eppyqpgewp.mp4\n"
     ]
    },
    {
     "name": "stderr",
     "output_type": "stream",
     "text": [
      "Processing 500 videos:  96%|█████████▌| 479/500 [7:14:02<18:29, 52.85s/it]"
     ]
    },
    {
     "name": "stdout",
     "output_type": "stream",
     "text": [
      "C:\\Users\\mahes\\ML\\dataset\\data unziped\\dfdc_train_part_0\\syxobtuucp.mp4\n",
      "C:\\Users\\mahes\\ML\\dataset\\data unziped\\dfdc_train_part_0\\syxobtuucp.mp4\n",
      "C:\\Users\\mahes\\ML\\dataset\\data unziped\\dfdc_train_part_0\\syxobtuucp.mp4\n",
      "C:\\Users\\mahes\\ML\\dataset\\data unziped\\dfdc_train_part_0\\syxobtuucp.mp4\n",
      "C:\\Users\\mahes\\ML\\dataset\\data unziped\\dfdc_train_part_0\\syxobtuucp.mp4\n",
      "C:\\Users\\mahes\\ML\\dataset\\data unziped\\dfdc_train_part_0\\syxobtuucp.mp4\n",
      "C:\\Users\\mahes\\ML\\dataset\\data unziped\\dfdc_train_part_0\\syxobtuucp.mp4\n",
      "C:\\Users\\mahes\\ML\\dataset\\data unziped\\dfdc_train_part_0\\syxobtuucp.mp4\n",
      "C:\\Users\\mahes\\ML\\dataset\\data unziped\\dfdc_train_part_0\\syxobtuucp.mp4\n",
      "C:\\Users\\mahes\\ML\\dataset\\data unziped\\dfdc_train_part_0\\syxobtuucp.mp4\n"
     ]
    },
    {
     "name": "stderr",
     "output_type": "stream",
     "text": [
      "Processing 500 videos:  96%|█████████▌| 480/500 [7:14:49<16:59, 50.98s/it]"
     ]
    },
    {
     "name": "stdout",
     "output_type": "stream",
     "text": [
      "C:\\Users\\mahes\\ML\\dataset\\data unziped\\dfdc_train_part_0\\hivnldfvyl.mp4\n",
      "C:\\Users\\mahes\\ML\\dataset\\data unziped\\dfdc_train_part_0\\hivnldfvyl.mp4\n",
      "C:\\Users\\mahes\\ML\\dataset\\data unziped\\dfdc_train_part_0\\hivnldfvyl.mp4\n",
      "C:\\Users\\mahes\\ML\\dataset\\data unziped\\dfdc_train_part_0\\hivnldfvyl.mp4\n",
      "C:\\Users\\mahes\\ML\\dataset\\data unziped\\dfdc_train_part_0\\hivnldfvyl.mp4\n",
      "C:\\Users\\mahes\\ML\\dataset\\data unziped\\dfdc_train_part_0\\hivnldfvyl.mp4\n",
      "C:\\Users\\mahes\\ML\\dataset\\data unziped\\dfdc_train_part_0\\hivnldfvyl.mp4\n",
      "C:\\Users\\mahes\\ML\\dataset\\data unziped\\dfdc_train_part_0\\hivnldfvyl.mp4\n",
      "C:\\Users\\mahes\\ML\\dataset\\data unziped\\dfdc_train_part_0\\hivnldfvyl.mp4\n",
      "C:\\Users\\mahes\\ML\\dataset\\data unziped\\dfdc_train_part_0\\hivnldfvyl.mp4\n"
     ]
    },
    {
     "name": "stderr",
     "output_type": "stream",
     "text": [
      "Processing 500 videos:  96%|█████████▌| 481/500 [7:15:43<16:27, 51.95s/it]"
     ]
    },
    {
     "name": "stdout",
     "output_type": "stream",
     "text": [
      "C:\\Users\\mahes\\ML\\dataset\\data unziped\\dfdc_train_part_0\\eppyqpgewp.mp4\n",
      "C:\\Users\\mahes\\ML\\dataset\\data unziped\\dfdc_train_part_0\\eppyqpgewp.mp4\n",
      "C:\\Users\\mahes\\ML\\dataset\\data unziped\\dfdc_train_part_0\\eppyqpgewp.mp4\n",
      "C:\\Users\\mahes\\ML\\dataset\\data unziped\\dfdc_train_part_0\\eppyqpgewp.mp4\n",
      "C:\\Users\\mahes\\ML\\dataset\\data unziped\\dfdc_train_part_0\\eppyqpgewp.mp4\n",
      "C:\\Users\\mahes\\ML\\dataset\\data unziped\\dfdc_train_part_0\\eppyqpgewp.mp4\n",
      "C:\\Users\\mahes\\ML\\dataset\\data unziped\\dfdc_train_part_0\\eppyqpgewp.mp4\n",
      "C:\\Users\\mahes\\ML\\dataset\\data unziped\\dfdc_train_part_0\\eppyqpgewp.mp4\n",
      "C:\\Users\\mahes\\ML\\dataset\\data unziped\\dfdc_train_part_0\\eppyqpgewp.mp4\n",
      "C:\\Users\\mahes\\ML\\dataset\\data unziped\\dfdc_train_part_0\\eppyqpgewp.mp4\n"
     ]
    },
    {
     "name": "stderr",
     "output_type": "stream",
     "text": [
      "Processing 500 videos:  96%|█████████▋| 482/500 [7:16:36<15:40, 52.25s/it]"
     ]
    },
    {
     "name": "stdout",
     "output_type": "stream",
     "text": [
      "C:\\Users\\mahes\\ML\\dataset\\data unziped\\dfdc_train_part_0\\rnpefxwptv.mp4\n",
      "C:\\Users\\mahes\\ML\\dataset\\data unziped\\dfdc_train_part_0\\rnpefxwptv.mp4\n",
      "C:\\Users\\mahes\\ML\\dataset\\data unziped\\dfdc_train_part_0\\rnpefxwptv.mp4\n",
      "C:\\Users\\mahes\\ML\\dataset\\data unziped\\dfdc_train_part_0\\rnpefxwptv.mp4\n",
      "C:\\Users\\mahes\\ML\\dataset\\data unziped\\dfdc_train_part_0\\rnpefxwptv.mp4\n",
      "C:\\Users\\mahes\\ML\\dataset\\data unziped\\dfdc_train_part_0\\rnpefxwptv.mp4\n",
      "C:\\Users\\mahes\\ML\\dataset\\data unziped\\dfdc_train_part_0\\rnpefxwptv.mp4\n",
      "C:\\Users\\mahes\\ML\\dataset\\data unziped\\dfdc_train_part_0\\rnpefxwptv.mp4\n",
      "C:\\Users\\mahes\\ML\\dataset\\data unziped\\dfdc_train_part_0\\rnpefxwptv.mp4\n",
      "C:\\Users\\mahes\\ML\\dataset\\data unziped\\dfdc_train_part_0\\rnpefxwptv.mp4\n"
     ]
    },
    {
     "name": "stderr",
     "output_type": "stream",
     "text": [
      "Processing 500 videos:  97%|█████████▋| 483/500 [7:17:30<14:54, 52.63s/it]"
     ]
    },
    {
     "name": "stdout",
     "output_type": "stream",
     "text": [
      "C:\\Users\\mahes\\ML\\dataset\\data unziped\\dfdc_train_part_0\\gvasarkpfh.mp4\n",
      "C:\\Users\\mahes\\ML\\dataset\\data unziped\\dfdc_train_part_0\\gvasarkpfh.mp4\n",
      "C:\\Users\\mahes\\ML\\dataset\\data unziped\\dfdc_train_part_0\\gvasarkpfh.mp4\n",
      "C:\\Users\\mahes\\ML\\dataset\\data unziped\\dfdc_train_part_0\\gvasarkpfh.mp4\n",
      "C:\\Users\\mahes\\ML\\dataset\\data unziped\\dfdc_train_part_0\\gvasarkpfh.mp4\n",
      "C:\\Users\\mahes\\ML\\dataset\\data unziped\\dfdc_train_part_0\\gvasarkpfh.mp4\n",
      "C:\\Users\\mahes\\ML\\dataset\\data unziped\\dfdc_train_part_0\\gvasarkpfh.mp4\n",
      "C:\\Users\\mahes\\ML\\dataset\\data unziped\\dfdc_train_part_0\\gvasarkpfh.mp4\n",
      "C:\\Users\\mahes\\ML\\dataset\\data unziped\\dfdc_train_part_0\\gvasarkpfh.mp4\n",
      "C:\\Users\\mahes\\ML\\dataset\\data unziped\\dfdc_train_part_0\\gvasarkpfh.mp4\n"
     ]
    },
    {
     "name": "stderr",
     "output_type": "stream",
     "text": [
      "Processing 500 videos:  97%|█████████▋| 484/500 [7:18:20<13:50, 51.90s/it]"
     ]
    },
    {
     "name": "stdout",
     "output_type": "stream",
     "text": [
      "C:\\Users\\mahes\\ML\\dataset\\data unziped\\dfdc_train_part_0\\REAL\n",
      "C:\\Users\\mahes\\ML\\dataset\\data unziped\\dfdc_train_part_0\\REAL\n",
      "C:\\Users\\mahes\\ML\\dataset\\data unziped\\dfdc_train_part_0\\REAL\n",
      "C:\\Users\\mahes\\ML\\dataset\\data unziped\\dfdc_train_part_0\\REAL\n",
      "C:\\Users\\mahes\\ML\\dataset\\data unziped\\dfdc_train_part_0\\REAL\n",
      "C:\\Users\\mahes\\ML\\dataset\\data unziped\\dfdc_train_part_0\\REAL\n",
      "C:\\Users\\mahes\\ML\\dataset\\data unziped\\dfdc_train_part_0\\REAL\n",
      "C:\\Users\\mahes\\ML\\dataset\\data unziped\\dfdc_train_part_0\\REAL\n",
      "C:\\Users\\mahes\\ML\\dataset\\data unziped\\dfdc_train_part_0\\REAL\n",
      "C:\\Users\\mahes\\ML\\dataset\\data unziped\\dfdc_train_part_0\\REAL\n"
     ]
    },
    {
     "name": "stderr",
     "output_type": "stream",
     "text": [
      "Processing 500 videos:  97%|█████████▋| 485/500 [7:18:29<09:45, 39.03s/it]"
     ]
    },
    {
     "name": "stdout",
     "output_type": "stream",
     "text": [
      "C:\\Users\\mahes\\ML\\dataset\\data unziped\\dfdc_train_part_0\\sttnfyptum.mp4\n",
      "C:\\Users\\mahes\\ML\\dataset\\data unziped\\dfdc_train_part_0\\sttnfyptum.mp4\n",
      "C:\\Users\\mahes\\ML\\dataset\\data unziped\\dfdc_train_part_0\\sttnfyptum.mp4\n",
      "C:\\Users\\mahes\\ML\\dataset\\data unziped\\dfdc_train_part_0\\sttnfyptum.mp4\n",
      "C:\\Users\\mahes\\ML\\dataset\\data unziped\\dfdc_train_part_0\\sttnfyptum.mp4\n",
      "C:\\Users\\mahes\\ML\\dataset\\data unziped\\dfdc_train_part_0\\sttnfyptum.mp4\n",
      "C:\\Users\\mahes\\ML\\dataset\\data unziped\\dfdc_train_part_0\\sttnfyptum.mp4\n",
      "C:\\Users\\mahes\\ML\\dataset\\data unziped\\dfdc_train_part_0\\sttnfyptum.mp4\n",
      "C:\\Users\\mahes\\ML\\dataset\\data unziped\\dfdc_train_part_0\\sttnfyptum.mp4\n",
      "C:\\Users\\mahes\\ML\\dataset\\data unziped\\dfdc_train_part_0\\sttnfyptum.mp4\n"
     ]
    },
    {
     "name": "stderr",
     "output_type": "stream",
     "text": [
      "Processing 500 videos:  97%|█████████▋| 486/500 [7:19:26<10:23, 44.55s/it]"
     ]
    },
    {
     "name": "stdout",
     "output_type": "stream",
     "text": [
      "C:\\Users\\mahes\\ML\\dataset\\data unziped\\dfdc_train_part_0\\aayrffkzxn.mp4\n",
      "C:\\Users\\mahes\\ML\\dataset\\data unziped\\dfdc_train_part_0\\aayrffkzxn.mp4\n",
      "C:\\Users\\mahes\\ML\\dataset\\data unziped\\dfdc_train_part_0\\aayrffkzxn.mp4\n",
      "C:\\Users\\mahes\\ML\\dataset\\data unziped\\dfdc_train_part_0\\aayrffkzxn.mp4\n",
      "C:\\Users\\mahes\\ML\\dataset\\data unziped\\dfdc_train_part_0\\aayrffkzxn.mp4\n",
      "C:\\Users\\mahes\\ML\\dataset\\data unziped\\dfdc_train_part_0\\aayrffkzxn.mp4\n",
      "C:\\Users\\mahes\\ML\\dataset\\data unziped\\dfdc_train_part_0\\aayrffkzxn.mp4\n",
      "C:\\Users\\mahes\\ML\\dataset\\data unziped\\dfdc_train_part_0\\aayrffkzxn.mp4\n",
      "C:\\Users\\mahes\\ML\\dataset\\data unziped\\dfdc_train_part_0\\aayrffkzxn.mp4\n",
      "C:\\Users\\mahes\\ML\\dataset\\data unziped\\dfdc_train_part_0\\aayrffkzxn.mp4\n"
     ]
    },
    {
     "name": "stderr",
     "output_type": "stream",
     "text": [
      "Processing 500 videos:  97%|█████████▋| 487/500 [7:20:24<10:30, 48.52s/it]"
     ]
    },
    {
     "name": "stdout",
     "output_type": "stream",
     "text": [
      "C:\\Users\\mahes\\ML\\dataset\\data unziped\\dfdc_train_part_0\\wclvkepakb.mp4\n",
      "C:\\Users\\mahes\\ML\\dataset\\data unziped\\dfdc_train_part_0\\wclvkepakb.mp4\n",
      "C:\\Users\\mahes\\ML\\dataset\\data unziped\\dfdc_train_part_0\\wclvkepakb.mp4\n",
      "C:\\Users\\mahes\\ML\\dataset\\data unziped\\dfdc_train_part_0\\wclvkepakb.mp4\n",
      "C:\\Users\\mahes\\ML\\dataset\\data unziped\\dfdc_train_part_0\\wclvkepakb.mp4\n",
      "C:\\Users\\mahes\\ML\\dataset\\data unziped\\dfdc_train_part_0\\wclvkepakb.mp4\n",
      "C:\\Users\\mahes\\ML\\dataset\\data unziped\\dfdc_train_part_0\\wclvkepakb.mp4\n",
      "C:\\Users\\mahes\\ML\\dataset\\data unziped\\dfdc_train_part_0\\wclvkepakb.mp4\n",
      "C:\\Users\\mahes\\ML\\dataset\\data unziped\\dfdc_train_part_0\\wclvkepakb.mp4\n",
      "C:\\Users\\mahes\\ML\\dataset\\data unziped\\dfdc_train_part_0\\wclvkepakb.mp4\n"
     ]
    },
    {
     "name": "stderr",
     "output_type": "stream",
     "text": [
      "Processing 500 videos:  98%|█████████▊| 488/500 [7:21:11<09:35, 47.98s/it]"
     ]
    },
    {
     "name": "stdout",
     "output_type": "stream",
     "text": [
      "C:\\Users\\mahes\\ML\\dataset\\data unziped\\dfdc_train_part_0\\uqtqhiqymz.mp4\n",
      "C:\\Users\\mahes\\ML\\dataset\\data unziped\\dfdc_train_part_0\\uqtqhiqymz.mp4\n",
      "C:\\Users\\mahes\\ML\\dataset\\data unziped\\dfdc_train_part_0\\uqtqhiqymz.mp4\n",
      "C:\\Users\\mahes\\ML\\dataset\\data unziped\\dfdc_train_part_0\\uqtqhiqymz.mp4\n",
      "C:\\Users\\mahes\\ML\\dataset\\data unziped\\dfdc_train_part_0\\uqtqhiqymz.mp4\n",
      "C:\\Users\\mahes\\ML\\dataset\\data unziped\\dfdc_train_part_0\\uqtqhiqymz.mp4\n",
      "C:\\Users\\mahes\\ML\\dataset\\data unziped\\dfdc_train_part_0\\uqtqhiqymz.mp4\n",
      "C:\\Users\\mahes\\ML\\dataset\\data unziped\\dfdc_train_part_0\\uqtqhiqymz.mp4\n",
      "C:\\Users\\mahes\\ML\\dataset\\data unziped\\dfdc_train_part_0\\uqtqhiqymz.mp4\n",
      "C:\\Users\\mahes\\ML\\dataset\\data unziped\\dfdc_train_part_0\\uqtqhiqymz.mp4\n"
     ]
    },
    {
     "name": "stderr",
     "output_type": "stream",
     "text": [
      "Processing 500 videos:  98%|█████████▊| 489/500 [7:22:08<09:19, 50.83s/it]"
     ]
    },
    {
     "name": "stdout",
     "output_type": "stream",
     "text": [
      "C:\\Users\\mahes\\ML\\dataset\\data unziped\\dfdc_train_part_0\\wclvkepakb.mp4\n",
      "C:\\Users\\mahes\\ML\\dataset\\data unziped\\dfdc_train_part_0\\wclvkepakb.mp4\n",
      "C:\\Users\\mahes\\ML\\dataset\\data unziped\\dfdc_train_part_0\\wclvkepakb.mp4\n",
      "C:\\Users\\mahes\\ML\\dataset\\data unziped\\dfdc_train_part_0\\wclvkepakb.mp4\n",
      "C:\\Users\\mahes\\ML\\dataset\\data unziped\\dfdc_train_part_0\\wclvkepakb.mp4\n",
      "C:\\Users\\mahes\\ML\\dataset\\data unziped\\dfdc_train_part_0\\wclvkepakb.mp4\n",
      "C:\\Users\\mahes\\ML\\dataset\\data unziped\\dfdc_train_part_0\\wclvkepakb.mp4\n",
      "C:\\Users\\mahes\\ML\\dataset\\data unziped\\dfdc_train_part_0\\wclvkepakb.mp4\n",
      "C:\\Users\\mahes\\ML\\dataset\\data unziped\\dfdc_train_part_0\\wclvkepakb.mp4\n",
      "C:\\Users\\mahes\\ML\\dataset\\data unziped\\dfdc_train_part_0\\wclvkepakb.mp4\n"
     ]
    },
    {
     "name": "stderr",
     "output_type": "stream",
     "text": [
      "Processing 500 videos:  98%|█████████▊| 490/500 [7:22:56<08:18, 49.83s/it]"
     ]
    },
    {
     "name": "stdout",
     "output_type": "stream",
     "text": [
      "C:\\Users\\mahes\\ML\\dataset\\data unziped\\dfdc_train_part_0\\uprwuohbwx.mp4\n",
      "C:\\Users\\mahes\\ML\\dataset\\data unziped\\dfdc_train_part_0\\uprwuohbwx.mp4\n",
      "C:\\Users\\mahes\\ML\\dataset\\data unziped\\dfdc_train_part_0\\uprwuohbwx.mp4\n",
      "C:\\Users\\mahes\\ML\\dataset\\data unziped\\dfdc_train_part_0\\uprwuohbwx.mp4\n",
      "C:\\Users\\mahes\\ML\\dataset\\data unziped\\dfdc_train_part_0\\uprwuohbwx.mp4\n",
      "C:\\Users\\mahes\\ML\\dataset\\data unziped\\dfdc_train_part_0\\uprwuohbwx.mp4\n",
      "C:\\Users\\mahes\\ML\\dataset\\data unziped\\dfdc_train_part_0\\uprwuohbwx.mp4\n",
      "C:\\Users\\mahes\\ML\\dataset\\data unziped\\dfdc_train_part_0\\uprwuohbwx.mp4\n",
      "C:\\Users\\mahes\\ML\\dataset\\data unziped\\dfdc_train_part_0\\uprwuohbwx.mp4\n",
      "C:\\Users\\mahes\\ML\\dataset\\data unziped\\dfdc_train_part_0\\uprwuohbwx.mp4\n"
     ]
    },
    {
     "name": "stderr",
     "output_type": "stream",
     "text": [
      "Processing 500 videos:  98%|█████████▊| 491/500 [7:23:53<07:47, 51.91s/it]"
     ]
    },
    {
     "name": "stdout",
     "output_type": "stream",
     "text": [
      "C:\\Users\\mahes\\ML\\dataset\\data unziped\\dfdc_train_part_0\\sttnfyptum.mp4\n",
      "C:\\Users\\mahes\\ML\\dataset\\data unziped\\dfdc_train_part_0\\sttnfyptum.mp4\n",
      "C:\\Users\\mahes\\ML\\dataset\\data unziped\\dfdc_train_part_0\\sttnfyptum.mp4\n",
      "C:\\Users\\mahes\\ML\\dataset\\data unziped\\dfdc_train_part_0\\sttnfyptum.mp4\n",
      "C:\\Users\\mahes\\ML\\dataset\\data unziped\\dfdc_train_part_0\\sttnfyptum.mp4\n",
      "C:\\Users\\mahes\\ML\\dataset\\data unziped\\dfdc_train_part_0\\sttnfyptum.mp4\n",
      "C:\\Users\\mahes\\ML\\dataset\\data unziped\\dfdc_train_part_0\\sttnfyptum.mp4\n",
      "C:\\Users\\mahes\\ML\\dataset\\data unziped\\dfdc_train_part_0\\sttnfyptum.mp4\n",
      "C:\\Users\\mahes\\ML\\dataset\\data unziped\\dfdc_train_part_0\\sttnfyptum.mp4\n",
      "C:\\Users\\mahes\\ML\\dataset\\data unziped\\dfdc_train_part_0\\sttnfyptum.mp4\n"
     ]
    },
    {
     "name": "stderr",
     "output_type": "stream",
     "text": [
      "Processing 500 videos:  98%|█████████▊| 492/500 [7:24:49<07:05, 53.16s/it]"
     ]
    },
    {
     "name": "stdout",
     "output_type": "stream",
     "text": [
      "C:\\Users\\mahes\\ML\\dataset\\data unziped\\dfdc_train_part_0\\xkfliqnmwt.mp4\n",
      "C:\\Users\\mahes\\ML\\dataset\\data unziped\\dfdc_train_part_0\\xkfliqnmwt.mp4\n",
      "C:\\Users\\mahes\\ML\\dataset\\data unziped\\dfdc_train_part_0\\xkfliqnmwt.mp4\n",
      "C:\\Users\\mahes\\ML\\dataset\\data unziped\\dfdc_train_part_0\\xkfliqnmwt.mp4\n",
      "C:\\Users\\mahes\\ML\\dataset\\data unziped\\dfdc_train_part_0\\xkfliqnmwt.mp4\n",
      "C:\\Users\\mahes\\ML\\dataset\\data unziped\\dfdc_train_part_0\\xkfliqnmwt.mp4\n",
      "C:\\Users\\mahes\\ML\\dataset\\data unziped\\dfdc_train_part_0\\xkfliqnmwt.mp4\n",
      "C:\\Users\\mahes\\ML\\dataset\\data unziped\\dfdc_train_part_0\\xkfliqnmwt.mp4\n",
      "C:\\Users\\mahes\\ML\\dataset\\data unziped\\dfdc_train_part_0\\xkfliqnmwt.mp4\n",
      "C:\\Users\\mahes\\ML\\dataset\\data unziped\\dfdc_train_part_0\\xkfliqnmwt.mp4\n"
     ]
    },
    {
     "name": "stderr",
     "output_type": "stream",
     "text": [
      "Processing 500 videos:  99%|█████████▊| 493/500 [7:25:44<06:15, 53.69s/it]"
     ]
    },
    {
     "name": "stdout",
     "output_type": "stream",
     "text": [
      "C:\\Users\\mahes\\ML\\dataset\\data unziped\\dfdc_train_part_0\\fnslimfagb.mp4\n",
      "C:\\Users\\mahes\\ML\\dataset\\data unziped\\dfdc_train_part_0\\fnslimfagb.mp4\n",
      "C:\\Users\\mahes\\ML\\dataset\\data unziped\\dfdc_train_part_0\\fnslimfagb.mp4\n",
      "C:\\Users\\mahes\\ML\\dataset\\data unziped\\dfdc_train_part_0\\fnslimfagb.mp4\n",
      "C:\\Users\\mahes\\ML\\dataset\\data unziped\\dfdc_train_part_0\\fnslimfagb.mp4\n",
      "C:\\Users\\mahes\\ML\\dataset\\data unziped\\dfdc_train_part_0\\fnslimfagb.mp4\n",
      "C:\\Users\\mahes\\ML\\dataset\\data unziped\\dfdc_train_part_0\\fnslimfagb.mp4\n",
      "C:\\Users\\mahes\\ML\\dataset\\data unziped\\dfdc_train_part_0\\fnslimfagb.mp4\n",
      "C:\\Users\\mahes\\ML\\dataset\\data unziped\\dfdc_train_part_0\\fnslimfagb.mp4\n",
      "C:\\Users\\mahes\\ML\\dataset\\data unziped\\dfdc_train_part_0\\fnslimfagb.mp4\n"
     ]
    },
    {
     "name": "stderr",
     "output_type": "stream",
     "text": [
      "Processing 500 videos:  99%|█████████▉| 494/500 [7:26:40<05:27, 54.52s/it]"
     ]
    },
    {
     "name": "stdout",
     "output_type": "stream",
     "text": [
      "C:\\Users\\mahes\\ML\\dataset\\data unziped\\dfdc_train_part_0\\psjfwjzrrh.mp4\n",
      "C:\\Users\\mahes\\ML\\dataset\\data unziped\\dfdc_train_part_0\\psjfwjzrrh.mp4\n",
      "C:\\Users\\mahes\\ML\\dataset\\data unziped\\dfdc_train_part_0\\psjfwjzrrh.mp4\n",
      "C:\\Users\\mahes\\ML\\dataset\\data unziped\\dfdc_train_part_0\\psjfwjzrrh.mp4\n",
      "C:\\Users\\mahes\\ML\\dataset\\data unziped\\dfdc_train_part_0\\psjfwjzrrh.mp4\n",
      "C:\\Users\\mahes\\ML\\dataset\\data unziped\\dfdc_train_part_0\\psjfwjzrrh.mp4\n",
      "C:\\Users\\mahes\\ML\\dataset\\data unziped\\dfdc_train_part_0\\psjfwjzrrh.mp4\n",
      "C:\\Users\\mahes\\ML\\dataset\\data unziped\\dfdc_train_part_0\\psjfwjzrrh.mp4\n",
      "C:\\Users\\mahes\\ML\\dataset\\data unziped\\dfdc_train_part_0\\psjfwjzrrh.mp4\n",
      "C:\\Users\\mahes\\ML\\dataset\\data unziped\\dfdc_train_part_0\\psjfwjzrrh.mp4\n"
     ]
    },
    {
     "name": "stderr",
     "output_type": "stream",
     "text": [
      "Processing 500 videos:  99%|█████████▉| 495/500 [7:27:36<04:34, 54.88s/it]"
     ]
    },
    {
     "name": "stdout",
     "output_type": "stream",
     "text": [
      "C:\\Users\\mahes\\ML\\dataset\\data unziped\\dfdc_train_part_0\\vpmyeepbep.mp4\n",
      "C:\\Users\\mahes\\ML\\dataset\\data unziped\\dfdc_train_part_0\\vpmyeepbep.mp4\n",
      "C:\\Users\\mahes\\ML\\dataset\\data unziped\\dfdc_train_part_0\\vpmyeepbep.mp4\n",
      "C:\\Users\\mahes\\ML\\dataset\\data unziped\\dfdc_train_part_0\\vpmyeepbep.mp4\n",
      "C:\\Users\\mahes\\ML\\dataset\\data unziped\\dfdc_train_part_0\\vpmyeepbep.mp4\n",
      "C:\\Users\\mahes\\ML\\dataset\\data unziped\\dfdc_train_part_0\\vpmyeepbep.mp4\n",
      "C:\\Users\\mahes\\ML\\dataset\\data unziped\\dfdc_train_part_0\\vpmyeepbep.mp4\n",
      "C:\\Users\\mahes\\ML\\dataset\\data unziped\\dfdc_train_part_0\\vpmyeepbep.mp4\n",
      "C:\\Users\\mahes\\ML\\dataset\\data unziped\\dfdc_train_part_0\\vpmyeepbep.mp4\n",
      "C:\\Users\\mahes\\ML\\dataset\\data unziped\\dfdc_train_part_0\\vpmyeepbep.mp4\n"
     ]
    },
    {
     "name": "stderr",
     "output_type": "stream",
     "text": [
      "Processing 500 videos:  99%|█████████▉| 496/500 [7:28:24<03:31, 52.85s/it]"
     ]
    },
    {
     "name": "stdout",
     "output_type": "stream",
     "text": [
      "C:\\Users\\mahes\\ML\\dataset\\data unziped\\dfdc_train_part_0\\REAL\n",
      "C:\\Users\\mahes\\ML\\dataset\\data unziped\\dfdc_train_part_0\\REAL\n",
      "C:\\Users\\mahes\\ML\\dataset\\data unziped\\dfdc_train_part_0\\REAL\n",
      "C:\\Users\\mahes\\ML\\dataset\\data unziped\\dfdc_train_part_0\\REAL\n",
      "C:\\Users\\mahes\\ML\\dataset\\data unziped\\dfdc_train_part_0\\REAL\n",
      "C:\\Users\\mahes\\ML\\dataset\\data unziped\\dfdc_train_part_0\\REAL\n",
      "C:\\Users\\mahes\\ML\\dataset\\data unziped\\dfdc_train_part_0\\REAL\n",
      "C:\\Users\\mahes\\ML\\dataset\\data unziped\\dfdc_train_part_0\\REAL\n",
      "C:\\Users\\mahes\\ML\\dataset\\data unziped\\dfdc_train_part_0\\REAL\n",
      "C:\\Users\\mahes\\ML\\dataset\\data unziped\\dfdc_train_part_0\\REAL\n"
     ]
    },
    {
     "name": "stderr",
     "output_type": "stream",
     "text": [
      "Processing 500 videos:  99%|█████████▉| 497/500 [7:28:33<01:59, 39.79s/it]"
     ]
    },
    {
     "name": "stdout",
     "output_type": "stream",
     "text": [
      "C:\\Users\\mahes\\ML\\dataset\\data unziped\\dfdc_train_part_0\\exxqlfpnbz.mp4\n",
      "C:\\Users\\mahes\\ML\\dataset\\data unziped\\dfdc_train_part_0\\exxqlfpnbz.mp4\n",
      "C:\\Users\\mahes\\ML\\dataset\\data unziped\\dfdc_train_part_0\\exxqlfpnbz.mp4\n",
      "C:\\Users\\mahes\\ML\\dataset\\data unziped\\dfdc_train_part_0\\exxqlfpnbz.mp4\n",
      "C:\\Users\\mahes\\ML\\dataset\\data unziped\\dfdc_train_part_0\\exxqlfpnbz.mp4\n",
      "C:\\Users\\mahes\\ML\\dataset\\data unziped\\dfdc_train_part_0\\exxqlfpnbz.mp4\n",
      "C:\\Users\\mahes\\ML\\dataset\\data unziped\\dfdc_train_part_0\\exxqlfpnbz.mp4\n",
      "C:\\Users\\mahes\\ML\\dataset\\data unziped\\dfdc_train_part_0\\exxqlfpnbz.mp4\n",
      "C:\\Users\\mahes\\ML\\dataset\\data unziped\\dfdc_train_part_0\\exxqlfpnbz.mp4\n",
      "C:\\Users\\mahes\\ML\\dataset\\data unziped\\dfdc_train_part_0\\exxqlfpnbz.mp4\n"
     ]
    },
    {
     "name": "stderr",
     "output_type": "stream",
     "text": [
      "Processing 500 videos: 100%|█████████▉| 498/500 [7:29:23<01:25, 42.83s/it]"
     ]
    },
    {
     "name": "stdout",
     "output_type": "stream",
     "text": [
      "C:\\Users\\mahes\\ML\\dataset\\data unziped\\dfdc_train_part_0\\aayrffkzxn.mp4\n",
      "C:\\Users\\mahes\\ML\\dataset\\data unziped\\dfdc_train_part_0\\aayrffkzxn.mp4\n",
      "C:\\Users\\mahes\\ML\\dataset\\data unziped\\dfdc_train_part_0\\aayrffkzxn.mp4\n",
      "C:\\Users\\mahes\\ML\\dataset\\data unziped\\dfdc_train_part_0\\aayrffkzxn.mp4\n",
      "C:\\Users\\mahes\\ML\\dataset\\data unziped\\dfdc_train_part_0\\aayrffkzxn.mp4\n",
      "C:\\Users\\mahes\\ML\\dataset\\data unziped\\dfdc_train_part_0\\aayrffkzxn.mp4\n",
      "C:\\Users\\mahes\\ML\\dataset\\data unziped\\dfdc_train_part_0\\aayrffkzxn.mp4\n",
      "C:\\Users\\mahes\\ML\\dataset\\data unziped\\dfdc_train_part_0\\aayrffkzxn.mp4\n",
      "C:\\Users\\mahes\\ML\\dataset\\data unziped\\dfdc_train_part_0\\aayrffkzxn.mp4\n",
      "C:\\Users\\mahes\\ML\\dataset\\data unziped\\dfdc_train_part_0\\aayrffkzxn.mp4\n"
     ]
    },
    {
     "name": "stderr",
     "output_type": "stream",
     "text": [
      "Processing 500 videos: 100%|█████████▉| 499/500 [7:30:21<00:47, 47.50s/it]"
     ]
    },
    {
     "name": "stdout",
     "output_type": "stream",
     "text": [
      "C:\\Users\\mahes\\ML\\dataset\\data unziped\\dfdc_train_part_0\\hivnldfvyl.mp4\n",
      "C:\\Users\\mahes\\ML\\dataset\\data unziped\\dfdc_train_part_0\\hivnldfvyl.mp4\n",
      "C:\\Users\\mahes\\ML\\dataset\\data unziped\\dfdc_train_part_0\\hivnldfvyl.mp4\n",
      "C:\\Users\\mahes\\ML\\dataset\\data unziped\\dfdc_train_part_0\\hivnldfvyl.mp4\n",
      "C:\\Users\\mahes\\ML\\dataset\\data unziped\\dfdc_train_part_0\\hivnldfvyl.mp4\n",
      "C:\\Users\\mahes\\ML\\dataset\\data unziped\\dfdc_train_part_0\\hivnldfvyl.mp4\n",
      "C:\\Users\\mahes\\ML\\dataset\\data unziped\\dfdc_train_part_0\\hivnldfvyl.mp4\n",
      "C:\\Users\\mahes\\ML\\dataset\\data unziped\\dfdc_train_part_0\\hivnldfvyl.mp4\n",
      "C:\\Users\\mahes\\ML\\dataset\\data unziped\\dfdc_train_part_0\\hivnldfvyl.mp4\n",
      "C:\\Users\\mahes\\ML\\dataset\\data unziped\\dfdc_train_part_0\\hivnldfvyl.mp4\n"
     ]
    },
    {
     "name": "stderr",
     "output_type": "stream",
     "text": [
      "Processing 500 videos: 100%|█████████▉| 499/500 [7:31:15<00:54, 54.26s/it]"
     ]
    },
    {
     "name": "stdout",
     "output_type": "stream",
     "text": [
      "Saved the formatted CSV file to historic_performance_first_500_formatted_no_parallel.csv\n"
     ]
    },
    {
     "name": "stderr",
     "output_type": "stream",
     "text": [
      "\n"
     ]
    }
   ],
   "source": [
    "import json\n",
    "import os\n",
    "import pandas as pd\n",
    "from detectors import models as m  # Replace 'models' with the actual module name\n",
    "from tqdm import tqdm\n",
    "\n",
    "class Detector:\n",
    "    def __init__(self, video_path, true_label):\n",
    "        self.video_path = video_path\n",
    "        self.detectors = [\"model_84_acc_10_frames_final_data\", \"model_87_acc_20_frames_final_data\",\n",
    "                          \"model_89_acc_40_frames_final_data\", \"model_90_acc_20_frames_FF_data\",\n",
    "                          \"model_90_acc_60_frames_final_data\", \"model_93_acc_100_frames_celeb_FF_data\",\n",
    "                          \"model_95_acc_40_frames_FF_data\", \"model_97_acc_60_frames_FF_data\",\n",
    "                          \"model_97_acc_80_frames_FF_data\", \"model_97_acc_100_frames_FF_data\"]\n",
    "        self.true_label = true_label\n",
    "\n",
    "    def process_and_predict(self, detector):\n",
    "        # Assuming the actual function is called 'process_and_predict' in the 'm' module\n",
    "        return {\"detector\": detector, \"score\": m.process_and_predict(self.video_path, detector), \"true_label\": self.true_label}\n",
    "\n",
    "    def process_video(self):\n",
    "        results = {}\n",
    "        for detector in self.detectors:\n",
    "            result = self.process_and_predict(detector)\n",
    "            results[detector] = result[\"score\"]\n",
    "\n",
    "        # Add true label to the results\n",
    "        results[\"true_label\"] = self.true_label\n",
    "\n",
    "        return results\n",
    "\n",
    "def process_videos_with_metadata(metadata_path, videos_folder, num_videos=500, processed_videos=0):\n",
    "    with open(metadata_path, 'r') as metadata_file:\n",
    "        metadata = json.load(metadata_file)\n",
    "\n",
    "    dataset = []\n",
    "    total_videos = min(len(metadata) - processed_videos, num_videos)\n",
    "    current_processed_videos = 0\n",
    "\n",
    "    for video_filename, info in tqdm(metadata.items(), desc=f\"Processing {total_videos} videos\", total=total_videos):\n",
    "        if current_processed_videos < processed_videos:\n",
    "            current_processed_videos += 1\n",
    "            continue\n",
    "\n",
    "        video_filename = info.get(\"original\", info[\"label\"])\n",
    "        video_path = os.path.join(videos_folder, video_filename)\n",
    "        true_label = 1 if info[\"label\"] == \"FAKE\" else 0\n",
    "\n",
    "        d = Detector(video_path, true_label)\n",
    "        results = d.process_video()\n",
    "        dataset.append(results)\n",
    "\n",
    "        current_processed_videos += 1\n",
    "        if current_processed_videos >= total_videos:\n",
    "            break\n",
    "\n",
    "    return dataset\n",
    "\n",
    "# Example usage:\n",
    "metadata_path = r\"C:\\Users\\mahes\\ML\\dataset\\data unziped\\dfdc_train_part_0\\metadata.json\"\n",
    "videos_folder = r\"C:\\Users\\mahes\\ML\\dataset\\data unziped\\dfdc_train_part_0\"\n",
    "num_videos_to_process = 500\n",
    "processed_videos = 0  # Update this with the number of videos already processed\n",
    "historic_performance_first_500 = process_videos_with_metadata(metadata_path, videos_folder, num_videos=num_videos_to_process, processed_videos=processed_videos)\n",
    "\n",
    "# Convert the historic performance to a DataFrame for easy analysis\n",
    "df_first_500 = pd.DataFrame(historic_performance_first_500)\n",
    "\n",
    "# Save the DataFrame to a CSV file with the specified format\n",
    "output_file = \"historic_performance_first_500_formatted_no_parallel.csv\"\n",
    "df_first_500.to_csv(output_file, index=False, sep='\\t', float_format='%.2f')\n",
    "print(f\"Saved the formatted CSV file to {output_file}\")\n",
    " "
   ]
  },
  {
   "cell_type": "code",
   "execution_count": 5,
   "metadata": {},
   "outputs": [
    {
     "name": "stdout",
     "output_type": "stream",
     "text": [
      "Requirement already satisfied: tqdm in c:\\users\\mahes\\anaconda3\\envs\\tf3\\lib\\site-packages (4.66.1)\n",
      "Requirement already satisfied: colorama in c:\\users\\mahes\\anaconda3\\envs\\tf3\\lib\\site-packages (from tqdm) (0.4.6)\n"
     ]
    }
   ],
   "source": [
    "!pip install tqdm"
   ]
  }
 ],
 "metadata": {
  "kernelspec": {
   "display_name": "tf3",
   "language": "python",
   "name": "python3"
  },
  "language_info": {
   "codemirror_mode": {
    "name": "ipython",
    "version": 3
   },
   "file_extension": ".py",
   "mimetype": "text/x-python",
   "name": "python",
   "nbconvert_exporter": "python",
   "pygments_lexer": "ipython3",
   "version": "3.9.18"
  }
 },
 "nbformat": 4,
 "nbformat_minor": 2
}
